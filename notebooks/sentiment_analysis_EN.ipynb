{
 "cells": [
  {
   "cell_type": "markdown",
   "id": "experienced-shuttle",
   "metadata": {},
   "source": [
    "# C-More"
   ]
  },
  {
   "cell_type": "markdown",
   "id": "little-complaint",
   "metadata": {},
   "source": [
    "### 1. Process text for sentiment analysis"
   ]
  },
  {
   "cell_type": "code",
   "execution_count": 1,
   "id": "contrary-maria",
   "metadata": {},
   "outputs": [],
   "source": [
    "import json\n",
    "import pandas as pd\n",
    "\n",
    "import nltk\n",
    "from nltk import pos_tag\n",
    "from nltk.tokenize import TweetTokenizer\n",
    "from nltk.corpus import wordnet as wn\n",
    "from nltk.stem.wordnet import WordNetLemmatizer\n",
    "\n",
    "import spacy"
   ]
  },
  {
   "cell_type": "markdown",
   "id": "included-citation",
   "metadata": {},
   "source": [
    "#### 1.1. Load json data into a dataframe"
   ]
  },
  {
   "cell_type": "code",
   "execution_count": 2,
   "id": "neutral-portfolio",
   "metadata": {},
   "outputs": [],
   "source": [
    "list_json = []\n",
    "\n",
    "with open('tweet_json_1day.txt') as file:\n",
    "    for line in file:\n",
    "        data = json.loads(line)\n",
    "        list_json.append(data)\n",
    "\n",
    "df = pd.DataFrame(list_json, columns = ['id', 'text', 'lang', 'created_at', 'public_metrics'])"
   ]
  },
  {
   "cell_type": "markdown",
   "id": "alternative-train",
   "metadata": {},
   "source": [
    "#### 1.2. Select only tweets in English"
   ]
  },
  {
   "cell_type": "code",
   "execution_count": 3,
   "id": "numerical-curtis",
   "metadata": {},
   "outputs": [],
   "source": [
    "df_en = df[df['lang'] == 'en'].copy()"
   ]
  },
  {
   "cell_type": "code",
   "execution_count": 4,
   "id": "qualified-lincoln",
   "metadata": {},
   "outputs": [
    {
     "name": "stdout",
     "output_type": "stream",
     "text": [
      "<class 'pandas.core.frame.DataFrame'>\n",
      "Int64Index: 5377 entries, 0 to 7151\n",
      "Data columns (total 5 columns):\n",
      " #   Column          Non-Null Count  Dtype \n",
      "---  ------          --------------  ----- \n",
      " 0   id              5377 non-null   object\n",
      " 1   text            5377 non-null   object\n",
      " 2   lang            5377 non-null   object\n",
      " 3   created_at      5377 non-null   object\n",
      " 4   public_metrics  5377 non-null   object\n",
      "dtypes: object(5)\n",
      "memory usage: 252.0+ KB\n"
     ]
    }
   ],
   "source": [
    "df_en.info()"
   ]
  },
  {
   "cell_type": "code",
   "execution_count": 5,
   "id": "completed-respect",
   "metadata": {},
   "outputs": [],
   "source": [
    "columns_to_remove = ['lang', 'created_at', 'public_metrics']\n",
    "\n",
    "df_en.drop(columns_to_remove, axis=1, inplace=True)"
   ]
  },
  {
   "cell_type": "code",
   "execution_count": 6,
   "id": "numeric-hollywood",
   "metadata": {},
   "outputs": [
    {
     "data": {
      "text/html": [
       "<div>\n",
       "<style scoped>\n",
       "    .dataframe tbody tr th:only-of-type {\n",
       "        vertical-align: middle;\n",
       "    }\n",
       "\n",
       "    .dataframe tbody tr th {\n",
       "        vertical-align: top;\n",
       "    }\n",
       "\n",
       "    .dataframe thead th {\n",
       "        text-align: right;\n",
       "    }\n",
       "</style>\n",
       "<table border=\"1\" class=\"dataframe\">\n",
       "  <thead>\n",
       "    <tr style=\"text-align: right;\">\n",
       "      <th></th>\n",
       "      <th>id</th>\n",
       "      <th>text</th>\n",
       "    </tr>\n",
       "  </thead>\n",
       "  <tbody>\n",
       "    <tr>\n",
       "      <th>0</th>\n",
       "      <td>1539397722595377152</td>\n",
       "      <td>@trashevrythng @hardevrythng @McDonalds and th...</td>\n",
       "    </tr>\n",
       "    <tr>\n",
       "      <th>1</th>\n",
       "      <td>1539397657571074049</td>\n",
       "      <td>@trashevrythng @hardevrythng @McDonalds respec...</td>\n",
       "    </tr>\n",
       "    <tr>\n",
       "      <th>2</th>\n",
       "      <td>1539397645625458688</td>\n",
       "      <td>@PeePosh2 @Scottschlittenh @sceley2011 @Joe_Ma...</td>\n",
       "    </tr>\n",
       "    <tr>\n",
       "      <th>4</th>\n",
       "      <td>1539397571013115904</td>\n",
       "      <td>@auauwra too bad im sending 8 mcdonalds large ...</td>\n",
       "    </tr>\n",
       "    <tr>\n",
       "      <th>5</th>\n",
       "      <td>1539397434715082754</td>\n",
       "      <td>@_idkjia Last time I went to McDonalds.  lol  ...</td>\n",
       "    </tr>\n",
       "  </tbody>\n",
       "</table>\n",
       "</div>"
      ],
      "text/plain": [
       "                    id                                               text\n",
       "0  1539397722595377152  @trashevrythng @hardevrythng @McDonalds and th...\n",
       "1  1539397657571074049  @trashevrythng @hardevrythng @McDonalds respec...\n",
       "2  1539397645625458688  @PeePosh2 @Scottschlittenh @sceley2011 @Joe_Ma...\n",
       "4  1539397571013115904  @auauwra too bad im sending 8 mcdonalds large ...\n",
       "5  1539397434715082754  @_idkjia Last time I went to McDonalds.  lol  ..."
      ]
     },
     "execution_count": 6,
     "metadata": {},
     "output_type": "execute_result"
    }
   ],
   "source": [
    "df_en.head()"
   ]
  },
  {
   "cell_type": "markdown",
   "id": "personalized-bouquet",
   "metadata": {},
   "source": [
    "#### 1.3. Process text with NLTK"
   ]
  },
  {
   "cell_type": "markdown",
   "id": "entertaining-nursing",
   "metadata": {},
   "source": [
    "We are now processing our text for sentiment analysis. Our first approach will be to tokenize it and remove stop words."
   ]
  },
  {
   "cell_type": "code",
   "execution_count": 7,
   "id": "mighty-think",
   "metadata": {},
   "outputs": [],
   "source": [
    "# tokenization\n",
    "\n",
    "tweet_tokenizer = TweetTokenizer(reduce_len=True, strip_handles=True)\n",
    "# redule_len=True replaces repeated character sequences of length 3 or greater with sequences of length 3\n",
    "# examples: waaaaayyyy --> waaayyy\n",
    "# strip_handles=True removes Twitter handles (@xxxx...)"
   ]
  },
  {
   "cell_type": "code",
   "execution_count": 8,
   "id": "aware-evolution",
   "metadata": {},
   "outputs": [],
   "source": [
    "# stop words\n",
    "\n",
    "stopwords = set(nltk.corpus.stopwords.words('english'))"
   ]
  },
  {
   "cell_type": "code",
   "execution_count": 9,
   "id": "sophisticated-crime",
   "metadata": {},
   "outputs": [],
   "source": [
    "# remove stop words\n",
    "\n",
    "def remove_stop(tokens):\n",
    "    return [token for token in tokens if token not in stopwords]"
   ]
  },
  {
   "cell_type": "code",
   "execution_count": 10,
   "id": "clear-extra",
   "metadata": {},
   "outputs": [],
   "source": [
    "pipeline = [tweet_tokenizer.tokenize, remove_stop] # this will be our default pipeline\n",
    "# tokenizes text and removes stop words\n",
    "\n",
    "def process_text(text, pipeline):\n",
    "    tokens = text\n",
    "    for transform in pipeline:\n",
    "        tokens = transform(tokens)\n",
    "    return tokens"
   ]
  },
  {
   "cell_type": "code",
   "execution_count": 11,
   "id": "alert-movie",
   "metadata": {},
   "outputs": [],
   "source": [
    "df_nltk = df_en.copy()"
   ]
  },
  {
   "cell_type": "code",
   "execution_count": 12,
   "id": "threaded-holocaust",
   "metadata": {},
   "outputs": [
    {
     "name": "stdout",
     "output_type": "stream",
     "text": [
      "Wall time: 771 ms\n"
     ]
    }
   ],
   "source": [
    "%%time\n",
    "\n",
    "df_nltk['tokens'] = df_nltk['text'].apply(process_text, pipeline=pipeline)"
   ]
  },
  {
   "cell_type": "code",
   "execution_count": 13,
   "id": "accompanied-spare",
   "metadata": {},
   "outputs": [
    {
     "data": {
      "text/html": [
       "<div>\n",
       "<style scoped>\n",
       "    .dataframe tbody tr th:only-of-type {\n",
       "        vertical-align: middle;\n",
       "    }\n",
       "\n",
       "    .dataframe tbody tr th {\n",
       "        vertical-align: top;\n",
       "    }\n",
       "\n",
       "    .dataframe thead th {\n",
       "        text-align: right;\n",
       "    }\n",
       "</style>\n",
       "<table border=\"1\" class=\"dataframe\">\n",
       "  <thead>\n",
       "    <tr style=\"text-align: right;\">\n",
       "      <th></th>\n",
       "      <th>id</th>\n",
       "      <th>text</th>\n",
       "      <th>tokens</th>\n",
       "    </tr>\n",
       "  </thead>\n",
       "  <tbody>\n",
       "    <tr>\n",
       "      <th>0</th>\n",
       "      <td>1539397722595377152</td>\n",
       "      <td>@trashevrythng @hardevrythng @McDonalds and th...</td>\n",
       "      <td>[breakfast]</td>\n",
       "    </tr>\n",
       "    <tr>\n",
       "      <th>1</th>\n",
       "      <td>1539397657571074049</td>\n",
       "      <td>@trashevrythng @hardevrythng @McDonalds respec...</td>\n",
       "      <td>[respect, chicken, nuggets, crispy, chicken, s...</td>\n",
       "    </tr>\n",
       "    <tr>\n",
       "      <th>2</th>\n",
       "      <td>1539397645625458688</td>\n",
       "      <td>@PeePosh2 @Scottschlittenh @sceley2011 @Joe_Ma...</td>\n",
       "      <td>[All, right, I'm, tapping, save, sanity, ., Su...</td>\n",
       "    </tr>\n",
       "    <tr>\n",
       "      <th>4</th>\n",
       "      <td>1539397571013115904</td>\n",
       "      <td>@auauwra too bad im sending 8 mcdonalds large ...</td>\n",
       "      <td>[bad, im, sending, 8, mcdonalds, large, fries,...</td>\n",
       "    </tr>\n",
       "    <tr>\n",
       "      <th>5</th>\n",
       "      <td>1539397434715082754</td>\n",
       "      <td>@_idkjia Last time I went to McDonalds.  lol  ...</td>\n",
       "      <td>[Last, time, I, went, McDonalds, ., lol, https...</td>\n",
       "    </tr>\n",
       "    <tr>\n",
       "      <th>...</th>\n",
       "      <td>...</td>\n",
       "      <td>...</td>\n",
       "      <td>...</td>\n",
       "    </tr>\n",
       "    <tr>\n",
       "      <th>7146</th>\n",
       "      <td>1539035600451514375</td>\n",
       "      <td>if belos comes back we should just give him a ...</td>\n",
       "      <td>[belos, comes, back, give, mcdonalds, sprite]</td>\n",
       "    </tr>\n",
       "    <tr>\n",
       "      <th>7147</th>\n",
       "      <td>1539035573263863808</td>\n",
       "      <td>we were at mcdonalds and suddenly 4 school bus...</td>\n",
       "      <td>[mcdonalds, suddenly, 4, school, buses, filled...</td>\n",
       "    </tr>\n",
       "    <tr>\n",
       "      <th>7149</th>\n",
       "      <td>1539035538300207104</td>\n",
       "      <td>IM SORRY I TOLD U TO DRINK MCDONALDS SPRITE ht...</td>\n",
       "      <td>[IM, SORRY, I, TOLD, U, TO, DRINK, MCDONALDS, ...</td>\n",
       "    </tr>\n",
       "    <tr>\n",
       "      <th>7150</th>\n",
       "      <td>1539035499242864641</td>\n",
       "      <td>Tough times @McDonalds inflation is shrinking ...</td>\n",
       "      <td>[Tough, times, inflation, shrinking, large, fr...</td>\n",
       "    </tr>\n",
       "    <tr>\n",
       "      <th>7151</th>\n",
       "      <td>1539035475352211456</td>\n",
       "      <td>@McDonalds It's literally raw so I am not sure...</td>\n",
       "      <td>[It's, literally, raw, I, sure, shall]</td>\n",
       "    </tr>\n",
       "  </tbody>\n",
       "</table>\n",
       "<p>5377 rows × 3 columns</p>\n",
       "</div>"
      ],
      "text/plain": [
       "                       id                                               text  \\\n",
       "0     1539397722595377152  @trashevrythng @hardevrythng @McDonalds and th...   \n",
       "1     1539397657571074049  @trashevrythng @hardevrythng @McDonalds respec...   \n",
       "2     1539397645625458688  @PeePosh2 @Scottschlittenh @sceley2011 @Joe_Ma...   \n",
       "4     1539397571013115904  @auauwra too bad im sending 8 mcdonalds large ...   \n",
       "5     1539397434715082754  @_idkjia Last time I went to McDonalds.  lol  ...   \n",
       "...                   ...                                                ...   \n",
       "7146  1539035600451514375  if belos comes back we should just give him a ...   \n",
       "7147  1539035573263863808  we were at mcdonalds and suddenly 4 school bus...   \n",
       "7149  1539035538300207104  IM SORRY I TOLD U TO DRINK MCDONALDS SPRITE ht...   \n",
       "7150  1539035499242864641  Tough times @McDonalds inflation is shrinking ...   \n",
       "7151  1539035475352211456  @McDonalds It's literally raw so I am not sure...   \n",
       "\n",
       "                                                 tokens  \n",
       "0                                           [breakfast]  \n",
       "1     [respect, chicken, nuggets, crispy, chicken, s...  \n",
       "2     [All, right, I'm, tapping, save, sanity, ., Su...  \n",
       "4     [bad, im, sending, 8, mcdonalds, large, fries,...  \n",
       "5     [Last, time, I, went, McDonalds, ., lol, https...  \n",
       "...                                                 ...  \n",
       "7146      [belos, comes, back, give, mcdonalds, sprite]  \n",
       "7147  [mcdonalds, suddenly, 4, school, buses, filled...  \n",
       "7149  [IM, SORRY, I, TOLD, U, TO, DRINK, MCDONALDS, ...  \n",
       "7150  [Tough, times, inflation, shrinking, large, fr...  \n",
       "7151             [It's, literally, raw, I, sure, shall]  \n",
       "\n",
       "[5377 rows x 3 columns]"
      ]
     },
     "execution_count": 13,
     "metadata": {},
     "output_type": "execute_result"
    }
   ],
   "source": [
    "df_nltk"
   ]
  },
  {
   "cell_type": "markdown",
   "id": "extreme-democrat",
   "metadata": {},
   "source": [
    "Instead of using simple tokens, we can stem or lemmatize them. We will lemmatize them in our next approach. To do this, we need to have the part-of-speech tags for each token."
   ]
  },
  {
   "cell_type": "code",
   "execution_count": 14,
   "id": "welsh-hawaiian",
   "metadata": {},
   "outputs": [
    {
     "data": {
      "text/plain": [
       "'@bungoman @moothought @__justplaying @heavenbent11 @IgorBrigadir @huggingpuppy @flybottlemist @panchromaticity @temujin9 @Duderichy @jicapal @goblinodds @_brentbaum @scrmshw @OccultBoyscout @bogmeat @Knipps @OneEyedAlpaca @SoupOfToday @Acre108 @ObserverSuns @ZacharyHundley @_holyweather @anonynaut @magicianbrain @mimi10v3 @karnagraha @er1enney0ung @Lithros @parafactual @KrikkitMotel @__frye @eggprophet @pareinoia @TeddyRaccovelt @dancinghorse16 @storebrandguy @NLRG_ @irafeierabend @bloobsandnoods @RootOfUnity @VesselOfSpirit @MaskOfFace @ObjectOfObjects @CurlOfGradient @FingerOfHand @CauseOfProblem @ModelOfTheory @ReneeSolana @quotidiania Good morning to all you wonderful people. I just tried a new coffee from McDonalds and it is wonderful, just like you'"
      ]
     },
     "execution_count": 14,
     "metadata": {},
     "output_type": "execute_result"
    }
   ],
   "source": [
    "# select longest tweet for testing purposes\n",
    "\n",
    "test_text = sorted(df_en['text'], key=lambda x: len(x), reverse=True)[0]\n",
    "\n",
    "test_text"
   ]
  },
  {
   "cell_type": "code",
   "execution_count": 15,
   "id": "continuous-tennis",
   "metadata": {},
   "outputs": [
    {
     "data": {
      "text/plain": [
       "[('Good', 'JJ'),\n",
       " ('morning', 'NN'),\n",
       " ('to', 'TO'),\n",
       " ('all', 'DT'),\n",
       " ('you', 'PRP'),\n",
       " ('wonderful', 'JJ'),\n",
       " ('people', 'NNS'),\n",
       " ('.', '.'),\n",
       " ('I', 'PRP'),\n",
       " ('just', 'RB'),\n",
       " ('tried', 'VBD'),\n",
       " ('a', 'DT'),\n",
       " ('new', 'JJ'),\n",
       " ('coffee', 'NN'),\n",
       " ('from', 'IN'),\n",
       " ('McDonalds', 'NNP'),\n",
       " ('and', 'CC'),\n",
       " ('it', 'PRP'),\n",
       " ('is', 'VBZ'),\n",
       " ('wonderful', 'JJ'),\n",
       " (',', ','),\n",
       " ('just', 'RB'),\n",
       " ('like', 'IN'),\n",
       " ('you', 'PRP')]"
      ]
     },
     "execution_count": 15,
     "metadata": {},
     "output_type": "execute_result"
    }
   ],
   "source": [
    "pos_tag(tweet_tokenizer.tokenize(test_text))"
   ]
  },
  {
   "cell_type": "markdown",
   "id": "abstract-summer",
   "metadata": {},
   "source": [
    "Since our lemmatizer, `WordNetLemmatizer`, uses WordNet tags, we need to convert NLTK's default tags (Penn Treebank part-of-speech tags) to WordNet tags."
   ]
  },
  {
   "cell_type": "code",
   "execution_count": 16,
   "id": "canadian-accommodation",
   "metadata": {},
   "outputs": [
    {
     "name": "stdout",
     "output_type": "stream",
     "text": [
      "PRP: pronoun, personal\n",
      "    hers herself him himself hisself it itself me myself one oneself ours\n",
      "    ourselves ownself self she thee theirs them themselves they thou thy us\n"
     ]
    }
   ],
   "source": [
    "# check tags (example for PRP)\n",
    "\n",
    "nltk.help.upenn_tagset('PRP')"
   ]
  },
  {
   "cell_type": "code",
   "execution_count": 17,
   "id": "filled-hardwood",
   "metadata": {},
   "outputs": [],
   "source": [
    "def normalize(text, tokenizer=TweetTokenizer(reduce_len=True, strip_handles=True), lemmatizer=WordNetLemmatizer(), stop_words=stopwords):\n",
    "    '''\n",
    "    Normalizes review by removing stopwords and lemmatizing tokens.\n",
    "    '''\n",
    "    \n",
    "    def lemmatize(token, tag):\n",
    "        '''\n",
    "        Converts Penn Treebank part-of-speech tags (the default tag set in nltk.pos_tag)\n",
    "        to WordNet tags - defaults to wn.Noun if the first letter of the Penn Treebank pos tag\n",
    "        is neither 'N', 'V', 'R' or 'J'.\n",
    "        Returns lemmatized token.\n",
    "        '''        \n",
    "        wordnet_tag = {\n",
    "            'N': wn.NOUN, \n",
    "            'V': wn.VERB,\n",
    "            'R': wn.ADV,\n",
    "            'J': wn.ADJ\n",
    "        }.get(tag[0], wn.NOUN)\n",
    "        \n",
    "        return lemmatizer.lemmatize(token, wordnet_tag)\n",
    "    \n",
    "    return [lemmatize(token, tag)  \n",
    "            for (token, tag) in pos_tag(tokenizer.tokenize(text)) \n",
    "            if token not in stop_words]"
   ]
  },
  {
   "cell_type": "code",
   "execution_count": 18,
   "id": "visible-angola",
   "metadata": {},
   "outputs": [
    {
     "data": {
      "text/plain": [
       "['Good',\n",
       " 'morning',\n",
       " 'wonderful',\n",
       " 'people',\n",
       " '.',\n",
       " 'I',\n",
       " 'try',\n",
       " 'new',\n",
       " 'coffee',\n",
       " 'McDonalds',\n",
       " 'wonderful',\n",
       " ',',\n",
       " 'like']"
      ]
     },
     "execution_count": 18,
     "metadata": {},
     "output_type": "execute_result"
    }
   ],
   "source": [
    "normalize(test_text)"
   ]
  },
  {
   "cell_type": "code",
   "execution_count": 19,
   "id": "handled-martial",
   "metadata": {},
   "outputs": [
    {
     "name": "stdout",
     "output_type": "stream",
     "text": [
      "Wall time: 7.65 s\n"
     ]
    }
   ],
   "source": [
    "%%time\n",
    "\n",
    "df_nltk['lemmas'] = df_nltk['text'].apply(normalize)"
   ]
  },
  {
   "cell_type": "code",
   "execution_count": 20,
   "id": "worthy-moore",
   "metadata": {},
   "outputs": [
    {
     "data": {
      "text/html": [
       "<div>\n",
       "<style scoped>\n",
       "    .dataframe tbody tr th:only-of-type {\n",
       "        vertical-align: middle;\n",
       "    }\n",
       "\n",
       "    .dataframe tbody tr th {\n",
       "        vertical-align: top;\n",
       "    }\n",
       "\n",
       "    .dataframe thead th {\n",
       "        text-align: right;\n",
       "    }\n",
       "</style>\n",
       "<table border=\"1\" class=\"dataframe\">\n",
       "  <thead>\n",
       "    <tr style=\"text-align: right;\">\n",
       "      <th></th>\n",
       "      <th>id</th>\n",
       "      <th>text</th>\n",
       "      <th>tokens</th>\n",
       "      <th>lemmas</th>\n",
       "    </tr>\n",
       "  </thead>\n",
       "  <tbody>\n",
       "    <tr>\n",
       "      <th>0</th>\n",
       "      <td>1539397722595377152</td>\n",
       "      <td>@trashevrythng @hardevrythng @McDonalds and th...</td>\n",
       "      <td>[breakfast]</td>\n",
       "      <td>[breakfast]</td>\n",
       "    </tr>\n",
       "    <tr>\n",
       "      <th>1</th>\n",
       "      <td>1539397657571074049</td>\n",
       "      <td>@trashevrythng @hardevrythng @McDonalds respec...</td>\n",
       "      <td>[respect, chicken, nuggets, crispy, chicken, s...</td>\n",
       "      <td>[respect, chicken, nugget, crispy, chicken, sa...</td>\n",
       "    </tr>\n",
       "    <tr>\n",
       "      <th>2</th>\n",
       "      <td>1539397645625458688</td>\n",
       "      <td>@PeePosh2 @Scottschlittenh @sceley2011 @Joe_Ma...</td>\n",
       "      <td>[All, right, I'm, tapping, save, sanity, ., Su...</td>\n",
       "      <td>[All, right, I'm, tap, save, sanity, ., Summin...</td>\n",
       "    </tr>\n",
       "    <tr>\n",
       "      <th>4</th>\n",
       "      <td>1539397571013115904</td>\n",
       "      <td>@auauwra too bad im sending 8 mcdonalds large ...</td>\n",
       "      <td>[bad, im, sending, 8, mcdonalds, large, fries,...</td>\n",
       "      <td>[bad, im, send, 8, mcdonalds, large, fry, u, rn]</td>\n",
       "    </tr>\n",
       "    <tr>\n",
       "      <th>5</th>\n",
       "      <td>1539397434715082754</td>\n",
       "      <td>@_idkjia Last time I went to McDonalds.  lol  ...</td>\n",
       "      <td>[Last, time, I, went, McDonalds, ., lol, https...</td>\n",
       "      <td>[Last, time, I, go, McDonalds, ., lol, https:/...</td>\n",
       "    </tr>\n",
       "    <tr>\n",
       "      <th>...</th>\n",
       "      <td>...</td>\n",
       "      <td>...</td>\n",
       "      <td>...</td>\n",
       "      <td>...</td>\n",
       "    </tr>\n",
       "    <tr>\n",
       "      <th>7146</th>\n",
       "      <td>1539035600451514375</td>\n",
       "      <td>if belos comes back we should just give him a ...</td>\n",
       "      <td>[belos, comes, back, give, mcdonalds, sprite]</td>\n",
       "      <td>[belos, come, back, give, mcdonalds, sprite]</td>\n",
       "    </tr>\n",
       "    <tr>\n",
       "      <th>7147</th>\n",
       "      <td>1539035573263863808</td>\n",
       "      <td>we were at mcdonalds and suddenly 4 school bus...</td>\n",
       "      <td>[mcdonalds, suddenly, 4, school, buses, filled...</td>\n",
       "      <td>[mcdonalds, suddenly, 4, school, bus, fill, te...</td>\n",
       "    </tr>\n",
       "    <tr>\n",
       "      <th>7149</th>\n",
       "      <td>1539035538300207104</td>\n",
       "      <td>IM SORRY I TOLD U TO DRINK MCDONALDS SPRITE ht...</td>\n",
       "      <td>[IM, SORRY, I, TOLD, U, TO, DRINK, MCDONALDS, ...</td>\n",
       "      <td>[IM, SORRY, I, TOLD, U, TO, DRINK, MCDONALDS, ...</td>\n",
       "    </tr>\n",
       "    <tr>\n",
       "      <th>7150</th>\n",
       "      <td>1539035499242864641</td>\n",
       "      <td>Tough times @McDonalds inflation is shrinking ...</td>\n",
       "      <td>[Tough, times, inflation, shrinking, large, fr...</td>\n",
       "      <td>[Tough, time, inflation, shrink, large, fry, h...</td>\n",
       "    </tr>\n",
       "    <tr>\n",
       "      <th>7151</th>\n",
       "      <td>1539035475352211456</td>\n",
       "      <td>@McDonalds It's literally raw so I am not sure...</td>\n",
       "      <td>[It's, literally, raw, I, sure, shall]</td>\n",
       "      <td>[It's, literally, raw, I, sure, shall]</td>\n",
       "    </tr>\n",
       "  </tbody>\n",
       "</table>\n",
       "<p>5377 rows × 4 columns</p>\n",
       "</div>"
      ],
      "text/plain": [
       "                       id                                               text  \\\n",
       "0     1539397722595377152  @trashevrythng @hardevrythng @McDonalds and th...   \n",
       "1     1539397657571074049  @trashevrythng @hardevrythng @McDonalds respec...   \n",
       "2     1539397645625458688  @PeePosh2 @Scottschlittenh @sceley2011 @Joe_Ma...   \n",
       "4     1539397571013115904  @auauwra too bad im sending 8 mcdonalds large ...   \n",
       "5     1539397434715082754  @_idkjia Last time I went to McDonalds.  lol  ...   \n",
       "...                   ...                                                ...   \n",
       "7146  1539035600451514375  if belos comes back we should just give him a ...   \n",
       "7147  1539035573263863808  we were at mcdonalds and suddenly 4 school bus...   \n",
       "7149  1539035538300207104  IM SORRY I TOLD U TO DRINK MCDONALDS SPRITE ht...   \n",
       "7150  1539035499242864641  Tough times @McDonalds inflation is shrinking ...   \n",
       "7151  1539035475352211456  @McDonalds It's literally raw so I am not sure...   \n",
       "\n",
       "                                                 tokens  \\\n",
       "0                                           [breakfast]   \n",
       "1     [respect, chicken, nuggets, crispy, chicken, s...   \n",
       "2     [All, right, I'm, tapping, save, sanity, ., Su...   \n",
       "4     [bad, im, sending, 8, mcdonalds, large, fries,...   \n",
       "5     [Last, time, I, went, McDonalds, ., lol, https...   \n",
       "...                                                 ...   \n",
       "7146      [belos, comes, back, give, mcdonalds, sprite]   \n",
       "7147  [mcdonalds, suddenly, 4, school, buses, filled...   \n",
       "7149  [IM, SORRY, I, TOLD, U, TO, DRINK, MCDONALDS, ...   \n",
       "7150  [Tough, times, inflation, shrinking, large, fr...   \n",
       "7151             [It's, literally, raw, I, sure, shall]   \n",
       "\n",
       "                                                 lemmas  \n",
       "0                                           [breakfast]  \n",
       "1     [respect, chicken, nugget, crispy, chicken, sa...  \n",
       "2     [All, right, I'm, tap, save, sanity, ., Summin...  \n",
       "4      [bad, im, send, 8, mcdonalds, large, fry, u, rn]  \n",
       "5     [Last, time, I, go, McDonalds, ., lol, https:/...  \n",
       "...                                                 ...  \n",
       "7146       [belos, come, back, give, mcdonalds, sprite]  \n",
       "7147  [mcdonalds, suddenly, 4, school, bus, fill, te...  \n",
       "7149  [IM, SORRY, I, TOLD, U, TO, DRINK, MCDONALDS, ...  \n",
       "7150  [Tough, time, inflation, shrink, large, fry, h...  \n",
       "7151             [It's, literally, raw, I, sure, shall]  \n",
       "\n",
       "[5377 rows x 4 columns]"
      ]
     },
     "execution_count": 20,
     "metadata": {},
     "output_type": "execute_result"
    }
   ],
   "source": [
    "df_nltk"
   ]
  },
  {
   "cell_type": "markdown",
   "id": "comic-concrete",
   "metadata": {},
   "source": [
    "#### 1.4. Process text with spaCy"
   ]
  },
  {
   "cell_type": "code",
   "execution_count": 21,
   "id": "forbidden-clinic",
   "metadata": {},
   "outputs": [],
   "source": [
    "nlp = spacy.load('en_core_web_sm')"
   ]
  },
  {
   "cell_type": "code",
   "execution_count": 22,
   "id": "returning-speaker",
   "metadata": {},
   "outputs": [
    {
     "data": {
      "text/plain": [
       "[('tok2vec', <spacy.pipeline.tok2vec.Tok2Vec at 0x18ed507c4c0>),\n",
       " ('tagger', <spacy.pipeline.tagger.Tagger at 0x18ed507cc40>),\n",
       " ('parser', <spacy.pipeline.dep_parser.DependencyParser at 0x18ecd960270>),\n",
       " ('attribute_ruler',\n",
       "  <spacy.pipeline.attributeruler.AttributeRuler at 0x18ed5210c80>),\n",
       " ('lemmatizer', <spacy.lang.en.lemmatizer.EnglishLemmatizer at 0x18ed5210940>),\n",
       " ('ner', <spacy.pipeline.ner.EntityRecognizer at 0x18ecd960190>)]"
      ]
     },
     "execution_count": 22,
     "metadata": {},
     "output_type": "execute_result"
    }
   ],
   "source": [
    "nlp.pipeline"
   ]
  },
  {
   "cell_type": "markdown",
   "id": "wanted-simple",
   "metadata": {},
   "source": [
    "These are the default components of spaCy's pipeline.\n",
    "\n",
    "We can easily disable the components we are not interested in:"
   ]
  },
  {
   "cell_type": "code",
   "execution_count": 48,
   "id": "pending-laptop",
   "metadata": {},
   "outputs": [
    {
     "data": {
      "text/plain": [
       "[('tok2vec', <spacy.pipeline.tok2vec.Tok2Vec at 0x18ee292b7c0>),\n",
       " ('tagger', <spacy.pipeline.tagger.Tagger at 0x18ee0068ac0>),\n",
       " ('attribute_ruler',\n",
       "  <spacy.pipeline.attributeruler.AttributeRuler at 0x18edffc9800>),\n",
       " ('lemmatizer', <spacy.lang.en.lemmatizer.EnglishLemmatizer at 0x18edff8fac0>)]"
      ]
     },
     "execution_count": 48,
     "metadata": {},
     "output_type": "execute_result"
    }
   ],
   "source": [
    "nlp = spacy.load(\"en_core_web_sm\", disable=[\"parser\", \"ner\"])\n",
    "\n",
    "nlp.pipeline"
   ]
  },
  {
   "cell_type": "markdown",
   "id": "creative-indonesian",
   "metadata": {},
   "source": [
    "We will use the default components for now:"
   ]
  },
  {
   "cell_type": "code",
   "execution_count": 49,
   "id": "antique-august",
   "metadata": {},
   "outputs": [],
   "source": [
    "nlp = spacy.load('en_core_web_sm')"
   ]
  },
  {
   "cell_type": "code",
   "execution_count": 50,
   "id": "rational-demand",
   "metadata": {},
   "outputs": [],
   "source": [
    "doc = nlp(test_text)"
   ]
  },
  {
   "cell_type": "code",
   "execution_count": 51,
   "id": "uniform-preparation",
   "metadata": {},
   "outputs": [
    {
     "name": "stdout",
     "output_type": "stream",
     "text": [
      "Good|morning|to|all|you|wonderful|people|.|I|just|tried|a|new|coffee|from|McDonalds|and|it|is|wonderful|,|just|like|you|"
     ]
    }
   ],
   "source": [
    "# tokens\n",
    "\n",
    "for token in doc:\n",
    "    print(token.text, end=\"|\")"
   ]
  },
  {
   "cell_type": "markdown",
   "id": "heated-anxiety",
   "metadata": {},
   "source": [
    "SpaCy's default tokenizer does not recognize and exclude the Twitter handles. We can try to customise this at a later stage. For now, let's focus on the information we can easily get with spaCy."
   ]
  },
  {
   "cell_type": "code",
   "execution_count": 52,
   "id": "incorporate-attention",
   "metadata": {},
   "outputs": [],
   "source": [
    "test_text = \"Good morning to all you wonderful people. I just tried a new coffee from McDonalds and it is wonderful, just like you\"\n",
    "doc = nlp(test_text)"
   ]
  },
  {
   "cell_type": "code",
   "execution_count": 53,
   "id": "conditional-narrow",
   "metadata": {},
   "outputs": [
    {
     "name": "stdout",
     "output_type": "stream",
     "text": [
      "Good|morning|to|all|you|wonderful|people|.|I|just|tried|a|new|coffee|from|McDonalds|and|it|is|wonderful|,|just|like|you|"
     ]
    }
   ],
   "source": [
    "# tokens\n",
    "\n",
    "for token in doc:\n",
    "    print(token.text, end=\"|\")"
   ]
  },
  {
   "cell_type": "code",
   "execution_count": 54,
   "id": "radio-council",
   "metadata": {},
   "outputs": [
    {
     "name": "stdout",
     "output_type": "stream",
     "text": [
      "good|morning|to|all|you|wonderful|people|.|I|just|try|a|new|coffee|from|McDonalds|and|it|be|wonderful|,|just|like|you|"
     ]
    }
   ],
   "source": [
    "# lemmas\n",
    "\n",
    "for token in doc:\n",
    "    print(token.lemma_, end=\"|\")"
   ]
  },
  {
   "cell_type": "code",
   "execution_count": 55,
   "id": "olympic-olive",
   "metadata": {},
   "outputs": [
    {
     "name": "stdout",
     "output_type": "stream",
     "text": [
      "Good False|morning False|to True|all True|you True|wonderful False|people False|. False|I True|just True|tried False|a True|new False|coffee False|from True|McDonalds False|and True|it True|is True|wonderful False|, False|just True|like False|you True|"
     ]
    }
   ],
   "source": [
    "# is the token part of a “stop list”? \n",
    "\n",
    "for token in doc:\n",
    "    print(token.text, token.is_stop, end=\"|\")"
   ]
  },
  {
   "cell_type": "code",
   "execution_count": 56,
   "id": "vital-hours",
   "metadata": {},
   "outputs": [
    {
     "name": "stdout",
     "output_type": "stream",
     "text": [
      "Good True|morning True|to True|all True|you True|wonderful True|people True|. False|I True|just True|tried True|a True|new True|coffee True|from True|McDonalds True|and True|it True|is True|wonderful True|, False|just True|like True|you True|"
     ]
    }
   ],
   "source": [
    "# does the token consist of alphabetic characters?\n",
    "\n",
    "for token in doc:\n",
    "    print(token.text, token.is_alpha, end=\"|\")"
   ]
  },
  {
   "cell_type": "code",
   "execution_count": 57,
   "id": "dated-click",
   "metadata": {},
   "outputs": [
    {
     "name": "stdout",
     "output_type": "stream",
     "text": [
      "Good False|morning False|to False|all False|you False|wonderful False|people False|. True|I False|just False|tried False|a False|new False|coffee False|from False|McDonalds False|and False|it False|is False|wonderful False|, True|just False|like False|you False|"
     ]
    }
   ],
   "source": [
    "# is the token punctuation? \n",
    "\n",
    "for token in doc:\n",
    "    print(token.text, token.is_punct, end=\"|\")"
   ]
  },
  {
   "cell_type": "code",
   "execution_count": 58,
   "id": "appointed-desktop",
   "metadata": {},
   "outputs": [
    {
     "name": "stdout",
     "output_type": "stream",
     "text": [
      "Good ADJ|morning NOUN|to ADP|all PRON|you PRON|wonderful ADJ|people NOUN|. PUNCT|I PRON|just ADV|tried VERB|a DET|new ADJ|coffee NOUN|from ADP|McDonalds PROPN|and CCONJ|it PRON|is AUX|wonderful ADJ|, PUNCT|just ADV|like ADP|you PRON|"
     ]
    }
   ],
   "source": [
    "# part-of-speech\n",
    "\n",
    "for token in doc:\n",
    "    print(token.text, token.pos_, end=\"|\")"
   ]
  },
  {
   "cell_type": "code",
   "execution_count": 59,
   "id": "silver-semester",
   "metadata": {},
   "outputs": [
    {
     "name": "stdout",
     "output_type": "stream",
     "text": [
      "Good amod|morning npadvmod|to ROOT|all predet|you nmod|wonderful amod|people pobj|. punct|I nsubj|just advmod|tried ROOT|a det|new amod|coffee dobj|from prep|McDonalds pobj|and cc|it nsubj|is conj|wonderful acomp|, punct|just advmod|like prep|you pobj|"
     ]
    }
   ],
   "source": [
    "# syntactic dependency relation\n",
    "\n",
    "for token in doc:\n",
    "    print(token.text, token.dep_, end=\"|\")"
   ]
  },
  {
   "cell_type": "code",
   "execution_count": 60,
   "id": "greenhouse-glance",
   "metadata": {},
   "outputs": [
    {
     "name": "stdout",
     "output_type": "stream",
     "text": [
      "Good |morning TIME|to |all |you |wonderful |people |. |I |just |tried |a |new |coffee |from |McDonalds ORG|and |it |is |wonderful |, |just |like |you |"
     ]
    }
   ],
   "source": [
    "# named entity type\n",
    "\n",
    "for token in doc:\n",
    "    print(token.text, token.ent_type_, end=\"|\")"
   ]
  },
  {
   "cell_type": "code",
   "execution_count": 61,
   "id": "primary-president",
   "metadata": {},
   "outputs": [
    {
     "name": "stdout",
     "output_type": "stream",
     "text": [
      "Good 0|morning 1|to 2|all 3|you 4|wonderful 5|people 6|. 7|I 8|just 9|tried 10|a 11|new 12|coffee 13|from 14|McDonalds 15|and 16|it 17|is 18|wonderful 19|, 20|just 21|like 22|you 23|"
     ]
    }
   ],
   "source": [
    "# index of the token within the parent document\n",
    "\n",
    "for token in doc:\n",
    "    print(token.text, token.i, end=\"|\")"
   ]
  },
  {
   "cell_type": "markdown",
   "id": "addressed-mirror",
   "metadata": {},
   "source": [
    "For a complete list of token attributes, check https://spacy.io/api/token#attributes ."
   ]
  },
  {
   "cell_type": "code",
   "execution_count": 62,
   "id": "daily-beijing",
   "metadata": {},
   "outputs": [],
   "source": [
    "df_spacy = df_en.copy()"
   ]
  },
  {
   "cell_type": "code",
   "execution_count": 63,
   "id": "interested-completion",
   "metadata": {},
   "outputs": [],
   "source": [
    "# tokenize text\n",
    "\n",
    "def tokens(text):\n",
    "    doc = nlp(text)\n",
    "    return [tokens.text for tokens in doc]"
   ]
  },
  {
   "cell_type": "code",
   "execution_count": 64,
   "id": "divine-proposal",
   "metadata": {},
   "outputs": [
    {
     "name": "stdout",
     "output_type": "stream",
     "text": [
      "Wall time: 40.1 s\n"
     ]
    }
   ],
   "source": [
    "%%time\n",
    "\n",
    "# pipeline with all the components\n",
    "\n",
    "df_spacy['tokens'] = df_spacy['text'].map(tokens)"
   ]
  },
  {
   "cell_type": "code",
   "execution_count": 67,
   "id": "minus-story",
   "metadata": {},
   "outputs": [
    {
     "data": {
      "text/plain": [
       "[('tok2vec', <spacy.pipeline.tok2vec.Tok2Vec at 0x18ee006d460>),\n",
       " ('tagger', <spacy.pipeline.tagger.Tagger at 0x18ee006d160>),\n",
       " ('attribute_ruler',\n",
       "  <spacy.pipeline.attributeruler.AttributeRuler at 0x18edb1d7c00>),\n",
       " ('lemmatizer', <spacy.lang.en.lemmatizer.EnglishLemmatizer at 0x18edb1d9d80>)]"
      ]
     },
     "execution_count": 67,
     "metadata": {},
     "output_type": "execute_result"
    }
   ],
   "source": [
    "# disable the parser and ner components\n",
    "\n",
    "nlp = spacy.load(\"en_core_web_sm\", disable=[\"parser\", \"ner\"])\n",
    "\n",
    "nlp.pipeline"
   ]
  },
  {
   "cell_type": "code",
   "execution_count": 68,
   "id": "still-young",
   "metadata": {},
   "outputs": [
    {
     "name": "stdout",
     "output_type": "stream",
     "text": [
      "Wall time: 19.8 s\n"
     ]
    }
   ],
   "source": [
    "%%time\n",
    "\n",
    "# pipeline with disabled components\n",
    "\n",
    "df_spacy['tokens'] = df_spacy['text'].map(tokens)"
   ]
  },
  {
   "cell_type": "code",
   "execution_count": 69,
   "id": "loaded-google",
   "metadata": {},
   "outputs": [
    {
     "data": {
      "text/html": [
       "<div>\n",
       "<style scoped>\n",
       "    .dataframe tbody tr th:only-of-type {\n",
       "        vertical-align: middle;\n",
       "    }\n",
       "\n",
       "    .dataframe tbody tr th {\n",
       "        vertical-align: top;\n",
       "    }\n",
       "\n",
       "    .dataframe thead th {\n",
       "        text-align: right;\n",
       "    }\n",
       "</style>\n",
       "<table border=\"1\" class=\"dataframe\">\n",
       "  <thead>\n",
       "    <tr style=\"text-align: right;\">\n",
       "      <th></th>\n",
       "      <th>id</th>\n",
       "      <th>text</th>\n",
       "      <th>tokens</th>\n",
       "    </tr>\n",
       "  </thead>\n",
       "  <tbody>\n",
       "    <tr>\n",
       "      <th>0</th>\n",
       "      <td>1539397722595377152</td>\n",
       "      <td>@trashevrythng @hardevrythng @McDonalds and th...</td>\n",
       "      <td>[@trashevrythng, @hardevrythng, @McDonalds, an...</td>\n",
       "    </tr>\n",
       "    <tr>\n",
       "      <th>1</th>\n",
       "      <td>1539397657571074049</td>\n",
       "      <td>@trashevrythng @hardevrythng @McDonalds respec...</td>\n",
       "      <td>[@trashevrythng, @hardevrythng, @McDonalds, re...</td>\n",
       "    </tr>\n",
       "    <tr>\n",
       "      <th>2</th>\n",
       "      <td>1539397645625458688</td>\n",
       "      <td>@PeePosh2 @Scottschlittenh @sceley2011 @Joe_Ma...</td>\n",
       "      <td>[@PeePosh2, @Scottschlittenh, @sceley2011, @Jo...</td>\n",
       "    </tr>\n",
       "    <tr>\n",
       "      <th>4</th>\n",
       "      <td>1539397571013115904</td>\n",
       "      <td>@auauwra too bad im sending 8 mcdonalds large ...</td>\n",
       "      <td>[@auauwra, too, bad, i, m, sending, 8, mcdonal...</td>\n",
       "    </tr>\n",
       "    <tr>\n",
       "      <th>5</th>\n",
       "      <td>1539397434715082754</td>\n",
       "      <td>@_idkjia Last time I went to McDonalds.  lol  ...</td>\n",
       "      <td>[@_idkjia, Last, time, I, went, to, McDonalds,...</td>\n",
       "    </tr>\n",
       "    <tr>\n",
       "      <th>...</th>\n",
       "      <td>...</td>\n",
       "      <td>...</td>\n",
       "      <td>...</td>\n",
       "    </tr>\n",
       "    <tr>\n",
       "      <th>7146</th>\n",
       "      <td>1539035600451514375</td>\n",
       "      <td>if belos comes back we should just give him a ...</td>\n",
       "      <td>[if, belos, comes, back, we, should, just, giv...</td>\n",
       "    </tr>\n",
       "    <tr>\n",
       "      <th>7147</th>\n",
       "      <td>1539035573263863808</td>\n",
       "      <td>we were at mcdonalds and suddenly 4 school bus...</td>\n",
       "      <td>[we, were, at, mcdonalds, and, suddenly, 4, sc...</td>\n",
       "    </tr>\n",
       "    <tr>\n",
       "      <th>7149</th>\n",
       "      <td>1539035538300207104</td>\n",
       "      <td>IM SORRY I TOLD U TO DRINK MCDONALDS SPRITE ht...</td>\n",
       "      <td>[IM, SORRY, I, TOLD, U, TO, DRINK, MCDONALDS, ...</td>\n",
       "    </tr>\n",
       "    <tr>\n",
       "      <th>7150</th>\n",
       "      <td>1539035499242864641</td>\n",
       "      <td>Tough times @McDonalds inflation is shrinking ...</td>\n",
       "      <td>[Tough, times, @McDonalds, inflation, is, shri...</td>\n",
       "    </tr>\n",
       "    <tr>\n",
       "      <th>7151</th>\n",
       "      <td>1539035475352211456</td>\n",
       "      <td>@McDonalds It's literally raw so I am not sure...</td>\n",
       "      <td>[@McDonalds, It, 's, literally, raw, so, I, am...</td>\n",
       "    </tr>\n",
       "  </tbody>\n",
       "</table>\n",
       "<p>5377 rows × 3 columns</p>\n",
       "</div>"
      ],
      "text/plain": [
       "                       id                                               text  \\\n",
       "0     1539397722595377152  @trashevrythng @hardevrythng @McDonalds and th...   \n",
       "1     1539397657571074049  @trashevrythng @hardevrythng @McDonalds respec...   \n",
       "2     1539397645625458688  @PeePosh2 @Scottschlittenh @sceley2011 @Joe_Ma...   \n",
       "4     1539397571013115904  @auauwra too bad im sending 8 mcdonalds large ...   \n",
       "5     1539397434715082754  @_idkjia Last time I went to McDonalds.  lol  ...   \n",
       "...                   ...                                                ...   \n",
       "7146  1539035600451514375  if belos comes back we should just give him a ...   \n",
       "7147  1539035573263863808  we were at mcdonalds and suddenly 4 school bus...   \n",
       "7149  1539035538300207104  IM SORRY I TOLD U TO DRINK MCDONALDS SPRITE ht...   \n",
       "7150  1539035499242864641  Tough times @McDonalds inflation is shrinking ...   \n",
       "7151  1539035475352211456  @McDonalds It's literally raw so I am not sure...   \n",
       "\n",
       "                                                 tokens  \n",
       "0     [@trashevrythng, @hardevrythng, @McDonalds, an...  \n",
       "1     [@trashevrythng, @hardevrythng, @McDonalds, re...  \n",
       "2     [@PeePosh2, @Scottschlittenh, @sceley2011, @Jo...  \n",
       "4     [@auauwra, too, bad, i, m, sending, 8, mcdonal...  \n",
       "5     [@_idkjia, Last, time, I, went, to, McDonalds,...  \n",
       "...                                                 ...  \n",
       "7146  [if, belos, comes, back, we, should, just, giv...  \n",
       "7147  [we, were, at, mcdonalds, and, suddenly, 4, sc...  \n",
       "7149  [IM, SORRY, I, TOLD, U, TO, DRINK, MCDONALDS, ...  \n",
       "7150  [Tough, times, @McDonalds, inflation, is, shri...  \n",
       "7151  [@McDonalds, It, 's, literally, raw, so, I, am...  \n",
       "\n",
       "[5377 rows x 3 columns]"
      ]
     },
     "execution_count": 69,
     "metadata": {},
     "output_type": "execute_result"
    }
   ],
   "source": [
    "df_spacy"
   ]
  },
  {
   "cell_type": "code",
   "execution_count": 70,
   "id": "angry-brain",
   "metadata": {},
   "outputs": [],
   "source": [
    "# tokenize text and get lemmas\n",
    "\n",
    "def tokens_and_lemmas(text):\n",
    "    \n",
    "    doc = nlp(text)\n",
    "    \n",
    "    tokens = [tokens.text for tokens in doc]\n",
    "    \n",
    "    lemmas = [tokens.lemma_ for tokens in doc]\n",
    "    \n",
    "    return tokens, lemmas"
   ]
  },
  {
   "cell_type": "code",
   "execution_count": 71,
   "id": "hairy-martial",
   "metadata": {},
   "outputs": [
    {
     "name": "stdout",
     "output_type": "stream",
     "text": [
      "Wall time: 18.4 s\n"
     ]
    }
   ],
   "source": [
    "%%time\n",
    "\n",
    "df_spacy[['tokens', 'lemmas']] = df_spacy.apply(lambda row: tokens_and_lemmas(row['text']), axis='columns', result_type='expand')"
   ]
  },
  {
   "cell_type": "code",
   "execution_count": 72,
   "id": "sized-tracy",
   "metadata": {},
   "outputs": [
    {
     "data": {
      "text/html": [
       "<div>\n",
       "<style scoped>\n",
       "    .dataframe tbody tr th:only-of-type {\n",
       "        vertical-align: middle;\n",
       "    }\n",
       "\n",
       "    .dataframe tbody tr th {\n",
       "        vertical-align: top;\n",
       "    }\n",
       "\n",
       "    .dataframe thead th {\n",
       "        text-align: right;\n",
       "    }\n",
       "</style>\n",
       "<table border=\"1\" class=\"dataframe\">\n",
       "  <thead>\n",
       "    <tr style=\"text-align: right;\">\n",
       "      <th></th>\n",
       "      <th>id</th>\n",
       "      <th>text</th>\n",
       "      <th>tokens</th>\n",
       "      <th>lemmas</th>\n",
       "    </tr>\n",
       "  </thead>\n",
       "  <tbody>\n",
       "    <tr>\n",
       "      <th>0</th>\n",
       "      <td>1539397722595377152</td>\n",
       "      <td>@trashevrythng @hardevrythng @McDonalds and th...</td>\n",
       "      <td>[@trashevrythng, @hardevrythng, @McDonalds, an...</td>\n",
       "      <td>[@trashevrythng, @hardevrythng, @McDonalds, an...</td>\n",
       "    </tr>\n",
       "    <tr>\n",
       "      <th>1</th>\n",
       "      <td>1539397657571074049</td>\n",
       "      <td>@trashevrythng @hardevrythng @McDonalds respec...</td>\n",
       "      <td>[@trashevrythng, @hardevrythng, @McDonalds, re...</td>\n",
       "      <td>[@trashevrythng, @hardevrythng, @McDonalds, re...</td>\n",
       "    </tr>\n",
       "    <tr>\n",
       "      <th>2</th>\n",
       "      <td>1539397645625458688</td>\n",
       "      <td>@PeePosh2 @Scottschlittenh @sceley2011 @Joe_Ma...</td>\n",
       "      <td>[@PeePosh2, @Scottschlittenh, @sceley2011, @Jo...</td>\n",
       "      <td>[@PeePosh2, @Scottschlittenh, @sceley2011, @Jo...</td>\n",
       "    </tr>\n",
       "    <tr>\n",
       "      <th>4</th>\n",
       "      <td>1539397571013115904</td>\n",
       "      <td>@auauwra too bad im sending 8 mcdonalds large ...</td>\n",
       "      <td>[@auauwra, too, bad, i, m, sending, 8, mcdonal...</td>\n",
       "      <td>[@auauwra, too, bad, I, m, send, 8, mcdonald, ...</td>\n",
       "    </tr>\n",
       "    <tr>\n",
       "      <th>5</th>\n",
       "      <td>1539397434715082754</td>\n",
       "      <td>@_idkjia Last time I went to McDonalds.  lol  ...</td>\n",
       "      <td>[@_idkjia, Last, time, I, went, to, McDonalds,...</td>\n",
       "      <td>[@_idkjia, last, time, I, go, to, McDonalds, ....</td>\n",
       "    </tr>\n",
       "    <tr>\n",
       "      <th>...</th>\n",
       "      <td>...</td>\n",
       "      <td>...</td>\n",
       "      <td>...</td>\n",
       "      <td>...</td>\n",
       "    </tr>\n",
       "    <tr>\n",
       "      <th>7146</th>\n",
       "      <td>1539035600451514375</td>\n",
       "      <td>if belos comes back we should just give him a ...</td>\n",
       "      <td>[if, belos, comes, back, we, should, just, giv...</td>\n",
       "      <td>[if, belos, come, back, we, should, just, give...</td>\n",
       "    </tr>\n",
       "    <tr>\n",
       "      <th>7147</th>\n",
       "      <td>1539035573263863808</td>\n",
       "      <td>we were at mcdonalds and suddenly 4 school bus...</td>\n",
       "      <td>[we, were, at, mcdonalds, and, suddenly, 4, sc...</td>\n",
       "      <td>[we, be, at, mcdonald, and, suddenly, 4, schoo...</td>\n",
       "    </tr>\n",
       "    <tr>\n",
       "      <th>7149</th>\n",
       "      <td>1539035538300207104</td>\n",
       "      <td>IM SORRY I TOLD U TO DRINK MCDONALDS SPRITE ht...</td>\n",
       "      <td>[IM, SORRY, I, TOLD, U, TO, DRINK, MCDONALDS, ...</td>\n",
       "      <td>[IM, sorry, I, tell, u, to, DRINK, MCDONALDS, ...</td>\n",
       "    </tr>\n",
       "    <tr>\n",
       "      <th>7150</th>\n",
       "      <td>1539035499242864641</td>\n",
       "      <td>Tough times @McDonalds inflation is shrinking ...</td>\n",
       "      <td>[Tough, times, @McDonalds, inflation, is, shri...</td>\n",
       "      <td>[tough, time, @McDonalds, inflation, be, shrin...</td>\n",
       "    </tr>\n",
       "    <tr>\n",
       "      <th>7151</th>\n",
       "      <td>1539035475352211456</td>\n",
       "      <td>@McDonalds It's literally raw so I am not sure...</td>\n",
       "      <td>[@McDonalds, It, 's, literally, raw, so, I, am...</td>\n",
       "      <td>[@mcdonald, it, be, literally, raw, so, I, be,...</td>\n",
       "    </tr>\n",
       "  </tbody>\n",
       "</table>\n",
       "<p>5377 rows × 4 columns</p>\n",
       "</div>"
      ],
      "text/plain": [
       "                       id                                               text  \\\n",
       "0     1539397722595377152  @trashevrythng @hardevrythng @McDonalds and th...   \n",
       "1     1539397657571074049  @trashevrythng @hardevrythng @McDonalds respec...   \n",
       "2     1539397645625458688  @PeePosh2 @Scottschlittenh @sceley2011 @Joe_Ma...   \n",
       "4     1539397571013115904  @auauwra too bad im sending 8 mcdonalds large ...   \n",
       "5     1539397434715082754  @_idkjia Last time I went to McDonalds.  lol  ...   \n",
       "...                   ...                                                ...   \n",
       "7146  1539035600451514375  if belos comes back we should just give him a ...   \n",
       "7147  1539035573263863808  we were at mcdonalds and suddenly 4 school bus...   \n",
       "7149  1539035538300207104  IM SORRY I TOLD U TO DRINK MCDONALDS SPRITE ht...   \n",
       "7150  1539035499242864641  Tough times @McDonalds inflation is shrinking ...   \n",
       "7151  1539035475352211456  @McDonalds It's literally raw so I am not sure...   \n",
       "\n",
       "                                                 tokens  \\\n",
       "0     [@trashevrythng, @hardevrythng, @McDonalds, an...   \n",
       "1     [@trashevrythng, @hardevrythng, @McDonalds, re...   \n",
       "2     [@PeePosh2, @Scottschlittenh, @sceley2011, @Jo...   \n",
       "4     [@auauwra, too, bad, i, m, sending, 8, mcdonal...   \n",
       "5     [@_idkjia, Last, time, I, went, to, McDonalds,...   \n",
       "...                                                 ...   \n",
       "7146  [if, belos, comes, back, we, should, just, giv...   \n",
       "7147  [we, were, at, mcdonalds, and, suddenly, 4, sc...   \n",
       "7149  [IM, SORRY, I, TOLD, U, TO, DRINK, MCDONALDS, ...   \n",
       "7150  [Tough, times, @McDonalds, inflation, is, shri...   \n",
       "7151  [@McDonalds, It, 's, literally, raw, so, I, am...   \n",
       "\n",
       "                                                 lemmas  \n",
       "0     [@trashevrythng, @hardevrythng, @McDonalds, an...  \n",
       "1     [@trashevrythng, @hardevrythng, @McDonalds, re...  \n",
       "2     [@PeePosh2, @Scottschlittenh, @sceley2011, @Jo...  \n",
       "4     [@auauwra, too, bad, I, m, send, 8, mcdonald, ...  \n",
       "5     [@_idkjia, last, time, I, go, to, McDonalds, ....  \n",
       "...                                                 ...  \n",
       "7146  [if, belos, come, back, we, should, just, give...  \n",
       "7147  [we, be, at, mcdonald, and, suddenly, 4, schoo...  \n",
       "7149  [IM, sorry, I, tell, u, to, DRINK, MCDONALDS, ...  \n",
       "7150  [tough, time, @McDonalds, inflation, be, shrin...  \n",
       "7151  [@mcdonald, it, be, literally, raw, so, I, be,...  \n",
       "\n",
       "[5377 rows x 4 columns]"
      ]
     },
     "execution_count": 72,
     "metadata": {},
     "output_type": "execute_result"
    }
   ],
   "source": [
    "df_spacy"
   ]
  },
  {
   "cell_type": "markdown",
   "id": "returning-request",
   "metadata": {},
   "source": [
    "We have tested 2 ways of processing our text: NLTK and spaCy."
   ]
  },
  {
   "cell_type": "markdown",
   "id": "liquid-packet",
   "metadata": {},
   "source": [
    "We could now use the processed text to train a model for sentiment analysis if we had labelled data. Since we don't (at least for now), we will leave this supervised approach for later.\n",
    "\n",
    "We will now focus on a rule-based (or lexicon-based) approach."
   ]
  },
  {
   "cell_type": "markdown",
   "id": "raised-hopkins",
   "metadata": {},
   "source": [
    "### 2. Sentiment analysis"
   ]
  },
  {
   "cell_type": "code",
   "execution_count": 75,
   "id": "intimate-pakistan",
   "metadata": {},
   "outputs": [],
   "source": [
    "from nltk.sentiment.vader import SentimentIntensityAnalyzer"
   ]
  },
  {
   "cell_type": "markdown",
   "id": "unsigned-nurse",
   "metadata": {},
   "source": [
    "#### 2.1. VADER"
   ]
  },
  {
   "cell_type": "markdown",
   "id": "monetary-integration",
   "metadata": {},
   "source": [
    "VADER (Valence Aware Dictionary and sEntiment Reasoner) is a lexicon and rule-based sentiment analysis tool that is specifically **attuned to sentiments expressed in social media**, https://github.com/cjhutto/vaderSentiment#features-and-updates ."
   ]
  },
  {
   "cell_type": "markdown",
   "id": "industrial-twelve",
   "metadata": {},
   "source": [
    "We'll append 3 columns to our dataset:\n",
    "\n",
    "* scores with the polarity scores (negative, neutral, positive and compound)\n",
    "* compound with the extracted compound score\n",
    "* comp_label with the label derived from the compound score"
   ]
  },
  {
   "cell_type": "code",
   "execution_count": 74,
   "id": "periodic-nancy",
   "metadata": {},
   "outputs": [],
   "source": [
    "df_vader = df_en.copy()"
   ]
  },
  {
   "cell_type": "code",
   "execution_count": 76,
   "id": "spread-birthday",
   "metadata": {},
   "outputs": [],
   "source": [
    "sid = SentimentIntensityAnalyzer()"
   ]
  },
  {
   "cell_type": "code",
   "execution_count": 77,
   "id": "compatible-contact",
   "metadata": {},
   "outputs": [],
   "source": [
    "df_vader['scores'] = df_vader['text'].map(lambda tweet: sid.polarity_scores(tweet))\n",
    "\n",
    "df_vader['compound']  = df_vader['scores'].map(lambda score_dict: score_dict['compound'])\n",
    "\n",
    "df_vader['comp_label'] = df_vader['compound'].map(lambda comp: 'pos' if comp >=0.05 else ('neg' if comp<=-0.05 else 'neu'))"
   ]
  },
  {
   "cell_type": "code",
   "execution_count": 78,
   "id": "south-bunny",
   "metadata": {},
   "outputs": [
    {
     "data": {
      "text/html": [
       "<div>\n",
       "<style scoped>\n",
       "    .dataframe tbody tr th:only-of-type {\n",
       "        vertical-align: middle;\n",
       "    }\n",
       "\n",
       "    .dataframe tbody tr th {\n",
       "        vertical-align: top;\n",
       "    }\n",
       "\n",
       "    .dataframe thead th {\n",
       "        text-align: right;\n",
       "    }\n",
       "</style>\n",
       "<table border=\"1\" class=\"dataframe\">\n",
       "  <thead>\n",
       "    <tr style=\"text-align: right;\">\n",
       "      <th></th>\n",
       "      <th>id</th>\n",
       "      <th>text</th>\n",
       "      <th>scores</th>\n",
       "      <th>compound</th>\n",
       "      <th>comp_label</th>\n",
       "    </tr>\n",
       "  </thead>\n",
       "  <tbody>\n",
       "    <tr>\n",
       "      <th>0</th>\n",
       "      <td>1539397722595377152</td>\n",
       "      <td>@trashevrythng @hardevrythng @McDonalds and th...</td>\n",
       "      <td>{'neg': 0.0, 'neu': 1.0, 'pos': 0.0, 'compound...</td>\n",
       "      <td>0.0000</td>\n",
       "      <td>neu</td>\n",
       "    </tr>\n",
       "    <tr>\n",
       "      <th>1</th>\n",
       "      <td>1539397657571074049</td>\n",
       "      <td>@trashevrythng @hardevrythng @McDonalds respec...</td>\n",
       "      <td>{'neg': 0.0, 'neu': 0.763, 'pos': 0.237, 'comp...</td>\n",
       "      <td>0.4767</td>\n",
       "      <td>pos</td>\n",
       "    </tr>\n",
       "    <tr>\n",
       "      <th>2</th>\n",
       "      <td>1539397645625458688</td>\n",
       "      <td>@PeePosh2 @Scottschlittenh @sceley2011 @Joe_Ma...</td>\n",
       "      <td>{'neg': 0.028, 'neu': 0.932, 'pos': 0.04, 'com...</td>\n",
       "      <td>0.2500</td>\n",
       "      <td>pos</td>\n",
       "    </tr>\n",
       "    <tr>\n",
       "      <th>4</th>\n",
       "      <td>1539397571013115904</td>\n",
       "      <td>@auauwra too bad im sending 8 mcdonalds large ...</td>\n",
       "      <td>{'neg': 0.28, 'neu': 0.72, 'pos': 0.0, 'compou...</td>\n",
       "      <td>-0.5423</td>\n",
       "      <td>neg</td>\n",
       "    </tr>\n",
       "    <tr>\n",
       "      <th>5</th>\n",
       "      <td>1539397434715082754</td>\n",
       "      <td>@_idkjia Last time I went to McDonalds.  lol  ...</td>\n",
       "      <td>{'neg': 0.0, 'neu': 0.714, 'pos': 0.286, 'comp...</td>\n",
       "      <td>0.4215</td>\n",
       "      <td>pos</td>\n",
       "    </tr>\n",
       "    <tr>\n",
       "      <th>...</th>\n",
       "      <td>...</td>\n",
       "      <td>...</td>\n",
       "      <td>...</td>\n",
       "      <td>...</td>\n",
       "      <td>...</td>\n",
       "    </tr>\n",
       "    <tr>\n",
       "      <th>7146</th>\n",
       "      <td>1539035600451514375</td>\n",
       "      <td>if belos comes back we should just give him a ...</td>\n",
       "      <td>{'neg': 0.0, 'neu': 1.0, 'pos': 0.0, 'compound...</td>\n",
       "      <td>0.0000</td>\n",
       "      <td>neu</td>\n",
       "    </tr>\n",
       "    <tr>\n",
       "      <th>7147</th>\n",
       "      <td>1539035573263863808</td>\n",
       "      <td>we were at mcdonalds and suddenly 4 school bus...</td>\n",
       "      <td>{'neg': 0.0, 'neu': 1.0, 'pos': 0.0, 'compound...</td>\n",
       "      <td>0.0000</td>\n",
       "      <td>neu</td>\n",
       "    </tr>\n",
       "    <tr>\n",
       "      <th>7149</th>\n",
       "      <td>1539035538300207104</td>\n",
       "      <td>IM SORRY I TOLD U TO DRINK MCDONALDS SPRITE ht...</td>\n",
       "      <td>{'neg': 0.225, 'neu': 0.775, 'pos': 0.0, 'comp...</td>\n",
       "      <td>-0.2577</td>\n",
       "      <td>neg</td>\n",
       "    </tr>\n",
       "    <tr>\n",
       "      <th>7150</th>\n",
       "      <td>1539035499242864641</td>\n",
       "      <td>Tough times @McDonalds inflation is shrinking ...</td>\n",
       "      <td>{'neg': 0.13, 'neu': 0.87, 'pos': 0.0, 'compou...</td>\n",
       "      <td>-0.1280</td>\n",
       "      <td>neg</td>\n",
       "    </tr>\n",
       "    <tr>\n",
       "      <th>7151</th>\n",
       "      <td>1539035475352211456</td>\n",
       "      <td>@McDonalds It's literally raw so I am not sure...</td>\n",
       "      <td>{'neg': 0.118, 'neu': 0.882, 'pos': 0.0, 'comp...</td>\n",
       "      <td>-0.1563</td>\n",
       "      <td>neg</td>\n",
       "    </tr>\n",
       "  </tbody>\n",
       "</table>\n",
       "<p>5377 rows × 5 columns</p>\n",
       "</div>"
      ],
      "text/plain": [
       "                       id                                               text  \\\n",
       "0     1539397722595377152  @trashevrythng @hardevrythng @McDonalds and th...   \n",
       "1     1539397657571074049  @trashevrythng @hardevrythng @McDonalds respec...   \n",
       "2     1539397645625458688  @PeePosh2 @Scottschlittenh @sceley2011 @Joe_Ma...   \n",
       "4     1539397571013115904  @auauwra too bad im sending 8 mcdonalds large ...   \n",
       "5     1539397434715082754  @_idkjia Last time I went to McDonalds.  lol  ...   \n",
       "...                   ...                                                ...   \n",
       "7146  1539035600451514375  if belos comes back we should just give him a ...   \n",
       "7147  1539035573263863808  we were at mcdonalds and suddenly 4 school bus...   \n",
       "7149  1539035538300207104  IM SORRY I TOLD U TO DRINK MCDONALDS SPRITE ht...   \n",
       "7150  1539035499242864641  Tough times @McDonalds inflation is shrinking ...   \n",
       "7151  1539035475352211456  @McDonalds It's literally raw so I am not sure...   \n",
       "\n",
       "                                                 scores  compound comp_label  \n",
       "0     {'neg': 0.0, 'neu': 1.0, 'pos': 0.0, 'compound...    0.0000        neu  \n",
       "1     {'neg': 0.0, 'neu': 0.763, 'pos': 0.237, 'comp...    0.4767        pos  \n",
       "2     {'neg': 0.028, 'neu': 0.932, 'pos': 0.04, 'com...    0.2500        pos  \n",
       "4     {'neg': 0.28, 'neu': 0.72, 'pos': 0.0, 'compou...   -0.5423        neg  \n",
       "5     {'neg': 0.0, 'neu': 0.714, 'pos': 0.286, 'comp...    0.4215        pos  \n",
       "...                                                 ...       ...        ...  \n",
       "7146  {'neg': 0.0, 'neu': 1.0, 'pos': 0.0, 'compound...    0.0000        neu  \n",
       "7147  {'neg': 0.0, 'neu': 1.0, 'pos': 0.0, 'compound...    0.0000        neu  \n",
       "7149  {'neg': 0.225, 'neu': 0.775, 'pos': 0.0, 'comp...   -0.2577        neg  \n",
       "7150  {'neg': 0.13, 'neu': 0.87, 'pos': 0.0, 'compou...   -0.1280        neg  \n",
       "7151  {'neg': 0.118, 'neu': 0.882, 'pos': 0.0, 'comp...   -0.1563        neg  \n",
       "\n",
       "[5377 rows x 5 columns]"
      ]
     },
     "execution_count": 78,
     "metadata": {},
     "output_type": "execute_result"
    }
   ],
   "source": [
    "df_vader"
   ]
  },
  {
   "cell_type": "code",
   "execution_count": 87,
   "id": "secondary-spell",
   "metadata": {},
   "outputs": [
    {
     "name": "stdout",
     "output_type": "stream",
     "text": [
      "[['@trashevrythng @hardevrythng @McDonalds and the breakfast' 'neu']\n",
      " ['@trashevrythng @hardevrythng @McDonalds respect chicken nuggets and crispy chicken sandwich nigga'\n",
      "  'pos']\n",
      " [\"@PeePosh2 @Scottschlittenh @sceley2011 @Joe_Maya @stargatesg201 @tucsongirl1 @BD97 @NotRichHerrera @koby_thiel @gabeintucson9 @doublez_e @EricDTownsend @ironmikeluke @Free_Lantz @Ben1White @AZJanCR @BearDown_Ray @chango2213 @MaxKIIMFM @jasonscheer @MatthewRandle @KG7MAJ @MPShrike @Chad_Mcdonalds @thestevenwoods @CumulusNetworks @David_AZJourno @TrajanWealth @RBIrich @KIIM995 @_boog1 @JustinESports @FRomeroAstros @ESPNTucson @PHNX_Wildcats @JoeHealey42 @WaffleHouse All right I'm tapping out to save my sanity. \\n\\nSumming up the first 2 hours:\\n\\nColorado Buffaloes 🐃 talk yawn.\\nTopCat bracket filler.\\nNo phone calls.\\n\\nYou are all gemstones for reading this thread.\\n\\nWe made it ... together 🤲 ❤️. https://t.co/F8jWl62vYB\"\n",
      "  'pos']\n",
      " ['@auauwra too bad im sending 8 mcdonalds large fries to u rn' 'neg']\n",
      " ['@_idkjia Last time I went to McDonalds.  lol   https://t.co/4pCkeW0PhH'\n",
      "  'pos']\n",
      " [\"@McDonalds I'd rather eat my toes\" 'neu']\n",
      " [\"@stillgray I don't eat at McDonalds...the food is crap\" 'neg']\n",
      " [\"@thisyou1017 @BastardJolly @stillgray I've had a number of cases where a fast food place got my order wrong.  I have NEVER reacted violently.  The last time McDonalds got my order wrong, I got two free meals out of it.  The one they had to remake when I called for the manager, who remade my meal herself.\"\n",
      "  'pos']\n",
      " [\"@Chantel_Bx0 @profamirattaran @McDonalds I worked my way thru college also. Always worked in Restaurants; there was a guarantee of food. 🙂\\n\\nI know tons of people who work harder to keep their head afloat.\\n\\n2020 saw the largest wealth transfer in history and it isnt coming our way.\\n\\nTrudeau's Canada sucks balls.\"\n",
      "  'pos']\n",
      " ['@darth Hypothesis proven!\\n\\nTuesday, 11 Jan 2022: McDonald’s bans large and medium fries in Japan: \\n\\nhttps://t.co/Pa66iHiHS5'\n",
      "  'neu']\n",
      " ['@dolce65023071 McDonalds....🤮' 'neu']\n",
      " ['@ysrated @McDonalds ask for two and give one to me &lt;3' 'neu']\n",
      " ['30 Day experiment &amp; Body Recomposition just eating @McDonalds \\n\\nDone &amp; Done.\\n\\nI suggested we could do it.\\n\\nDay 31, we pulled the DEXA\\nWaiting for blood work, results\\n\\nHe killed it in execution and my prescription apparently nailed it.\\n\\nThe DEXA scan is impressive🤩\\n\\nSharing soon'\n",
      "  'neg']\n",
      " ['@happytwtdni @McDonalds maybe i’ll get a free mcflurry' 'pos']\n",
      " ['@McDonalds No one wants battery acid any size' 'neg']\n",
      " ['@CalBeach @McDonalds They are trying to be \"hip\" and fit in.' 'pos']\n",
      " [\"@PeePosh2 @Scottschlittenh @sceley2011 @Joe_Maya @stargatesg201 @tucsongirl1 @BD97 @NotRichHerrera @koby_thiel @gabeintucson9 @doublez_e @EricDTownsend @ironmikeluke @Free_Lantz @Ben1White @AZJanCR @BearDown_Ray @chango2213 @MaxKIIMFM @jasonscheer @MatthewRandle @KG7MAJ @MPShrike @Chad_Mcdonalds @thestevenwoods @CumulusNetworks @David_AZJourno @TrajanWealth @RBIrich @KIIM995 @_boog1 @JustinESports @FRomeroAstros @ESPNTucson @PHNX_Wildcats @JoeHealey42 @WaffleHouse To be a true Tucsonon or part of Rich's tribe you must wear Arizona gear.\\n\\nNot one phone call so far.\\n\\nTime for Thor to tweet (commercial break)\"\n",
      "  'pos']\n",
      " ['@MadisonJune7 His little mcdonalds merch pillow cracks me up every time'\n",
      "  'neu']\n",
      " ['Spicy Soda Solstice: McDonald’s Celebrates First Day Of Summer With FREE\\xa0Sprite https://t.co/zUgY2wTmKx'\n",
      "  'pos']\n",
      " ['Spicy Soda Solstice: McDonald’s Celebrates First Day Of Summer With FREE Sprite https://t.co/otEM7TEYKL'\n",
      "  'pos']]\n"
     ]
    }
   ],
   "source": [
    "print(df_vader[['text', 'comp_label']][0:20].values)"
   ]
  },
  {
   "cell_type": "markdown",
   "id": "greater-survivor",
   "metadata": {},
   "source": [
    "On a quick inspection, Vader seems to be working fairly well with our tweets.\n",
    "\n",
    "We defined a threshold of 0.05 for positive sentiment and -0.05 for negative sentiment. We can also change this to better fit our needs."
   ]
  },
  {
   "cell_type": "markdown",
   "id": "concrete-leone",
   "metadata": {},
   "source": [
    "Our compound values can range from -1 (most extreme negative) and +1 (most extreme positive). With this is mind, we can explore our results a little bit further."
   ]
  },
  {
   "cell_type": "code",
   "execution_count": 90,
   "id": "ranking-violence",
   "metadata": {},
   "outputs": [
    {
     "data": {
      "text/plain": [
       "pos    2126\n",
       "neu    1931\n",
       "neg    1320\n",
       "Name: comp_label, dtype: int64"
      ]
     },
     "execution_count": 90,
     "metadata": {},
     "output_type": "execute_result"
    }
   ],
   "source": [
    "# number of positive, neutral and negative comments\n",
    "\n",
    "df_vader['comp_label'].value_counts()"
   ]
  },
  {
   "cell_type": "code",
   "execution_count": 93,
   "id": "polished-dealer",
   "metadata": {},
   "outputs": [
    {
     "data": {
      "text/plain": [
       "pos    0.40\n",
       "neu    0.36\n",
       "neg    0.25\n",
       "Name: comp_label, dtype: float64"
      ]
     },
     "execution_count": 93,
     "metadata": {},
     "output_type": "execute_result"
    }
   ],
   "source": [
    "# % of positive, neutral and negative comments\n",
    "\n",
    "(df_vader['comp_label'].value_counts()/len(df_vader)).round(2)"
   ]
  },
  {
   "cell_type": "code",
   "execution_count": 108,
   "id": "tender-alarm",
   "metadata": {},
   "outputs": [
    {
     "name": "stdout",
     "output_type": "stream",
     "text": [
      "['Spicy Soda Solstice: McDonald’s Celebrates First Day Of Summer With FREE\\xa0Sprite https://t.co/zUgY2wTmKx'\n",
      " 'Spicy Soda Solstice: McDonald’s Celebrates First Day Of Summer With FREE Sprite https://t.co/otEM7TEYKL'\n",
      " '@MuuInuOfficial @McDonalds The McMuu Burger three all beef patties, special Muu sauce, triple cheese, onions and a hash brown.  The value meal comes with a Muu muu thickshake.  People will love this and can build a strong association with @MuuInuOfficial https://t.co/cGIvexAgLu'\n",
      " '@PeePosh2 @Scottschlittenh @sceley2011 @Joe_Maya @stargatesg201 @tucsongirl1 @BD97 @NotRichHerrera @koby_thiel @gabeintucson9 @doublez_e @EricDTownsend @ironmikeluke @Free_Lantz @Ben1White @AZJanCR @BearDown_Ray @chango2213 @MaxKIIMFM @jasonscheer @MatthewRandle @KG7MAJ @MPShrike @Chad_Mcdonalds @thestevenwoods @CumulusNetworks @David_AZJourno @TrajanWealth @RBIrich @KIIM995 @_boog1 @JustinESports @FRomeroAstros @ESPNTucson @PHNX_Wildcats @JoeHealey42 @WaffleHouse Rich is offended by retirees in OV wearing shirts from universities they attended ?\\n\\nRich wants old people to be bandwagon fans ?\\n\\nWhat is this ?'\n",
      " 'Another classy and upstanding citizen celebrating Juneteenth. @arad510 @prg215 #MBM @McDonalds burgers matter https://t.co/gykRglIghS'\n",
      " '@JomboyPalestine @McDonalds So excited for this! Hope my guys are hungry https://t.co/cM63zVupVi'\n",
      " '@PeePosh2 @Scottschlittenh @sceley2011 @Joe_Maya @stargatesg201 @tucsongirl1 @BD97 @NotRichHerrera @koby_thiel @gabeintucson9 @doublez_e @EricDTownsend @ironmikeluke @Free_Lantz @Ben1White @AZJanCR @BearDown_Ray @chango2213 @MaxKIIMFM @jasonscheer @MatthewRandle @KG7MAJ @MPShrike @Chad_Mcdonalds @thestevenwoods @CumulusNetworks @David_AZJourno @TrajanWealth @RBIrich @KIIM995 @_boog1 @JustinESports @FRomeroAstros @ESPNTucson @PHNX_Wildcats @JoeHealey42 Rich is craving @WaffleHouse ... FFS Rich we are fat shaming you to save your life.'\n",
      " 'i swear lil kids will love you the hardest if you just buy them sweets &amp; mcdonalds whenever they want🤣'\n",
      " '@Rothmus Honestly, it think people would be better off if we brought manufacturing back to the US and let jobs like this go to self-serve/robots. At least people could be proud of the work they do in a factory. Nobody is proud of a McDonalds burger.'\n",
      " \"@McDonalds I'll take some #MuuInu with my happy meal!!! Let's have a big Mac and a double quarter pounder cheese.. super size it please. https://t.co/1TEvqpXbsK\"\n",
      " 'Nothing more American than a fight in a McDonald’s over a Toy Story 3 Happy Meal, as we come up on our great nation’s 4th of July celebration of independence. Really brings a tear to a patriotic eye. 😢 🇺🇸 \\n\\n#McDonalds #fight #mcdonaldsfight #July4th #USA #IndependenceDay https://t.co/pr6R8HrzRX'\n",
      " \"CONGRATULATIONS @Nadeshot &amp; @HaleyHey_!!!\\n\\nFrom a young man working in McDonalds, to a Call of Duty LEGEND, to running one of the biggest esports organisations in the world... but this is your biggest achievement yet.\\n\\nI've got a great idea for your best man too... @scump ;) https://t.co/eFtiSRw1FZ\"\n",
      " '@MistaKP1 @McDonalds Congrats!! You win the award for worst possible music to appear on Twitter!!!'\n",
      " \"McDonald's Celebrates First Day Of Summer With Free Sprite \\n\\nSo spicyyyy\\nMcDonald’s is celebrating the Summer Solstice (official first day of summer) by offering customers a FREE (spicy) Sprite ...https://t.co/tjbASEKCV1 https://t.co/cVWhUrCMMM\"\n",
      " '@JackMeH49521378 @sydneyymccoy @McDonalds No lol I don’t hate it, but it’s not my go to. I like their sprite &amp; their chicken nuggiessss lol that’s about it.'\n",
      " '@McDonalds Collaboration with Andrew Tate      \\n            \\n✅Muu inu is best utility coin\\n✅Muu inu wallet next month \\n✅muu inu blockchain at 10 mil MC\\n✅Staking and Nfts \\n✅Partnership trav and Messiah and some huge names \\n\\ntop 5cex listed on Bitmart🔥\\nTG:  https://t.co/xUEcf3ZE8u https://t.co/HgO3BwsSmp'\n",
      " 'Spicy Soda Solstice: McDonald’s Celebrates First Day Of Summer With FREE\\xa0Sprite https://t.co/O62j3pZ7fY'\n",
      " '@MuuInuOfficial @McDonalds Collaboration with Andrew Tate      \\n            \\n✅Muu inu is best utility coin\\n✅Muu inu wallet next month \\n✅muu inu blockchain at 10 mil MC\\n✅Staking and Nfts \\n✅Partnership trav and Messiah and some huge names \\n\\ntop 5cex listed on Bitmart🔥\\nTG:  https://t.co/xUEcf3ZE8u https://t.co/jrtHWmeRgZ'\n",
      " 'Spicy Soda Solstice: McDonald’s Celebrates First Day Of Summer With FREE\\xa0Sprite https://t.co/UhJfYkVLjp'\n",
      " 'She has the most sophisticated palette of any 5 year old ever. @OloriSWANK remember when you asked her if she wanted McDonalds &amp; she was like “no. I want crab legs.” 😂'\n",
      " '@KicksTruex we certainly don’t like to hear that, Joe. we would like to get more info here: https://t.co/WhvwT8dw7y'\n",
      " '@Ayoo_Nani we always aim to serve you the best quality food, Kay! share your experience with us here: https://t.co/WhvwT8dw7y'\n",
      " '@PeePosh2 @Scottschlittenh @sceley2011 @Joe_Maya @stargatesg201 @tucsongirl1 @BD97 @NotRichHerrera @koby_thiel @gabeintucson9 @doublez_e @EricDTownsend @ironmikeluke @Free_Lantz @Ben1White @AZJanCR @BearDown_Ray @chango2213 @MaxKIIMFM @jasonscheer @MatthewRandle @KG7MAJ @MPShrike @Chad_Mcdonalds @thestevenwoods @CumulusNetworks @David_AZJourno @TrajanWealth @RBIrich @KIIM995 @_boog1 @JustinESports @FRomeroAstros @ESPNTucson @PHNX_Wildcats @JoeHealey42 Rich with better lighting on YouTube https://t.co/GrRRB9DHu8'\n",
      " '@Athos_nft @GangstaGoonz Nice bro! Love the spacesuit / McDonalds cap combo 😂🔥'\n",
      " 'Please enjoy the show. Only at AMC Theatres. Only at SCP-3999. Only at Applebees. Only at Walmart. Only at Barnes &amp; Noble. Only at Home Depot. Only at McDonalds. Only at Wawa. Only at the Woods Hole Oceanographic Institute. Only at your basement. Only at behind you. Only at Only.'\n",
      " '@McDonalds oh and thank you for making happy meals a thing'\n",
      " '@McDonalds That would definitely be waaaay more satisfying than your “food”.'\n",
      " \"McDonald’s has left Russia but its successor is proving popular already. That’s according to the CEO of 'Vkusno &amp; tochka,' Oleg Paroev, who said the firm had sold almost 120,000 burgers, a record, on its opening day https://t.co/KgCEPuNfvM https://t.co/rV7RE5c5Bb\"\n",
      " 'Spicy Soda Solstice: McDonald’s Celebrates First Day Of Summer With FREE\\xa0Sprite https://t.co/cHnEkjqXh5'\n",
      " '@_NPOB1 @PeePosh2 @sceley2011 @Joe_Maya @stargatesg201 @tucsongirl1 @BD97 @NotRichHerrera @koby_thiel @gabeintucson9 @doublez_e @EricDTownsend @ironmikeluke @Free_Lantz @Ben1White @AZJanCR @BearDown_Ray @chango2213 @MaxKIIMFM @jasonscheer @MatthewRandle @KG7MAJ @MPShrike @Chad_Mcdonalds @thestevenwoods @CumulusNetworks @David_AZJourno @TrajanWealth @RBIrich @KIIM995 @_boog1 @JustinESports @FRomeroAstros @ESPNTucson @PHNX_Wildcats @JoeHealey42 Rich confessed his love to dragon ball. A touching moment.'\n",
      " '@BKIzzy0209 we will be happy to help, Izzy. leave a few details about your order and the location it went to via the link: https://t.co/WhvwT8dw7y'\n",
      " 'Wow McDonald’s thank you so much. Will help with gas prices😌 https://t.co/D3iOcLCN5g'\n",
      " 'Thanks @KidsCanPress my personal copies from @McDonalds Happy meal book campaign. #bigwordssmallstories @T_L_Mcbeth @TVOKids1 @bigjumpent @ABCaustralia @TelegaelIreland https://t.co/ddZVk3G3mQ'\n",
      " '@nameand8numbers @Bills_Chick @NFL @nflcommish Somehow the Deshaun Watson case turned into the McDonalds case 😂. Poor example on my part of someone trying to take advantage of the system. There are better ones like the person that actually used this case to try and get free money https://t.co/ZlKnlcki2R'\n",
      " '@Bulldog3180 we always aim to serve you the best quality, Fernom! share your experience with us here: https://t.co/WhvwT8dw7y'\n",
      " '@goat_classic @Bills_Chick @NFL @nflcommish I love Twitter 😂 I’m married for 11 years and have two lovely children. Ok, lets move past the McDonalds thing. Poor example of someone trying to take advantage. Try this one- https://t.co/ZlKnlcki2R'\n",
      " 'Spicy Soda Solstice: McDonald’s Celebrates First Day Of Summer With FREE Sprite https://t.co/hz82CM1jkM https://t.co/gKunJE3eBh'\n",
      " '@retromastertoys @BrandonFugal @OuterRangePrime Yes, the one that liked the McDonalds sign on the hilltop roadside encounter scene, lol.'\n",
      " '@whoisaddison As a job enthusiast, I speak for everyone when I say you need one. McDonalds is the best fit for you!!'\n",
      " 'McDonald’s Celebrates First Day Of Summer With Free\\xa0Sprite https://t.co/xVSWhijk7o'\n",
      " '@nameand8numbers @DominikBarabasz @mattchewy28 @Bills_Chick @NFL @nflcommish Because people claim things that aren’t true to win money in lawsuits https://t.co/ZlKnlcki2R'\n",
      " \"Big Macs and McFlurrys may be off the menu at McDonald's successor restaurants in Russia, but the new firm has ambitious growth targets after it sold almost 120,000 burgers, a record, on its opening day, according to its chief executive. Read more: https://t.co/f5lCJy718G https://t.co/RzhQD1xMsq\"\n",
      " '@PeePosh2 @Scottschlittenh @sceley2011 @Joe_Maya @stargatesg201 @tucsongirl1 @BD97 @NotRichHerrera @koby_thiel @gabeintucson9 @doublez_e @EricDTownsend @ironmikeluke @Free_Lantz @Ben1White @AZJanCR @BearDown_Ray @chango2213 @MaxKIIMFM @jasonscheer @MatthewRandle @KG7MAJ @MPShrike @Chad_Mcdonalds @thestevenwoods @CumulusNetworks @David_AZJourno @TrajanWealth @RBIrich @KIIM995 @_boog1 @JustinESports @FRomeroAstros @ESPNTucson @PHNX_Wildcats @JoeHealey42 @BrianHowell33 I think it is time for Thor to call in.\\n\\nRich is playing with fire.\\n\\nDragonBall is turned away while Rich was typing then Rich looked over.'\n",
      " 'i’m in portugal!!! :D prepare yourself for awesome trip pictures once again peepoShy (also there is a mcdonalds literally 30 metres away from our hotel life is amazing) https://t.co/0H9fqx1W70'\n",
      " '@ESPNChristine @ChrisCarlin I think it’s safe to say that @ChrisCarlin always has a chubby.\\nKeep him away from children enjoying fries @McDonalds'\n",
      " '@McDonalds Please help save his eye sight any and all donations are appreciated https://t.co/m0P1zwSiLL'\n",
      " '@McDonalds Delicious Happy Meals ready to be served https://t.co/ShfFNTpFFx'\n",
      " '@PeePosh2 @Scottschlittenh @sceley2011 @Joe_Maya @stargatesg201 @tucsongirl1 @BD97 @NotRichHerrera @koby_thiel @gabeintucson9 @doublez_e @EricDTownsend @ironmikeluke @Free_Lantz @Ben1White @AZJanCR @BearDown_Ray @chango2213 @MaxKIIMFM @jasonscheer @MatthewRandle @KG7MAJ @MPShrike @Chad_Mcdonalds @thestevenwoods @CumulusNetworks @David_AZJourno @TrajanWealth @RBIrich @KIIM995 @_boog1 @JustinESports @FRomeroAstros @ESPNTucson @PHNX_Wildcats @JoeHealey42 @BrianHowell33 Brian do you like guacamole ?\\n\\nWhat is your favorite taco 🌮 ?\\n\\nHave you ever had a restraining order file against you by a cheerleader or co worker ?\\n\\n- what Rich really wants to ask Brian'\n",
      " 'McDonald’s Celebrates First Day Of Summer With Free\\xa0Sprite https://t.co/P19OZcZuoA'\n",
      " 'Spicy Soda Solstice: McDonald’s Celebrates First Day Of Summer With FREE\\xa0Sprite https://t.co/2DJJ1K3goR'\n",
      " '@BSCGrimaceCoin @McDonalds Fine dining at its best 👌'\n",
      " '@WhalmartCoin @McDonalds @Walmart I have heard @McDonalds and @Walmart are very good friends !!!\\n\\nNow its time to join @WhalmartCoin broskis\\n\\nThe 3 way partnership could be glorious, given #Whalmart is going to Billion Dollar mcap very soon and join you giants there !!! https://t.co/PawysX2x2Q'\n",
      " \"@PeePosh2 @Scottschlittenh @sceley2011 @Joe_Maya @stargatesg201 @tucsongirl1 @BD97 @NotRichHerrera @koby_thiel @gabeintucson9 @doublez_e @EricDTownsend @ironmikeluke @Free_Lantz @Ben1White @AZJanCR @BearDown_Ray @chango2213 @MaxKIIMFM @jasonscheer @MatthewRandle @KG7MAJ @MPShrike @Chad_Mcdonalds @thestevenwoods @CumulusNetworks @David_AZJourno @TrajanWealth @RBIrich @KIIM995 @_boog1 @JustinESports @FRomeroAstros @ESPNTucson @PHNX_Wildcats @JoeHealey42 @BrianHowell33 Hey Brian are there any great restaurants in Boulder you can talk about ? - Rich Herrera's stomach question\"\n",
      " '@McDonalds Miria loves Happy meals!! They keep going up!!!!!! 😭😭😭'\n",
      " \"@McDonalds I just installed the App. First time user.\\nNo free nuggets. A free sprite, which I don't drink softdrinks. I\\nUn-installed. But thanks, anyway...\"\n",
      " \"It's the first day of summer and we want to see your #summerselfies! Like this post &amp; tag us in your #summerselfie for a chance to win a Gift Card for an Ice Cream, McFlurry, or shake at #McDonalds! ☀ https://t.co/4KL7eQT2Ke\"\n",
      " '@PeePosh2 @Scottschlittenh @sceley2011 @Joe_Maya @stargatesg201 @tucsongirl1 @BD97 @NotRichHerrera @koby_thiel @gabeintucson9 @doublez_e @EricDTownsend @ironmikeluke @Free_Lantz @Ben1White @AZJanCR @BearDown_Ray @chango2213 @MaxKIIMFM @jasonscheer @MatthewRandle @KG7MAJ @MPShrike @Chad_Mcdonalds @thestevenwoods @CumulusNetworks @David_AZJourno @TrajanWealth @RBIrich @KIIM995 @_boog1 @JustinESports @FRomeroAstros @ESPNTucson @PHNX_Wildcats @JoeHealey42 Hi @BrianHowell33 welcome to the World Famous Rich Herrera show live tweet thread.\\n\\nWe ARE SO EXCITED to hear about Colorado Buffalo talk on the Arizona Wildcats flagship station during the SUMMER.\\n\\n🙃'\n",
      " \"McDonald’s has left Russia but its successor is proving popular already. That’s according to the CEO of 'Vkusno &amp;amp; tochka,' Oleg Paroev, who said the firm had sold almost 120,000 burgers, a record, on its opening day https://t.co/KVhpVyG3LD https://t.co/YknvsGYalu\"\n",
      " \"@WhalmartCoin @McDonalds @Walmart @WhalmartCoin everywhere you go you go with success and huge record break, get ready guys for the huge impact of whalmart token don't miss out\"\n",
      " '@WhalmartCoin @McDonalds @Walmart $WMART is based project and superB \\nI want to see the challenge personally so I’m gonna save money to be go on that event location'\n",
      " '@McDonalds can y’all please bring back the frozen strawberry lemonades?? Please. Like pretty pretty please'\n",
      " \"@PaleoAlly @_eleanorina @McDonalds @KetoCarnivore @realDaveFeldman Butter, hollandaise sauce, eggs (esp egg yolk) on top, are all options. I've also had suet on top of burgers, and yes sometimes beef trim as well. Or a fatty side like scrambled eggs with lots of butter emulsified in.\"\n",
      " \"McDonald’s has left Russia but its successor is proving popular already. That’s according to the CEO of 'Vkusno &amp; tochka,' Oleg Paroev, who said the firm had sold almost 120,000 burgers, a record, on its opening day https://t.co/TDgsgVMS7C https://t.co/g0wKxz2hD1\"\n",
      " '💯🌊🇺🇸😎I ain’t stupid lol 😂 love McDonalds wait she at my house?! Lol 😂 https://t.co/d9ZsZM43Cd'\n",
      " \"@PeePosh2 @Scottschlittenh @sceley2011 @Joe_Maya @stargatesg201 @tucsongirl1 @BD97 @NotRichHerrera @koby_thiel @gabeintucson9 @doublez_e @EricDTownsend @ironmikeluke @Free_Lantz @Ben1White @AZJanCR @BearDown_Ray @chango2213 @MaxKIIMFM @jasonscheer @MatthewRandle @KG7MAJ @MPShrike @Chad_Mcdonalds @thestevenwoods @CumulusNetworks @David_AZJourno @TrajanWealth @RBIrich @KIIM995 @_boog1 @JustinESports @FRomeroAstros @ESPNTucson @PHNX_Wildcats @JoeHealey42 Hi 👋 Rich.\\n\\nRich is reading his commercial spot.\\n\\n 🏌️\\u200d♂️ \\n\\n@ironmikeluke is a Van's Golf guy.\"\n",
      " '@RookieRocc @McDonalds Lmao you liked your own tweet https://t.co/uJ4EzfazBn'\n",
      " '@PeePosh2 @Scottschlittenh @sceley2011 @Joe_Maya @stargatesg201 @tucsongirl1 @BD97 @NotRichHerrera @koby_thiel @gabeintucson9 @doublez_e @EricDTownsend @ironmikeluke @Free_Lantz @Ben1White @AZJanCR @BearDown_Ray @chango2213 @MaxKIIMFM @jasonscheer @MatthewRandle @KG7MAJ @MPShrike @Chad_Mcdonalds @thestevenwoods @CumulusNetworks @David_AZJourno @TrajanWealth @RBIrich @KIIM995 @_boog1 @JustinESports @FRomeroAstros @ESPNTucson @PHNX_Wildcats @JoeHealey42 Hey Rich/Thor ...\\n\\nMe when Herb texts me thanks for bringing viewers to the World Famous Rich Herrera show. https://t.co/OPUyuS6oNU'\n",
      " '@PeePosh2 @Scottschlittenh @sceley2011 @Joe_Maya @stargatesg201 @tucsongirl1 @BD97 @NotRichHerrera @koby_thiel @gabeintucson9 @doublez_e @EricDTownsend @ironmikeluke @Free_Lantz @Ben1White @AZJanCR @BearDown_Ray @chango2213 @MaxKIIMFM @jasonscheer @MatthewRandle @KG7MAJ @MPShrike @Chad_Mcdonalds @thestevenwoods @CumulusNetworks @David_AZJourno @TrajanWealth @RBIrich @KIIM995 @_boog1 @JustinESports @FRomeroAstros @ESPNTucson @PHNX_Wildcats @JoeHealey42 I see @sceley2011 on the chat !!!\\n\\nAsk Rich a sports question on the chat.\\n\\nHey @MaxKIIMFM can I pick up my gift card for driving viewers to the YouTube page.\\n\\nKerr cocky now where was that previous seasons when the Warriors got mud stomped.'\n",
      " '@Roblox_RTC the best one ever, the very first version of the escape McDonalds obby made in 2010'\n",
      " '@AsteadWesley Krispy Kreme giving a free glazed donut. McDonalds offering a free small coffee.'\n",
      " '@adamvo99 @togibasinavi You don’t need to defend yourself, @adamvo99 Honestly, if you took every $$ and spent it on McDonalds chicken nuggets, it would be your business. We trust you. We know the truth, Adam. You’ll never convince them otherwise bc then they have nothing to argue. Don’t feed the trolls https://t.co/8sJABTH4BU'\n",
      " \"Oh my god mate, I've eaten so much, we went to mcdonalds and we ate once then we ate again I had like 2 cheeseburgers and a double, dude, I've haven't not felt guilty abut eating in ages it's so nice\\nAnd yeah mate, taken it. Have you eaten and had yours?? Xx\"\n",
      " \"@SuperBot007 @mamtora @Michaelohii @RT_com OK. Let's just focus on McDonalds:\\n\\nRecipes and business model are intellectual property\\n\\nIntellectual property is intangible\\n\\nIntangible items cannot be abadoned\\n\\nRussia is currently using McDonald's recipes and business model https://t.co/cPFWKBVwAQ\"\n",
      " '@PeePosh2 @Scottschlittenh @sceley2011 @Joe_Maya @stargatesg201 @tucsongirl1 @BD97 @NotRichHerrera @koby_thiel @gabeintucson9 @doublez_e @EricDTownsend @ironmikeluke @Free_Lantz @Ben1White @AZJanCR @BearDown_Ray @chango2213 @MaxKIIMFM @jasonscheer @MatthewRandle @KG7MAJ @MPShrike @Chad_Mcdonalds @thestevenwoods @CumulusNetworks @David_AZJourno @TrajanWealth @RBIrich @KIIM995 @_boog1 @JustinESports @FRomeroAstros @ESPNTucson @PHNX_Wildcats After four days off we have a Gronk bit and Rich rambling. \\n\\nNBA championship NHL Cup meh ...\\n\\nI guess it is Zona related.\\n\\n520-848-1290 call in'\n",
      " \"@PeePosh2 @Scottschlittenh @sceley2011 @Joe_Maya @stargatesg201 @tucsongirl1 @BD97 @NotRichHerrera @koby_thiel @gabeintucson9 @doublez_e @EricDTownsend @ironmikeluke @Free_Lantz @Ben1White @AZJanCR @BearDown_Ray @chango2213 @MaxKIIMFM @jasonscheer @MatthewRandle @KG7MAJ @MPShrike @Chad_Mcdonalds @thestevenwoods @CumulusNetworks @David_AZJourno @TrajanWealth @RBIrich @KIIM995 @_boog1 @JustinESports @FRomeroAstros @ESPNTucson @PHNX_Wildcats I see @Scottschlittenh on the chat !!!!\\n\\nI'm hoping for an update on the top Wildcat top 64 bracket bit.\\n\\nI better win.\\n\\nRich is the ultimate bro !!!!\"\n",
      " '@PeePosh2 @Scottschlittenh @sceley2011 @Joe_Maya @stargatesg201 @tucsongirl1 @BD97 @NotRichHerrera @koby_thiel @gabeintucson9 @doublez_e @EricDTownsend @ironmikeluke @Free_Lantz @Ben1White @AZJanCR @BearDown_Ray @chango2213 @MaxKIIMFM @jasonscheer @MatthewRandle @KG7MAJ @MPShrike @Chad_Mcdonalds @thestevenwoods @CumulusNetworks @David_AZJourno @TrajanWealth @RBIrich @KIIM995 @_boog1 @JustinESports @FRomeroAstros @ESPNTucson @PHNX_Wildcats Yeah Rich is on the air !!!!!\\n\\nHi Rich.\\n\\nThree Stoges drop.\\n\\nGet in on the chat.\\n\\nRich watched #TopGun five times this weekend because they had free popcorn and soda BECAUSE HIS FAT.'\n",
      " '@steak_umm Pretty generous of you to say McDonalds is a 9'\n",
      " 'Youngest youngin does feel good.\\n\\nYoungest youngin likes @McDonalds when nit feeling well.\\n\\nI went for youngest youngin. How did I go? Well, about that...words forthcoming...\\n#amwriting'\n",
      " \"@PaleoAlly @McDonalds Been doing it for years now without issue\\n\\nI reckon it's the healthiest way to graze on the go\\nHelps keep my T2D at bay\\n\\nCurrently two double quarter pounders for £8 something does me a treat. Seems a bargain for a pound of cooked beef while out and about to me\"\n",
      " '@McDonalds Ok The manager told me it was a nation wide price increase. Thanks for clarifying.'\n",
      " \"@PaleoAlly @McDonalds Good point. They could test both alongside at different price points from a dark kitchen delivery unit and then plan in ratio of mcdonald's that need to go original style from uptake - i'd be happy to help.\"\n",
      " '@grouchoremarx1 we always aim to serve you the best quality food! share your experience with us here: https://t.co/WhvwT8dw7y'\n",
      " 'Thankyou @McDonalds  your coffee is the best!!! Your coffee is my new paracetamol hahhahhaha'\n",
      " 'I am not always talking about @McDonalds when I say I love it. Okay?'\n",
      " 'this is the nicest thing anyone’s ever done for me. i’m never going to have a bad day again, it’s not possible anymore.\\n\\nGUYS!!!! BUTTER DREW SOCMED AU DADWIN TAKING THE KIDS TO MCDONALDS WHILR LEVI’S OUT OF TOWN OH MY GOD IM IN LOVE https://t.co/1karLbLtWz'\n",
      " '@PaleoAlly @McDonalds Good luck let me know how it goes, was hoping Mcdonalds would bring back fries cooked in dripping/tallow as we discussed on Pod - seems like a great time to do it with rapeseed oil shortages'\n",
      " '@JoeBlow58869422 @IanHugh07940666 @A_W_Global @SNettpt @ash_butera @GottaLaff @_greennaija @AndrewR53492773 @BAB3XQ @AmmyMrquez2 @coatlicue2037 @KiraOnClimate @renzyt @ecoshaan I’m simply asking for some evidence that eliminating McDonalds will improve the climate. That’s a reasonable request is it not? Being skeptical and asking for data to support a theory is called “science”.'\n",
      " 'Hi, welcome to McDonalds! How can I help you? https://t.co/9fn4Ls7jcr'\n",
      " '@benust_me thanks for sharing your photo.  share more info about this at this link: https://t.co/g1D0CJdc1j'\n",
      " 'I want to empower more girls across the country to play football this summer – just like this lovely lot at @McDonaldsUK Fun Football!\\n\\n\\xa0Get your kids playing for free by signing up today: https://t.co/MczDDgnBwC #ad https://t.co/0RBLKzQ7xe'\n",
      " '@jokerforlife3 @BobGreene333 @RepSpanberger @CongressmanRaja @RepDavids @POTUS “Record profits” = 8% net profit margin (Exxon), less than one third Apple and McDonalds (26%), and less than one-sixth the net margin of Mastercard (47%), the prize in Nancy Pelosi’s portfolio.'\n",
      " 'An hour in the states. McDonalds is better here, far greasier. Also I genuinely saw a road sign for ‘Freedom Drive’.\\n\\nGod bless.'\n",
      " 'Trending post on LunarCrush:\\n\\n\"I will eat a happy meal on tv if @McDonalds accepts Dogecoin\" via @elonmusk\\n\\nTop coin mentions\\n$doge\\n\\nhttps://t.co/WOW1HLq1r3'\n",
      " '@Samorw0t yeah it can be complicated for some people to gain weight but at least you dont have to look at what you eat in a way. You can still gain weight and eat the gym eating mcdonalds everyday but it wont give you what your body needs...'\n",
      " 'Everyone jokes about the @McDonalds ice cream machine always being broken. But as a parent I’ve realized the Happy Meal toy situation is the real  issue. We legitimately NEVER get the advertised toys… to the point where my 5yo doesn’t even want a Happy Meal anymore when we go.'\n",
      " \"@FinancialTimes @WaltDisneyCo @netflix It's easy to see from the DOW that not many of the DOW stocks r swamp-dependent like @WaltDisneyCo DIS. Stocks like @McDonalds MCD &amp; @HomeDepot HD are well off their March, 2020, lows, as is the DOW itself. Some non-DOW stocks like @Tesla are WAY WAY off their March, 2020, lows. https://t.co/XLXzDuH453\"\n",
      " '@Michaelohii @mamtora @RT_com Renault: Confiscated\\n\\nMcdonalds: Confiscated \\n\\nCocaCola and Pepsi: recipe confiscated\\n\\nIrish Airplanes: lease expired, planes not returned\\n\\n\"Just use the marker to cover the logo and we make McTzarsky\\'s\"\\n\\nBadda ba ba ba, you better be loving it https://t.co/jmgexVwWxL'\n",
      " '@vivisextion istg its so bad... its like writing an article about mcdonalds success and saying its because of this oh so unusual thing called hamburgers that people love SO MUCH\\n\\ntbh anyone who so casually invokes jonghyun in support of their favs gets an immediate side-eye from me'\n",
      " 'PLEASE BRING BACK THE CHICKEN WRAPS @Wendys @McDonalds WHOEVER DOES IT FIRST WILL WIN SUPREME BEING.'\n",
      " '\"But uncle yone ....\" she opened a drawer in the car and pulled out one of yones spare glasses putting it on so no one knows it\\'s her in the car. However she was smiling widely when she heard the word McDonalds. \"Can we get a happy meal!\" https://t.co/tNk9mrirkw'\n",
      " '@McHonduras @McDonalds please bring back the bts meal that was weird but I liked it !!!ya'\n",
      " '#videos2watchNOW\\nAre there HEALTHY #food choices at McDonalds?\\n\\nWatch the video:\\nhttps://t.co/qK27OajvuW\\nLIKE ▪️ SHARE ▪️ COMMENT https://t.co/9wPIX843Gh'\n",
      " 'walked on the beach with mariam and we talked THE WHOLE TIME and it was so fun and then we got ice cream at mcdonalds and we just sat there with her head on my shoulder and my head on her head and it was so nice 🥰'\n",
      " '@krillfig @McDonalds papa ronald takes good care of us'\n",
      " '@nexta_tv He was a good customer of mcdonalds xD'\n",
      " '@__meshigaumai THIS IS SO DELICIOUS, I COULD GOBBLE IT UP LIKE MCDONALDS FRIES'\n",
      " '@HELSlNKl I just made him apply to McDonalds because applying to be like a cleaner at a nursing home.. I told him that he can work there with me.. and he said that he wouldn’t kind doing that so I’m also gonna take him to the nursing home to get an application'\n",
      " '@JASQNcragg17 @conspiracyb0t Yeah but turmeric is an esoteric root.  Pepper, perhaps unfairly seems like a boring condiment you can take 8000 packets for free at McDonalds.  I just don’t see how chemically, you need the pepper to “unlock” turmeric’s benefits in a smoothie?  Big Pepper is behind this haha'\n",
      " \"@McDonaldsJapan Wow that Garlic Teriyaki looks good. Why don't we have that in America, @McDonalds ?\"\n",
      " 'What a pleasure to work with @bmeado9 &amp; @DemiStokes - two absolute heroes, who will inspire many girls and boys across the country to play football this summer. Very best of luck at the Euros, ladies! 🦁❤️🙌 \\n\\nFun Football sessions are free. Sign up here: https://t.co/NFSrCRIo1V https://t.co/jDZ3m8OBgA'\n",
      " '@Nathan_VN @RRollplaying I’ll eat almost any burger. I love McDonalds and even the shit you cool in the microwave. Blurting out puns is literally the majority of what makes them so great—it’s that in the moment stuff that brings the laughs and groans.'\n",
      " 'LoL that white girl tryed to do like me and go in mcdonalds and get a free drink they ran her off'\n",
      " 'Freebie Alert! Follow me + Retweet to win a McDonalds blart-groaning Territorial Vindaloo Walk Through (Cardiff) https://t.co/FrMKkqu0VP'\n",
      " '@MarkHamill Trump never had to work at a McDonalds to pay the rent.\\n\\nIn fact, Trump never worked a real job in entirety of his existence. It was all given to him, like the spoiled rich brat that he is.\\n\\nHe doesn’t understand regular Americans. He only knows Rich ones.\\n\\nHe conned America!'\n",
      " \"@raustinefam @InHexWeTrust @hodlmoonrocket @hex_price @Ursich4SenateCA @RichardHeartWin @BarrySilbert That said I don't fully disagree. Dogecoiners want McDonalds to accept it so that if you HODL you know there is a burger waiting for you. I am ok with sorta natural ways like that which lead to HODLing. Being like just commit to HODL for no reason doesn't seem good to me though.\"\n",
      " '@DarkRedCobra Honestly though he’s put out a lot of garbage guest verses for YEARS 😭 in the early 2010’s it was all about McDonalds and Payless shoes. I think he saves important topics for his own albums but we’ll see. He definitely needs to feel inspired by something for another solo album'\n",
      " '@MajesticDrama WE ❤ LOVE 🐶#BabyDoge\\n@krakenfx @VitalikButerin @elonmusk @binance @McDonalds @coinbase @cryptocom  @kucoincom @SnoopDogg @BabyDogeNFTs  @RobinhoodApp @cz_binance   @WazirXIndia  @FTX_Official   @eToroNL \\n#BabyDogeCoin 🐕\\n#BabyDogeArmy \\n@BabyDogeCoin\\n https://t.co/rv3T0RN9l4'\n",
      " '@McDonalds Yummy and delicious'\n",
      " 'I think about how my friends who do somewhat important things as managers and directors at their respective companies… \\n\\nAnd I’m whining to them about wanting fried chicken and McDonalds like a child.'\n",
      " '#videos2watchNOW\\nDO YOU ENJOY EATING AT:\\nMcDonalds\\nWendys\\nBojangles\\nArbys\\nChick-fil-A\\n\\nWatch the video for HEALTHY options\\nhttps://t.co/kEyJ3styB2\\nLIKE ▪️ SHARE ▪️ COMMENT https://t.co/nAfeG9vqVh'\n",
      " 'best mcdonalds menu item GO !!!'\n",
      " 'Inspiring the next generation is so important. That’s why @McDonaldsUK Fun Football is the perfect place for girls to start this summer\\xa0💖🦁\\n\\n\\xa0I loved it. And I even learned a new celebration!\\n\\nSign your stars up for free sessions around the country: https://t.co/C7OPrRAeYK #ad https://t.co/3Z9yXWigj0'\n",
      " '@ro100098 I hope she reads this! If so TB you need to go straight to McDonalds and order a large fry. It will clear you right up, trust me!'\n",
      " '@McDonalds @evelynpa1ge I LOVE U'\n",
      " '@McDonalds Hey.. our school kids are having a party tomorrow and they want Macdonalds but the school is out of zone.. Any suggestions on how to get 17 happy meals to school?'\n",
      " '@Roblox_RTC Looks like my young ahh stumbled upon a mcdonalds game for the first time and fell in love with it, oh yeah thats an iphone obby too, pizza tycoon and flood escape are also good https://t.co/4sOgwhKvsN'\n",
      " '@Deepcoin_global WE ❤ LOVE 🐶#BabyDoge\\n@krakenfx @VitalikButerin @elonmusk @binance @McDonalds @coinbase @cryptocom  @kucoincom @SnoopDogg @BabyDogeNFTs  @RobinhoodApp @cz_binance   @WazirXIndia  @FTX_Official   @eToroNL \\n#BabyDogeCoin 🐕\\n#BabyDogeArmy \\n@BabyDogeCoin\\n https://t.co/rv3T0RN9l4'\n",
      " '@OnTapeWithJohn That new single is so 90s I genuinely had a sense-memory flashback to drinking Ecto cooler at a Chicago McDonalds, and for a moment I was so, so happy.'\n",
      " '@APrimeape @McDonalds @PokemonGoApp WAIT DID U GET IT AT MCDONALD?!?!?!?! LMAO THATS THE BEST PLACE TO GET A SHINY AT'\n",
      " \"@Tracy_Walters @sonicdrivein @McDonalds Hi how are you. My name is Rafael I live in the Northeast of Brazil, I'm unemployed and I need help. I'm almost out of food here at home. could you help me buy food? 1 dollar or less. thanks. God bless you and your family\\nhttps://t.co/VXz1LOOZKx\"\n",
      " 'Using the medical benefits of weed to get it legalized is like convincing your Mom to get McDonalds for dinner because she can order a salad.'\n",
      " '@ChinaPumpWXC WE ❤ LOVE 🐶#BabyDoge\\n@krakenfx @VitalikButerin @elonmusk @binance @McDonalds @coinbase @cryptocom  @kucoincom @SnoopDogg @BabyDogeNFTs  @RobinhoodApp @cz_binance   @WazirXIndia  @FTX_Official   @eToroNL \\n#BabyDogeCoin 🐕\\n#BabyDogeArmy \\n@BabyDogeCoin\\n https://t.co/rv3T0RN9l4'\n",
      " \"@papa_woody21 @McDonalds 🚨🙈🍌🐵 $MONKE 🐵🍌🙈🚨\\n📢 3️⃣% $USDC reflections 💰\\n📢 Up 5️⃣5️⃣% on the day! 📈\\n📢 Super based community and contract\\n📢 Current MC of 6️⃣.5️⃣m with only\\n 4️⃣8️⃣0️⃣ holders.\\n📢Don't sleep on @themonkeorg\\n📢 Join our TG⬇️ https://t.co/AdsbTRbJch https://t.co/FSJjVr5ETH\"\n",
      " '@McDonaldsCanada @insauga @regionofpeel @PeelPolice \"the store owner is taking care of it\"\\n they said...still nothing. My time, expenses and stress are apparently irrelevant. A great display of those Mcdonald\\'s values being upheld...not👎🍟(Feb 10)#McDonalds #Mississauga https://t.co/9ScnOGXscm'\n",
      " \"@HeDidIt1994 @unrirev @no_good_days @creepin3000 @TheEnemiesPE3 So if Adam Cole had a diet of nothing but coke and mcdonalds you wouldn't have a problem? Make it make sense please 😂\"\n",
      " 'We\\'re incredibly proud of our member, @McDonalds, on making big strides in beef sustainability. \"We\\'re very aligned with a beef value chain being environmentally sound, socially responsible and economically viable.\" https://t.co/Tg50MJikWz'\n",
      " '@realvibekill no but i appreciate his admirable life goal of trying mcdonalds specialities in every country he goes to akjsdhgfg'\n",
      " '@kbreevs @m_lweber @Grammarly No, but I built an engagement incentive program using data I have about your coffee preferences. One like = one small McDonalds coffee. One reply = one small Starbucks coffee.'\n",
      " \"@McDonalds I downloaded but didn't give me the free 10 piece chicken nuggets. Lol\"\n",
      " '@billsmafiagolf @NFL @nflcommish second, the original award got reduced by an appellate court to a few hundred thousand dollars. McDonalds did not settle the case for millions. they paid on a judgment that was obtained at a jury trial. it was NOT a settlement.'\n",
      " '@McDonalds Nobody cares about your nuggets WE WANT SNACK WRAPS!!!!'\n",
      " \"@touqo @DjDjmoo @pekkasauri @hippihommia @vmuronen This is turning out to be the best conversation I've had on here in ages! Carrols, Wimpey, classics! I remember in the 90s as well a Rock &amp; Roll McDonalds in Helsinki, and one that was sort of aliens and outer space themed. Maybe they're still there, maybe not.\"\n",
      " '@AlistairMcCay @lokiscottishrap @McDonalds Indeed, keeping other variables unchanged is good, also what would you like to measure to decide whether I’m healthy or not before / during / after?'\n",
      " '@marc1hundred @ex_gop1 @DonaldJTrumpJr $15 Big Mac meal?  Where do you live?  I just got food for 3 at McDonald’s, and it was just under $16.00. 1/4 pounders, 2 spicy chicken, large fries, and a Hi-C orange. Thanks @McDonalds , for bringing back the best drink ever.'\n",
      " \"Hey green thumbs! Today we have everyone's favorite contaminating company McDonalds produces 1.5 MILLION tonnes of food packaging alone☢️! Fun fact  climate change is a real thing!  Find out what else is swept underneath the rug!\"\n",
      " \"While there are now more food banks than McDonalds in the UK MPs like @scullyp (on over £84k a year) receive subsidised food and drink.\\n\\nCan somebody tell me why this is not fucked up?\\n\\nI'll wait here.\"\n",
      " 'okay but this minseo dude from drippin is kinda cute. id die for him hahah well id die for a lot of people but id die for him even though i don’t know him because he’s CUTE LOL LOOK AT HIM HE IS CUTE AND THAT MCDONALDS FIASCO IS CUTE HELP HELLO MINSEO IF YOURE SEEING THIS UR CUTE https://t.co/fCnZm7InnY'\n",
      " '@VirginiiaSlim we intend to serve the best quality and taste. share more about your experience with us here: https://t.co/WhvwT8dw7y'\n",
      " 'Thank you McDonald for giving me a free burger 💯\\n\\n#viral2022 #VIBE #famous\\n#McDonalds #ThankYou #Thanks #burger https://t.co/gCXm1tR60A'\n",
      " 'The only time Ive ever played a Zelda game was at McDonalds the next town over as a kid. I didn’t care for it, still don’t :p'\n",
      " 'I hope one day @McDonalds will bring back the chicken tenders 😔. Literally the best item to ever exist on their menu'\n",
      " '@McDonalds PLEASE SELL THE SPICY BUFFALO SAUCE IN BOTTLES LIKE KETCHUP!!! PLEASE!!! whenever i go through the drive thru i ask for a “mega shit ton” &amp; the lady always gives me like 50 in a bag💀 bless her heart but, can y’all sell it in store? thank u'\n",
      " \"@MyLaredoTweeps we'd like to look into this for you. care to share more: https://t.co/WhvwT8dw7y\"\n",
      " '@camhiraeth the best way for us to lend a hand is to get all the details we can from you here: https://t.co/DYqF37JWIO'\n",
      " '@shibmoongirl @McDonalds I want my super market guy to accept $Shib as payment'\n",
      " 'Genuine question for @McDonalds (don’t know if you will answer it but throwing it out there) will you ever do GF/DF versions of food. As someone who is both and who craves one of your milkshakes on a daily basis I would love to know if you are or would ever consider it'\n",
      " '@DrJRobinson23 @McDonalds Dem.fries n happy meal Lord yes indeed'\n",
      " 'If in Uvalde Tx.  You can help support Uvalde with local @McDonalds - #RODRIGUEZFAMILYMCDONALDS in Uvalde. 6-23-2022 https://t.co/WR3zezkJ4q'\n",
      " '@DMWT_Program @HoustonIah @tylerkay @TYLERKAYY @iah @TxDOTHouston 2/2 5) Use prisoners to clean all the highway intersections 6) Use prisoners to clean all the major entrances into our great cities 7) give a discount off of property tax for companies who Clean up own area. Why are McDonalds always clean?'\n",
      " '@PeePosh2 @Scottschlittenh @sceley2011 @Joe_Maya @stargatesg201 @tucsongirl1 @BD97 @NotRichHerrera @koby_thiel @gabeintucson9 @doublez_e @EricDTownsend @ironmikeluke @Free_Lantz @Ben1White @AZJanCR @BearDown_Ray @chango2213 @MaxKIIMFM @jasonscheer @MatthewRandle @KG7MAJ @MPShrike @Chad_Mcdonalds @thestevenwoods @CumulusNetworks @David_AZJourno @TrajanWealth @RBIrich @KIIM995 @_boog1 @JustinESports @FRomeroAstros @ESPNTucson @PHNX_Wildcats No promises but a possible Rich Herrera live tweet day TODAY is in play.'\n",
      " '@oslecjunior @dumidyeypee support local businesses.  huwag na sa mcdonalds, burger king at iba pa.  its very important to not let local businesses go away.  its good for the country.'\n",
      " '@EvilMarkOG @McDonalds I’m on a fat boy diet… uggg … that looks so good lol'\n",
      " '@PhilippineStar i love it when Filos come together to support there local businesses.  WE really dont need to be giving our money to Mcdonalds, burger king, KFC in the motherland.  Jollibee beats all of those, now spread that $$ to other Filo-owned businesses.'\n",
      " 'I seriously knew nothing about this stuff but now I’m all interested because of you 😭 the McDonalds fries is giving me @ochocinco vibes for sure 😂 https://t.co/2GgCD90Rp4'\n",
      " \"@PerdueChicken I'm fuckimg begging you please make spicey strips just add cayenne powder to the mix not buffalo strips just spicey stripsi love how yours remind me of culvers strips but bro please help me I need SPICEY 🙏 version that's as spicey as mcdonalds nuggies\"\n",
      " '.@McDonalds Chief Loyalty &amp; Engagement Officer Allegra Krishnan and our Cofounder &amp; CTO @jon_hyman discuss how brands can utilize first-party data to create experiences that provide relevance and value to customers. #CollisionConf https://t.co/GjjVpLojo4'\n",
      " '@McDonalds @ProjectBSM unlike you guys if a roach is found in the meal we dont get a nasty review we get a better review'\n",
      " '.@mcdonalds Chief Loyalty &amp; Engagement Officer Allegra Krishnan shared tips for marketers to better optimize campaigns: “test, integrate, learn and expand” #collisionconf https://t.co/aTwikErpdV'\n",
      " \"@Vanessa26343672 @EricaElegado @Magic899 @SB19Official We Are Free McDonald's Gift Card provided Teem. Do you want McDonald's Gift Card?\\nJust Click This Link: https://t.co/KGgkUO41zM\"\n",
      " \"@katolikongpinoy We Are Free McDonald's Gift Card provided Teem. Do you want McDonald's Gift Card?\\nJust Click This Link: https://t.co/KGgkUO41zM\"\n",
      " \"@elonmusk @business We Are Free McDonald's Gift Card provided Teem. Do you want McDonald's Gift Card?\\nJust Click This Link: https://t.co/KGgkUO41zM\"\n",
      " \"@business We Are Free McDonald's Gift Card provided Teem. Do you want McDonald's Gift Card?\\nJust Click This Link: https://t.co/KGgkUO41zM\"\n",
      " \"McDonald's \\n\\nWe Are Free McDonald's Gift Card provided Teem. Do you want McDonald's Gift Card?\\nJust Click This Link: https://t.co/KGgkUO41zM\"\n",
      " '@csmithshine @mathodical1018 My concern is who’s going to clean them, i’ve just had a McDonalds milkshake which might contain a new culture or even new life… but it was nice in this weather lol'\n",
      " '#MrCharlies has the best #vegan chicken burger and a cheeseburger that tastes like McDonalds (w Chao cheese maybe?) https://t.co/U1mg4ir6RC'\n",
      " \"#mcdonalds\\nWe Are Free McDonald's Gift Card provided Teem. Do you want McDonald's Gift Card?\\nJust Click This Link: https://t.co/KGgkUO41zM\"\n",
      " 'House of Ebony is just one of many amazing appearances for #HouseOfPride brought to you by @McDonalds. Celebrate #PrideMonth and stream House of Pride Brought To You By McDonald’s exclusively on Revry! https://t.co/zoad7XG8l1'\n",
      " 'House of Ebony is just one of many amazing appearances for #HouseOfPride brought to you by @McDonalds. Celebrate #PrideMonth and stream House of Pride Brought To You By McDonald’s exclusively on Revry! https://t.co/QOIfdwj4v5'\n",
      " \"We Are Free McDonald's Gift Card provided Teem. Do you want McDonald's Gift Card?\\nJust Click This Link: https://t.co/KGgkUO41zM\"\n",
      " \"@SouthLadyCooks We Are Free McDonald's Gift Card provided Teem. Do you want McDonald's Gift Card?\\nJust Click This Link: https://t.co/KGgkUO41zM\"\n",
      " 'Our Cofounder &amp; CTO @jon_hyman talks about how brands can pair art &amp; science together to create brilliant, engaging cross-channel campaigns w/ @McDonalds Chief Loyalty &amp; Engagement Officer Allegra Krishnan &amp; @OSchiffey. @CollisionHQ #collisionconf https://t.co/eEJvsLeDu7'\n",
      " \"@janespatisserie We Are Free McDonald's Gift Card provided Teem. Do you want McDonald's Gift Card?\\nJust Click This Link: https://t.co/KGgkUO41zM\"\n",
      " \"@tastemade We Are Free McDonald's Gift Card provided Teem. Do you want McDonald's Gift Card?\\nJust Click This Link: https://t.co/KGgkUO41zM\"\n",
      " \"@Allrecipes We Are Free McDonald's Gift Card provided Teem. Do you want McDonald's Gift Card?\\nJust Click This Link: https://t.co/KGgkUO41zM\"\n",
      " \"@siemens_clayton @MarvinMilton2 @profamirattaran @McDonalds That's amazing, not a lot of people get full-time hours at McDonald's.\\n\\nAnd engineering students spend as much as 30 hours per week in class, plus twice that on studying.\\n\\nMost people can't keep up 130 hours a week, plus travel time. Good on your son.\"\n",
      " \"@tasty We Are Free McDonald's Gift Card provided Teem. Do you want McDonald's Gift Card?\\nJust Click This Link: https://t.co/KGgkUO41zM\"\n",
      " \"@18M532 @EricaElegado @felipsuperior We Are Free McDonald's Gift Card provided Teem. Do you want McDonald's Gift Card?\\nJust Click This Link: https://t.co/KGgkUO41zM\"\n",
      " 'Kicking off the panel “The art and science behind great campaigns” at @CollisionHQ featuring our Cofounder &amp; CTO @jon_hyman, @McDonalds Chief Loyalty &amp; Engagement Officer Allegra Krishnan, &amp; @adexchanger editor @OSchiffey https://t.co/w8YPApSQRk'\n",
      " 'Hello @McDonalds @AmongUsGame please add “the Among Us meal” to McDonald’s please please https://t.co/279WOgdcLh'\n",
      " 'ya know, on the (rare) occasion that @McDonalds ice cream machine is working, it’s actually pretty good.'\n",
      " '@_Slimmdanny214 we always aim to serve you the best quality Chicken McNuggets, Danny. share your experience with us here: https://t.co/WhvwT8dw7y'\n",
      " 'Hi eco-friendlies! The well known un-green company McDonalds produces 1.5 MILLION tonnes of food packaging alone🤮! Fun fact  climate change is a real thing!  Think twice about the amount of pollution resulted making your products!'\n",
      " 'In most developed countries like US, UK fast food restaurants like mcdonalds, KFC, Dominos or pizza huts are considered as low key restaurants to Dine.\\n\\nWhile in Asia its a privilege for Family mostly Middle class to dine at these places. \\n\\nWhere do you think the Gap is?'\n",
      " '@_giannis__ But back to the subway jersey mikes thing. It’s like McDonalds and Culvers. Sure Culvers tastes better but it’s more expensive, so sometimes you get McDonalds because that’s alright too. It’s cheaper and fills you up. But deep down you know Culvers is better and it’s worth it'\n",
      " 'last night I was gonna queue but let some poor bastard take my place. i know how much fun he had getting flamed by four apes while 1v2ing korean smurf duo for 14 lp\\n\\ninstead, i ate $25 worth of mcdonalds and watched netflix. it was glorious\\n\\nLoL is a dying game'\n",
      " '@BrickGrill 90% of our restaurants are franchises, Kelby. the best way for us to look into a claim is to reply via the link or you can DM the store directly so they can look into it for you. please reply here so we can help: https://t.co/WhvwT8dw7y'\n",
      " '@merlinouwww Umm Mcdonalds Ice cream machines are never broke they are perfectly fine and I am able to get on if I want whenever I go to mcdonalds.'\n",
      " \"“Test, iterate, learn, &amp; scale. That will create a memorable campaign.” @McDonalds's Allegra Krishnan on the actionable items that have immediate impact on campaigns success. #collisionconf https://t.co/PPiGwzKo22\"\n",
      " '@worf8758 @McDonalds I will engage in a little brand worship despite my anti brand rhetoric for ^ this persons request to come true. Pleaseee this would be great.'\n",
      " \"@AZ_Brittney I can't watch it until tomorrow. \\U0001fae4  My son likes to watch it together and he's not here.  I threatened to watch it without it.  He threatened not to bring me a McDonalds Mocha Frappe. \\nGuess who won. 😑\"\n",
      " 'oh wow mcdonalds large coke now $1.49 \\nTHATS A 49% INCREASE TO A WEEK AGO'\n",
      " \"Our good friend @BudPoliquin joined @BoyGreen25 on @TheScore1260 to discuss:\\n\\n- Steph Curry's legacy #NBAFinals #DubNation \\n- Man those #Yankees just won't lose #RepBX \\n- His father's (unsuccessful) business ventures @McDonalds \\n\\nhttps://t.co/AAAOKtmUuh\"\n",
      " '@bungoman @moothought @__justplaying @heavenbent11 @IgorBrigadir @huggingpuppy @flybottlemist @panchromaticity @temujin9 @Duderichy @jicapal @goblinodds @_brentbaum @scrmshw @OccultBoyscout @bogmeat @Knipps @OneEyedAlpaca @SoupOfToday @Acre108 @ObserverSuns @ZacharyHundley @_holyweather @anonynaut @magicianbrain @mimi10v3 @karnagraha @er1enney0ung @Lithros @parafactual @KrikkitMotel @__frye @eggprophet @pareinoia @TeddyRaccovelt @dancinghorse16 @storebrandguy @NLRG_ @irafeierabend @bloobsandnoods @RootOfUnity @VesselOfSpirit @MaskOfFace @ObjectOfObjects @CurlOfGradient @FingerOfHand @CauseOfProblem @ModelOfTheory @ReneeSolana @quotidiania Good morning to all you wonderful people. I just tried a new coffee from McDonalds and it is wonderful, just like you'\n",
      " '@dyingscribe If trump keeps being right in 40 years it will be revealed eating nothing but McDonalds is a good way to stay healthy'\n",
      " '@annaagracee1 @McDonalds @McDonaldsCorp AGREE!! SAUSAGE EGG AND CHEESE BISCUITS ALL DAY PLEASE @McDonalds'\n",
      " 'My son works at #McDonalds FT putting himself through Electrical Engineering. They treat him well.\\n\\nFirst Semester GPA 4.0\\nSecond Semester 3.9\\n\\n@profamirattaran clearly has no idea what drive and hard work can accomplish.\\n\\nI wonder what  @McDonalds thinks? Pretty degrading stuff. https://t.co/PgCEUt1wPB'\n",
      " '@Touyarokii Looks cute!!!\\n\\nI see she quit Mcdonalds lol'\n",
      " \"@HuinGuillaume @matsnarizal @BTS_twt @McDonalds I'd love to show you our social listening tool, @YouScan_io - it never breaks :) It has advanced analytics (for texts+images!) &amp; is more cost efficient. Do you mind a DM?\"\n",
      " \"June 21 also happens to be National Smoothie Day. Enjoy any medium sized smoothie from @JambaJuice for $4. They're also giving away smoothies and some sweet summer swag every hour on June 21; keep an eye on their socials for more details 👀🥤☀️ https://t.co/WUBZYgnbFV https://t.co/vcdx16TADE\"\n",
      " \"@sauval @Franklin_Graham @McDonalds Please tell the truth I'm sure those millions of dollars he is wallering in helped.\"\n",
      " '@barryp333 @Franklin_Graham @McDonalds Do you actually believe this man to be a true Christian? Did you read about how much money he got from his father not including the money he got from his own non profit. \\nI did not give my money to Samaritan Purse to make him rich.'\n",
      " '@hyvnin_ they go on their cute little small but certain happiness dates and then mimo takes him back to his dorm and they do lots of things in there and then they go for mcdonalds afterwards I WISH I WAS MAKING THIS UP'\n",
      " '@KaJuror @Franklin_Graham @McDonalds @Disney My dear sir do you not know that this man began paying him self certain millions per year out of his own non profit? It has been reported by the FBI  that he was the only one that did that every other Pastor on TV gave their money away. This man put it in his pocket.'\n",
      " '.@Wendys has deals on deals. \\n\\nYou can score a free small fry with any salad purchase with an in-app offer that refreshes weekly, or grab a free breakfast sandwich via the app with any purchase through June 30 at participating locations ☀️ https://t.co/WUBZYgnbFV https://t.co/oUcsv3tfMO'\n",
      " \"but wait it's cute seungmin and i.n eating mcdonalds while watching harry potter meanwhile i.n and fekix watching marvel movies\"\n",
      " '@romandeman21 @sklgr10 @elitetakes_ I never said a diverse menu. They have numerous great things on their menu while McDonalds has great fries, good ice cream and then just hot garbage. I stand by that statement. You can’t find something bad from CFA.'\n",
      " '@NoiseGanon Alright I went to McDonalds and talked with my friend Ronald. I got you some free McNuggets! Hehe https://t.co/DD06xNDUmJ'\n",
      " 'Bring on the sunshine with Summer Drink\\xa0Days!\\nEnjoy the perk of being an app user and get ANY SIZE for $1\\xa0+\\xa0tax exclusive app\\xa0offer.*\\nhttps://t.co/UDARb1KAlr Email Savings Alert 🚨 Via @McDonaldsCanada @McDonalds #McDonalds #Hungry #Summer #Treat #Food #Snack #SaveMoney #Perks https://t.co/wjqxBWkYla'\n",
      " '@BenjaminEnfield @BurgerKing Even a \"Happy Meal\" at @McDonalds looks even better 🤣 #burgerking'\n",
      " 'Today the virtual doors open for the #ConnectSummits @byQuartzNetwork. #ConnectHR is thrilled to welcome #HeidiCapozzi, EVP &amp; Global Chief People Officer at @McDonalds to discuss \"Employee Experience: Beyond the Paycheck\" \\n\\nHR executives- you won\\'t want to miss this! https://t.co/1Pk7mjxl7K'\n",
      " 'I AM LOVING IT !! @McDonalds .@StellaMoris1 .@rustyrockets #FreeAssange #FreeAssangeNOW https://t.co/kgxTEFgK0E'\n",
      " 'THANK YOU SIR who was at @McDonalds on Parrish Street earlier, and bought mine and my sidekicks lunch, very nice of you. Very well appreciated. \\n\\n#ThankYou \\n#TuesdayBlessings'\n",
      " '@Shardholpur @mcdonaldsindia @MCA21India @jagograhakjago @McDonalds @amazon @AmazonHelp @amazonIN Thanks for reaching out! ConsumerAffairs is a US-based private, independent web-based consumer news, reviews and resources center. We are not a government agency and do not directly advocate for or investigate on behalf of consumers. Have a great day!'\n",
      " '@mcdonalds_paris 1/ Willie dixon i just want to make love to you\\n2/ Depeche mode - just can’t enough\\n3/ Fabolous into you\\n4/ pas sûr mais l’intro de another one bites the dust de Queen !!\\n5/ et le mythique Elton John - cold heart !'\n",
      " 'Greetings green thumbs! The well known eco-unfriendly company McDonalds produces 1.5 MILLION tonnes of food packaging alone🤮! Fun fact  carbon footprints are important!  Follow for more daily environmental facts!'\n",
      " '@peterberkes It’s McDonalds, only if McDonalds fans shouted at you about how much more revenue McDonalds generates and thus is superior to your favorite local joint or nice steakhouse'\n",
      " \"Who's ready for some Fun Football?! 🙋\\u200d♀️🙋\\u200d♂️ \\n\\nRegister your kids for a session near you this weekend: https://t.co/NF9xvZ6pU1 ⚽️ https://t.co/8zmHFUZhcV\"\n",
      " 'I should sleep super soon cause I’m working in the morning. Hope I get McDonalds breakfast while I listen to the radio while the sun is up at the perfect time and blah blah blah. Hope the weather isn’t too ass either'\n",
      " '@quenblackwell @McDonalds Enjoying a free one now https://t.co/YzvrTqyCTd'\n",
      " \"@McDonalds $KOBE \\n@Kobecoin\\n  Can't buy a whole #Bitcoin  ? \\nAre you a #Kobe fan? Only 24,000 Supply\\n@KobeCoin\\n\\n get 1 $Kobe for around 30 cents for now! Loyal Kobe Fans Onlyhttps://pancakeswap.finance/swap?outputCurrency=0xb104a776fda9836cd25a22b0a9b74a14354b9473\"\n",
      " '@velvetdisko @McDonalds You were included in that good morning . So good morning Sav 🤠'\n",
      " '@McDonalds still giving last year toys with happy meal. This will for sure cause kids to hate happy meal and try other better options. Thank you https://t.co/J9rAUFxa1r'\n",
      " \"@McDonalds please donate to @RyanTrahan's fundraiser for @FeedingAmerica. Ryan has been making a @YouTube series to raise money so people don't go hungry. He eats at McDonald's at least one per video and always has positive comments on the restaurant and the McD's app.\"\n",
      " '@SixEaredMacaque Whats your opinion on mcdonalds best flavored french fries?/ Shake shake fries? (Look it up on google if you dont know) they are my favorite lol-'\n",
      " '@McDonalds DoorDash is a great way to support local restaurants with safe, no-contact delivery. Get $30 off ($10 off each of your first 3 orders) when you sign up with this link: https://t.co/uQluAAHgdt'\n",
      " 'Tips for marketers from @mcdonalds Chief Loyalty &amp; Engagement Officer Allegra Krishnan: “test, integrate, learn and expand” #collisionconf https://t.co/t2gyfHi8Gc'\n",
      " 'The TRUE Florida Man message is THINK THINGS THRU. If you do, all will become clear, even stories like this:\\nhttps://t.co/0pOYZWJHcT'\n",
      " 'I don’t know why I love watching ppl review McDonalds in other countries but it’s my favorite content.'\n",
      " 'At @CollisionHQ, @Braze Cofounder &amp; CTO @jon_hyman talks about how brands can pair art &amp; science together to create brilliant campaigns w/ @McDonalds &amp; @OSchiffey. #collisionconf https://t.co/7lVDj5CfP3'\n",
      " 'The marketing for these big corporations is really trying it lmao you guys are not making ascension no matter what at this point, I promise 😂 https://t.co/2QGtVcPtHD'\n",
      " '@Jenn2II_II These always made me laugh as a kid and I loved that they included it in this episode. Do you remember the McDonalds commercial that had one these singing about the filet o fish? #SaveLegendsOfTomorrow'\n",
      " \"#Kudos to the incredibly kind and attentive @McDonalds colleague at the #Norwich Haymarket Maccy Ds for reuniting this lovely gentleman with his long lost book today! 📖 That's what I call great #CustomerService 👏🏼 Going above and beyond. Bravo!! ❤️ https://t.co/BrwI4sow9v\"\n",
      " \"@McDonalds, @BurgerKing makes a better burger. Although, @pfc makes a great burger too. You all's don't know nothing about that. It's time Pete. It's time to fish on these mf's like @CheckersRallys. They make a good fish sandwich. Must be in the fryer.\"\n",
      " 'My nigga just became manager at McDonalds!!!!! Congratulations my boy! https://t.co/3rx95ZHx99'\n",
      " 'mcdonalds sweet curry is a godsend'\n",
      " \"Big Macs and McFlurrys may be off the menu at McDonald's successor restaurants in Russia, but the new firm has ambitious growth targets after it sold almost 120,000 burgers, a record, on its opening day, its chief executive told Reuters. https://t.co/ifLwlBe6Jt\"\n",
      " \"Amazing vintage Unocal 76 Racing Champions Collector's Edition NASCAR toy race car. Car number 94 McDonalds and Bill Elliott. Very cool collectible. From 1996, still in original packaging. https://t.co/PET0vpGLbP #etsy #racecar #NASCAR  #collectible #vintagetoy #toyracecar\"\n",
      " 'I want to live in the alternate timeline where. Sears went to online sales and teamed up with Barnes and Noble and defeated Amazon. Where Blockbuster bought out Netflix and A&amp;W beat McDonalds with their 1/3 pound burger over the quarter pounder,TacoBell kept the real  sourcream.'\n",
      " \"Thought I'd try @Wendys breakfast for the first time. Ordered a basic sausage biscuit and laughed for over a minute when I saw that it was square.  That said, I loved the fact that the sausage had a bit of a bit and a lot more flavor than @McDonalds has ever heard of.  Well done!\"\n",
      " '@willlsben @filosofical_140 @TLDRNewsUK ...just when they are starting to regain the massive losses over \"a couple years of inconvenience\". But hey, who tf cares about that again, we can all just go to McDonalds for lunch (or get a deliveroo) and Wetherspoons after. Talk about support of corporations lol'\n",
      " \"I hope my coloring and shading gets better, I been feeling like my digital skills is crap but, I know it's takes time to learn a new art skill. I want my art to Slap like a large McDonalds meal with a large coke on a cool afternoon sitting on a porch. I want it to Slap that hard.\"\n",
      " '@jan_ro It seems to me that they bought into a popular franchise by carrying the title originating from BTS. You cannot operate a McDonalds w/o paying the original corporation 20% of the profits. Masked Singer is a SK franchise show in several countries now. Profits go back to the co.🤔'\n",
      " \"@JackPosobiec They are RUINING ALL MY FAVORITE 90s Movies' Stars Soo fuckin depressing... its like mcdonalds going from Red Happy House to Gen X Drug Rehab Grey https://t.co/JUVH6O3h2T\"\n",
      " \"@BardisDismuke3 Sorry but I don't bitch about anything. If you can't afford gas, stop eating at McDonalds. My Fisker suits me just fine at 440 hp. The ones bitching will be the dozen indicted next month for being traitors including Donald Trump. Face it, boy, your party's done. https://t.co/2LQIa6PUyz\"\n",
      " 'i’ve seen a girl i’d like to work with at mcdonalds she seems so cool!!!'\n",
      " 'Finally made it to Ape Fest. Thank you to corporate sponsor @McDonalds for putting on an awesome event https://t.co/MuJ0TcgZrN'\n",
      " \"Knowledge Platform has collaborated with #McDonald's Pakistan to launch an online competition to improve your English while earning rewards. \\n\\nFor details click on the link: https://t.co/XIQGXOsCG5\\n#Knowledgeplatform #Mcdonalds #Imwinningit #Knowledgeonthego #FunWithEnglish https://t.co/hkqOLXNfpF\"\n",
      " 'one of the best ads i’ve ever seen thought i would share https://t.co/04LbkhUn8y'\n",
      " 'Children can keep busy at home by checking out the @McDonaldsUK SuperKicks video hub for more fun activities created by #England coaches, all for free: https://t.co/6UbpCPs8xY @FunFootballUK https://t.co/NkzDpc9a21'\n",
      " 'Office Tip #1:\\n\\nIf you’re asked to bring food to a potluck, buy a whole bunch of @McDonalds Chicken McNuggets and toss them into a big bowl. \\n\\nPrepare to be hoisted upon the shoulders of your cheering, grateful coworkers.'\n",
      " '#WALLPHY \\n\\nOur shill contest starts in 30min\\n\\nJoin our TG, read the 📌post, and follow instructions. You have to have the token to win.\\n\\n#cryptocurrency #Cryptos #wallstreetbets #amc #ETH #DOGE #SHIB #kiba #altcoin #Diamondhands #1000xgem #gems1000X #win #McDonalds #KFC #steak'\n",
      " 'When I order from mcdonalds I really love the senation I get, see I just won an award and thats cool.'\n",
      " '.@McDonalds can y’all please bring back the Fruit ‘n Yogurt parfait? Pretty please?'\n",
      " \"Exclusive: Big Macs and McFlurrys may be off the menu at McDonald's successor restaurants in Russia, but the new firm has ambitious growth targets after it sold almost 120,000 burgers, a record, on its opening day, its chief executive told @Reuters https://t.co/adJo2NoeE8\"\n",
      " '@McDonalds #SpookyShiba IS MIGRATING TO A NEW AND IMPROVED CONTRACT. JOIN US IN TELGRAM FOR ALL THE DETAILS. \\nhttps://t.co/1iLDig904u\\n\\n@ShibaSpooky @SpookyShibaShil @GerhardHacher #GameFi #MetaverseNFT #BSC #BNB #BTC @elonmusk @cz_binance @_AndrewForte @Shibtoken https://t.co/LXbTDL1VIp'\n",
      " '@McDonalds #SpookyShiba IS MIGRATING TO A NEW AND IMPROVED CONTRACT. JOIN US IN TELGRAM FOR ALL THE DETAILS. \\nhttps://t.co/1iLDig904u\\n\\n@ShibaSpooky @SpookyShibaShil @GerhardHacher #GameFi #MetaverseNFT #BSC #BNB #BTC @elonmusk @cz_binance @_AndrewForte @Shibtoken https://t.co/EQSTNy5qaz'\n",
      " '@McDonalds #SpookyShiba IS MIGRATING TO A NEW AND IMPROVED CONTRACT. JOIN US IN TELGRAM FOR ALL THE DETAILS. \\nhttps://t.co/1iLDig904u\\n\\n@ShibaSpooky @SpookyShibaShil @GerhardHacher #GameFi #MetaverseNFT #BSC #BNB #BTC @elonmusk @cz_binance @_AndrewForte @Shibtoken https://t.co/Xm9MYRkyxm'\n",
      " \"Big Macs and McFlurrys may be off the menu at McDonald's successor restaurants in Russia, but the new firm has ambitious growth targets after it sold almost 120,000 burgers, a record, on its opening day.\\nhttps://t.co/Mn4iue1ERx\"\n",
      " 'Big MNCs have a lot of fine prints in their contracts &amp; it is their ability to juggle &amp; be legalese is what makes them successful - sanctions or not.\\n\\nEventually they will wriggle in in future....\\nhttps://t.co/THHEXb94Co'\n",
      " \"Exclusive: Big Macs and McFlurrys may be off the menu at McDonald's successor restaurants in Russia, but the new firm has ambitious growth targets after it sold almost 120,000 burgers, a record, on its opening day, its chief executive told @Reuters https://t.co/N4aiZw7OGs\"\n",
      " '@jenn_ruth I mean, during my McDonalds days, the supersized meal was always pretty amazing.'\n",
      " 'wakes up. addi cum taste headcanons\\n\\npink : like sweet icing and a hint of grenadine\\nblue : the most \"natural\", but has a slight matcha taste\\norange : ginger - orange tea, very faint but tasty\\nyellow : like a lemon in a mcdonalds sprite. practically an energy drink'\n",
      " \"@McDonalds Awesome!\\nI've always wanted a McChinese Social Credit System! \\nAll we have to do is convince ourselves that we need one of these spy-apps FOR EVERY store, brand, website, service, good, etc., to normalize it for everyday life, then get it all integrated with gov, bank &amp; health!👍\"\n",
      " '“omg rich i wish i could afford that manga” ITS $10 AT BARNES AND NOBLE AND MCDONALDS STARTS AT $11 AN HOUR. GET YOUR ASS TO WORK'\n",
      " '@GCRClassic @AlgodTrading I WISH THERE IS A $1 VALUE MCDONALDS MENU.\\n\\nHERE IS NOTHING BELLOW €1 ON MCDONALDS ,,, EXCEPT THE SAUCES ...'\n",
      " '@JFeinsteinBooks He was so compelling to listen to. Bill Conlan cracked me up. To me that was high art. Thoughtful informed opinions with humor mixed in. PTI kind of made The NY Times into USA Today. Morton’s into McDonalds in my opinion. That format has been duplicated ad nauseam'\n",
      " 'FREE ANY SIZE SPRITE !  \\n\\n2022.06.21.08.56.  \\n\\n#NouvellesEtIntelDeLePalais #HappyBirthdayMonth !  #FREE #McDonalds #Gaming #McDonaldsGaming #20Towards200 #HOTYOUZ #HOT #MINE #EPIC #MORELIKETHISMYWIFE #HOTYES !  😁 https://t.co/d8jGSBFoDa'\n",
      " 'FREE ANY SIZE SPRITE !  \\n\\n2022.06.21.08.56.  \\n\\n#NouvellesEtIntelDeLePalais #HappyBirthdayMonth !  #FREE #McDonalds #Gaming #McDonaldsGaming #20Towards200 #HOTYOUZ #HOT #MINE #EPIC #MORELIKETHISMYWIFE #HOTYES !  😁 https://t.co/xuSLM17pQn'\n",
      " 'FREE ANY SIZE SPRITE !  \\n\\n2022.06.21.08.56.  \\n\\n#NouvellesEtIntelDeLePalais #HappyBirthdayMonth !  #FREE #McDonalds #Gaming #McDonaldsGaming #20Towards200 #HOTYOUZ #HOT #MINE #EPIC #MORELIKETHISMYWIFE #HOTYES !  😁 @Sprite @McDonalds https://t.co/kjG9CR8W6O'\n",
      " 'I miss that French Mcdonalds ad where the son calls his SO and is like “I miss you. Love you I’m looking at our class photo” and then the dad shows up and is like “You were quite the looker. You could have had any girl you wanted… Too bad your class was all boys”'\n",
      " \"ACE SPACE DRIVING TO MCDONALDS JOIN IF YOU'D LIKE https://t.co/b2q1sgXSqn\"\n",
      " '@james_art_do @McDonalds truly the best'\n",
      " 'Surely I should have a prize for being customer 000? @McDonalds 😆🥳 https://t.co/A9XhEcKdTP'\n",
      " 'Wendy’s review:\\n\\nDouble burger - good presentation, bun looks good; would’ve been better toasted, however, apart from some onion, it tastes just like a burger from Mcdonalds. 7/10'\n",
      " '@profamirattaran You\\'ll soon be serving us behind the counter of McDonalds...\\n\\nAnd yes, \"I\\'d like fries with that\"...Oh and a smile because their free😃'\n",
      " 'Sad to say that McDonalds seems to have updated their app and removed the best deal I had at my repertoire. \\n\\nA coupon they’ve had for months now is a free McCafe beverage of any size when you make a $3 purchase. No sweat, pretty average deal. But it was even better sometimes.'\n",
      " \"#LearningDisabilityWeek2022 Sammy Jo works 2 days a week in McDonalds, Cookstown. When she isn't working, she is also involved with the Eagles Special Olympics team and has won gold for the 100m, bowling, shot put and relay! Having a disability doesn't hold her back! 👏🏅 https://t.co/Ugru7TteRS\"\n",
      " 'sweet curry mcdonalds HELP https://t.co/ntRbAOpOoP'\n",
      " 'Surely it\\'s better than giving the role to a \"#bodypositive\" actor who would just spend their fee on @McDonalds. People need to stop pretending #obesity is in anyway a \"positive\" thing.'\n",
      " '@Houston__Menace @balleralert @McDonalds I am praying though people like this you got to hit their pockets only thing they truly understnd'\n",
      " 'So you mean to tell me I’ve been spending $3 at McDonalds for a large vanilla iced coffee, but if I use the app, I can buy it for 99cents plus tax? The McDonald’s app kicks ass. The rewards are awesome.'\n",
      " '@GoingParabolic @McDonalds @dunkindonuts @naturallight Well martians  lifeforms like a good mcdonalds meal.'\n",
      " '𝐓𝐇𝐄 𝐅𝐎𝐑𝐓𝐔𝐍𝐄\\n𝐹𝑜𝑜𝑑 𝑆𝑡𝑟𝑒𝑒𝑡, 𝐵𝑎ℎ𝑟𝑖𝑎 𝑇𝑜𝑤𝑛 𝑃ℎ𝑎𝑠𝑒 7, 𝑅𝑎𝑤𝑎𝑙𝑝𝑖𝑛𝑑𝑖\\n\\n- Ideal investment opportunity for Food chains\\n\\n#Thefortune #proptointernational #commercial #Bahriafoodstreet #realestate #mcdonalds #KFC #OPTP  #foodchain  #investment https://t.co/n1Syuvnibw'\n",
      " 'Finally I got my @McDonalds uniform, very useful in this bear market. Thanks @GangstaGoonz https://t.co/dncKOZdMeO'\n",
      " \"@sgmpodcst @McDonalds Hey man we would be honored if you watched our massive project update today.\\n\\nYou've never seen any project like this on the #BinanceSmartChain , or any chain.\\n\\n Welcome to the   future of #Web3 , you will not be disappointed!😎\\n\\nhttps://t.co/5xhvXztS54 https://t.co/9UJ43gmOBE\"\n",
      " '@EmergMedDr @NinjaThyroid You\\'re a human being like the rest of us. Have that McDonalds and enjoy it. Life is far too short to deprive ourselves of everything that is \"unhealthy\". We need to self care for our soul as well as body.'\n",
      " '@LianeKawaii i make an except for nugs but also it’s mcdonalds, it’s probably 90% ammonia anyway lmao'\n",
      " '@battleravaged Interesting and cool looking, but i have never been into that side of collecting.  \\n  The only thing i own like that is a Mcdonalds Wolverine Happy meal toy (:'\n",
      " '@TheLeoTerrell McDonalds is more popular than pricey steakhouses. Mumble-rap is more popular than jazz. Chlamydia is more popular than herpes. \\n\\nExcellent point, sir. Always go for popular. https://t.co/rWftSm2r5s'\n",
      " \"Come on @wbd, do us a solid and #RestoreTheSnyderVerse, #ReleaseTheSchumacherCut, #ReleaseTheAyerCut, bring back #HenryCavillSuperman and #MakeTheBatfleckMovie.\\nOkay, here's a random picture of Pico Guacamole Chicken Sandwich... @McDonalds, you better bring this back!!! https://t.co/NUc9Qgelw7\"\n",
      " '@McDonalds . ABSOLUTELY love it 💝💞💖 https://t.co/afLf09RHkF'\n",
      " \"@demaskingtape I think my parents divided them up amongst the kids years ago. Fun fact: McDonalds sold movies with purchase for a month or two before Christmas for a few years in the late late 80s/early 90s. Pretty sure that's where my copy of Ghost came from. 🥺\"\n",
      " \"@RealSaavedra @LisaMarieBoothe A safe space? In the Navy? That would be out of it working for McDonalds instead. Dear God! Who's appointing so many wooden-tops to positions of power?\"\n",
      " \"@Genshinmem Cashier: Hi, what would you like?\\n\\nZhongli: I will have order!\\n\\nC: What will your order be?\\n\\nZ: Order guide you!\\n\\nC: No.. u. What would you like? \\n\\nZ: Osmanthus wine tastes....\\n\\nC: We don't have that. \\n\\nZ: Trade relies on both contracts and fairness.\\n\\nC: sir, this is mcdonalds.\"\n",
      " '@ToddrickD @ENFPDreamFan @nemchocke @MG_Schindler @basketbllnews @ENFPDreamFan has been McDonalds biggest advocate since day 1–always calling for more PT for the guard. And he has continued that advocacy this year including understanding what she can to better to help the Dream.'\n",
      " '@TheSphereHunter This, 100%. Why try to appease unappeasable fans when you can make content you want AND make money? I write video game scripts (which I love), but I ALSO write/cast/direct McDonalds commercials and episodes of Care Bears. Gotta put food on the table.'\n",
      " '@starkmeta I hope that my trusted mcdonalds will welcome me with open arms'\n",
      " '@McDonalds please can you bring Spain’s goats cheese burger to the uk 😍 best burger I have ever eaten!!!'\n",
      " '\\u2066@profamirattaran\\u2069, did you honestly make fun of people who work at \\u2066@McDonalds\\u2069? All work has dignity, sir. McDonald’s employees certainly have more class than an elitist-wannabe. \\n\\nhttps://t.co/W44EQJt7A5'\n",
      " 'angel numbers imma wish for some mcdonalds fries they so good i wanna cream on them https://t.co/CAyityC4S0 https://t.co/AfXDH7bOna'\n",
      " '@LukeAshcroft16 thats funny mate cause i just saw salah in mcdonalds deepdale wearing a full white pne kit and he turned to me and said the whites are going up, leaving liverpool behind to play for the mighty whites, good on him'\n",
      " '@DevonESawa I mean, that sounds like a dream, save for working at McDonalds. I don’t like grease lol'\n",
      " '@JoJoFromJerz So you chose a profession that you KNEW what the pay would be but are now asking for others to give you money? Interesting. It’s like someone who gets a job at McDonalds then gets married and has kids and thinks he should get paid to care of a family of four. AMAZING!'\n",
      " '💥SHOOT DAY - On set today for McDonalds is our stunning McKayla. Well done, we hope you have an amazing time🧡\\n.\\n.\\n #usiagency #TeamUSI  #onset #busybees🐝 https://t.co/cRCttUft4L'\n",
      " 'You know how there is Mcdonalds, but then you have THE Mcdonalds, like fries crispy, salty and fresh from the fryer, coke is hella refeshing, and the burgers feel like it has actual meat and are hot from the kitchen?\\n…a religious experience I tell ya’ \\n#McDonalds #foodie'\n",
      " 'Tuesdays reminder: Be mindful of your salt intake! Per AHA, daily intake of salt should be no more than 2300mg. An ideal amount is 1500mg or less. Most fast food chains like Starbucks, McDonalds and Hardee’s exceed that with one meal! Your body deserves better! #GuiltyAF🤎✨💐'\n",
      " '@pierrick_picaut Great question.\\n\\nThe more human (personality) the more likely you’ll get followers &amp; engagement.\\n\\nLook at @McDonalds @Twitter @DennysDiner @netflix @Wendys'\n",
      " '@NugDubzOfficial @McDonalds Interesting. I have something very good to discuss w/ you 😊'\n",
      " 'These good sports on our Careers Day - an Accountant, a Business Manager from McDonalds, a Stock Broker, a Scientist who tests racehorse urine in Newmarket and a Funeral Director. The children guessed then asked prepared questions of our visitors. Great fun and we learnt lots! https://t.co/PsENptspPg'\n",
      " '@Frank_Kim01 @McDonalds Good morning frnd ❤️🙂☕️\\nHave a Beautiful and Productive day.'\n",
      " \"@Anthony90709704 @mrjamesob Screw it, I'm standing for parliament as a Tory at the next election. With a bit of luck I'll get a nice cushy cabinet job. I think Chancellor is where my talents lie, I got a C in maths and love wasting money on stupid things (mcdonalds mostly).\"\n",
      " \"@skett2605 @McDonalds @McDonaldsUK I've always found McDonald's in Hungary to be of better quality than in the UK, but I really thought when it came to anything like GF options the UK would be on top of it. I had so many people asking about it on IG. There's clearly a market for it.\"\n",
      " '@TheCryptoLark $eth is almost as worth as McDonalds, Philip Morris. Worth more than VW, PayPal, Siemens, BlackRock. Not sure I would be confident to call bottom here. $doge worth more than Mazda. $btc is worth less than only 14 companies'\n",
      " '@seventiesuk Excellent. These cards were laminated so they could be wiped clean of the tomato ketchup you\\'d spilled on it eating the chips you\\'d just bought. \\n\\n\"Frothy coffee with your chips, dear?\"\\n\\nWho needs McDonalds!?'\n",
      " \"Hey @McDonalds @McDonaldsUK etc judging by the masses of questions I got on Instagram regarding Hungary's gluten free options I think it's safe to say you'd have massive interest from those with #coeliacdisease etc.\"\n",
      " \"Welcome to mcdonalds can i take you order ?\\ni'm holding and lovin' it @BirdBirdNFT 💪🏻\\n\\nThanks for airdrop sir🙌🏻 https://t.co/ZN8S7DVbnF\"\n",
      " \"McDonalds should do a Strong Meal, it's just the same as a regular meal but it comes with a Kirin Strong. Toy included, of course\"\n",
      " \"@AfeezAziz @surayaror Hi bro, for BNB the challenge is BNB is closely associated with Binance hence for Luno to list it would be like selling KFC chicken at a McDonalds. Even more ironic XD. FTT token would be the same issue, it's an exchange token associated with FTX. Luno is a different exchange.\"\n",
      " 'Featuring fun challenges for all levels, all of the SuperKicks content available on @EnglandFootball’s website is built from #EnglandDNA… so youngsters can train like @England players! https://t.co/6UbpCPs8xY @FunFootballUK https://t.co/UbLOmKBmfm'\n",
      " 'HUGE NEWS FOR #BITCOIN ADOPTION↙️ 1⃣ McDonalds will accept BTC2⃣ Walmart will accept BTC3⃣ Mexico will adopt as legal te…'\n",
      " '@McDonaldsCorp is it possible to get in touch with your product development department to pitch an idea that is sustainable, educational and environmentally friendly for the McDonalds happy meal?'\n",
      " 'McDonalds orange juice is so good, so in love w it'\n",
      " 'The Public Grand Opening Will Feature Bike Giveaways, Goodie Bags and Free Happy Meals for a Year: https://t.co/nLDb8TsGdG cc @McDonalds #LasVegas'\n",
      " '@lesbiansforbts Because they don’t look a like. It’s universally questionable to imply that one person of the same race looks like or wants to look like another. If McDonalds is giving out pcs of taehyung, why would another asian man with a neck tattoo be the replacement?'\n",
      " '@f1mrfox Supposedly the coffee beans go in this order of best. \\nNespresso\\nMcdonalds\\nCosta\\n\\nI find this pretty hard to believe but wow... Supposedly to do with buying power. I have good source from my research too.'\n",
      " '@KingZero @Centuryclubnft @IsoProphet I came n saw n hope to win @McDonalds @Zhazi2508 @leedamduc'\n",
      " 'just wanna sit in my bed with my best friend watching reality tv judging people while we eat mcdonalds in our underwear'\n",
      " '@ChinaPumpWXC WE ❤ LOVE 🐶#BabyDoge\\n@krakenfx @VitalikButerin @elonmusk @binance @McDonalds @coinbase @cryptocom  @kucoincom @SnoopDogg @BabyDogeNFTs  @RobinhoodApp @cz_binance   @WazirXIndia  @FTX_Official   @eToroNL \\n#BabyDogeCoin 🐕\\n#BabyDogeArmy \\n@BabyDogeCoin\\n https://t.co/rv3T0RN9l4'\n",
      " '@Blockcastcc @BabyDogeCoin @BscPitbull WE ❤ LOVE 🐶#BabyDoge\\n@krakenfx @VitalikButerin @elonmusk @binance @McDonalds @coinbase @cryptocom  @kucoincom @SnoopDogg @BabyDogeNFTs  @RobinhoodApp @cz_binance   @WazirXIndia  @FTX_Official   @eToroNL \\n#BabyDogeCoin 🐕\\n#BabyDogeArmy \\n@BabyDogeCoin\\n https://t.co/rv3T0RN9l4'\n",
      " 'From a company with money, artistic competence and time. With the creative an revolutionizing Toy Story in the back it is mindboggling why they disconnected it so hard and play it VERY save storywise and artwise. Some kids sure will love it, but those kids also consume McDonalds.'\n",
      " '@MelissaW06 @ChickfilA @McDonalds @redrobinburgers Ooooo yes they have the best fries'\n",
      " '@McDonalds $SafeRugV2. Dev seems okay and has had some decent projects in the past👀. Short term play so ape wisely. \\n\\n📈Chart:\\nhttps://t.co/1MYJbfzFnw…\\n\\n💬TG: https://t.co/EigGS79z4v'\n",
      " '@Bitcoin @McDonalds for Telegram it is a SOFT SHILL therefore without TEMPLATE\\n\\nfor Twitter: @viralupofficial THE BEST CRYPT PROJECT, PRESALE ON PINKSALE,  PROJECT FOLLOWED BY @britneyspears AND @BarackObama\\n#VIRALUP #VIRALUPCONTEST'\n",
      " \"Cannes Lions 2022: How McDonald’s evolved from being just a 'wallpaper brand'\\n\\n“With any big #brand, there’s a tendency to see hate comments, but you can then overlook the #consumers who love you. Focus on those consumers and why they love you.“\\n\\nhttps://t.co/XwiZbttHSS\"\n",
      " 'New Drake music , netflix series like Ozark and Stranger Things popping off ,im on a Mcdonalds diet , pretty girls all in my DMS , moving up in my career, im looking fly cause im in nikey, I be grooving when i feel like it ,all my people are healthy \\n\\nI could do this forever'\n",
      " \"Thanks for the tag @CnstellationRam but I'm changing the list cause I've done this before\\n\\nThe foods I like to eat\\nMala xiang guo \\nFrog leg porridge \\nMc crispy chicken \\n\\nThe drinks I like\\nPokka Peppermint Green tea\\nMcdonalds vanilla milkshake\\nPokka Green Tea\"\n",
      " \"@Kevmcguinness1 @Dookyk @GordonRamsay @GordonRamsayGRR Not that bad tbh. You're paying for the food AND atmosphere. A one off breakfast there would be fine, sure people spend more on mcdonalds breakfast.\"\n",
      " '@samuelbutler117 this is definitely not the experience we wish you had, Samuel. please reach out to us at: https://t.co/N8shZedQ0H'\n",
      " '⭐️ Free England Signed Shirts\\nFollow, Retweet, Comment or Like if you want one. ⬇️\\nThen click the link below.\\n🔥🔥 Get this NOW! 👉 https://t.co/F6ku5fQJA2\\nAll updates today 👉 https://t.co/Cyuy5cyY52\\n#freebies #freestuff #freesamples #competitions #EnglandnSignedShirts #McDonald https://t.co/71uDgiB6Cs'\n",
      " '@samuelbutler117 this is definitely not the experience we wish you had, Samuel. please reach out to us at: https://t.co/B5vmhl3SSM'\n",
      " 'We had a donation of 500 + water bottles and 500 + school bags from the @OfficialSACAA and over 2000+ waters from @McDonalds_SA working with @CocaColaAfrica at our previous event , we hope you can help us again this year at #EveryBarHasAStory Northern Cape! 😬 https://t.co/xFhFZqH9E7'\n",
      " 'i guess mcdonalds is celebrating pride month? https://t.co/0ifK5lEjTn'\n",
      " \"Your kids may get free Fun Football Activity Books from McDonald's. To keep your youngsters engaged, this book includes tasks and imaginative activities.\\n-\\nhttps://t.co/w8ZZN5KOqu\\n- https://t.co/m70Ew1i99u\"\n",
      " \"@OldMateClown @RockLeeSmile @McDonalds I am against the consumption of mammals. I think that is a pretty clear delineation. Do you disagree? I do wish McDonald's had vegetarian options.\"\n",
      " 'i saw a couple around their 70s at mcdonalds yesterday sharing some french fries while laughing and mocking eachother in a joke matter, probably the purest love of all ♡'\n",
      " 'We had a donation of 500 + water bottles and 500 + school bags from the @OfficialSACAA and over 2000+ waters from @McDonalds_SA working with @CocaColaAfrica at our previous event , we hope you can help us again this year at #EveryBarHasAStory Northern Cape! 😬 https://t.co/mPcObNRvQg https://t.co/7xDntsSUV0'\n",
      " '@NathanRhiley our aim is to ensure that our customers are always happy with their experience, Nathan! share details with us here: https://t.co/QvCFkM5drl'\n",
      " \"@Fiona31814 @Manxy @MaddrellDen @McDonalds @kfc We don't have the resources to be down there just to move on cars waiting on the road to turn in. It is frustrating as a cyclist for the lane to be blocked but the vehicles are trying to wait in the best possible place to not block all traffic.\"\n",
      " 'Best way to start any day. Who agrees? #coffee #McDonalds https://t.co/4TreP0kW0u'\n",
      " '@AddToTheList_ The McDonalds promotion for this movie was pretty super. https://t.co/Np672LeJhc'\n",
      " '@BoredElonMusk @McDonalds Next time you’re back in Chicago, the McD’s in the West Loop has an international menu that they keep updated with global favorites. I first heard about it from Meghan :)'\n",
      " '@chris_jay_1 @princessjack The money that corporations save from self service goes to the shareholders, not to the customers. Self-service (and cleanup) was a profit plan for McDonalds; the model was adopted by many businesses. \\n\\nhttps://t.co/nwFvTYDFbu'\n",
      " \"There are 1000s of opportunities in McDonald's restaurants right now.\\n\\nVisit the vacancies page, select your area and search current vacancies near you, including crew member, delivery, maintenance and customer care jobs.\\n\\nSee: https://t.co/mJEl3isuIL\\n\\n#BCInfo #JobsInHospitality https://t.co/a18Ivjpqvx\"\n",
      " '@ByuLune well i suppose they had mcdonalds at some point in her lives, so yeah?  (i like mc btw lmao)'\n",
      " '@McDonalds Ok guys we either need salads, grilled chicken sandwiches or snack wraps back. \\n\\nPlease choose one. \\n\\nYou went from having at least a couple of healthy items available to have absolutely none. At least I used to feel good about my Southwest Chicken Salad addiction.'\n",
      " '@Nancy_Cruises Omg are you kidding me! I rarely go to mcdonalds! I love me n Ed’s ranch too so I’m with you! My iced coffee was $2 and the extra caramel pumps were $2.84 I was like wutha heck! I didn’t even like it I could of got a caramel macchiato at Starbucks for the same price 😆'\n",
      " '@AnastasiaYeager @morethanmySLE Social Security is one of the greatest Federal Programs.  Can you imagine if it didn’t exist today, we would have seniors 80 years old working at McDonalds and many living in the streets.'\n",
      " 'Doors of Wealth Are Opened Thanks @ecr9495 in partnership with @McDonalds_SA https://t.co/D6Vr65B3Al https://t.co/iOffyz5itd'\n",
      " 'what a perfect but delusional off ramp for him just here helping ok well were all done here your welcom time to go we helped free ukraine im a hero ok can we have mcdonalds back!!are you fucking serious'\n",
      " \"Welcome green thumbs! Today we have everyone's favorite toxic company McDonalds produces 1.5 MILLION tonnes of food packaging alone🤢! Who knew that  everyone has their very own carbon footprint!  Find out what else is swept underneath the rug!\"\n",
      " '@Deepcoin_global @CoinMarketCap WE ❤ LOVE 🐶#BabyDoge\\n@krakenfx @VitalikButerin @elonmusk @binance @McDonalds @coinbase @cryptocom  @kucoincom @SnoopDogg @BabyDogeNFTs  @RobinhoodApp @cz_binance   @WazirXIndia  @FTX_Official   @eToroNL \\n#BabyDogeCoin 🐕\\n#BabyDogeArmy \\n@BabyDogeCoin\\n https://t.co/rv3T0RN9l4'\n",
      " '@Deepcoin_global @BabyDogeCoin WE ❤ LOVE 🐶#BabyDoge\\n@krakenfx @VitalikButerin @elonmusk @binance @McDonalds @coinbase @cryptocom  @kucoincom @SnoopDogg @BabyDogeNFTs  @RobinhoodApp @cz_binance   @WazirXIndia  @FTX_Official   @eToroNL \\n#BabyDogeCoin 🐕\\n#BabyDogeArmy \\n@BabyDogeCoin\\n https://t.co/rv3T0RN9l4'\n",
      " '@WazirXIndia WE ❤ LOVE 🐶#BabyDoge\\n@krakenfx @VitalikButerin @elonmusk @binance @McDonalds @coinbase @cryptocom  @kucoincom @SnoopDogg @BabyDogeNFTs  @RobinhoodApp @cz_binance   @WazirXIndia  @FTX_Official   @eToroNL \\n#BabyDogeCoin 🐕\\n#BabyDogeArmy \\n@BabyDogeCoin\\n https://t.co/rv3T0RN9l4'\n",
      " '@WazirXIndia @SheeSubhojit WE ❤ LOVE 🐶#BabyDoge\\n@krakenfx @VitalikButerin @elonmusk @binance @McDonalds @coinbase @cryptocom  @kucoincom @SnoopDogg @BabyDogeNFTs  @RobinhoodApp @cz_binance   @WazirXIndia  @FTX_Official   @eToroNL \\n#BabyDogeCoin 🐕\\n#BabyDogeArmy \\n@BabyDogeCoin\\n https://t.co/rv3T0RN9l4'\n",
      " '@WazirXIndia WE ❤ LOVE 🐶#BabyDoge\\n@krakenfx @VitalikButerin @elonmusk @binance @McDonalds @coinbase @cryptocom  @kucoincom @SnoopDogg @BabyDogeNFTs  @RobinhoodApp @cz_binance   @WazirXIndia  @FTX_Official   @eToroNL \\n#BabyDogeCoin 🐕\\n#BabyDogeArmy \\n@BabyDogeCoin\\n https://t.co/rv3T0RN9l4'\n",
      " '@WazirXIndia WE ❤ LOVE 🐶#BabyDoge\\n@krakenfx @VitalikButerin @elonmusk @binance @McDonalds @coinbase @cryptocom  @kucoincom @SnoopDogg @BabyDogeNFTs  @RobinhoodApp @cz_binance   @WazirXIndia  @FTX_Official   @eToroNL \\n#BabyDogeCoin 🐕\\n#BabyDogeArmy \\n@BabyDogeCoin\\n https://t.co/rv3T0RN9l4'\n",
      " '@WazirXIndia WE ❤ LOVE 🐶#BabyDoge\\n@krakenfx @VitalikButerin @elonmusk @binance @McDonalds @coinbase @cryptocom  @kucoincom @SnoopDogg @BabyDogeNFTs  @RobinhoodApp @cz_binance   @WazirXIndia  @FTX_Official   @eToroNL \\n#BabyDogeCoin 🐕\\n#BabyDogeArmy \\n@BabyDogeCoin\\n https://t.co/rv3T0RN9l4'\n",
      " 'Good news. I pick up plastic trash every week in our @New_Westminster neighbourhood from @TimHortons, @McDonalds &amp; @Starbucks. \\n@liberal_party needs to do way more on emissions but this is solid. \\n\\nThanks @NDP for pushing for this!\\n#plastic #plasticfree \\n\\nhttps://t.co/noOnK5846Y'\n",
      " '@WazirXIndia @DaripaSambit WE ❤ LOVE 🐶#BabyDoge\\n@krakenfx @VitalikButerin @elonmusk @binance @McDonalds @coinbase @cryptocom  @kucoincom @SnoopDogg @BabyDogeNFTs  @RobinhoodApp @cz_binance   @WazirXIndia  @FTX_Official   @eToroNL \\n#BabyDogeCoin 🐕\\n#BabyDogeArmy \\n@BabyDogeCoin\\n https://t.co/rv3T0RN9l4'\n",
      " '@FruittlixFroyo OMG RLY?? when my mom was lecturing me she was like \"u shld start working at mcdonalds now so that you can see what it\\'s like to work without a high school diploma!!\" and i was like WHAT??? IM GONNA GRADUATE HELLO  😭😭 i can\\'t imagine what it wld b like to be half of ur school'\n",
      " 'Short lil ad video I made for @McDonalds ! Making consumers feel peace and gratitude! Hopefully made them wanna try the great taste of salty and sweet 😍. Bring a lil joy to your life. #ugccreators #ugccommunity #ugccontent https://t.co/AhirawcW8Y'\n",
      " \"@BreakingBadIrny I'm really surprised McDonalds, Burger King, or shit even Chik-Fil-A didn't try and work a deal out with the show producers to make something like this happen.\\nHonestly would have been really funny\\nCould have made a whole promotion out of the 'help us find Heisenberg' material!\"\n",
      " 'Greetings green thumbs! The well known unnatural company McDonalds produces 1.5 MILLION tonnes of food packaging alone😨! Fun fact  everyone has their very own carbon footprint!  Follow for more daily environmental facts!'\n",
      " 'Sure enough, enter the comments, people bashing Adam Cole.\\n\\nRent. Fucking. Free.\\n\\nAll these guys bashing him are one fucking McDonalds Happy Meal away from a heart attack, just saying. https://t.co/k3KKvERDPv'\n",
      " \"@watersnakeoil Really?? I feel like I'm used to the McDonalds of note-taking apps and Apple Notes is like wild-picked berries.\"\n",
      " '@findependencec1 Haha awesome! We love getting coupons too. McDonalds is our go-to.'\n",
      " '@bestELISEeveeer Thanks for bringing this matter to us. Kindly DM us your name, contact number, and a copy of your receipt. Thanks.\\nPlease be reminded of our Data Privacy Policy before sending any personal details. You may refer to this at https://t.co/0q2nePvDDY'\n",
      " 'And 3 days ago, I watched @DaffyWoody\\'s video on their episode on the movie before I eventually saw it earlier that afternoon in theatres and after that I went to @McDonalds. As I have a MyMcDonald\\'s Rewards account, I used a \"Combo Meal, get a Happy Meal free\" offer.'\n",
      " '@McDonalds BOBOINU X PITBULL\\nThe most powerful meme bear in the crypto space meets a powerful meme-friend Join BOBO X PITBULL and make some bearish gains\\nMarketing is superb\\nhttps://t.co/Fs7JqQmAAO\\nhttps://t.co/mUAaLp5tNS #Boboinu #Pitbull #Cryptocurency #Bitcoin #Bsc\\n#meme'\n",
      " '@McDonalds bring back the Cajun sauce, idc about the BTS meal I just want the sauce.\\nPls\\nPretty please?'\n",
      " '@2pakisbootysex After 27 years of being there they’ll give you a free slurpee with a 25 dollar gift card to McDonalds that says keep up the good work'\n",
      " 'I’m gonna apply for McDonalds tmr !! Wish me luck !! https://t.co/tyw3NSgOhh'\n",
      " \"@itsfaer No because I'm 100% sure Levi's reasons not to let the kids get McDonalds it's because he knows that ain't no healthy shit 😭 and he wants his kids to eat nice healthy and homemade meals 💗💗💗💗 I'm so in love with this series\"\n",
      " 'Shooting from my fren from NYC #NYCNFT2022 \\nEnjoy your party while ME working from @McDonalds https://t.co/53TROHIGKN'\n",
      " 'It’s so funny to me how this beautiful atmospheric song is named “In McDonalds” https://t.co/ei7EFlAnm5'\n",
      " 'Australian McDonalds, lovingly known as “Macca’s,” still has snack wraps.\\n\\nGod is good.'\n",
      " 'seungmin i love u pls give me a chance we can have mcdonalds'\n",
      " '@NathanRhiley our aim is to ensure that our customers are always happy with their experience, Nathan! share details with us here: https://t.co/g1D0CJdc1j'\n",
      " 'Time to claim your favorite 6-pc. Chicken McNuggets with rice! Download the McDonald’s App and get chicken daily deals UP to 32% OFF! 📲 \\n\\nGoogle Play Store – https://t.co/zjw4RCGZuY\\nApp Store – https://t.co/QCId2HJpQo https://t.co/GtlcLYoFeJ'\n",
      " '@kizvonschweetz I do have two shoppies 1 original size like that and one mini and 4 mcdonalds cutie cars and a hotdog shopkin thats it.'\n",
      " 'Signage for a \"pretzel mcflurry\" cheered me up. Not because I want one. I\\'m loyal to the blizzard. But still....PRETZEL MCFLURRY. There\\'s hope yet!\\n\"I never expected that my creation would circle the globe,\" says its modest creator.\\nhttps://t.co/svgpBykK2S'\n",
      " '@McDonalds at some point you’d think you guys would have a different excuse other than, “our ice cream machine is broken.” We know it’s not broken. This makes it so much less enjoyable every time I come here and the ice cream machine is “broken.” Please do something about this. https://t.co/YbOVU9q645'\n",
      " 'Also, I found this\\nThought it was something cool like a bakugan, but it’s a mcdonalds happy meal toy. https://t.co/JZ1BImTxEt'\n",
      " \"@plasticreceiver Lmao mcdonalds could be a good date it's up to u to make it one, setting does not matter that much 🥺\"\n",
      " 'idk if the worker at this specific mcdonalds is in love with me or something but i keep getting extra stuff 🤭\\U0001faf6 like okkkk soooo ur in loveeee with me!!!!!????'\n",
      " '@JASONHA17381011 @TheRealKeean Good idea! has anyone tried drinking a McDonalds milkshake with the cheap paper straws they require?\\n\\nMy goodness, has to be the least enjoyable way to enjoy the beverage ever'\n",
      " 'i hope yall paying my good sis glorilla and hitkid some money since yall using beats and whatnot https://t.co/wvCRdZ7O5P'\n",
      " '@Touyarokii WAIT LMAO THATS AN OFFICIAL MCDONALDS ACCOUNT?!'\n",
      " 'Hey @McDonalds how many likes for free nuggets this month'\n",
      " \"TY Beanie Babies McDonald's International 4 Britannia Maple Erin Glory Original Packages Errors Vintage Vendimia Yours, Occasionally https://t.co/vQZBOOzW8I via @Etsy\"\n",
      " '@ChinasCanada @McDonalds @DairyQueen Lol, ya!  They were awesome!'\n",
      " 'Everyone talks about McDonalds Sprite but the real hidden gem is Chipotle Coke Zero. I normally don’t like Coke Zero, but it tastes better when it’s from Chipotle.'\n",
      " \"@wewerenishiki McDonald's Japan has marketing that's more creative and fun than the McDonalds in the west.\"\n",
      " \"@nHODLingWeTrust @AltcoinDailyio It's a good time for the great taste of $McDonalds\"\n",
      " '@DanhausenAD @McDonalds Pretty good'\n",
      " 'Hey @McDonalds &amp; @ChipotleTweets you guys should check out @RyanTrahan’s series he’s giving you guys DAILY attention and free marketing it would be dope to see you guys contribute to his cause :)'\n",
      " 'Lakas niyo sa ‘min, kaya bigatin ang treat! This Tuesday, get a FREE Big Mac for a minimum ₱300 worth order via McDelivery! \\n \\nClick here to know more about the promo: https://t.co/GmLTLJ8WwK https://t.co/Y8VTnt7xpS'\n",
      " '@ChipotleTweets @McDonalds you are loosing out on positive marketing by not donating to @RyanTrahan #feedingamerica 30 days crossing the country on 1 penny and eating only your food! Get with it on positive marketing!'\n",
      " '@LKWArtworks Ohhh yea i love honey mustard too but yea forgot if Mcdonalds has it lol but other then that yea i love alot of sauces tho whenever it comes to be if i try em mostly'\n",
      " '@AltcoinDailyio Treat yourself to a McDonalds happy meal'\n",
      " 'Fred you are smart, That is energy efficient. Gets 100 calories per gallon? Okay, is this a McDonalds add for their new meals? Good one! https://t.co/YGuc0m5CgT'\n",
      " '@therightbrigade when they see mcdonalds ultimately become a souless enterprise that kicked out the love and quality that the original brothers put into the movie that represents the ultimate decline in america because america = burgers and fast food https://t.co/HSv3vahDLH'\n",
      " 'I can\\'t lie\\n McDonalds had the best burger special \"the 2 for 2\"  in fast food history... The Real  know what I\\'m saying.. \\nThem thin back sleeping under the bridge mentality ones saying  I was eating salads ...in the 90\"s... https://t.co/U6XZX8Mm0T'\n",
      " 'Ok I’ve held out but ended up downloading the @McDonalds app and yes it’s amazing 😌'\n",
      " '@elonmusk Elon. Please. Please. Please buy McDonalds next.\\n\\nRun this through your most money savvy peers and progress forward.. https://t.co/dCvHZZsoTN'\n",
      " 'Going to McDonalds and getting a free meal when I talk to the cashier in perfect Irish'\n",
      " 'Love the Mcdonalds on Wilmington that mf take good ole EBT \\U0001f979'\n",
      " 'goodnight today was amazing idc loona cb i got mcdonalds and went outside the only thing that stinked was my cold getting worse but loona made the day awesome OKAY LOVE U ALL GOODNIGHT https://t.co/1Ah4UdpJMv'\n",
      " \"@BodackHorseman Back when Russia was ostensibly the bad guy. Now my news is a bit dated, but I've read they just got their first McDonalds there. Really hoping Capitalism unites the world. Looking forward to Russia being the good guy for once!\\n\\n#newstravelsslowinspace\"\n",
      " '@McDonalds $SafeRugV2. Dev seems okay and has had some decent projects in the past👀. Short term play so ape wisely. \\n\\n📈Chart:\\nhttps://t.co/1MYJbfzFnw…\\n\\n💬TG: https://t.co/EigGS79z4v'\n",
      " '@KarlousM He better have some McDonald stock. Went to McDonalds University got a free education and increased his wage'\n",
      " '@literaryblkgirl at hipster house id drive to mcdonalds lmfao but i literally have NO IDEA LOL i think i saw you all of 2 times?! and like. in pecatonica😖😖'\n",
      " \"Sorry, But McDonald's Mango Pineapple Smoothie is Pure Bliss\\n\\nhttps://t.co/CeEpFHJaJi\"\n",
      " 'i wish i had normal relationships w food. nothing has sounded appealing for like two months straight besides fuckin mocha frappes from mcdonalds and suddenly the thought of eating anything that isnt a chili dog is making me feel semi nauseous'\n",
      " '@TinSp00n good news! you got F9mily (You &amp; Me) by Lil Nas X. I WISH it was rock and roll mcdonalds though'\n",
      " \"@Culinerdy He's excellent for sure, and that voice. It can be Agustust and it sells a mean quarter pounder with cheese for McDonalds.\"\n",
      " 'Another one of our favorites at #CannesLions2022 today was a talk on how @McDonalds reinvented themselves. We learned to dig into fandom to find true consumer insights; asking “what do consumers love about us?” That lead to their new “your way” campaign. #creativityincommerce https://t.co/rYdmPyDsyQ'\n",
      " '@McDonalds @daijarena make more sweet tea for my friend hoe'\n",
      " \"@SVMMYlol open to all offers? \\n\\nI see.\\n\\nJoin my Gold/Plat team? I can offer you a free jersey + I'll uber eats you McDonalds fries after each win\"\n",
      " 'Double Quarter Pounder. Extra Onions, Extra Cheese. Add Bacon...Lord. Have Mercy!! I ate the  piggy... Waaa! Oink! Oink!...\\n An Large Poutine...an A Large Coke. \\nThree Joints of 20% or higher...or a Daily Special. Thank You @McDonalds  Thank You @CannaCabana https://t.co/dUMsQshcbe'\n",
      " \"@profamirattaran @DonutOperator @united @rcmpgrcpolice @Transport_gc @AirPassRightsCA @CBCPolitics @globeandmail @globalnews Wow, did you just punch down to people who have to work at @McDonalds ? Are you that privileged that you think it's okay to do that?\"\n",
      " '@McDonalds hey, I would love this in America. It looks good and you would make my day. Thank you. :) https://t.co/fvuEZefgPb'\n",
      " \"@McDonalds 'm on my knees when I'm beggin'\\n'Cause I don't want to lose you\\nHey yeah, ratatata\\n'Cause I'm beggin', beggin' you TO PLEASE BRING THE BTS MEAL BACK\"\n",
      " 'I LOVE @McDonalds that’s it that’s all 😊'\n",
      " '@bokamotoESPN @JMarquezMMA RULE #1 aka “The James Charles effect”\\n\\nNEVER RESPOND TO HATE OR TROLLS or it will only grow interest on the internet  like Seagulls at McDonalds.. throw them a fry and the swarm comes!'\n",
      " '@McDonalds @seoijns FOLLOW BACK PLS I LOVE YOU I LOVE UR ICE CREAM'\n",
      " '@McDonalds BRING BACK THE CINNAMON MELTS PLEASE &amp; THANKS https://t.co/l7KU8az4tN'\n",
      " 'YES THEY DO AND IT TASTES LIKE MCDONALDS SPRITE https://t.co/ZVcjEk4SYs https://t.co/5F9kPk6YET']\n"
     ]
    }
   ],
   "source": [
    "# comments with compound >= 0.7 (extremely positive)\n",
    "\n",
    "print(df_vader[df_vader['compound'] >= 0.7]['text'].values)"
   ]
  },
  {
   "cell_type": "code",
   "execution_count": 109,
   "id": "former-stream",
   "metadata": {},
   "outputs": [
    {
     "data": {
      "text/plain": [
       "448"
      ]
     },
     "execution_count": 109,
     "metadata": {},
     "output_type": "execute_result"
    }
   ],
   "source": [
    "# number of comments with compound >= 0.7 (extremely positive)\n",
    "\n",
    "len(df_vader[df_vader['compound'] >= 0.7])"
   ]
  },
  {
   "cell_type": "code",
   "execution_count": 110,
   "id": "former-summer",
   "metadata": {},
   "outputs": [
    {
     "name": "stdout",
     "output_type": "stream",
     "text": [
      "['did i cry today? yes✅. do i know why i cried? yes✅. did my reason for crying have anything to do with not having a mcdonalds diet coke? no❌. am i going to blame it on the lack of having a mcdonalds diet coke? yes✅.'\n",
      " '@Winning4Him He wants to reduce cancer 50% in 25 years? Then let’s get rid of @McDonalds @tacobell and all the other places that serve cancer food.\\n\\nThen let’s get rid of instant meals laden with chemicals.\\n\\nAnd to hell with Impossible Meat that is all chemicals.'\n",
      " '@_NPOB1 @PeePosh2 @Scottschlittenh @sceley2011 @Joe_Maya @tucsongirl1 @BD97 @NotRichHerrera @koby_thiel @gabeintucson9 @doublez_e @EricDTownsend @ironmikeluke @Free_Lantz @Ben1White @AZJanCR @BearDown_Ray @chango2213 @MaxKIIMFM @jasonscheer @MatthewRandle @KG7MAJ @MPShrike @Chad_Mcdonalds @thestevenwoods @CumulusNetworks @David_AZJourno @TrajanWealth @RBIrich @KIIM995 @_boog1 @JustinESports @FRomeroAstros @ESPNTucson Hey dumb ass that’s what you get for hanging out with scummy people named Sam.'\n",
      " \"@KingNight32 @Thall033 Haven't you seen them On path yet 😂 🤣I think Mission, wasn't successful because Some people just took Advantage of the name Safemoon And Money 🤣😅😂Now Some people Regret the fact they are now getting back working 8/5/9/6/  and some of in @McDonalds 🤣😂\\nBullrun/vs/bull ruined\"\n",
      " '@McDonalds  \\n\\nI ordered the Spicy Chicken sandwich meal with no pickles.  Some how this gets interpreted as \"plain\".  So when I get home with my mobile order, theres no sauce on my spicy chicken sandwich.\\n\\nUnacceptable. https://t.co/SciHFJq1nT'\n",
      " 'I mean, did the clerk give this lunatic a FILET O FISH™️ instead of the nine-piece nuggets and quarter-pounder with cheese that she (politely, no doubt) requested? You seeing this, @McDonalds? Get the orders right so customers don’t try to kill the staff with hunks of metal #FFS https://t.co/bs3Nxy8zYD'\n",
      " '@McDonalds I have the solution to your Over congestion, with uber orders. in store customers, MASSIVE Amounts of complaints. &amp; Irate Uber Drivers.\\nIm here if you wish squash some of your Chaos.'\n",
      " '@McDonalds BAGELS!!!!!!!!!  The sauce on the bagels to die for!!'\n",
      " '@waltzforgrace @FBI @McDonalds @BarackObama @NintendoAmerica @advengers Wait fuck i spelt avengers wrong'\n",
      " '@McDonalds Compensation for my pain and suffering? 🤔'\n",
      " '@POTUS i’m serious call the matriarchy call the phone company we will end this war and return McDonalds to Russia! #DropDataNotDeath #LetAIPutPutinInOverDrive @elonmusk'\n",
      " \"Of course you sold a lot of burgers. Russians haven't had McDonalds fast food since Putin started a war to kill all Ukrainians 🇺🇦 &amp; destroy everything in Ukraine 🇺🇦 about 3+ months ago.\\n#IStandWithUkraine 🇺🇦 https://t.co/HTIRkDjPX3\"\n",
      " \"@McDonalds Big Macs are fucking disgusting. You won't get rid of these disasterous things but get rid of bacon egg and cheese bagels. SMH\"\n",
      " 'that mcdonalds on sepcifically how the fuck are you gonna fit 47!!!!!!!! homes!?!?!? into that tiny mcdonalds space!?!??!?! what absolute shit'\n",
      " '@McDonalds @logelessratata Then why the Hell are you still spamming us with it? \\n\\nYour spam is incessant, and among the poorest-composed spam on all of Twitter.\\n\\nThe Tweet makes no mention of an expiration date, either.\\n\\nThis is actionable, as you are committing fraud, right now.'\n",
      " '@RosaliaGianna2 @Maddenthemuffin @Enfuego101 @purdueinsider @WittnessTweets @W_B_Rick He gained 100 kg in 1 year? Can you imagine how much he ate? \\n\\nI do not advise but try eating 10 times per day in mcdonalds . Then do that everyday for a month and u will be dead in a year.'\n",
      " '@ChristyClarkNC @HarrisTeeter @kroger @NCGV Cars kill more people but I don’t see you complaining. You Libs live in some twilight dystopia!! More have died from heart disease but I don’t see you bitching about McDonalds. Move along Karen!'\n",
      " 'standing at mcdonalds and this baby in a stroller just staring at me hard as hell'\n",
      " 'BROOKLYN PARK POLICE SEARCHING FOR SUSPECT AFTER ATTEMPTED CHILD ABDUCTION AT MCDONALDS...\\nhttps://t.co/M4mwJxUCbE\\n@SafetyAlertsMN'\n",
      " \"@shimiMacGhille @ThomasClarkeDgn I don't think they need to. I passed through england earlier....from north london to gatwick and the atmosphere there was very downbeat...brexit disaster, STG pound collapsing, more foodbanks than mcdonalds, cost of living crisis, tories still in power. \\n\\nLet them carry on.\"\n",
      " \"A Filipino family called a McDonald's drive thru attack caught on camera a hate crime. Police are searching for Nicholas Weber of North Hollywood.  https://t.co/5Yd0JVSTkD\"\n",
      " '/ / McDonalds — only BK if your sad or hate yourself. https://t.co/e1vMqhURQb'\n",
      " 'Only\"political violence\" i.e. death suffered was Ashlie Babbit. Period. A group who doesn\\'t get enough ketchup in McDonalds on a fri night is more violent than jan 6. FO. https://t.co/nms4oDRVvG'\n",
      " '@McDonalds i ordered a happy meal but i’m still sad wtf bruh'\n",
      " \"@_NPOB1 @Scottschlittenh @sceley2011 @Joe_Maya @stargatesg201 @tucsongirl1 @BD97 @NotRichHerrera @koby_thiel @gabeintucson9 @doublez_e @EricDTownsend @ironmikeluke @Free_Lantz @Ben1White @AZJanCR @BearDown_Ray @chango2213 @MaxKIIMFM @jasonscheer @MatthewRandle @KG7MAJ @MPShrike @Chad_Mcdonalds @thestevenwoods @CumulusNetworks @David_AZJourno @TrajanWealth @RBIrich @KIIM995 @_boog1 @JustinESports @FRomeroAstros @ESPNTucson @PHNX_Wildcats I've never actually watched before. It is so horrible; it hurts to watch! Everything is phony including his generic Lute Olson autographed ball.\"\n",
      " 'lish: can we stop at mcdonalds\\nmimi: no im making dinner at home\\nlish, sobbing: i fucking hate this gc'\n",
      " '@JackBox This why @McDonalds ice cream machine always down, this big head ass lil boy went all the way there to order 4 shakes 😒 I know the employee was pissed 😩😂😂'\n",
      " 'this is disgusting. THIS IS RIDICULOUS. RIDICULOUS! hash from mcdonalds?'\n",
      " '@McDonalds Fuck your shitty ass food and wages'\n",
      " '@irgarner the ruzzian world has no mcdonalds and you cant use credit cards... and the television shows are sh!t. \"great literature\" about dudes who steal pocketbooks and k!ll old babas.  it exists and it\\'s a pathetic sad place, much like ruzzians themselves'\n",
      " '@i_R_Scottay @zarahsultana @RMTunion Staff in McDonalds or Tesco get verbally abused every day. It’s a societal problem, not specific to rail workers. I’d imagine most customer facing roles face an element of abuse daily. Should we all get a pay rise?'\n",
      " '@AZ_Brittney 💙Brittney💙: \"What do you think Trump is doing right now ?\"\\n\\nMaking a list of all his enemies he\\'s going to have the Secret Service murder for him when he becomes Emperor of America, while sitting on a toilet and eating his 10nth McDonalds burger.\\n\\nJust my \"wild-ass\" guess\\n\\nPRM https://t.co/E7gJzJxCWP'\n",
      " \"@McDonalds @logelessratata Then delete tweet. It's misleading. Gets people to download the app and deliberately misleads a potential consumer. \\nNothing says the promotion is over. \\nThat's false advertising and a violation of Twitters rules. https://t.co/GbFEa5LWgn\"\n",
      " '@christyishungry @tumblr @pikamanREAL @Xeva_Sky @TheRealCoolmath @manscaped @SlimJim @tridentgum @SwedishFish @McDonalds my bad, google translate failed me again\\n\\n*clears throat* \\nmeow'\n",
      " 'SOME WOMEN CAN BE AND ARE AGGRESSIVE &amp; VIOLENT https://t.co/c26djOrA2n'\n",
      " '@sebn3 @MissingHampton @fuckyouiquit I’m going to toss my fucked up order of McDonalds on you next time cause the pot head making food in the back fucked it up.'\n",
      " '@stillgray You mean it “was” a McDonalds. \\nafter her anger tantrum tirade they should close.'\n",
      " '@raisingcanes when you dont have carriers but chage every penny. Your god damn idiot staff at Loyola Campus Chicago. Aholes gave me 3 drinks in a freaking plastic bag. Even @Mcdonalds is better at managing their Shit!! https://t.co/LLkpHE7wbP'\n",
      " \"@FinancialTimes @WaltDisneyCo @netflix @McDonalds @HomeDepot @Tesla @pfizer @Chevron himself @realDonaldTrump got @Pfizer PFE booted from the DOW but not @Chevron CVX may b a weak indicator of what is going on w the upper management in these 2 companies. Timing is everything, tho, b/c I wud've told u to sell PFE 30 yrs ago - nazi pieces of lying, murdering shit.\"\n",
      " \"@stasiareatwork @RubinReport Why would someone intervene? It's McDonalds, nobody has any vested interest on the company besides the burger they waiting on. Also, no white person is going to intervene just to get called racist and plastered all over social media as such...fuck them, they grown ass adults...\"\n",
      " '@McDonalds step your game up bro i just got some terrible ass fires'\n",
      " \"@FinancialTimes @WaltDisneyCo @netflix @McDonalds @HomeDepot @Tesla @pfizer @Chevron to be associated w the defense contract swamp in the past, &amp; I don't have any indicators to let me no if defense contract swamp-related companies have purges all the gay nazi swamp assholes from their upper management, so can't help u on this one. Fact that #TheSwampTerminator\"\n",
      " \"@Super70sSports I had an aunt and uncle who worked for the government and whenever we'd go to McDonalds they'd lament what they were doing to the environment with this packaging. This is one of the reasons I had such a lousy childhood.\"\n",
      " 'who the fuck be ordering a fish fillet at mcdonalds so i can block you'\n",
      " '2 things saddened me about younger gen: \\n- young guy AirPods in, walking, staring at phone seemingly detached from reality. \\n- young teens (under 15) talking explicitly about grotesque sex acts loudly in McDonalds. \\nUltimately not my business what people do, but still saddens me.'\n",
      " '@stillgray For context: this is old. Toy Story 4 toys were available in McDonalds during June 21st, 2019. \\n\\nThere’s no secret that ppl post videos like this as a sick form of entertainment. Serves no purpose other than to mock ppl and get likes. Shame on y’all. YOU’RE part of the problem. https://t.co/nWz6tp68na'\n",
      " '@McDonalds I’m suing y’all racist ass why y’all didn’t give us holiday pay yesterday ???? Definitely RACSIT and unfair'\n",
      " '@Fuck_Mcdonalds_ The fact that I was attacked by you and your parasite? Records of you fighting with Painwheel and attacking a civil in a cafe and destroying things inside of a church?'\n",
      " '@Strawberrydog69 @ZachRya71490433 @StegMG @Probably0Ratios @ZenoAtlas REPLY BACK PUSSY?? TOE SUCKING WALL LICKER MCDONALDS REJECTED TOY????'\n",
      " '@unclebeanbag_47 @McDonalds I say this shit everyday!!'\n",
      " 'Wife away and McDonalds do not deliver to my address. Forget the troubles in the world. This is a catastrophe. Hungry.'\n",
      " '@McDonalds fuck your fake ass burgers'\n",
      " 'im so sorry you had a negative experience at an italian mcdonalds im so so sorry that happened to you'\n",
      " 'I’m craving nasty ass McDonalds'\n",
      " '@Ivan_Avalos8 @McDonalds OH HELL YES!!!!!!!!!!!!!!!!!!!!!'\n",
      " '#MeToo !!! They destroyed my job at @McDonalds they all gained up and did terrible things sabotaging my job efforts and intentionally setting me up for failure while belittling me and even sexually discriminating me sexually harassing me. BAD EVIL PEOPLE !\\n\\nI LOST EVERYTHING! https://t.co/NdKZ4wNDn8'\n",
      " '@serengaslite_ @kaizwyd @Chocotico61 @McDonalds The lowest price for mcnuggets is 5$ they make it free for yo broke ass and you still find a way to complain 😭'\n",
      " 'also one of my biggest pet peeves is when ppl refuse to believe that mcdonalds operates differently than it did 20+ years ago during supersize me like pls \\n\\nnot bc i love mcdonalds but bc u sound DUMB https://t.co/6M09DZOBMn'\n",
      " '🛑 #SCAM 🛑\\n\\nFear Of McDonalds Careers (#FOMC/WETH)\\nToken contract:\\n0x2Ac7Ed658ae3290cf83e6c27Ea43764181509305\\nEtherscan - contract error.\\nLiquidity was removed! - #rugpull\\n5 wallets control 97.79% of the tokens!\\nBiggest wallet control 90.08% of the tokens!\\n#DYOR'\n",
      " 'Receive an order from @McDonalds, arrive and find a sing that their closed. These inconsiderate people have left their delivery tablet on which is requests to pickup orders. Riders arrive and now must cancel the order and @UberEats pays £0.00 for the wasted time. @IWGB_CLB https://t.co/YO62pFSqhS'\n",
      " 'Sometimes I just get really sick of America and it’s politics. Most cities/towns are depressing with the modern vapid architecture. Nothing but telephone lines, ugly storefronts, gas stations, wal marts and McDonalds. Nothing inspiring or uplifting.'\n",
      " '@McDonalds Bro if someone gave a fuck McDonald’s would be bankrupt'\n",
      " '@StephenPunwasi Amir is probably one of the most mentally ill canadians in the country. \\n\\nI feel bad for anyone who has to serve mcdonalds to this elitist. He would probably be the type to yell at a mcdonalds worker for accidently putting a pickle on his burger.'\n",
      " '@AKirshner123 But I still enjoy them... People order mcdonalds and taco bell. I would argue that would kill me fast than a dirty lemon lol'\n",
      " 'baozi and a potted plant at spadina and dundas...3am mcdonalds a few blocks south, tryna avoid getting into a fight...after hours pitchers and cumin lamb from a basement...the chaotic democracy of a blue line back east at 4am...homesick for a city gone 🥺'\n",
      " '@McDonalds I’m tired of your shit Fucker bring back the Snack Wrap right now! I have waited for years and years. Bring it back! I don’t make me ask twice'\n",
      " 'I’m mad as hell why do my fries taste like a fucking filet o fish @McDonalds'\n",
      " 'They Really Had Vesta Williams &amp; Al Jarreau Scattin’ Bout McDonalds To Appeal To US…I Hate Capitalism Wars'\n",
      " 'Horse molester OAP admits sex assault on teen at Scots McDonalds https://t.co/X1U7kxZena'\n",
      " \"Exclusive-Heir to McDonald's Russia craves success but Big Mac a 'big loss' https://t.co/jN3GIhj3Wp \\nRussians are bunglers. They are good at stealing, imitating, and political propaganda lies. \\nBolsheviks invented propaganda lies. Kremlin has had hundred years of practice.\"\n",
      " '@RevChuckCurrie @Franklin_Graham Poor guy... He might choke on his fries and Mcdonalds burger...'\n",
      " '@Joshua_And_Hyde @Romare @PennyMSBSNRN @danesantorini @navysailor808 ISS would be a good place for him. \\nNo ability to communicate, but just circle the world you tried to destroy. AND NO MCDONALDS 😂'\n",
      " 'There’s another side of job hunting that doesn’t get discussed. For instance, I have two degrees &amp; a shit load of “professional” experience. I couldnt get a job at McDonalds if I wanted to. I even denied by Walmart. Why?'\n",
      " 'Excuse me @McDonalds but what the hell https://t.co/DFf3gNDpi6'\n",
      " '@rxssaaa Mcdonalds sprite hit but that shit feel like liquid death'\n",
      " '@trapperjohn37 40 acres? Hell just give me a McDonalds parking lot! 😀😀😀'\n",
      " 'no fr bc it’s literally so dumb 😭 i remember a literal mcdonalds told me i had to have no piercings if i got hired….. like this is literally a minimum wage fast food job what??? https://t.co/3ulBmV2lEU'\n",
      " '@DaDogin @__OmegaZero__ @FifiFrula @TheActMan_YT I actually run my own business but well done for your boring \"WoRks At McDoNaLdS\" insult. I mean those that do work at mcdonalds probably have 10x the work ethic you do. Why not try growing up a little?'\n",
      " 'fuck u mcdonalds. nobody is fucking up at 10 imnthe stupid ass fucking morning to get breakfast. JUST ESERVE THAT SHIT ALL DAY U DUMB FUCKS JESUS CHRIST ALL I WANT IS A FUCKING MCGRIDDLE AND UR FAT ASSES CANT SERVE THAT SHIT ALL DAY.  I DONT WAKE UP BEFORE ELEVEN BITCH🖕🏼🖕🏼🖕🏼🖕🏼🖕🏼'\n",
      " '@McDonalds nah fuck y’all and y’all funky ass drinks ! 🤬'\n",
      " '(Cont) @McDonalds My kid loves your food but I’m done wasting my money and time being ripped off repeatedly for years. Another wasted lunch hour today.'\n",
      " \"@McDonalds The number of celebrities involved in sex trafficking children is SICK! The number of Pastors, Priests, &amp; Bishop's sextrafficking children is SICK, the number of gospel singers that sextraffick children and RAPE children is SICK! Help us rescue the children out of the sextrade.\"\n",
      " 'And now i came to use the mcdonalds restroom and this nasty ass old guy just walks out and didnt flush 😐'\n",
      " \"Our local @McDonalds is out of #ChickenNuggets &amp; #FrenchFries...\\nAnd customers in the drive thru are losing their fricking mind!\\nWTF!\\nSOOOOOO, a couple of nice hot #BigMacs &amp; a large soft drink (with the management giving you 10% off) isn't good enough anymore???\\n#SomePeople\"\n",
      " '@RoddyDondada BIG MAC BILLBOARD OUT IN TIMES SQUARE, AND I AINT TALKING BOUT MCDONALDS BITCH!'\n",
      " \"@Krisbouncesback He's watching from the lobby during a hangry rage cheesburger eating frenzy at McDonalds.\"\n",
      " '@JoeMcJoe11 @McDonalds @Twitter That happened to me once. I was pissed! I went back to the restaurant and showed them and they said that was \"impossible\". Really?!!'\n",
      " '@WildKingNL @McDonalds Damnit! I had no idea. I just checked and I lost 6300 points.'\n",
      " \"@McDonalds I don't need the store to call me and give me a fake apology or send me a template email saying sorry. I know how corporations work. Give me actual results. I wasted 30 minutes of my morning and never got my order. (This is what I sent to @McDonalds @McDonaldsCorp)\"\n",
      " '@McDonalds All of these sandwiches come with cheese. How do you not put cheese on it? Not once but twice you messed up my simple order. No, I did not return a THIRD time to give the store a chance to fix or mess up the order. 2/3'\n",
      " 'went to mcdonalds and they got my whole ass order right holy shit https://t.co/b0KpUxrzSt'\n",
      " '@McDonalds Oh hell naw their french fries are soggy as hell'\n",
      " '@ubereats_uk @UberEats ordered McDonalds at 16:30….. it’s 18:55 and still no food!!! FUMING'\n",
      " '@McDonalds the customer service has gone to the Dogs. I stopped@ 5111 Pearl st. Oasis&amp; order 3 meals. The fish sandwiches were horrible they are usually hot&amp; when I called the Mgr Ashley wldnt replace the meal mgmt sucks!'\n",
      " \"Are you going to Cancel McDonalds next for killing obese people? you're much more at risk to die from a bad diet. https://t.co/TrZkTe2Gqx\"\n",
      " 'Today I realized that I do not love McDonalds French fries, it’s the french fries from the McDonalds on Stokes Rd in Medford that I love and that’s all'\n",
      " 'one of my local mcdonalds saying they out of ice cream while we know that bitch broken for the past few years https://t.co/AnJHjXzUFl'\n",
      " 'Y’all better stop eating this fake ass shit lol https://t.co/VXDvhMO4NY'\n",
      " 'Nanaya and I have been banned from our 100th McDonalds today for death threatening a child'\n",
      " \"Ran a few errands at lunch... Got hungry... Then had a hankering for a Big Mac🙄.\\n\\nNow I remember why I haven't had one in a about 20 years 🤮🤢\\n\\nI feel so gross now.\\n\\n@McDonalds you suck.\"\n",
      " 'GOT INTO A FIGHT, KICKED OUT OF CORKYS , LOST DEBIT CARD, FELL ASLEEP BEFORE EATING MY MCDONALDS , AND FORGOT TO GO DRIVE MY FORKLIFT TODAY! AHHH MY EX HATES ME ):'\n",
      " '@PostFromProtest @SandyConnell5 @ShaunLinden @elrington1952 @Brekkietweets This has been caused by the mad idea that people should go to university even when they wont benefit. They then get jobs in McDonalds and are saddled with massive debt.'\n",
      " '@13spouses can we switch it to burger king or wendys tho\\nmcdonalds sucks ass'\n",
      " '@BMNiedermeyer Hey Neid, did you ever pay McDonalds for all those bags you gave out to recruits with cash in them?? What a stupid way to cheat!'\n",
      " '@McDonalds I would but y’all sauce is so ass'\n",
      " \"Just bought myself McDonalds for breakfast and I have never truly detested myself more. I'm disgusted.\\nRuined my whole mood fr. Made me realize how down bad I am.\"\n",
      " '@Gl0omyxz i got an apple pie from mcdonalds and then a moth flew on it and i screamed and cried and pissed it was the worst day of my life'\n",
      " '@ChrisGuanabacoa @PinkoJames @pgaetan @ArabGlobalist @PaulGalushkin @patrickbetdavid @McDonalds So I get it now. We fund terrorism, stage coups, put in puppets and keep poking the bear to get a reaction that we want and then say \" oh how aweful!\". Nah. Our government is guilty as sin.'\n",
      " \"@Rothmus I have a deal for the government bug man. I'll eat the grasshoppers at Burger King and McDonalds if I can keep the beef whenever I'm eating real food. And I only eat those shitty fast-foods when I am on road trips, so he can't take cars away either or else no bugs for me.\"\n",
      " 'dpnt order the sussy mcdonalds meal worst mistake of my life'\n",
      " \"'She was strangled': Filipino family calls McDonald's drive-thru attack caught on video hate crime \\n\\nhttps://t.co/M8KH7V2VXN via @abc7chicago \\n#HateCrime #AsianHate #Hate #Violence\"\n",
      " \"A Filipino family called a McDonald's drive thru attack caught on camera a hate crime. Police are searching for Nicholas Weber of North Hollywood.  https://t.co/mLAGqoXLgZ\"\n",
      " \"'She was strangled': Filipino family calls McDonald's drive-thru attack caught on video hate crime https://t.co/ywHn9JeFmR\"\n",
      " '‘She was strangled’: Filipino family calls McDonald’s drive-thru attack caught on video hate\\xa0crime https://t.co/Y4CAF9ABwc'\n",
      " 'its fine. Ill ignore my problems and eat mcdonalds'\n",
      " '@CFCRere No amount of crying in my mentions can change the fact that you resemble a beluga whale. Probably inhale big macs so fast that i could open up several mcdonalds chains just by emptying out the contents of your stomach'\n",
      " \"@BillyMc92226336 I mean, if you insist on only consuming inferior products, that's your affair. You can eat nothing but McDonalds every day while you're at it. Ain't my business. xD https://t.co/6L6ZVgiZzs\"\n",
      " \"i'm eating a mcdonalds burger while crying to joji. i'm so fuckin sad\"\n",
      " '@McDonalds the mc rib hurt my ass so bad currently i have to use a tube to shit i saved the mc rib in my freezer anwyas love you 😍 ❤️'\n",
      " \"@based_mcgill Besides the black coffee, everything is literally poison.  If you eat at McDonalds you're only slightly less retarded than this woman.\"\n",
      " 'BREAKING NEWS: miranda review of the mcdonalds spicy crispy chicken sandwich\\n\"this shit sucks\"'\n",
      " '@McDonalds workers are so miserable 🤦🏻\\u200d♀️ If I didn’t want this damn McFlurry 😂'\n",
      " 'Wtf @McDonalds this is not a bacon egg and cheese bagel, wtf kind of meat is this https://t.co/OSgUmMwSkS'\n",
      " \"@Taj_Ali1 @Battersby1888 Exactly! No matter what job you do it's time for everybody to be involved. This country has the lowest pay grades in Europe! Lowest pension! They are taking the micky big style! For the last 12yrs the rich have got richer and poor, poorer! More food banks than McDonalds!\"\n",
      " \"@JoenanB @McDonalds It's absolutely the worst experience everytime i go in there. They have the rudest customer service, including the managers. Leave your food on the side for like 5 minutes on avg until its cold, and can't get portions right 😤\"\n",
      " '@PrairieVeteran @traceitback @uOttawa @McDonalds They would ban the wanker, but then he would starve.'\n",
      " '@DanhausenAD @McDonalds Damn! Even Silver Surfer got a night job at Door Dash? Cheap ass Galactus!'\n",
      " '.@McDonalds cus why the FUCK would you not have a chocolate milkshake on the main menu are you mad? https://t.co/7vAL90GS2Q'\n",
      " '@McDonalds I’m sick to death of not being able to get a frappé. I have no appetite at all anymore and all I want to do is be able to at least drink calories and you have let me down more than 4 times now. I’ve been to many different restaurants. Bond have had any!!'\n",
      " '@Sheikh__Zohaib @RnaudBertrand Plenty of workers. But no one is going to work hard in a factory making the same money they could flipping burgers. Federal contractor minimum wage went up 50% McDonalds followed suit. No one wants a tough job when a burger flipper gets the same money.'\n",
      " 'BAGELS ARE BACK AT MCDONALDS!! THIS IS NOT A DRILL, I REPEAT, BAGELS ARE BACK BITCHES!! 😋'\n",
      " \"Woman hands cash to fraudsters in McDonald's car park in Sudbury https://t.co/zpd6NSqq4R No details then.Description of criminals,what the  defraud offence was.\"\n",
      " '@McDonalds She brought the drink to the counter.  She knew there was no straw.  She had to take 4 steps.  Refused.  I told her that if she was going to “be this stupid” that I would just leave.  I did.  Fire her.  Today.'\n",
      " '@Power106LA You partnered with a rape apologist… Not a good look @McDonalds or @Power106LA https://t.co/zUxKh7BG6x'\n",
      " \"@sama_tin Oh the chicken big mac is really not good. But honestly, most McDonalds food isn't that good.\"\n",
      " 'My mom got us mcdonalds \\nAnd she got me the new chicken big mac.\\nIts one of the worst if not the worst burgers i ever tried at mcdonalds. It just dosnt go one with another and the mac sauce turns the breading of the chicken to mush its really just bad.'\n",
      " \"@alyssaAtHome @lauraleesaylor @arvofart Also her bodyguard Chris Deedy got away w murdering an unarmed local man in Hawaii. Her fedboy took gun w/ him to the clubs &amp; Mcdonalds OFF DUTY where he shot &amp; killed someone w it. \\n\\nIf you're still yawning, take a nap. \\nShe let a killer loose &amp; he killed w impunity. Colonizers.\"\n",
      " 'These collabs getting crazy now. You seeing shit like carhartt McDonalds scarrs pizza vans adidas Star Wars purell opi capsule'\n",
      " '@McDonalds y’all suck fr fr!! I payed for a McGriddle combo meal! And I order two coffees and added creamers and everything. WTFFF WAS THAT SHIT  BITTER AND DRY. &amp;&amp; @UberEats count your days cause why you keep dropping my food off at the wrong house 😐‼️'\n",
      " '@MzTeel @balleralert @McDonalds I heard they owned 16 in Florida not confirmed yet BUT one did get fired, but i wonder if they own any as stated. I was looking for the person to post it but the one fired was an operations manager per his arrest'\n",
      " 'MY COSMO TEACHER LEFT THE SCHOOL TO GO TO MCDONALDS AND SHE IS LOST. SHE IS STANDING IN A PLAZA LOOKING FOR MCDONALDS AND APPARENTLY SHE DOESNT KNOW HOW TO USE GOOGLE MAPS. WHAT THE FUCK IS GOING ON'\n",
      " 'McDonald’s Customer Stabbed to Death in Dispute Over Order at\\xa0Drive-Thru https://t.co/9Kre4TDCcP'\n",
      " 'My nasty ass head just thought the worst https://t.co/CzuQzGKFqM'\n",
      " 'How does this lunatic still have her job.\\nIf she worked at McDonalds she’d have already been fired for incompetence. https://t.co/mwfKc4yD5V'\n",
      " \"@ChrisGuanabacoa @PinkoJames @pgaetan @ArabGlobalist @PaulGalushkin @patrickbetdavid @McDonalds At least my opinions don't support risking WWIII, the worthless death of our youth, supporting the MIC and ruining the economy.\"\n",
      " 'if i had a dollar for every notebook ive filled with dubious plans to destroy a mcdonalds... lets just say thered be a lot less ronald mcdonald'\n",
      " '@McDonalds Dont eat this shit!!!'\n",
      " '@ChrisGuanabacoa @PinkoJames @pgaetan @ArabGlobalist @PaulGalushkin @patrickbetdavid @McDonalds Which is why the United States should have just left it alone or at least left it to all the old little warmongers in Washington that thought it was a good idea. No. They just sit there cowardly asses behind a desk because they are worthless'\n",
      " '@spoonylawllol @McDonalds Sadly it’s because you’re not eating real animal meat. Their food is horrible'\n",
      " '@McDonalds Filled out the info twice, when I select the location it takes me to a different page with no option to submit. Asks me to start my order for pick up! Not worth all this hassle, no more @McDonalds for me. Ridiculous.'\n",
      " '@cbouzy all these useless fools need to go work at mcdonalds'\n",
      " '@McDonalds you need to sort out your delivery it’s an absolute joke every time the order is wrong shit is missing or it’s the complete wrong items. Just mashd up a gross sausage and egg McMuffin I ordered double bacon but NOOOO obviously the staff have ONE BRAIN CELL between them'\n",
      " '@CouncilCoventry @Jinx_OliveEater If I work at McDonalds and gave burgers without taking money, I’d be fired and prosecuted for theft.\\nYou can bet rail companies argue the exact same applies. If a ticket “costs” £10 and you give it away, someone has “stolen” £10. Which is why people get fined for fare dodging.'\n",
      " '@McDonalds I’de say bring back the McDLT, but you would somehow fuck it up!'\n",
      " '@BidenBurner46 @SenSanders Or how about…. No. You’re a failure if you can’t get a good job out of college thats your fault not mine. I’m not paying your bills for you. Go work the fryer at mcdonalds and suffer for the rest of your life for your poor decisions.'\n",
      " '@Yoorae___ No jollibee\\nNo Mcdonalds\\nAnd NO burger king'\n",
      " 'Ukrainians are being killed, losing their homes, losing their loved ones\\n\\nRussians have lost their McDonalds.\\n\\nBoth sides are the same https://t.co/fD9Wf1BL2y'\n",
      " 'okay wait before I actually go to bed I find it extremely funny that im posting little photos of my body but at the same time my followers are getting shit like \"a mcdonalds sprite would kill william afton\" pop up all because I retweeted it'\n",
      " '@Newsweek @Newsweek must have been ordered by Dems to create a negative imagery over McDonalds. This took place at a location by two individual that could be arguing over stupid driving disagreement. Outside.'\n",
      " '@McDonalds No nobody get it, it is a scam, and willingly a dumbing down of American grammar. Don’t eat mCdonalds, or you might get Cancer.'\n",
      " 'tiktokers doing that mcdonalds drive thru trend w pictures of themselves UR UGLY AND ANNOYING SHUT THE FUCK UP.'\n",
      " 'I was banned from McDonalds because I upset other children and confused them.'\n",
      " 'I don’t want to see any tweet hating on Muslims for slaughtering animals, about 1 million animals killed each day by KFC, McDonalds, Burger King etc. too feed the rich &amp; making hella money out of it. During Eid Muslims sacrifice them to feed the poor for Free &amp; y’all lose ur mind'\n",
      " 'I wish y’all could see the chaos on my island cause we opened a KFC. We only have 1 McDonalds which opened in 99, prior to that NO fast food. We got a Starbs about 3 yrs ago &amp; num 2 will open soon. KFC has opened nxt to the McD’s &amp; the line has caused island wide traffic chaos 😂'\n",
      " 'I AM I FUCKIN HATE MCDONALDS LES GEDDIT , JUST GOT FIRED'\n",
      " '@shabuspecialist YOUU!!!! BUILT LIKE A DAMN CHICKNE NUGGET OF THTA 9 PIECE MCDONALDS GET UR ASS BACK IN THE FRYER'\n",
      " \"@ThePandemica Here's an article about it. There were several during that time that tried to Scam McDonalds and others for their own mistakes. https://t.co/fpgFotHiJf\"\n",
      " \"@Fuck_Mcdonalds_ //yea, she's gonna destroy any poor bastard she fights\"\n",
      " \"🛒 IKEA now sells all factories in Russia\\n\\n😱 First McDonalds, now IKEA. Now the poor Russians are sitting on the floor in their empty apartments without any food. 🙁\\n\\n🤔 Well, at least they won't have to freeze in winter 🤪 https://t.co/PyTo1jo77J\"\n",
      " '@chribreuer @Peter_Nimitz During anti-Iraq war protests McDonalds restaurants were regularly attacked/windows broken. The true American embassy.'\n",
      " 'Genuinely think that McDonalds Harwich is the worst McDonalds in the country. Never get your order right, always something missing 🙄'\n",
      " \"McDonald's customer stabbed to death in dispute over order at drive-thru\\nhttps://t.co/Af29rfhrWo\"\n",
      " 'i wanna fucking murder any fucking dude who fucking looks in her fucking direction!!!!!!!!!! and i’ll fucking do it right fucking here at this fucking mcdonalds since u wanna fucking order something inside the fucking place you fucking asshole bitch'\n",
      " '@CherryBombVT i can see it in the news saying, \"we are here live with a angry demon named cherry is destroying a local mcdonalds while listening to gasolina.\"'\n",
      " 'I was banned from McDonalds because I failed to perdict an earthquake.'\n",
      " 'discord is dead time to pick up my mcdonalds hat'\n",
      " 'IS FUCKING DISCORD DOWN\\n???????????????????????????\\n@discord or  is it just my mcdonalds wifi????'\n",
      " \"@JoeAndTheScot @markbabb16 @JP1958S @sentdefender Actually they eat the aftermath of McDonalds. So it's even worse than very bad non-nutritional food.\"\n",
      " \"@icrusrry I have no place to stay I've been sat in McDonalds all night, I was supposed to be staying at my online friends house but her mum didn't allow it so now I'm stuck at bottom of Country with no money or a place to stay I'm so tired and jus wanna cry\"\n",
      " 'Fries crisis in mcdonalds is so sad \\U0001f972'\n",
      " 'this shit sucked @McDonalds'\n",
      " '@alfaiella @kmcquil1 @Breaking911 Eating mcdonalds, watching fox news and tweeting everyday doesnt seem like working. America doesnt need Trump anymore. He divides. He’s a bully. A narcissist. Brings out the worst in racists. We need someone else. Younger and smarter.'\n",
      " \"Horse molester, 75, admits sex assault at Perth McDonald's. https://t.co/IXCDUOZJx5\"\n",
      " \"@TheCoomunist Isnt McDonalds best known as the Fast Food Establishment with the most Ice Cream machines that either break down due to lack of upkeep or are constantly under maintenance problems?\\n\\nI dunno what she was expecting. She went to a McDonalds of course the Machine isn't working again. https://t.co/DQqfe2tWiC\"\n",
      " 'Nanaya and I have been banned from our 100th McDonalds today for death threatening a child'\n",
      " 'McDonalds’ literally forgot my combo and this is what @DoorDash has to say. What the fuck. I once got the wrong order, was able to give the name and order # on the receipt, and they still pulled the same bullshit on me. https://t.co/IWUYAzb7Di'\n",
      " '@McDonalds I wish I could dip my nuggets in something but your trash ass pathetic employees can never seem to actually get my sauce in the bag so, guess I’m not dipping shit now am I? If I use the app will your employees be less retarded?'\n",
      " 'she had her mcdonalds at the nuggets and was dead set on me eating too??? she was like get a nugget meal \"i dont feel like driving\" door dash it \"im not that hungry\" get a kids meal \"nah\" kids meals are cute! CAN YOU SHUT THE FUCK UP! so fuckin annoying bro'\n",
      " 'and how did you lose weight and get skinny. well girlie it wasnt from eating mcdonalds all day i can tell you that ☺️. i told her my brother got me a taco for breakfast so she wouldnt bring me breakfast. and it was so weird she literally wanted me to eat so bad'\n",
      " 'WVERYONE NEEDS TO REMIND ME TO STOP GETTING MCDONALDS I KEEP GETTING FOOD POISONING IM IN PAIN'\n",
      " '@WendellHusebo @POTUS So much wrong w/this statement we can’t even begin but:\\n\\nTrump’s a fat ass, McDonalds loving, unhealthy, uncouth moron who can’t even walk up a flight of stairs without breathing heavy.  He never even rode a bike in his life so no fear of falling there.\\n\\nOh…TRUMP IS A CRIMINAL.'\n",
      " '@TheLadyMuse @ACTBrigitte I agre 100% but don’t go to college for some bullshit degree that pays you less then a McDonalds worker and expect me to pay for the four year you  partied. The university aren’t stupid they offer all the classes which you couldn’t get a job using it but charge an ass load of $$'\n",
      " '@McDonalds @Mcdonaldindia2 not happy with the service so pathetic order is ready for over 30 min min and gets picked late and all food is cold'\n",
      " 'Back home the 119 is more like a broken Eastern European motorway\\nFalse patrolmen wreak havoc in already bad weather\\nMissing my turn at every crash \\nFlying thru roundabouts into an understaffed @McDonalds drive thru\\nMike fumes at their inability to remember patties in a Big Mac.'\n",
      " '@GarbageApe The server asked me if wanted fries with that. I scoffed at his arrogance and raising my clenched fists in the air I responded to the entire assembled McDonalds, \"Would that end racism?!!!!! Would that end sexism?!!!!\"'\n",
      " 'but i went to mcdonalds bc u was hungry and as soon as i got there and lost appetite and everything seemed nasty so i got diet coke n water'\n",
      " 'I am craving mcdonalds hard rn, but county living means no doordash :('\n",
      " '@WifeMamaHome The difference is the free market. Passports are run by the govt. They get paid even if the service is crappy. If McDonalds started making everyone ill with botulism they would be forced to close.'\n",
      " '@McDonalds It made me cry, I was having a tough day, and then boom, no milkshake :('\n",
      " \"Death, Taxes,  NHL Players with Missing Teeth,  Porn Stars with Herpes, Picking slowest lines, @__ChrisCote asking for the funniest thing in sports each weekend,  and McDonalds' shake machine broken\\n\\nAm I missing any?\\n\\n#GuaranteesInLife\\n@Stugotz790\"\n",
      " 'dam Im actualy very unmotivated to do shit.\\nGonna grab some Mcdonalds yall want somethin?'\n",
      " 'I am so fucked up in this Uber. I need to puke so bad. However, I got McDonalds on the way so I know that’ll get me right together.'\n",
      " 'FUCK @tacobell AND FUCK @WENDYS THANK YOU @McDonalds at least you’re ice cream machine works 😂'\n",
      " '@RealBarabbas @jeannine_bartel One of the two racist profilers was recognized and fired from his job at McDonalds. #Consequences'\n",
      " 'im at the gym, and i swear someone brought mcdonalds tf wrong w ppl im finna steal ur food bro'\n",
      " '@Hhhjjjjjjhhhhh @freakinweekin . @BurgerKing @McDonalds fight fight fight fight'\n",
      " '@McDonalds you get no bitches'\n",
      " '@POTUS The middle class is left behind by a government that is more concerned with developing third world countries, and sending our tax dollars and industrial jobs out of the country, then demanding that McDonalds to pay $15.00 per hour. Now the government is killing oil and gas.'\n",
      " '@NoContextUSPol mcdonalds but really neither are great'\n",
      " '@CheckersRallys  are you in competition with @McDonalds  to see who’s ice cream machine stays broken longer? Y’all should really call @Wendys their damn frosty machine is never broken! Jus sayin🤷🏼\\u200d♂️'\n",
      " \"@Rocketship333 @arvofart She let a killer loose in Honolulu named Christopher Deedy, who shot &amp; killed a local man in a Mcdonalds for racism &amp; revenge...\\nHe was her personal bodyguard when she dragged AIPEC there, to colonize Hawaii more.\\nDeedy's free bc Clintons &amp; their ppl are corrupt &amp; above the law\"\n",
      " 'applying for jobs seriously makes me wanna end mylife especially because i bave no experience 😭😭 NOT EVEN THE MCDONALDS WANT ME BRO FUCK'\n",
      " 'Damn. \\n\\nMcDonalds vanilla cones are now $1.99. \\n\\nInflation is real. \\n\\nDevastated.'\n",
      " \"@PatriotGirl3870 @leslibless It is the freaking guv't. Those idiots couldn't adequately fill a McDonalds order taker position. YET, they make policy. Even worse , idiots voted them into office. SMH.\"\n",
      " \"@LoverNotHater7 @arvofart She let a killer loose in Honolulu named Christopher Deedy, who shot &amp; killed a local man in a Mcdonalds for racism &amp; revenge...\\nHe was her personal bodyguard when she dragged AIPEC there, to colonize Hawaii more.\\nDeedy's free bc Clintons &amp; their ppl are corrupt &amp; above the law\"\n",
      " \"@Simonetheboss2 @arvofart @TransSalamander She let a killer loose in Honolulu named Christopher Deedy, who shot &amp; killed a local man in a Mcdonalds for racism &amp; revenge...\\nHe was her personal bodyguard when she dragged AIPEC there, to colonize Hawaii more.\\nDeedy's free bc Clintons &amp; their ppl are corrupt &amp; above the law\"\n",
      " \"@Michellenonumbr @arvofart She let a killer loose in Honolulu named Christopher Deedy, who shot &amp; killed a local man in a Mcdonalds for racism &amp; revenge...\\nHe was her personal bodyguard when she dragged AIPEC there, to colonize Hawaii more.\\nDeedy's free bc Clintons &amp; their ppl are corrupt &amp; above the law\"\n",
      " \"@PermiePurveyor @BTCMcBoatface Essentially this is a massive distributed financial fraud. Unlike McDonalds, at the end of the day there's no food being made and no customers being served 🍔 or anything else. As a payment rail, it's far, far worse than what companies have already built or are building now.\"\n",
      " '@Arbys @kfc @Popeyes @McDonalds @BurgerKing @Wendys im begging one of you to actually make a spicy sandwich.  Not people who think plain white rice is spicy.  SPICY  I want snot coming out tears so bad I have to stop the cat. Wild heat at minimum from bdubs.  Make it happen.'\n",
      " '@BurgerKingCAN @HarveysCanada @RomansRoad101 @DrJacobsRad @McDonalds Don’t worry Burger King. Harveys’s hast to lash out at you because they completely suck'\n",
      " '@realTuckFrumper Coming from the guy that receives, and hides behind secret service protections.\\nThe man who stated \"I\\'ll be right there with you but hid out eating McDonalds with his shit faced lying once attorney.\\nGo ask Proud Boy members and Michael Cohen etc etc what his word is worth.'\n",
      " '@McDonalds Nah I’ll pass who knows  wtf is in ur nuggets bad enough what’s in ur burgers https://t.co/t550rjlhpP'\n",
      " 'I hate when I go to mcdonalds and order a chicken sandwich and the dumb bitch taking my order is like “did you mean the McChicken?” How about I McBeat you to death you stupid fuck'\n",
      " '@McDonalds y’all wrong AS FUCK for charging nearly FIVE damn dollars for three HALF strips of bacon, someone at your company needs to get right with GOD https://t.co/AgtOjSEbTs'\n",
      " '@MikeRTrice Having worked in fast food at that time, I actually suspect you have some stories that could live up to the epic literary introduction. $.50 cheeseburger week at McDonalds involved daily insanity, but the Beanie Babies led to fights in the store.'\n",
      " '@Hexoffender07 So then how about directing your anger to the government that enabled slavery to happen instead of burning down a McDonalds?'\n",
      " '@McDonalds fire this mf. he givin y’all a bad name fr https://t.co/gmODfJC2lX'\n",
      " 'Had the weirdest dream where I ordered McDonalds from a kebab shop and they gave everyone their orders except mine so I complained and then got bullied 😭'\n",
      " 'dpnt order the sussy mcdonalds meal worst mistake of my life'\n",
      " '@_Amki_ Yesss 🙏 I half want McDonalds cause I couldnf have it last time over my broke ass 😭'\n",
      " 'Death with a side of suffering https://t.co/LUkZInIjNx'\n",
      " '@JackLargeWave if i ever go to florida imma go to ur mcdonalds and im gonna order so much shit and be such a bitch about it for no apparent reason that you will quit so that i can tell you to go get a job once more'\n",
      " \"After playing a few games and going on the rollarcoasters i became hungry.\\n\\nm: laneeeee im hungry.\\nl: that seem like a personal problem\\nm: fuck you , im finna uber to mcdonalds\\nl: that's fine by me\\nm: *mumbles* that's why kira left yo ass shrimp dick bitch 🙄\\nl: yea ight\"\n",
      " 'Slavery https://t.co/QORIUTDuz0'\n",
      " 'I hate when people ask for a bod reveal on Instagram. No, no, no thank you. No. I’ve been to McDonalds and Texas Roadhouse far too many times. I don’t go to the gym and I am not healthy at all. All I do is read books, drink coffee, and cry over a boy'\n",
      " '@quindinglious get yo mexican lookin ass, hamburger lookin ass, mcdonalds mascot lookin ass, walking diabetes lookin ass, taits fatass older brother lookin ass back to the states']\n"
     ]
    }
   ],
   "source": [
    "# comments with compound <= -0.7 (extremely negative)\n",
    "\n",
    "print(df_vader[df_vader['compound'] <= -0.7]['text'].values)"
   ]
  },
  {
   "cell_type": "code",
   "execution_count": 111,
   "id": "middle-covering",
   "metadata": {},
   "outputs": [
    {
     "data": {
      "text/plain": [
       "236"
      ]
     },
     "execution_count": 111,
     "metadata": {},
     "output_type": "execute_result"
    }
   ],
   "source": [
    "# number of comments with compound <= -0.7 (extremely negative)\n",
    "\n",
    "len(df_vader[df_vader['compound'] <= -0.7])"
   ]
  }
 ],
 "metadata": {
  "kernelspec": {
   "display_name": "Python 3",
   "language": "python",
   "name": "python3"
  },
  "language_info": {
   "codemirror_mode": {
    "name": "ipython",
    "version": 3
   },
   "file_extension": ".py",
   "mimetype": "text/x-python",
   "name": "python",
   "nbconvert_exporter": "python",
   "pygments_lexer": "ipython3",
   "version": "3.8.8"
  }
 },
 "nbformat": 4,
 "nbformat_minor": 5
}
