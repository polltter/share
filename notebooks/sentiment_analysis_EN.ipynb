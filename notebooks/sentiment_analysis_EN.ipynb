{
 "cells": [
  {
   "cell_type": "markdown",
   "id": "experienced-shuttle",
   "metadata": {},
   "source": [
    "# C-More"
   ]
  },
  {
   "cell_type": "markdown",
   "id": "little-complaint",
   "metadata": {},
   "source": [
    "### 1. Process text for sentiment analysis"
   ]
  },
  {
   "cell_type": "code",
   "execution_count": 1,
   "id": "contrary-maria",
   "metadata": {},
   "outputs": [],
   "source": [
    "import json\n",
    "import pandas as pd\n",
    "\n",
    "import nltk\n",
    "from nltk import pos_tag\n",
    "from nltk.tokenize import TweetTokenizer\n",
    "from nltk.corpus import wordnet as wn\n",
    "from nltk.stem.wordnet import WordNetLemmatizer\n",
    "\n",
    "import spacy"
   ]
  },
  {
   "cell_type": "markdown",
   "id": "included-citation",
   "metadata": {},
   "source": [
    "#### 1.1. Load json data into a dataframe"
   ]
  },
  {
   "cell_type": "code",
   "execution_count": 2,
   "id": "neutral-portfolio",
   "metadata": {},
   "outputs": [],
   "source": [
    "list_json = []\n",
    "\n",
    "with open('tweet_json_1day.txt') as file:\n",
    "    for line in file:\n",
    "        data = json.loads(line)\n",
    "        list_json.append(data)\n",
    "\n",
    "df = pd.DataFrame(list_json, columns = ['id', 'text', 'lang', 'created_at', 'public_metrics'])"
   ]
  },
  {
   "cell_type": "markdown",
   "id": "alternative-train",
   "metadata": {},
   "source": [
    "#### 1.2. Select only tweets in English"
   ]
  },
  {
   "cell_type": "code",
   "execution_count": 3,
   "id": "numerical-curtis",
   "metadata": {},
   "outputs": [],
   "source": [
    "df_en = df[df['lang'] == 'en'].copy()"
   ]
  },
  {
   "cell_type": "code",
   "execution_count": 4,
   "id": "qualified-lincoln",
   "metadata": {},
   "outputs": [
    {
     "name": "stdout",
     "output_type": "stream",
     "text": [
      "<class 'pandas.core.frame.DataFrame'>\n",
      "Int64Index: 5377 entries, 0 to 7151\n",
      "Data columns (total 5 columns):\n",
      " #   Column          Non-Null Count  Dtype \n",
      "---  ------          --------------  ----- \n",
      " 0   id              5377 non-null   object\n",
      " 1   text            5377 non-null   object\n",
      " 2   lang            5377 non-null   object\n",
      " 3   created_at      5377 non-null   object\n",
      " 4   public_metrics  5377 non-null   object\n",
      "dtypes: object(5)\n",
      "memory usage: 252.0+ KB\n"
     ]
    }
   ],
   "source": [
    "df_en.info()"
   ]
  },
  {
   "cell_type": "code",
   "execution_count": 5,
   "id": "completed-respect",
   "metadata": {},
   "outputs": [],
   "source": [
    "columns_to_remove = ['lang', 'created_at', 'public_metrics']\n",
    "\n",
    "df_en.drop(columns_to_remove, axis=1, inplace=True)"
   ]
  },
  {
   "cell_type": "code",
   "execution_count": 6,
   "id": "numeric-hollywood",
   "metadata": {},
   "outputs": [
    {
     "data": {
      "text/html": [
       "<div>\n",
       "<style scoped>\n",
       "    .dataframe tbody tr th:only-of-type {\n",
       "        vertical-align: middle;\n",
       "    }\n",
       "\n",
       "    .dataframe tbody tr th {\n",
       "        vertical-align: top;\n",
       "    }\n",
       "\n",
       "    .dataframe thead th {\n",
       "        text-align: right;\n",
       "    }\n",
       "</style>\n",
       "<table border=\"1\" class=\"dataframe\">\n",
       "  <thead>\n",
       "    <tr style=\"text-align: right;\">\n",
       "      <th></th>\n",
       "      <th>id</th>\n",
       "      <th>text</th>\n",
       "    </tr>\n",
       "  </thead>\n",
       "  <tbody>\n",
       "    <tr>\n",
       "      <th>0</th>\n",
       "      <td>1539397722595377152</td>\n",
       "      <td>@trashevrythng @hardevrythng @McDonalds and th...</td>\n",
       "    </tr>\n",
       "    <tr>\n",
       "      <th>1</th>\n",
       "      <td>1539397657571074049</td>\n",
       "      <td>@trashevrythng @hardevrythng @McDonalds respec...</td>\n",
       "    </tr>\n",
       "    <tr>\n",
       "      <th>2</th>\n",
       "      <td>1539397645625458688</td>\n",
       "      <td>@PeePosh2 @Scottschlittenh @sceley2011 @Joe_Ma...</td>\n",
       "    </tr>\n",
       "    <tr>\n",
       "      <th>4</th>\n",
       "      <td>1539397571013115904</td>\n",
       "      <td>@auauwra too bad im sending 8 mcdonalds large ...</td>\n",
       "    </tr>\n",
       "    <tr>\n",
       "      <th>5</th>\n",
       "      <td>1539397434715082754</td>\n",
       "      <td>@_idkjia Last time I went to McDonalds.  lol  ...</td>\n",
       "    </tr>\n",
       "  </tbody>\n",
       "</table>\n",
       "</div>"
      ],
      "text/plain": [
       "                    id                                               text\n",
       "0  1539397722595377152  @trashevrythng @hardevrythng @McDonalds and th...\n",
       "1  1539397657571074049  @trashevrythng @hardevrythng @McDonalds respec...\n",
       "2  1539397645625458688  @PeePosh2 @Scottschlittenh @sceley2011 @Joe_Ma...\n",
       "4  1539397571013115904  @auauwra too bad im sending 8 mcdonalds large ...\n",
       "5  1539397434715082754  @_idkjia Last time I went to McDonalds.  lol  ..."
      ]
     },
     "execution_count": 6,
     "metadata": {},
     "output_type": "execute_result"
    }
   ],
   "source": [
    "df_en.head()"
   ]
  },
  {
   "cell_type": "markdown",
   "id": "personalized-bouquet",
   "metadata": {},
   "source": [
    "#### 1.3. Process text with NLTK"
   ]
  },
  {
   "cell_type": "markdown",
   "id": "entertaining-nursing",
   "metadata": {},
   "source": [
    "We are now processing our text for sentiment analysis. Our first approach will be to tokenize it and remove stop words."
   ]
  },
  {
   "cell_type": "code",
   "execution_count": 7,
   "id": "mighty-think",
   "metadata": {},
   "outputs": [],
   "source": [
    "# tokenization\n",
    "\n",
    "tweet_tokenizer = TweetTokenizer(reduce_len=True, strip_handles=True)\n",
    "# redule_len=True replaces repeated character sequences of length 3 or greater with sequences of length 3\n",
    "# examples: waaaaayyyy --> waaayyy\n",
    "# strip_handles=True removes Twitter handles (@xxxx...)"
   ]
  },
  {
   "cell_type": "code",
   "execution_count": 8,
   "id": "aware-evolution",
   "metadata": {},
   "outputs": [],
   "source": [
    "# stop words\n",
    "\n",
    "stopwords = set(nltk.corpus.stopwords.words('english'))"
   ]
  },
  {
   "cell_type": "code",
   "execution_count": 9,
   "id": "sophisticated-crime",
   "metadata": {},
   "outputs": [],
   "source": [
    "# remove stop words\n",
    "\n",
    "def remove_stop(tokens):\n",
    "    return [token for token in tokens if token not in stopwords]"
   ]
  },
  {
   "cell_type": "code",
   "execution_count": 10,
   "id": "clear-extra",
   "metadata": {},
   "outputs": [],
   "source": [
    "pipeline = [tweet_tokenizer.tokenize, remove_stop] # this will be our default pipeline\n",
    "# tokenizes text and removes stop words\n",
    "\n",
    "def process_text(text, pipeline):\n",
    "    tokens = text\n",
    "    for transform in pipeline:\n",
    "        tokens = transform(tokens)\n",
    "    return tokens"
   ]
  },
  {
   "cell_type": "code",
   "execution_count": 11,
   "id": "alert-movie",
   "metadata": {},
   "outputs": [],
   "source": [
    "df_nltk = df_en.copy()"
   ]
  },
  {
   "cell_type": "code",
   "execution_count": 12,
   "id": "threaded-holocaust",
   "metadata": {},
   "outputs": [
    {
     "name": "stdout",
     "output_type": "stream",
     "text": [
      "Wall time: 771 ms\n"
     ]
    }
   ],
   "source": [
    "%%time\n",
    "\n",
    "df_nltk['tokens'] = df_nltk['text'].apply(process_text, pipeline=pipeline)"
   ]
  },
  {
   "cell_type": "code",
   "execution_count": 13,
   "id": "accompanied-spare",
   "metadata": {},
   "outputs": [
    {
     "data": {
      "text/html": [
       "<div>\n",
       "<style scoped>\n",
       "    .dataframe tbody tr th:only-of-type {\n",
       "        vertical-align: middle;\n",
       "    }\n",
       "\n",
       "    .dataframe tbody tr th {\n",
       "        vertical-align: top;\n",
       "    }\n",
       "\n",
       "    .dataframe thead th {\n",
       "        text-align: right;\n",
       "    }\n",
       "</style>\n",
       "<table border=\"1\" class=\"dataframe\">\n",
       "  <thead>\n",
       "    <tr style=\"text-align: right;\">\n",
       "      <th></th>\n",
       "      <th>id</th>\n",
       "      <th>text</th>\n",
       "      <th>tokens</th>\n",
       "    </tr>\n",
       "  </thead>\n",
       "  <tbody>\n",
       "    <tr>\n",
       "      <th>0</th>\n",
       "      <td>1539397722595377152</td>\n",
       "      <td>@trashevrythng @hardevrythng @McDonalds and th...</td>\n",
       "      <td>[breakfast]</td>\n",
       "    </tr>\n",
       "    <tr>\n",
       "      <th>1</th>\n",
       "      <td>1539397657571074049</td>\n",
       "      <td>@trashevrythng @hardevrythng @McDonalds respec...</td>\n",
       "      <td>[respect, chicken, nuggets, crispy, chicken, s...</td>\n",
       "    </tr>\n",
       "    <tr>\n",
       "      <th>2</th>\n",
       "      <td>1539397645625458688</td>\n",
       "      <td>@PeePosh2 @Scottschlittenh @sceley2011 @Joe_Ma...</td>\n",
       "      <td>[All, right, I'm, tapping, save, sanity, ., Su...</td>\n",
       "    </tr>\n",
       "    <tr>\n",
       "      <th>4</th>\n",
       "      <td>1539397571013115904</td>\n",
       "      <td>@auauwra too bad im sending 8 mcdonalds large ...</td>\n",
       "      <td>[bad, im, sending, 8, mcdonalds, large, fries,...</td>\n",
       "    </tr>\n",
       "    <tr>\n",
       "      <th>5</th>\n",
       "      <td>1539397434715082754</td>\n",
       "      <td>@_idkjia Last time I went to McDonalds.  lol  ...</td>\n",
       "      <td>[Last, time, I, went, McDonalds, ., lol, https...</td>\n",
       "    </tr>\n",
       "    <tr>\n",
       "      <th>...</th>\n",
       "      <td>...</td>\n",
       "      <td>...</td>\n",
       "      <td>...</td>\n",
       "    </tr>\n",
       "    <tr>\n",
       "      <th>7146</th>\n",
       "      <td>1539035600451514375</td>\n",
       "      <td>if belos comes back we should just give him a ...</td>\n",
       "      <td>[belos, comes, back, give, mcdonalds, sprite]</td>\n",
       "    </tr>\n",
       "    <tr>\n",
       "      <th>7147</th>\n",
       "      <td>1539035573263863808</td>\n",
       "      <td>we were at mcdonalds and suddenly 4 school bus...</td>\n",
       "      <td>[mcdonalds, suddenly, 4, school, buses, filled...</td>\n",
       "    </tr>\n",
       "    <tr>\n",
       "      <th>7149</th>\n",
       "      <td>1539035538300207104</td>\n",
       "      <td>IM SORRY I TOLD U TO DRINK MCDONALDS SPRITE ht...</td>\n",
       "      <td>[IM, SORRY, I, TOLD, U, TO, DRINK, MCDONALDS, ...</td>\n",
       "    </tr>\n",
       "    <tr>\n",
       "      <th>7150</th>\n",
       "      <td>1539035499242864641</td>\n",
       "      <td>Tough times @McDonalds inflation is shrinking ...</td>\n",
       "      <td>[Tough, times, inflation, shrinking, large, fr...</td>\n",
       "    </tr>\n",
       "    <tr>\n",
       "      <th>7151</th>\n",
       "      <td>1539035475352211456</td>\n",
       "      <td>@McDonalds It's literally raw so I am not sure...</td>\n",
       "      <td>[It's, literally, raw, I, sure, shall]</td>\n",
       "    </tr>\n",
       "  </tbody>\n",
       "</table>\n",
       "<p>5377 rows × 3 columns</p>\n",
       "</div>"
      ],
      "text/plain": [
       "                       id                                               text  \\\n",
       "0     1539397722595377152  @trashevrythng @hardevrythng @McDonalds and th...   \n",
       "1     1539397657571074049  @trashevrythng @hardevrythng @McDonalds respec...   \n",
       "2     1539397645625458688  @PeePosh2 @Scottschlittenh @sceley2011 @Joe_Ma...   \n",
       "4     1539397571013115904  @auauwra too bad im sending 8 mcdonalds large ...   \n",
       "5     1539397434715082754  @_idkjia Last time I went to McDonalds.  lol  ...   \n",
       "...                   ...                                                ...   \n",
       "7146  1539035600451514375  if belos comes back we should just give him a ...   \n",
       "7147  1539035573263863808  we were at mcdonalds and suddenly 4 school bus...   \n",
       "7149  1539035538300207104  IM SORRY I TOLD U TO DRINK MCDONALDS SPRITE ht...   \n",
       "7150  1539035499242864641  Tough times @McDonalds inflation is shrinking ...   \n",
       "7151  1539035475352211456  @McDonalds It's literally raw so I am not sure...   \n",
       "\n",
       "                                                 tokens  \n",
       "0                                           [breakfast]  \n",
       "1     [respect, chicken, nuggets, crispy, chicken, s...  \n",
       "2     [All, right, I'm, tapping, save, sanity, ., Su...  \n",
       "4     [bad, im, sending, 8, mcdonalds, large, fries,...  \n",
       "5     [Last, time, I, went, McDonalds, ., lol, https...  \n",
       "...                                                 ...  \n",
       "7146      [belos, comes, back, give, mcdonalds, sprite]  \n",
       "7147  [mcdonalds, suddenly, 4, school, buses, filled...  \n",
       "7149  [IM, SORRY, I, TOLD, U, TO, DRINK, MCDONALDS, ...  \n",
       "7150  [Tough, times, inflation, shrinking, large, fr...  \n",
       "7151             [It's, literally, raw, I, sure, shall]  \n",
       "\n",
       "[5377 rows x 3 columns]"
      ]
     },
     "execution_count": 13,
     "metadata": {},
     "output_type": "execute_result"
    }
   ],
   "source": [
    "df_nltk"
   ]
  },
  {
   "cell_type": "markdown",
   "id": "extreme-democrat",
   "metadata": {},
   "source": [
    "Instead of using simple tokens, we can stem or lemmatize them. We will lemmatize them in our next approach. To do this, we need to have the part-of-speech tags for each token."
   ]
  },
  {
   "cell_type": "code",
   "execution_count": 14,
   "id": "welsh-hawaiian",
   "metadata": {},
   "outputs": [
    {
     "data": {
      "text/plain": [
       "'@bungoman @moothought @__justplaying @heavenbent11 @IgorBrigadir @huggingpuppy @flybottlemist @panchromaticity @temujin9 @Duderichy @jicapal @goblinodds @_brentbaum @scrmshw @OccultBoyscout @bogmeat @Knipps @OneEyedAlpaca @SoupOfToday @Acre108 @ObserverSuns @ZacharyHundley @_holyweather @anonynaut @magicianbrain @mimi10v3 @karnagraha @er1enney0ung @Lithros @parafactual @KrikkitMotel @__frye @eggprophet @pareinoia @TeddyRaccovelt @dancinghorse16 @storebrandguy @NLRG_ @irafeierabend @bloobsandnoods @RootOfUnity @VesselOfSpirit @MaskOfFace @ObjectOfObjects @CurlOfGradient @FingerOfHand @CauseOfProblem @ModelOfTheory @ReneeSolana @quotidiania Good morning to all you wonderful people. I just tried a new coffee from McDonalds and it is wonderful, just like you'"
      ]
     },
     "execution_count": 14,
     "metadata": {},
     "output_type": "execute_result"
    }
   ],
   "source": [
    "# select longest tweet for testing purposes\n",
    "\n",
    "test_text = sorted(df_en['text'], key=lambda x: len(x), reverse=True)[0]\n",
    "\n",
    "test_text"
   ]
  },
  {
   "cell_type": "code",
   "execution_count": 15,
   "id": "continuous-tennis",
   "metadata": {},
   "outputs": [
    {
     "data": {
      "text/plain": [
       "[('Good', 'JJ'),\n",
       " ('morning', 'NN'),\n",
       " ('to', 'TO'),\n",
       " ('all', 'DT'),\n",
       " ('you', 'PRP'),\n",
       " ('wonderful', 'JJ'),\n",
       " ('people', 'NNS'),\n",
       " ('.', '.'),\n",
       " ('I', 'PRP'),\n",
       " ('just', 'RB'),\n",
       " ('tried', 'VBD'),\n",
       " ('a', 'DT'),\n",
       " ('new', 'JJ'),\n",
       " ('coffee', 'NN'),\n",
       " ('from', 'IN'),\n",
       " ('McDonalds', 'NNP'),\n",
       " ('and', 'CC'),\n",
       " ('it', 'PRP'),\n",
       " ('is', 'VBZ'),\n",
       " ('wonderful', 'JJ'),\n",
       " (',', ','),\n",
       " ('just', 'RB'),\n",
       " ('like', 'IN'),\n",
       " ('you', 'PRP')]"
      ]
     },
     "execution_count": 15,
     "metadata": {},
     "output_type": "execute_result"
    }
   ],
   "source": [
    "pos_tag(tweet_tokenizer.tokenize(test_text))"
   ]
  },
  {
   "cell_type": "markdown",
   "id": "abstract-summer",
   "metadata": {},
   "source": [
    "Since our lemmatizer, `WordNetLemmatizer`, uses WordNet tags, we need to convert NLTK's default tags (Penn Treebank part-of-speech tags) to WordNet tags."
   ]
  },
  {
   "cell_type": "code",
   "execution_count": 16,
   "id": "canadian-accommodation",
   "metadata": {},
   "outputs": [
    {
     "name": "stdout",
     "output_type": "stream",
     "text": [
      "PRP: pronoun, personal\n",
      "    hers herself him himself hisself it itself me myself one oneself ours\n",
      "    ourselves ownself self she thee theirs them themselves they thou thy us\n"
     ]
    }
   ],
   "source": [
    "# check tags (example for PRP)\n",
    "\n",
    "nltk.help.upenn_tagset('PRP')"
   ]
  },
  {
   "cell_type": "code",
   "execution_count": 17,
   "id": "filled-hardwood",
   "metadata": {},
   "outputs": [],
   "source": [
    "def normalize(text, tokenizer=TweetTokenizer(reduce_len=True, strip_handles=True), lemmatizer=WordNetLemmatizer(), stop_words=stopwords):\n",
    "    '''\n",
    "    Normalizes review by removing stopwords and lemmatizing tokens.\n",
    "    '''\n",
    "    \n",
    "    def lemmatize(token, tag):\n",
    "        '''\n",
    "        Converts Penn Treebank part-of-speech tags (the default tag set in nltk.pos_tag)\n",
    "        to WordNet tags - defaults to wn.Noun if the first letter of the Penn Treebank pos tag\n",
    "        is neither 'N', 'V', 'R' or 'J'.\n",
    "        Returns lemmatized token.\n",
    "        '''        \n",
    "        wordnet_tag = {\n",
    "            'N': wn.NOUN, \n",
    "            'V': wn.VERB,\n",
    "            'R': wn.ADV,\n",
    "            'J': wn.ADJ\n",
    "        }.get(tag[0], wn.NOUN)\n",
    "        \n",
    "        return lemmatizer.lemmatize(token, wordnet_tag)\n",
    "    \n",
    "    return [lemmatize(token, tag)  \n",
    "            for (token, tag) in pos_tag(tokenizer.tokenize(text)) \n",
    "            if token not in stop_words]"
   ]
  },
  {
   "cell_type": "code",
   "execution_count": 18,
   "id": "visible-angola",
   "metadata": {},
   "outputs": [
    {
     "data": {
      "text/plain": [
       "['Good',\n",
       " 'morning',\n",
       " 'wonderful',\n",
       " 'people',\n",
       " '.',\n",
       " 'I',\n",
       " 'try',\n",
       " 'new',\n",
       " 'coffee',\n",
       " 'McDonalds',\n",
       " 'wonderful',\n",
       " ',',\n",
       " 'like']"
      ]
     },
     "execution_count": 18,
     "metadata": {},
     "output_type": "execute_result"
    }
   ],
   "source": [
    "normalize(test_text)"
   ]
  },
  {
   "cell_type": "code",
   "execution_count": 19,
   "id": "handled-martial",
   "metadata": {},
   "outputs": [
    {
     "name": "stdout",
     "output_type": "stream",
     "text": [
      "Wall time: 7.65 s\n"
     ]
    }
   ],
   "source": [
    "%%time\n",
    "\n",
    "df_nltk['lemmas'] = df_nltk['text'].apply(normalize)"
   ]
  },
  {
   "cell_type": "code",
   "execution_count": 20,
   "id": "worthy-moore",
   "metadata": {},
   "outputs": [
    {
     "data": {
      "text/html": [
       "<div>\n",
       "<style scoped>\n",
       "    .dataframe tbody tr th:only-of-type {\n",
       "        vertical-align: middle;\n",
       "    }\n",
       "\n",
       "    .dataframe tbody tr th {\n",
       "        vertical-align: top;\n",
       "    }\n",
       "\n",
       "    .dataframe thead th {\n",
       "        text-align: right;\n",
       "    }\n",
       "</style>\n",
       "<table border=\"1\" class=\"dataframe\">\n",
       "  <thead>\n",
       "    <tr style=\"text-align: right;\">\n",
       "      <th></th>\n",
       "      <th>id</th>\n",
       "      <th>text</th>\n",
       "      <th>tokens</th>\n",
       "      <th>lemmas</th>\n",
       "    </tr>\n",
       "  </thead>\n",
       "  <tbody>\n",
       "    <tr>\n",
       "      <th>0</th>\n",
       "      <td>1539397722595377152</td>\n",
       "      <td>@trashevrythng @hardevrythng @McDonalds and th...</td>\n",
       "      <td>[breakfast]</td>\n",
       "      <td>[breakfast]</td>\n",
       "    </tr>\n",
       "    <tr>\n",
       "      <th>1</th>\n",
       "      <td>1539397657571074049</td>\n",
       "      <td>@trashevrythng @hardevrythng @McDonalds respec...</td>\n",
       "      <td>[respect, chicken, nuggets, crispy, chicken, s...</td>\n",
       "      <td>[respect, chicken, nugget, crispy, chicken, sa...</td>\n",
       "    </tr>\n",
       "    <tr>\n",
       "      <th>2</th>\n",
       "      <td>1539397645625458688</td>\n",
       "      <td>@PeePosh2 @Scottschlittenh @sceley2011 @Joe_Ma...</td>\n",
       "      <td>[All, right, I'm, tapping, save, sanity, ., Su...</td>\n",
       "      <td>[All, right, I'm, tap, save, sanity, ., Summin...</td>\n",
       "    </tr>\n",
       "    <tr>\n",
       "      <th>4</th>\n",
       "      <td>1539397571013115904</td>\n",
       "      <td>@auauwra too bad im sending 8 mcdonalds large ...</td>\n",
       "      <td>[bad, im, sending, 8, mcdonalds, large, fries,...</td>\n",
       "      <td>[bad, im, send, 8, mcdonalds, large, fry, u, rn]</td>\n",
       "    </tr>\n",
       "    <tr>\n",
       "      <th>5</th>\n",
       "      <td>1539397434715082754</td>\n",
       "      <td>@_idkjia Last time I went to McDonalds.  lol  ...</td>\n",
       "      <td>[Last, time, I, went, McDonalds, ., lol, https...</td>\n",
       "      <td>[Last, time, I, go, McDonalds, ., lol, https:/...</td>\n",
       "    </tr>\n",
       "    <tr>\n",
       "      <th>...</th>\n",
       "      <td>...</td>\n",
       "      <td>...</td>\n",
       "      <td>...</td>\n",
       "      <td>...</td>\n",
       "    </tr>\n",
       "    <tr>\n",
       "      <th>7146</th>\n",
       "      <td>1539035600451514375</td>\n",
       "      <td>if belos comes back we should just give him a ...</td>\n",
       "      <td>[belos, comes, back, give, mcdonalds, sprite]</td>\n",
       "      <td>[belos, come, back, give, mcdonalds, sprite]</td>\n",
       "    </tr>\n",
       "    <tr>\n",
       "      <th>7147</th>\n",
       "      <td>1539035573263863808</td>\n",
       "      <td>we were at mcdonalds and suddenly 4 school bus...</td>\n",
       "      <td>[mcdonalds, suddenly, 4, school, buses, filled...</td>\n",
       "      <td>[mcdonalds, suddenly, 4, school, bus, fill, te...</td>\n",
       "    </tr>\n",
       "    <tr>\n",
       "      <th>7149</th>\n",
       "      <td>1539035538300207104</td>\n",
       "      <td>IM SORRY I TOLD U TO DRINK MCDONALDS SPRITE ht...</td>\n",
       "      <td>[IM, SORRY, I, TOLD, U, TO, DRINK, MCDONALDS, ...</td>\n",
       "      <td>[IM, SORRY, I, TOLD, U, TO, DRINK, MCDONALDS, ...</td>\n",
       "    </tr>\n",
       "    <tr>\n",
       "      <th>7150</th>\n",
       "      <td>1539035499242864641</td>\n",
       "      <td>Tough times @McDonalds inflation is shrinking ...</td>\n",
       "      <td>[Tough, times, inflation, shrinking, large, fr...</td>\n",
       "      <td>[Tough, time, inflation, shrink, large, fry, h...</td>\n",
       "    </tr>\n",
       "    <tr>\n",
       "      <th>7151</th>\n",
       "      <td>1539035475352211456</td>\n",
       "      <td>@McDonalds It's literally raw so I am not sure...</td>\n",
       "      <td>[It's, literally, raw, I, sure, shall]</td>\n",
       "      <td>[It's, literally, raw, I, sure, shall]</td>\n",
       "    </tr>\n",
       "  </tbody>\n",
       "</table>\n",
       "<p>5377 rows × 4 columns</p>\n",
       "</div>"
      ],
      "text/plain": [
       "                       id                                               text  \\\n",
       "0     1539397722595377152  @trashevrythng @hardevrythng @McDonalds and th...   \n",
       "1     1539397657571074049  @trashevrythng @hardevrythng @McDonalds respec...   \n",
       "2     1539397645625458688  @PeePosh2 @Scottschlittenh @sceley2011 @Joe_Ma...   \n",
       "4     1539397571013115904  @auauwra too bad im sending 8 mcdonalds large ...   \n",
       "5     1539397434715082754  @_idkjia Last time I went to McDonalds.  lol  ...   \n",
       "...                   ...                                                ...   \n",
       "7146  1539035600451514375  if belos comes back we should just give him a ...   \n",
       "7147  1539035573263863808  we were at mcdonalds and suddenly 4 school bus...   \n",
       "7149  1539035538300207104  IM SORRY I TOLD U TO DRINK MCDONALDS SPRITE ht...   \n",
       "7150  1539035499242864641  Tough times @McDonalds inflation is shrinking ...   \n",
       "7151  1539035475352211456  @McDonalds It's literally raw so I am not sure...   \n",
       "\n",
       "                                                 tokens  \\\n",
       "0                                           [breakfast]   \n",
       "1     [respect, chicken, nuggets, crispy, chicken, s...   \n",
       "2     [All, right, I'm, tapping, save, sanity, ., Su...   \n",
       "4     [bad, im, sending, 8, mcdonalds, large, fries,...   \n",
       "5     [Last, time, I, went, McDonalds, ., lol, https...   \n",
       "...                                                 ...   \n",
       "7146      [belos, comes, back, give, mcdonalds, sprite]   \n",
       "7147  [mcdonalds, suddenly, 4, school, buses, filled...   \n",
       "7149  [IM, SORRY, I, TOLD, U, TO, DRINK, MCDONALDS, ...   \n",
       "7150  [Tough, times, inflation, shrinking, large, fr...   \n",
       "7151             [It's, literally, raw, I, sure, shall]   \n",
       "\n",
       "                                                 lemmas  \n",
       "0                                           [breakfast]  \n",
       "1     [respect, chicken, nugget, crispy, chicken, sa...  \n",
       "2     [All, right, I'm, tap, save, sanity, ., Summin...  \n",
       "4      [bad, im, send, 8, mcdonalds, large, fry, u, rn]  \n",
       "5     [Last, time, I, go, McDonalds, ., lol, https:/...  \n",
       "...                                                 ...  \n",
       "7146       [belos, come, back, give, mcdonalds, sprite]  \n",
       "7147  [mcdonalds, suddenly, 4, school, bus, fill, te...  \n",
       "7149  [IM, SORRY, I, TOLD, U, TO, DRINK, MCDONALDS, ...  \n",
       "7150  [Tough, time, inflation, shrink, large, fry, h...  \n",
       "7151             [It's, literally, raw, I, sure, shall]  \n",
       "\n",
       "[5377 rows x 4 columns]"
      ]
     },
     "execution_count": 20,
     "metadata": {},
     "output_type": "execute_result"
    }
   ],
   "source": [
    "df_nltk"
   ]
  },
  {
   "cell_type": "markdown",
   "id": "intellectual-cartoon",
   "metadata": {},
   "source": [
    "#### 1.4. Process text with spaCy"
   ]
  },
  {
   "cell_type": "code",
   "execution_count": 21,
   "id": "hungry-constitution",
   "metadata": {},
   "outputs": [],
   "source": [
    "nlp = spacy.load('en_core_web_sm')"
   ]
  },
  {
   "cell_type": "code",
   "execution_count": 22,
   "id": "built-renaissance",
   "metadata": {},
   "outputs": [
    {
     "data": {
      "text/plain": [
       "[('tok2vec', <spacy.pipeline.tok2vec.Tok2Vec at 0x18ed507c4c0>),\n",
       " ('tagger', <spacy.pipeline.tagger.Tagger at 0x18ed507cc40>),\n",
       " ('parser', <spacy.pipeline.dep_parser.DependencyParser at 0x18ecd960270>),\n",
       " ('attribute_ruler',\n",
       "  <spacy.pipeline.attributeruler.AttributeRuler at 0x18ed5210c80>),\n",
       " ('lemmatizer', <spacy.lang.en.lemmatizer.EnglishLemmatizer at 0x18ed5210940>),\n",
       " ('ner', <spacy.pipeline.ner.EntityRecognizer at 0x18ecd960190>)]"
      ]
     },
     "execution_count": 22,
     "metadata": {},
     "output_type": "execute_result"
    }
   ],
   "source": [
    "nlp.pipeline"
   ]
  },
  {
   "cell_type": "markdown",
   "id": "enclosed-journey",
   "metadata": {},
   "source": [
    "These are the default components of spaCy's pipeline.\n",
    "\n",
    "We can easily disable the components we are not interested in:"
   ]
  },
  {
   "cell_type": "code",
   "execution_count": 48,
   "id": "tired-bubble",
   "metadata": {},
   "outputs": [
    {
     "data": {
      "text/plain": [
       "[('tok2vec', <spacy.pipeline.tok2vec.Tok2Vec at 0x18ee292b7c0>),\n",
       " ('tagger', <spacy.pipeline.tagger.Tagger at 0x18ee0068ac0>),\n",
       " ('attribute_ruler',\n",
       "  <spacy.pipeline.attributeruler.AttributeRuler at 0x18edffc9800>),\n",
       " ('lemmatizer', <spacy.lang.en.lemmatizer.EnglishLemmatizer at 0x18edff8fac0>)]"
      ]
     },
     "execution_count": 48,
     "metadata": {},
     "output_type": "execute_result"
    }
   ],
   "source": [
    "nlp = spacy.load(\"en_core_web_sm\", disable=[\"parser\", \"ner\"])\n",
    "\n",
    "nlp.pipeline"
   ]
  },
  {
   "cell_type": "markdown",
   "id": "dramatic-wyoming",
   "metadata": {},
   "source": [
    "We will use the default components for now:"
   ]
  },
  {
   "cell_type": "code",
   "execution_count": 49,
   "id": "hungarian-strap",
   "metadata": {},
   "outputs": [],
   "source": [
    "nlp = spacy.load('en_core_web_sm')"
   ]
  },
  {
   "cell_type": "code",
   "execution_count": 50,
   "id": "fuzzy-piece",
   "metadata": {},
   "outputs": [],
   "source": [
    "doc = nlp(test_text)"
   ]
  },
  {
   "cell_type": "code",
   "execution_count": 51,
   "id": "robust-performance",
   "metadata": {},
   "outputs": [
    {
     "name": "stdout",
     "output_type": "stream",
     "text": [
      "Good|morning|to|all|you|wonderful|people|.|I|just|tried|a|new|coffee|from|McDonalds|and|it|is|wonderful|,|just|like|you|"
     ]
    }
   ],
   "source": [
    "# tokens\n",
    "\n",
    "for token in doc:\n",
    "    print(token.text, end=\"|\")"
   ]
  },
  {
   "cell_type": "markdown",
   "id": "novel-courtesy",
   "metadata": {},
   "source": [
    "SpaCy's default tokenizer does not recognize and exclude the Twitter handles. We can try to customise this at a later stage. For now, let's focus on the information we can easily get with spaCy."
   ]
  },
  {
   "cell_type": "code",
   "execution_count": 52,
   "id": "early-serve",
   "metadata": {},
   "outputs": [],
   "source": [
    "test_text = \"Good morning to all you wonderful people. I just tried a new coffee from McDonalds and it is wonderful, just like you\"\n",
    "doc = nlp(test_text)"
   ]
  },
  {
   "cell_type": "code",
   "execution_count": 53,
   "id": "monthly-equilibrium",
   "metadata": {},
   "outputs": [
    {
     "name": "stdout",
     "output_type": "stream",
     "text": [
      "Good|morning|to|all|you|wonderful|people|.|I|just|tried|a|new|coffee|from|McDonalds|and|it|is|wonderful|,|just|like|you|"
     ]
    }
   ],
   "source": [
    "# tokens\n",
    "\n",
    "for token in doc:\n",
    "    print(token.text, end=\"|\")"
   ]
  },
  {
   "cell_type": "code",
   "execution_count": 54,
   "id": "dedicated-gibraltar",
   "metadata": {},
   "outputs": [
    {
     "name": "stdout",
     "output_type": "stream",
     "text": [
      "good|morning|to|all|you|wonderful|people|.|I|just|try|a|new|coffee|from|McDonalds|and|it|be|wonderful|,|just|like|you|"
     ]
    }
   ],
   "source": [
    "# lemmas\n",
    "\n",
    "for token in doc:\n",
    "    print(token.lemma_, end=\"|\")"
   ]
  },
  {
   "cell_type": "code",
   "execution_count": 55,
   "id": "welcome-gnome",
   "metadata": {},
   "outputs": [
    {
     "name": "stdout",
     "output_type": "stream",
     "text": [
      "Good False|morning False|to True|all True|you True|wonderful False|people False|. False|I True|just True|tried False|a True|new False|coffee False|from True|McDonalds False|and True|it True|is True|wonderful False|, False|just True|like False|you True|"
     ]
    }
   ],
   "source": [
    "# is the token part of a “stop list”? \n",
    "\n",
    "for token in doc:\n",
    "    print(token.text, token.is_stop, end=\"|\")"
   ]
  },
  {
   "cell_type": "code",
   "execution_count": 56,
   "id": "contrary-phone",
   "metadata": {},
   "outputs": [
    {
     "name": "stdout",
     "output_type": "stream",
     "text": [
      "Good True|morning True|to True|all True|you True|wonderful True|people True|. False|I True|just True|tried True|a True|new True|coffee True|from True|McDonalds True|and True|it True|is True|wonderful True|, False|just True|like True|you True|"
     ]
    }
   ],
   "source": [
    "# does the token consist of alphabetic characters?\n",
    "\n",
    "for token in doc:\n",
    "    print(token.text, token.is_alpha, end=\"|\")"
   ]
  },
  {
   "cell_type": "code",
   "execution_count": 57,
   "id": "reflected-bowling",
   "metadata": {},
   "outputs": [
    {
     "name": "stdout",
     "output_type": "stream",
     "text": [
      "Good False|morning False|to False|all False|you False|wonderful False|people False|. True|I False|just False|tried False|a False|new False|coffee False|from False|McDonalds False|and False|it False|is False|wonderful False|, True|just False|like False|you False|"
     ]
    }
   ],
   "source": [
    "# is the token punctuation? \n",
    "\n",
    "for token in doc:\n",
    "    print(token.text, token.is_punct, end=\"|\")"
   ]
  },
  {
   "cell_type": "code",
   "execution_count": 58,
   "id": "italian-trick",
   "metadata": {},
   "outputs": [
    {
     "name": "stdout",
     "output_type": "stream",
     "text": [
      "Good ADJ|morning NOUN|to ADP|all PRON|you PRON|wonderful ADJ|people NOUN|. PUNCT|I PRON|just ADV|tried VERB|a DET|new ADJ|coffee NOUN|from ADP|McDonalds PROPN|and CCONJ|it PRON|is AUX|wonderful ADJ|, PUNCT|just ADV|like ADP|you PRON|"
     ]
    }
   ],
   "source": [
    "# part-of-speech\n",
    "\n",
    "for token in doc:\n",
    "    print(token.text, token.pos_, end=\"|\")"
   ]
  },
  {
   "cell_type": "code",
   "execution_count": 59,
   "id": "supported-removal",
   "metadata": {},
   "outputs": [
    {
     "name": "stdout",
     "output_type": "stream",
     "text": [
      "Good amod|morning npadvmod|to ROOT|all predet|you nmod|wonderful amod|people pobj|. punct|I nsubj|just advmod|tried ROOT|a det|new amod|coffee dobj|from prep|McDonalds pobj|and cc|it nsubj|is conj|wonderful acomp|, punct|just advmod|like prep|you pobj|"
     ]
    }
   ],
   "source": [
    "# syntactic dependency relation\n",
    "\n",
    "for token in doc:\n",
    "    print(token.text, token.dep_, end=\"|\")"
   ]
  },
  {
   "cell_type": "code",
   "execution_count": 60,
   "id": "steady-collar",
   "metadata": {},
   "outputs": [
    {
     "name": "stdout",
     "output_type": "stream",
     "text": [
      "Good |morning TIME|to |all |you |wonderful |people |. |I |just |tried |a |new |coffee |from |McDonalds ORG|and |it |is |wonderful |, |just |like |you |"
     ]
    }
   ],
   "source": [
    "# named entity type\n",
    "\n",
    "for token in doc:\n",
    "    print(token.text, token.ent_type_, end=\"|\")"
   ]
  },
  {
   "cell_type": "code",
   "execution_count": 61,
   "id": "democratic-bloom",
   "metadata": {},
   "outputs": [
    {
     "name": "stdout",
     "output_type": "stream",
     "text": [
      "Good 0|morning 1|to 2|all 3|you 4|wonderful 5|people 6|. 7|I 8|just 9|tried 10|a 11|new 12|coffee 13|from 14|McDonalds 15|and 16|it 17|is 18|wonderful 19|, 20|just 21|like 22|you 23|"
     ]
    }
   ],
   "source": [
    "# index of the token within the parent document\n",
    "\n",
    "for token in doc:\n",
    "    print(token.text, token.i, end=\"|\")"
   ]
  },
  {
   "cell_type": "markdown",
   "id": "breathing-palmer",
   "metadata": {},
   "source": [
    "For a complete list of token attributes, check https://spacy.io/api/token#attributes ."
   ]
  },
  {
   "cell_type": "code",
   "execution_count": 62,
   "id": "general-identity",
   "metadata": {},
   "outputs": [],
   "source": [
    "df_spacy = df_en.copy()"
   ]
  },
  {
   "cell_type": "code",
   "execution_count": 63,
   "id": "removed-closure",
   "metadata": {},
   "outputs": [],
   "source": [
    "# tokenize text\n",
    "\n",
    "def tokens(text):\n",
    "    doc = nlp(text)\n",
    "    return [tokens.text for tokens in doc]"
   ]
  },
  {
   "cell_type": "code",
   "execution_count": 64,
   "id": "pacific-square",
   "metadata": {},
   "outputs": [
    {
     "name": "stdout",
     "output_type": "stream",
     "text": [
      "Wall time: 40.1 s\n"
     ]
    }
   ],
   "source": [
    "%%time\n",
    "\n",
    "# pipeline with all the components\n",
    "\n",
    "df_spacy['tokens'] = df_spacy['text'].map(tokens)"
   ]
  },
  {
   "cell_type": "code",
   "execution_count": 67,
   "id": "pharmaceutical-neutral",
   "metadata": {},
   "outputs": [
    {
     "data": {
      "text/plain": [
       "[('tok2vec', <spacy.pipeline.tok2vec.Tok2Vec at 0x18ee006d460>),\n",
       " ('tagger', <spacy.pipeline.tagger.Tagger at 0x18ee006d160>),\n",
       " ('attribute_ruler',\n",
       "  <spacy.pipeline.attributeruler.AttributeRuler at 0x18edb1d7c00>),\n",
       " ('lemmatizer', <spacy.lang.en.lemmatizer.EnglishLemmatizer at 0x18edb1d9d80>)]"
      ]
     },
     "execution_count": 67,
     "metadata": {},
     "output_type": "execute_result"
    }
   ],
   "source": [
    "# disable the parser and ner components\n",
    "\n",
    "nlp = spacy.load(\"en_core_web_sm\", disable=[\"parser\", \"ner\"])\n",
    "\n",
    "nlp.pipeline"
   ]
  },
  {
   "cell_type": "code",
   "execution_count": 68,
   "id": "centered-internet",
   "metadata": {},
   "outputs": [
    {
     "name": "stdout",
     "output_type": "stream",
     "text": [
      "Wall time: 19.8 s\n"
     ]
    }
   ],
   "source": [
    "%%time\n",
    "\n",
    "# pipeline with disabled components\n",
    "\n",
    "df_spacy['tokens'] = df_spacy['text'].map(tokens)"
   ]
  },
  {
   "cell_type": "code",
   "execution_count": 69,
   "id": "front-flexibility",
   "metadata": {},
   "outputs": [
    {
     "data": {
      "text/html": [
       "<div>\n",
       "<style scoped>\n",
       "    .dataframe tbody tr th:only-of-type {\n",
       "        vertical-align: middle;\n",
       "    }\n",
       "\n",
       "    .dataframe tbody tr th {\n",
       "        vertical-align: top;\n",
       "    }\n",
       "\n",
       "    .dataframe thead th {\n",
       "        text-align: right;\n",
       "    }\n",
       "</style>\n",
       "<table border=\"1\" class=\"dataframe\">\n",
       "  <thead>\n",
       "    <tr style=\"text-align: right;\">\n",
       "      <th></th>\n",
       "      <th>id</th>\n",
       "      <th>text</th>\n",
       "      <th>tokens</th>\n",
       "    </tr>\n",
       "  </thead>\n",
       "  <tbody>\n",
       "    <tr>\n",
       "      <th>0</th>\n",
       "      <td>1539397722595377152</td>\n",
       "      <td>@trashevrythng @hardevrythng @McDonalds and th...</td>\n",
       "      <td>[@trashevrythng, @hardevrythng, @McDonalds, an...</td>\n",
       "    </tr>\n",
       "    <tr>\n",
       "      <th>1</th>\n",
       "      <td>1539397657571074049</td>\n",
       "      <td>@trashevrythng @hardevrythng @McDonalds respec...</td>\n",
       "      <td>[@trashevrythng, @hardevrythng, @McDonalds, re...</td>\n",
       "    </tr>\n",
       "    <tr>\n",
       "      <th>2</th>\n",
       "      <td>1539397645625458688</td>\n",
       "      <td>@PeePosh2 @Scottschlittenh @sceley2011 @Joe_Ma...</td>\n",
       "      <td>[@PeePosh2, @Scottschlittenh, @sceley2011, @Jo...</td>\n",
       "    </tr>\n",
       "    <tr>\n",
       "      <th>4</th>\n",
       "      <td>1539397571013115904</td>\n",
       "      <td>@auauwra too bad im sending 8 mcdonalds large ...</td>\n",
       "      <td>[@auauwra, too, bad, i, m, sending, 8, mcdonal...</td>\n",
       "    </tr>\n",
       "    <tr>\n",
       "      <th>5</th>\n",
       "      <td>1539397434715082754</td>\n",
       "      <td>@_idkjia Last time I went to McDonalds.  lol  ...</td>\n",
       "      <td>[@_idkjia, Last, time, I, went, to, McDonalds,...</td>\n",
       "    </tr>\n",
       "    <tr>\n",
       "      <th>...</th>\n",
       "      <td>...</td>\n",
       "      <td>...</td>\n",
       "      <td>...</td>\n",
       "    </tr>\n",
       "    <tr>\n",
       "      <th>7146</th>\n",
       "      <td>1539035600451514375</td>\n",
       "      <td>if belos comes back we should just give him a ...</td>\n",
       "      <td>[if, belos, comes, back, we, should, just, giv...</td>\n",
       "    </tr>\n",
       "    <tr>\n",
       "      <th>7147</th>\n",
       "      <td>1539035573263863808</td>\n",
       "      <td>we were at mcdonalds and suddenly 4 school bus...</td>\n",
       "      <td>[we, were, at, mcdonalds, and, suddenly, 4, sc...</td>\n",
       "    </tr>\n",
       "    <tr>\n",
       "      <th>7149</th>\n",
       "      <td>1539035538300207104</td>\n",
       "      <td>IM SORRY I TOLD U TO DRINK MCDONALDS SPRITE ht...</td>\n",
       "      <td>[IM, SORRY, I, TOLD, U, TO, DRINK, MCDONALDS, ...</td>\n",
       "    </tr>\n",
       "    <tr>\n",
       "      <th>7150</th>\n",
       "      <td>1539035499242864641</td>\n",
       "      <td>Tough times @McDonalds inflation is shrinking ...</td>\n",
       "      <td>[Tough, times, @McDonalds, inflation, is, shri...</td>\n",
       "    </tr>\n",
       "    <tr>\n",
       "      <th>7151</th>\n",
       "      <td>1539035475352211456</td>\n",
       "      <td>@McDonalds It's literally raw so I am not sure...</td>\n",
       "      <td>[@McDonalds, It, 's, literally, raw, so, I, am...</td>\n",
       "    </tr>\n",
       "  </tbody>\n",
       "</table>\n",
       "<p>5377 rows × 3 columns</p>\n",
       "</div>"
      ],
      "text/plain": [
       "                       id                                               text  \\\n",
       "0     1539397722595377152  @trashevrythng @hardevrythng @McDonalds and th...   \n",
       "1     1539397657571074049  @trashevrythng @hardevrythng @McDonalds respec...   \n",
       "2     1539397645625458688  @PeePosh2 @Scottschlittenh @sceley2011 @Joe_Ma...   \n",
       "4     1539397571013115904  @auauwra too bad im sending 8 mcdonalds large ...   \n",
       "5     1539397434715082754  @_idkjia Last time I went to McDonalds.  lol  ...   \n",
       "...                   ...                                                ...   \n",
       "7146  1539035600451514375  if belos comes back we should just give him a ...   \n",
       "7147  1539035573263863808  we were at mcdonalds and suddenly 4 school bus...   \n",
       "7149  1539035538300207104  IM SORRY I TOLD U TO DRINK MCDONALDS SPRITE ht...   \n",
       "7150  1539035499242864641  Tough times @McDonalds inflation is shrinking ...   \n",
       "7151  1539035475352211456  @McDonalds It's literally raw so I am not sure...   \n",
       "\n",
       "                                                 tokens  \n",
       "0     [@trashevrythng, @hardevrythng, @McDonalds, an...  \n",
       "1     [@trashevrythng, @hardevrythng, @McDonalds, re...  \n",
       "2     [@PeePosh2, @Scottschlittenh, @sceley2011, @Jo...  \n",
       "4     [@auauwra, too, bad, i, m, sending, 8, mcdonal...  \n",
       "5     [@_idkjia, Last, time, I, went, to, McDonalds,...  \n",
       "...                                                 ...  \n",
       "7146  [if, belos, comes, back, we, should, just, giv...  \n",
       "7147  [we, were, at, mcdonalds, and, suddenly, 4, sc...  \n",
       "7149  [IM, SORRY, I, TOLD, U, TO, DRINK, MCDONALDS, ...  \n",
       "7150  [Tough, times, @McDonalds, inflation, is, shri...  \n",
       "7151  [@McDonalds, It, 's, literally, raw, so, I, am...  \n",
       "\n",
       "[5377 rows x 3 columns]"
      ]
     },
     "execution_count": 69,
     "metadata": {},
     "output_type": "execute_result"
    }
   ],
   "source": [
    "df_spacy"
   ]
  },
  {
   "cell_type": "code",
   "execution_count": 70,
   "id": "pleased-wallace",
   "metadata": {},
   "outputs": [],
   "source": [
    "# tokenize text and get lemmas\n",
    "\n",
    "def tokens_and_lemmas(text):\n",
    "    \n",
    "    doc = nlp(text)\n",
    "    \n",
    "    tokens = [tokens.text for tokens in doc]\n",
    "    \n",
    "    lemmas = [tokens.lemma_ for tokens in doc]\n",
    "    \n",
    "    return tokens, lemmas"
   ]
  },
  {
   "cell_type": "code",
   "execution_count": 71,
   "id": "foreign-hanging",
   "metadata": {},
   "outputs": [
    {
     "name": "stdout",
     "output_type": "stream",
     "text": [
      "Wall time: 18.4 s\n"
     ]
    }
   ],
   "source": [
    "%%time\n",
    "\n",
    "df_spacy[['tokens', 'lemmas']] = df_spacy.apply(lambda row: tokens_and_lemmas(row['text']), axis='columns', result_type='expand')"
   ]
  },
  {
   "cell_type": "code",
   "execution_count": 72,
   "id": "brilliant-coupon",
   "metadata": {},
   "outputs": [
    {
     "data": {
      "text/html": [
       "<div>\n",
       "<style scoped>\n",
       "    .dataframe tbody tr th:only-of-type {\n",
       "        vertical-align: middle;\n",
       "    }\n",
       "\n",
       "    .dataframe tbody tr th {\n",
       "        vertical-align: top;\n",
       "    }\n",
       "\n",
       "    .dataframe thead th {\n",
       "        text-align: right;\n",
       "    }\n",
       "</style>\n",
       "<table border=\"1\" class=\"dataframe\">\n",
       "  <thead>\n",
       "    <tr style=\"text-align: right;\">\n",
       "      <th></th>\n",
       "      <th>id</th>\n",
       "      <th>text</th>\n",
       "      <th>tokens</th>\n",
       "      <th>lemmas</th>\n",
       "    </tr>\n",
       "  </thead>\n",
       "  <tbody>\n",
       "    <tr>\n",
       "      <th>0</th>\n",
       "      <td>1539397722595377152</td>\n",
       "      <td>@trashevrythng @hardevrythng @McDonalds and th...</td>\n",
       "      <td>[@trashevrythng, @hardevrythng, @McDonalds, an...</td>\n",
       "      <td>[@trashevrythng, @hardevrythng, @McDonalds, an...</td>\n",
       "    </tr>\n",
       "    <tr>\n",
       "      <th>1</th>\n",
       "      <td>1539397657571074049</td>\n",
       "      <td>@trashevrythng @hardevrythng @McDonalds respec...</td>\n",
       "      <td>[@trashevrythng, @hardevrythng, @McDonalds, re...</td>\n",
       "      <td>[@trashevrythng, @hardevrythng, @McDonalds, re...</td>\n",
       "    </tr>\n",
       "    <tr>\n",
       "      <th>2</th>\n",
       "      <td>1539397645625458688</td>\n",
       "      <td>@PeePosh2 @Scottschlittenh @sceley2011 @Joe_Ma...</td>\n",
       "      <td>[@PeePosh2, @Scottschlittenh, @sceley2011, @Jo...</td>\n",
       "      <td>[@PeePosh2, @Scottschlittenh, @sceley2011, @Jo...</td>\n",
       "    </tr>\n",
       "    <tr>\n",
       "      <th>4</th>\n",
       "      <td>1539397571013115904</td>\n",
       "      <td>@auauwra too bad im sending 8 mcdonalds large ...</td>\n",
       "      <td>[@auauwra, too, bad, i, m, sending, 8, mcdonal...</td>\n",
       "      <td>[@auauwra, too, bad, I, m, send, 8, mcdonald, ...</td>\n",
       "    </tr>\n",
       "    <tr>\n",
       "      <th>5</th>\n",
       "      <td>1539397434715082754</td>\n",
       "      <td>@_idkjia Last time I went to McDonalds.  lol  ...</td>\n",
       "      <td>[@_idkjia, Last, time, I, went, to, McDonalds,...</td>\n",
       "      <td>[@_idkjia, last, time, I, go, to, McDonalds, ....</td>\n",
       "    </tr>\n",
       "    <tr>\n",
       "      <th>...</th>\n",
       "      <td>...</td>\n",
       "      <td>...</td>\n",
       "      <td>...</td>\n",
       "      <td>...</td>\n",
       "    </tr>\n",
       "    <tr>\n",
       "      <th>7146</th>\n",
       "      <td>1539035600451514375</td>\n",
       "      <td>if belos comes back we should just give him a ...</td>\n",
       "      <td>[if, belos, comes, back, we, should, just, giv...</td>\n",
       "      <td>[if, belos, come, back, we, should, just, give...</td>\n",
       "    </tr>\n",
       "    <tr>\n",
       "      <th>7147</th>\n",
       "      <td>1539035573263863808</td>\n",
       "      <td>we were at mcdonalds and suddenly 4 school bus...</td>\n",
       "      <td>[we, were, at, mcdonalds, and, suddenly, 4, sc...</td>\n",
       "      <td>[we, be, at, mcdonald, and, suddenly, 4, schoo...</td>\n",
       "    </tr>\n",
       "    <tr>\n",
       "      <th>7149</th>\n",
       "      <td>1539035538300207104</td>\n",
       "      <td>IM SORRY I TOLD U TO DRINK MCDONALDS SPRITE ht...</td>\n",
       "      <td>[IM, SORRY, I, TOLD, U, TO, DRINK, MCDONALDS, ...</td>\n",
       "      <td>[IM, sorry, I, tell, u, to, DRINK, MCDONALDS, ...</td>\n",
       "    </tr>\n",
       "    <tr>\n",
       "      <th>7150</th>\n",
       "      <td>1539035499242864641</td>\n",
       "      <td>Tough times @McDonalds inflation is shrinking ...</td>\n",
       "      <td>[Tough, times, @McDonalds, inflation, is, shri...</td>\n",
       "      <td>[tough, time, @McDonalds, inflation, be, shrin...</td>\n",
       "    </tr>\n",
       "    <tr>\n",
       "      <th>7151</th>\n",
       "      <td>1539035475352211456</td>\n",
       "      <td>@McDonalds It's literally raw so I am not sure...</td>\n",
       "      <td>[@McDonalds, It, 's, literally, raw, so, I, am...</td>\n",
       "      <td>[@mcdonald, it, be, literally, raw, so, I, be,...</td>\n",
       "    </tr>\n",
       "  </tbody>\n",
       "</table>\n",
       "<p>5377 rows × 4 columns</p>\n",
       "</div>"
      ],
      "text/plain": [
       "                       id                                               text  \\\n",
       "0     1539397722595377152  @trashevrythng @hardevrythng @McDonalds and th...   \n",
       "1     1539397657571074049  @trashevrythng @hardevrythng @McDonalds respec...   \n",
       "2     1539397645625458688  @PeePosh2 @Scottschlittenh @sceley2011 @Joe_Ma...   \n",
       "4     1539397571013115904  @auauwra too bad im sending 8 mcdonalds large ...   \n",
       "5     1539397434715082754  @_idkjia Last time I went to McDonalds.  lol  ...   \n",
       "...                   ...                                                ...   \n",
       "7146  1539035600451514375  if belos comes back we should just give him a ...   \n",
       "7147  1539035573263863808  we were at mcdonalds and suddenly 4 school bus...   \n",
       "7149  1539035538300207104  IM SORRY I TOLD U TO DRINK MCDONALDS SPRITE ht...   \n",
       "7150  1539035499242864641  Tough times @McDonalds inflation is shrinking ...   \n",
       "7151  1539035475352211456  @McDonalds It's literally raw so I am not sure...   \n",
       "\n",
       "                                                 tokens  \\\n",
       "0     [@trashevrythng, @hardevrythng, @McDonalds, an...   \n",
       "1     [@trashevrythng, @hardevrythng, @McDonalds, re...   \n",
       "2     [@PeePosh2, @Scottschlittenh, @sceley2011, @Jo...   \n",
       "4     [@auauwra, too, bad, i, m, sending, 8, mcdonal...   \n",
       "5     [@_idkjia, Last, time, I, went, to, McDonalds,...   \n",
       "...                                                 ...   \n",
       "7146  [if, belos, comes, back, we, should, just, giv...   \n",
       "7147  [we, were, at, mcdonalds, and, suddenly, 4, sc...   \n",
       "7149  [IM, SORRY, I, TOLD, U, TO, DRINK, MCDONALDS, ...   \n",
       "7150  [Tough, times, @McDonalds, inflation, is, shri...   \n",
       "7151  [@McDonalds, It, 's, literally, raw, so, I, am...   \n",
       "\n",
       "                                                 lemmas  \n",
       "0     [@trashevrythng, @hardevrythng, @McDonalds, an...  \n",
       "1     [@trashevrythng, @hardevrythng, @McDonalds, re...  \n",
       "2     [@PeePosh2, @Scottschlittenh, @sceley2011, @Jo...  \n",
       "4     [@auauwra, too, bad, I, m, send, 8, mcdonald, ...  \n",
       "5     [@_idkjia, last, time, I, go, to, McDonalds, ....  \n",
       "...                                                 ...  \n",
       "7146  [if, belos, come, back, we, should, just, give...  \n",
       "7147  [we, be, at, mcdonald, and, suddenly, 4, schoo...  \n",
       "7149  [IM, sorry, I, tell, u, to, DRINK, MCDONALDS, ...  \n",
       "7150  [tough, time, @McDonalds, inflation, be, shrin...  \n",
       "7151  [@mcdonald, it, be, literally, raw, so, I, be,...  \n",
       "\n",
       "[5377 rows x 4 columns]"
      ]
     },
     "execution_count": 72,
     "metadata": {},
     "output_type": "execute_result"
    }
   ],
   "source": [
    "df_spacy"
   ]
  },
  {
   "cell_type": "markdown",
   "id": "fossil-algebra",
   "metadata": {},
   "source": [
    "We have tested 2 ways of processing our text: NLTK and spaCy."
   ]
  },
  {
   "cell_type": "markdown",
   "id": "improved-skiing",
   "metadata": {},
   "source": [
    "We could now use the processed text to train a model for sentiment analysis if we had labelled data. Since we don't (at least for now), we will leave this supervised approach for later.\n",
    "\n",
    "We will now focus on a rule-based (or lexicon-based) approach."
   ]
  }
 ],
 "metadata": {
  "kernelspec": {
   "display_name": "Python 3",
   "language": "python",
   "name": "python3"
  },
  "language_info": {
   "codemirror_mode": {
    "name": "ipython",
    "version": 3
   },
   "file_extension": ".py",
   "mimetype": "text/x-python",
   "name": "python",
   "nbconvert_exporter": "python",
   "pygments_lexer": "ipython3",
   "version": "3.8.8"
  }
 },
 "nbformat": 4,
 "nbformat_minor": 5
}
