{
 "cells": [
  {
   "cell_type": "markdown",
   "id": "usual-fluid",
   "metadata": {},
   "source": [
    "# C-More"
   ]
  },
  {
   "cell_type": "markdown",
   "id": "broad-entry",
   "metadata": {},
   "source": [
    "### Aggregate data with main.py"
   ]
  },
  {
   "cell_type": "code",
   "execution_count": 1,
   "id": "strategic-large",
   "metadata": {},
   "outputs": [],
   "source": [
    "import pymongo"
   ]
  },
  {
   "cell_type": "code",
   "execution_count": 2,
   "id": "useful-distributor",
   "metadata": {},
   "outputs": [],
   "source": [
    "client = pymongo.MongoClient('mongodb://localhost:27017/')"
   ]
  },
  {
   "cell_type": "code",
   "execution_count": 3,
   "id": "silver-rider",
   "metadata": {},
   "outputs": [],
   "source": [
    "db = client['rep_analysis_main']"
   ]
  },
  {
   "cell_type": "code",
   "execution_count": 4,
   "id": "cosmetic-drove",
   "metadata": {},
   "outputs": [
    {
     "data": {
      "text/plain": [
       "['data_test',\n",
       " 'kw_freq_weight_monthly_test',\n",
       " 'kw_freq_weight_test',\n",
       " 'kw_freq_weight_annually_test',\n",
       " 'client_info',\n",
       " 'sentiment_monthly_test',\n",
       " 'kw_freq_weight_daily_test',\n",
       " 'sentiment_annually_test',\n",
       " 'sentiment_weekly_test',\n",
       " 'data_twitter',\n",
       " 'sentiment_test',\n",
       " 'sentiment_daily_test',\n",
       " 'kw_freq_weight_weekly_test']"
      ]
     },
     "execution_count": 4,
     "metadata": {},
     "output_type": "execute_result"
    }
   ],
   "source": [
    "db.list_collection_names()"
   ]
  },
  {
   "cell_type": "markdown",
   "id": "grand-closer",
   "metadata": {},
   "source": [
    "We will start by running our sentiment_analysis.py script directly in order to **aggregate the sentiment analysis results**."
   ]
  },
  {
   "cell_type": "markdown",
   "id": "quality-disco",
   "metadata": {},
   "source": [
    "#### 1. Aggregate sentiment analysis results per day"
   ]
  },
  {
   "cell_type": "markdown",
   "id": "blind-infrared",
   "metadata": {},
   "source": [
    "We will use the sentiment_test collection as our source of data.\n",
    "\n",
    "After **running the sentiment_analysis.py script** for the daily aggregation (\"2022-09-29\"), we get:"
   ]
  },
  {
   "cell_type": "code",
   "execution_count": 5,
   "id": "signal-architecture",
   "metadata": {},
   "outputs": [
    {
     "data": {
      "text/plain": [
       "['data_test',\n",
       " 'kw_freq_weight_monthly_test',\n",
       " 'kw_freq_weight_test',\n",
       " 'kw_freq_weight_annually_test',\n",
       " 'client_info',\n",
       " 'sentiment_monthly_test',\n",
       " 'kw_freq_weight_daily_test',\n",
       " 'sentiment_annually_test',\n",
       " 'sentiment_weekly_test',\n",
       " 'data_twitter',\n",
       " 'sentiment_test',\n",
       " 'sentiment_daily_main',\n",
       " 'sentiment_daily_test',\n",
       " 'kw_freq_weight_weekly_test']"
      ]
     },
     "execution_count": 5,
     "metadata": {},
     "output_type": "execute_result"
    }
   ],
   "source": [
    "db.list_collection_names()"
   ]
  },
  {
   "cell_type": "markdown",
   "id": "capable-morris",
   "metadata": {},
   "source": [
    "We have a new collection, **sentiment_daily_main**."
   ]
  },
  {
   "cell_type": "code",
   "execution_count": 8,
   "id": "experimental-charter",
   "metadata": {},
   "outputs": [],
   "source": [
    "sentiment_daily_main = db['sentiment_daily_main']"
   ]
  },
  {
   "cell_type": "code",
   "execution_count": 9,
   "id": "spatial-portugal",
   "metadata": {},
   "outputs": [
    {
     "name": "stdout",
     "output_type": "stream",
     "text": [
      "{'_id': ObjectId('6353cf57deb6e8aaa03d2042'), 'extracted_at': '2022-09-29', 'year': '2022', 'month': '09', 'week_of_year': '39', 'positive_count': 30, 'negative_count': 20, 'neutral_count': 50}\n"
     ]
    }
   ],
   "source": [
    "for doc in sentiment_daily_main.find():\n",
    "    print(doc)"
   ]
  },
  {
   "cell_type": "code",
   "execution_count": 12,
   "id": "geological-surgeon",
   "metadata": {},
   "outputs": [],
   "source": [
    "sentiment_daily_test = db['sentiment_daily_test']"
   ]
  },
  {
   "cell_type": "code",
   "execution_count": 13,
   "id": "fitting-federal",
   "metadata": {},
   "outputs": [
    {
     "name": "stdout",
     "output_type": "stream",
     "text": [
      "{'_id': ObjectId('635144f3bbc8183bba8b8a1f'), 'extracted_at': '2022-09-29', 'year': '2022', 'month': '09', 'week_of_year': '39', 'positive_count': 30, 'negative_count': 20, 'neutral_count': 50}\n"
     ]
    }
   ],
   "source": [
    "for doc in sentiment_daily_test.find({\"extracted_at\": {\"$eq\": \"2022-09-29\"}}):\n",
    "    print(doc)"
   ]
  },
  {
   "cell_type": "markdown",
   "id": "overall-constant",
   "metadata": {},
   "source": [
    "The result we get is consistent with our test collection."
   ]
  },
  {
   "cell_type": "code",
   "execution_count": null,
   "id": "confident-thousand",
   "metadata": {},
   "outputs": [],
   "source": []
  }
 ],
 "metadata": {
  "kernelspec": {
   "display_name": "Python 3",
   "language": "python",
   "name": "python3"
  },
  "language_info": {
   "codemirror_mode": {
    "name": "ipython",
    "version": 3
   },
   "file_extension": ".py",
   "mimetype": "text/x-python",
   "name": "python",
   "nbconvert_exporter": "python",
   "pygments_lexer": "ipython3",
   "version": "3.8.8"
  }
 },
 "nbformat": 4,
 "nbformat_minor": 5
}
