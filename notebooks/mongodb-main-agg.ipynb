{
 "cells": [
  {
   "cell_type": "markdown",
   "id": "productive-anderson",
   "metadata": {},
   "source": [
    "# C-More"
   ]
  },
  {
   "cell_type": "markdown",
   "id": "heated-potter",
   "metadata": {},
   "source": [
    "### Aggregate data with main.py"
   ]
  },
  {
   "cell_type": "code",
   "execution_count": 1,
   "id": "manual-purchase",
   "metadata": {},
   "outputs": [],
   "source": [
    "import pymongo"
   ]
  },
  {
   "cell_type": "code",
   "execution_count": 2,
   "id": "concrete-bathroom",
   "metadata": {},
   "outputs": [],
   "source": [
    "client = pymongo.MongoClient('mongodb://localhost:27017/')"
   ]
  },
  {
   "cell_type": "code",
   "execution_count": 3,
   "id": "abandoned-kitchen",
   "metadata": {},
   "outputs": [],
   "source": [
    "db = client['rep_analysis_main']"
   ]
  },
  {
   "cell_type": "code",
   "execution_count": 4,
   "id": "searching-satin",
   "metadata": {},
   "outputs": [
    {
     "data": {
      "text/plain": [
       "['data_test',\n",
       " 'kw_freq_weight_monthly_test',\n",
       " 'kw_freq_weight_test',\n",
       " 'kw_freq_weight_annually_test',\n",
       " 'client_info',\n",
       " 'sentiment_monthly_test',\n",
       " 'kw_freq_weight_daily_test',\n",
       " 'sentiment_annually_test',\n",
       " 'sentiment_weekly_test',\n",
       " 'data_twitter',\n",
       " 'sentiment_test',\n",
       " 'sentiment_daily_test',\n",
       " 'kw_freq_weight_weekly_test']"
      ]
     },
     "execution_count": 4,
     "metadata": {},
     "output_type": "execute_result"
    }
   ],
   "source": [
    "db.list_collection_names()"
   ]
  },
  {
   "cell_type": "markdown",
   "id": "ancient-turkish",
   "metadata": {},
   "source": [
    "We will start by running our sentiment_analysis.py script directly in order to **aggregate the sentiment analysis results**."
   ]
  },
  {
   "cell_type": "markdown",
   "id": "corresponding-publisher",
   "metadata": {},
   "source": [
    "#### 1. Aggregate sentiment analysis results per day"
   ]
  },
  {
   "cell_type": "markdown",
   "id": "dental-uncle",
   "metadata": {},
   "source": [
    "We will use the sentiment_test collection as our source of data.\n",
    "\n",
    "After **running the sentiment_analysis.py script** for the **daily aggregation** (\"2022-09-29\"), we get:"
   ]
  },
  {
   "cell_type": "code",
   "execution_count": 5,
   "id": "smaller-mexico",
   "metadata": {},
   "outputs": [
    {
     "data": {
      "text/plain": [
       "['data_test',\n",
       " 'kw_freq_weight_monthly_test',\n",
       " 'kw_freq_weight_test',\n",
       " 'kw_freq_weight_annually_test',\n",
       " 'client_info',\n",
       " 'sentiment_monthly_test',\n",
       " 'kw_freq_weight_daily_test',\n",
       " 'sentiment_annually_test',\n",
       " 'sentiment_weekly_test',\n",
       " 'data_twitter',\n",
       " 'sentiment_test',\n",
       " 'sentiment_daily_main',\n",
       " 'sentiment_daily_test',\n",
       " 'kw_freq_weight_weekly_test']"
      ]
     },
     "execution_count": 5,
     "metadata": {},
     "output_type": "execute_result"
    }
   ],
   "source": [
    "db.list_collection_names()"
   ]
  },
  {
   "cell_type": "markdown",
   "id": "derived-amendment",
   "metadata": {},
   "source": [
    "We have a new collection, **sentiment_daily_main**."
   ]
  },
  {
   "cell_type": "code",
   "execution_count": 8,
   "id": "contrary-saturday",
   "metadata": {},
   "outputs": [],
   "source": [
    "sentiment_daily_main = db['sentiment_daily_main']"
   ]
  },
  {
   "cell_type": "code",
   "execution_count": 9,
   "id": "transsexual-possible",
   "metadata": {},
   "outputs": [
    {
     "name": "stdout",
     "output_type": "stream",
     "text": [
      "{'_id': ObjectId('6353cf57deb6e8aaa03d2042'), 'extracted_at': '2022-09-29', 'year': '2022', 'month': '09', 'week_of_year': '39', 'positive_count': 30, 'negative_count': 20, 'neutral_count': 50}\n"
     ]
    }
   ],
   "source": [
    "for doc in sentiment_daily_main.find():\n",
    "    print(doc)"
   ]
  },
  {
   "cell_type": "code",
   "execution_count": 12,
   "id": "understanding-wings",
   "metadata": {},
   "outputs": [],
   "source": [
    "sentiment_daily_test = db['sentiment_daily_test']"
   ]
  },
  {
   "cell_type": "code",
   "execution_count": 13,
   "id": "certain-xerox",
   "metadata": {},
   "outputs": [
    {
     "name": "stdout",
     "output_type": "stream",
     "text": [
      "{'_id': ObjectId('635144f3bbc8183bba8b8a1f'), 'extracted_at': '2022-09-29', 'year': '2022', 'month': '09', 'week_of_year': '39', 'positive_count': 30, 'negative_count': 20, 'neutral_count': 50}\n"
     ]
    }
   ],
   "source": [
    "for doc in sentiment_daily_test.find({\"extracted_at\": {\"$eq\": \"2022-09-29\"}}):\n",
    "    print(doc)"
   ]
  },
  {
   "cell_type": "markdown",
   "id": "excited-threshold",
   "metadata": {},
   "source": [
    "The result we get is consistent with our test collection."
   ]
  },
  {
   "cell_type": "markdown",
   "id": "modern-words",
   "metadata": {},
   "source": [
    "After running the script for all the days we have available, we get the following result:"
   ]
  },
  {
   "cell_type": "code",
   "execution_count": 19,
   "id": "baking-education",
   "metadata": {},
   "outputs": [
    {
     "name": "stdout",
     "output_type": "stream",
     "text": [
      "{'_id': ObjectId('6353d5cac877f987b8c9adab'), 'extracted_at': '2022-09-29', 'year': '2022', 'month': '09', 'week_of_year': '39', 'positive_count': 30, 'negative_count': 20, 'neutral_count': 50}\n",
      "{'_id': ObjectId('6353d5d6dfb5241a922d9301'), 'extracted_at': '2022-09-30', 'year': '2022', 'month': '09', 'week_of_year': '39', 'positive_count': 43, 'negative_count': 21, 'neutral_count': 36}\n",
      "{'_id': ObjectId('6353d60ab6d703c41b363abd'), 'extracted_at': '2022-10-01', 'year': '2022', 'month': '10', 'week_of_year': '39', 'positive_count': 32, 'negative_count': 25, 'neutral_count': 43}\n",
      "{'_id': ObjectId('6353d612d63257cf6cc24191'), 'extracted_at': '2022-10-02', 'year': '2022', 'month': '10', 'week_of_year': '40', 'positive_count': 44, 'negative_count': 18, 'neutral_count': 38}\n",
      "{'_id': ObjectId('6353d61b3fb72a4f4619b4b4'), 'extracted_at': '2022-10-03', 'year': '2022', 'month': '10', 'week_of_year': '40', 'positive_count': 37, 'negative_count': 19, 'neutral_count': 44}\n",
      "{'_id': ObjectId('6353d62387da5084bc6e67fe'), 'extracted_at': '2022-10-04', 'year': '2022', 'month': '10', 'week_of_year': '40', 'positive_count': 40, 'negative_count': 17, 'neutral_count': 43}\n",
      "{'_id': ObjectId('6353d636efe917fcf48e2658'), 'extracted_at': '2022-10-05', 'year': '2022', 'month': '10', 'week_of_year': '40', 'positive_count': 42, 'negative_count': 16, 'neutral_count': 42}\n",
      "{'_id': ObjectId('6353d63f62e3cf6d9ac6abca'), 'extracted_at': '2022-10-06', 'year': '2022', 'month': '10', 'week_of_year': '40', 'positive_count': 45, 'negative_count': 17, 'neutral_count': 38}\n",
      "{'_id': ObjectId('6353d647699eb30994ad8d30'), 'extracted_at': '2022-10-07', 'year': '2022', 'month': '10', 'week_of_year': '40', 'positive_count': 43, 'negative_count': 20, 'neutral_count': 37}\n",
      "{'_id': ObjectId('6353d64f904223060bdcfed4'), 'extracted_at': '2022-10-08', 'year': '2022', 'month': '10', 'week_of_year': '40', 'positive_count': 34, 'negative_count': 22, 'neutral_count': 44}\n",
      "{'_id': ObjectId('6353d6575f13ffcad9871a5b'), 'extracted_at': '2022-10-09', 'year': '2022', 'month': '10', 'week_of_year': '41', 'positive_count': 36, 'negative_count': 22, 'neutral_count': 42}\n",
      "{'_id': ObjectId('6353d65f9c0aa0457306b8ff'), 'extracted_at': '2022-10-10', 'year': '2022', 'month': '10', 'week_of_year': '41', 'positive_count': 42, 'negative_count': 22, 'neutral_count': 36}\n",
      "{'_id': ObjectId('6353d667ce773a6de9b818d2'), 'extracted_at': '2022-10-11', 'year': '2022', 'month': '10', 'week_of_year': '41', 'positive_count': 45, 'negative_count': 14, 'neutral_count': 41}\n",
      "{'_id': ObjectId('6353d66fca25854185a53a67'), 'extracted_at': '2022-10-12', 'year': '2022', 'month': '10', 'week_of_year': '41', 'positive_count': 43, 'negative_count': 17, 'neutral_count': 40}\n",
      "{'_id': ObjectId('6353d67743c8a46ca3f0a0a7'), 'extracted_at': '2022-10-13', 'year': '2022', 'month': '10', 'week_of_year': '41', 'positive_count': 32, 'negative_count': 18, 'neutral_count': 50}\n",
      "{'_id': ObjectId('6353d6806267576a7646b9d8'), 'extracted_at': '2022-10-14', 'year': '2022', 'month': '10', 'week_of_year': '41', 'positive_count': 41, 'negative_count': 21, 'neutral_count': 38}\n",
      "{'_id': ObjectId('6353d687a0fc05f08510f831'), 'extracted_at': '2022-10-15', 'year': '2022', 'month': '10', 'week_of_year': '41', 'positive_count': 40, 'negative_count': 26, 'neutral_count': 34}\n",
      "{'_id': ObjectId('6353d68fbddb3509bf5e06e7'), 'extracted_at': '2022-10-16', 'year': '2022', 'month': '10', 'week_of_year': '42', 'positive_count': 43, 'negative_count': 17, 'neutral_count': 40}\n",
      "{'_id': ObjectId('6353d6975cfe5b69dce300f1'), 'extracted_at': '2022-10-17', 'year': '2022', 'month': '10', 'week_of_year': '42', 'positive_count': 44, 'negative_count': 20, 'neutral_count': 36}\n",
      "{'_id': ObjectId('6353d69ff366f3866f76b749'), 'extracted_at': '2022-10-18', 'year': '2022', 'month': '10', 'week_of_year': '42', 'positive_count': 40, 'negative_count': 22, 'neutral_count': 38}\n",
      "{'_id': ObjectId('6353d6a6d51aadee07fa6e33'), 'extracted_at': '2022-10-19', 'year': '2022', 'month': '10', 'week_of_year': '42', 'positive_count': 32, 'negative_count': 11, 'neutral_count': 28}\n"
     ]
    }
   ],
   "source": [
    "for doc in sentiment_daily_main.find():\n",
    "    print(doc)"
   ]
  },
  {
   "cell_type": "markdown",
   "id": "adjustable-guatemala",
   "metadata": {},
   "source": [
    "#### 2. Aggregate sentiment analysis results per week"
   ]
  },
  {
   "cell_type": "markdown",
   "id": "quiet-investment",
   "metadata": {},
   "source": [
    "After **running the sentiment_analysis.py script** for the **weekly aggregation (\"39\")**, we get:"
   ]
  },
  {
   "cell_type": "code",
   "execution_count": 20,
   "id": "thermal-account",
   "metadata": {},
   "outputs": [
    {
     "data": {
      "text/plain": [
       "['data_test',\n",
       " 'kw_freq_weight_monthly_test',\n",
       " 'kw_freq_weight_test',\n",
       " 'kw_freq_weight_annually_test',\n",
       " 'client_info',\n",
       " 'sentiment_monthly_test',\n",
       " 'kw_freq_weight_daily_test',\n",
       " 'sentiment_annually_test',\n",
       " 'sentiment_weekly_test',\n",
       " 'sentiment_weekly_main',\n",
       " 'data_twitter',\n",
       " 'sentiment_test',\n",
       " 'sentiment_daily_test',\n",
       " 'sentiment_daily_main',\n",
       " 'kw_freq_weight_weekly_test']"
      ]
     },
     "execution_count": 20,
     "metadata": {},
     "output_type": "execute_result"
    }
   ],
   "source": [
    "db.list_collection_names()"
   ]
  },
  {
   "cell_type": "markdown",
   "id": "joint-superior",
   "metadata": {},
   "source": [
    "We have a new collection, **sentiment_weekly_main**."
   ]
  },
  {
   "cell_type": "code",
   "execution_count": 21,
   "id": "permanent-suspension",
   "metadata": {},
   "outputs": [],
   "source": [
    "sentiment_weekly_main = db['sentiment_weekly_main']"
   ]
  },
  {
   "cell_type": "code",
   "execution_count": 22,
   "id": "widespread-avatar",
   "metadata": {},
   "outputs": [
    {
     "name": "stdout",
     "output_type": "stream",
     "text": [
      "{'_id': {'year_week': ['2022', '39']}, 'total_positive_count': 105, 'total_negative_count': 66, 'total_neutral_count': 129, 'total_number_of_days': 3}\n"
     ]
    }
   ],
   "source": [
    "for doc in sentiment_weekly_main.find():\n",
    "    print(doc)"
   ]
  },
  {
   "cell_type": "code",
   "execution_count": 23,
   "id": "warming-pearl",
   "metadata": {},
   "outputs": [],
   "source": [
    "sentiment_weekly_test = db['sentiment_weekly_test']"
   ]
  },
  {
   "cell_type": "code",
   "execution_count": 25,
   "id": "coral-yellow",
   "metadata": {},
   "outputs": [
    {
     "name": "stdout",
     "output_type": "stream",
     "text": [
      "{'_id': {'year_week': ['2022', '39']}, 'total_positive_count': 105, 'total_negative_count': 66, 'total_neutral_count': 129, 'total_number_of_days': 3}\n",
      "{'_id': {'year_week': ['2022', '40']}, 'total_positive_count': 285, 'total_negative_count': 129, 'total_neutral_count': 286, 'total_number_of_days': 7}\n",
      "{'_id': {'year_week': ['2022', '41']}, 'total_positive_count': 279, 'total_negative_count': 140, 'total_neutral_count': 281, 'total_number_of_days': 7}\n",
      "{'_id': {'year_week': ['2022', '42']}, 'total_positive_count': 159, 'total_negative_count': 70, 'total_neutral_count': 142, 'total_number_of_days': 4}\n"
     ]
    }
   ],
   "source": [
    "for doc in sentiment_weekly_test.find():\n",
    "    print(doc)"
   ]
  },
  {
   "cell_type": "markdown",
   "id": "knowing-story",
   "metadata": {},
   "source": [
    "The result we get is consistent with our test collection."
   ]
  },
  {
   "cell_type": "markdown",
   "id": "intermediate-necklace",
   "metadata": {},
   "source": [
    "For all the available weeks, we get:"
   ]
  },
  {
   "cell_type": "code",
   "execution_count": 26,
   "id": "hydraulic-blowing",
   "metadata": {},
   "outputs": [
    {
     "name": "stdout",
     "output_type": "stream",
     "text": [
      "{'_id': {'year_week': ['2022', '39']}, 'total_positive_count': 105, 'total_negative_count': 66, 'total_neutral_count': 129, 'total_number_of_days': 3}\n",
      "{'_id': {'year_week': ['2022', '40']}, 'total_positive_count': 285, 'total_negative_count': 129, 'total_neutral_count': 286, 'total_number_of_days': 7}\n",
      "{'_id': {'year_week': ['2022', '41']}, 'total_positive_count': 279, 'total_negative_count': 140, 'total_neutral_count': 281, 'total_number_of_days': 7}\n",
      "{'_id': {'year_week': ['2022', '42']}, 'total_positive_count': 159, 'total_negative_count': 70, 'total_neutral_count': 142, 'total_number_of_days': 4}\n"
     ]
    }
   ],
   "source": [
    "for doc in sentiment_weekly_main.find():\n",
    "    print(doc)"
   ]
  },
  {
   "cell_type": "markdown",
   "id": "prepared-comparison",
   "metadata": {},
   "source": [
    "#### 3. Aggregate sentiment analysis results per month"
   ]
  },
  {
   "cell_type": "markdown",
   "id": "technical-friendly",
   "metadata": {},
   "source": [
    "After **running the sentiment_analysis.py script** for the **monthly aggregation (\"09\")**, we get:"
   ]
  },
  {
   "cell_type": "code",
   "execution_count": 27,
   "id": "elect-default",
   "metadata": {},
   "outputs": [
    {
     "data": {
      "text/plain": [
       "['sentiment_monthly_main',\n",
       " 'data_test',\n",
       " 'kw_freq_weight_monthly_test',\n",
       " 'kw_freq_weight_test',\n",
       " 'kw_freq_weight_annually_test',\n",
       " 'client_info',\n",
       " 'sentiment_monthly_test',\n",
       " 'kw_freq_weight_daily_test',\n",
       " 'sentiment_annually_test',\n",
       " 'sentiment_weekly_test',\n",
       " 'sentiment_weekly_main',\n",
       " 'data_twitter',\n",
       " 'sentiment_test',\n",
       " 'sentiment_daily_test',\n",
       " 'sentiment_daily_main',\n",
       " 'kw_freq_weight_weekly_test']"
      ]
     },
     "execution_count": 27,
     "metadata": {},
     "output_type": "execute_result"
    }
   ],
   "source": [
    "db.list_collection_names()"
   ]
  },
  {
   "cell_type": "markdown",
   "id": "round-arrow",
   "metadata": {},
   "source": [
    "We have a new collection, **sentiment_monthly_main**."
   ]
  },
  {
   "cell_type": "code",
   "execution_count": 28,
   "id": "opponent-estonia",
   "metadata": {},
   "outputs": [],
   "source": [
    "sentiment_monthly_main = db['sentiment_monthly_main']"
   ]
  },
  {
   "cell_type": "code",
   "execution_count": 29,
   "id": "smooth-replication",
   "metadata": {},
   "outputs": [
    {
     "name": "stdout",
     "output_type": "stream",
     "text": [
      "{'_id': {'year_month': ['2022', '09']}, 'total_positive_count': 73, 'total_negative_count': 41, 'total_neutral_count': 86, 'total_number_of_days': 2, 'year': '2022'}\n"
     ]
    }
   ],
   "source": [
    "for doc in sentiment_monthly_main.find():\n",
    "    print(doc)"
   ]
  },
  {
   "cell_type": "code",
   "execution_count": 30,
   "id": "electoral-entrance",
   "metadata": {},
   "outputs": [],
   "source": [
    "sentiment_monthly_test = db['sentiment_monthly_test']"
   ]
  },
  {
   "cell_type": "code",
   "execution_count": 31,
   "id": "approximate-least",
   "metadata": {},
   "outputs": [
    {
     "name": "stdout",
     "output_type": "stream",
     "text": [
      "{'_id': {'year_month': ['2022', '09']}, 'total_positive_count': 73, 'total_negative_count': 41, 'total_neutral_count': 86, 'total_number_of_days': 2, 'year': '2022'}\n",
      "{'_id': {'year_month': ['2022', '10']}, 'total_positive_count': 755, 'total_negative_count': 364, 'total_neutral_count': 752, 'total_number_of_days': 19, 'year': '2022'}\n"
     ]
    }
   ],
   "source": [
    "for doc in sentiment_monthly_test.find():\n",
    "    print(doc)"
   ]
  },
  {
   "cell_type": "markdown",
   "id": "induced-place",
   "metadata": {},
   "source": [
    "The result we get is consistent with our test collection."
   ]
  },
  {
   "cell_type": "markdown",
   "id": "continent-grove",
   "metadata": {},
   "source": [
    "For all the available months, we get:"
   ]
  },
  {
   "cell_type": "code",
   "execution_count": 32,
   "id": "formal-coach",
   "metadata": {},
   "outputs": [
    {
     "name": "stdout",
     "output_type": "stream",
     "text": [
      "{'_id': {'year_month': ['2022', '09']}, 'total_positive_count': 73, 'total_negative_count': 41, 'total_neutral_count': 86, 'total_number_of_days': 2, 'year': '2022'}\n",
      "{'_id': {'year_month': ['2022', '10']}, 'total_positive_count': 755, 'total_negative_count': 364, 'total_neutral_count': 752, 'total_number_of_days': 19, 'year': '2022'}\n"
     ]
    }
   ],
   "source": [
    "for doc in sentiment_monthly_main.find():\n",
    "    print(doc)"
   ]
  },
  {
   "cell_type": "code",
   "execution_count": null,
   "id": "abroad-pound",
   "metadata": {},
   "outputs": [],
   "source": []
  }
 ],
 "metadata": {
  "kernelspec": {
   "display_name": "Python 3",
   "language": "python",
   "name": "python3"
  },
  "language_info": {
   "codemirror_mode": {
    "name": "ipython",
    "version": 3
   },
   "file_extension": ".py",
   "mimetype": "text/x-python",
   "name": "python",
   "nbconvert_exporter": "python",
   "pygments_lexer": "ipython3",
   "version": "3.8.8"
  }
 },
 "nbformat": 4,
 "nbformat_minor": 5
}
