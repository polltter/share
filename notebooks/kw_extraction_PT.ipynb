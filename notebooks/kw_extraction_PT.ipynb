{
 "cells": [
  {
   "cell_type": "markdown",
   "id": "studied-jersey",
   "metadata": {},
   "source": [
    "# C-More"
   ]
  },
  {
   "cell_type": "code",
   "execution_count": 1,
   "id": "binding-antique",
   "metadata": {},
   "outputs": [],
   "source": [
    "import tweepy\n",
    "import pandas as pd"
   ]
  },
  {
   "cell_type": "code",
   "execution_count": 2,
   "id": "listed-hearing",
   "metadata": {},
   "outputs": [],
   "source": [
    "# Twitter API v2\n",
    "\n",
    "bearer_token = ''\n",
    "\n",
    "client = tweepy.Client(bearer_token=bearer_token)"
   ]
  },
  {
   "cell_type": "markdown",
   "id": "engaged-screw",
   "metadata": {},
   "source": [
    "### 1. Get tweets and store them in  a data frame"
   ]
  },
  {
   "cell_type": "code",
   "execution_count": 3,
   "id": "exact-kennedy",
   "metadata": {},
   "outputs": [],
   "source": [
    "query = \"Galp -is:retweet lang:pt\"\n",
    "\n",
    "# maches tweets with words Galp, excluding retweets for tweets in PT (app language?)"
   ]
  },
  {
   "cell_type": "code",
   "execution_count": 4,
   "id": "young-retailer",
   "metadata": {},
   "outputs": [],
   "source": [
    "response = client.get_recent_tweets_count(query, granularity=\"day\") # count of tweets for the last 7 days\n",
    "# granularity can be minute, hour or day"
   ]
  },
  {
   "cell_type": "code",
   "execution_count": 5,
   "id": "infrared-official",
   "metadata": {},
   "outputs": [
    {
     "name": "stdout",
     "output_type": "stream",
     "text": [
      "{'end': '2022-07-15T00:00:00.000Z', 'start': '2022-07-14T12:06:14.000Z', 'tweet_count': 13}\n",
      "{'end': '2022-07-16T00:00:00.000Z', 'start': '2022-07-15T00:00:00.000Z', 'tweet_count': 12}\n",
      "{'end': '2022-07-17T00:00:00.000Z', 'start': '2022-07-16T00:00:00.000Z', 'tweet_count': 19}\n",
      "{'end': '2022-07-18T00:00:00.000Z', 'start': '2022-07-17T00:00:00.000Z', 'tweet_count': 15}\n",
      "{'end': '2022-07-19T00:00:00.000Z', 'start': '2022-07-18T00:00:00.000Z', 'tweet_count': 28}\n",
      "{'end': '2022-07-20T00:00:00.000Z', 'start': '2022-07-19T00:00:00.000Z', 'tweet_count': 16}\n",
      "{'end': '2022-07-21T00:00:00.000Z', 'start': '2022-07-20T00:00:00.000Z', 'tweet_count': 15}\n",
      "{'end': '2022-07-21T12:06:14.000Z', 'start': '2022-07-21T00:00:00.000Z', 'tweet_count': 4}\n"
     ]
    }
   ],
   "source": [
    "for count in response.data:\n",
    "    print(count)"
   ]
  },
  {
   "cell_type": "code",
   "execution_count": 6,
   "id": "military-contribution",
   "metadata": {},
   "outputs": [
    {
     "name": "stdout",
     "output_type": "stream",
     "text": [
      "1 12 12\n",
      "2 19 31\n",
      "3 15 46\n",
      "4 28 74\n",
      "5 16 90\n",
      "6 15 105\n"
     ]
    }
   ],
   "source": [
    "total = 0\n",
    "\n",
    "for i, count in enumerate(response.data):\n",
    "    if i > 0 and i < 7:\n",
    "        total += count['tweet_count']\n",
    "        print(i, count['tweet_count'], total)"
   ]
  },
  {
   "cell_type": "code",
   "execution_count": 7,
   "id": "rocky-elephant",
   "metadata": {},
   "outputs": [],
   "source": [
    "data = []\n",
    "\n",
    "for tweet in tweepy.Paginator(client.search_recent_tweets, \n",
    "                              query, \n",
    "                              start_time=\"2022-07-15T00:00:00Z\", \n",
    "                              end_time=\"2022-07-21T00:00:00Z\", \n",
    "                              max_results=100, \n",
    "                              tweet_fields=['lang', 'created_at', 'public_metrics']).flatten(): # default limit is inf\n",
    "    \n",
    "    data.append([tweet.id, \n",
    "                 tweet.text, \n",
    "                 tweet.lang, \n",
    "                 tweet.public_metrics['retweet_count'], \n",
    "                 tweet.public_metrics['reply_count'], \n",
    "                 tweet.public_metrics['like_count'], \n",
    "                 tweet.public_metrics['quote_count'], \n",
    "                 tweet.created_at\n",
    "                ])\n",
    "\n",
    "df_galp = pd.DataFrame(data, columns = ['id', 'text', 'lang', 'retweets', 'replies', 'likes', 'quotes', 'created_at'])"
   ]
  },
  {
   "cell_type": "code",
   "execution_count": 8,
   "id": "cubic-lemon",
   "metadata": {},
   "outputs": [
    {
     "data": {
      "text/html": [
       "<div>\n",
       "<style scoped>\n",
       "    .dataframe tbody tr th:only-of-type {\n",
       "        vertical-align: middle;\n",
       "    }\n",
       "\n",
       "    .dataframe tbody tr th {\n",
       "        vertical-align: top;\n",
       "    }\n",
       "\n",
       "    .dataframe thead th {\n",
       "        text-align: right;\n",
       "    }\n",
       "</style>\n",
       "<table border=\"1\" class=\"dataframe\">\n",
       "  <thead>\n",
       "    <tr style=\"text-align: right;\">\n",
       "      <th></th>\n",
       "      <th>id</th>\n",
       "      <th>text</th>\n",
       "      <th>lang</th>\n",
       "      <th>retweets</th>\n",
       "      <th>replies</th>\n",
       "      <th>likes</th>\n",
       "      <th>quotes</th>\n",
       "      <th>created_at</th>\n",
       "    </tr>\n",
       "  </thead>\n",
       "  <tbody>\n",
       "    <tr>\n",
       "      <th>0</th>\n",
       "      <td>1549894462792499201</td>\n",
       "      <td>@xoao111 @psocialista @jvstorres Basicamente t...</td>\n",
       "      <td>pt</td>\n",
       "      <td>0</td>\n",
       "      <td>0</td>\n",
       "      <td>0</td>\n",
       "      <td>0</td>\n",
       "      <td>2022-07-20 23:10:10+00:00</td>\n",
       "    </tr>\n",
       "    <tr>\n",
       "      <th>1</th>\n",
       "      <td>1549884615564877826</td>\n",
       "      <td>Se o meu namorado vir isto lá vou eu ter que d...</td>\n",
       "      <td>pt</td>\n",
       "      <td>0</td>\n",
       "      <td>0</td>\n",
       "      <td>0</td>\n",
       "      <td>0</td>\n",
       "      <td>2022-07-20 22:31:02+00:00</td>\n",
       "    </tr>\n",
       "    <tr>\n",
       "      <th>2</th>\n",
       "      <td>1549879099128168453</td>\n",
       "      <td>Estou sem palavras, a Ferrari não tem cartão G...</td>\n",
       "      <td>pt</td>\n",
       "      <td>0</td>\n",
       "      <td>0</td>\n",
       "      <td>0</td>\n",
       "      <td>0</td>\n",
       "      <td>2022-07-20 22:09:07+00:00</td>\n",
       "    </tr>\n",
       "    <tr>\n",
       "      <th>3</th>\n",
       "      <td>1549858582107226114</td>\n",
       "      <td>@p_leitao @filipagpinto Não Não deu. A cotação...</td>\n",
       "      <td>pt</td>\n",
       "      <td>0</td>\n",
       "      <td>1</td>\n",
       "      <td>0</td>\n",
       "      <td>0</td>\n",
       "      <td>2022-07-20 20:47:35+00:00</td>\n",
       "    </tr>\n",
       "    <tr>\n",
       "      <th>4</th>\n",
       "      <td>1549845974742360076</td>\n",
       "      <td>Quero levar a minha dama a um lugar caro\\nAgor...</td>\n",
       "      <td>pt</td>\n",
       "      <td>0</td>\n",
       "      <td>1</td>\n",
       "      <td>3</td>\n",
       "      <td>1</td>\n",
       "      <td>2022-07-20 19:57:29+00:00</td>\n",
       "    </tr>\n",
       "    <tr>\n",
       "      <th>...</th>\n",
       "      <td>...</td>\n",
       "      <td>...</td>\n",
       "      <td>...</td>\n",
       "      <td>...</td>\n",
       "      <td>...</td>\n",
       "      <td>...</td>\n",
       "      <td>...</td>\n",
       "      <td>...</td>\n",
       "    </tr>\n",
       "    <tr>\n",
       "      <th>100</th>\n",
       "      <td>1547913901324414979</td>\n",
       "      <td>Galp disponibiliza 500 mil euros em combustíve...</td>\n",
       "      <td>pt</td>\n",
       "      <td>0</td>\n",
       "      <td>0</td>\n",
       "      <td>0</td>\n",
       "      <td>0</td>\n",
       "      <td>2022-07-15 12:00:07+00:00</td>\n",
       "    </tr>\n",
       "    <tr>\n",
       "      <th>101</th>\n",
       "      <td>1547908997889503232</td>\n",
       "      <td>WRAP-UP ACAMPAMENTO 1.5\\n\\nO Acampamento 1.5, ...</td>\n",
       "      <td>pt</td>\n",
       "      <td>3</td>\n",
       "      <td>0</td>\n",
       "      <td>6</td>\n",
       "      <td>0</td>\n",
       "      <td>2022-07-15 11:40:38+00:00</td>\n",
       "    </tr>\n",
       "    <tr>\n",
       "      <th>102</th>\n",
       "      <td>1547905603309170688</td>\n",
       "      <td>esta edição possível, os parceiros Upcoming En...</td>\n",
       "      <td>pt</td>\n",
       "      <td>0</td>\n",
       "      <td>0</td>\n",
       "      <td>1</td>\n",
       "      <td>0</td>\n",
       "      <td>2022-07-15 11:27:09+00:00</td>\n",
       "    </tr>\n",
       "    <tr>\n",
       "      <th>103</th>\n",
       "      <td>1547889048806572032</td>\n",
       "      <td>Galp e Repsol mais do que triplicam margens de...</td>\n",
       "      <td>pt</td>\n",
       "      <td>9</td>\n",
       "      <td>2</td>\n",
       "      <td>20</td>\n",
       "      <td>0</td>\n",
       "      <td>2022-07-15 10:21:22+00:00</td>\n",
       "    </tr>\n",
       "    <tr>\n",
       "      <th>104</th>\n",
       "      <td>1547884198119124995</td>\n",
       "      <td>@DuqueRui @pauloalves Deus nos livre da IL ser...</td>\n",
       "      <td>pt</td>\n",
       "      <td>0</td>\n",
       "      <td>1</td>\n",
       "      <td>0</td>\n",
       "      <td>0</td>\n",
       "      <td>2022-07-15 10:02:05+00:00</td>\n",
       "    </tr>\n",
       "  </tbody>\n",
       "</table>\n",
       "<p>105 rows × 8 columns</p>\n",
       "</div>"
      ],
      "text/plain": [
       "                      id                                               text  \\\n",
       "0    1549894462792499201  @xoao111 @psocialista @jvstorres Basicamente t...   \n",
       "1    1549884615564877826  Se o meu namorado vir isto lá vou eu ter que d...   \n",
       "2    1549879099128168453  Estou sem palavras, a Ferrari não tem cartão G...   \n",
       "3    1549858582107226114  @p_leitao @filipagpinto Não Não deu. A cotação...   \n",
       "4    1549845974742360076  Quero levar a minha dama a um lugar caro\\nAgor...   \n",
       "..                   ...                                                ...   \n",
       "100  1547913901324414979  Galp disponibiliza 500 mil euros em combustíve...   \n",
       "101  1547908997889503232  WRAP-UP ACAMPAMENTO 1.5\\n\\nO Acampamento 1.5, ...   \n",
       "102  1547905603309170688  esta edição possível, os parceiros Upcoming En...   \n",
       "103  1547889048806572032  Galp e Repsol mais do que triplicam margens de...   \n",
       "104  1547884198119124995  @DuqueRui @pauloalves Deus nos livre da IL ser...   \n",
       "\n",
       "    lang  retweets  replies  likes  quotes                created_at  \n",
       "0     pt         0        0      0       0 2022-07-20 23:10:10+00:00  \n",
       "1     pt         0        0      0       0 2022-07-20 22:31:02+00:00  \n",
       "2     pt         0        0      0       0 2022-07-20 22:09:07+00:00  \n",
       "3     pt         0        1      0       0 2022-07-20 20:47:35+00:00  \n",
       "4     pt         0        1      3       1 2022-07-20 19:57:29+00:00  \n",
       "..   ...       ...      ...    ...     ...                       ...  \n",
       "100   pt         0        0      0       0 2022-07-15 12:00:07+00:00  \n",
       "101   pt         3        0      6       0 2022-07-15 11:40:38+00:00  \n",
       "102   pt         0        0      1       0 2022-07-15 11:27:09+00:00  \n",
       "103   pt         9        2     20       0 2022-07-15 10:21:22+00:00  \n",
       "104   pt         0        1      0       0 2022-07-15 10:02:05+00:00  \n",
       "\n",
       "[105 rows x 8 columns]"
      ]
     },
     "execution_count": 8,
     "metadata": {},
     "output_type": "execute_result"
    }
   ],
   "source": [
    "df_galp"
   ]
  },
  {
   "cell_type": "code",
   "execution_count": 9,
   "id": "french-member",
   "metadata": {},
   "outputs": [
    {
     "data": {
      "text/plain": [
       "pt    105\n",
       "Name: lang, dtype: int64"
      ]
     },
     "execution_count": 9,
     "metadata": {},
     "output_type": "execute_result"
    }
   ],
   "source": [
    "df_galp['lang'].value_counts()"
   ]
  },
  {
   "cell_type": "markdown",
   "id": "entitled-glenn",
   "metadata": {},
   "source": [
    "All our tweets are in Portuguese, so we can drop this column."
   ]
  },
  {
   "cell_type": "code",
   "execution_count": 10,
   "id": "biblical-jacket",
   "metadata": {},
   "outputs": [],
   "source": [
    "df_galp.drop('lang', axis=1, inplace=True)"
   ]
  },
  {
   "cell_type": "code",
   "execution_count": 11,
   "id": "future-prize",
   "metadata": {},
   "outputs": [
    {
     "name": "stdout",
     "output_type": "stream",
     "text": [
      "<class 'pandas.core.frame.DataFrame'>\n",
      "RangeIndex: 105 entries, 0 to 104\n",
      "Data columns (total 7 columns):\n",
      " #   Column      Non-Null Count  Dtype              \n",
      "---  ------      --------------  -----              \n",
      " 0   id          105 non-null    int64              \n",
      " 1   text        105 non-null    object             \n",
      " 2   retweets    105 non-null    int64              \n",
      " 3   replies     105 non-null    int64              \n",
      " 4   likes       105 non-null    int64              \n",
      " 5   quotes      105 non-null    int64              \n",
      " 6   created_at  105 non-null    datetime64[ns, UTC]\n",
      "dtypes: datetime64[ns, UTC](1), int64(5), object(1)\n",
      "memory usage: 5.9+ KB\n"
     ]
    }
   ],
   "source": [
    "df_galp.info()"
   ]
  },
  {
   "cell_type": "markdown",
   "id": "integral-baptist",
   "metadata": {},
   "source": [
    "### 2. Process text"
   ]
  },
  {
   "cell_type": "code",
   "execution_count": 12,
   "id": "falling-advocacy",
   "metadata": {},
   "outputs": [],
   "source": [
    "import nltk\n",
    "from nltk.tokenize import TweetTokenizer\n",
    "import string"
   ]
  },
  {
   "cell_type": "code",
   "execution_count": 13,
   "id": "heavy-subscription",
   "metadata": {},
   "outputs": [
    {
     "data": {
      "text/plain": [
       "'@FBenfica1904 @tiagojcgodinho @PSSantiago88 @SLBenfica que dobrar de espinha épico. Sabes que os gajos que estão colocados em \"gaiolas douradas\" na EDP ou na GALP nunca podem ser transferidos para outras empresas, certo? Um jogador de futebol pode ser transferido desde que todos os stakeholders aceitem... é função do Benfica ajudar'"
      ]
     },
     "execution_count": 13,
     "metadata": {},
     "output_type": "execute_result"
    }
   ],
   "source": [
    "# select longest tweet for testing purposes\n",
    "\n",
    "test_text = sorted(df_galp['text'], key=lambda x: len(x), reverse=True)[0]\n",
    "\n",
    "test_text"
   ]
  },
  {
   "cell_type": "code",
   "execution_count": 14,
   "id": "helpful-adventure",
   "metadata": {},
   "outputs": [
    {
     "data": {
      "text/plain": [
       "['que',\n",
       " 'dobrar',\n",
       " 'de',\n",
       " 'espinha',\n",
       " 'épico',\n",
       " '.',\n",
       " 'Sabes',\n",
       " 'que',\n",
       " 'os',\n",
       " 'gajos',\n",
       " 'que',\n",
       " 'estão',\n",
       " 'colocados',\n",
       " 'em',\n",
       " '\"',\n",
       " 'gaiolas',\n",
       " 'douradas',\n",
       " '\"',\n",
       " 'na',\n",
       " 'EDP',\n",
       " 'ou',\n",
       " 'na',\n",
       " 'GALP',\n",
       " 'nunca',\n",
       " 'podem',\n",
       " 'ser',\n",
       " 'transferidos',\n",
       " 'para',\n",
       " 'outras',\n",
       " 'empresas',\n",
       " ',',\n",
       " 'certo',\n",
       " '?',\n",
       " 'Um',\n",
       " 'jogador',\n",
       " 'de',\n",
       " 'futebol',\n",
       " 'pode',\n",
       " 'ser',\n",
       " 'transferido',\n",
       " 'desde',\n",
       " 'que',\n",
       " 'todos',\n",
       " 'os',\n",
       " 'stakeholders',\n",
       " 'aceitem',\n",
       " '...',\n",
       " 'é',\n",
       " 'função',\n",
       " 'do',\n",
       " 'Benfica',\n",
       " 'ajudar']"
      ]
     },
     "execution_count": 14,
     "metadata": {},
     "output_type": "execute_result"
    }
   ],
   "source": [
    "# test tweet tokenizer\n",
    "\n",
    "tweet_tokenizer = TweetTokenizer(reduce_len=True, strip_handles=True)\n",
    "# redule_len=True replaces repeated character sequences of length 3 or greater with sequences of length 3\n",
    "# examples: waaaaayyyy --> waaayyy\n",
    "# strip_handles=True removes Twitter handles (@xxxx...)\n",
    "\n",
    "tweet_tokenizer.tokenize(test_text)"
   ]
  },
  {
   "cell_type": "code",
   "execution_count": 15,
   "id": "harmful-profession",
   "metadata": {},
   "outputs": [
    {
     "data": {
      "text/plain": [
       "'!\"#$%&\\'()*+,-./:;<=>?@[\\\\]^_`{|}~’…...'"
      ]
     },
     "execution_count": 15,
     "metadata": {},
     "output_type": "execute_result"
    }
   ],
   "source": [
    "# punctuation\n",
    "\n",
    "punct = string.punctuation\n",
    "\n",
    "punct += \"’\" # add \"’\" to punct\n",
    "punct += \"…\" # add \"…\" to punct\n",
    "punct += \"...\" # add \"...\" to punct\n",
    "\n",
    "punct"
   ]
  },
  {
   "cell_type": "code",
   "execution_count": 16,
   "id": "returning-latest",
   "metadata": {},
   "outputs": [],
   "source": [
    "# tokenize text and remove punctuation\n",
    "\n",
    "def tokens_nopunct(text):\n",
    "    \n",
    "    tokens = [token for token in TweetTokenizer(reduce_len=True, strip_handles=True).tokenize(text)]\n",
    "    return [token for token in tokens if token not in punct]"
   ]
  },
  {
   "cell_type": "code",
   "execution_count": 17,
   "id": "accepting-respondent",
   "metadata": {},
   "outputs": [
    {
     "data": {
      "text/plain": [
       "['caso',\n",
       " 'de',\n",
       " 'teste',\n",
       " 'palavra-com-hífenes',\n",
       " 'esta',\n",
       " 'é',\n",
       " 'uma',\n",
       " 'palavra',\n",
       " 'composta',\n",
       " 'por',\n",
       " 'justaposição',\n",
       " 'que',\n",
       " 'mantém',\n",
       " 'o',\n",
       " 'hífen']"
      ]
     },
     "execution_count": 17,
     "metadata": {},
     "output_type": "execute_result"
    }
   ],
   "source": [
    "# teste palavras compostas com hifenização\n",
    "\n",
    "tokens_nopunct(\"caso de teste: palavra-com-hífenes - esta é uma palavra composta por justaposição que mantém o hífen\")"
   ]
  },
  {
   "cell_type": "code",
   "execution_count": 18,
   "id": "average-diabetes",
   "metadata": {},
   "outputs": [
    {
     "data": {
      "text/plain": [
       "['que',\n",
       " 'dobrar',\n",
       " 'de',\n",
       " 'espinha',\n",
       " 'épico',\n",
       " 'Sabes',\n",
       " 'que',\n",
       " 'os',\n",
       " 'gajos',\n",
       " 'que',\n",
       " 'estão',\n",
       " 'colocados',\n",
       " 'em',\n",
       " 'gaiolas',\n",
       " 'douradas',\n",
       " 'na',\n",
       " 'EDP',\n",
       " 'ou',\n",
       " 'na',\n",
       " 'GALP',\n",
       " 'nunca',\n",
       " 'podem',\n",
       " 'ser',\n",
       " 'transferidos',\n",
       " 'para',\n",
       " 'outras',\n",
       " 'empresas',\n",
       " 'certo',\n",
       " 'Um',\n",
       " 'jogador',\n",
       " 'de',\n",
       " 'futebol',\n",
       " 'pode',\n",
       " 'ser',\n",
       " 'transferido',\n",
       " 'desde',\n",
       " 'que',\n",
       " 'todos',\n",
       " 'os',\n",
       " 'stakeholders',\n",
       " 'aceitem',\n",
       " 'é',\n",
       " 'função',\n",
       " 'do',\n",
       " 'Benfica',\n",
       " 'ajudar']"
      ]
     },
     "execution_count": 18,
     "metadata": {},
     "output_type": "execute_result"
    }
   ],
   "source": [
    "tokens_nopunct(test_text)"
   ]
  },
  {
   "cell_type": "code",
   "execution_count": 19,
   "id": "dried-agenda",
   "metadata": {},
   "outputs": [],
   "source": [
    "# nltk.download('stopwords')\n",
    "\n",
    "stopwords = set(nltk.corpus.stopwords.words('portuguese')) # stopwords for portuguese"
   ]
  },
  {
   "cell_type": "code",
   "execution_count": 20,
   "id": "breathing-roman",
   "metadata": {},
   "outputs": [
    {
     "data": {
      "text/plain": [
       "204"
      ]
     },
     "execution_count": 20,
     "metadata": {},
     "output_type": "execute_result"
    }
   ],
   "source": [
    "len(stopwords)"
   ]
  },
  {
   "cell_type": "code",
   "execution_count": 21,
   "id": "seeing-trinity",
   "metadata": {},
   "outputs": [],
   "source": [
    "# remove stop words\n",
    "\n",
    "def remove_stop(tokens):\n",
    "    return [token for token in tokens if token not in stopwords]"
   ]
  },
  {
   "cell_type": "code",
   "execution_count": 22,
   "id": "meaning-cocktail",
   "metadata": {},
   "outputs": [],
   "source": [
    "pipeline = [str.lower, tokens_nopunct, remove_stop] # this will be our default pipeline\n",
    "# lowercases words, tokenizes text, removes punctuation and removes stop words\n",
    "\n",
    "def process_text(text, pipeline):\n",
    "    tokens = text\n",
    "    for transform in pipeline:\n",
    "        tokens = transform(tokens)\n",
    "    return tokens"
   ]
  },
  {
   "cell_type": "code",
   "execution_count": 23,
   "id": "happy-screen",
   "metadata": {},
   "outputs": [
    {
     "data": {
      "text/plain": [
       "['dobrar',\n",
       " 'espinha',\n",
       " 'épico',\n",
       " 'sabes',\n",
       " 'gajos',\n",
       " 'colocados',\n",
       " 'gaiolas',\n",
       " 'douradas',\n",
       " 'edp',\n",
       " 'galp',\n",
       " 'nunca',\n",
       " 'podem',\n",
       " 'ser',\n",
       " 'transferidos',\n",
       " 'outras',\n",
       " 'empresas',\n",
       " 'certo',\n",
       " 'jogador',\n",
       " 'futebol',\n",
       " 'pode',\n",
       " 'ser',\n",
       " 'transferido',\n",
       " 'desde',\n",
       " 'todos',\n",
       " 'stakeholders',\n",
       " 'aceitem',\n",
       " 'função',\n",
       " 'benfica',\n",
       " 'ajudar']"
      ]
     },
     "execution_count": 23,
     "metadata": {},
     "output_type": "execute_result"
    }
   ],
   "source": [
    "process_text(test_text, pipeline)"
   ]
  },
  {
   "cell_type": "code",
   "execution_count": 24,
   "id": "metropolitan-excitement",
   "metadata": {},
   "outputs": [],
   "source": [
    "df_galp['tokens'] = df_galp['text'].apply(process_text, pipeline=pipeline)"
   ]
  },
  {
   "cell_type": "code",
   "execution_count": 25,
   "id": "expressed-pacific",
   "metadata": {},
   "outputs": [
    {
     "data": {
      "text/html": [
       "<div>\n",
       "<style scoped>\n",
       "    .dataframe tbody tr th:only-of-type {\n",
       "        vertical-align: middle;\n",
       "    }\n",
       "\n",
       "    .dataframe tbody tr th {\n",
       "        vertical-align: top;\n",
       "    }\n",
       "\n",
       "    .dataframe thead th {\n",
       "        text-align: right;\n",
       "    }\n",
       "</style>\n",
       "<table border=\"1\" class=\"dataframe\">\n",
       "  <thead>\n",
       "    <tr style=\"text-align: right;\">\n",
       "      <th></th>\n",
       "      <th>id</th>\n",
       "      <th>text</th>\n",
       "      <th>retweets</th>\n",
       "      <th>replies</th>\n",
       "      <th>likes</th>\n",
       "      <th>quotes</th>\n",
       "      <th>created_at</th>\n",
       "      <th>tokens</th>\n",
       "    </tr>\n",
       "  </thead>\n",
       "  <tbody>\n",
       "    <tr>\n",
       "      <th>0</th>\n",
       "      <td>1549894462792499201</td>\n",
       "      <td>@xoao111 @psocialista @jvstorres Basicamente t...</td>\n",
       "      <td>0</td>\n",
       "      <td>0</td>\n",
       "      <td>0</td>\n",
       "      <td>0</td>\n",
       "      <td>2022-07-20 23:10:10+00:00</td>\n",
       "      <td>[basicamente, todas, privatizações, levadas, c...</td>\n",
       "    </tr>\n",
       "    <tr>\n",
       "      <th>1</th>\n",
       "      <td>1549884615564877826</td>\n",
       "      <td>Se o meu namorado vir isto lá vou eu ter que d...</td>\n",
       "      <td>0</td>\n",
       "      <td>0</td>\n",
       "      <td>0</td>\n",
       "      <td>0</td>\n",
       "      <td>2022-07-20 22:31:02+00:00</td>\n",
       "      <td>[namorado, vir, lá, vou, ter, deixar, marketin...</td>\n",
       "    </tr>\n",
       "    <tr>\n",
       "      <th>2</th>\n",
       "      <td>1549879099128168453</td>\n",
       "      <td>Estou sem palavras, a Ferrari não tem cartão G...</td>\n",
       "      <td>0</td>\n",
       "      <td>0</td>\n",
       "      <td>0</td>\n",
       "      <td>0</td>\n",
       "      <td>2022-07-20 22:09:07+00:00</td>\n",
       "      <td>[palavras, ferrari, cartão, galp, frota, https...</td>\n",
       "    </tr>\n",
       "    <tr>\n",
       "      <th>3</th>\n",
       "      <td>1549858582107226114</td>\n",
       "      <td>@p_leitao @filipagpinto Não Não deu. A cotação...</td>\n",
       "      <td>0</td>\n",
       "      <td>1</td>\n",
       "      <td>0</td>\n",
       "      <td>0</td>\n",
       "      <td>2022-07-20 20:47:35+00:00</td>\n",
       "      <td>[deu, cotação, brent, estável, durante, mês, m...</td>\n",
       "    </tr>\n",
       "    <tr>\n",
       "      <th>4</th>\n",
       "      <td>1549845974742360076</td>\n",
       "      <td>Quero levar a minha dama a um lugar caro\\nAgor...</td>\n",
       "      <td>0</td>\n",
       "      <td>1</td>\n",
       "      <td>3</td>\n",
       "      <td>1</td>\n",
       "      <td>2022-07-20 19:57:29+00:00</td>\n",
       "      <td>[quero, levar, dama, lugar, caro, agora, pergu...</td>\n",
       "    </tr>\n",
       "    <tr>\n",
       "      <th>...</th>\n",
       "      <td>...</td>\n",
       "      <td>...</td>\n",
       "      <td>...</td>\n",
       "      <td>...</td>\n",
       "      <td>...</td>\n",
       "      <td>...</td>\n",
       "      <td>...</td>\n",
       "      <td>...</td>\n",
       "    </tr>\n",
       "    <tr>\n",
       "      <th>100</th>\n",
       "      <td>1547913901324414979</td>\n",
       "      <td>Galp disponibiliza 500 mil euros em combustíve...</td>\n",
       "      <td>0</td>\n",
       "      <td>0</td>\n",
       "      <td>0</td>\n",
       "      <td>0</td>\n",
       "      <td>2022-07-15 12:00:07+00:00</td>\n",
       "      <td>[galp, disponibiliza, 500, mil, euros, combust...</td>\n",
       "    </tr>\n",
       "    <tr>\n",
       "      <th>101</th>\n",
       "      <td>1547908997889503232</td>\n",
       "      <td>WRAP-UP ACAMPAMENTO 1.5\\n\\nO Acampamento 1.5, ...</td>\n",
       "      <td>3</td>\n",
       "      <td>0</td>\n",
       "      <td>6</td>\n",
       "      <td>0</td>\n",
       "      <td>2022-07-15 11:40:38+00:00</td>\n",
       "      <td>[wrap-up, acampamento, 1.5, acampamento, 1.5, ...</td>\n",
       "    </tr>\n",
       "    <tr>\n",
       "      <th>102</th>\n",
       "      <td>1547905603309170688</td>\n",
       "      <td>esta edição possível, os parceiros Upcoming En...</td>\n",
       "      <td>0</td>\n",
       "      <td>0</td>\n",
       "      <td>1</td>\n",
       "      <td>0</td>\n",
       "      <td>2022-07-15 11:27:09+00:00</td>\n",
       "      <td>[edição, possível, parceiros, upcoming, energi...</td>\n",
       "    </tr>\n",
       "    <tr>\n",
       "      <th>103</th>\n",
       "      <td>1547889048806572032</td>\n",
       "      <td>Galp e Repsol mais do que triplicam margens de...</td>\n",
       "      <td>9</td>\n",
       "      <td>2</td>\n",
       "      <td>20</td>\n",
       "      <td>0</td>\n",
       "      <td>2022-07-15 10:21:22+00:00</td>\n",
       "      <td>[galp, repsol, triplicam, margens, refinação, ...</td>\n",
       "    </tr>\n",
       "    <tr>\n",
       "      <th>104</th>\n",
       "      <td>1547884198119124995</td>\n",
       "      <td>@DuqueRui @pauloalves Deus nos livre da IL ser...</td>\n",
       "      <td>0</td>\n",
       "      <td>1</td>\n",
       "      <td>0</td>\n",
       "      <td>0</td>\n",
       "      <td>2022-07-15 10:02:05+00:00</td>\n",
       "      <td>[deus, livre, il, ser, governo, pagavas, traba...</td>\n",
       "    </tr>\n",
       "  </tbody>\n",
       "</table>\n",
       "<p>105 rows × 8 columns</p>\n",
       "</div>"
      ],
      "text/plain": [
       "                      id                                               text  \\\n",
       "0    1549894462792499201  @xoao111 @psocialista @jvstorres Basicamente t...   \n",
       "1    1549884615564877826  Se o meu namorado vir isto lá vou eu ter que d...   \n",
       "2    1549879099128168453  Estou sem palavras, a Ferrari não tem cartão G...   \n",
       "3    1549858582107226114  @p_leitao @filipagpinto Não Não deu. A cotação...   \n",
       "4    1549845974742360076  Quero levar a minha dama a um lugar caro\\nAgor...   \n",
       "..                   ...                                                ...   \n",
       "100  1547913901324414979  Galp disponibiliza 500 mil euros em combustíve...   \n",
       "101  1547908997889503232  WRAP-UP ACAMPAMENTO 1.5\\n\\nO Acampamento 1.5, ...   \n",
       "102  1547905603309170688  esta edição possível, os parceiros Upcoming En...   \n",
       "103  1547889048806572032  Galp e Repsol mais do que triplicam margens de...   \n",
       "104  1547884198119124995  @DuqueRui @pauloalves Deus nos livre da IL ser...   \n",
       "\n",
       "     retweets  replies  likes  quotes                created_at  \\\n",
       "0           0        0      0       0 2022-07-20 23:10:10+00:00   \n",
       "1           0        0      0       0 2022-07-20 22:31:02+00:00   \n",
       "2           0        0      0       0 2022-07-20 22:09:07+00:00   \n",
       "3           0        1      0       0 2022-07-20 20:47:35+00:00   \n",
       "4           0        1      3       1 2022-07-20 19:57:29+00:00   \n",
       "..        ...      ...    ...     ...                       ...   \n",
       "100         0        0      0       0 2022-07-15 12:00:07+00:00   \n",
       "101         3        0      6       0 2022-07-15 11:40:38+00:00   \n",
       "102         0        0      1       0 2022-07-15 11:27:09+00:00   \n",
       "103         9        2     20       0 2022-07-15 10:21:22+00:00   \n",
       "104         0        1      0       0 2022-07-15 10:02:05+00:00   \n",
       "\n",
       "                                                tokens  \n",
       "0    [basicamente, todas, privatizações, levadas, c...  \n",
       "1    [namorado, vir, lá, vou, ter, deixar, marketin...  \n",
       "2    [palavras, ferrari, cartão, galp, frota, https...  \n",
       "3    [deu, cotação, brent, estável, durante, mês, m...  \n",
       "4    [quero, levar, dama, lugar, caro, agora, pergu...  \n",
       "..                                                 ...  \n",
       "100  [galp, disponibiliza, 500, mil, euros, combust...  \n",
       "101  [wrap-up, acampamento, 1.5, acampamento, 1.5, ...  \n",
       "102  [edição, possível, parceiros, upcoming, energi...  \n",
       "103  [galp, repsol, triplicam, margens, refinação, ...  \n",
       "104  [deus, livre, il, ser, governo, pagavas, traba...  \n",
       "\n",
       "[105 rows x 8 columns]"
      ]
     },
     "execution_count": 25,
     "metadata": {},
     "output_type": "execute_result"
    }
   ],
   "source": [
    "df_galp"
   ]
  },
  {
   "cell_type": "markdown",
   "id": "baking-sleeve",
   "metadata": {},
   "source": [
    "### 3. Extract keywords"
   ]
  },
  {
   "cell_type": "code",
   "execution_count": 45,
   "id": "crude-regular",
   "metadata": {},
   "outputs": [],
   "source": [
    "from sklearn.feature_extraction.text import CountVectorizer\n",
    "\n",
    "from collections import Counter"
   ]
  },
  {
   "cell_type": "markdown",
   "id": "compound-domestic",
   "metadata": {},
   "source": [
    "#### 3.1 Compute term frequency (with n-grams)"
   ]
  },
  {
   "cell_type": "code",
   "execution_count": 46,
   "id": "enclosed-honor",
   "metadata": {},
   "outputs": [],
   "source": [
    "def compute_freq(df, tokenizer=tokens_nopunct, stop_words=stopwords, n_min=1, n_max=1, min_df=1):\n",
    "    \n",
    "    bow_vectorizer = CountVectorizer(lowercase=True, \n",
    "                                     tokenizer=tokenizer, \n",
    "                                     stop_words=stop_words, \n",
    "                                     ngram_range=(n_min, n_max), \n",
    "                                     min_df=min_df)\n",
    "    \n",
    "    cv_bow = bow_vectorizer.fit_transform(df['text'])\n",
    "    df_cv_bow = pd.DataFrame(cv_bow.toarray(), columns=bow_vectorizer.get_feature_names_out())\n",
    "    \n",
    "    df_freq = pd.DataFrame(df_cv_bow.sum(axis = 0).index, columns=['token'])\n",
    "    df_freq['freq'] = df_cv_bow.sum(axis = 0).values\n",
    "    df_freq = df_freq.query('freq >= @min_df') # we are using 1 as default\n",
    "    \n",
    "    df_freq['n-gram size'] = df_freq['token'].map(lambda x: len(str.split(x))) # size of n-gram\n",
    "    df_freq.drop(df_freq[df_freq['n-gram size'] > n_max].index, inplace=True) # removes rows with n-gram size greater than expected\n",
    "\n",
    "    return df_freq"
   ]
  },
  {
   "cell_type": "code",
   "execution_count": 47,
   "id": "illegal-rescue",
   "metadata": {},
   "outputs": [],
   "source": [
    "df_galp_freq = compute_freq(df_galp, n_max=2)"
   ]
  },
  {
   "cell_type": "code",
   "execution_count": 48,
   "id": "official-favorite",
   "metadata": {},
   "outputs": [
    {
     "data": {
      "text/plain": [
       "2    1413\n",
       "1    1091\n",
       "Name: n-gram size, dtype: int64"
      ]
     },
     "execution_count": 48,
     "metadata": {},
     "output_type": "execute_result"
    }
   ],
   "source": [
    "df_galp_freq['n-gram size'].value_counts()"
   ]
  },
  {
   "cell_type": "code",
   "execution_count": 49,
   "id": "billion-polyester",
   "metadata": {},
   "outputs": [
    {
     "data": {
      "text/plain": [
       "1    18\n",
       "2     2\n",
       "Name: n-gram size, dtype: int64"
      ]
     },
     "execution_count": 49,
     "metadata": {},
     "output_type": "execute_result"
    }
   ],
   "source": [
    "# number of unigrams and bigrams for top-20 terms\n",
    "\n",
    "df_galp_freq.sort_values('freq', ascending=False, inplace=True)\n",
    "df_galp_freq.head(20)['n-gram size'].value_counts()"
   ]
  },
  {
   "cell_type": "code",
   "execution_count": 50,
   "id": "respiratory-soccer",
   "metadata": {},
   "outputs": [
    {
     "data": {
      "text/plain": [
       "2    11\n",
       "1     9\n",
       "Name: n-gram size, dtype: int64"
      ]
     },
     "execution_count": 50,
     "metadata": {},
     "output_type": "execute_result"
    }
   ],
   "source": [
    "# number of unigrams and bigrams for top-20 terms (weighted)\n",
    "\n",
    "df_galp_freq['weighted_freq'] = df_galp_freq['freq'] * df_galp_freq['n-gram size']\n",
    "df_galp_freq.sort_values('weighted_freq', ascending=False, inplace=True)\n",
    "\n",
    "df_galp_freq.head(20)['n-gram size'].value_counts()"
   ]
  },
  {
   "cell_type": "markdown",
   "id": "empirical-bleeding",
   "metadata": {},
   "source": [
    "We have a similar number of bigrams and unigrams because we are using only around 100 tweets for this analysis."
   ]
  },
  {
   "cell_type": "code",
   "execution_count": 52,
   "id": "innocent-denmark",
   "metadata": {},
   "outputs": [
    {
     "data": {
      "text/html": [
       "<div>\n",
       "<style scoped>\n",
       "    .dataframe tbody tr th:only-of-type {\n",
       "        vertical-align: middle;\n",
       "    }\n",
       "\n",
       "    .dataframe tbody tr th {\n",
       "        vertical-align: top;\n",
       "    }\n",
       "\n",
       "    .dataframe thead th {\n",
       "        text-align: right;\n",
       "    }\n",
       "</style>\n",
       "<table border=\"1\" class=\"dataframe\">\n",
       "  <thead>\n",
       "    <tr style=\"text-align: right;\">\n",
       "      <th></th>\n",
       "      <th>freq</th>\n",
       "      <th>n-gram size</th>\n",
       "      <th>weighted_freq</th>\n",
       "    </tr>\n",
       "    <tr>\n",
       "      <th>token</th>\n",
       "      <th></th>\n",
       "      <th></th>\n",
       "      <th></th>\n",
       "    </tr>\n",
       "  </thead>\n",
       "  <tbody>\n",
       "    <tr>\n",
       "      <th>galp</th>\n",
       "      <td>94</td>\n",
       "      <td>1</td>\n",
       "      <td>94</td>\n",
       "    </tr>\n",
       "    <tr>\n",
       "      <th>edp galp</th>\n",
       "      <td>9</td>\n",
       "      <td>2</td>\n",
       "      <td>18</td>\n",
       "    </tr>\n",
       "    <tr>\n",
       "      <th>edp</th>\n",
       "      <td>13</td>\n",
       "      <td>1</td>\n",
       "      <td>13</td>\n",
       "    </tr>\n",
       "    <tr>\n",
       "      <th>bolsa lisboa</th>\n",
       "      <td>6</td>\n",
       "      <td>2</td>\n",
       "      <td>12</td>\n",
       "    </tr>\n",
       "    <tr>\n",
       "      <th>ser</th>\n",
       "      <td>10</td>\n",
       "      <td>1</td>\n",
       "      <td>10</td>\n",
       "    </tr>\n",
       "    <tr>\n",
       "      <th>margens</th>\n",
       "      <td>9</td>\n",
       "      <td>1</td>\n",
       "      <td>9</td>\n",
       "    </tr>\n",
       "    <tr>\n",
       "      <th>galp repsol</th>\n",
       "      <td>4</td>\n",
       "      <td>2</td>\n",
       "      <td>8</td>\n",
       "    </tr>\n",
       "    <tr>\n",
       "      <th>galp subir</th>\n",
       "      <td>4</td>\n",
       "      <td>2</td>\n",
       "      <td>8</td>\n",
       "    </tr>\n",
       "    <tr>\n",
       "      <th>🤣 🤣</th>\n",
       "      <td>4</td>\n",
       "      <td>2</td>\n",
       "      <td>8</td>\n",
       "    </tr>\n",
       "    <tr>\n",
       "      <th>margens refinação</th>\n",
       "      <td>4</td>\n",
       "      <td>2</td>\n",
       "      <td>8</td>\n",
       "    </tr>\n",
       "    <tr>\n",
       "      <th>lisboa</th>\n",
       "      <td>8</td>\n",
       "      <td>1</td>\n",
       "      <td>8</td>\n",
       "    </tr>\n",
       "    <tr>\n",
       "      <th>porque</th>\n",
       "      <td>7</td>\n",
       "      <td>1</td>\n",
       "      <td>7</td>\n",
       "    </tr>\n",
       "    <tr>\n",
       "      <th>combustíveis</th>\n",
       "      <td>7</td>\n",
       "      <td>1</td>\n",
       "      <td>7</td>\n",
       "    </tr>\n",
       "    <tr>\n",
       "      <th>bolsa</th>\n",
       "      <td>7</td>\n",
       "      <td>1</td>\n",
       "      <td>7</td>\n",
       "    </tr>\n",
       "    <tr>\n",
       "      <th>ver</th>\n",
       "      <td>7</td>\n",
       "      <td>1</td>\n",
       "      <td>7</td>\n",
       "    </tr>\n",
       "    <tr>\n",
       "      <th>quase 2</th>\n",
       "      <td>3</td>\n",
       "      <td>2</td>\n",
       "      <td>6</td>\n",
       "    </tr>\n",
       "    <tr>\n",
       "      <th>vai ser</th>\n",
       "      <td>3</td>\n",
       "      <td>2</td>\n",
       "      <td>6</td>\n",
       "    </tr>\n",
       "    <tr>\n",
       "      <th>pode ser</th>\n",
       "      <td>3</td>\n",
       "      <td>2</td>\n",
       "      <td>6</td>\n",
       "    </tr>\n",
       "    <tr>\n",
       "      <th>ver il</th>\n",
       "      <td>3</td>\n",
       "      <td>2</td>\n",
       "      <td>6</td>\n",
       "    </tr>\n",
       "    <tr>\n",
       "      <th>bla bla</th>\n",
       "      <td>3</td>\n",
       "      <td>2</td>\n",
       "      <td>6</td>\n",
       "    </tr>\n",
       "  </tbody>\n",
       "</table>\n",
       "</div>"
      ],
      "text/plain": [
       "                   freq  n-gram size  weighted_freq\n",
       "token                                              \n",
       "galp                 94            1             94\n",
       "edp galp              9            2             18\n",
       "edp                  13            1             13\n",
       "bolsa lisboa          6            2             12\n",
       "ser                  10            1             10\n",
       "margens               9            1              9\n",
       "galp repsol           4            2              8\n",
       "galp subir            4            2              8\n",
       "🤣 🤣                   4            2              8\n",
       "margens refinação     4            2              8\n",
       "lisboa                8            1              8\n",
       "porque                7            1              7\n",
       "combustíveis          7            1              7\n",
       "bolsa                 7            1              7\n",
       "ver                   7            1              7\n",
       "quase 2               3            2              6\n",
       "vai ser               3            2              6\n",
       "pode ser              3            2              6\n",
       "ver il                3            2              6\n",
       "bla bla               3            2              6"
      ]
     },
     "execution_count": 52,
     "metadata": {},
     "output_type": "execute_result"
    }
   ],
   "source": [
    "# top-20 terms (weighted)\n",
    "\n",
    "df_galp_freq.set_index('token', inplace=True)\n",
    "df_galp_freq.head(20)"
   ]
  },
  {
   "cell_type": "markdown",
   "id": "identified-access",
   "metadata": {},
   "source": [
    "### 4. Visualize keywords in wordclouds"
   ]
  },
  {
   "cell_type": "code",
   "execution_count": 53,
   "id": "israeli-mathematics",
   "metadata": {},
   "outputs": [],
   "source": [
    "import matplotlib.pyplot as plt\n",
    "from wordcloud import WordCloud"
   ]
  },
  {
   "cell_type": "code",
   "execution_count": 54,
   "id": "objective-reliance",
   "metadata": {},
   "outputs": [],
   "source": [
    "def wordcloud(word_freq, title=None, max_words=100, additional_stopwords=None):\n",
    "\n",
    "    wc = WordCloud(width=800, height=400, \n",
    "                   background_color= \"black\", colormap=\"viridis\", \n",
    "                   max_font_size=150, max_words=max_words)\n",
    "    \n",
    "    # convert data frame into dict\n",
    "    if type(word_freq) == pd.Series:\n",
    "        counter = Counter(word_freq.fillna(0).to_dict())\n",
    "    else:\n",
    "        counter = word_freq\n",
    "\n",
    "    # remove additional stop words from frequency counter\n",
    "    if additional_stopwords is not None:\n",
    "        counter = {token: freq for (token, freq) in counter.items() \n",
    "                   if token not in additional_stopwords}\n",
    "        \n",
    "    wc.generate_from_frequencies(counter)\n",
    "    \n",
    "    plt.title(title, fontsize=16)\n",
    "\n",
    "    plt.imshow(wc, interpolation='bilinear')\n",
    "    plt.axis(\"off\")"
   ]
  },
  {
   "cell_type": "markdown",
   "id": "sound-mills",
   "metadata": {},
   "source": [
    "#### 4.1. Wordcloud with term frequency"
   ]
  },
  {
   "cell_type": "code",
   "execution_count": 55,
   "id": "psychological-quest",
   "metadata": {},
   "outputs": [
    {
     "data": {
      "image/png": "[encoded data removed]",
      "text/plain": [
       "<Figure size 432x288 with 1 Axes>"
      ]
     },
     "metadata": {
      "needs_background": "light"
     },
     "output_type": "display_data"
    }
   ],
   "source": [
    "wordcloud(df_galp_freq['freq'], max_words=20, additional_stopwords=['porque'])"
   ]
  },
  {
   "cell_type": "markdown",
   "id": "experimental-backup",
   "metadata": {},
   "source": [
    "#### 4.2. Wordcloud with term frequency (weighted)"
   ]
  },
  {
   "cell_type": "code",
   "execution_count": 56,
   "id": "western-trading",
   "metadata": {},
   "outputs": [
    {
     "data": {
      "image/png": "[encoded data removed]",
      "text/plain": [
       "<Figure size 432x288 with 1 Axes>"
      ]
     },
     "metadata": {
      "needs_background": "light"
     },
     "output_type": "display_data"
    }
   ],
   "source": [
    "wordcloud(df_galp_freq['weighted_freq'], max_words=20, additional_stopwords=['porque'])"
   ]
  }
 ],
 "metadata": {
  "kernelspec": {
   "display_name": "Python 3",
   "language": "python",
   "name": "python3"
  },
  "language_info": {
   "codemirror_mode": {
    "name": "ipython",
    "version": 3
   },
   "file_extension": ".py",
   "mimetype": "text/x-python",
   "name": "python",
   "nbconvert_exporter": "python",
   "pygments_lexer": "ipython3",
   "version": "3.8.8"
  }
 },
 "nbformat": 4,
 "nbformat_minor": 5
}
