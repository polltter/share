{
 "cells": [
  {
   "cell_type": "markdown",
   "id": "catholic-chuck",
   "metadata": {},
   "source": [
    "# C-More"
   ]
  },
  {
   "cell_type": "markdown",
   "id": "private-paradise",
   "metadata": {},
   "source": [
    "### 1. Process text to extract keywords"
   ]
  },
  {
   "cell_type": "code",
   "execution_count": 1,
   "id": "friendly-supply",
   "metadata": {},
   "outputs": [],
   "source": [
    "import json\n",
    "import pandas as pd\n",
    "\n",
    "import nltk\n",
    "from nltk.tokenize import TweetTokenizer\n",
    "import string\n",
    "\n",
    "from sklearn.feature_extraction.text import ENGLISH_STOP_WORDS as sklearn_stop_words"
   ]
  },
  {
   "cell_type": "markdown",
   "id": "developing-removal",
   "metadata": {},
   "source": [
    "#### 1.1. Load json data into a dataframe"
   ]
  },
  {
   "cell_type": "code",
   "execution_count": 2,
   "id": "valued-operations",
   "metadata": {},
   "outputs": [],
   "source": [
    "list_json = []\n",
    "\n",
    "with open('tweet_json_1day.txt') as file:\n",
    "    for line in file:\n",
    "        data = json.loads(line)\n",
    "        list_json.append(data)\n",
    "\n",
    "df = pd.DataFrame(list_json, columns = ['id', 'text', 'lang', 'created_at', 'public_metrics'])"
   ]
  },
  {
   "cell_type": "code",
   "execution_count": 3,
   "id": "fiscal-bouquet",
   "metadata": {},
   "outputs": [],
   "source": [
    "df['retweets'] = df['public_metrics'].map(lambda x: x['retweet_count'])\n",
    "df['replies'] = df['public_metrics'].map(lambda x: x['reply_count'])\n",
    "df['likes'] = df['public_metrics'].map(lambda x: x['like_count'])\n",
    "df['quotes'] = df['public_metrics'].map(lambda x: x['quote_count'])"
   ]
  },
  {
   "cell_type": "code",
   "execution_count": 4,
   "id": "bright-equation",
   "metadata": {},
   "outputs": [],
   "source": [
    "df.drop('public_metrics', axis=1, inplace=True)"
   ]
  },
  {
   "cell_type": "code",
   "execution_count": 5,
   "id": "biological-defensive",
   "metadata": {},
   "outputs": [
    {
     "data": {
      "text/html": [
       "<div>\n",
       "<style scoped>\n",
       "    .dataframe tbody tr th:only-of-type {\n",
       "        vertical-align: middle;\n",
       "    }\n",
       "\n",
       "    .dataframe tbody tr th {\n",
       "        vertical-align: top;\n",
       "    }\n",
       "\n",
       "    .dataframe thead th {\n",
       "        text-align: right;\n",
       "    }\n",
       "</style>\n",
       "<table border=\"1\" class=\"dataframe\">\n",
       "  <thead>\n",
       "    <tr style=\"text-align: right;\">\n",
       "      <th></th>\n",
       "      <th>id</th>\n",
       "      <th>text</th>\n",
       "      <th>lang</th>\n",
       "      <th>created_at</th>\n",
       "      <th>retweets</th>\n",
       "      <th>replies</th>\n",
       "      <th>likes</th>\n",
       "      <th>quotes</th>\n",
       "    </tr>\n",
       "  </thead>\n",
       "  <tbody>\n",
       "    <tr>\n",
       "      <th>0</th>\n",
       "      <td>1539397722595377152</td>\n",
       "      <td>@trashevrythng @hardevrythng @McDonalds and th...</td>\n",
       "      <td>en</td>\n",
       "      <td>2022-06-21T23:59:52.000Z</td>\n",
       "      <td>0</td>\n",
       "      <td>0</td>\n",
       "      <td>3</td>\n",
       "      <td>0</td>\n",
       "    </tr>\n",
       "    <tr>\n",
       "      <th>1</th>\n",
       "      <td>1539397657571074049</td>\n",
       "      <td>@trashevrythng @hardevrythng @McDonalds respec...</td>\n",
       "      <td>en</td>\n",
       "      <td>2022-06-21T23:59:36.000Z</td>\n",
       "      <td>0</td>\n",
       "      <td>1</td>\n",
       "      <td>4</td>\n",
       "      <td>0</td>\n",
       "    </tr>\n",
       "    <tr>\n",
       "      <th>2</th>\n",
       "      <td>1539397645625458688</td>\n",
       "      <td>@PeePosh2 @Scottschlittenh @sceley2011 @Joe_Ma...</td>\n",
       "      <td>en</td>\n",
       "      <td>2022-06-21T23:59:33.000Z</td>\n",
       "      <td>0</td>\n",
       "      <td>2</td>\n",
       "      <td>4</td>\n",
       "      <td>0</td>\n",
       "    </tr>\n",
       "    <tr>\n",
       "      <th>3</th>\n",
       "      <td>1539397640680521730</td>\n",
       "      <td>-1000 https://t.co/dU6JWqNQsW</td>\n",
       "      <td>qst</td>\n",
       "      <td>2022-06-21T23:59:32.000Z</td>\n",
       "      <td>0</td>\n",
       "      <td>0</td>\n",
       "      <td>1</td>\n",
       "      <td>0</td>\n",
       "    </tr>\n",
       "    <tr>\n",
       "      <th>4</th>\n",
       "      <td>1539397571013115904</td>\n",
       "      <td>@auauwra too bad im sending 8 mcdonalds large ...</td>\n",
       "      <td>en</td>\n",
       "      <td>2022-06-21T23:59:16.000Z</td>\n",
       "      <td>0</td>\n",
       "      <td>1</td>\n",
       "      <td>1</td>\n",
       "      <td>0</td>\n",
       "    </tr>\n",
       "  </tbody>\n",
       "</table>\n",
       "</div>"
      ],
      "text/plain": [
       "                    id                                               text  \\\n",
       "0  1539397722595377152  @trashevrythng @hardevrythng @McDonalds and th...   \n",
       "1  1539397657571074049  @trashevrythng @hardevrythng @McDonalds respec...   \n",
       "2  1539397645625458688  @PeePosh2 @Scottschlittenh @sceley2011 @Joe_Ma...   \n",
       "3  1539397640680521730                      -1000 https://t.co/dU6JWqNQsW   \n",
       "4  1539397571013115904  @auauwra too bad im sending 8 mcdonalds large ...   \n",
       "\n",
       "  lang                created_at  retweets  replies  likes  quotes  \n",
       "0   en  2022-06-21T23:59:52.000Z         0        0      3       0  \n",
       "1   en  2022-06-21T23:59:36.000Z         0        1      4       0  \n",
       "2   en  2022-06-21T23:59:33.000Z         0        2      4       0  \n",
       "3  qst  2022-06-21T23:59:32.000Z         0        0      1       0  \n",
       "4   en  2022-06-21T23:59:16.000Z         0        1      1       0  "
      ]
     },
     "execution_count": 5,
     "metadata": {},
     "output_type": "execute_result"
    }
   ],
   "source": [
    "df.head()"
   ]
  },
  {
   "cell_type": "code",
   "execution_count": 6,
   "id": "dedicated-pickup",
   "metadata": {},
   "outputs": [
    {
     "name": "stdout",
     "output_type": "stream",
     "text": [
      "<class 'pandas.core.frame.DataFrame'>\n",
      "RangeIndex: 7153 entries, 0 to 7152\n",
      "Data columns (total 8 columns):\n",
      " #   Column      Non-Null Count  Dtype \n",
      "---  ------      --------------  ----- \n",
      " 0   id          7153 non-null   object\n",
      " 1   text        7153 non-null   object\n",
      " 2   lang        7153 non-null   object\n",
      " 3   created_at  7153 non-null   object\n",
      " 4   retweets    7153 non-null   int64 \n",
      " 5   replies     7153 non-null   int64 \n",
      " 6   likes       7153 non-null   int64 \n",
      " 7   quotes      7153 non-null   int64 \n",
      "dtypes: int64(4), object(4)\n",
      "memory usage: 447.2+ KB\n"
     ]
    }
   ],
   "source": [
    "df.info()"
   ]
  },
  {
   "cell_type": "markdown",
   "id": "banner-skiing",
   "metadata": {},
   "source": [
    "#### 1.2. Select only tweets in English"
   ]
  },
  {
   "cell_type": "code",
   "execution_count": 7,
   "id": "extraordinary-prompt",
   "metadata": {},
   "outputs": [],
   "source": [
    "df_en = df[df['lang'] == 'en'].copy()"
   ]
  },
  {
   "cell_type": "code",
   "execution_count": 8,
   "id": "special-marina",
   "metadata": {},
   "outputs": [
    {
     "name": "stdout",
     "output_type": "stream",
     "text": [
      "<class 'pandas.core.frame.DataFrame'>\n",
      "Int64Index: 5377 entries, 0 to 7151\n",
      "Data columns (total 8 columns):\n",
      " #   Column      Non-Null Count  Dtype \n",
      "---  ------      --------------  ----- \n",
      " 0   id          5377 non-null   object\n",
      " 1   text        5377 non-null   object\n",
      " 2   lang        5377 non-null   object\n",
      " 3   created_at  5377 non-null   object\n",
      " 4   retweets    5377 non-null   int64 \n",
      " 5   replies     5377 non-null   int64 \n",
      " 6   likes       5377 non-null   int64 \n",
      " 7   quotes      5377 non-null   int64 \n",
      "dtypes: int64(4), object(4)\n",
      "memory usage: 378.1+ KB\n"
     ]
    }
   ],
   "source": [
    "df_en.info()"
   ]
  },
  {
   "cell_type": "markdown",
   "id": "accompanied-society",
   "metadata": {},
   "source": [
    "#### 1.3. Process text"
   ]
  },
  {
   "cell_type": "code",
   "execution_count": 9,
   "id": "worth-refund",
   "metadata": {},
   "outputs": [
    {
     "data": {
      "text/plain": [
       "'@bungoman @moothought @__justplaying @heavenbent11 @IgorBrigadir @huggingpuppy @flybottlemist @panchromaticity @temujin9 @Duderichy @jicapal @goblinodds @_brentbaum @scrmshw @OccultBoyscout @bogmeat @Knipps @OneEyedAlpaca @SoupOfToday @Acre108 @ObserverSuns @ZacharyHundley @_holyweather @anonynaut @magicianbrain @mimi10v3 @karnagraha @er1enney0ung @Lithros @parafactual @KrikkitMotel @__frye @eggprophet @pareinoia @TeddyRaccovelt @dancinghorse16 @storebrandguy @NLRG_ @irafeierabend @bloobsandnoods @RootOfUnity @VesselOfSpirit @MaskOfFace @ObjectOfObjects @CurlOfGradient @FingerOfHand @CauseOfProblem @ModelOfTheory @ReneeSolana @quotidiania Good morning to all you wonderful people. I just tried a new coffee from McDonalds and it is wonderful, just like you'"
      ]
     },
     "execution_count": 9,
     "metadata": {},
     "output_type": "execute_result"
    }
   ],
   "source": [
    "# select longest tweet for testing purposes\n",
    "\n",
    "test_text = sorted(df_en['text'], key=lambda x: len(x), reverse=True)[0]\n",
    "\n",
    "test_text"
   ]
  },
  {
   "cell_type": "markdown",
   "id": "contained-circumstances",
   "metadata": {},
   "source": [
    "We are going to use a tokenizer that that is particularly useful for social media texts: https://www.nltk.org/_modules/nltk/tokenize/casual.html#TweetTokenizer ."
   ]
  },
  {
   "cell_type": "code",
   "execution_count": 10,
   "id": "stable-discipline",
   "metadata": {},
   "outputs": [
    {
     "data": {
      "text/plain": [
       "['Good',\n",
       " 'morning',\n",
       " 'to',\n",
       " 'all',\n",
       " 'you',\n",
       " 'wonderful',\n",
       " 'people',\n",
       " '.',\n",
       " 'I',\n",
       " 'just',\n",
       " 'tried',\n",
       " 'a',\n",
       " 'new',\n",
       " 'coffee',\n",
       " 'from',\n",
       " 'McDonalds',\n",
       " 'and',\n",
       " 'it',\n",
       " 'is',\n",
       " 'wonderful',\n",
       " ',',\n",
       " 'just',\n",
       " 'like',\n",
       " 'you']"
      ]
     },
     "execution_count": 10,
     "metadata": {},
     "output_type": "execute_result"
    }
   ],
   "source": [
    "tweet_tokenizer = TweetTokenizer(reduce_len=True, strip_handles=True)\n",
    "# redule_len=True replaces repeated character sequences of length 3 or greater with sequences of length 3\n",
    "# examples: waaaaayyyy --> waaayyy\n",
    "# strip_handles=True removes Twitter handles (@xxxx...)\n",
    "\n",
    "tweet_tokenizer.tokenize(test_text)"
   ]
  },
  {
   "cell_type": "markdown",
   "id": "continued-business",
   "metadata": {},
   "source": [
    "Our tokenizer keeps punctuation signs, which are not necessary for our task of keyword extraction. We are going to remove them."
   ]
  },
  {
   "cell_type": "code",
   "execution_count": 11,
   "id": "august-marriage",
   "metadata": {},
   "outputs": [
    {
     "data": {
      "text/plain": [
       "'!\"#$%&\\'()*+,-./:;<=>?@[\\\\]^_`{|}~'"
      ]
     },
     "execution_count": 11,
     "metadata": {},
     "output_type": "execute_result"
    }
   ],
   "source": [
    "string.punctuation"
   ]
  },
  {
   "cell_type": "code",
   "execution_count": 12,
   "id": "seventh-hypothesis",
   "metadata": {},
   "outputs": [],
   "source": [
    "punct = string.punctuation"
   ]
  },
  {
   "cell_type": "code",
   "execution_count": 13,
   "id": "expressed-gateway",
   "metadata": {},
   "outputs": [],
   "source": [
    "punct += \"’\" # add \"’\" to punct"
   ]
  },
  {
   "cell_type": "code",
   "execution_count": 14,
   "id": "professional-conversation",
   "metadata": {},
   "outputs": [],
   "source": [
    "punct += \"…\" # add \"…\" to punct"
   ]
  },
  {
   "cell_type": "code",
   "execution_count": 15,
   "id": "acknowledged-eleven",
   "metadata": {},
   "outputs": [],
   "source": [
    "punct += \"...\" # add \"...\" to punct"
   ]
  },
  {
   "cell_type": "code",
   "execution_count": 16,
   "id": "banned-steam",
   "metadata": {},
   "outputs": [
    {
     "data": {
      "text/plain": [
       "'!\"#$%&\\'()*+,-./:;<=>?@[\\\\]^_`{|}~’…...'"
      ]
     },
     "execution_count": 16,
     "metadata": {},
     "output_type": "execute_result"
    }
   ],
   "source": [
    "punct"
   ]
  },
  {
   "cell_type": "code",
   "execution_count": 17,
   "id": "indian-entrepreneur",
   "metadata": {},
   "outputs": [],
   "source": [
    "# tokenize text and remove punctuation\n",
    "\n",
    "def tokens_nopunct(text):\n",
    "    \n",
    "    tokens = [token for token in TweetTokenizer(reduce_len=True, strip_handles=True).tokenize(text)]\n",
    "    return [token for token in tokens if token not in punct]"
   ]
  },
  {
   "cell_type": "code",
   "execution_count": 18,
   "id": "dominican-cooking",
   "metadata": {},
   "outputs": [
    {
     "data": {
      "text/plain": [
       "['Good',\n",
       " 'morning',\n",
       " 'to',\n",
       " 'all',\n",
       " 'you',\n",
       " 'wonderful',\n",
       " 'people',\n",
       " 'I',\n",
       " 'just',\n",
       " 'tried',\n",
       " 'a',\n",
       " 'new',\n",
       " 'coffee',\n",
       " 'from',\n",
       " 'McDonalds',\n",
       " 'and',\n",
       " 'it',\n",
       " 'is',\n",
       " 'wonderful',\n",
       " 'just',\n",
       " 'like',\n",
       " 'you']"
      ]
     },
     "execution_count": 18,
     "metadata": {},
     "output_type": "execute_result"
    }
   ],
   "source": [
    "tokens_nopunct(test_text)"
   ]
  },
  {
   "cell_type": "markdown",
   "id": "abandoned-hygiene",
   "metadata": {},
   "source": [
    "As a final step, we can define a set of stop words."
   ]
  },
  {
   "cell_type": "code",
   "execution_count": 19,
   "id": "ancient-prairie",
   "metadata": {},
   "outputs": [],
   "source": [
    "# nltk.download('stopwords')\n",
    "\n",
    "stopwords = set(nltk.corpus.stopwords.words('english'))"
   ]
  },
  {
   "cell_type": "code",
   "execution_count": 20,
   "id": "referenced-subcommittee",
   "metadata": {},
   "outputs": [
    {
     "data": {
      "text/plain": [
       "179"
      ]
     },
     "execution_count": 20,
     "metadata": {},
     "output_type": "execute_result"
    }
   ],
   "source": [
    "len(stopwords)"
   ]
  },
  {
   "cell_type": "markdown",
   "id": "incoming-lexington",
   "metadata": {},
   "source": [
    "Scikit-learn also has its own set of stop words:"
   ]
  },
  {
   "cell_type": "code",
   "execution_count": 21,
   "id": "joined-williams",
   "metadata": {},
   "outputs": [
    {
     "data": {
      "text/plain": [
       "318"
      ]
     },
     "execution_count": 21,
     "metadata": {},
     "output_type": "execute_result"
    }
   ],
   "source": [
    "len(sklearn_stop_words)"
   ]
  },
  {
   "cell_type": "markdown",
   "id": "emotional-explosion",
   "metadata": {},
   "source": [
    "We can combine theses two sets (union) or use only the common stop words (intersection). We can also add or exclude any given words from our set of stop words."
   ]
  },
  {
   "cell_type": "raw",
   "id": "martial-squad",
   "metadata": {},
   "source": [
    "include_stopwords = {''}\n",
    "exclude_stopwords = {''}\n",
    "\n",
    "stopwords |= include_stopwords # union of sets\n",
    "stopwords &= sklearn_stop_words # intersection of sets\n",
    "stopwords -= exclude_stopwords # exclude words form our set of stopwords"
   ]
  },
  {
   "cell_type": "markdown",
   "id": "medium-console",
   "metadata": {},
   "source": [
    "We will use NLTK stop words for now."
   ]
  },
  {
   "cell_type": "code",
   "execution_count": 22,
   "id": "secure-optimization",
   "metadata": {},
   "outputs": [],
   "source": [
    "# removes stop words\n",
    "\n",
    "def remove_stop(tokens):\n",
    "    return [token for token in tokens if token not in stopwords]"
   ]
  },
  {
   "cell_type": "code",
   "execution_count": 23,
   "id": "geographic-plastic",
   "metadata": {},
   "outputs": [],
   "source": [
    "pipeline = [str.lower, tokens_nopunct, remove_stop] # this will be our default pipeline\n",
    "# lowercases words, tokenizes text, removes punctuation and removes stop words\n",
    "\n",
    "def process_text(text, pipeline):\n",
    "    tokens = text\n",
    "    for transform in pipeline:\n",
    "        tokens = transform(tokens)\n",
    "    return tokens"
   ]
  },
  {
   "cell_type": "code",
   "execution_count": 24,
   "id": "coordinated-creature",
   "metadata": {},
   "outputs": [],
   "source": [
    "df_en['tokens'] = df['text'].apply(process_text, pipeline=pipeline)"
   ]
  },
  {
   "cell_type": "code",
   "execution_count": 25,
   "id": "bronze-intent",
   "metadata": {},
   "outputs": [
    {
     "data": {
      "text/html": [
       "<div>\n",
       "<style scoped>\n",
       "    .dataframe tbody tr th:only-of-type {\n",
       "        vertical-align: middle;\n",
       "    }\n",
       "\n",
       "    .dataframe tbody tr th {\n",
       "        vertical-align: top;\n",
       "    }\n",
       "\n",
       "    .dataframe thead th {\n",
       "        text-align: right;\n",
       "    }\n",
       "</style>\n",
       "<table border=\"1\" class=\"dataframe\">\n",
       "  <thead>\n",
       "    <tr style=\"text-align: right;\">\n",
       "      <th></th>\n",
       "      <th>id</th>\n",
       "      <th>text</th>\n",
       "      <th>lang</th>\n",
       "      <th>created_at</th>\n",
       "      <th>retweets</th>\n",
       "      <th>replies</th>\n",
       "      <th>likes</th>\n",
       "      <th>quotes</th>\n",
       "      <th>tokens</th>\n",
       "    </tr>\n",
       "  </thead>\n",
       "  <tbody>\n",
       "    <tr>\n",
       "      <th>0</th>\n",
       "      <td>1539397722595377152</td>\n",
       "      <td>@trashevrythng @hardevrythng @McDonalds and th...</td>\n",
       "      <td>en</td>\n",
       "      <td>2022-06-21T23:59:52.000Z</td>\n",
       "      <td>0</td>\n",
       "      <td>0</td>\n",
       "      <td>3</td>\n",
       "      <td>0</td>\n",
       "      <td>[breakfast]</td>\n",
       "    </tr>\n",
       "    <tr>\n",
       "      <th>1</th>\n",
       "      <td>1539397657571074049</td>\n",
       "      <td>@trashevrythng @hardevrythng @McDonalds respec...</td>\n",
       "      <td>en</td>\n",
       "      <td>2022-06-21T23:59:36.000Z</td>\n",
       "      <td>0</td>\n",
       "      <td>1</td>\n",
       "      <td>4</td>\n",
       "      <td>0</td>\n",
       "      <td>[respect, chicken, nuggets, crispy, chicken, s...</td>\n",
       "    </tr>\n",
       "    <tr>\n",
       "      <th>2</th>\n",
       "      <td>1539397645625458688</td>\n",
       "      <td>@PeePosh2 @Scottschlittenh @sceley2011 @Joe_Ma...</td>\n",
       "      <td>en</td>\n",
       "      <td>2022-06-21T23:59:33.000Z</td>\n",
       "      <td>0</td>\n",
       "      <td>2</td>\n",
       "      <td>4</td>\n",
       "      <td>0</td>\n",
       "      <td>[right, i'm, tapping, save, sanity, summing, f...</td>\n",
       "    </tr>\n",
       "    <tr>\n",
       "      <th>4</th>\n",
       "      <td>1539397571013115904</td>\n",
       "      <td>@auauwra too bad im sending 8 mcdonalds large ...</td>\n",
       "      <td>en</td>\n",
       "      <td>2022-06-21T23:59:16.000Z</td>\n",
       "      <td>0</td>\n",
       "      <td>1</td>\n",
       "      <td>1</td>\n",
       "      <td>0</td>\n",
       "      <td>[bad, im, sending, 8, mcdonalds, large, fries,...</td>\n",
       "    </tr>\n",
       "    <tr>\n",
       "      <th>5</th>\n",
       "      <td>1539397434715082754</td>\n",
       "      <td>@_idkjia Last time I went to McDonalds.  lol  ...</td>\n",
       "      <td>en</td>\n",
       "      <td>2022-06-21T23:58:43.000Z</td>\n",
       "      <td>0</td>\n",
       "      <td>0</td>\n",
       "      <td>1</td>\n",
       "      <td>0</td>\n",
       "      <td>[last, time, went, mcdonalds, lol, https://t.c...</td>\n",
       "    </tr>\n",
       "    <tr>\n",
       "      <th>...</th>\n",
       "      <td>...</td>\n",
       "      <td>...</td>\n",
       "      <td>...</td>\n",
       "      <td>...</td>\n",
       "      <td>...</td>\n",
       "      <td>...</td>\n",
       "      <td>...</td>\n",
       "      <td>...</td>\n",
       "      <td>...</td>\n",
       "    </tr>\n",
       "    <tr>\n",
       "      <th>7146</th>\n",
       "      <td>1539035600451514375</td>\n",
       "      <td>if belos comes back we should just give him a ...</td>\n",
       "      <td>en</td>\n",
       "      <td>2022-06-21T00:00:55.000Z</td>\n",
       "      <td>1</td>\n",
       "      <td>0</td>\n",
       "      <td>3</td>\n",
       "      <td>0</td>\n",
       "      <td>[belos, comes, back, give, mcdonalds, sprite]</td>\n",
       "    </tr>\n",
       "    <tr>\n",
       "      <th>7147</th>\n",
       "      <td>1539035573263863808</td>\n",
       "      <td>we were at mcdonalds and suddenly 4 school bus...</td>\n",
       "      <td>en</td>\n",
       "      <td>2022-06-21T00:00:49.000Z</td>\n",
       "      <td>0</td>\n",
       "      <td>0</td>\n",
       "      <td>0</td>\n",
       "      <td>0</td>\n",
       "      <td>[mcdonalds, suddenly, 4, school, buses, filled...</td>\n",
       "    </tr>\n",
       "    <tr>\n",
       "      <th>7149</th>\n",
       "      <td>1539035538300207104</td>\n",
       "      <td>IM SORRY I TOLD U TO DRINK MCDONALDS SPRITE ht...</td>\n",
       "      <td>en</td>\n",
       "      <td>2022-06-21T00:00:40.000Z</td>\n",
       "      <td>0</td>\n",
       "      <td>0</td>\n",
       "      <td>1</td>\n",
       "      <td>1</td>\n",
       "      <td>[im, sorry, told, u, drink, mcdonalds, sprite,...</td>\n",
       "    </tr>\n",
       "    <tr>\n",
       "      <th>7150</th>\n",
       "      <td>1539035499242864641</td>\n",
       "      <td>Tough times @McDonalds inflation is shrinking ...</td>\n",
       "      <td>en</td>\n",
       "      <td>2022-06-21T00:00:31.000Z</td>\n",
       "      <td>0</td>\n",
       "      <td>1</td>\n",
       "      <td>2</td>\n",
       "      <td>0</td>\n",
       "      <td>[tough, times, inflation, shrinking, large, fr...</td>\n",
       "    </tr>\n",
       "    <tr>\n",
       "      <th>7151</th>\n",
       "      <td>1539035475352211456</td>\n",
       "      <td>@McDonalds It's literally raw so I am not sure...</td>\n",
       "      <td>en</td>\n",
       "      <td>2022-06-21T00:00:25.000Z</td>\n",
       "      <td>0</td>\n",
       "      <td>0</td>\n",
       "      <td>0</td>\n",
       "      <td>0</td>\n",
       "      <td>[literally, raw, sure, shall]</td>\n",
       "    </tr>\n",
       "  </tbody>\n",
       "</table>\n",
       "<p>5377 rows × 9 columns</p>\n",
       "</div>"
      ],
      "text/plain": [
       "                       id                                               text  \\\n",
       "0     1539397722595377152  @trashevrythng @hardevrythng @McDonalds and th...   \n",
       "1     1539397657571074049  @trashevrythng @hardevrythng @McDonalds respec...   \n",
       "2     1539397645625458688  @PeePosh2 @Scottschlittenh @sceley2011 @Joe_Ma...   \n",
       "4     1539397571013115904  @auauwra too bad im sending 8 mcdonalds large ...   \n",
       "5     1539397434715082754  @_idkjia Last time I went to McDonalds.  lol  ...   \n",
       "...                   ...                                                ...   \n",
       "7146  1539035600451514375  if belos comes back we should just give him a ...   \n",
       "7147  1539035573263863808  we were at mcdonalds and suddenly 4 school bus...   \n",
       "7149  1539035538300207104  IM SORRY I TOLD U TO DRINK MCDONALDS SPRITE ht...   \n",
       "7150  1539035499242864641  Tough times @McDonalds inflation is shrinking ...   \n",
       "7151  1539035475352211456  @McDonalds It's literally raw so I am not sure...   \n",
       "\n",
       "     lang                created_at  retweets  replies  likes  quotes  \\\n",
       "0      en  2022-06-21T23:59:52.000Z         0        0      3       0   \n",
       "1      en  2022-06-21T23:59:36.000Z         0        1      4       0   \n",
       "2      en  2022-06-21T23:59:33.000Z         0        2      4       0   \n",
       "4      en  2022-06-21T23:59:16.000Z         0        1      1       0   \n",
       "5      en  2022-06-21T23:58:43.000Z         0        0      1       0   \n",
       "...   ...                       ...       ...      ...    ...     ...   \n",
       "7146   en  2022-06-21T00:00:55.000Z         1        0      3       0   \n",
       "7147   en  2022-06-21T00:00:49.000Z         0        0      0       0   \n",
       "7149   en  2022-06-21T00:00:40.000Z         0        0      1       1   \n",
       "7150   en  2022-06-21T00:00:31.000Z         0        1      2       0   \n",
       "7151   en  2022-06-21T00:00:25.000Z         0        0      0       0   \n",
       "\n",
       "                                                 tokens  \n",
       "0                                           [breakfast]  \n",
       "1     [respect, chicken, nuggets, crispy, chicken, s...  \n",
       "2     [right, i'm, tapping, save, sanity, summing, f...  \n",
       "4     [bad, im, sending, 8, mcdonalds, large, fries,...  \n",
       "5     [last, time, went, mcdonalds, lol, https://t.c...  \n",
       "...                                                 ...  \n",
       "7146      [belos, comes, back, give, mcdonalds, sprite]  \n",
       "7147  [mcdonalds, suddenly, 4, school, buses, filled...  \n",
       "7149  [im, sorry, told, u, drink, mcdonalds, sprite,...  \n",
       "7150  [tough, times, inflation, shrinking, large, fr...  \n",
       "7151                      [literally, raw, sure, shall]  \n",
       "\n",
       "[5377 rows x 9 columns]"
      ]
     },
     "execution_count": 25,
     "metadata": {},
     "output_type": "execute_result"
    }
   ],
   "source": [
    "df_en"
   ]
  },
  {
   "cell_type": "markdown",
   "id": "moved-leeds",
   "metadata": {},
   "source": [
    "We can now proceed to our second step and extract the most relevant keywords."
   ]
  },
  {
   "cell_type": "markdown",
   "id": "alike-berlin",
   "metadata": {},
   "source": [
    "### 2. Extract keywords"
   ]
  },
  {
   "cell_type": "code",
   "execution_count": 26,
   "id": "derived-blast",
   "metadata": {},
   "outputs": [],
   "source": [
    "from sklearn.feature_extraction.text import CountVectorizer"
   ]
  },
  {
   "cell_type": "markdown",
   "id": "sensitive-repeat",
   "metadata": {},
   "source": [
    "#### 2.1. Create bag-of-words"
   ]
  },
  {
   "cell_type": "code",
   "execution_count": 27,
   "id": "irish-manor",
   "metadata": {},
   "outputs": [],
   "source": [
    "bow_vectorizer = CountVectorizer(lowercase=True, \n",
    "                                 tokenizer=tokens_nopunct, \n",
    "                                 stop_words=stopwords)"
   ]
  },
  {
   "cell_type": "code",
   "execution_count": 28,
   "id": "contemporary-agency",
   "metadata": {},
   "outputs": [],
   "source": [
    "cv_bow = bow_vectorizer.fit_transform(df_en['text'])"
   ]
  },
  {
   "cell_type": "code",
   "execution_count": 29,
   "id": "compliant-defeat",
   "metadata": {},
   "outputs": [],
   "source": [
    "df_cv_bow = pd.DataFrame(cv_bow.toarray(), columns=bow_vectorizer.get_feature_names_out())"
   ]
  },
  {
   "cell_type": "code",
   "execution_count": 30,
   "id": "buried-tower",
   "metadata": {},
   "outputs": [
    {
     "data": {
      "text/html": [
       "<div>\n",
       "<style scoped>\n",
       "    .dataframe tbody tr th:only-of-type {\n",
       "        vertical-align: middle;\n",
       "    }\n",
       "\n",
       "    .dataframe tbody tr th {\n",
       "        vertical-align: top;\n",
       "    }\n",
       "\n",
       "    .dataframe thead th {\n",
       "        text-align: right;\n",
       "    }\n",
       "</style>\n",
       "<table border=\"1\" class=\"dataframe\">\n",
       "  <thead>\n",
       "    <tr style=\"text-align: right;\">\n",
       "      <th></th>\n",
       "      <th>#1000xgem</th>\n",
       "      <th>#12</th>\n",
       "      <th>#180</th>\n",
       "      <th>#20towards200</th>\n",
       "      <th>#23794</th>\n",
       "      <th>#300m</th>\n",
       "      <th>#34188</th>\n",
       "      <th>#55centtomatoeslices</th>\n",
       "      <th>#666</th>\n",
       "      <th>#80s</th>\n",
       "      <th>...</th>\n",
       "      <th>🧡</th>\n",
       "      <th>🧢</th>\n",
       "      <th>🧵</th>\n",
       "      <th>🧼</th>\n",
       "      <th>🫖</th>\n",
       "      <th>🫠</th>\n",
       "      <th>🫡</th>\n",
       "      <th>🫤</th>\n",
       "      <th>🫵</th>\n",
       "      <th>🫶</th>\n",
       "    </tr>\n",
       "  </thead>\n",
       "  <tbody>\n",
       "    <tr>\n",
       "      <th>0</th>\n",
       "      <td>0</td>\n",
       "      <td>0</td>\n",
       "      <td>0</td>\n",
       "      <td>0</td>\n",
       "      <td>0</td>\n",
       "      <td>0</td>\n",
       "      <td>0</td>\n",
       "      <td>0</td>\n",
       "      <td>0</td>\n",
       "      <td>0</td>\n",
       "      <td>...</td>\n",
       "      <td>0</td>\n",
       "      <td>0</td>\n",
       "      <td>0</td>\n",
       "      <td>0</td>\n",
       "      <td>0</td>\n",
       "      <td>0</td>\n",
       "      <td>0</td>\n",
       "      <td>0</td>\n",
       "      <td>0</td>\n",
       "      <td>0</td>\n",
       "    </tr>\n",
       "    <tr>\n",
       "      <th>1</th>\n",
       "      <td>0</td>\n",
       "      <td>0</td>\n",
       "      <td>0</td>\n",
       "      <td>0</td>\n",
       "      <td>0</td>\n",
       "      <td>0</td>\n",
       "      <td>0</td>\n",
       "      <td>0</td>\n",
       "      <td>0</td>\n",
       "      <td>0</td>\n",
       "      <td>...</td>\n",
       "      <td>0</td>\n",
       "      <td>0</td>\n",
       "      <td>0</td>\n",
       "      <td>0</td>\n",
       "      <td>0</td>\n",
       "      <td>0</td>\n",
       "      <td>0</td>\n",
       "      <td>0</td>\n",
       "      <td>0</td>\n",
       "      <td>0</td>\n",
       "    </tr>\n",
       "    <tr>\n",
       "      <th>2</th>\n",
       "      <td>0</td>\n",
       "      <td>0</td>\n",
       "      <td>0</td>\n",
       "      <td>0</td>\n",
       "      <td>0</td>\n",
       "      <td>0</td>\n",
       "      <td>0</td>\n",
       "      <td>0</td>\n",
       "      <td>0</td>\n",
       "      <td>0</td>\n",
       "      <td>...</td>\n",
       "      <td>0</td>\n",
       "      <td>0</td>\n",
       "      <td>0</td>\n",
       "      <td>0</td>\n",
       "      <td>0</td>\n",
       "      <td>0</td>\n",
       "      <td>0</td>\n",
       "      <td>0</td>\n",
       "      <td>0</td>\n",
       "      <td>0</td>\n",
       "    </tr>\n",
       "    <tr>\n",
       "      <th>3</th>\n",
       "      <td>0</td>\n",
       "      <td>0</td>\n",
       "      <td>0</td>\n",
       "      <td>0</td>\n",
       "      <td>0</td>\n",
       "      <td>0</td>\n",
       "      <td>0</td>\n",
       "      <td>0</td>\n",
       "      <td>0</td>\n",
       "      <td>0</td>\n",
       "      <td>...</td>\n",
       "      <td>0</td>\n",
       "      <td>0</td>\n",
       "      <td>0</td>\n",
       "      <td>0</td>\n",
       "      <td>0</td>\n",
       "      <td>0</td>\n",
       "      <td>0</td>\n",
       "      <td>0</td>\n",
       "      <td>0</td>\n",
       "      <td>0</td>\n",
       "    </tr>\n",
       "    <tr>\n",
       "      <th>4</th>\n",
       "      <td>0</td>\n",
       "      <td>0</td>\n",
       "      <td>0</td>\n",
       "      <td>0</td>\n",
       "      <td>0</td>\n",
       "      <td>0</td>\n",
       "      <td>0</td>\n",
       "      <td>0</td>\n",
       "      <td>0</td>\n",
       "      <td>0</td>\n",
       "      <td>...</td>\n",
       "      <td>0</td>\n",
       "      <td>0</td>\n",
       "      <td>0</td>\n",
       "      <td>0</td>\n",
       "      <td>0</td>\n",
       "      <td>0</td>\n",
       "      <td>0</td>\n",
       "      <td>0</td>\n",
       "      <td>0</td>\n",
       "      <td>0</td>\n",
       "    </tr>\n",
       "    <tr>\n",
       "      <th>...</th>\n",
       "      <td>...</td>\n",
       "      <td>...</td>\n",
       "      <td>...</td>\n",
       "      <td>...</td>\n",
       "      <td>...</td>\n",
       "      <td>...</td>\n",
       "      <td>...</td>\n",
       "      <td>...</td>\n",
       "      <td>...</td>\n",
       "      <td>...</td>\n",
       "      <td>...</td>\n",
       "      <td>...</td>\n",
       "      <td>...</td>\n",
       "      <td>...</td>\n",
       "      <td>...</td>\n",
       "      <td>...</td>\n",
       "      <td>...</td>\n",
       "      <td>...</td>\n",
       "      <td>...</td>\n",
       "      <td>...</td>\n",
       "      <td>...</td>\n",
       "    </tr>\n",
       "    <tr>\n",
       "      <th>5372</th>\n",
       "      <td>0</td>\n",
       "      <td>0</td>\n",
       "      <td>0</td>\n",
       "      <td>0</td>\n",
       "      <td>0</td>\n",
       "      <td>0</td>\n",
       "      <td>0</td>\n",
       "      <td>0</td>\n",
       "      <td>0</td>\n",
       "      <td>0</td>\n",
       "      <td>...</td>\n",
       "      <td>0</td>\n",
       "      <td>0</td>\n",
       "      <td>0</td>\n",
       "      <td>0</td>\n",
       "      <td>0</td>\n",
       "      <td>0</td>\n",
       "      <td>0</td>\n",
       "      <td>0</td>\n",
       "      <td>0</td>\n",
       "      <td>0</td>\n",
       "    </tr>\n",
       "    <tr>\n",
       "      <th>5373</th>\n",
       "      <td>0</td>\n",
       "      <td>0</td>\n",
       "      <td>0</td>\n",
       "      <td>0</td>\n",
       "      <td>0</td>\n",
       "      <td>0</td>\n",
       "      <td>0</td>\n",
       "      <td>0</td>\n",
       "      <td>0</td>\n",
       "      <td>0</td>\n",
       "      <td>...</td>\n",
       "      <td>0</td>\n",
       "      <td>0</td>\n",
       "      <td>0</td>\n",
       "      <td>0</td>\n",
       "      <td>0</td>\n",
       "      <td>0</td>\n",
       "      <td>0</td>\n",
       "      <td>0</td>\n",
       "      <td>0</td>\n",
       "      <td>0</td>\n",
       "    </tr>\n",
       "    <tr>\n",
       "      <th>5374</th>\n",
       "      <td>0</td>\n",
       "      <td>0</td>\n",
       "      <td>0</td>\n",
       "      <td>0</td>\n",
       "      <td>0</td>\n",
       "      <td>0</td>\n",
       "      <td>0</td>\n",
       "      <td>0</td>\n",
       "      <td>0</td>\n",
       "      <td>0</td>\n",
       "      <td>...</td>\n",
       "      <td>0</td>\n",
       "      <td>0</td>\n",
       "      <td>0</td>\n",
       "      <td>0</td>\n",
       "      <td>0</td>\n",
       "      <td>0</td>\n",
       "      <td>0</td>\n",
       "      <td>0</td>\n",
       "      <td>0</td>\n",
       "      <td>0</td>\n",
       "    </tr>\n",
       "    <tr>\n",
       "      <th>5375</th>\n",
       "      <td>0</td>\n",
       "      <td>0</td>\n",
       "      <td>0</td>\n",
       "      <td>0</td>\n",
       "      <td>0</td>\n",
       "      <td>0</td>\n",
       "      <td>0</td>\n",
       "      <td>0</td>\n",
       "      <td>0</td>\n",
       "      <td>0</td>\n",
       "      <td>...</td>\n",
       "      <td>0</td>\n",
       "      <td>0</td>\n",
       "      <td>0</td>\n",
       "      <td>0</td>\n",
       "      <td>0</td>\n",
       "      <td>0</td>\n",
       "      <td>0</td>\n",
       "      <td>0</td>\n",
       "      <td>0</td>\n",
       "      <td>0</td>\n",
       "    </tr>\n",
       "    <tr>\n",
       "      <th>5376</th>\n",
       "      <td>0</td>\n",
       "      <td>0</td>\n",
       "      <td>0</td>\n",
       "      <td>0</td>\n",
       "      <td>0</td>\n",
       "      <td>0</td>\n",
       "      <td>0</td>\n",
       "      <td>0</td>\n",
       "      <td>0</td>\n",
       "      <td>0</td>\n",
       "      <td>...</td>\n",
       "      <td>0</td>\n",
       "      <td>0</td>\n",
       "      <td>0</td>\n",
       "      <td>0</td>\n",
       "      <td>0</td>\n",
       "      <td>0</td>\n",
       "      <td>0</td>\n",
       "      <td>0</td>\n",
       "      <td>0</td>\n",
       "      <td>0</td>\n",
       "    </tr>\n",
       "  </tbody>\n",
       "</table>\n",
       "<p>5377 rows × 12769 columns</p>\n",
       "</div>"
      ],
      "text/plain": [
       "      #1000xgem  #12  #180  #20towards200  #23794  #300m  #34188  \\\n",
       "0             0    0     0              0       0      0       0   \n",
       "1             0    0     0              0       0      0       0   \n",
       "2             0    0     0              0       0      0       0   \n",
       "3             0    0     0              0       0      0       0   \n",
       "4             0    0     0              0       0      0       0   \n",
       "...         ...  ...   ...            ...     ...    ...     ...   \n",
       "5372          0    0     0              0       0      0       0   \n",
       "5373          0    0     0              0       0      0       0   \n",
       "5374          0    0     0              0       0      0       0   \n",
       "5375          0    0     0              0       0      0       0   \n",
       "5376          0    0     0              0       0      0       0   \n",
       "\n",
       "      #55centtomatoeslices  #666  #80s  ...  🧡  🧢  🧵  🧼  🫖  🫠  🫡  🫤  🫵  🫶  \n",
       "0                        0     0     0  ...  0  0  0  0  0  0  0  0  0  0  \n",
       "1                        0     0     0  ...  0  0  0  0  0  0  0  0  0  0  \n",
       "2                        0     0     0  ...  0  0  0  0  0  0  0  0  0  0  \n",
       "3                        0     0     0  ...  0  0  0  0  0  0  0  0  0  0  \n",
       "4                        0     0     0  ...  0  0  0  0  0  0  0  0  0  0  \n",
       "...                    ...   ...   ...  ... .. .. .. .. .. .. .. .. .. ..  \n",
       "5372                     0     0     0  ...  0  0  0  0  0  0  0  0  0  0  \n",
       "5373                     0     0     0  ...  0  0  0  0  0  0  0  0  0  0  \n",
       "5374                     0     0     0  ...  0  0  0  0  0  0  0  0  0  0  \n",
       "5375                     0     0     0  ...  0  0  0  0  0  0  0  0  0  0  \n",
       "5376                     0     0     0  ...  0  0  0  0  0  0  0  0  0  0  \n",
       "\n",
       "[5377 rows x 12769 columns]"
      ]
     },
     "execution_count": 30,
     "metadata": {},
     "output_type": "execute_result"
    }
   ],
   "source": [
    "df_cv_bow"
   ]
  },
  {
   "cell_type": "markdown",
   "id": "interim-diary",
   "metadata": {},
   "source": [
    "For each one of our 5377 documents (tweets), we now have a count of how many times any given token appears in each document.\n",
    "\n",
    "We can sum these values and get the frequency of each token in our corpus."
   ]
  },
  {
   "cell_type": "markdown",
   "id": "otherwise-corporation",
   "metadata": {},
   "source": [
    "#### 2.2. Compute word frequency"
   ]
  },
  {
   "cell_type": "code",
   "execution_count": 31,
   "id": "heated-police",
   "metadata": {},
   "outputs": [
    {
     "data": {
      "text/html": [
       "<div>\n",
       "<style scoped>\n",
       "    .dataframe tbody tr th:only-of-type {\n",
       "        vertical-align: middle;\n",
       "    }\n",
       "\n",
       "    .dataframe tbody tr th {\n",
       "        vertical-align: top;\n",
       "    }\n",
       "\n",
       "    .dataframe thead th {\n",
       "        text-align: right;\n",
       "    }\n",
       "</style>\n",
       "<table border=\"1\" class=\"dataframe\">\n",
       "  <thead>\n",
       "    <tr style=\"text-align: right;\">\n",
       "      <th></th>\n",
       "      <th>token</th>\n",
       "      <th>freq</th>\n",
       "    </tr>\n",
       "  </thead>\n",
       "  <tbody>\n",
       "    <tr>\n",
       "      <th>0</th>\n",
       "      <td>#1000xgem</td>\n",
       "      <td>2</td>\n",
       "    </tr>\n",
       "    <tr>\n",
       "      <th>1</th>\n",
       "      <td>#12</td>\n",
       "      <td>1</td>\n",
       "    </tr>\n",
       "    <tr>\n",
       "      <th>2</th>\n",
       "      <td>#180</td>\n",
       "      <td>2</td>\n",
       "    </tr>\n",
       "    <tr>\n",
       "      <th>3</th>\n",
       "      <td>#20towards200</td>\n",
       "      <td>3</td>\n",
       "    </tr>\n",
       "    <tr>\n",
       "      <th>4</th>\n",
       "      <td>#23794</td>\n",
       "      <td>1</td>\n",
       "    </tr>\n",
       "  </tbody>\n",
       "</table>\n",
       "</div>"
      ],
      "text/plain": [
       "           token  freq\n",
       "0      #1000xgem     2\n",
       "1            #12     1\n",
       "2           #180     2\n",
       "3  #20towards200     3\n",
       "4         #23794     1"
      ]
     },
     "execution_count": 31,
     "metadata": {},
     "output_type": "execute_result"
    }
   ],
   "source": [
    "df_freq = pd.DataFrame(df_cv_bow.sum(axis = 0).index, columns=['token'])\n",
    "df_freq['freq'] = df_cv_bow.sum(axis = 0).values\n",
    "\n",
    "df_freq.head()"
   ]
  },
  {
   "cell_type": "code",
   "execution_count": 32,
   "id": "major-covering",
   "metadata": {},
   "outputs": [
    {
     "data": {
      "text/html": [
       "<div>\n",
       "<style scoped>\n",
       "    .dataframe tbody tr th:only-of-type {\n",
       "        vertical-align: middle;\n",
       "    }\n",
       "\n",
       "    .dataframe tbody tr th {\n",
       "        vertical-align: top;\n",
       "    }\n",
       "\n",
       "    .dataframe thead th {\n",
       "        text-align: right;\n",
       "    }\n",
       "</style>\n",
       "<table border=\"1\" class=\"dataframe\">\n",
       "  <thead>\n",
       "    <tr style=\"text-align: right;\">\n",
       "      <th></th>\n",
       "      <th>freq</th>\n",
       "    </tr>\n",
       "    <tr>\n",
       "      <th>token</th>\n",
       "      <th></th>\n",
       "    </tr>\n",
       "  </thead>\n",
       "  <tbody>\n",
       "    <tr>\n",
       "      <th>mcdonalds</th>\n",
       "      <td>2817</td>\n",
       "    </tr>\n",
       "    <tr>\n",
       "      <th>like</th>\n",
       "      <td>456</td>\n",
       "    </tr>\n",
       "    <tr>\n",
       "      <th>get</th>\n",
       "      <td>422</td>\n",
       "    </tr>\n",
       "    <tr>\n",
       "      <th>food</th>\n",
       "      <td>254</td>\n",
       "    </tr>\n",
       "    <tr>\n",
       "      <th>back</th>\n",
       "      <td>251</td>\n",
       "    </tr>\n",
       "    <tr>\n",
       "      <th>us</th>\n",
       "      <td>224</td>\n",
       "    </tr>\n",
       "    <tr>\n",
       "      <th>go</th>\n",
       "      <td>211</td>\n",
       "    </tr>\n",
       "    <tr>\n",
       "      <th>one</th>\n",
       "      <td>208</td>\n",
       "    </tr>\n",
       "    <tr>\n",
       "      <th>want</th>\n",
       "      <td>205</td>\n",
       "    </tr>\n",
       "    <tr>\n",
       "      <th>mcdonald's</th>\n",
       "      <td>204</td>\n",
       "    </tr>\n",
       "  </tbody>\n",
       "</table>\n",
       "</div>"
      ],
      "text/plain": [
       "            freq\n",
       "token           \n",
       "mcdonalds   2817\n",
       "like         456\n",
       "get          422\n",
       "food         254\n",
       "back         251\n",
       "us           224\n",
       "go           211\n",
       "one          208\n",
       "want         205\n",
       "mcdonald's   204"
      ]
     },
     "execution_count": 32,
     "metadata": {},
     "output_type": "execute_result"
    }
   ],
   "source": [
    "# sort df in descending order\n",
    "\n",
    "df_freq.set_index('token', inplace=True)\n",
    "df_freq.sort_values('freq', ascending=False, inplace=True)\n",
    "df_freq.head(10)"
   ]
  },
  {
   "cell_type": "code",
   "execution_count": 33,
   "id": "labeled-venezuela",
   "metadata": {},
   "outputs": [
    {
     "data": {
      "image/png": "[encoded data removed]",
      "text/plain": [
       "<Figure size 864x576 with 1 Axes>"
      ]
     },
     "metadata": {
      "needs_background": "light"
     },
     "output_type": "display_data"
    }
   ],
   "source": [
    "ax = df_freq.head(20).plot(kind='barh', width=0.95, figsize=(12,8))\n",
    "ax.invert_yaxis()\n",
    "ax.set(xlabel='Frequency', ylabel='Token', title='Top Words');"
   ]
  },
  {
   "cell_type": "markdown",
   "id": "driven-catalog",
   "metadata": {},
   "source": [
    "These are our top-20 (most frequent) words. We should think on excluding the words mcdonalds, mcdonald's and mcdonald by adding these words to our stop words.\n",
    "\n",
    "We should also have in mind that we used a very simple query to extract our tweets for testing purposes."
   ]
  },
  {
   "cell_type": "code",
   "execution_count": null,
   "id": "behavioral-white",
   "metadata": {},
   "outputs": [],
   "source": []
  }
 ],
 "metadata": {
  "kernelspec": {
   "display_name": "Python 3",
   "language": "python",
   "name": "python3"
  },
  "language_info": {
   "codemirror_mode": {
    "name": "ipython",
    "version": 3
   },
   "file_extension": ".py",
   "mimetype": "text/x-python",
   "name": "python",
   "nbconvert_exporter": "python",
   "pygments_lexer": "ipython3",
   "version": "3.8.8"
  }
 },
 "nbformat": 4,
 "nbformat_minor": 5
}
