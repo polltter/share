{
 "cells": [
  {
   "cell_type": "markdown",
   "id": "light-engineer",
   "metadata": {},
   "source": [
    "# C-More"
   ]
  },
  {
   "cell_type": "markdown",
   "id": "precise-upgrade",
   "metadata": {},
   "source": [
    "### MongoDB"
   ]
  },
  {
   "cell_type": "code",
   "execution_count": 9,
   "id": "protective-appreciation",
   "metadata": {
    "ExecuteTime": {
     "end_time": "2023-06-09T16:35:54.533217401Z",
     "start_time": "2023-06-09T16:35:54.530148472Z"
    }
   },
   "outputs": [],
   "source": [
    "import pymongo"
   ]
  },
  {
   "cell_type": "code",
   "execution_count": 10,
   "id": "experimental-graph",
   "metadata": {
    "ExecuteTime": {
     "end_time": "2023-06-09T16:35:54.896468684Z",
     "start_time": "2023-06-09T16:35:54.891602316Z"
    }
   },
   "outputs": [],
   "source": [
    "client = pymongo.MongoClient('mongodb://localhost:27017/')"
   ]
  },
  {
   "cell_type": "raw",
   "id": "vocational-criminal",
   "metadata": {},
   "source": [
    "client.list_database_names()"
   ]
  },
  {
   "cell_type": "markdown",
   "id": "addressed-robert",
   "metadata": {},
   "source": [
    "#### 1. Create database"
   ]
  },
  {
   "cell_type": "code",
   "execution_count": 11,
   "id": "written-object",
   "metadata": {
    "ExecuteTime": {
     "end_time": "2023-06-09T16:35:55.989116653Z",
     "start_time": "2023-06-09T16:35:55.984587638Z"
    }
   },
   "outputs": [],
   "source": [
    "# create database rep_analysis_test\n",
    "\n",
    "db = client['rep_analysis_test']"
   ]
  },
  {
   "cell_type": "markdown",
   "id": "handled-wealth",
   "metadata": {},
   "source": [
    "In MongoDB, a **database** is not created until it gets content."
   ]
  },
  {
   "cell_type": "markdown",
   "id": "contemporary-dividend",
   "metadata": {},
   "source": [
    "#### 2. Create collection"
   ]
  },
  {
   "cell_type": "code",
   "execution_count": 12,
   "id": "annoying-montana",
   "metadata": {
    "ExecuteTime": {
     "end_time": "2023-06-09T16:35:57.600973605Z",
     "start_time": "2023-06-09T16:35:57.597544203Z"
    }
   },
   "outputs": [],
   "source": [
    "# create search_words collection (similar to an RDBMS table)\n",
    "\n",
    "search_words = db['search_words']"
   ]
  },
  {
   "cell_type": "code",
   "execution_count": 13,
   "id": "junior-sender",
   "metadata": {
    "ExecuteTime": {
     "end_time": "2023-06-09T16:35:58.006821772Z",
     "start_time": "2023-06-09T16:35:57.999340940Z"
    }
   },
   "outputs": [
    {
     "data": {
      "text/plain": "[]"
     },
     "execution_count": 13,
     "metadata": {},
     "output_type": "execute_result"
    }
   ],
   "source": [
    "db.list_collection_names()"
   ]
  },
  {
   "cell_type": "markdown",
   "id": "silent-sleeve",
   "metadata": {},
   "source": [
    "In MongoDB, a **collection** is not created until it gets content."
   ]
  },
  {
   "cell_type": "code",
   "execution_count": 14,
   "id": "accredited-drilling",
   "metadata": {
    "ExecuteTime": {
     "end_time": "2023-06-09T16:36:02.127739080Z",
     "start_time": "2023-06-09T16:36:02.086826450Z"
    }
   },
   "outputs": [],
   "source": [
    "# insert search words defined by each client into collection search_words\n",
    "\n",
    "new_search_words = [{\"_id\": 1, \"company\": \"Vodafone\", \"words\": [\"vodafone\", \"5G\"]}, \n",
    "                    {\"_id\": 2, \"company\": \"Santander\", \"words\": [\"santander\", \"card\", \"account\", \"loan\", \"banking\"]}, \n",
    "                    {\"_id\": 3, \"company\": \"BP\", \"words\": [\"bp\", \"shell\", \"repsol\", \"galp\", \"prio\"]}]\n",
    "\n",
    "result = search_words.insert_many(new_search_words)"
   ]
  },
  {
   "cell_type": "code",
   "execution_count": 15,
   "id": "unusual-essence",
   "metadata": {
    "ExecuteTime": {
     "end_time": "2023-06-09T16:36:02.950423527Z",
     "start_time": "2023-06-09T16:36:02.943349528Z"
    }
   },
   "outputs": [
    {
     "data": {
      "text/plain": "[1, 2, 3]"
     },
     "execution_count": 15,
     "metadata": {},
     "output_type": "execute_result"
    }
   ],
   "source": [
    "result.inserted_ids"
   ]
  },
  {
   "cell_type": "code",
   "execution_count": 16,
   "id": "suspected-nirvana",
   "metadata": {
    "ExecuteTime": {
     "end_time": "2023-06-09T16:36:04.930749659Z",
     "start_time": "2023-06-09T16:36:04.927003145Z"
    }
   },
   "outputs": [
    {
     "data": {
      "text/plain": "['search_words']"
     },
     "execution_count": 16,
     "metadata": {},
     "output_type": "execute_result"
    }
   ],
   "source": [
    "db.list_collection_names()"
   ]
  },
  {
   "cell_type": "markdown",
   "id": "alike-antibody",
   "metadata": {},
   "source": [
    "#### 3. Select data from a collection"
   ]
  },
  {
   "cell_type": "code",
   "execution_count": 17,
   "id": "hearing-pride",
   "metadata": {
    "ExecuteTime": {
     "end_time": "2023-06-09T16:36:06.825946178Z",
     "start_time": "2023-06-09T16:36:06.818107662Z"
    }
   },
   "outputs": [
    {
     "name": "stdout",
     "output_type": "stream",
     "text": [
      "{'_id': 1, 'company': 'Vodafone', 'words': ['vodafone', '5G']}\n",
      "{'_id': 2, 'company': 'Santander', 'words': ['santander', 'card', 'account', 'loan', 'banking']}\n",
      "{'_id': 3, 'company': 'BP', 'words': ['bp', 'shell', 'repsol', 'galp', 'prio']}\n"
     ]
    }
   ],
   "source": [
    "for doc in search_words.find():\n",
    "    print(doc)"
   ]
  },
  {
   "cell_type": "code",
   "execution_count": 18,
   "id": "received-platform",
   "metadata": {
    "ExecuteTime": {
     "end_time": "2023-06-09T16:36:08.222336315Z",
     "start_time": "2023-06-09T16:36:08.210989438Z"
    }
   },
   "outputs": [
    {
     "name": "stdout",
     "output_type": "stream",
     "text": [
      "['vodafone', '5G']\n"
     ]
    }
   ],
   "source": [
    "# find words for company vodafone\n",
    "\n",
    "my_query = {\"company\": \"Vodafone\"}\n",
    "\n",
    "for words in search_words.find(my_query, {\"_id\": 0, \"company\": 0}):\n",
    "    print(words['words'])"
   ]
  },
  {
   "cell_type": "markdown",
   "id": "phantom-persian",
   "metadata": {},
   "source": [
    "#### 4. Check collections after running the .py script to get twitter data"
   ]
  },
  {
   "cell_type": "code",
   "execution_count": 19,
   "id": "precious-maple",
   "metadata": {
    "ExecuteTime": {
     "end_time": "2023-06-09T16:36:09.208082525Z",
     "start_time": "2023-06-09T16:36:09.203133893Z"
    }
   },
   "outputs": [
    {
     "data": {
      "text/plain": "['search_words']"
     },
     "execution_count": 19,
     "metadata": {},
     "output_type": "execute_result"
    }
   ],
   "source": [
    "db.list_collection_names()"
   ]
  },
  {
   "cell_type": "markdown",
   "id": "favorite-innocent",
   "metadata": {},
   "source": [
    "#### 5. Select data from the keywords collection"
   ]
  },
  {
   "cell_type": "code",
   "execution_count": null,
   "outputs": [],
   "source": [
    "keywords = db['client_info']"
   ],
   "metadata": {
    "collapsed": false
   }
  },
  {
   "cell_type": "code",
   "execution_count": 20,
   "id": "broken-english",
   "metadata": {
    "ExecuteTime": {
     "end_time": "2023-06-09T16:36:09.522695840Z",
     "start_time": "2023-06-09T16:36:09.520368672Z"
    }
   },
   "outputs": [],
   "source": [
    "keywords = db['keywords']"
   ]
  },
  {
   "cell_type": "code",
   "execution_count": 21,
   "id": "metallic-prague",
   "metadata": {
    "ExecuteTime": {
     "end_time": "2023-06-09T16:36:09.720019711Z",
     "start_time": "2023-06-09T16:36:09.711778451Z"
    }
   },
   "outputs": [],
   "source": [
    "for doc in keywords.find():\n",
    "    print(doc)"
   ]
  },
  {
   "cell_type": "code",
   "execution_count": 22,
   "id": "danish-booking",
   "metadata": {
    "ExecuteTime": {
     "end_time": "2023-06-09T16:36:09.873206827Z",
     "start_time": "2023-06-09T16:36:09.868369700Z"
    }
   },
   "outputs": [
    {
     "data": {
      "text/plain": "0"
     },
     "execution_count": 22,
     "metadata": {},
     "output_type": "execute_result"
    }
   ],
   "source": [
    "# total number of documents\n",
    "\n",
    "keywords.count_documents({})"
   ]
  },
  {
   "cell_type": "code",
   "execution_count": 23,
   "id": "assigned-mainstream",
   "metadata": {
    "ExecuteTime": {
     "end_time": "2023-06-09T16:36:10.077361016Z",
     "start_time": "2023-06-09T16:36:10.060871674Z"
    }
   },
   "outputs": [
    {
     "data": {
      "text/plain": "'text_text'"
     },
     "execution_count": 23,
     "metadata": {},
     "output_type": "execute_result"
    }
   ],
   "source": [
    "# create text index to perform $text queries\n",
    "# https://stackoverflow.com/questions/33541290/how-can-i-create-an-index-with-pymongo\n",
    "# https://pymongo.readthedocs.io/en/stable/api/pymongo/collection.html#pymongo.collection.Collection.create_index\n",
    "\n",
    "keywords.create_index([('text', pymongo.TEXT)])"
   ]
  },
  {
   "cell_type": "code",
   "execution_count": 24,
   "id": "dutch-being",
   "metadata": {
    "ExecuteTime": {
     "end_time": "2023-06-09T16:36:10.232684554Z",
     "start_time": "2023-06-09T16:36:10.228595430Z"
    }
   },
   "outputs": [
    {
     "name": "stdout",
     "output_type": "stream",
     "text": [
      "\n",
      " --> 0 documents in total\n"
     ]
    }
   ],
   "source": [
    "cursor = keywords.find({\"$text\": {\"$search\": \"vodafone\"}}, {\"text\": 1, '_id': 0})\n",
    "\n",
    "i=0\n",
    "\n",
    "for x in cursor:\n",
    "    i+=1\n",
    "    print(x['text']+'\\n'+'-----')\n",
    "    \n",
    "print('\\n --> ' + str(i) + ' documents in total')"
   ]
  },
  {
   "cell_type": "code",
   "execution_count": 25,
   "id": "developmental-grove",
   "metadata": {
    "ExecuteTime": {
     "end_time": "2023-06-09T16:36:10.420778469Z",
     "start_time": "2023-06-09T16:36:10.416766739Z"
    }
   },
   "outputs": [
    {
     "name": "stdout",
     "output_type": "stream",
     "text": [
      "\n",
      " --> 0 documents in total\n"
     ]
    }
   ],
   "source": [
    "cursor = keywords.find({\"$text\": {\"$search\": \"5G\"}}, {\"text\": 1, '_id': 0})\n",
    "    \n",
    "i=0\n",
    "\n",
    "for x in cursor:\n",
    "    i+=1\n",
    "    print(x['text']+'\\n'+'-----')\n",
    "    \n",
    "print('\\n --> ' + str(i) + ' documents in total')"
   ]
  },
  {
   "cell_type": "code",
   "execution_count": 26,
   "id": "medical-working",
   "metadata": {
    "ExecuteTime": {
     "end_time": "2023-06-09T16:36:10.619760580Z",
     "start_time": "2023-06-09T16:36:10.612968569Z"
    }
   },
   "outputs": [],
   "source": [
    "cursor = keywords.aggregate([{'$match': {\"$text\": {\"$search\": \"5G\"}}}, {\"$count\": \"Number of documents\"}])\n",
    "\n",
    "for result in cursor:\n",
    "    print(result)"
   ]
  },
  {
   "cell_type": "markdown",
   "id": "supported-monaco",
   "metadata": {},
   "source": [
    "For the words 'vodafone' and '5G' we have a total of 65 documents (5 + 60). However, we saw the total number of documents we retrieved was 69.\n",
    "\n",
    "To understand this behaviour, we can use regular expressions to retrieve all the documents we are interested in."
   ]
  },
  {
   "cell_type": "code",
   "execution_count": 27,
   "id": "known-pleasure",
   "metadata": {
    "ExecuteTime": {
     "end_time": "2023-06-09T16:36:10.954550151Z",
     "start_time": "2023-06-09T16:36:10.948093678Z"
    }
   },
   "outputs": [
    {
     "name": "stdout",
     "output_type": "stream",
     "text": [
      "\n",
      " --> 0 documents in total\n"
     ]
    }
   ],
   "source": [
    "my_query = {\"text\": {\"$regex\": \"(V|v)odafone\"}} # (V|v) to include lowercase and uppercase words\n",
    "\n",
    "cursor = keywords.find(my_query)\n",
    "\n",
    "i=0\n",
    "\n",
    "for x in cursor:\n",
    "    i+=1\n",
    "    print(x['text']+'\\n'+'-----')\n",
    "    \n",
    "print('\\n --> ' + str(i) + ' documents in total')"
   ]
  },
  {
   "cell_type": "markdown",
   "id": "imperial-yukon",
   "metadata": {},
   "source": [
    "Using this regular expression, we get 6 documents instead of 5. This happens because one \"extra\" document is retrieved where Vodafone is not a whole word - @VodafoneUK.\n",
    "\n",
    "To get only whole words we could use:"
   ]
  },
  {
   "cell_type": "code",
   "execution_count": 28,
   "id": "twelve-audience",
   "metadata": {
    "ExecuteTime": {
     "end_time": "2023-06-09T16:36:11.221788010Z",
     "start_time": "2023-06-09T16:36:11.214602088Z"
    }
   },
   "outputs": [
    {
     "name": "stdout",
     "output_type": "stream",
     "text": [
      "\n",
      " --> 0 documents in total\n"
     ]
    }
   ],
   "source": [
    "my_query = {\"text\": {\"$regex\": \"\\\\b(V|v)odafone\\\\b\"}}\n",
    "\n",
    "cursor = keywords.find(my_query)\n",
    "\n",
    "i=0\n",
    "\n",
    "for x in cursor:\n",
    "    i+=1\n",
    "    print(x['text']+'\\n'+'-----')\n",
    "    \n",
    "print('\\n --> ' + str(i) + ' documents in total')"
   ]
  },
  {
   "cell_type": "markdown",
   "id": "intermediate-rescue",
   "metadata": {},
   "source": [
    "We get the same 5 documents we got with our text search."
   ]
  },
  {
   "cell_type": "code",
   "execution_count": 29,
   "id": "automated-arcade",
   "metadata": {
    "ExecuteTime": {
     "end_time": "2023-06-09T16:36:11.594666879Z",
     "start_time": "2023-06-09T16:36:11.591054379Z"
    }
   },
   "outputs": [
    {
     "name": "stdout",
     "output_type": "stream",
     "text": [
      "\n",
      " --> 0 documents in total\n"
     ]
    }
   ],
   "source": [
    "my_query = {\"text\": {\"$regex\": \"5(G|g)\"}}\n",
    "\n",
    "cursor = keywords.find(my_query)\n",
    "\n",
    "i=0\n",
    "\n",
    "for x in cursor:\n",
    "    i+=1\n",
    "    print(x['text']+'\\n'+'-----')\n",
    "    \n",
    "print('\\n --> ' + str(i) + ' documents in total')"
   ]
  },
  {
   "cell_type": "markdown",
   "id": "bizarre-remove",
   "metadata": {},
   "source": [
    "For the word 5G, we get 63 documents. Adding the 6 we got for Vodafone, we get the 69 documents we initially retrieved.\n",
    "\n",
    "To get only whole words:"
   ]
  },
  {
   "cell_type": "code",
   "execution_count": 30,
   "id": "seeing-string",
   "metadata": {
    "ExecuteTime": {
     "end_time": "2023-06-09T16:36:11.906166081Z",
     "start_time": "2023-06-09T16:36:11.903364648Z"
    }
   },
   "outputs": [
    {
     "name": "stdout",
     "output_type": "stream",
     "text": [
      "\n",
      " --> 0 documents in total\n"
     ]
    }
   ],
   "source": [
    "my_query = {\"text\": {\"$regex\": \"\\\\b5(G|g)\\\\b\"}}\n",
    "\n",
    "cursor = keywords.find(my_query)\n",
    "\n",
    "i=0\n",
    "\n",
    "for x in cursor:\n",
    "    i+=1\n",
    "    print(x['text']+'\\n'+'-----')\n",
    "    \n",
    "print('\\n --> ' + str(i) + ' documents in total')"
   ]
  },
  {
   "cell_type": "markdown",
   "id": "inclusive-pressing",
   "metadata": {},
   "source": [
    "This time we get 61 documents (and not the 60 with got with our text search...)."
   ]
  },
  {
   "cell_type": "markdown",
   "id": "genuine-dragon",
   "metadata": {},
   "source": [
    "In alternative, we can also use Python's re module."
   ]
  },
  {
   "cell_type": "code",
   "execution_count": 31,
   "id": "surface-recipient",
   "metadata": {
    "ExecuteTime": {
     "end_time": "2023-06-09T16:36:12.419356185Z",
     "start_time": "2023-06-09T16:36:12.416350243Z"
    }
   },
   "outputs": [],
   "source": [
    "import re"
   ]
  },
  {
   "cell_type": "code",
   "execution_count": 32,
   "id": "occasional-montgomery",
   "metadata": {
    "ExecuteTime": {
     "end_time": "2023-06-09T16:36:12.572791037Z",
     "start_time": "2023-06-09T16:36:12.568293345Z"
    }
   },
   "outputs": [
    {
     "name": "stdout",
     "output_type": "stream",
     "text": [
      "\n",
      " --> 0 documents in total\n"
     ]
    }
   ],
   "source": [
    "# ignore case\n",
    "\n",
    "my_query = {\"text\": {\"$regex\": re.compile('vodafone', re.IGNORECASE)}}\n",
    "\n",
    "cursor = keywords.find(my_query)\n",
    "\n",
    "i=0\n",
    "\n",
    "for x in cursor:\n",
    "    i+=1\n",
    "    print(x['text']+'\\n'+'-----')\n",
    "    \n",
    "print('\\n --> ' + str(i) + ' documents in total')"
   ]
  },
  {
   "cell_type": "code",
   "execution_count": 33,
   "id": "female-messenger",
   "metadata": {
    "ExecuteTime": {
     "end_time": "2023-06-09T16:36:12.731660446Z",
     "start_time": "2023-06-09T16:36:12.727017982Z"
    }
   },
   "outputs": [
    {
     "name": "stdout",
     "output_type": "stream",
     "text": [
      "\n",
      " --> 0 documents in total\n"
     ]
    }
   ],
   "source": [
    "# ignore case and include only whole words\n",
    "\n",
    "my_query = {\"text\": {\"$regex\": re.compile('\\\\bvodafone\\\\b', re.IGNORECASE)}}\n",
    "\n",
    "cursor = keywords.find(my_query)\n",
    "\n",
    "i=0\n",
    "\n",
    "for x in cursor:\n",
    "    i+=1\n",
    "    print(x['text']+'\\n'+'-----')\n",
    "    \n",
    "print('\\n --> ' + str(i) + ' documents in total')"
   ]
  },
  {
   "cell_type": "code",
   "execution_count": 34,
   "id": "sunset-ground",
   "metadata": {
    "ExecuteTime": {
     "end_time": "2023-06-09T16:36:12.908812416Z",
     "start_time": "2023-06-09T16:36:12.905143494Z"
    }
   },
   "outputs": [
    {
     "name": "stdout",
     "output_type": "stream",
     "text": [
      "\n",
      " --> 0 documents in total\n"
     ]
    }
   ],
   "source": [
    "# ignore case\n",
    "\n",
    "my_query = {\"text\": {\"$regex\": re.compile('5g', re.IGNORECASE)}}\n",
    "\n",
    "cursor = keywords.find(my_query)\n",
    "\n",
    "i=0\n",
    "\n",
    "for x in cursor:\n",
    "    i+=1\n",
    "    print(x['text']+'\\n'+'-----')\n",
    "    \n",
    "print('\\n --> ' + str(i) + ' documents in total')"
   ]
  },
  {
   "cell_type": "code",
   "execution_count": 35,
   "id": "amazing-craps",
   "metadata": {
    "ExecuteTime": {
     "end_time": "2023-06-09T16:36:13.120432515Z",
     "start_time": "2023-06-09T16:36:13.099809179Z"
    }
   },
   "outputs": [
    {
     "name": "stdout",
     "output_type": "stream",
     "text": [
      "\n",
      " --> 0 documents in total\n"
     ]
    }
   ],
   "source": [
    "# ignore case and include ony whole words\n",
    "\n",
    "my_query = {\"text\": {\"$regex\": re.compile('\\\\b5g\\\\b', re.IGNORECASE)}}\n",
    "\n",
    "cursor = keywords.find(my_query)\n",
    "\n",
    "i=0\n",
    "\n",
    "for x in cursor:\n",
    "    i+=1\n",
    "    print(x['text']+'\\n'+'-----')\n",
    "    \n",
    "print('\\n --> ' + str(i) + ' documents in total')"
   ]
  },
  {
   "cell_type": "code",
   "execution_count": 35,
   "outputs": [],
   "source": [],
   "metadata": {
    "collapsed": false,
    "ExecuteTime": {
     "end_time": "2023-06-09T16:36:13.294870962Z",
     "start_time": "2023-06-09T16:36:13.283294279Z"
    }
   }
  },
  {
   "cell_type": "code",
   "execution_count": 35,
   "outputs": [],
   "source": [],
   "metadata": {
    "collapsed": false,
    "ExecuteTime": {
     "end_time": "2023-06-09T16:36:13.465431653Z",
     "start_time": "2023-06-09T16:36:13.454493599Z"
    }
   }
  },
  {
   "cell_type": "code",
   "execution_count": null,
   "outputs": [],
   "source": [],
   "metadata": {
    "collapsed": false
   }
  }
 ],
 "metadata": {
  "kernelspec": {
   "display_name": "Python 3",
   "language": "python",
   "name": "python3"
  },
  "language_info": {
   "codemirror_mode": {
    "name": "ipython",
    "version": 3
   },
   "file_extension": ".py",
   "mimetype": "text/x-python",
   "name": "python",
   "nbconvert_exporter": "python",
   "pygments_lexer": "ipython3",
   "version": "3.8.8"
  }
 },
 "nbformat": 4,
 "nbformat_minor": 5
}
