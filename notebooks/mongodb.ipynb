{
 "cells": [
  {
   "cell_type": "markdown",
   "id": "light-engineer",
   "metadata": {},
   "source": [
    "# C-More"
   ]
  },
  {
   "cell_type": "markdown",
   "id": "precise-upgrade",
   "metadata": {},
   "source": [
    "### MongoDB"
   ]
  },
  {
   "cell_type": "code",
   "execution_count": 1,
   "id": "protective-appreciation",
   "metadata": {},
   "outputs": [],
   "source": [
    "import pymongo"
   ]
  },
  {
   "cell_type": "code",
   "execution_count": 2,
   "id": "experimental-graph",
   "metadata": {},
   "outputs": [],
   "source": [
    "client = pymongo.MongoClient('mongodb://localhost:27017/')"
   ]
  },
  {
   "cell_type": "raw",
   "id": "vocational-criminal",
   "metadata": {},
   "source": [
    "client.list_database_names()"
   ]
  },
  {
   "cell_type": "markdown",
   "id": "addressed-robert",
   "metadata": {},
   "source": [
    "#### 1. Create database"
   ]
  },
  {
   "cell_type": "code",
   "execution_count": 4,
   "id": "written-object",
   "metadata": {},
   "outputs": [],
   "source": [
    "# create database rep_analysis_test\n",
    "\n",
    "db = client['rep_analysis_test']"
   ]
  },
  {
   "cell_type": "markdown",
   "id": "handled-wealth",
   "metadata": {},
   "source": [
    "In MongoDB, a **database** is not created until it gets content."
   ]
  },
  {
   "cell_type": "markdown",
   "id": "contemporary-dividend",
   "metadata": {},
   "source": [
    "#### 2. Create collection"
   ]
  },
  {
   "cell_type": "code",
   "execution_count": 5,
   "id": "annoying-montana",
   "metadata": {},
   "outputs": [],
   "source": [
    "# create search_words collection (similar to an RDBMS table)\n",
    "\n",
    "search_words = db['search_words']"
   ]
  },
  {
   "cell_type": "code",
   "execution_count": 6,
   "id": "junior-sender",
   "metadata": {},
   "outputs": [
    {
     "data": {
      "text/plain": [
       "[]"
      ]
     },
     "execution_count": 6,
     "metadata": {},
     "output_type": "execute_result"
    }
   ],
   "source": [
    "db.list_collection_names()"
   ]
  },
  {
   "cell_type": "markdown",
   "id": "silent-sleeve",
   "metadata": {},
   "source": [
    "In MongoDB, a **collection** is not created until it gets content."
   ]
  },
  {
   "cell_type": "code",
   "execution_count": 7,
   "id": "accredited-drilling",
   "metadata": {},
   "outputs": [],
   "source": [
    "# insert search words defined by each client into collection search_words\n",
    "\n",
    "new_search_words = [{\"_id\": 1, \"company\": \"Vodafone\", \"words\": [\"vodafone\", \"5G\"]}, \n",
    "                    {\"_id\": 2, \"company\": \"Santander\", \"words\": [\"santander\", \"card\", \"account\", \"loan\", \"banking\"]}, \n",
    "                    {\"_id\": 3, \"company\": \"BP\", \"words\": [\"bp\", \"shell\", \"repsol\", \"galp\", \"prio\"]}]\n",
    "\n",
    "result = search_words.insert_many(new_search_words)"
   ]
  },
  {
   "cell_type": "code",
   "execution_count": 8,
   "id": "unusual-essence",
   "metadata": {},
   "outputs": [
    {
     "data": {
      "text/plain": [
       "[1, 2, 3]"
      ]
     },
     "execution_count": 8,
     "metadata": {},
     "output_type": "execute_result"
    }
   ],
   "source": [
    "result.inserted_ids"
   ]
  },
  {
   "cell_type": "code",
   "execution_count": 9,
   "id": "suspected-nirvana",
   "metadata": {},
   "outputs": [
    {
     "data": {
      "text/plain": [
       "['search_words']"
      ]
     },
     "execution_count": 9,
     "metadata": {},
     "output_type": "execute_result"
    }
   ],
   "source": [
    "db.list_collection_names()"
   ]
  },
  {
   "cell_type": "markdown",
   "id": "alike-antibody",
   "metadata": {},
   "source": [
    "#### 3. Select data from a collection"
   ]
  },
  {
   "cell_type": "code",
   "execution_count": 10,
   "id": "hearing-pride",
   "metadata": {},
   "outputs": [
    {
     "name": "stdout",
     "output_type": "stream",
     "text": [
      "{'_id': 1, 'company': 'Vodafone', 'words': ['vodafone', '5G']}\n",
      "{'_id': 2, 'company': 'Santander', 'words': ['santander', 'card', 'account', 'loan', 'banking']}\n",
      "{'_id': 3, 'company': 'BP', 'words': ['bp', 'shell', 'repsol', 'galp', 'prio']}\n"
     ]
    }
   ],
   "source": [
    "for doc in search_words.find():\n",
    "    print(doc)"
   ]
  },
  {
   "cell_type": "code",
   "execution_count": 11,
   "id": "received-platform",
   "metadata": {},
   "outputs": [
    {
     "name": "stdout",
     "output_type": "stream",
     "text": [
      "['vodafone', '5G']\n"
     ]
    }
   ],
   "source": [
    "# find words for company vodafone\n",
    "\n",
    "my_query = {\"company\": \"Vodafone\"}\n",
    "\n",
    "for words in search_words.find(my_query, {\"_id\": 0, \"company\": 0}):\n",
    "    print(words['words'])"
   ]
  },
  {
   "cell_type": "markdown",
   "id": "phantom-persian",
   "metadata": {},
   "source": [
    "#### 4. Check collections after running the .py script to get twitter data"
   ]
  },
  {
   "cell_type": "code",
   "execution_count": 12,
   "id": "precious-maple",
   "metadata": {},
   "outputs": [
    {
     "data": {
      "text/plain": [
       "['keywords', 'search_words']"
      ]
     },
     "execution_count": 12,
     "metadata": {},
     "output_type": "execute_result"
    }
   ],
   "source": [
    "db.list_collection_names()"
   ]
  },
  {
   "cell_type": "markdown",
   "id": "favorite-innocent",
   "metadata": {},
   "source": [
    "#### 5. Select data from the keywords collection"
   ]
  },
  {
   "cell_type": "code",
   "execution_count": 14,
   "id": "broken-english",
   "metadata": {},
   "outputs": [],
   "source": [
    "keywords = db['keywords']"
   ]
  },
  {
   "cell_type": "code",
   "execution_count": 15,
   "id": "metallic-prague",
   "metadata": {},
   "outputs": [
    {
     "name": "stdout",
     "output_type": "stream",
     "text": [
      "{'_id': ObjectId('62f28544fe960096a8b1e236'), 'created_at': '2022-08-08T23:26:46.000Z', 'text': '@VodafoneOMN Please let me know if any vacancy available in Vodafone oman family', 'lang': 'en', 'id': '1556784011619565573', 'public_metrics': {'retweet_count': 0, 'reply_count': 1, 'like_count': 0, 'quote_count': 0}}\n",
      "{'_id': ObjectId('62f28544fe960096a8b1e237'), 'created_at': '2022-08-08T23:08:57.000Z', 'text': 'The TL top make ass ass Ei but Vodafone no dey make adey watch am well oh💔🤦🏽\\u200d♂️.', 'lang': 'en', 'id': '1556779526935511040', 'public_metrics': {'retweet_count': 1, 'reply_count': 1, 'like_count': 10, 'quote_count': 0}}\n",
      "{'_id': ObjectId('62f28544fe960096a8b1e238'), 'created_at': '2022-08-08T23:07:31.000Z', 'text': \"@t0mm13b It's the Vodafone Gigabox https://t.co/8M8a6c52PQ and this is the fritz box model https://t.co/YNPkW0FR7V\\n\\nIt's FTTC for the minute, the main device hands out the DHCP which is the VF device\", 'lang': 'en', 'id': '1556779164954394624', 'public_metrics': {'retweet_count': 0, 'reply_count': 0, 'like_count': 0, 'quote_count': 0}}\n",
      "{'_id': ObjectId('62f28544fe960096a8b1e239'), 'created_at': '2022-08-08T23:05:05.000Z', 'text': '#Konekt on all networks today! 🤩 #MakeTheSwitch to Vodafone and take advantage of our new #WantokKombo plans!! \\n\\n#AllNetworkPlans #MakeTheSwitch #TogetherWeCan #VodafonePNG https://t.co/K99JXI01hY', 'lang': 'en', 'id': '1556778552091090950', 'public_metrics': {'retweet_count': 2, 'reply_count': 1, 'like_count': 10, 'quote_count': 1}}\n",
      "{'_id': ObjectId('62f28544fe960096a8b1e23a'), 'created_at': '2022-08-08T23:02:33.000Z', 'text': \"@Simondoestweets Hmm, am not familiar with Fritzbox 😕what is the model of fritzbox and Vodafone modem? Am assuming it's FTTH? Which device dishes out DHCP addresses?\", 'lang': 'en', 'id': '1556777917585162247', 'public_metrics': {'retweet_count': 0, 'reply_count': 1, 'like_count': 0, 'quote_count': 0}}\n",
      "{'_id': ObjectId('62f28544fe960096a8b1e23b'), 'id': '1556784759715536896', 'lang': 'en', 'public_metrics': {'retweet_count': 0, 'reply_count': 0, 'like_count': 0, 'quote_count': 0}, 'text': '5G Auction: Reliance Jio Submits Earnest Money Deposit Of Rs 14,000\\xa0Crore https://t.co/92GL9F3ntl', 'created_at': '2022-08-08T23:29:45.000Z'}\n",
      "{'_id': ObjectId('62f28544fe960096a8b1e23c'), 'id': '1556784714329063425', 'lang': 'en', 'public_metrics': {'retweet_count': 0, 'reply_count': 1, 'like_count': 0, 'quote_count': 0}, 'text': 'Hello @ThreeUK can’t wait until December to cancel my contract with yous, your 5G is so poor, your signal is so poor, when all my friends with @EE and @VodafoneUK have excellent connections, i’m the only one struggling because i’m the only one with yous, can’t wait to cancel', 'created_at': '2022-08-08T23:29:34.000Z'}\n",
      "{'_id': ObjectId('62f28544fe960096a8b1e23d'), 'id': '1556784700504518657', 'lang': 'en', 'public_metrics': {'retweet_count': 0, 'reply_count': 0, 'like_count': 0, 'quote_count': 0}, 'text': '@MentalHealerid Soft Case Glitter Transparan + Stand Holder + Lanyard Untuk Samsung Galaxy A72 A52 A32 5g 4g A12 A02 A02S A71 A51 A21S M02 M12 2021 Rp63,293 https://t.co/siNisklnwV https://t.co/VjkLtkkV20', 'created_at': '2022-08-08T23:29:30.000Z'}\n",
      "{'_id': ObjectId('62f28544fe960096a8b1e23e'), 'id': '1556784654765654018', 'lang': 'en', 'public_metrics': {'retweet_count': 0, 'reply_count': 0, 'like_count': 1, 'quote_count': 0}, 'text': '@BlackberryXRP 5G small cells keeping track of your every move', 'created_at': '2022-08-08T23:29:20.000Z'}\n",
      "{'_id': ObjectId('62f28544fe960096a8b1e23f'), 'id': '1556784609840742402', 'lang': 'en', 'public_metrics': {'retweet_count': 0, 'reply_count': 1, 'like_count': 0, 'quote_count': 0}, 'text': 'Tested @enjoyGLOBE 5G here in BGC and @DITOphofficial 5G. \\n\\nWhat a surprise. https://t.co/Npw8mgiaYE', 'created_at': '2022-08-08T23:29:09.000Z'}\n",
      "{'_id': ObjectId('62f28544fe960096a8b1e240'), 'id': '1556784605222449153', 'lang': 'en', 'public_metrics': {'retweet_count': 0, 'reply_count': 0, 'like_count': 0, 'quote_count': 0}, 'text': 'Amazon Sale On Oneplus Best OnePlus 10T 5G Phone Camera Best Oneplus Phone Under 30000 Amazon Great Freedom\\xa0Festival https://t.co/BmAx473iuS', 'created_at': '2022-08-08T23:29:08.000Z'}\n",
      "{'_id': ObjectId('62f28544fe960096a8b1e241'), 'id': '1556784399038832640', 'lang': 'en', 'public_metrics': {'retweet_count': 0, 'reply_count': 0, 'like_count': 0, 'quote_count': 0}, 'text': '@Xfinity  \\n@xfinitysupport\\n it took ~40 minute for chat agent to tell me my newly bought unlocked Galaxy A13 5G is not compatible as there is no carrier on it... and they cant do anything. Anyways, good learning for me...', 'created_at': '2022-08-08T23:28:19.000Z'}\n",
      "{'_id': ObjectId('62f28544fe960096a8b1e242'), 'id': '1556784292860157955', 'lang': 'en', 'public_metrics': {'retweet_count': 2, 'reply_count': 0, 'like_count': 1, 'quote_count': 0}, 'text': '#ai #ml #tech #data #technology #IoT #5G #robot #science #innovation #cloud #business #news #future\\nHaus, a VC-backed apertif startup, is up for sale after Series A falls through https://t.co/nUXpvppZdP', 'created_at': '2022-08-08T23:27:53.000Z'}\n",
      "{'_id': ObjectId('62f28544fe960096a8b1e243'), 'id': '1556784258424999936', 'lang': 'en', 'public_metrics': {'retweet_count': 0, 'reply_count': 1, 'like_count': 2, 'quote_count': 0}, 'text': '@BlackberryXRP NYLink lol how they track your moments via 5G', 'created_at': '2022-08-08T23:27:45.000Z'}\n",
      "{'_id': ObjectId('62f28544fe960096a8b1e244'), 'id': '1556784223763169281', 'lang': 'en', 'public_metrics': {'retweet_count': 0, 'reply_count': 0, 'like_count': 0, 'quote_count': 0}, 'text': '@snapdragon_BRA Call Off Duty, Moto G200 5g Snapdragon 888+', 'created_at': '2022-08-08T23:27:37.000Z'}\n",
      "{'_id': ObjectId('62f28544fe960096a8b1e245'), 'id': '1556784193895600129', 'lang': 'en', 'public_metrics': {'retweet_count': 0, 'reply_count': 0, 'like_count': 0, 'quote_count': 0}, 'text': 'Redmi 10 5G SmartPhone Has Been Launched With 50MP\\xa0… https://t.co/OAz6kK6TC3', 'created_at': '2022-08-08T23:27:30.000Z'}\n",
      "{'_id': ObjectId('62f28544fe960096a8b1e246'), 'id': '1556784187948113920', 'lang': 'en', 'public_metrics': {'retweet_count': 0, 'reply_count': 0, 'like_count': 0, 'quote_count': 0}, 'text': 'Redmi 10 5G SmartPhone Has Been Launched With 50MP\\xa0… https://t.co/PkZ2NWYpb3', 'created_at': '2022-08-08T23:27:28.000Z'}\n",
      "{'_id': ObjectId('62f28544fe960096a8b1e247'), 'id': '1556784124857311237', 'lang': 'en', 'public_metrics': {'retweet_count': 1, 'reply_count': 0, 'like_count': 1, 'quote_count': 0}, 'text': '@rvp #RaviVisvesvarayaSharadaPrasad @rvp Public Safety Migrating to 4G and 5G Broadband  - Ericsson https://t.co/tKnVlZUMRU, see more https://t.co/TC2aBfZbJw', 'created_at': '2022-08-08T23:27:13.000Z'}\n",
      "{'_id': ObjectId('62f28544fe960096a8b1e248'), 'id': '1556784025993453568', 'lang': 'en', 'public_metrics': {'retweet_count': 1, 'reply_count': 0, 'like_count': 2, 'quote_count': 0}, 'text': 'VERIZON WIRELESS | NETWORK UPDATE ‼️\\nhttps://t.co/Romy7PSWKh \\u2066@thetechxtremist\\u2069 \\n\\n#5G #LTE #VERIZON', 'created_at': '2022-08-08T23:26:50.000Z'}\n",
      "{'_id': ObjectId('62f28544fe960096a8b1e249'), 'id': '1556784022503800838', 'lang': 'en', 'public_metrics': {'retweet_count': 0, 'reply_count': 0, 'like_count': 0, 'quote_count': 0}, 'text': 'BareMinerals Bare Minerals Mineralixirs Eye Nourishing Oil Balm 8.5g/0.29oz [PPW6LTG]\\n\\nhttps://t.co/pfqcuSRDLc', 'created_at': '2022-08-08T23:26:49.000Z'}\n",
      "{'_id': ObjectId('62f28544fe960096a8b1e24a'), 'id': '1556783933131526144', 'lang': 'en', 'public_metrics': {'retweet_count': 0, 'reply_count': 3, 'like_count': 3, 'quote_count': 0}, 'text': 'Ever since Springfield switched to 5G internet from LTE, my phone connection is hot garbage. \\nAnybody else?', 'created_at': '2022-08-08T23:26:27.000Z'}\n",
      "{'_id': ObjectId('62f28544fe960096a8b1e24b'), 'id': '1556783283857371137', 'lang': 'en', 'public_metrics': {'retweet_count': 0, 'reply_count': 0, 'like_count': 0, 'quote_count': 0}, 'text': '@gemir21 @Ronny46990805 @tedcruz Right about what? Your stupid imaginary 5G network that we were supposed to receive from the vax? \\n\\nStop confusing independent thinking with gullibility.', 'created_at': '2022-08-08T23:23:53.000Z'}\n",
      "{'_id': ObjectId('62f28544fe960096a8b1e24c'), 'id': '1556782903169802240', 'lang': 'en', 'public_metrics': {'retweet_count': 0, 'reply_count': 1, 'like_count': 0, 'quote_count': 0}, 'text': 'MLS All-Star Skills Challenge presented by AT&amp;T 5G to feature MLS vs. LIGA MX https://t.co/48NXGmT6lA   HERE you go @sportsrage', 'created_at': '2022-08-08T23:22:22.000Z'}\n",
      "{'_id': ObjectId('62f28544fe960096a8b1e24d'), 'id': '1556782817316675591', 'lang': 'en', 'public_metrics': {'retweet_count': 2, 'reply_count': 1, 'like_count': 3, 'quote_count': 0}, 'text': 'How #Fiber Connectivity Fits #Business 🏬 🏭 \\n\\nhttps://t.co/r5afyEgevP @ATTbusiness #ATTinfluencer #5G #DigitalTransformation #ICT￼ #CaseStudies #CTO #ATT #telecoms #technology #telecommunications https://t.co/zsX4PPFy7W', 'created_at': '2022-08-08T23:22:01.000Z'}\n",
      "{'_id': ObjectId('62f28544fe960096a8b1e24e'), 'id': '1556782813478694912', 'lang': 'en', 'public_metrics': {'retweet_count': 0, 'reply_count': 0, 'like_count': 0, 'quote_count': 0}, 'text': 'Gilding Foil Flakes for Resin,YUGDRUZY 5g Metallic Foil Leaf Schabin Flakes with 2 Finger Cots and Tweezers,Imitation Metal G [0CNNLRJ]\\n\\nhttps://t.co/cjNwrOipXS', 'created_at': '2022-08-08T23:22:01.000Z'}\n",
      "{'_id': ObjectId('62f28544fe960096a8b1e24f'), 'id': '1556782543902363648', 'lang': 'en', 'public_metrics': {'retweet_count': 0, 'reply_count': 1, 'like_count': 2, 'quote_count': 0}, 'text': 'fucking wifi!!!!!!! 5G is a lie in latam!!!!', 'created_at': '2022-08-08T23:20:56.000Z'}\n",
      "{'_id': ObjectId('62f28544fe960096a8b1e250'), 'id': '1556782307205414912', 'lang': 'en', 'public_metrics': {'retweet_count': 1, 'reply_count': 0, 'like_count': 3, 'quote_count': 0}, 'text': 'Galaxy Z Fold3 5G\\nFrom $699.99 Unlocked\\nSamsung https://t.co/MSFHrbxKbF #ad https://t.co/e2DnfaujoY', 'created_at': '2022-08-08T23:20:00.000Z'}\n",
      "{'_id': ObjectId('62f28544fe960096a8b1e251'), 'id': '1556782195515146242', 'lang': 'en', 'public_metrics': {'retweet_count': 0, 'reply_count': 0, 'like_count': 0, 'quote_count': 0}, 'text': 'Vivo V25 Pro 5G Product Page Confirms Several\\xa0Features https://t.co/yzswQgjbvj', 'created_at': '2022-08-08T23:19:33.000Z'}\n",
      "{'_id': ObjectId('62f28544fe960096a8b1e252'), 'id': '1556782117211832320', 'lang': 'en', 'public_metrics': {'retweet_count': 0, 'reply_count': 0, 'like_count': 0, 'quote_count': 0}, 'text': '5G, Remote Human Assist when a robot gets confused. I see this taking over short deliveries (takeaways) over the next decade. (I think they will be a tad bigger and roadworthy though) https://t.co/ZsVNiAOh9h', 'created_at': '2022-08-08T23:19:15.000Z'}\n",
      "{'_id': ObjectId('62f28544fe960096a8b1e253'), 'id': '1556781846046081024', 'lang': 'en', 'public_metrics': {'retweet_count': 0, 'reply_count': 1, 'like_count': 0, 'quote_count': 0}, 'text': \"@RaashidRaja1 @rohan10022000 @Deeplearning_5G @pakistan_untold You don't get it? Hamaz rocket malfunctioned and hit their own people killing 5 children. Anyone can understand which side Allah is leaning towards.\", 'created_at': '2022-08-08T23:18:10.000Z'}\n",
      "{'_id': ObjectId('62f28544fe960096a8b1e254'), 'id': '1556781684854759425', 'lang': 'en', 'public_metrics': {'retweet_count': 0, 'reply_count': 0, 'like_count': 0, 'quote_count': 0}, 'text': 'Drone 4K Profesional GPS 5KM Dual HD Quadcopter With Camera With 360 Obstacle Avoidance 5G WiFi VS DJI Mini Drone RC Quadcopter $40.24\\nclick&gt;&gt;https://t.co/OSHC4GJT5c\\n#amazon #aliexpress #rt https://t.co/gFKKWqMDGd', 'created_at': '2022-08-08T23:17:31.000Z'}\n",
      "{'_id': ObjectId('62f28544fe960096a8b1e255'), 'id': '1556781669322858496', 'lang': 'en', 'public_metrics': {'retweet_count': 4, 'reply_count': 0, 'like_count': 5, 'quote_count': 0}, 'text': 'Check out Samsung Galaxy M23 5G [6GB RAM + 128GB ROM] at 14% off! ₱15,490.00 only! Get it on Lazada now!  https://t.co/9ik7eSQFvM', 'created_at': '2022-08-08T23:17:28.000Z'}\n",
      "{'_id': ObjectId('62f28544fe960096a8b1e256'), 'id': '1556781505757814787', 'lang': 'en', 'public_metrics': {'retweet_count': 0, 'reply_count': 0, 'like_count': 0, 'quote_count': 0}, 'text': \"Charest working to get a Chinese tech company included in Canada's 5G network when that same company was deemed too much of a RISK TO NATIONAL SECURITY should disqualify him from any and all public offices for life!\", 'created_at': '2022-08-08T23:16:49.000Z'}\n",
      "{'_id': ObjectId('62f28544fe960096a8b1e257'), 'id': '1556781444789407744', 'lang': 'en', 'public_metrics': {'retweet_count': 0, 'reply_count': 0, 'like_count': 0, 'quote_count': 0}, 'text': 'OtterBox Commuter Series LITE Case for TCL 30 XE 5G - Maven Way [ORJ9AMX]\\n\\nhttps://t.co/s0oMhvSzi3', 'created_at': '2022-08-08T23:16:34.000Z'}\n",
      "{'_id': ObjectId('62f28544fe960096a8b1e258'), 'id': '1556781202077523968', 'lang': 'en', 'public_metrics': {'retweet_count': 0, 'reply_count': 0, 'like_count': 0, 'quote_count': 0}, 'text': 'ATT Fiber vs Verizon 5G Internet - Which of these 4 internet providers is your pick? https://t.co/pXncyLn9hM https://t.co/j5d1ntW2BT', 'created_at': '2022-08-08T23:15:36.000Z'}\n",
      "{'_id': ObjectId('62f28544fe960096a8b1e259'), 'id': '1556781065884143616', 'lang': 'en', 'public_metrics': {'retweet_count': 0, 'reply_count': 0, 'like_count': 0, 'quote_count': 0}, 'text': 'Teeblus Single Sim Card Tray SD Slot Holder Replacement Compatible with Samsung Galaxy S20 FE 5G 2020 Fan Edition G781U G781 [4VCHKIG]\\n\\nhttps://t.co/m0mysPciTo', 'created_at': '2022-08-08T23:15:04.000Z'}\n",
      "{'_id': ObjectId('62f28544fe960096a8b1e25a'), 'id': '1556781045478875136', 'lang': 'en', 'public_metrics': {'retweet_count': 0, 'reply_count': 0, 'like_count': 0, 'quote_count': 0}, 'text': 'USB C to USB C Charger Cable 6ft+10ft,60W PD Charging Cord for Samsung Galaxy S22/S22 Plus/S22 Ultra/S21 FE 5G/S21+/S21 Ultra [5N08VES]\\n\\nhttps://t.co/oW9AVwQo1A', 'created_at': '2022-08-08T23:14:59.000Z'}\n",
      "{'_id': ObjectId('62f28544fe960096a8b1e25b'), 'id': '1556781037740597248', 'lang': 'en', 'public_metrics': {'retweet_count': 0, 'reply_count': 0, 'like_count': 0, 'quote_count': 0}, 'text': \"@DavinDucky Motorola One 5G Ace, My old Pixel 3 XL just turned off and never came back on last week, so I decided to be done with Google hardware.\\n\\nMotorola isn't bad, especially if you like stock android and unlockable bootloaders.\", 'created_at': '2022-08-08T23:14:57.000Z'}\n",
      "{'_id': ObjectId('62f28544fe960096a8b1e25c'), 'id': '1556781007046680576', 'lang': 'en', 'public_metrics': {'retweet_count': 0, 'reply_count': 0, 'like_count': 0, 'quote_count': 0}, 'text': 'Gonine EP-5G DC Coupler EN-EL25 ENEL25 EN-EL25a ENEL25a Dummy Battery EH-5 AC Power Supply Adapter for Nikon Z fc Zfc Z50 Cam [WU0SAII]\\n\\nhttps://t.co/diCIAQD5C0', 'created_at': '2022-08-08T23:14:50.000Z'}\n",
      "{'_id': ObjectId('62f28544fe960096a8b1e25d'), 'id': '1556780829988175873', 'lang': 'en', 'public_metrics': {'retweet_count': 0, 'reply_count': 0, 'like_count': 1, 'quote_count': 0}, 'text': '@SimplyExtraoz Snapdragon 680 is not a 5g chipset', 'created_at': '2022-08-08T23:14:08.000Z'}\n",
      "{'_id': ObjectId('62f28544fe960096a8b1e25e'), 'id': '1556780706713554944', 'lang': 'en', 'public_metrics': {'retweet_count': 0, 'reply_count': 0, 'like_count': 0, 'quote_count': 0}, 'text': 'My 5G vaccine is most likely broken. \\nI seem to be offline without Phone or PC. 😥 https://t.co/edP1B3UnsH', 'created_at': '2022-08-08T23:13:38.000Z'}\n",
      "{'_id': ObjectId('62f28544fe960096a8b1e25f'), 'id': '1556780684156366848', 'lang': 'en', 'public_metrics': {'retweet_count': 0, 'reply_count': 0, 'like_count': 0, 'quote_count': 0}, 'text': '5G-ready Bharti Airtel’s profit up sixfold; sees 22.2% revenue\\xa0growth https://t.co/WRKZc1PXkt', 'created_at': '2022-08-08T23:13:33.000Z'}\n",
      "{'_id': ObjectId('62f28544fe960096a8b1e260'), 'id': '1556780561481744384', 'lang': 'en', 'public_metrics': {'retweet_count': 0, 'reply_count': 0, 'like_count': 0, 'quote_count': 0}, 'text': 'Reese report - 5G + covid https://t.co/wYxqnE6jjv', 'created_at': '2022-08-08T23:13:04.000Z'}\n",
      "{'_id': ObjectId('62f28544fe960096a8b1e261'), 'id': '1556779948140118016', 'lang': 'en', 'public_metrics': {'retweet_count': 0, 'reply_count': 0, 'like_count': 0, 'quote_count': 0}, 'text': 'WORKPRO 5 Gallon Wet/Dry Shop Vacuum with Accessories &amp; 5G Dust Collection Bag [PTLACNZ]\\n\\nhttps://t.co/TBN3t8F2sv', 'created_at': '2022-08-08T23:10:37.000Z'}\n",
      "{'_id': ObjectId('62f28544fe960096a8b1e262'), 'id': '1556779681747181573', 'lang': 'en', 'public_metrics': {'retweet_count': 1, 'reply_count': 0, 'like_count': 11, 'quote_count': 1}, 'text': \"#DEFCON in-person exclusive: Stop by our booth,  become a Privacy Hero member ($550 donation) and we'l gift you a Pixel 4a 5G flashed with our @CalyxOS privacy-focused operating system. Learn more about @CalyxOS here: https://t.co/gH06fuU9Dv\", 'created_at': '2022-08-08T23:09:34.000Z'}\n",
      "{'_id': ObjectId('62f28544fe960096a8b1e263'), 'id': '1556779605968785408', 'lang': 'en', 'public_metrics': {'retweet_count': 0, 'reply_count': 0, 'like_count': 0, 'quote_count': 0}, 'text': '@SBFC_Podcast I know, imagine playing a top striker and your former goals leader only 70min in 7 games, only to send her away and watch her get 6g in 5g. Devastating to your judgement.', 'created_at': '2022-08-08T23:09:16.000Z'}\n",
      "{'_id': ObjectId('62f28544fe960096a8b1e264'), 'id': '1556779509990526980', 'lang': 'en', 'public_metrics': {'retweet_count': 0, 'reply_count': 0, 'like_count': 0, 'quote_count': 0}, 'text': 'The mark of the beast…\\n\\nhttps://t.co/6x8clnoo2H', 'created_at': '2022-08-08T23:08:53.000Z'}\n",
      "{'_id': ObjectId('62f28544fe960096a8b1e265'), 'id': '1556779481947406336', 'lang': 'en', 'public_metrics': {'retweet_count': 0, 'reply_count': 0, 'like_count': 0, 'quote_count': 0}, 'text': '@MotorolaUS is there a way to get the 5g stylus to automatically read texts out loud?', 'created_at': '2022-08-08T23:08:46.000Z'}\n",
      "{'_id': ObjectId('62f28544fe960096a8b1e266'), 'id': '1556779343602487308', 'lang': 'en', 'public_metrics': {'retweet_count': 0, 'reply_count': 0, 'like_count': 0, 'quote_count': 0}, 'text': '@UltraLandlord Subject it to 5G🤔', 'created_at': '2022-08-08T23:08:13.000Z'}\n",
      "{'_id': ObjectId('62f28544fe960096a8b1e267'), 'id': '1556779331787149315', 'lang': 'en', 'public_metrics': {'retweet_count': 0, 'reply_count': 2, 'like_count': 0, 'quote_count': 0}, 'text': '@FLibertardian @Sarah_ThomasRL @JamesMelville Let me guess?\\n\\nEither they haven’t published the ingredients list. Or…graphene oxide. Or… if you’re really crackers something by to do with 5G and Bill Gates and controlling your body or something?', 'created_at': '2022-08-08T23:08:10.000Z'}\n",
      "{'_id': ObjectId('62f28544fe960096a8b1e268'), 'id': '1556779197246341128', 'lang': 'en', 'public_metrics': {'retweet_count': 0, 'reply_count': 0, 'like_count': 0, 'quote_count': 0}, 'text': '#5G News Via @7GTech 5g networks: The rationale for Indian companies needing their own 5G networks, Telecom News, ET Telecom https://t.co/5bFmsjVio0, see more https://t.co/jo3q1pfSzq', 'created_at': '2022-08-08T23:07:38.000Z'}\n",
      "{'_id': ObjectId('62f28544fe960096a8b1e269'), 'id': '1556779196042592257', 'lang': 'en', 'public_metrics': {'retweet_count': 0, 'reply_count': 0, 'like_count': 0, 'quote_count': 1}, 'text': '#5G @rvp @7GTech @5GAIoT @C4ISRT @EMF5G  5g networks: The rationale for Indian companies needing their own 5G networks, Telecom News, ET Telecom https://t.co/gQHiQbiORe, see more https://t.co/hpN2zqa3iX', 'created_at': '2022-08-08T23:07:38.000Z'}\n",
      "{'_id': ObjectId('62f28544fe960096a8b1e26a'), 'id': '1556779054115725313', 'lang': 'en', 'public_metrics': {'retweet_count': 0, 'reply_count': 0, 'like_count': 0, 'quote_count': 0}, 'text': \"@stetsondoggett I don't recall you discussing in your channel, but I just noticed a change in at&amp;t's annual prepaid plan. Previously it was 8GB / month. Now that same $300 plan buys 16 GB of high speed data. That seems a great deal, though it looks like there's no 5G. https://t.co/u0Yah69dS3\", 'created_at': '2022-08-08T23:07:04.000Z'}\n",
      "{'_id': ObjectId('62f28544fe960096a8b1e26b'), 'id': '1556778987531259905', 'lang': 'en', 'public_metrics': {'retweet_count': 0, 'reply_count': 0, 'like_count': 0, 'quote_count': 0}, 'text': '5G is a lie', 'created_at': '2022-08-08T23:06:48.000Z'}\n",
      "{'_id': ObjectId('62f28544fe960096a8b1e26c'), 'id': '1556778817401782274', 'lang': 'en', 'public_metrics': {'retweet_count': 0, 'reply_count': 0, 'like_count': 0, 'quote_count': 0}, 'text': '#deal #sale #discount #shopping #coupon #savings #offer  #promotion #NOW: 920.27€ 40% de DESCUENTO€_Global ROM ASUS ROG Phone 6 Multi-Language Snapdragon 8+Gen 1 6000mAh Battery 165Hz AMOLED ROG 6 5G Game Phone Google Play Store URL:https://t.co/CO2TrYUObD https://t.co/XPDJNg9F86', 'created_at': '2022-08-08T23:06:08.000Z'}\n",
      "{'_id': ObjectId('62f28544fe960096a8b1e26d'), 'id': '1556778709767671808', 'lang': 'en', 'public_metrics': {'retweet_count': 0, 'reply_count': 0, 'like_count': 0, 'quote_count': 0}, 'text': 'Retweet selected by the https://t.co/kmOCQTFIJb team |  Samsung Galaxy Z Fold2 5G ad got out a little early #chairman https://t.co/odE7AaDU8P https://t.co/44lAq1R7Y8', 'created_at': '2022-08-08T23:05:42.000Z'}\n",
      "{'_id': ObjectId('62f28544fe960096a8b1e26e'), 'id': '1556778588854272002', 'lang': 'en', 'public_metrics': {'retweet_count': 1, 'reply_count': 0, 'like_count': 0, 'quote_count': 0}, 'text': 'Get excited for this in-person @VMwareExplore session to uncover the power of an open and programmable #RAN! \\n\\nHear from best-in-class innovators including @cellwize, @Cohere_4G_5G, @AirHopComm and @PolteCorp: https://t.co/CjYgWAp8Gt https://t.co/0zOKPVRKUB', 'created_at': '2022-08-08T23:05:13.000Z'}\n",
      "{'_id': ObjectId('62f28544fe960096a8b1e26f'), 'id': '1556778559326326784', 'lang': 'en', 'public_metrics': {'retweet_count': 0, 'reply_count': 0, 'like_count': 0, 'quote_count': 0}, 'text': 'Samsung Galaxy S22 Ultra 5G Factory Unlocked 256GB SM-S908U1 Phantom Black (Renewed) #Amazon #ad 🍻 👇🏼\\n\\n8K SUPER STEADY VIDEO: Shoot videos that rival how epic your life is with stunning 8K recording, the highest recording resolution available on a...\\n\\nhttps://t.co/imQWUUsVDl', 'created_at': '2022-08-08T23:05:06.000Z'}\n",
      "{'_id': ObjectId('62f28544fe960096a8b1e270'), 'id': '1556778559280136192', 'lang': 'en', 'public_metrics': {'retweet_count': 0, 'reply_count': 0, 'like_count': 0, 'quote_count': 0}, 'text': 'Samsung Galaxy S22 Ultra 5G Factory Unlocked 256GB SM-S908U1 Phantom Black (Renewed) #Amazon #ad 🍻 👇🏼\\n\\n• Refurb and Warehouse Deals 👍 \\n\\nhttps://t.co/Y3ST8eeIMH', 'created_at': '2022-08-08T23:05:06.000Z'}\n",
      "{'_id': ObjectId('62f28544fe960096a8b1e271'), 'id': '1556778544658894849', 'lang': 'en', 'public_metrics': {'retweet_count': 0, 'reply_count': 0, 'like_count': 2, 'quote_count': 0}, 'text': '@twits5_0 @jenshirt @nicojellic @hannibalmoot @AbranchesSimona They spray us like the bugs, they poison our water, food, with their medication, they target us with 5G microwave next 6G! The war upon humanity is going on for decades! \\nWe need to stop them all and forever…', 'created_at': '2022-08-08T23:05:03.000Z'}\n",
      "{'_id': ObjectId('62f28544fe960096a8b1e272'), 'id': '1556778543174111232', 'lang': 'en', 'public_metrics': {'retweet_count': 0, 'reply_count': 0, 'like_count': 1, 'quote_count': 0}, 'text': 'Samsung M32 5G seems like a fairly good phone.', 'created_at': '2022-08-08T23:05:02.000Z'}\n",
      "{'_id': ObjectId('62f28544fe960096a8b1e273'), 'id': '1556777876560773123', 'lang': 'en', 'public_metrics': {'retweet_count': 1, 'reply_count': 0, 'like_count': 0, 'quote_count': 0}, 'text': 'Bill Drops a Digital Twin \\nWelcome to #IoT Coffee Talk ☕️ #96\\xa0where we chat about #Digital #IIoT #Automation #DigitalTwins #Edge #IoTPL #IoTCL #Cloud #DigitalTransformation #5G #AI #Data #Industry40 &amp; #Sustainability over a cup of coffee.\\n\\nGrab a https://t.co/D4RtPHaoWA', 'created_at': '2022-08-08T23:02:23.000Z'}\n",
      "{'_id': ObjectId('62f28544fe960096a8b1e274'), 'id': '1556777875533172741', 'lang': 'en', 'public_metrics': {'retweet_count': 0, 'reply_count': 0, 'like_count': 0, 'quote_count': 0}, 'text': '5G Explained \\nDigital Insights Podcast🎙️10\\n\\nThe introduction of #5G brings faster speeds, significantly more capacity, mobile edge computing, and lower latency to the world of smartphones and cellular IoT devices. The use of different wireless https://t.co/ATONhzRzmN', 'created_at': '2022-08-08T23:02:23.000Z'}\n",
      "{'_id': ObjectId('62f28544fe960096a8b1e275'), 'id': '1556777794146893824', 'lang': 'en', 'public_metrics': {'retweet_count': 0, 'reply_count': 0, 'like_count': 0, 'quote_count': 0}, 'text': 'realme GT NEO3 5G Mobile Phone 80/150W Super Charge Dimensity 8100 Smartphone 120HZ AMOLED Screen4500mAh NFC Game Cellphone: https://t.co/NaSjbd3Y52 \\n\\n#Smartphone #mobilephone #mobile #cellphone #Game #Smartphones #realme #NewYork #Miami #London #Montreal #Trending #trend #Luxury https://t.co/9XheZUAlhi', 'created_at': '2022-08-08T23:02:04.000Z'}\n",
      "{'_id': ObjectId('62f28544fe960096a8b1e276'), 'id': '1556777727243558913', 'lang': 'en', 'public_metrics': {'retweet_count': 0, 'reply_count': 0, 'like_count': 0, 'quote_count': 0}, 'text': 'Intracom Telecom Delivers its mmWave 5G FWA Platform to Peoples Wireless https://t.co/TvZX5NdRbL', 'created_at': '2022-08-08T23:01:48.000Z'}\n",
      "{'_id': ObjectId('62f28544fe960096a8b1e277'), 'id': '1556777680493809666', 'lang': 'en', 'public_metrics': {'retweet_count': 0, 'reply_count': 0, 'like_count': 0, 'quote_count': 0}, 'text': '@FotoNugget Na 5G network 😂😂', 'created_at': '2022-08-08T23:01:37.000Z'}\n",
      "{'_id': ObjectId('62f28544fe960096a8b1e278'), 'id': '1556777284798930944', 'lang': 'en', 'public_metrics': {'retweet_count': 0, 'reply_count': 0, 'like_count': 0, 'quote_count': 0}, 'text': 'I retrieve all Hacked Snapchat inbox now for guide on how to recover your Account\\n#hacking #snapchatdown #5G #icloud #snapchat', 'created_at': '2022-08-08T23:00:02.000Z'}\n",
      "{'_id': ObjectId('62f28544fe960096a8b1e279'), 'id': '1556777283188318211', 'lang': 'en', 'public_metrics': {'retweet_count': 5, 'reply_count': 0, 'like_count': 4, 'quote_count': 0}, 'text': 'BUY EDU EMAILS - New/Old/Outlook Based 100% Verified USA Accounts.\\nhttps://t.co/xtwoBQkJgX\\n\\n#MachineLearning #DataScience #Python  #100DaysOfCode #flutter #javascript #Serverless #CyberSecurity #topsmmarket #tech #DDoS #DeepLearning #fintech #COVID19 #RPA #5G #cryptocurrency', 'created_at': '2022-08-08T23:00:02.000Z'}\n",
      "{'_id': ObjectId('62f28544fe960096a8b1e27a'), 'id': '1556777276116590592', 'lang': 'en', 'public_metrics': {'retweet_count': 0, 'reply_count': 0, 'like_count': 1, 'quote_count': 0}, 'text': 'Know our training offer 2022. Visit our Blog and download it. \\n\\n#5g #training \\nhttps://t.co/slPjF2gzic', 'created_at': '2022-08-08T23:00:00.000Z'}\n"
     ]
    }
   ],
   "source": [
    "for doc in keywords.find():\n",
    "    print(doc)"
   ]
  },
  {
   "cell_type": "code",
   "execution_count": 16,
   "id": "danish-booking",
   "metadata": {},
   "outputs": [
    {
     "data": {
      "text/plain": [
       "69"
      ]
     },
     "execution_count": 16,
     "metadata": {},
     "output_type": "execute_result"
    }
   ],
   "source": [
    "# total number of documents\n",
    "\n",
    "keywords.count_documents({})"
   ]
  },
  {
   "cell_type": "code",
   "execution_count": 22,
   "id": "assigned-mainstream",
   "metadata": {},
   "outputs": [
    {
     "data": {
      "text/plain": [
       "'text_text'"
      ]
     },
     "execution_count": 22,
     "metadata": {},
     "output_type": "execute_result"
    }
   ],
   "source": [
    "# create text index to perform $text queries\n",
    "# https://stackoverflow.com/questions/33541290/how-can-i-create-an-index-with-pymongo\n",
    "# https://pymongo.readthedocs.io/en/stable/api/pymongo/collection.html#pymongo.collection.Collection.create_index\n",
    "\n",
    "keywords.create_index([('text', pymongo.TEXT)])"
   ]
  },
  {
   "cell_type": "code",
   "execution_count": 23,
   "id": "dutch-being",
   "metadata": {},
   "outputs": [
    {
     "name": "stdout",
     "output_type": "stream",
     "text": [
      "@VodafoneOMN Please let me know if any vacancy available in Vodafone oman family\n",
      "The TL top make ass ass Ei but Vodafone no dey make adey watch am well oh💔🤦🏽‍♂️.\n",
      "@Simondoestweets Hmm, am not familiar with Fritzbox 😕what is the model of fritzbox and Vodafone modem? Am assuming it's FTTH? Which device dishes out DHCP addresses?\n",
      "#Konekt on all networks today! 🤩 #MakeTheSwitch to Vodafone and take advantage of our new #WantokKombo plans!! \n",
      "\n",
      "#AllNetworkPlans #MakeTheSwitch #TogetherWeCan #VodafonePNG https://t.co/K99JXI01hY\n",
      "@t0mm13b It's the Vodafone Gigabox https://t.co/8M8a6c52PQ and this is the fritz box model https://t.co/YNPkW0FR7V\n",
      "\n",
      "It's FTTC for the minute, the main device hands out the DHCP which is the VF device\n",
      "\n",
      " --> 5 documents in total\n"
     ]
    }
   ],
   "source": [
    "cursor = keywords.find({\"$text\": {\"$search\": \"vodafone\"}}, {\"text\": 1, '_id': 0})\n",
    "\n",
    "i=0\n",
    "\n",
    "for x in cursor:\n",
    "    i+=1\n",
    "    print(x['text'])\n",
    "    \n",
    "print('\\n --> ' + str(i) + ' documents in total')"
   ]
  },
  {
   "cell_type": "code",
   "execution_count": 24,
   "id": "developmental-grove",
   "metadata": {},
   "outputs": [
    {
     "name": "stdout",
     "output_type": "stream",
     "text": [
      "#5G News Via @7GTech 5g networks: The rationale for Indian companies needing their own 5G networks, Telecom News, ET Telecom https://t.co/5bFmsjVio0, see more https://t.co/jo3q1pfSzq\n",
      "#5G @rvp @7GTech @5GAIoT @C4ISRT @EMF5G  5g networks: The rationale for Indian companies needing their own 5G networks, Telecom News, ET Telecom https://t.co/gQHiQbiORe, see more https://t.co/hpN2zqa3iX\n",
      "Tested @enjoyGLOBE 5G here in BGC and @DITOphofficial 5G. \n",
      "\n",
      "What a surprise. https://t.co/Npw8mgiaYE\n",
      "5G Explained \n",
      "Digital Insights Podcast🎙️10\n",
      "\n",
      "The introduction of #5G brings faster speeds, significantly more capacity, mobile edge computing, and lower latency to the world of smartphones and cellular IoT devices. The use of different wireless https://t.co/ATONhzRzmN\n",
      "5G is a lie\n",
      "@FotoNugget Na 5G network 😂😂\n",
      "@SimplyExtraoz Snapdragon 680 is not a 5g chipset\n",
      "fucking wifi!!!!!!! 5G is a lie in latam!!!!\n",
      "@BlackberryXRP NYLink lol how they track your moments via 5G\n",
      "Samsung M32 5G seems like a fairly good phone.\n",
      "Reese report - 5G + covid https://t.co/wYxqnE6jjv\n",
      "@snapdragon_BRA Call Off Duty, Moto G200 5g Snapdragon 888+\n",
      "@BlackberryXRP 5G small cells keeping track of your every move\n",
      "@MotorolaUS is there a way to get the 5g stylus to automatically read texts out loud?\n",
      "Redmi 10 5G SmartPhone Has Been Launched With 50MP … https://t.co/PkZ2NWYpb3\n",
      "Redmi 10 5G SmartPhone Has Been Launched With 50MP … https://t.co/OAz6kK6TC3\n",
      "Know our training offer 2022. Visit our Blog and download it. \n",
      "\n",
      "#5g #training \n",
      "https://t.co/slPjF2gzic\n",
      "I retrieve all Hacked Snapchat inbox now for guide on how to recover your Account\n",
      "#hacking #snapchatdown #5G #icloud #snapchat\n",
      "Intracom Telecom Delivers its mmWave 5G FWA Platform to Peoples Wireless https://t.co/TvZX5NdRbL\n",
      "Vivo V25 Pro 5G Product Page Confirms Several Features https://t.co/yzswQgjbvj\n",
      "Ever since Springfield switched to 5G internet from LTE, my phone connection is hot garbage. \n",
      "Anybody else?\n",
      "My 5G vaccine is most likely broken. \n",
      "I seem to be offline without Phone or PC. 😥 https://t.co/edP1B3UnsH\n",
      "VERIZON WIRELESS | NETWORK UPDATE ‼️\n",
      "https://t.co/Romy7PSWKh ⁦@thetechxtremist⁩ \n",
      "\n",
      "#5G #LTE #VERIZON\n",
      "5G-ready Bharti Airtel’s profit up sixfold; sees 22.2% revenue growth https://t.co/WRKZc1PXkt\n",
      "OtterBox Commuter Series LITE Case for TCL 30 XE 5G - Maven Way [ORJ9AMX]\n",
      "\n",
      "https://t.co/s0oMhvSzi3\n",
      "@gemir21 @Ronny46990805 @tedcruz Right about what? Your stupid imaginary 5G network that we were supposed to receive from the vax? \n",
      "\n",
      "Stop confusing independent thinking with gullibility.\n",
      "5G Auction: Reliance Jio Submits Earnest Money Deposit Of Rs 14,000 Crore https://t.co/92GL9F3ntl\n",
      "Galaxy Z Fold3 5G\n",
      "From $699.99 Unlocked\n",
      "Samsung https://t.co/MSFHrbxKbF #ad https://t.co/e2DnfaujoY\n",
      "BareMinerals Bare Minerals Mineralixirs Eye Nourishing Oil Balm 8.5g/0.29oz [PPW6LTG]\n",
      "\n",
      "https://t.co/pfqcuSRDLc\n",
      "WORKPRO 5 Gallon Wet/Dry Shop Vacuum with Accessories &amp; 5G Dust Collection Bag [PTLACNZ]\n",
      "\n",
      "https://t.co/TBN3t8F2sv\n",
      "ATT Fiber vs Verizon 5G Internet - Which of these 4 internet providers is your pick? https://t.co/pXncyLn9hM https://t.co/j5d1ntW2BT\n",
      "MLS All-Star Skills Challenge presented by AT&amp;T 5G to feature MLS vs. LIGA MX https://t.co/48NXGmT6lA   HERE you go @sportsrage\n",
      "@rvp #RaviVisvesvarayaSharadaPrasad @rvp Public Safety Migrating to 4G and 5G Broadband  - Ericsson https://t.co/tKnVlZUMRU, see more https://t.co/TC2aBfZbJw\n",
      "@SBFC_Podcast I know, imagine playing a top striker and your former goals leader only 70min in 7 games, only to send her away and watch her get 6g in 5g. Devastating to your judgement.\n",
      "Charest working to get a Chinese tech company included in Canada's 5G network when that same company was deemed too much of a RISK TO NATIONAL SECURITY should disqualify him from any and all public offices for life!\n",
      "Check out Samsung Galaxy M23 5G [6GB RAM + 128GB ROM] at 14% off! ₱15,490.00 only! Get it on Lazada now!  https://t.co/9ik7eSQFvM\n",
      "@Xfinity  \n",
      "@xfinitysupport\n",
      " it took ~40 minute for chat agent to tell me my newly bought unlocked Galaxy A13 5G is not compatible as there is no carrier on it... and they cant do anything. Anyways, good learning for me...\n",
      "Amazon Sale On Oneplus Best OnePlus 10T 5G Phone Camera Best Oneplus Phone Under 30000 Amazon Great Freedom Festival https://t.co/BmAx473iuS\n",
      "@FLibertardian @Sarah_ThomasRL @JamesMelville Let me guess?\n",
      "\n",
      "Either they haven’t published the ingredients list. Or…graphene oxide. Or… if you’re really crackers something by to do with 5G and Bill Gates and controlling your body or something?\n",
      "Gilding Foil Flakes for Resin,YUGDRUZY 5g Metallic Foil Leaf Schabin Flakes with 2 Finger Cots and Tweezers,Imitation Metal G [0CNNLRJ]\n",
      "\n",
      "https://t.co/cjNwrOipXS\n",
      "5G, Remote Human Assist when a robot gets confused. I see this taking over short deliveries (takeaways) over the next decade. (I think they will be a tad bigger and roadworthy though) https://t.co/ZsVNiAOh9h\n",
      "Samsung Galaxy S22 Ultra 5G Factory Unlocked 256GB SM-S908U1 Phantom Black (Renewed) #Amazon #ad 🍻 👇🏼\n",
      "\n",
      "• Refurb and Warehouse Deals 👍 \n",
      "\n",
      "https://t.co/Y3ST8eeIMH\n",
      "Retweet selected by the https://t.co/kmOCQTFIJb team |  Samsung Galaxy Z Fold2 5G ad got out a little early #chairman https://t.co/odE7AaDU8P https://t.co/44lAq1R7Y8\n",
      "Teeblus Single Sim Card Tray SD Slot Holder Replacement Compatible with Samsung Galaxy S20 FE 5G 2020 Fan Edition G781U G781 [4VCHKIG]\n",
      "\n",
      "https://t.co/m0mysPciTo\n",
      "How #Fiber Connectivity Fits #Business 🏬 🏭 \n",
      "\n",
      "https://t.co/r5afyEgevP @ATTbusiness #ATTinfluencer #5G #DigitalTransformation #ICT￼ #CaseStudies #CTO #ATT #telecoms #technology #telecommunications https://t.co/zsX4PPFy7W\n",
      "#ai #ml #tech #data #technology #IoT #5G #robot #science #innovation #cloud #business #news #future\n",
      "Haus, a VC-backed apertif startup, is up for sale after Series A falls through https://t.co/nUXpvppZdP\n",
      "@twits5_0 @jenshirt @nicojellic @hannibalmoot @AbranchesSimona They spray us like the bugs, they poison our water, food, with their medication, they target us with 5G microwave next 6G! The war upon humanity is going on for decades! \n",
      "We need to stop them all and forever…\n",
      "#DEFCON in-person exclusive: Stop by our booth,  become a Privacy Hero member ($550 donation) and we'l gift you a Pixel 4a 5G flashed with our @CalyxOS privacy-focused operating system. Learn more about @CalyxOS here: https://t.co/gH06fuU9Dv\n",
      "@DavinDucky Motorola One 5G Ace, My old Pixel 3 XL just turned off and never came back on last week, so I decided to be done with Google hardware.\n",
      "\n",
      "Motorola isn't bad, especially if you like stock android and unlockable bootloaders.\n",
      "Hello @ThreeUK can’t wait until December to cancel my contract with yous, your 5G is so poor, your signal is so poor, when all my friends with @EE and @VodafoneUK have excellent connections, i’m the only one struggling because i’m the only one with yous, can’t wait to cancel\n",
      "Gonine EP-5G DC Coupler EN-EL25 ENEL25 EN-EL25a ENEL25a Dummy Battery EH-5 AC Power Supply Adapter for Nikon Z fc Zfc Z50 Cam [WU0SAII]\n",
      "\n",
      "https://t.co/diCIAQD5C0\n",
      "USB C to USB C Charger Cable 6ft+10ft,60W PD Charging Cord for Samsung Galaxy S22/S22 Plus/S22 Ultra/S21 FE 5G/S21+/S21 Ultra [5N08VES]\n",
      "\n",
      "https://t.co/oW9AVwQo1A\n",
      "BUY EDU EMAILS - New/Old/Outlook Based 100% Verified USA Accounts.\n",
      "https://t.co/xtwoBQkJgX\n",
      "\n",
      "#MachineLearning #DataScience #Python  #100DaysOfCode #flutter #javascript #Serverless #CyberSecurity #topsmmarket #tech #DDoS #DeepLearning #fintech #COVID19 #RPA #5G #cryptocurrency\n",
      "Bill Drops a Digital Twin \n",
      "Welcome to #IoT Coffee Talk ☕️ #96 where we chat about #Digital #IIoT #Automation #DigitalTwins #Edge #IoTPL #IoTCL #Cloud #DigitalTransformation #5G #AI #Data #Industry40 &amp; #Sustainability over a cup of coffee.\n",
      "\n",
      "Grab a https://t.co/D4RtPHaoWA\n",
      "@stetsondoggett I don't recall you discussing in your channel, but I just noticed a change in at&amp;t's annual prepaid plan. Previously it was 8GB / month. Now that same $300 plan buys 16 GB of high speed data. That seems a great deal, though it looks like there's no 5G. https://t.co/u0Yah69dS3\n",
      "@MentalHealerid Soft Case Glitter Transparan + Stand Holder + Lanyard Untuk Samsung Galaxy A72 A52 A32 5g 4g A12 A02 A02S A71 A51 A21S M02 M12 2021 Rp63,293 https://t.co/siNisklnwV https://t.co/VjkLtkkV20\n",
      "Drone 4K Profesional GPS 5KM Dual HD Quadcopter With Camera With 360 Obstacle Avoidance 5G WiFi VS DJI Mini Drone RC Quadcopter $40.24\n",
      "click&gt;&gt;https://t.co/OSHC4GJT5c\n",
      "#amazon #aliexpress #rt https://t.co/gFKKWqMDGd\n",
      "Samsung Galaxy S22 Ultra 5G Factory Unlocked 256GB SM-S908U1 Phantom Black (Renewed) #Amazon #ad 🍻 👇🏼\n",
      "\n",
      "8K SUPER STEADY VIDEO: Shoot videos that rival how epic your life is with stunning 8K recording, the highest recording resolution available on a...\n",
      "\n",
      "https://t.co/imQWUUsVDl\n",
      "realme GT NEO3 5G Mobile Phone 80/150W Super Charge Dimensity 8100 Smartphone 120HZ AMOLED Screen4500mAh NFC Game Cellphone: https://t.co/NaSjbd3Y52 \n",
      "\n",
      "#Smartphone #mobilephone #mobile #cellphone #Game #Smartphones #realme #NewYork #Miami #London #Montreal #Trending #trend #Luxury https://t.co/9XheZUAlhi\n",
      "#deal #sale #discount #shopping #coupon #savings #offer  #promotion #NOW: 920.27€ 40% de DESCUENTO€_Global ROM ASUS ROG Phone 6 Multi-Language Snapdragon 8+Gen 1 6000mAh Battery 165Hz AMOLED ROG 6 5G Game Phone Google Play Store URL:https://t.co/CO2TrYUObD https://t.co/XPDJNg9F86\n",
      "\n",
      " --> 60 documents in total\n"
     ]
    }
   ],
   "source": [
    "cursor = keywords.find({\"$text\": {\"$search\": \"5G\"}}, {\"text\": 1, '_id': 0})\n",
    "    \n",
    "i=0\n",
    "\n",
    "for x in cursor:\n",
    "    i+=1\n",
    "    print(x['text'])\n",
    "    \n",
    "print('\\n --> ' + str(i) + ' documents in total')"
   ]
  },
  {
   "cell_type": "code",
   "execution_count": 25,
   "id": "medical-working",
   "metadata": {},
   "outputs": [
    {
     "name": "stdout",
     "output_type": "stream",
     "text": [
      "{'Number of documents': 60}\n"
     ]
    }
   ],
   "source": [
    "cursor = keywords.aggregate([{'$match': {\"$text\": {\"$search\": \"5G\"}}}, {\"$count\": \"Number of documents\"}])\n",
    "\n",
    "for result in cursor:\n",
    "    print(result)"
   ]
  },
  {
   "cell_type": "markdown",
   "id": "supported-monaco",
   "metadata": {},
   "source": [
    "For the words 'vodafone' and '5G' we have a total of 65 documents (5 + 60). However, we saw the total number of documents we retrieved was 69.\n",
    "\n",
    "This happens because `$search` is case sensitive in MongoDB. We can use regular expressions to retrieve all the documents we are interested in."
   ]
  },
  {
   "cell_type": "code",
   "execution_count": 26,
   "id": "twelve-audience",
   "metadata": {},
   "outputs": [
    {
     "name": "stdout",
     "output_type": "stream",
     "text": [
      "@VodafoneOMN Please let me know if any vacancy available in Vodafone oman family\n",
      "The TL top make ass ass Ei but Vodafone no dey make adey watch am well oh💔🤦🏽‍♂️.\n",
      "@t0mm13b It's the Vodafone Gigabox https://t.co/8M8a6c52PQ and this is the fritz box model https://t.co/YNPkW0FR7V\n",
      "\n",
      "It's FTTC for the minute, the main device hands out the DHCP which is the VF device\n",
      "#Konekt on all networks today! 🤩 #MakeTheSwitch to Vodafone and take advantage of our new #WantokKombo plans!! \n",
      "\n",
      "#AllNetworkPlans #MakeTheSwitch #TogetherWeCan #VodafonePNG https://t.co/K99JXI01hY\n",
      "@Simondoestweets Hmm, am not familiar with Fritzbox 😕what is the model of fritzbox and Vodafone modem? Am assuming it's FTTH? Which device dishes out DHCP addresses?\n",
      "Hello @ThreeUK can’t wait until December to cancel my contract with yous, your 5G is so poor, your signal is so poor, when all my friends with @EE and @VodafoneUK have excellent connections, i’m the only one struggling because i’m the only one with yous, can’t wait to cancel\n",
      "\n",
      " --> 6 documents in total\n"
     ]
    }
   ],
   "source": [
    "my_query = {\"text\": {\"$regex\": \"(V|v)odafone\"}}\n",
    "\n",
    "cursor = keywords.find(my_query)\n",
    "\n",
    "i=0\n",
    "\n",
    "for x in cursor:\n",
    "    i+=1\n",
    "    print(x['text'])\n",
    "    \n",
    "print('\\n --> ' + str(i) + ' documents in total')"
   ]
  },
  {
   "cell_type": "code",
   "execution_count": 27,
   "id": "enormous-southwest",
   "metadata": {},
   "outputs": [
    {
     "name": "stdout",
     "output_type": "stream",
     "text": [
      "5G Auction: Reliance Jio Submits Earnest Money Deposit Of Rs 14,000 Crore https://t.co/92GL9F3ntl\n",
      "Hello @ThreeUK can’t wait until December to cancel my contract with yous, your 5G is so poor, your signal is so poor, when all my friends with @EE and @VodafoneUK have excellent connections, i’m the only one struggling because i’m the only one with yous, can’t wait to cancel\n",
      "@MentalHealerid Soft Case Glitter Transparan + Stand Holder + Lanyard Untuk Samsung Galaxy A72 A52 A32 5g 4g A12 A02 A02S A71 A51 A21S M02 M12 2021 Rp63,293 https://t.co/siNisklnwV https://t.co/VjkLtkkV20\n",
      "@BlackberryXRP 5G small cells keeping track of your every move\n",
      "Tested @enjoyGLOBE 5G here in BGC and @DITOphofficial 5G. \n",
      "\n",
      "What a surprise. https://t.co/Npw8mgiaYE\n",
      "Amazon Sale On Oneplus Best OnePlus 10T 5G Phone Camera Best Oneplus Phone Under 30000 Amazon Great Freedom Festival https://t.co/BmAx473iuS\n",
      "@Xfinity  \n",
      "@xfinitysupport\n",
      " it took ~40 minute for chat agent to tell me my newly bought unlocked Galaxy A13 5G is not compatible as there is no carrier on it... and they cant do anything. Anyways, good learning for me...\n",
      "#ai #ml #tech #data #technology #IoT #5G #robot #science #innovation #cloud #business #news #future\n",
      "Haus, a VC-backed apertif startup, is up for sale after Series A falls through https://t.co/nUXpvppZdP\n",
      "@BlackberryXRP NYLink lol how they track your moments via 5G\n",
      "@snapdragon_BRA Call Off Duty, Moto G200 5g Snapdragon 888+\n",
      "Redmi 10 5G SmartPhone Has Been Launched With 50MP … https://t.co/OAz6kK6TC3\n",
      "Redmi 10 5G SmartPhone Has Been Launched With 50MP … https://t.co/PkZ2NWYpb3\n",
      "@rvp #RaviVisvesvarayaSharadaPrasad @rvp Public Safety Migrating to 4G and 5G Broadband  - Ericsson https://t.co/tKnVlZUMRU, see more https://t.co/TC2aBfZbJw\n",
      "VERIZON WIRELESS | NETWORK UPDATE ‼️\n",
      "https://t.co/Romy7PSWKh ⁦@thetechxtremist⁩ \n",
      "\n",
      "#5G #LTE #VERIZON\n",
      "BareMinerals Bare Minerals Mineralixirs Eye Nourishing Oil Balm 8.5g/0.29oz [PPW6LTG]\n",
      "\n",
      "https://t.co/pfqcuSRDLc\n",
      "Ever since Springfield switched to 5G internet from LTE, my phone connection is hot garbage. \n",
      "Anybody else?\n",
      "@gemir21 @Ronny46990805 @tedcruz Right about what? Your stupid imaginary 5G network that we were supposed to receive from the vax? \n",
      "\n",
      "Stop confusing independent thinking with gullibility.\n",
      "MLS All-Star Skills Challenge presented by AT&amp;T 5G to feature MLS vs. LIGA MX https://t.co/48NXGmT6lA   HERE you go @sportsrage\n",
      "How #Fiber Connectivity Fits #Business 🏬 🏭 \n",
      "\n",
      "https://t.co/r5afyEgevP @ATTbusiness #ATTinfluencer #5G #DigitalTransformation #ICT￼ #CaseStudies #CTO #ATT #telecoms #technology #telecommunications https://t.co/zsX4PPFy7W\n",
      "Gilding Foil Flakes for Resin,YUGDRUZY 5g Metallic Foil Leaf Schabin Flakes with 2 Finger Cots and Tweezers,Imitation Metal G [0CNNLRJ]\n",
      "\n",
      "https://t.co/cjNwrOipXS\n",
      "fucking wifi!!!!!!! 5G is a lie in latam!!!!\n",
      "Galaxy Z Fold3 5G\n",
      "From $699.99 Unlocked\n",
      "Samsung https://t.co/MSFHrbxKbF #ad https://t.co/e2DnfaujoY\n",
      "Vivo V25 Pro 5G Product Page Confirms Several Features https://t.co/yzswQgjbvj\n",
      "5G, Remote Human Assist when a robot gets confused. I see this taking over short deliveries (takeaways) over the next decade. (I think they will be a tad bigger and roadworthy though) https://t.co/ZsVNiAOh9h\n",
      "@RaashidRaja1 @rohan10022000 @Deeplearning_5G @pakistan_untold You don't get it? Hamaz rocket malfunctioned and hit their own people killing 5 children. Anyone can understand which side Allah is leaning towards.\n",
      "Drone 4K Profesional GPS 5KM Dual HD Quadcopter With Camera With 360 Obstacle Avoidance 5G WiFi VS DJI Mini Drone RC Quadcopter $40.24\n",
      "click&gt;&gt;https://t.co/OSHC4GJT5c\n",
      "#amazon #aliexpress #rt https://t.co/gFKKWqMDGd\n",
      "Check out Samsung Galaxy M23 5G [6GB RAM + 128GB ROM] at 14% off! ₱15,490.00 only! Get it on Lazada now!  https://t.co/9ik7eSQFvM\n",
      "Charest working to get a Chinese tech company included in Canada's 5G network when that same company was deemed too much of a RISK TO NATIONAL SECURITY should disqualify him from any and all public offices for life!\n",
      "OtterBox Commuter Series LITE Case for TCL 30 XE 5G - Maven Way [ORJ9AMX]\n",
      "\n",
      "https://t.co/s0oMhvSzi3\n",
      "ATT Fiber vs Verizon 5G Internet - Which of these 4 internet providers is your pick? https://t.co/pXncyLn9hM https://t.co/j5d1ntW2BT\n",
      "Teeblus Single Sim Card Tray SD Slot Holder Replacement Compatible with Samsung Galaxy S20 FE 5G 2020 Fan Edition G781U G781 [4VCHKIG]\n",
      "\n",
      "https://t.co/m0mysPciTo\n",
      "USB C to USB C Charger Cable 6ft+10ft,60W PD Charging Cord for Samsung Galaxy S22/S22 Plus/S22 Ultra/S21 FE 5G/S21+/S21 Ultra [5N08VES]\n",
      "\n",
      "https://t.co/oW9AVwQo1A\n",
      "@DavinDucky Motorola One 5G Ace, My old Pixel 3 XL just turned off and never came back on last week, so I decided to be done with Google hardware.\n",
      "\n",
      "Motorola isn't bad, especially if you like stock android and unlockable bootloaders.\n",
      "Gonine EP-5G DC Coupler EN-EL25 ENEL25 EN-EL25a ENEL25a Dummy Battery EH-5 AC Power Supply Adapter for Nikon Z fc Zfc Z50 Cam [WU0SAII]\n",
      "\n",
      "https://t.co/diCIAQD5C0\n",
      "@SimplyExtraoz Snapdragon 680 is not a 5g chipset\n",
      "My 5G vaccine is most likely broken. \n",
      "I seem to be offline without Phone or PC. 😥 https://t.co/edP1B3UnsH\n",
      "5G-ready Bharti Airtel’s profit up sixfold; sees 22.2% revenue growth https://t.co/WRKZc1PXkt\n",
      "Reese report - 5G + covid https://t.co/wYxqnE6jjv\n",
      "WORKPRO 5 Gallon Wet/Dry Shop Vacuum with Accessories &amp; 5G Dust Collection Bag [PTLACNZ]\n",
      "\n",
      "https://t.co/TBN3t8F2sv\n",
      "#DEFCON in-person exclusive: Stop by our booth,  become a Privacy Hero member ($550 donation) and we'l gift you a Pixel 4a 5G flashed with our @CalyxOS privacy-focused operating system. Learn more about @CalyxOS here: https://t.co/gH06fuU9Dv\n",
      "@SBFC_Podcast I know, imagine playing a top striker and your former goals leader only 70min in 7 games, only to send her away and watch her get 6g in 5g. Devastating to your judgement.\n",
      "@MotorolaUS is there a way to get the 5g stylus to automatically read texts out loud?\n",
      "@UltraLandlord Subject it to 5G🤔\n",
      "@FLibertardian @Sarah_ThomasRL @JamesMelville Let me guess?\n",
      "\n",
      "Either they haven’t published the ingredients list. Or…graphene oxide. Or… if you’re really crackers something by to do with 5G and Bill Gates and controlling your body or something?\n",
      "#5G News Via @7GTech 5g networks: The rationale for Indian companies needing their own 5G networks, Telecom News, ET Telecom https://t.co/5bFmsjVio0, see more https://t.co/jo3q1pfSzq\n",
      "#5G @rvp @7GTech @5GAIoT @C4ISRT @EMF5G  5g networks: The rationale for Indian companies needing their own 5G networks, Telecom News, ET Telecom https://t.co/gQHiQbiORe, see more https://t.co/hpN2zqa3iX\n",
      "@stetsondoggett I don't recall you discussing in your channel, but I just noticed a change in at&amp;t's annual prepaid plan. Previously it was 8GB / month. Now that same $300 plan buys 16 GB of high speed data. That seems a great deal, though it looks like there's no 5G. https://t.co/u0Yah69dS3\n",
      "5G is a lie\n",
      "#deal #sale #discount #shopping #coupon #savings #offer  #promotion #NOW: 920.27€ 40% de DESCUENTO€_Global ROM ASUS ROG Phone 6 Multi-Language Snapdragon 8+Gen 1 6000mAh Battery 165Hz AMOLED ROG 6 5G Game Phone Google Play Store URL:https://t.co/CO2TrYUObD https://t.co/XPDJNg9F86\n",
      "Retweet selected by the https://t.co/kmOCQTFIJb team |  Samsung Galaxy Z Fold2 5G ad got out a little early #chairman https://t.co/odE7AaDU8P https://t.co/44lAq1R7Y8\n",
      "Get excited for this in-person @VMwareExplore session to uncover the power of an open and programmable #RAN! \n",
      "\n",
      "Hear from best-in-class innovators including @cellwize, @Cohere_4G_5G, @AirHopComm and @PolteCorp: https://t.co/CjYgWAp8Gt https://t.co/0zOKPVRKUB\n",
      "Samsung Galaxy S22 Ultra 5G Factory Unlocked 256GB SM-S908U1 Phantom Black (Renewed) #Amazon #ad 🍻 👇🏼\n",
      "\n",
      "8K SUPER STEADY VIDEO: Shoot videos that rival how epic your life is with stunning 8K recording, the highest recording resolution available on a...\n",
      "\n",
      "https://t.co/imQWUUsVDl\n",
      "Samsung Galaxy S22 Ultra 5G Factory Unlocked 256GB SM-S908U1 Phantom Black (Renewed) #Amazon #ad 🍻 👇🏼\n",
      "\n",
      "• Refurb and Warehouse Deals 👍 \n",
      "\n",
      "https://t.co/Y3ST8eeIMH\n",
      "@twits5_0 @jenshirt @nicojellic @hannibalmoot @AbranchesSimona They spray us like the bugs, they poison our water, food, with their medication, they target us with 5G microwave next 6G! The war upon humanity is going on for decades! \n",
      "We need to stop them all and forever…\n",
      "Samsung M32 5G seems like a fairly good phone.\n",
      "Bill Drops a Digital Twin \n",
      "Welcome to #IoT Coffee Talk ☕️ #96 where we chat about #Digital #IIoT #Automation #DigitalTwins #Edge #IoTPL #IoTCL #Cloud #DigitalTransformation #5G #AI #Data #Industry40 &amp; #Sustainability over a cup of coffee.\n",
      "\n",
      "Grab a https://t.co/D4RtPHaoWA\n",
      "5G Explained \n",
      "Digital Insights Podcast🎙️10\n",
      "\n",
      "The introduction of #5G brings faster speeds, significantly more capacity, mobile edge computing, and lower latency to the world of smartphones and cellular IoT devices. The use of different wireless https://t.co/ATONhzRzmN\n",
      "realme GT NEO3 5G Mobile Phone 80/150W Super Charge Dimensity 8100 Smartphone 120HZ AMOLED Screen4500mAh NFC Game Cellphone: https://t.co/NaSjbd3Y52 \n",
      "\n",
      "#Smartphone #mobilephone #mobile #cellphone #Game #Smartphones #realme #NewYork #Miami #London #Montreal #Trending #trend #Luxury https://t.co/9XheZUAlhi\n",
      "Intracom Telecom Delivers its mmWave 5G FWA Platform to Peoples Wireless https://t.co/TvZX5NdRbL\n",
      "@FotoNugget Na 5G network 😂😂\n",
      "I retrieve all Hacked Snapchat inbox now for guide on how to recover your Account\n",
      "#hacking #snapchatdown #5G #icloud #snapchat\n",
      "BUY EDU EMAILS - New/Old/Outlook Based 100% Verified USA Accounts.\n",
      "https://t.co/xtwoBQkJgX\n",
      "\n",
      "#MachineLearning #DataScience #Python  #100DaysOfCode #flutter #javascript #Serverless #CyberSecurity #topsmmarket #tech #DDoS #DeepLearning #fintech #COVID19 #RPA #5G #cryptocurrency\n",
      "Know our training offer 2022. Visit our Blog and download it. \n",
      "\n",
      "#5g #training \n",
      "https://t.co/slPjF2gzic\n",
      "\n",
      " --> 63 documents in total\n"
     ]
    }
   ],
   "source": [
    "my_query = {\"text\": {\"$regex\": \"5(G|g)\"}}\n",
    "\n",
    "cursor = keywords.find(my_query)\n",
    "\n",
    "i=0\n",
    "\n",
    "for x in cursor:\n",
    "    i+=1\n",
    "    print(x['text'])\n",
    "    \n",
    "print('\\n --> ' + str(i) + ' documents in total')"
   ]
  },
  {
   "cell_type": "markdown",
   "id": "genuine-dragon",
   "metadata": {},
   "source": [
    "In alternative, we can also use Python's re module."
   ]
  },
  {
   "cell_type": "code",
   "execution_count": 28,
   "id": "surface-recipient",
   "metadata": {},
   "outputs": [],
   "source": [
    "import re"
   ]
  },
  {
   "cell_type": "code",
   "execution_count": 29,
   "id": "occasional-montgomery",
   "metadata": {},
   "outputs": [
    {
     "name": "stdout",
     "output_type": "stream",
     "text": [
      "@VodafoneOMN Please let me know if any vacancy available in Vodafone oman family\n",
      "The TL top make ass ass Ei but Vodafone no dey make adey watch am well oh💔🤦🏽‍♂️.\n",
      "@t0mm13b It's the Vodafone Gigabox https://t.co/8M8a6c52PQ and this is the fritz box model https://t.co/YNPkW0FR7V\n",
      "\n",
      "It's FTTC for the minute, the main device hands out the DHCP which is the VF device\n",
      "#Konekt on all networks today! 🤩 #MakeTheSwitch to Vodafone and take advantage of our new #WantokKombo plans!! \n",
      "\n",
      "#AllNetworkPlans #MakeTheSwitch #TogetherWeCan #VodafonePNG https://t.co/K99JXI01hY\n",
      "@Simondoestweets Hmm, am not familiar with Fritzbox 😕what is the model of fritzbox and Vodafone modem? Am assuming it's FTTH? Which device dishes out DHCP addresses?\n",
      "Hello @ThreeUK can’t wait until December to cancel my contract with yous, your 5G is so poor, your signal is so poor, when all my friends with @EE and @VodafoneUK have excellent connections, i’m the only one struggling because i’m the only one with yous, can’t wait to cancel\n",
      "\n",
      " --> 6 documents in total\n"
     ]
    }
   ],
   "source": [
    "my_query = {\"text\": {\"$regex\": re.compile('vodafone', re.IGNORECASE)}}\n",
    "\n",
    "cursor = keywords.find(my_query)\n",
    "\n",
    "i=0\n",
    "\n",
    "for x in cursor:\n",
    "    i+=1\n",
    "    print(x['text'])\n",
    "    \n",
    "print('\\n --> ' + str(i) + ' documents in total')"
   ]
  },
  {
   "cell_type": "code",
   "execution_count": 30,
   "id": "sunset-ground",
   "metadata": {},
   "outputs": [
    {
     "name": "stdout",
     "output_type": "stream",
     "text": [
      "5G Auction: Reliance Jio Submits Earnest Money Deposit Of Rs 14,000 Crore https://t.co/92GL9F3ntl\n",
      "Hello @ThreeUK can’t wait until December to cancel my contract with yous, your 5G is so poor, your signal is so poor, when all my friends with @EE and @VodafoneUK have excellent connections, i’m the only one struggling because i’m the only one with yous, can’t wait to cancel\n",
      "@MentalHealerid Soft Case Glitter Transparan + Stand Holder + Lanyard Untuk Samsung Galaxy A72 A52 A32 5g 4g A12 A02 A02S A71 A51 A21S M02 M12 2021 Rp63,293 https://t.co/siNisklnwV https://t.co/VjkLtkkV20\n",
      "@BlackberryXRP 5G small cells keeping track of your every move\n",
      "Tested @enjoyGLOBE 5G here in BGC and @DITOphofficial 5G. \n",
      "\n",
      "What a surprise. https://t.co/Npw8mgiaYE\n",
      "Amazon Sale On Oneplus Best OnePlus 10T 5G Phone Camera Best Oneplus Phone Under 30000 Amazon Great Freedom Festival https://t.co/BmAx473iuS\n",
      "@Xfinity  \n",
      "@xfinitysupport\n",
      " it took ~40 minute for chat agent to tell me my newly bought unlocked Galaxy A13 5G is not compatible as there is no carrier on it... and they cant do anything. Anyways, good learning for me...\n",
      "#ai #ml #tech #data #technology #IoT #5G #robot #science #innovation #cloud #business #news #future\n",
      "Haus, a VC-backed apertif startup, is up for sale after Series A falls through https://t.co/nUXpvppZdP\n",
      "@BlackberryXRP NYLink lol how they track your moments via 5G\n",
      "@snapdragon_BRA Call Off Duty, Moto G200 5g Snapdragon 888+\n",
      "Redmi 10 5G SmartPhone Has Been Launched With 50MP … https://t.co/OAz6kK6TC3\n",
      "Redmi 10 5G SmartPhone Has Been Launched With 50MP … https://t.co/PkZ2NWYpb3\n",
      "@rvp #RaviVisvesvarayaSharadaPrasad @rvp Public Safety Migrating to 4G and 5G Broadband  - Ericsson https://t.co/tKnVlZUMRU, see more https://t.co/TC2aBfZbJw\n",
      "VERIZON WIRELESS | NETWORK UPDATE ‼️\n",
      "https://t.co/Romy7PSWKh ⁦@thetechxtremist⁩ \n",
      "\n",
      "#5G #LTE #VERIZON\n",
      "BareMinerals Bare Minerals Mineralixirs Eye Nourishing Oil Balm 8.5g/0.29oz [PPW6LTG]\n",
      "\n",
      "https://t.co/pfqcuSRDLc\n",
      "Ever since Springfield switched to 5G internet from LTE, my phone connection is hot garbage. \n",
      "Anybody else?\n",
      "@gemir21 @Ronny46990805 @tedcruz Right about what? Your stupid imaginary 5G network that we were supposed to receive from the vax? \n",
      "\n",
      "Stop confusing independent thinking with gullibility.\n",
      "MLS All-Star Skills Challenge presented by AT&amp;T 5G to feature MLS vs. LIGA MX https://t.co/48NXGmT6lA   HERE you go @sportsrage\n",
      "How #Fiber Connectivity Fits #Business 🏬 🏭 \n",
      "\n",
      "https://t.co/r5afyEgevP @ATTbusiness #ATTinfluencer #5G #DigitalTransformation #ICT￼ #CaseStudies #CTO #ATT #telecoms #technology #telecommunications https://t.co/zsX4PPFy7W\n",
      "Gilding Foil Flakes for Resin,YUGDRUZY 5g Metallic Foil Leaf Schabin Flakes with 2 Finger Cots and Tweezers,Imitation Metal G [0CNNLRJ]\n",
      "\n",
      "https://t.co/cjNwrOipXS\n",
      "fucking wifi!!!!!!! 5G is a lie in latam!!!!\n",
      "Galaxy Z Fold3 5G\n",
      "From $699.99 Unlocked\n",
      "Samsung https://t.co/MSFHrbxKbF #ad https://t.co/e2DnfaujoY\n",
      "Vivo V25 Pro 5G Product Page Confirms Several Features https://t.co/yzswQgjbvj\n",
      "5G, Remote Human Assist when a robot gets confused. I see this taking over short deliveries (takeaways) over the next decade. (I think they will be a tad bigger and roadworthy though) https://t.co/ZsVNiAOh9h\n",
      "@RaashidRaja1 @rohan10022000 @Deeplearning_5G @pakistan_untold You don't get it? Hamaz rocket malfunctioned and hit their own people killing 5 children. Anyone can understand which side Allah is leaning towards.\n",
      "Drone 4K Profesional GPS 5KM Dual HD Quadcopter With Camera With 360 Obstacle Avoidance 5G WiFi VS DJI Mini Drone RC Quadcopter $40.24\n",
      "click&gt;&gt;https://t.co/OSHC4GJT5c\n",
      "#amazon #aliexpress #rt https://t.co/gFKKWqMDGd\n",
      "Check out Samsung Galaxy M23 5G [6GB RAM + 128GB ROM] at 14% off! ₱15,490.00 only! Get it on Lazada now!  https://t.co/9ik7eSQFvM\n",
      "Charest working to get a Chinese tech company included in Canada's 5G network when that same company was deemed too much of a RISK TO NATIONAL SECURITY should disqualify him from any and all public offices for life!\n",
      "OtterBox Commuter Series LITE Case for TCL 30 XE 5G - Maven Way [ORJ9AMX]\n",
      "\n",
      "https://t.co/s0oMhvSzi3\n",
      "ATT Fiber vs Verizon 5G Internet - Which of these 4 internet providers is your pick? https://t.co/pXncyLn9hM https://t.co/j5d1ntW2BT\n",
      "Teeblus Single Sim Card Tray SD Slot Holder Replacement Compatible with Samsung Galaxy S20 FE 5G 2020 Fan Edition G781U G781 [4VCHKIG]\n",
      "\n",
      "https://t.co/m0mysPciTo\n",
      "USB C to USB C Charger Cable 6ft+10ft,60W PD Charging Cord for Samsung Galaxy S22/S22 Plus/S22 Ultra/S21 FE 5G/S21+/S21 Ultra [5N08VES]\n",
      "\n",
      "https://t.co/oW9AVwQo1A\n",
      "@DavinDucky Motorola One 5G Ace, My old Pixel 3 XL just turned off and never came back on last week, so I decided to be done with Google hardware.\n",
      "\n",
      "Motorola isn't bad, especially if you like stock android and unlockable bootloaders.\n",
      "Gonine EP-5G DC Coupler EN-EL25 ENEL25 EN-EL25a ENEL25a Dummy Battery EH-5 AC Power Supply Adapter for Nikon Z fc Zfc Z50 Cam [WU0SAII]\n",
      "\n",
      "https://t.co/diCIAQD5C0\n",
      "@SimplyExtraoz Snapdragon 680 is not a 5g chipset\n",
      "My 5G vaccine is most likely broken. \n",
      "I seem to be offline without Phone or PC. 😥 https://t.co/edP1B3UnsH\n",
      "5G-ready Bharti Airtel’s profit up sixfold; sees 22.2% revenue growth https://t.co/WRKZc1PXkt\n",
      "Reese report - 5G + covid https://t.co/wYxqnE6jjv\n",
      "WORKPRO 5 Gallon Wet/Dry Shop Vacuum with Accessories &amp; 5G Dust Collection Bag [PTLACNZ]\n",
      "\n",
      "https://t.co/TBN3t8F2sv\n",
      "#DEFCON in-person exclusive: Stop by our booth,  become a Privacy Hero member ($550 donation) and we'l gift you a Pixel 4a 5G flashed with our @CalyxOS privacy-focused operating system. Learn more about @CalyxOS here: https://t.co/gH06fuU9Dv\n",
      "@SBFC_Podcast I know, imagine playing a top striker and your former goals leader only 70min in 7 games, only to send her away and watch her get 6g in 5g. Devastating to your judgement.\n",
      "@MotorolaUS is there a way to get the 5g stylus to automatically read texts out loud?\n",
      "@UltraLandlord Subject it to 5G🤔\n",
      "@FLibertardian @Sarah_ThomasRL @JamesMelville Let me guess?\n",
      "\n",
      "Either they haven’t published the ingredients list. Or…graphene oxide. Or… if you’re really crackers something by to do with 5G and Bill Gates and controlling your body or something?\n",
      "#5G News Via @7GTech 5g networks: The rationale for Indian companies needing their own 5G networks, Telecom News, ET Telecom https://t.co/5bFmsjVio0, see more https://t.co/jo3q1pfSzq\n",
      "#5G @rvp @7GTech @5GAIoT @C4ISRT @EMF5G  5g networks: The rationale for Indian companies needing their own 5G networks, Telecom News, ET Telecom https://t.co/gQHiQbiORe, see more https://t.co/hpN2zqa3iX\n",
      "@stetsondoggett I don't recall you discussing in your channel, but I just noticed a change in at&amp;t's annual prepaid plan. Previously it was 8GB / month. Now that same $300 plan buys 16 GB of high speed data. That seems a great deal, though it looks like there's no 5G. https://t.co/u0Yah69dS3\n",
      "5G is a lie\n",
      "#deal #sale #discount #shopping #coupon #savings #offer  #promotion #NOW: 920.27€ 40% de DESCUENTO€_Global ROM ASUS ROG Phone 6 Multi-Language Snapdragon 8+Gen 1 6000mAh Battery 165Hz AMOLED ROG 6 5G Game Phone Google Play Store URL:https://t.co/CO2TrYUObD https://t.co/XPDJNg9F86\n",
      "Retweet selected by the https://t.co/kmOCQTFIJb team |  Samsung Galaxy Z Fold2 5G ad got out a little early #chairman https://t.co/odE7AaDU8P https://t.co/44lAq1R7Y8\n",
      "Get excited for this in-person @VMwareExplore session to uncover the power of an open and programmable #RAN! \n",
      "\n",
      "Hear from best-in-class innovators including @cellwize, @Cohere_4G_5G, @AirHopComm and @PolteCorp: https://t.co/CjYgWAp8Gt https://t.co/0zOKPVRKUB\n",
      "Samsung Galaxy S22 Ultra 5G Factory Unlocked 256GB SM-S908U1 Phantom Black (Renewed) #Amazon #ad 🍻 👇🏼\n",
      "\n",
      "8K SUPER STEADY VIDEO: Shoot videos that rival how epic your life is with stunning 8K recording, the highest recording resolution available on a...\n",
      "\n",
      "https://t.co/imQWUUsVDl\n",
      "Samsung Galaxy S22 Ultra 5G Factory Unlocked 256GB SM-S908U1 Phantom Black (Renewed) #Amazon #ad 🍻 👇🏼\n",
      "\n",
      "• Refurb and Warehouse Deals 👍 \n",
      "\n",
      "https://t.co/Y3ST8eeIMH\n",
      "@twits5_0 @jenshirt @nicojellic @hannibalmoot @AbranchesSimona They spray us like the bugs, they poison our water, food, with their medication, they target us with 5G microwave next 6G! The war upon humanity is going on for decades! \n",
      "We need to stop them all and forever…\n",
      "Samsung M32 5G seems like a fairly good phone.\n",
      "Bill Drops a Digital Twin \n",
      "Welcome to #IoT Coffee Talk ☕️ #96 where we chat about #Digital #IIoT #Automation #DigitalTwins #Edge #IoTPL #IoTCL #Cloud #DigitalTransformation #5G #AI #Data #Industry40 &amp; #Sustainability over a cup of coffee.\n",
      "\n",
      "Grab a https://t.co/D4RtPHaoWA\n",
      "5G Explained \n",
      "Digital Insights Podcast🎙️10\n",
      "\n",
      "The introduction of #5G brings faster speeds, significantly more capacity, mobile edge computing, and lower latency to the world of smartphones and cellular IoT devices. The use of different wireless https://t.co/ATONhzRzmN\n",
      "realme GT NEO3 5G Mobile Phone 80/150W Super Charge Dimensity 8100 Smartphone 120HZ AMOLED Screen4500mAh NFC Game Cellphone: https://t.co/NaSjbd3Y52 \n",
      "\n",
      "#Smartphone #mobilephone #mobile #cellphone #Game #Smartphones #realme #NewYork #Miami #London #Montreal #Trending #trend #Luxury https://t.co/9XheZUAlhi\n",
      "Intracom Telecom Delivers its mmWave 5G FWA Platform to Peoples Wireless https://t.co/TvZX5NdRbL\n",
      "@FotoNugget Na 5G network 😂😂\n",
      "I retrieve all Hacked Snapchat inbox now for guide on how to recover your Account\n",
      "#hacking #snapchatdown #5G #icloud #snapchat\n",
      "BUY EDU EMAILS - New/Old/Outlook Based 100% Verified USA Accounts.\n",
      "https://t.co/xtwoBQkJgX\n",
      "\n",
      "#MachineLearning #DataScience #Python  #100DaysOfCode #flutter #javascript #Serverless #CyberSecurity #topsmmarket #tech #DDoS #DeepLearning #fintech #COVID19 #RPA #5G #cryptocurrency\n",
      "Know our training offer 2022. Visit our Blog and download it. \n",
      "\n",
      "#5g #training \n",
      "https://t.co/slPjF2gzic\n",
      "\n",
      " --> 63 documents in total\n"
     ]
    }
   ],
   "source": [
    "my_query = {\"text\": {\"$regex\": re.compile('5g', re.IGNORECASE)}}\n",
    "\n",
    "cursor = keywords.find(my_query)\n",
    "\n",
    "i=0\n",
    "\n",
    "for x in cursor:\n",
    "    i+=1\n",
    "    print(x['text'])\n",
    "    \n",
    "print('\\n --> ' + str(i) + ' documents in total')"
   ]
  }
 ],
 "metadata": {
  "kernelspec": {
   "display_name": "Python 3",
   "language": "python",
   "name": "python3"
  },
  "language_info": {
   "codemirror_mode": {
    "name": "ipython",
    "version": 3
   },
   "file_extension": ".py",
   "mimetype": "text/x-python",
   "name": "python",
   "nbconvert_exporter": "python",
   "pygments_lexer": "ipython3",
   "version": "3.8.8"
  }
 },
 "nbformat": 4,
 "nbformat_minor": 5
}
