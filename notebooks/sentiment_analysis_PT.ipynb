{
 "cells": [
  {
   "cell_type": "markdown",
   "id": "beneficial-pixel",
   "metadata": {},
   "source": [
    "# C-More"
   ]
  },
  {
   "cell_type": "code",
   "execution_count": 1,
   "id": "filled-madison",
   "metadata": {},
   "outputs": [],
   "source": [
    "import pandas as pd\n",
    "\n",
    "from collections import Counter\n",
    "\n",
    "from nltk.tokenize import TweetTokenizer\n",
    "import string"
   ]
  },
  {
   "cell_type": "markdown",
   "id": "empty-sister",
   "metadata": {},
   "source": [
    "Our goal is to use the HuggingFace API, https://huggingface.co/docs/api-inference/quicktour, to analyse the sentiment of tweets written in Portuguese (PT). We have two options to achieve this:\n",
    "\n",
    "* get the sentiment directly from the tweets in PT\n",
    "* translate the tweets to EN and get the sentiment of the translated tweets\n",
    "\n",
    "We will start by replacing some of the most common abbreviations in social media texts with full words."
   ]
  },
  {
   "cell_type": "markdown",
   "id": "assured-glenn",
   "metadata": {},
   "source": [
    "### 1. Process text"
   ]
  },
  {
   "cell_type": "code",
   "execution_count": 2,
   "id": "decreased-sydney",
   "metadata": {},
   "outputs": [],
   "source": [
    "df = pd.read_pickle('data_galp.pkl')"
   ]
  },
  {
   "cell_type": "code",
   "execution_count": 3,
   "id": "medical-reading",
   "metadata": {},
   "outputs": [
    {
     "data": {
      "text/html": [
       "<div>\n",
       "<style scoped>\n",
       "    .dataframe tbody tr th:only-of-type {\n",
       "        vertical-align: middle;\n",
       "    }\n",
       "\n",
       "    .dataframe tbody tr th {\n",
       "        vertical-align: top;\n",
       "    }\n",
       "\n",
       "    .dataframe thead th {\n",
       "        text-align: right;\n",
       "    }\n",
       "</style>\n",
       "<table border=\"1\" class=\"dataframe\">\n",
       "  <thead>\n",
       "    <tr style=\"text-align: right;\">\n",
       "      <th></th>\n",
       "      <th>id</th>\n",
       "      <th>text</th>\n",
       "      <th>retweets</th>\n",
       "      <th>replies</th>\n",
       "      <th>likes</th>\n",
       "      <th>quotes</th>\n",
       "      <th>created_at</th>\n",
       "    </tr>\n",
       "  </thead>\n",
       "  <tbody>\n",
       "    <tr>\n",
       "      <th>0</th>\n",
       "      <td>1550250030476496900</td>\n",
       "      <td>Galp compra por 140 milhões os 25% da Titan So...</td>\n",
       "      <td>0</td>\n",
       "      <td>0</td>\n",
       "      <td>0</td>\n",
       "      <td>0</td>\n",
       "      <td>2022-07-21 22:43:04+00:00</td>\n",
       "    </tr>\n",
       "    <tr>\n",
       "      <th>1</th>\n",
       "      <td>1550246814963712001</td>\n",
       "      <td>A Galp convida portugueses a pensar fora do ca...</td>\n",
       "      <td>0</td>\n",
       "      <td>0</td>\n",
       "      <td>0</td>\n",
       "      <td>0</td>\n",
       "      <td>2022-07-21 22:30:17+00:00</td>\n",
       "    </tr>\n",
       "    <tr>\n",
       "      <th>2</th>\n",
       "      <td>1550243011350740992</td>\n",
       "      <td>Mais um ano que renovo o cartão jovem, mais um...</td>\n",
       "      <td>0</td>\n",
       "      <td>0</td>\n",
       "      <td>0</td>\n",
       "      <td>0</td>\n",
       "      <td>2022-07-21 22:15:10+00:00</td>\n",
       "    </tr>\n",
       "    <tr>\n",
       "      <th>3</th>\n",
       "      <td>1550242176407425024</td>\n",
       "      <td>@davidkirzner @LiberalNova @LiberalPT Achas? A...</td>\n",
       "      <td>0</td>\n",
       "      <td>0</td>\n",
       "      <td>0</td>\n",
       "      <td>0</td>\n",
       "      <td>2022-07-21 22:11:51+00:00</td>\n",
       "    </tr>\n",
       "    <tr>\n",
       "      <th>4</th>\n",
       "      <td>1550240739170439169</td>\n",
       "      <td>#sicnoticias Não sei! Com a França a construir...</td>\n",
       "      <td>0</td>\n",
       "      <td>0</td>\n",
       "      <td>0</td>\n",
       "      <td>0</td>\n",
       "      <td>2022-07-21 22:06:08+00:00</td>\n",
       "    </tr>\n",
       "  </tbody>\n",
       "</table>\n",
       "</div>"
      ],
      "text/plain": [
       "                    id                                               text  \\\n",
       "0  1550250030476496900  Galp compra por 140 milhões os 25% da Titan So...   \n",
       "1  1550246814963712001  A Galp convida portugueses a pensar fora do ca...   \n",
       "2  1550243011350740992  Mais um ano que renovo o cartão jovem, mais um...   \n",
       "3  1550242176407425024  @davidkirzner @LiberalNova @LiberalPT Achas? A...   \n",
       "4  1550240739170439169  #sicnoticias Não sei! Com a França a construir...   \n",
       "\n",
       "   retweets  replies  likes  quotes                created_at  \n",
       "0         0        0      0       0 2022-07-21 22:43:04+00:00  \n",
       "1         0        0      0       0 2022-07-21 22:30:17+00:00  \n",
       "2         0        0      0       0 2022-07-21 22:15:10+00:00  \n",
       "3         0        0      0       0 2022-07-21 22:11:51+00:00  \n",
       "4         0        0      0       0 2022-07-21 22:06:08+00:00  "
      ]
     },
     "execution_count": 3,
     "metadata": {},
     "output_type": "execute_result"
    }
   ],
   "source": [
    "df.head()"
   ]
  },
  {
   "cell_type": "code",
   "execution_count": 4,
   "id": "tough-activation",
   "metadata": {},
   "outputs": [
    {
     "name": "stdout",
     "output_type": "stream",
     "text": [
      "<class 'pandas.core.frame.DataFrame'>\n",
      "RangeIndex: 125 entries, 0 to 124\n",
      "Data columns (total 7 columns):\n",
      " #   Column      Non-Null Count  Dtype              \n",
      "---  ------      --------------  -----              \n",
      " 0   id          125 non-null    int64              \n",
      " 1   text        125 non-null    object             \n",
      " 2   retweets    125 non-null    int64              \n",
      " 3   replies     125 non-null    int64              \n",
      " 4   likes       125 non-null    int64              \n",
      " 5   quotes      125 non-null    int64              \n",
      " 6   created_at  125 non-null    datetime64[ns, UTC]\n",
      "dtypes: datetime64[ns, UTC](1), int64(5), object(1)\n",
      "memory usage: 7.0+ KB\n"
     ]
    }
   ],
   "source": [
    "df.info()"
   ]
  },
  {
   "cell_type": "markdown",
   "id": "molecular-stream",
   "metadata": {},
   "source": [
    "We can tokenize our texts to identify some of the most common abbreviations."
   ]
  },
  {
   "cell_type": "code",
   "execution_count": 5,
   "id": "detailed-change",
   "metadata": {},
   "outputs": [],
   "source": [
    "# tokenize text and remove punctuation\n",
    "\n",
    "def tokens_nopunct(text):\n",
    "    \n",
    "    tokens = [token for token in TweetTokenizer(reduce_len=True, strip_handles=True).tokenize(text)]\n",
    "    return [token for token in tokens if token not in string.punctuation]"
   ]
  },
  {
   "cell_type": "code",
   "execution_count": 6,
   "id": "radio-evanescence",
   "metadata": {},
   "outputs": [],
   "source": [
    "df['tokens'] = df['text'].map(tokens_nopunct)"
   ]
  },
  {
   "cell_type": "code",
   "execution_count": 7,
   "id": "presidential-kenya",
   "metadata": {},
   "outputs": [],
   "source": [
    "counter = Counter()\n",
    "\n",
    "for tokens in df['tokens']:\n",
    "    counter.update(tokens)"
   ]
  },
  {
   "cell_type": "code",
   "execution_count": 9,
   "id": "outstanding-wallpaper",
   "metadata": {},
   "outputs": [
    {
     "data": {
      "text/plain": [
       "[('a', 146),\n",
       " ('de', 97),\n",
       " ('e', 85),\n",
       " ('que', 77),\n",
       " ('o', 69),\n",
       " ('da', 63),\n",
       " ('do', 36),\n",
       " ('é', 33),\n",
       " ('em', 33),\n",
       " ('não', 29),\n",
       " ('com', 29),\n",
       " ('as', 25),\n",
       " ('A', 24),\n",
       " ('os', 22),\n",
       " ('na', 22),\n",
       " ('no', 22),\n",
       " ('uma', 19),\n",
       " ('um', 19),\n",
       " ('...', 18),\n",
       " ('dos', 17),\n",
       " ('EDP', 15),\n",
       " ('por', 14),\n",
       " ('O', 13),\n",
       " ('nos', 12),\n",
       " ('ao', 11),\n",
       " ('q', 11),\n",
       " ('tem', 11),\n",
       " ('se', 11),\n",
       " ('foi', 11),\n",
       " ('à', 9),\n",
       " ('só', 8),\n",
       " ('me', 8),\n",
       " ('Não', 8),\n",
       " ('ser', 8),\n",
       " ('140', 7),\n",
       " ('25', 7),\n",
       " ('“', 7),\n",
       " ('”', 7)]"
      ]
     },
     "execution_count": 9,
     "metadata": {},
     "output_type": "execute_result"
    }
   ],
   "source": [
    "# most common tokens with length < 4\n",
    "\n",
    "[token for token in counter.most_common(50) if len(token[0]) < 4]"
   ]
  },
  {
   "cell_type": "code",
   "execution_count": 10,
   "id": "injured-recovery",
   "metadata": {},
   "outputs": [
    {
     "name": "stdout",
     "output_type": "stream",
     "text": [
      "['A Galp convida portugueses a pensar fora do carro..e quem disser Q isto é só “uma limpeza de imagem”, a Galp, manda “dar banho ao cão”. A máscara 😷 cai. #De-evolution. AbsurdQ https://t.co/TW2XljNvxI'\n",
      " '@davidkirzner @LiberalNova @LiberalPT Achas? A moça terminou o curso há pouco tempo e concorreu á Galp... O q estou a dizer é q na Galp trabalham milhares e milhares de pessoas, não é por trabalhar na Galp q somos maus. Nem sequer são eles q decidem preços e afins 😕'\n",
      " '@davidkirzner @LiberalNova @LiberalPT David mas eu tenho uma amiga q não é Rica, nunca ligou a Política, é uma excelente pessoa e profissional e trabalha na Galp. Tipo, a Galp tem milhares de funcionários'\n",
      " '@Fragoso_1906 sim, a Galp tem uma cena com o continente q tens desconto na fatura e vai para o cartão!'\n",
      " '@RuiPaiva5 Já andam todos em pânico. Até lhes tremem as pernas só de pensar no q aconteceu à GALP. https://t.co/puXUVI70da'\n",
      " '@tiagojcgodinho @MestredoUnive19 @PSSantiago88 Tens noção q há \"ativos\" encostados n EDP, na Galp, n brisa etc? Mas tu achas q as empresas andam a procura de \"alternativas\" para esse \"ativos\"? lol'\n",
      " 'acabei de ver o video da moça q ten um galinheiro e simplesmente fez meu dia,o galp dela cjama João gomes.'\n",
      " \"@psocialista @LiberalPT @ppdpsd \\nMAL q é feito aos portugueses.\\nÑ basta falar na elevada 'carga' fiscal, tb dos baixos salários face a inflação ~9%\\nPQ isto tb conta, qd ESTADO é acionista da Galp, em 7%\\nhttps://t.co/sYtJAQQAQ4\\n'TUGA' SOFRE...\\nhttps://t.co/eD0R4EIrXL via @expresso\"]\n"
     ]
    }
   ],
   "source": [
    "# 'q' is one of the most common abbreviations\n",
    "\n",
    "print(df[df['text'].str.contains(\" q \", case=False)]['text'].values)"
   ]
  },
  {
   "cell_type": "code",
   "execution_count": 11,
   "id": "trying-visibility",
   "metadata": {},
   "outputs": [],
   "source": [
    "# dictionary with abbreviations to replace\n",
    "\n",
    "abrev = {\" q \": \" que \"}"
   ]
  },
  {
   "cell_type": "code",
   "execution_count": 12,
   "id": "aquatic-leisure",
   "metadata": {},
   "outputs": [
    {
     "name": "stdout",
     "output_type": "stream",
     "text": [
      "[\"@psocialista @LiberalPT @ppdpsd \\nMAL q é feito aos portugueses.\\nÑ basta falar na elevada 'carga' fiscal, tb dos baixos salários face a inflação ~9%\\nPQ isto tb conta, qd ESTADO é acionista da Galp, em 7%\\nhttps://t.co/sYtJAQQAQ4\\n'TUGA' SOFRE...\\nhttps://t.co/eD0R4EIrXL via @expresso\"\n",
      " '@jbizarro Acidentes de viação, segundo as estatísticas, tb foram menos, e a Galp, segundo se soube, teve prejuízos avultados, teve menos lucros.🤦']\n"
     ]
    }
   ],
   "source": [
    "# other abbreviations: 'tb'\n",
    "\n",
    "print(df[df['text'].str.contains(\" tb \", case=False)]['text'].values)"
   ]
  },
  {
   "cell_type": "code",
   "execution_count": 13,
   "id": "unauthorized-supervision",
   "metadata": {},
   "outputs": [],
   "source": [
    "abrev[\" tb \"] = \" também \""
   ]
  },
  {
   "cell_type": "code",
   "execution_count": 14,
   "id": "accurate-belarus",
   "metadata": {},
   "outputs": [
    {
     "name": "stdout",
     "output_type": "stream",
     "text": [
      "[\"@psocialista @LiberalPT @ppdpsd \\nMAL q é feito aos portugueses.\\nÑ basta falar na elevada 'carga' fiscal, tb dos baixos salários face a inflação ~9%\\nPQ isto tb conta, qd ESTADO é acionista da Galp, em 7%\\nhttps://t.co/sYtJAQQAQ4\\n'TUGA' SOFRE...\\nhttps://t.co/eD0R4EIrXL via @expresso\"]\n"
     ]
    }
   ],
   "source": [
    "# other abbreviations: 'qd'\n",
    "\n",
    "print(df[df['text'].str.contains(\" qd \", case=False)]['text'].values)"
   ]
  },
  {
   "cell_type": "code",
   "execution_count": 15,
   "id": "approximate-taylor",
   "metadata": {},
   "outputs": [],
   "source": [
    "# other abbreviations to replace\n",
    "\n",
    "abrev[\" qd \"] = \" quando \"\n",
    "abrev[\" ñ \"] = \" não \"\n",
    "abrev[\" pq \"] = \" porque \"\n",
    "abrev[\" hj \"] = \" hoje \""
   ]
  },
  {
   "cell_type": "code",
   "execution_count": 16,
   "id": "increased-warren",
   "metadata": {},
   "outputs": [
    {
     "data": {
      "text/plain": [
       "{' q ': ' que ',\n",
       " ' tb ': ' também ',\n",
       " ' qd ': ' quando ',\n",
       " ' ñ ': ' não ',\n",
       " ' pq ': ' porque ',\n",
       " ' hj ': ' hoje '}"
      ]
     },
     "execution_count": 16,
     "metadata": {},
     "output_type": "execute_result"
    }
   ],
   "source": [
    "abrev"
   ]
  },
  {
   "cell_type": "markdown",
   "id": "requested-dakota",
   "metadata": {},
   "source": [
    "This is not an exhaustive list of abbreviations to replace, but it could be updated according to our needs.\n",
    "\n",
    "Another way of doing this would be using regular expressions to account for all occurrences (and not only lowercase abbreviations with blank spaces at both ends).\n",
    "\n",
    "We could also try to use a spell checker."
   ]
  },
  {
   "cell_type": "code",
   "execution_count": 17,
   "id": "utility-hygiene",
   "metadata": {},
   "outputs": [],
   "source": [
    "# replace abbreviations by word\n",
    "\n",
    "def replace_abrev(text, dic):\n",
    "    for k, v in dic.items():\n",
    "        text = text.replace(k, v)\n",
    "    return text"
   ]
  },
  {
   "cell_type": "code",
   "execution_count": 18,
   "id": "determined-australia",
   "metadata": {},
   "outputs": [],
   "source": [
    "df['text_full'] = df['text'].apply(replace_abrev, dic=abrev)"
   ]
  },
  {
   "cell_type": "code",
   "execution_count": 19,
   "id": "boolean-sigma",
   "metadata": {},
   "outputs": [
    {
     "name": "stdout",
     "output_type": "stream",
     "text": [
      "['@davidkirzner @LiberalNova @LiberalPT Achas? A moça terminou o curso há pouco tempo e concorreu á Galp... O q estou a dizer é q na Galp trabalham milhares e milhares de pessoas, não é por trabalhar na Galp q somos maus. Nem sequer são eles q decidem preços e afins 😕'] \n",
      "\n",
      " ['@davidkirzner @LiberalNova @LiberalPT Achas? A moça terminou o curso há pouco tempo e concorreu á Galp... O que estou a dizer é que na Galp trabalham milhares e milhares de pessoas, não é por trabalhar na Galp que somos maus. Nem sequer são eles que decidem preços e afins 😕']\n"
     ]
    }
   ],
   "source": [
    "# example 1\n",
    "\n",
    "print(df[df['text'].str.contains(\"milhares e milhares\", case=False)]['text'].values, \n",
    "      '\\n\\n', \n",
    "      df[df['text_full'].str.contains(\"milhares e milhares\", case=False)]['text_full'].values)"
   ]
  },
  {
   "cell_type": "code",
   "execution_count": 20,
   "id": "focused-atlanta",
   "metadata": {},
   "outputs": [
    {
     "name": "stdout",
     "output_type": "stream",
     "text": [
      "['@jbizarro Acidentes de viação, segundo as estatísticas, tb foram menos, e a Galp, segundo se soube, teve prejuízos avultados, teve menos lucros.🤦'] \n",
      "\n",
      " ['@jbizarro Acidentes de viação, segundo as estatísticas, também foram menos, e a Galp, segundo se soube, teve prejuízos avultados, teve menos lucros.🤦']\n"
     ]
    }
   ],
   "source": [
    "# example 2\n",
    "\n",
    "print(df[df['text'].str.contains(\"estatísticas\", case=False)]['text'].values, \n",
    "      '\\n\\n', \n",
    "      df[df['text_full'].str.contains(\"estatísticas\", case=False)]['text_full'].values)"
   ]
  },
  {
   "cell_type": "markdown",
   "id": "dense-quarterly",
   "metadata": {},
   "source": [
    "### 2. Sentiment Analysis with a multilingual model fine-tuned for PT"
   ]
  },
  {
   "cell_type": "code",
   "execution_count": 37,
   "id": "plain-century",
   "metadata": {},
   "outputs": [],
   "source": [
    "import requests"
   ]
  },
  {
   "cell_type": "markdown",
   "id": "pressed-browser",
   "metadata": {},
   "source": [
    "Before we begin, we need to take into consideration the usage limits of the API. The free version of HugginFace's API is limited to 30000 characters per month: https://huggingface.co/pricing ."
   ]
  },
  {
   "cell_type": "code",
   "execution_count": 25,
   "id": "dried-northwest",
   "metadata": {},
   "outputs": [
    {
     "data": {
      "text/plain": [
       "20923"
      ]
     },
     "execution_count": 25,
     "metadata": {},
     "output_type": "execute_result"
    }
   ],
   "source": [
    "# total number of characters of our tweets\n",
    "\n",
    "sum([len(text) for text in df['text_full']])"
   ]
  },
  {
   "cell_type": "markdown",
   "id": "dense-missouri",
   "metadata": {},
   "source": [
    "Since our tweets have more than 20000 characters, we are going to use a smaller number of them to test these new approaches (otherwise we would quickly get to the monthly limit)."
   ]
  },
  {
   "cell_type": "code",
   "execution_count": 27,
   "id": "tutorial-manor",
   "metadata": {},
   "outputs": [],
   "source": [
    "df_sample = df[0:20].copy()"
   ]
  },
  {
   "cell_type": "code",
   "execution_count": 28,
   "id": "meaning-skirt",
   "metadata": {},
   "outputs": [
    {
     "data": {
      "text/plain": [
       "3666"
      ]
     },
     "execution_count": 28,
     "metadata": {},
     "output_type": "execute_result"
    }
   ],
   "source": [
    "sum([len(text) for text in df_sample['text_full']])"
   ]
  },
  {
   "cell_type": "code",
   "execution_count": 30,
   "id": "gorgeous-siemens",
   "metadata": {},
   "outputs": [],
   "source": [
    "# HuggingFace token\n",
    "\n",
    "hf_token = \"\""
   ]
  },
  {
   "cell_type": "code",
   "execution_count": 98,
   "id": "discrete-finder",
   "metadata": {},
   "outputs": [],
   "source": [
    "# multilingual model for sentiment analysis:\n",
    "# https://huggingface.co/cardiffnlp/twitter-xlm-roberta-base-sentiment\n",
    "\n",
    "model = \"cardiffnlp/twitter-xlm-roberta-base-sentiment\""
   ]
  },
  {
   "cell_type": "code",
   "execution_count": 99,
   "id": "major-cattle",
   "metadata": {},
   "outputs": [],
   "source": [
    "API_URL = \"https://api-inference.huggingface.co/models/\" + model\n",
    "headers = {\"Authorization\": \"Bearer %s\" % (hf_token)}"
   ]
  },
  {
   "cell_type": "code",
   "execution_count": 33,
   "id": "thousand-footwear",
   "metadata": {},
   "outputs": [],
   "source": [
    "def apply_model(data):\n",
    "    payload = dict(inputs=data, options=dict(wait_for_model=True))\n",
    "    response = requests.post(API_URL, headers=headers, json=payload)\n",
    "    return response.json()"
   ]
  },
  {
   "cell_type": "code",
   "execution_count": 100,
   "id": "empty-bowling",
   "metadata": {},
   "outputs": [
    {
     "data": {
      "text/plain": [
       "[[{'label': 'Neutral', 'score': 0.8557949066162109},\n",
       "  {'label': 'Negative', 'score': 0.08614175766706467},\n",
       "  {'label': 'Positive', 'score': 0.058063309639692307}]]"
      ]
     },
     "execution_count": 100,
     "metadata": {},
     "output_type": "execute_result"
    }
   ],
   "source": [
    "# test\n",
    "\n",
    "apply_model(\"Isto é um teste!\")"
   ]
  },
  {
   "cell_type": "code",
   "execution_count": 83,
   "id": "thermal-liverpool",
   "metadata": {},
   "outputs": [
    {
     "name": "stdout",
     "output_type": "stream",
     "text": [
      "Wall time: 12.1 s\n"
     ]
    }
   ],
   "source": [
    "%%time\n",
    "\n",
    "tweets_sentiment = []\n",
    "\n",
    "for tweet in df_sample['text_full']:\n",
    "    \n",
    "    sentiment_result = apply_model(tweet)[0] # the result is a list inside a list\n",
    "    tweets_sentiment.append({'sentiment': sentiment_result})"
   ]
  },
  {
   "cell_type": "code",
   "execution_count": 84,
   "id": "nonprofit-latvia",
   "metadata": {},
   "outputs": [
    {
     "data": {
      "text/html": [
       "<div>\n",
       "<style scoped>\n",
       "    .dataframe tbody tr th:only-of-type {\n",
       "        vertical-align: middle;\n",
       "    }\n",
       "\n",
       "    .dataframe tbody tr th {\n",
       "        vertical-align: top;\n",
       "    }\n",
       "\n",
       "    .dataframe thead th {\n",
       "        text-align: right;\n",
       "    }\n",
       "</style>\n",
       "<table border=\"1\" class=\"dataframe\">\n",
       "  <thead>\n",
       "    <tr style=\"text-align: right;\">\n",
       "      <th></th>\n",
       "      <th>id</th>\n",
       "      <th>text</th>\n",
       "      <th>retweets</th>\n",
       "      <th>replies</th>\n",
       "      <th>likes</th>\n",
       "      <th>quotes</th>\n",
       "      <th>created_at</th>\n",
       "      <th>tokens</th>\n",
       "      <th>text_full</th>\n",
       "      <th>sentiment</th>\n",
       "    </tr>\n",
       "  </thead>\n",
       "  <tbody>\n",
       "    <tr>\n",
       "      <th>0</th>\n",
       "      <td>1550250030476496900</td>\n",
       "      <td>Galp compra por 140 milhões os 25% da Titan So...</td>\n",
       "      <td>0</td>\n",
       "      <td>0</td>\n",
       "      <td>0</td>\n",
       "      <td>0</td>\n",
       "      <td>2022-07-21 22:43:04+00:00</td>\n",
       "      <td>[Galp, compra, por, 140, milhões, os, 25, da, ...</td>\n",
       "      <td>Galp compra por 140 milhões os 25% da Titan So...</td>\n",
       "      <td>[{'label': 'Neutral', 'score': 0.7745079398155...</td>\n",
       "    </tr>\n",
       "    <tr>\n",
       "      <th>1</th>\n",
       "      <td>1550246814963712001</td>\n",
       "      <td>A Galp convida portugueses a pensar fora do ca...</td>\n",
       "      <td>0</td>\n",
       "      <td>0</td>\n",
       "      <td>0</td>\n",
       "      <td>0</td>\n",
       "      <td>2022-07-21 22:30:17+00:00</td>\n",
       "      <td>[A, Galp, convida, portugueses, a, pensar, for...</td>\n",
       "      <td>A Galp convida portugueses a pensar fora do ca...</td>\n",
       "      <td>[{'label': 'Negative', 'score': 0.836504757404...</td>\n",
       "    </tr>\n",
       "    <tr>\n",
       "      <th>2</th>\n",
       "      <td>1550243011350740992</td>\n",
       "      <td>Mais um ano que renovo o cartão jovem, mais um...</td>\n",
       "      <td>0</td>\n",
       "      <td>0</td>\n",
       "      <td>0</td>\n",
       "      <td>0</td>\n",
       "      <td>2022-07-21 22:15:10+00:00</td>\n",
       "      <td>[Mais, um, ano, que, renovo, o, cartão, jovem,...</td>\n",
       "      <td>Mais um ano que renovo o cartão jovem, mais um...</td>\n",
       "      <td>[{'label': 'Positive', 'score': 0.569248735904...</td>\n",
       "    </tr>\n",
       "    <tr>\n",
       "      <th>3</th>\n",
       "      <td>1550242176407425024</td>\n",
       "      <td>@davidkirzner @LiberalNova @LiberalPT Achas? A...</td>\n",
       "      <td>0</td>\n",
       "      <td>0</td>\n",
       "      <td>0</td>\n",
       "      <td>0</td>\n",
       "      <td>2022-07-21 22:11:51+00:00</td>\n",
       "      <td>[Achas, A, moça, terminou, o, curso, há, pouco...</td>\n",
       "      <td>@davidkirzner @LiberalNova @LiberalPT Achas? A...</td>\n",
       "      <td>[{'label': 'Negative', 'score': 0.901339948177...</td>\n",
       "    </tr>\n",
       "    <tr>\n",
       "      <th>4</th>\n",
       "      <td>1550240739170439169</td>\n",
       "      <td>#sicnoticias Não sei! Com a França a construir...</td>\n",
       "      <td>0</td>\n",
       "      <td>0</td>\n",
       "      <td>0</td>\n",
       "      <td>0</td>\n",
       "      <td>2022-07-21 22:06:08+00:00</td>\n",
       "      <td>[#sicnoticias, Não, sei, Com, a, França, a, co...</td>\n",
       "      <td>#sicnoticias Não sei! Com a França a construir...</td>\n",
       "      <td>[{'label': 'Neutral', 'score': 0.4744070768356...</td>\n",
       "    </tr>\n",
       "  </tbody>\n",
       "</table>\n",
       "</div>"
      ],
      "text/plain": [
       "                    id                                               text  \\\n",
       "0  1550250030476496900  Galp compra por 140 milhões os 25% da Titan So...   \n",
       "1  1550246814963712001  A Galp convida portugueses a pensar fora do ca...   \n",
       "2  1550243011350740992  Mais um ano que renovo o cartão jovem, mais um...   \n",
       "3  1550242176407425024  @davidkirzner @LiberalNova @LiberalPT Achas? A...   \n",
       "4  1550240739170439169  #sicnoticias Não sei! Com a França a construir...   \n",
       "\n",
       "   retweets  replies  likes  quotes                created_at  \\\n",
       "0         0        0      0       0 2022-07-21 22:43:04+00:00   \n",
       "1         0        0      0       0 2022-07-21 22:30:17+00:00   \n",
       "2         0        0      0       0 2022-07-21 22:15:10+00:00   \n",
       "3         0        0      0       0 2022-07-21 22:11:51+00:00   \n",
       "4         0        0      0       0 2022-07-21 22:06:08+00:00   \n",
       "\n",
       "                                              tokens  \\\n",
       "0  [Galp, compra, por, 140, milhões, os, 25, da, ...   \n",
       "1  [A, Galp, convida, portugueses, a, pensar, for...   \n",
       "2  [Mais, um, ano, que, renovo, o, cartão, jovem,...   \n",
       "3  [Achas, A, moça, terminou, o, curso, há, pouco...   \n",
       "4  [#sicnoticias, Não, sei, Com, a, França, a, co...   \n",
       "\n",
       "                                           text_full  \\\n",
       "0  Galp compra por 140 milhões os 25% da Titan So...   \n",
       "1  A Galp convida portugueses a pensar fora do ca...   \n",
       "2  Mais um ano que renovo o cartão jovem, mais um...   \n",
       "3  @davidkirzner @LiberalNova @LiberalPT Achas? A...   \n",
       "4  #sicnoticias Não sei! Com a França a construir...   \n",
       "\n",
       "                                           sentiment  \n",
       "0  [{'label': 'Neutral', 'score': 0.7745079398155...  \n",
       "1  [{'label': 'Negative', 'score': 0.836504757404...  \n",
       "2  [{'label': 'Positive', 'score': 0.569248735904...  \n",
       "3  [{'label': 'Negative', 'score': 0.901339948177...  \n",
       "4  [{'label': 'Neutral', 'score': 0.4744070768356...  "
      ]
     },
     "execution_count": 84,
     "metadata": {},
     "output_type": "execute_result"
    }
   ],
   "source": [
    "df_sample['sentiment'] = pd.DataFrame(tweets_sentiment)\n",
    "\n",
    "df_sample.head()"
   ]
  },
  {
   "cell_type": "code",
   "execution_count": 85,
   "id": "directed-dominant",
   "metadata": {},
   "outputs": [],
   "source": [
    "# sentiment score ranges from [0, 1] for each label\n",
    "\n",
    "# top sentiment\n",
    "df_sample['top_sentiment'] = df_sample['sentiment'].map(lambda sentiment: max(sentiment, key=lambda x: x['score']))\n",
    "\n",
    "# top score\n",
    "df_sample['score'] = df_sample['top_sentiment'].map(lambda x: x['score'])\n",
    "\n",
    "# top label\n",
    "df_sample['label'] = df_sample['top_sentiment'].map(lambda x: x['label'])"
   ]
  },
  {
   "cell_type": "code",
   "execution_count": 86,
   "id": "comic-volleyball",
   "metadata": {},
   "outputs": [
    {
     "data": {
      "text/html": [
       "<div>\n",
       "<style scoped>\n",
       "    .dataframe tbody tr th:only-of-type {\n",
       "        vertical-align: middle;\n",
       "    }\n",
       "\n",
       "    .dataframe tbody tr th {\n",
       "        vertical-align: top;\n",
       "    }\n",
       "\n",
       "    .dataframe thead th {\n",
       "        text-align: right;\n",
       "    }\n",
       "</style>\n",
       "<table border=\"1\" class=\"dataframe\">\n",
       "  <thead>\n",
       "    <tr style=\"text-align: right;\">\n",
       "      <th></th>\n",
       "      <th>id</th>\n",
       "      <th>text</th>\n",
       "      <th>retweets</th>\n",
       "      <th>replies</th>\n",
       "      <th>likes</th>\n",
       "      <th>quotes</th>\n",
       "      <th>created_at</th>\n",
       "      <th>tokens</th>\n",
       "      <th>text_full</th>\n",
       "      <th>sentiment</th>\n",
       "      <th>top_sentiment</th>\n",
       "      <th>score</th>\n",
       "      <th>label</th>\n",
       "    </tr>\n",
       "  </thead>\n",
       "  <tbody>\n",
       "    <tr>\n",
       "      <th>0</th>\n",
       "      <td>1550250030476496900</td>\n",
       "      <td>Galp compra por 140 milhões os 25% da Titan So...</td>\n",
       "      <td>0</td>\n",
       "      <td>0</td>\n",
       "      <td>0</td>\n",
       "      <td>0</td>\n",
       "      <td>2022-07-21 22:43:04+00:00</td>\n",
       "      <td>[Galp, compra, por, 140, milhões, os, 25, da, ...</td>\n",
       "      <td>Galp compra por 140 milhões os 25% da Titan So...</td>\n",
       "      <td>[{'label': 'Neutral', 'score': 0.7745079398155...</td>\n",
       "      <td>{'label': 'Neutral', 'score': 0.7745079398155212}</td>\n",
       "      <td>0.774508</td>\n",
       "      <td>Neutral</td>\n",
       "    </tr>\n",
       "    <tr>\n",
       "      <th>1</th>\n",
       "      <td>1550246814963712001</td>\n",
       "      <td>A Galp convida portugueses a pensar fora do ca...</td>\n",
       "      <td>0</td>\n",
       "      <td>0</td>\n",
       "      <td>0</td>\n",
       "      <td>0</td>\n",
       "      <td>2022-07-21 22:30:17+00:00</td>\n",
       "      <td>[A, Galp, convida, portugueses, a, pensar, for...</td>\n",
       "      <td>A Galp convida portugueses a pensar fora do ca...</td>\n",
       "      <td>[{'label': 'Negative', 'score': 0.836504757404...</td>\n",
       "      <td>{'label': 'Negative', 'score': 0.8365047574043...</td>\n",
       "      <td>0.836505</td>\n",
       "      <td>Negative</td>\n",
       "    </tr>\n",
       "    <tr>\n",
       "      <th>2</th>\n",
       "      <td>1550243011350740992</td>\n",
       "      <td>Mais um ano que renovo o cartão jovem, mais um...</td>\n",
       "      <td>0</td>\n",
       "      <td>0</td>\n",
       "      <td>0</td>\n",
       "      <td>0</td>\n",
       "      <td>2022-07-21 22:15:10+00:00</td>\n",
       "      <td>[Mais, um, ano, que, renovo, o, cartão, jovem,...</td>\n",
       "      <td>Mais um ano que renovo o cartão jovem, mais um...</td>\n",
       "      <td>[{'label': 'Positive', 'score': 0.569248735904...</td>\n",
       "      <td>{'label': 'Positive', 'score': 0.5692487359046...</td>\n",
       "      <td>0.569249</td>\n",
       "      <td>Positive</td>\n",
       "    </tr>\n",
       "    <tr>\n",
       "      <th>3</th>\n",
       "      <td>1550242176407425024</td>\n",
       "      <td>@davidkirzner @LiberalNova @LiberalPT Achas? A...</td>\n",
       "      <td>0</td>\n",
       "      <td>0</td>\n",
       "      <td>0</td>\n",
       "      <td>0</td>\n",
       "      <td>2022-07-21 22:11:51+00:00</td>\n",
       "      <td>[Achas, A, moça, terminou, o, curso, há, pouco...</td>\n",
       "      <td>@davidkirzner @LiberalNova @LiberalPT Achas? A...</td>\n",
       "      <td>[{'label': 'Negative', 'score': 0.901339948177...</td>\n",
       "      <td>{'label': 'Negative', 'score': 0.9013399481773...</td>\n",
       "      <td>0.901340</td>\n",
       "      <td>Negative</td>\n",
       "    </tr>\n",
       "    <tr>\n",
       "      <th>4</th>\n",
       "      <td>1550240739170439169</td>\n",
       "      <td>#sicnoticias Não sei! Com a França a construir...</td>\n",
       "      <td>0</td>\n",
       "      <td>0</td>\n",
       "      <td>0</td>\n",
       "      <td>0</td>\n",
       "      <td>2022-07-21 22:06:08+00:00</td>\n",
       "      <td>[#sicnoticias, Não, sei, Com, a, França, a, co...</td>\n",
       "      <td>#sicnoticias Não sei! Com a França a construir...</td>\n",
       "      <td>[{'label': 'Neutral', 'score': 0.4744070768356...</td>\n",
       "      <td>{'label': 'Neutral', 'score': 0.4744070768356323}</td>\n",
       "      <td>0.474407</td>\n",
       "      <td>Neutral</td>\n",
       "    </tr>\n",
       "  </tbody>\n",
       "</table>\n",
       "</div>"
      ],
      "text/plain": [
       "                    id                                               text  \\\n",
       "0  1550250030476496900  Galp compra por 140 milhões os 25% da Titan So...   \n",
       "1  1550246814963712001  A Galp convida portugueses a pensar fora do ca...   \n",
       "2  1550243011350740992  Mais um ano que renovo o cartão jovem, mais um...   \n",
       "3  1550242176407425024  @davidkirzner @LiberalNova @LiberalPT Achas? A...   \n",
       "4  1550240739170439169  #sicnoticias Não sei! Com a França a construir...   \n",
       "\n",
       "   retweets  replies  likes  quotes                created_at  \\\n",
       "0         0        0      0       0 2022-07-21 22:43:04+00:00   \n",
       "1         0        0      0       0 2022-07-21 22:30:17+00:00   \n",
       "2         0        0      0       0 2022-07-21 22:15:10+00:00   \n",
       "3         0        0      0       0 2022-07-21 22:11:51+00:00   \n",
       "4         0        0      0       0 2022-07-21 22:06:08+00:00   \n",
       "\n",
       "                                              tokens  \\\n",
       "0  [Galp, compra, por, 140, milhões, os, 25, da, ...   \n",
       "1  [A, Galp, convida, portugueses, a, pensar, for...   \n",
       "2  [Mais, um, ano, que, renovo, o, cartão, jovem,...   \n",
       "3  [Achas, A, moça, terminou, o, curso, há, pouco...   \n",
       "4  [#sicnoticias, Não, sei, Com, a, França, a, co...   \n",
       "\n",
       "                                           text_full  \\\n",
       "0  Galp compra por 140 milhões os 25% da Titan So...   \n",
       "1  A Galp convida portugueses a pensar fora do ca...   \n",
       "2  Mais um ano que renovo o cartão jovem, mais um...   \n",
       "3  @davidkirzner @LiberalNova @LiberalPT Achas? A...   \n",
       "4  #sicnoticias Não sei! Com a França a construir...   \n",
       "\n",
       "                                           sentiment  \\\n",
       "0  [{'label': 'Neutral', 'score': 0.7745079398155...   \n",
       "1  [{'label': 'Negative', 'score': 0.836504757404...   \n",
       "2  [{'label': 'Positive', 'score': 0.569248735904...   \n",
       "3  [{'label': 'Negative', 'score': 0.901339948177...   \n",
       "4  [{'label': 'Neutral', 'score': 0.4744070768356...   \n",
       "\n",
       "                                       top_sentiment     score     label  \n",
       "0  {'label': 'Neutral', 'score': 0.7745079398155212}  0.774508   Neutral  \n",
       "1  {'label': 'Negative', 'score': 0.8365047574043...  0.836505  Negative  \n",
       "2  {'label': 'Positive', 'score': 0.5692487359046...  0.569249  Positive  \n",
       "3  {'label': 'Negative', 'score': 0.9013399481773...  0.901340  Negative  \n",
       "4  {'label': 'Neutral', 'score': 0.4744070768356323}  0.474407   Neutral  "
      ]
     },
     "execution_count": 86,
     "metadata": {},
     "output_type": "execute_result"
    }
   ],
   "source": [
    "df_sample.head()"
   ]
  },
  {
   "cell_type": "code",
   "execution_count": 88,
   "id": "detailed-overview",
   "metadata": {},
   "outputs": [
    {
     "data": {
      "text/plain": [
       "Neutral     14\n",
       "Negative     3\n",
       "Positive     3\n",
       "Name: label, dtype: int64"
      ]
     },
     "execution_count": 88,
     "metadata": {},
     "output_type": "execute_result"
    }
   ],
   "source": [
    "df_sample['label'].value_counts()"
   ]
  },
  {
   "cell_type": "code",
   "execution_count": 92,
   "id": "modern-talent",
   "metadata": {},
   "outputs": [
    {
     "name": "stdout",
     "output_type": "stream",
     "text": [
      "['A Galp convida portugueses a pensar fora do carro..e quem disser Q isto é só “uma limpeza de imagem”, a Galp, manda “dar banho ao cão”. A máscara 😷 cai. #De-evolution. AbsurdQ https://t.co/TW2XljNvxI'\n",
      " '@davidkirzner @LiberalNova @LiberalPT Achas? A moça terminou o curso há pouco tempo e concorreu á Galp... O que estou a dizer é que na Galp trabalham milhares e milhares de pessoas, não é por trabalhar na Galp que somos maus. Nem sequer são eles que decidem preços e afins 😕'\n",
      " '#galp Um belo exemplo da areia que nos atiram para os olhos quando dizem que a petrolíferas não ganham ( tanto) dinheiro como deviam, #edp mesma coisa, chulos e miseráveis é o que fulanos são, com a conivência governamental https://t.co/nL08rnxd8p']\n"
     ]
    }
   ],
   "source": [
    "print(df_sample[df_sample['label'] == 'Negative']['text_full'].values)"
   ]
  },
  {
   "cell_type": "code",
   "execution_count": 93,
   "id": "labeled-angle",
   "metadata": {},
   "outputs": [
    {
     "name": "stdout",
     "output_type": "stream",
     "text": [
      "['Mais um ano que renovo o cartão jovem, mais um ano em que a câmara não me da acesso ao codigo de desconto \\U0001fae0\\U0001fae0 ate hoje a parte boa do CJ é o desconto que dão com o cartão jovem galp fica ao preço da gasolina low cost hehehe'\n",
      " '@davidkirzner @LiberalNova @LiberalPT David mas eu tenho uma amiga que não é Rica, nunca ligou a Política, é uma excelente pessoa e profissional e trabalha na Galp. Tipo, a Galp tem milhares de funcionários'\n",
      " 'Asociádevos ao #GALP e fomentemos xuntos o crecemento económico, a inclusión social, a creación de emprego e o apoio á empregabilidade e á mobilidade laboral nas comunidades pesqueiras e acuícolas. \\n\\n#galp #mar #pesca #Galicia https://t.co/30c2OZqfZW']\n"
     ]
    }
   ],
   "source": [
    "print(df_sample[df_sample['label'] == 'Positive']['text_full'].values)"
   ]
  },
  {
   "cell_type": "markdown",
   "id": "dedicated-horizontal",
   "metadata": {},
   "source": [
    "Most of the tweets are classified as neutral.\n",
    "\n",
    "Of the 3 tweets classified as negative, 2 are clearly negative and 1 would be more neutral.\n",
    "\n",
    "Of the 3 tweets classified as positive, the 3 can be considered positive, but 1 is in Galician and not in Portuguese! - The language identification we used from Twitter is not completely accurate..."
   ]
  },
  {
   "cell_type": "markdown",
   "id": "living-sound",
   "metadata": {},
   "source": [
    "### 3. Sentiment Analysis of translated tweets"
   ]
  },
  {
   "cell_type": "markdown",
   "id": "certain-nation",
   "metadata": {},
   "source": [
    "#### 3.1. Translate tweets with a multilingual model to EN"
   ]
  },
  {
   "cell_type": "code",
   "execution_count": 101,
   "id": "following-truth",
   "metadata": {},
   "outputs": [],
   "source": [
    "# multilingual model for translation to EN:\n",
    "# https://huggingface.co/Helsinki-NLP/opus-mt-mul-en\n",
    "\n",
    "model = \"Helsinki-NLP/opus-mt-mul-en\""
   ]
  },
  {
   "cell_type": "code",
   "execution_count": 102,
   "id": "lesbian-interpretation",
   "metadata": {},
   "outputs": [],
   "source": [
    "API_URL = \"https://api-inference.huggingface.co/models/\" + model"
   ]
  },
  {
   "cell_type": "code",
   "execution_count": 97,
   "id": "indian-leave",
   "metadata": {},
   "outputs": [
    {
     "data": {
      "text/plain": [
       "[{'translation_text': 'This is a test!'}]"
      ]
     },
     "execution_count": 97,
     "metadata": {},
     "output_type": "execute_result"
    }
   ],
   "source": [
    "# test\n",
    "\n",
    "apply_model(\"Isto é um teste!\")"
   ]
  },
  {
   "cell_type": "code",
   "execution_count": 107,
   "id": "ongoing-monte",
   "metadata": {},
   "outputs": [
    {
     "name": "stdout",
     "output_type": "stream",
     "text": [
      "Wall time: 1min 2s\n"
     ]
    }
   ],
   "source": [
    "%%time\n",
    "\n",
    "tweets_translation = []\n",
    "\n",
    "for tweet in df_sample['text_full']:\n",
    "    \n",
    "    translation_result = apply_model(tweet)\n",
    "    tweets_translation.append({'translation': translation_result[0]['translation_text']})"
   ]
  },
  {
   "cell_type": "code",
   "execution_count": 110,
   "id": "respected-hampton",
   "metadata": {},
   "outputs": [
    {
     "data": {
      "text/html": [
       "<div>\n",
       "<style scoped>\n",
       "    .dataframe tbody tr th:only-of-type {\n",
       "        vertical-align: middle;\n",
       "    }\n",
       "\n",
       "    .dataframe tbody tr th {\n",
       "        vertical-align: top;\n",
       "    }\n",
       "\n",
       "    .dataframe thead th {\n",
       "        text-align: right;\n",
       "    }\n",
       "</style>\n",
       "<table border=\"1\" class=\"dataframe\">\n",
       "  <thead>\n",
       "    <tr style=\"text-align: right;\">\n",
       "      <th></th>\n",
       "      <th>id</th>\n",
       "      <th>text</th>\n",
       "      <th>retweets</th>\n",
       "      <th>replies</th>\n",
       "      <th>likes</th>\n",
       "      <th>quotes</th>\n",
       "      <th>created_at</th>\n",
       "      <th>tokens</th>\n",
       "      <th>text_full</th>\n",
       "      <th>sentiment</th>\n",
       "      <th>top_sentiment</th>\n",
       "      <th>score</th>\n",
       "      <th>label</th>\n",
       "      <th>translation</th>\n",
       "    </tr>\n",
       "  </thead>\n",
       "  <tbody>\n",
       "    <tr>\n",
       "      <th>0</th>\n",
       "      <td>1550250030476496900</td>\n",
       "      <td>Galp compra por 140 milhões os 25% da Titan So...</td>\n",
       "      <td>0</td>\n",
       "      <td>0</td>\n",
       "      <td>0</td>\n",
       "      <td>0</td>\n",
       "      <td>2022-07-21 22:43:04+00:00</td>\n",
       "      <td>[Galp, compra, por, 140, milhões, os, 25, da, ...</td>\n",
       "      <td>Galp compra por 140 milhões os 25% da Titan So...</td>\n",
       "      <td>[{'label': 'Neutral', 'score': 0.7745079398155...</td>\n",
       "      <td>{'label': 'Neutral', 'score': 0.7745079398155212}</td>\n",
       "      <td>0.774508</td>\n",
       "      <td>Neutral</td>\n",
       "      <td>Galp buys 140 million to 25% of Titan Solar th...</td>\n",
       "    </tr>\n",
       "    <tr>\n",
       "      <th>1</th>\n",
       "      <td>1550246814963712001</td>\n",
       "      <td>A Galp convida portugueses a pensar fora do ca...</td>\n",
       "      <td>0</td>\n",
       "      <td>0</td>\n",
       "      <td>0</td>\n",
       "      <td>0</td>\n",
       "      <td>2022-07-21 22:30:17+00:00</td>\n",
       "      <td>[A, Galp, convida, portugueses, a, pensar, for...</td>\n",
       "      <td>A Galp convida portugueses a pensar fora do ca...</td>\n",
       "      <td>[{'label': 'Negative', 'score': 0.836504757404...</td>\n",
       "      <td>{'label': 'Negative', 'score': 0.8365047574043...</td>\n",
       "      <td>0.836505</td>\n",
       "      <td>Negative</td>\n",
       "      <td>The Galp invites Portuguese to think out of th...</td>\n",
       "    </tr>\n",
       "    <tr>\n",
       "      <th>2</th>\n",
       "      <td>1550243011350740992</td>\n",
       "      <td>Mais um ano que renovo o cartão jovem, mais um...</td>\n",
       "      <td>0</td>\n",
       "      <td>0</td>\n",
       "      <td>0</td>\n",
       "      <td>0</td>\n",
       "      <td>2022-07-21 22:15:10+00:00</td>\n",
       "      <td>[Mais, um, ano, que, renovo, o, cartão, jovem,...</td>\n",
       "      <td>Mais um ano que renovo o cartão jovem, mais um...</td>\n",
       "      <td>[{'label': 'Positive', 'score': 0.569248735904...</td>\n",
       "      <td>{'label': 'Positive', 'score': 0.5692487359046...</td>\n",
       "      <td>0.569249</td>\n",
       "      <td>Positive</td>\n",
       "      <td>More one year that renews the young card, more...</td>\n",
       "    </tr>\n",
       "    <tr>\n",
       "      <th>3</th>\n",
       "      <td>1550242176407425024</td>\n",
       "      <td>@davidkirzner @LiberalNova @LiberalPT Achas? A...</td>\n",
       "      <td>0</td>\n",
       "      <td>0</td>\n",
       "      <td>0</td>\n",
       "      <td>0</td>\n",
       "      <td>2022-07-21 22:11:51+00:00</td>\n",
       "      <td>[Achas, A, moça, terminou, o, curso, há, pouco...</td>\n",
       "      <td>@davidkirzner @LiberalNova @LiberalPT Achas? A...</td>\n",
       "      <td>[{'label': 'Negative', 'score': 0.901339948177...</td>\n",
       "      <td>{'label': 'Negative', 'score': 0.9013399481773...</td>\n",
       "      <td>0.901340</td>\n",
       "      <td>Negative</td>\n",
       "      <td>@davidkirzner @LiberalNova @LiberalPT Achas? T...</td>\n",
       "    </tr>\n",
       "    <tr>\n",
       "      <th>4</th>\n",
       "      <td>1550240739170439169</td>\n",
       "      <td>#sicnoticias Não sei! Com a França a construir...</td>\n",
       "      <td>0</td>\n",
       "      <td>0</td>\n",
       "      <td>0</td>\n",
       "      <td>0</td>\n",
       "      <td>2022-07-21 22:06:08+00:00</td>\n",
       "      <td>[#sicnoticias, Não, sei, Com, a, França, a, co...</td>\n",
       "      <td>#sicnoticias Não sei! Com a França a construir...</td>\n",
       "      <td>[{'label': 'Neutral', 'score': 0.4744070768356...</td>\n",
       "      <td>{'label': 'Neutral', 'score': 0.4744070768356323}</td>\n",
       "      <td>0.474407</td>\n",
       "      <td>Neutral</td>\n",
       "      <td>#sicnotices I don't know! With France to build...</td>\n",
       "    </tr>\n",
       "  </tbody>\n",
       "</table>\n",
       "</div>"
      ],
      "text/plain": [
       "                    id                                               text  \\\n",
       "0  1550250030476496900  Galp compra por 140 milhões os 25% da Titan So...   \n",
       "1  1550246814963712001  A Galp convida portugueses a pensar fora do ca...   \n",
       "2  1550243011350740992  Mais um ano que renovo o cartão jovem, mais um...   \n",
       "3  1550242176407425024  @davidkirzner @LiberalNova @LiberalPT Achas? A...   \n",
       "4  1550240739170439169  #sicnoticias Não sei! Com a França a construir...   \n",
       "\n",
       "   retweets  replies  likes  quotes                created_at  \\\n",
       "0         0        0      0       0 2022-07-21 22:43:04+00:00   \n",
       "1         0        0      0       0 2022-07-21 22:30:17+00:00   \n",
       "2         0        0      0       0 2022-07-21 22:15:10+00:00   \n",
       "3         0        0      0       0 2022-07-21 22:11:51+00:00   \n",
       "4         0        0      0       0 2022-07-21 22:06:08+00:00   \n",
       "\n",
       "                                              tokens  \\\n",
       "0  [Galp, compra, por, 140, milhões, os, 25, da, ...   \n",
       "1  [A, Galp, convida, portugueses, a, pensar, for...   \n",
       "2  [Mais, um, ano, que, renovo, o, cartão, jovem,...   \n",
       "3  [Achas, A, moça, terminou, o, curso, há, pouco...   \n",
       "4  [#sicnoticias, Não, sei, Com, a, França, a, co...   \n",
       "\n",
       "                                           text_full  \\\n",
       "0  Galp compra por 140 milhões os 25% da Titan So...   \n",
       "1  A Galp convida portugueses a pensar fora do ca...   \n",
       "2  Mais um ano que renovo o cartão jovem, mais um...   \n",
       "3  @davidkirzner @LiberalNova @LiberalPT Achas? A...   \n",
       "4  #sicnoticias Não sei! Com a França a construir...   \n",
       "\n",
       "                                           sentiment  \\\n",
       "0  [{'label': 'Neutral', 'score': 0.7745079398155...   \n",
       "1  [{'label': 'Negative', 'score': 0.836504757404...   \n",
       "2  [{'label': 'Positive', 'score': 0.569248735904...   \n",
       "3  [{'label': 'Negative', 'score': 0.901339948177...   \n",
       "4  [{'label': 'Neutral', 'score': 0.4744070768356...   \n",
       "\n",
       "                                       top_sentiment     score     label  \\\n",
       "0  {'label': 'Neutral', 'score': 0.7745079398155212}  0.774508   Neutral   \n",
       "1  {'label': 'Negative', 'score': 0.8365047574043...  0.836505  Negative   \n",
       "2  {'label': 'Positive', 'score': 0.5692487359046...  0.569249  Positive   \n",
       "3  {'label': 'Negative', 'score': 0.9013399481773...  0.901340  Negative   \n",
       "4  {'label': 'Neutral', 'score': 0.4744070768356323}  0.474407   Neutral   \n",
       "\n",
       "                                         translation  \n",
       "0  Galp buys 140 million to 25% of Titan Solar th...  \n",
       "1  The Galp invites Portuguese to think out of th...  \n",
       "2  More one year that renews the young card, more...  \n",
       "3  @davidkirzner @LiberalNova @LiberalPT Achas? T...  \n",
       "4  #sicnotices I don't know! With France to build...  "
      ]
     },
     "execution_count": 110,
     "metadata": {},
     "output_type": "execute_result"
    }
   ],
   "source": [
    "df_sample['translation'] = pd.DataFrame(tweets_translation)\n",
    "\n",
    "df_sample.head()"
   ]
  },
  {
   "cell_type": "markdown",
   "id": "moral-momentum",
   "metadata": {},
   "source": [
    "Other models for translation to try later:\n",
    "\n",
    "* https://huggingface.co/unicamp-dl/translation-pt-en-t5\n",
    "\n",
    "* https://huggingface.co/Narrativa/mbart-large-50-finetuned-opus-pt-en-translation"
   ]
  },
  {
   "cell_type": "markdown",
   "id": "entire-share",
   "metadata": {},
   "source": [
    "#### 3.2. Analyse sentiment of translated tweets"
   ]
  },
  {
   "cell_type": "code",
   "execution_count": 111,
   "id": "fatal-israeli",
   "metadata": {},
   "outputs": [],
   "source": [
    "# EN model for sentiment analysis:\n",
    "# https://huggingface.co/cardiffnlp/twitter-roberta-base-sentiment-latest\n",
    "\n",
    "model = \"cardiffnlp/twitter-roberta-base-sentiment-latest\""
   ]
  },
  {
   "cell_type": "markdown",
   "id": "supposed-revolution",
   "metadata": {},
   "source": [
    "We can also try the multilingual model we used before for sentiment analysis: https://huggingface.co/cardiffnlp/twitter-xlm-roberta-base-sentiment ."
   ]
  },
  {
   "cell_type": "code",
   "execution_count": 112,
   "id": "automatic-census",
   "metadata": {},
   "outputs": [],
   "source": [
    "API_URL = \"https://api-inference.huggingface.co/models/\" + model"
   ]
  },
  {
   "cell_type": "code",
   "execution_count": 113,
   "id": "according-league",
   "metadata": {},
   "outputs": [
    {
     "data": {
      "text/plain": [
       "[[{'label': 'Negative', 'score': 0.03316132724285126},\n",
       "  {'label': 'Neutral', 'score': 0.7641804814338684},\n",
       "  {'label': 'Positive', 'score': 0.20265817642211914}]]"
      ]
     },
     "execution_count": 113,
     "metadata": {},
     "output_type": "execute_result"
    }
   ],
   "source": [
    "# test\n",
    "\n",
    "apply_model(\"Isto é um teste!\")"
   ]
  },
  {
   "cell_type": "code",
   "execution_count": 114,
   "id": "reverse-stocks",
   "metadata": {},
   "outputs": [
    {
     "name": "stdout",
     "output_type": "stream",
     "text": [
      "Wall time: 12.7 s\n"
     ]
    }
   ],
   "source": [
    "%%time\n",
    "\n",
    "tweets_sentiment = []\n",
    "\n",
    "for tweet in df_sample['text_full']:\n",
    "    \n",
    "    sentiment_result = apply_model(tweet)[0] # the result is a list inside a list\n",
    "    tweets_sentiment.append({'sentiment': sentiment_result})"
   ]
  },
  {
   "cell_type": "code",
   "execution_count": 115,
   "id": "peripheral-league",
   "metadata": {},
   "outputs": [
    {
     "data": {
      "text/html": [
       "<div>\n",
       "<style scoped>\n",
       "    .dataframe tbody tr th:only-of-type {\n",
       "        vertical-align: middle;\n",
       "    }\n",
       "\n",
       "    .dataframe tbody tr th {\n",
       "        vertical-align: top;\n",
       "    }\n",
       "\n",
       "    .dataframe thead th {\n",
       "        text-align: right;\n",
       "    }\n",
       "</style>\n",
       "<table border=\"1\" class=\"dataframe\">\n",
       "  <thead>\n",
       "    <tr style=\"text-align: right;\">\n",
       "      <th></th>\n",
       "      <th>id</th>\n",
       "      <th>text</th>\n",
       "      <th>retweets</th>\n",
       "      <th>replies</th>\n",
       "      <th>likes</th>\n",
       "      <th>quotes</th>\n",
       "      <th>created_at</th>\n",
       "      <th>tokens</th>\n",
       "      <th>text_full</th>\n",
       "      <th>sentiment</th>\n",
       "      <th>top_sentiment</th>\n",
       "      <th>score</th>\n",
       "      <th>label</th>\n",
       "      <th>translation</th>\n",
       "      <th>translation_sent</th>\n",
       "    </tr>\n",
       "  </thead>\n",
       "  <tbody>\n",
       "    <tr>\n",
       "      <th>0</th>\n",
       "      <td>1550250030476496900</td>\n",
       "      <td>Galp compra por 140 milhões os 25% da Titan So...</td>\n",
       "      <td>0</td>\n",
       "      <td>0</td>\n",
       "      <td>0</td>\n",
       "      <td>0</td>\n",
       "      <td>2022-07-21 22:43:04+00:00</td>\n",
       "      <td>[Galp, compra, por, 140, milhões, os, 25, da, ...</td>\n",
       "      <td>Galp compra por 140 milhões os 25% da Titan So...</td>\n",
       "      <td>[{'label': 'Neutral', 'score': 0.7745079398155...</td>\n",
       "      <td>{'label': 'Neutral', 'score': 0.7745079398155212}</td>\n",
       "      <td>0.774508</td>\n",
       "      <td>Neutral</td>\n",
       "      <td>Galp buys 140 million to 25% of Titan Solar th...</td>\n",
       "      <td>[{'label': 'Negative', 'score': 0.080651327967...</td>\n",
       "    </tr>\n",
       "    <tr>\n",
       "      <th>1</th>\n",
       "      <td>1550246814963712001</td>\n",
       "      <td>A Galp convida portugueses a pensar fora do ca...</td>\n",
       "      <td>0</td>\n",
       "      <td>0</td>\n",
       "      <td>0</td>\n",
       "      <td>0</td>\n",
       "      <td>2022-07-21 22:30:17+00:00</td>\n",
       "      <td>[A, Galp, convida, portugueses, a, pensar, for...</td>\n",
       "      <td>A Galp convida portugueses a pensar fora do ca...</td>\n",
       "      <td>[{'label': 'Negative', 'score': 0.836504757404...</td>\n",
       "      <td>{'label': 'Negative', 'score': 0.8365047574043...</td>\n",
       "      <td>0.836505</td>\n",
       "      <td>Negative</td>\n",
       "      <td>The Galp invites Portuguese to think out of th...</td>\n",
       "      <td>[{'label': 'Negative', 'score': 0.335132241249...</td>\n",
       "    </tr>\n",
       "    <tr>\n",
       "      <th>2</th>\n",
       "      <td>1550243011350740992</td>\n",
       "      <td>Mais um ano que renovo o cartão jovem, mais um...</td>\n",
       "      <td>0</td>\n",
       "      <td>0</td>\n",
       "      <td>0</td>\n",
       "      <td>0</td>\n",
       "      <td>2022-07-21 22:15:10+00:00</td>\n",
       "      <td>[Mais, um, ano, que, renovo, o, cartão, jovem,...</td>\n",
       "      <td>Mais um ano que renovo o cartão jovem, mais um...</td>\n",
       "      <td>[{'label': 'Positive', 'score': 0.569248735904...</td>\n",
       "      <td>{'label': 'Positive', 'score': 0.5692487359046...</td>\n",
       "      <td>0.569249</td>\n",
       "      <td>Positive</td>\n",
       "      <td>More one year that renews the young card, more...</td>\n",
       "      <td>[{'label': 'Negative', 'score': 0.024882558733...</td>\n",
       "    </tr>\n",
       "    <tr>\n",
       "      <th>3</th>\n",
       "      <td>1550242176407425024</td>\n",
       "      <td>@davidkirzner @LiberalNova @LiberalPT Achas? A...</td>\n",
       "      <td>0</td>\n",
       "      <td>0</td>\n",
       "      <td>0</td>\n",
       "      <td>0</td>\n",
       "      <td>2022-07-21 22:11:51+00:00</td>\n",
       "      <td>[Achas, A, moça, terminou, o, curso, há, pouco...</td>\n",
       "      <td>@davidkirzner @LiberalNova @LiberalPT Achas? A...</td>\n",
       "      <td>[{'label': 'Negative', 'score': 0.901339948177...</td>\n",
       "      <td>{'label': 'Negative', 'score': 0.9013399481773...</td>\n",
       "      <td>0.901340</td>\n",
       "      <td>Negative</td>\n",
       "      <td>@davidkirzner @LiberalNova @LiberalPT Achas? T...</td>\n",
       "      <td>[{'label': 'Negative', 'score': 0.117106109857...</td>\n",
       "    </tr>\n",
       "    <tr>\n",
       "      <th>4</th>\n",
       "      <td>1550240739170439169</td>\n",
       "      <td>#sicnoticias Não sei! Com a França a construir...</td>\n",
       "      <td>0</td>\n",
       "      <td>0</td>\n",
       "      <td>0</td>\n",
       "      <td>0</td>\n",
       "      <td>2022-07-21 22:06:08+00:00</td>\n",
       "      <td>[#sicnoticias, Não, sei, Com, a, França, a, co...</td>\n",
       "      <td>#sicnoticias Não sei! Com a França a construir...</td>\n",
       "      <td>[{'label': 'Neutral', 'score': 0.4744070768356...</td>\n",
       "      <td>{'label': 'Neutral', 'score': 0.4744070768356323}</td>\n",
       "      <td>0.474407</td>\n",
       "      <td>Neutral</td>\n",
       "      <td>#sicnotices I don't know! With France to build...</td>\n",
       "      <td>[{'label': 'Negative', 'score': 0.108840383589...</td>\n",
       "    </tr>\n",
       "  </tbody>\n",
       "</table>\n",
       "</div>"
      ],
      "text/plain": [
       "                    id                                               text  \\\n",
       "0  1550250030476496900  Galp compra por 140 milhões os 25% da Titan So...   \n",
       "1  1550246814963712001  A Galp convida portugueses a pensar fora do ca...   \n",
       "2  1550243011350740992  Mais um ano que renovo o cartão jovem, mais um...   \n",
       "3  1550242176407425024  @davidkirzner @LiberalNova @LiberalPT Achas? A...   \n",
       "4  1550240739170439169  #sicnoticias Não sei! Com a França a construir...   \n",
       "\n",
       "   retweets  replies  likes  quotes                created_at  \\\n",
       "0         0        0      0       0 2022-07-21 22:43:04+00:00   \n",
       "1         0        0      0       0 2022-07-21 22:30:17+00:00   \n",
       "2         0        0      0       0 2022-07-21 22:15:10+00:00   \n",
       "3         0        0      0       0 2022-07-21 22:11:51+00:00   \n",
       "4         0        0      0       0 2022-07-21 22:06:08+00:00   \n",
       "\n",
       "                                              tokens  \\\n",
       "0  [Galp, compra, por, 140, milhões, os, 25, da, ...   \n",
       "1  [A, Galp, convida, portugueses, a, pensar, for...   \n",
       "2  [Mais, um, ano, que, renovo, o, cartão, jovem,...   \n",
       "3  [Achas, A, moça, terminou, o, curso, há, pouco...   \n",
       "4  [#sicnoticias, Não, sei, Com, a, França, a, co...   \n",
       "\n",
       "                                           text_full  \\\n",
       "0  Galp compra por 140 milhões os 25% da Titan So...   \n",
       "1  A Galp convida portugueses a pensar fora do ca...   \n",
       "2  Mais um ano que renovo o cartão jovem, mais um...   \n",
       "3  @davidkirzner @LiberalNova @LiberalPT Achas? A...   \n",
       "4  #sicnoticias Não sei! Com a França a construir...   \n",
       "\n",
       "                                           sentiment  \\\n",
       "0  [{'label': 'Neutral', 'score': 0.7745079398155...   \n",
       "1  [{'label': 'Negative', 'score': 0.836504757404...   \n",
       "2  [{'label': 'Positive', 'score': 0.569248735904...   \n",
       "3  [{'label': 'Negative', 'score': 0.901339948177...   \n",
       "4  [{'label': 'Neutral', 'score': 0.4744070768356...   \n",
       "\n",
       "                                       top_sentiment     score     label  \\\n",
       "0  {'label': 'Neutral', 'score': 0.7745079398155212}  0.774508   Neutral   \n",
       "1  {'label': 'Negative', 'score': 0.8365047574043...  0.836505  Negative   \n",
       "2  {'label': 'Positive', 'score': 0.5692487359046...  0.569249  Positive   \n",
       "3  {'label': 'Negative', 'score': 0.9013399481773...  0.901340  Negative   \n",
       "4  {'label': 'Neutral', 'score': 0.4744070768356323}  0.474407   Neutral   \n",
       "\n",
       "                                         translation  \\\n",
       "0  Galp buys 140 million to 25% of Titan Solar th...   \n",
       "1  The Galp invites Portuguese to think out of th...   \n",
       "2  More one year that renews the young card, more...   \n",
       "3  @davidkirzner @LiberalNova @LiberalPT Achas? T...   \n",
       "4  #sicnotices I don't know! With France to build...   \n",
       "\n",
       "                                    translation_sent  \n",
       "0  [{'label': 'Negative', 'score': 0.080651327967...  \n",
       "1  [{'label': 'Negative', 'score': 0.335132241249...  \n",
       "2  [{'label': 'Negative', 'score': 0.024882558733...  \n",
       "3  [{'label': 'Negative', 'score': 0.117106109857...  \n",
       "4  [{'label': 'Negative', 'score': 0.108840383589...  "
      ]
     },
     "execution_count": 115,
     "metadata": {},
     "output_type": "execute_result"
    }
   ],
   "source": [
    "df_sample['translation_sent'] = pd.DataFrame(tweets_sentiment)\n",
    "\n",
    "df_sample.head()"
   ]
  },
  {
   "cell_type": "code",
   "execution_count": 116,
   "id": "leading-affect",
   "metadata": {},
   "outputs": [],
   "source": [
    "# top sentiment\n",
    "df_sample['translation_top_sent'] = df_sample['translation_sent'].map(lambda sentiment: max(sentiment, key=lambda x: x['score']))\n",
    "\n",
    "# top score\n",
    "df_sample['translation_score'] = df_sample['translation_top_sent'].map(lambda x: x['score'])\n",
    "\n",
    "# top label\n",
    "df_sample['translation_label'] = df_sample['translation_top_sent'].map(lambda x: x['label'])"
   ]
  },
  {
   "cell_type": "code",
   "execution_count": 118,
   "id": "dried-relief",
   "metadata": {},
   "outputs": [
    {
     "data": {
      "text/html": [
       "<div>\n",
       "<style scoped>\n",
       "    .dataframe tbody tr th:only-of-type {\n",
       "        vertical-align: middle;\n",
       "    }\n",
       "\n",
       "    .dataframe tbody tr th {\n",
       "        vertical-align: top;\n",
       "    }\n",
       "\n",
       "    .dataframe thead th {\n",
       "        text-align: right;\n",
       "    }\n",
       "</style>\n",
       "<table border=\"1\" class=\"dataframe\">\n",
       "  <thead>\n",
       "    <tr style=\"text-align: right;\">\n",
       "      <th></th>\n",
       "      <th>id</th>\n",
       "      <th>text</th>\n",
       "      <th>retweets</th>\n",
       "      <th>replies</th>\n",
       "      <th>likes</th>\n",
       "      <th>quotes</th>\n",
       "      <th>created_at</th>\n",
       "      <th>tokens</th>\n",
       "      <th>text_full</th>\n",
       "      <th>sentiment</th>\n",
       "      <th>top_sentiment</th>\n",
       "      <th>score</th>\n",
       "      <th>label</th>\n",
       "      <th>translation</th>\n",
       "      <th>translation_sent</th>\n",
       "      <th>translation_top_sent</th>\n",
       "      <th>translation_score</th>\n",
       "      <th>translation_label</th>\n",
       "    </tr>\n",
       "  </thead>\n",
       "  <tbody>\n",
       "    <tr>\n",
       "      <th>0</th>\n",
       "      <td>1550250030476496900</td>\n",
       "      <td>Galp compra por 140 milhões os 25% da Titan So...</td>\n",
       "      <td>0</td>\n",
       "      <td>0</td>\n",
       "      <td>0</td>\n",
       "      <td>0</td>\n",
       "      <td>2022-07-21 22:43:04+00:00</td>\n",
       "      <td>[Galp, compra, por, 140, milhões, os, 25, da, ...</td>\n",
       "      <td>Galp compra por 140 milhões os 25% da Titan So...</td>\n",
       "      <td>[{'label': 'Neutral', 'score': 0.7745079398155...</td>\n",
       "      <td>{'label': 'Neutral', 'score': 0.7745079398155212}</td>\n",
       "      <td>0.774508</td>\n",
       "      <td>Neutral</td>\n",
       "      <td>Galp buys 140 million to 25% of Titan Solar th...</td>\n",
       "      <td>[{'label': 'Negative', 'score': 0.080651327967...</td>\n",
       "      <td>{'label': 'Neutral', 'score': 0.8546541333198547}</td>\n",
       "      <td>0.854654</td>\n",
       "      <td>Neutral</td>\n",
       "    </tr>\n",
       "    <tr>\n",
       "      <th>1</th>\n",
       "      <td>1550246814963712001</td>\n",
       "      <td>A Galp convida portugueses a pensar fora do ca...</td>\n",
       "      <td>0</td>\n",
       "      <td>0</td>\n",
       "      <td>0</td>\n",
       "      <td>0</td>\n",
       "      <td>2022-07-21 22:30:17+00:00</td>\n",
       "      <td>[A, Galp, convida, portugueses, a, pensar, for...</td>\n",
       "      <td>A Galp convida portugueses a pensar fora do ca...</td>\n",
       "      <td>[{'label': 'Negative', 'score': 0.836504757404...</td>\n",
       "      <td>{'label': 'Negative', 'score': 0.8365047574043...</td>\n",
       "      <td>0.836505</td>\n",
       "      <td>Negative</td>\n",
       "      <td>The Galp invites Portuguese to think out of th...</td>\n",
       "      <td>[{'label': 'Negative', 'score': 0.335132241249...</td>\n",
       "      <td>{'label': 'Neutral', 'score': 0.6241118311882019}</td>\n",
       "      <td>0.624112</td>\n",
       "      <td>Neutral</td>\n",
       "    </tr>\n",
       "    <tr>\n",
       "      <th>2</th>\n",
       "      <td>1550243011350740992</td>\n",
       "      <td>Mais um ano que renovo o cartão jovem, mais um...</td>\n",
       "      <td>0</td>\n",
       "      <td>0</td>\n",
       "      <td>0</td>\n",
       "      <td>0</td>\n",
       "      <td>2022-07-21 22:15:10+00:00</td>\n",
       "      <td>[Mais, um, ano, que, renovo, o, cartão, jovem,...</td>\n",
       "      <td>Mais um ano que renovo o cartão jovem, mais um...</td>\n",
       "      <td>[{'label': 'Positive', 'score': 0.569248735904...</td>\n",
       "      <td>{'label': 'Positive', 'score': 0.5692487359046...</td>\n",
       "      <td>0.569249</td>\n",
       "      <td>Positive</td>\n",
       "      <td>More one year that renews the young card, more...</td>\n",
       "      <td>[{'label': 'Negative', 'score': 0.024882558733...</td>\n",
       "      <td>{'label': 'Neutral', 'score': 0.8553747534751892}</td>\n",
       "      <td>0.855375</td>\n",
       "      <td>Neutral</td>\n",
       "    </tr>\n",
       "    <tr>\n",
       "      <th>3</th>\n",
       "      <td>1550242176407425024</td>\n",
       "      <td>@davidkirzner @LiberalNova @LiberalPT Achas? A...</td>\n",
       "      <td>0</td>\n",
       "      <td>0</td>\n",
       "      <td>0</td>\n",
       "      <td>0</td>\n",
       "      <td>2022-07-21 22:11:51+00:00</td>\n",
       "      <td>[Achas, A, moça, terminou, o, curso, há, pouco...</td>\n",
       "      <td>@davidkirzner @LiberalNova @LiberalPT Achas? A...</td>\n",
       "      <td>[{'label': 'Negative', 'score': 0.901339948177...</td>\n",
       "      <td>{'label': 'Negative', 'score': 0.9013399481773...</td>\n",
       "      <td>0.901340</td>\n",
       "      <td>Negative</td>\n",
       "      <td>@davidkirzner @LiberalNova @LiberalPT Achas? T...</td>\n",
       "      <td>[{'label': 'Negative', 'score': 0.117106109857...</td>\n",
       "      <td>{'label': 'Neutral', 'score': 0.8400129675865173}</td>\n",
       "      <td>0.840013</td>\n",
       "      <td>Neutral</td>\n",
       "    </tr>\n",
       "    <tr>\n",
       "      <th>4</th>\n",
       "      <td>1550240739170439169</td>\n",
       "      <td>#sicnoticias Não sei! Com a França a construir...</td>\n",
       "      <td>0</td>\n",
       "      <td>0</td>\n",
       "      <td>0</td>\n",
       "      <td>0</td>\n",
       "      <td>2022-07-21 22:06:08+00:00</td>\n",
       "      <td>[#sicnoticias, Não, sei, Com, a, França, a, co...</td>\n",
       "      <td>#sicnoticias Não sei! Com a França a construir...</td>\n",
       "      <td>[{'label': 'Neutral', 'score': 0.4744070768356...</td>\n",
       "      <td>{'label': 'Neutral', 'score': 0.4744070768356323}</td>\n",
       "      <td>0.474407</td>\n",
       "      <td>Neutral</td>\n",
       "      <td>#sicnotices I don't know! With France to build...</td>\n",
       "      <td>[{'label': 'Negative', 'score': 0.108840383589...</td>\n",
       "      <td>{'label': 'Neutral', 'score': 0.8227448463439941}</td>\n",
       "      <td>0.822745</td>\n",
       "      <td>Neutral</td>\n",
       "    </tr>\n",
       "  </tbody>\n",
       "</table>\n",
       "</div>"
      ],
      "text/plain": [
       "                    id                                               text  \\\n",
       "0  1550250030476496900  Galp compra por 140 milhões os 25% da Titan So...   \n",
       "1  1550246814963712001  A Galp convida portugueses a pensar fora do ca...   \n",
       "2  1550243011350740992  Mais um ano que renovo o cartão jovem, mais um...   \n",
       "3  1550242176407425024  @davidkirzner @LiberalNova @LiberalPT Achas? A...   \n",
       "4  1550240739170439169  #sicnoticias Não sei! Com a França a construir...   \n",
       "\n",
       "   retweets  replies  likes  quotes                created_at  \\\n",
       "0         0        0      0       0 2022-07-21 22:43:04+00:00   \n",
       "1         0        0      0       0 2022-07-21 22:30:17+00:00   \n",
       "2         0        0      0       0 2022-07-21 22:15:10+00:00   \n",
       "3         0        0      0       0 2022-07-21 22:11:51+00:00   \n",
       "4         0        0      0       0 2022-07-21 22:06:08+00:00   \n",
       "\n",
       "                                              tokens  \\\n",
       "0  [Galp, compra, por, 140, milhões, os, 25, da, ...   \n",
       "1  [A, Galp, convida, portugueses, a, pensar, for...   \n",
       "2  [Mais, um, ano, que, renovo, o, cartão, jovem,...   \n",
       "3  [Achas, A, moça, terminou, o, curso, há, pouco...   \n",
       "4  [#sicnoticias, Não, sei, Com, a, França, a, co...   \n",
       "\n",
       "                                           text_full  \\\n",
       "0  Galp compra por 140 milhões os 25% da Titan So...   \n",
       "1  A Galp convida portugueses a pensar fora do ca...   \n",
       "2  Mais um ano que renovo o cartão jovem, mais um...   \n",
       "3  @davidkirzner @LiberalNova @LiberalPT Achas? A...   \n",
       "4  #sicnoticias Não sei! Com a França a construir...   \n",
       "\n",
       "                                           sentiment  \\\n",
       "0  [{'label': 'Neutral', 'score': 0.7745079398155...   \n",
       "1  [{'label': 'Negative', 'score': 0.836504757404...   \n",
       "2  [{'label': 'Positive', 'score': 0.569248735904...   \n",
       "3  [{'label': 'Negative', 'score': 0.901339948177...   \n",
       "4  [{'label': 'Neutral', 'score': 0.4744070768356...   \n",
       "\n",
       "                                       top_sentiment     score     label  \\\n",
       "0  {'label': 'Neutral', 'score': 0.7745079398155212}  0.774508   Neutral   \n",
       "1  {'label': 'Negative', 'score': 0.8365047574043...  0.836505  Negative   \n",
       "2  {'label': 'Positive', 'score': 0.5692487359046...  0.569249  Positive   \n",
       "3  {'label': 'Negative', 'score': 0.9013399481773...  0.901340  Negative   \n",
       "4  {'label': 'Neutral', 'score': 0.4744070768356323}  0.474407   Neutral   \n",
       "\n",
       "                                         translation  \\\n",
       "0  Galp buys 140 million to 25% of Titan Solar th...   \n",
       "1  The Galp invites Portuguese to think out of th...   \n",
       "2  More one year that renews the young card, more...   \n",
       "3  @davidkirzner @LiberalNova @LiberalPT Achas? T...   \n",
       "4  #sicnotices I don't know! With France to build...   \n",
       "\n",
       "                                    translation_sent  \\\n",
       "0  [{'label': 'Negative', 'score': 0.080651327967...   \n",
       "1  [{'label': 'Negative', 'score': 0.335132241249...   \n",
       "2  [{'label': 'Negative', 'score': 0.024882558733...   \n",
       "3  [{'label': 'Negative', 'score': 0.117106109857...   \n",
       "4  [{'label': 'Negative', 'score': 0.108840383589...   \n",
       "\n",
       "                                translation_top_sent  translation_score  \\\n",
       "0  {'label': 'Neutral', 'score': 0.8546541333198547}           0.854654   \n",
       "1  {'label': 'Neutral', 'score': 0.6241118311882019}           0.624112   \n",
       "2  {'label': 'Neutral', 'score': 0.8553747534751892}           0.855375   \n",
       "3  {'label': 'Neutral', 'score': 0.8400129675865173}           0.840013   \n",
       "4  {'label': 'Neutral', 'score': 0.8227448463439941}           0.822745   \n",
       "\n",
       "  translation_label  \n",
       "0           Neutral  \n",
       "1           Neutral  \n",
       "2           Neutral  \n",
       "3           Neutral  \n",
       "4           Neutral  "
      ]
     },
     "execution_count": 118,
     "metadata": {},
     "output_type": "execute_result"
    }
   ],
   "source": [
    "df_sample.head()"
   ]
  },
  {
   "cell_type": "code",
   "execution_count": 119,
   "id": "collected-renewal",
   "metadata": {},
   "outputs": [
    {
     "data": {
      "text/plain": [
       "Neutral    20\n",
       "Name: translation_label, dtype: int64"
      ]
     },
     "execution_count": 119,
     "metadata": {},
     "output_type": "execute_result"
    }
   ],
   "source": [
    "df_sample['translation_label'].value_counts()"
   ]
  },
  {
   "cell_type": "markdown",
   "id": "seasonal-swing",
   "metadata": {},
   "source": [
    "All the tweets are classified as neutral, mostly due to the poor quality of the PT-EN translation (I think...).\n",
    "\n",
    "We will now try other models for translating the text from PT to EN."
   ]
  },
  {
   "cell_type": "markdown",
   "id": "curious-isaac",
   "metadata": {},
   "source": [
    "#### 3.3. Translate tweets with an implementation of T5 for PT-EN"
   ]
  },
  {
   "cell_type": "markdown",
   "id": "global-nothing",
   "metadata": {},
   "source": [
    "Nota: ver https://github.com/google-research/text-to-text-transfer-transformer/"
   ]
  },
  {
   "cell_type": "code",
   "execution_count": 120,
   "id": "humanitarian-dragon",
   "metadata": {},
   "outputs": [],
   "source": [
    "# T5 model for translation to EN:\n",
    "# https://huggingface.co/unicamp-dl/translation-pt-en-t5\n",
    "\n",
    "model = \"unicamp-dl/translation-pt-en-t5\""
   ]
  },
  {
   "cell_type": "code",
   "execution_count": 121,
   "id": "informal-worship",
   "metadata": {},
   "outputs": [],
   "source": [
    "API_URL = \"https://api-inference.huggingface.co/models/\" + model"
   ]
  },
  {
   "cell_type": "code",
   "execution_count": 122,
   "id": "answering-amateur",
   "metadata": {},
   "outputs": [
    {
     "data": {
      "text/plain": [
       "[{'translation_text': 'This is a test!'}]"
      ]
     },
     "execution_count": 122,
     "metadata": {},
     "output_type": "execute_result"
    }
   ],
   "source": [
    "# test\n",
    "\n",
    "apply_model(\"Isto é um teste!\")"
   ]
  },
  {
   "cell_type": "code",
   "execution_count": 123,
   "id": "mechanical-scout",
   "metadata": {},
   "outputs": [
    {
     "name": "stdout",
     "output_type": "stream",
     "text": [
      "Wall time: 22.9 s\n"
     ]
    }
   ],
   "source": [
    "%%time\n",
    "\n",
    "tweets_translation = []\n",
    "\n",
    "for tweet in df_sample['text_full']:\n",
    "    \n",
    "    translation_result = apply_model(tweet)\n",
    "    tweets_translation.append({'translation': translation_result[0]['translation_text']})"
   ]
  },
  {
   "cell_type": "code",
   "execution_count": 124,
   "id": "vital-registrar",
   "metadata": {},
   "outputs": [
    {
     "data": {
      "text/html": [
       "<div>\n",
       "<style scoped>\n",
       "    .dataframe tbody tr th:only-of-type {\n",
       "        vertical-align: middle;\n",
       "    }\n",
       "\n",
       "    .dataframe tbody tr th {\n",
       "        vertical-align: top;\n",
       "    }\n",
       "\n",
       "    .dataframe thead th {\n",
       "        text-align: right;\n",
       "    }\n",
       "</style>\n",
       "<table border=\"1\" class=\"dataframe\">\n",
       "  <thead>\n",
       "    <tr style=\"text-align: right;\">\n",
       "      <th></th>\n",
       "      <th>id</th>\n",
       "      <th>text</th>\n",
       "      <th>retweets</th>\n",
       "      <th>replies</th>\n",
       "      <th>likes</th>\n",
       "      <th>quotes</th>\n",
       "      <th>created_at</th>\n",
       "      <th>tokens</th>\n",
       "      <th>text_full</th>\n",
       "      <th>sentiment</th>\n",
       "      <th>top_sentiment</th>\n",
       "      <th>score</th>\n",
       "      <th>label</th>\n",
       "      <th>translation</th>\n",
       "      <th>translation_sent</th>\n",
       "      <th>translation_top_sent</th>\n",
       "      <th>translation_score</th>\n",
       "      <th>translation_label</th>\n",
       "      <th>translation_t5</th>\n",
       "    </tr>\n",
       "  </thead>\n",
       "  <tbody>\n",
       "    <tr>\n",
       "      <th>0</th>\n",
       "      <td>1550250030476496900</td>\n",
       "      <td>Galp compra por 140 milhões os 25% da Titan So...</td>\n",
       "      <td>0</td>\n",
       "      <td>0</td>\n",
       "      <td>0</td>\n",
       "      <td>0</td>\n",
       "      <td>2022-07-21 22:43:04+00:00</td>\n",
       "      <td>[Galp, compra, por, 140, milhões, os, 25, da, ...</td>\n",
       "      <td>Galp compra por 140 milhões os 25% da Titan So...</td>\n",
       "      <td>[{'label': 'Neutral', 'score': 0.7745079398155...</td>\n",
       "      <td>{'label': 'Neutral', 'score': 0.7745079398155212}</td>\n",
       "      <td>0.774508</td>\n",
       "      <td>Neutral</td>\n",
       "      <td>Galp buys 140 million to 25% of Titan Solar th...</td>\n",
       "      <td>[{'label': 'Negative', 'score': 0.080651327967...</td>\n",
       "      <td>{'label': 'Neutral', 'score': 0.8546541333198547}</td>\n",
       "      <td>0.854654</td>\n",
       "      <td>Neutral</td>\n",
       "      <td>Galp buys for 140 million the 25% of Titan Sol...</td>\n",
       "    </tr>\n",
       "    <tr>\n",
       "      <th>1</th>\n",
       "      <td>1550246814963712001</td>\n",
       "      <td>A Galp convida portugueses a pensar fora do ca...</td>\n",
       "      <td>0</td>\n",
       "      <td>0</td>\n",
       "      <td>0</td>\n",
       "      <td>0</td>\n",
       "      <td>2022-07-21 22:30:17+00:00</td>\n",
       "      <td>[A, Galp, convida, portugueses, a, pensar, for...</td>\n",
       "      <td>A Galp convida portugueses a pensar fora do ca...</td>\n",
       "      <td>[{'label': 'Negative', 'score': 0.836504757404...</td>\n",
       "      <td>{'label': 'Negative', 'score': 0.8365047574043...</td>\n",
       "      <td>0.836505</td>\n",
       "      <td>Negative</td>\n",
       "      <td>The Galp invites Portuguese to think out of th...</td>\n",
       "      <td>[{'label': 'Negative', 'score': 0.335132241249...</td>\n",
       "      <td>{'label': 'Neutral', 'score': 0.6241118311882019}</td>\n",
       "      <td>0.624112</td>\n",
       "      <td>Neutral</td>\n",
       "      <td>A Galp invites Portuguese to think outside the...</td>\n",
       "    </tr>\n",
       "    <tr>\n",
       "      <th>2</th>\n",
       "      <td>1550243011350740992</td>\n",
       "      <td>Mais um ano que renovo o cartão jovem, mais um...</td>\n",
       "      <td>0</td>\n",
       "      <td>0</td>\n",
       "      <td>0</td>\n",
       "      <td>0</td>\n",
       "      <td>2022-07-21 22:15:10+00:00</td>\n",
       "      <td>[Mais, um, ano, que, renovo, o, cartão, jovem,...</td>\n",
       "      <td>Mais um ano que renovo o cartão jovem, mais um...</td>\n",
       "      <td>[{'label': 'Positive', 'score': 0.569248735904...</td>\n",
       "      <td>{'label': 'Positive', 'score': 0.5692487359046...</td>\n",
       "      <td>0.569249</td>\n",
       "      <td>Positive</td>\n",
       "      <td>More one year that renews the young card, more...</td>\n",
       "      <td>[{'label': 'Negative', 'score': 0.024882558733...</td>\n",
       "      <td>{'label': 'Neutral', 'score': 0.8553747534751892}</td>\n",
       "      <td>0.855375</td>\n",
       "      <td>Neutral</td>\n",
       "      <td>Another year that renew the young card, anothe...</td>\n",
       "    </tr>\n",
       "    <tr>\n",
       "      <th>3</th>\n",
       "      <td>1550242176407425024</td>\n",
       "      <td>@davidkirzner @LiberalNova @LiberalPT Achas? A...</td>\n",
       "      <td>0</td>\n",
       "      <td>0</td>\n",
       "      <td>0</td>\n",
       "      <td>0</td>\n",
       "      <td>2022-07-21 22:11:51+00:00</td>\n",
       "      <td>[Achas, A, moça, terminou, o, curso, há, pouco...</td>\n",
       "      <td>@davidkirzner @LiberalNova @LiberalPT Achas? A...</td>\n",
       "      <td>[{'label': 'Negative', 'score': 0.901339948177...</td>\n",
       "      <td>{'label': 'Negative', 'score': 0.9013399481773...</td>\n",
       "      <td>0.901340</td>\n",
       "      <td>Negative</td>\n",
       "      <td>@davidkirzner @LiberalNova @LiberalPT Achas? T...</td>\n",
       "      <td>[{'label': 'Negative', 'score': 0.117106109857...</td>\n",
       "      <td>{'label': 'Neutral', 'score': 0.8400129675865173}</td>\n",
       "      <td>0.840013</td>\n",
       "      <td>Neutral</td>\n",
       "      <td>What I am saying is that in Galp there are thous</td>\n",
       "    </tr>\n",
       "    <tr>\n",
       "      <th>4</th>\n",
       "      <td>1550240739170439169</td>\n",
       "      <td>#sicnoticias Não sei! Com a França a construir...</td>\n",
       "      <td>0</td>\n",
       "      <td>0</td>\n",
       "      <td>0</td>\n",
       "      <td>0</td>\n",
       "      <td>2022-07-21 22:06:08+00:00</td>\n",
       "      <td>[#sicnoticias, Não, sei, Com, a, França, a, co...</td>\n",
       "      <td>#sicnoticias Não sei! Com a França a construir...</td>\n",
       "      <td>[{'label': 'Neutral', 'score': 0.4744070768356...</td>\n",
       "      <td>{'label': 'Neutral', 'score': 0.4744070768356323}</td>\n",
       "      <td>0.474407</td>\n",
       "      <td>Neutral</td>\n",
       "      <td>#sicnotices I don't know! With France to build...</td>\n",
       "      <td>[{'label': 'Negative', 'score': 0.108840383589...</td>\n",
       "      <td>{'label': 'Neutral', 'score': 0.8227448463439941}</td>\n",
       "      <td>0.822745</td>\n",
       "      <td>Neutral</td>\n",
       "      <td>I don't know! With France building the World's...</td>\n",
       "    </tr>\n",
       "  </tbody>\n",
       "</table>\n",
       "</div>"
      ],
      "text/plain": [
       "                    id                                               text  \\\n",
       "0  1550250030476496900  Galp compra por 140 milhões os 25% da Titan So...   \n",
       "1  1550246814963712001  A Galp convida portugueses a pensar fora do ca...   \n",
       "2  1550243011350740992  Mais um ano que renovo o cartão jovem, mais um...   \n",
       "3  1550242176407425024  @davidkirzner @LiberalNova @LiberalPT Achas? A...   \n",
       "4  1550240739170439169  #sicnoticias Não sei! Com a França a construir...   \n",
       "\n",
       "   retweets  replies  likes  quotes                created_at  \\\n",
       "0         0        0      0       0 2022-07-21 22:43:04+00:00   \n",
       "1         0        0      0       0 2022-07-21 22:30:17+00:00   \n",
       "2         0        0      0       0 2022-07-21 22:15:10+00:00   \n",
       "3         0        0      0       0 2022-07-21 22:11:51+00:00   \n",
       "4         0        0      0       0 2022-07-21 22:06:08+00:00   \n",
       "\n",
       "                                              tokens  \\\n",
       "0  [Galp, compra, por, 140, milhões, os, 25, da, ...   \n",
       "1  [A, Galp, convida, portugueses, a, pensar, for...   \n",
       "2  [Mais, um, ano, que, renovo, o, cartão, jovem,...   \n",
       "3  [Achas, A, moça, terminou, o, curso, há, pouco...   \n",
       "4  [#sicnoticias, Não, sei, Com, a, França, a, co...   \n",
       "\n",
       "                                           text_full  \\\n",
       "0  Galp compra por 140 milhões os 25% da Titan So...   \n",
       "1  A Galp convida portugueses a pensar fora do ca...   \n",
       "2  Mais um ano que renovo o cartão jovem, mais um...   \n",
       "3  @davidkirzner @LiberalNova @LiberalPT Achas? A...   \n",
       "4  #sicnoticias Não sei! Com a França a construir...   \n",
       "\n",
       "                                           sentiment  \\\n",
       "0  [{'label': 'Neutral', 'score': 0.7745079398155...   \n",
       "1  [{'label': 'Negative', 'score': 0.836504757404...   \n",
       "2  [{'label': 'Positive', 'score': 0.569248735904...   \n",
       "3  [{'label': 'Negative', 'score': 0.901339948177...   \n",
       "4  [{'label': 'Neutral', 'score': 0.4744070768356...   \n",
       "\n",
       "                                       top_sentiment     score     label  \\\n",
       "0  {'label': 'Neutral', 'score': 0.7745079398155212}  0.774508   Neutral   \n",
       "1  {'label': 'Negative', 'score': 0.8365047574043...  0.836505  Negative   \n",
       "2  {'label': 'Positive', 'score': 0.5692487359046...  0.569249  Positive   \n",
       "3  {'label': 'Negative', 'score': 0.9013399481773...  0.901340  Negative   \n",
       "4  {'label': 'Neutral', 'score': 0.4744070768356323}  0.474407   Neutral   \n",
       "\n",
       "                                         translation  \\\n",
       "0  Galp buys 140 million to 25% of Titan Solar th...   \n",
       "1  The Galp invites Portuguese to think out of th...   \n",
       "2  More one year that renews the young card, more...   \n",
       "3  @davidkirzner @LiberalNova @LiberalPT Achas? T...   \n",
       "4  #sicnotices I don't know! With France to build...   \n",
       "\n",
       "                                    translation_sent  \\\n",
       "0  [{'label': 'Negative', 'score': 0.080651327967...   \n",
       "1  [{'label': 'Negative', 'score': 0.335132241249...   \n",
       "2  [{'label': 'Negative', 'score': 0.024882558733...   \n",
       "3  [{'label': 'Negative', 'score': 0.117106109857...   \n",
       "4  [{'label': 'Negative', 'score': 0.108840383589...   \n",
       "\n",
       "                                translation_top_sent  translation_score  \\\n",
       "0  {'label': 'Neutral', 'score': 0.8546541333198547}           0.854654   \n",
       "1  {'label': 'Neutral', 'score': 0.6241118311882019}           0.624112   \n",
       "2  {'label': 'Neutral', 'score': 0.8553747534751892}           0.855375   \n",
       "3  {'label': 'Neutral', 'score': 0.8400129675865173}           0.840013   \n",
       "4  {'label': 'Neutral', 'score': 0.8227448463439941}           0.822745   \n",
       "\n",
       "  translation_label                                     translation_t5  \n",
       "0           Neutral  Galp buys for 140 million the 25% of Titan Sol...  \n",
       "1           Neutral  A Galp invites Portuguese to think outside the...  \n",
       "2           Neutral  Another year that renew the young card, anothe...  \n",
       "3           Neutral   What I am saying is that in Galp there are thous  \n",
       "4           Neutral  I don't know! With France building the World's...  "
      ]
     },
     "execution_count": 124,
     "metadata": {},
     "output_type": "execute_result"
    }
   ],
   "source": [
    "df_sample['translation_t5'] = pd.DataFrame(tweets_translation)\n",
    "\n",
    "df_sample.head()"
   ]
  },
  {
   "cell_type": "code",
   "execution_count": 125,
   "id": "technological-apparel",
   "metadata": {},
   "outputs": [
    {
     "data": {
      "text/html": [
       "<div>\n",
       "<style scoped>\n",
       "    .dataframe tbody tr th:only-of-type {\n",
       "        vertical-align: middle;\n",
       "    }\n",
       "\n",
       "    .dataframe tbody tr th {\n",
       "        vertical-align: top;\n",
       "    }\n",
       "\n",
       "    .dataframe thead th {\n",
       "        text-align: right;\n",
       "    }\n",
       "</style>\n",
       "<table border=\"1\" class=\"dataframe\">\n",
       "  <thead>\n",
       "    <tr style=\"text-align: right;\">\n",
       "      <th></th>\n",
       "      <th>text_full</th>\n",
       "      <th>translation</th>\n",
       "      <th>translation_t5</th>\n",
       "    </tr>\n",
       "  </thead>\n",
       "  <tbody>\n",
       "    <tr>\n",
       "      <th>0</th>\n",
       "      <td>Galp compra por 140 milhões os 25% da Titan So...</td>\n",
       "      <td>Galp buys 140 million to 25% of Titan Solar th...</td>\n",
       "      <td>Galp buys for 140 million the 25% of Titan Sol...</td>\n",
       "    </tr>\n",
       "    <tr>\n",
       "      <th>1</th>\n",
       "      <td>A Galp convida portugueses a pensar fora do ca...</td>\n",
       "      <td>The Galp invites Portuguese to think out of th...</td>\n",
       "      <td>A Galp invites Portuguese to think outside the...</td>\n",
       "    </tr>\n",
       "    <tr>\n",
       "      <th>2</th>\n",
       "      <td>Mais um ano que renovo o cartão jovem, mais um...</td>\n",
       "      <td>More one year that renews the young card, more...</td>\n",
       "      <td>Another year that renew the young card, anothe...</td>\n",
       "    </tr>\n",
       "    <tr>\n",
       "      <th>3</th>\n",
       "      <td>@davidkirzner @LiberalNova @LiberalPT Achas? A...</td>\n",
       "      <td>@davidkirzner @LiberalNova @LiberalPT Achas? T...</td>\n",
       "      <td>What I am saying is that in Galp there are thous</td>\n",
       "    </tr>\n",
       "    <tr>\n",
       "      <th>4</th>\n",
       "      <td>#sicnoticias Não sei! Com a França a construir...</td>\n",
       "      <td>#sicnotices I don't know! With France to build...</td>\n",
       "      <td>I don't know! With France building the World's...</td>\n",
       "    </tr>\n",
       "    <tr>\n",
       "      <th>5</th>\n",
       "      <td>@RuiSilv30012076 @LiberalNova @LiberalPT Pois,...</td>\n",
       "      <td>@RuiSilv30012076 @LiberalNova @LiberalPT Yes, ...</td>\n",
       "      <td>Because, your friend was from CDS and gets a f...</td>\n",
       "    </tr>\n",
       "    <tr>\n",
       "      <th>6</th>\n",
       "      <td>@davidkirzner @LiberalNova @LiberalPT David ma...</td>\n",
       "      <td>@davidkirzner @LiberalNova @LiberalPT David bu...</td>\n",
       "      <td>So I have a friend who is not rich, never linked</td>\n",
       "    </tr>\n",
       "    <tr>\n",
       "      <th>7</th>\n",
       "      <td>Estamos a elaborar a nova Estratexia de Desenv...</td>\n",
       "      <td>We are developing the new Local Development St...</td>\n",
       "      <td>We are developing the new Participatory Local ...</td>\n",
       "    </tr>\n",
       "    <tr>\n",
       "      <th>8</th>\n",
       "      <td>Asociádevos ao #GALP e fomentemos xuntos o cre...</td>\n",
       "      <td>Join #GALP and together we promote economic gr...</td>\n",
       "      <td>#galp #mar #fish #Galicia https://t.co/30</td>\n",
       "    </tr>\n",
       "    <tr>\n",
       "      <th>9</th>\n",
       "      <td>Os campos de óleo \"supergigantes\" possuem + de...</td>\n",
       "      <td>The \"supergigant\" oil fields have + 5 billion ...</td>\n",
       "      <td>The \"super giant\" oil fields have + than 5 bil...</td>\n",
       "    </tr>\n",
       "    <tr>\n",
       "      <th>10</th>\n",
       "      <td>Se fores ao Avante apoias a invasão da Rússia....</td>\n",
       "      <td>If you're on the move, you'll support Russia's...</td>\n",
       "      <td>But if you use Zara, Primark, H&amp;amp;M,</td>\n",
       "    </tr>\n",
       "    <tr>\n",
       "      <th>11</th>\n",
       "      <td>@Fragoso_1906 sim, a Galp tem uma cena com o c...</td>\n",
       "      <td>@Fragososo_1906 Yes, Galp has a dinner with th...</td>\n",
       "      <td>Yes, Galp has a scene with the continent that you</td>\n",
       "    </tr>\n",
       "    <tr>\n",
       "      <th>12</th>\n",
       "      <td>A Titan 2020 foi criada em 2020 pela Galp e a ...</td>\n",
       "      <td>Titan 2020 was created in 2020 by Galp and the...</td>\n",
       "      <td>Titan 2020 was created in 2020 by Galp and the...</td>\n",
       "    </tr>\n",
       "    <tr>\n",
       "      <th>13</th>\n",
       "      <td>#galp Um belo exemplo da areia que nos atiram ...</td>\n",
       "      <td>#galp A beautiful example of the arena that at...</td>\n",
       "      <td>A beautiful example of the sand that throw us to</td>\n",
       "    </tr>\n",
       "    <tr>\n",
       "      <th>14</th>\n",
       "      <td>Galp paga 140 milhões por mais 25% da Titan e ...</td>\n",
       "      <td>Galp pays 140 million for more than 25% of Tit...</td>\n",
       "      <td>Galp pays 140 million for another 25% of Titan...</td>\n",
       "    </tr>\n",
       "    <tr>\n",
       "      <th>15</th>\n",
       "      <td>Galp paga 140 milhões por mais 25% da Titan e ...</td>\n",
       "      <td>Galp pays 140 million per more than 25% of Tit...</td>\n",
       "      <td>Galp pays 140 million for another 25% of Titan...</td>\n",
       "    </tr>\n",
       "    <tr>\n",
       "      <th>16</th>\n",
       "      <td>Galp passa a deter Titan após comprar restante...</td>\n",
       "      <td>Galp stops Titan after buying 25% left by 140 ...</td>\n",
       "      <td>Galp passes to detain Titan after buying the r...</td>\n",
       "    </tr>\n",
       "    <tr>\n",
       "      <th>17</th>\n",
       "      <td>Galp passa a deter Titan após comprar restante...</td>\n",
       "      <td>Galp takes hold of Titan after buying 25% by 1...</td>\n",
       "      <td>Galp starts to hold Titan after buying the remain</td>\n",
       "    </tr>\n",
       "    <tr>\n",
       "      <th>18</th>\n",
       "      <td>A Galp adquiriu os 24,99% que ainda não detinh...</td>\n",
       "      <td>Galp acquired the 24.99% that was not yet held...</td>\n",
       "      <td>Galp acquired the 24.99% that it has not yet</td>\n",
       "    </tr>\n",
       "    <tr>\n",
       "      <th>19</th>\n",
       "      <td>Galp compra mais 25% da Titan e passa a deter ...</td>\n",
       "      <td>Galp buys more than 25% of Titan and takes 100...</td>\n",
       "      <td>Galp buys more than 25% of Titan and starts to...</td>\n",
       "    </tr>\n",
       "  </tbody>\n",
       "</table>\n",
       "</div>"
      ],
      "text/plain": [
       "                                            text_full  \\\n",
       "0   Galp compra por 140 milhões os 25% da Titan So...   \n",
       "1   A Galp convida portugueses a pensar fora do ca...   \n",
       "2   Mais um ano que renovo o cartão jovem, mais um...   \n",
       "3   @davidkirzner @LiberalNova @LiberalPT Achas? A...   \n",
       "4   #sicnoticias Não sei! Com a França a construir...   \n",
       "5   @RuiSilv30012076 @LiberalNova @LiberalPT Pois,...   \n",
       "6   @davidkirzner @LiberalNova @LiberalPT David ma...   \n",
       "7   Estamos a elaborar a nova Estratexia de Desenv...   \n",
       "8   Asociádevos ao #GALP e fomentemos xuntos o cre...   \n",
       "9   Os campos de óleo \"supergigantes\" possuem + de...   \n",
       "10  Se fores ao Avante apoias a invasão da Rússia....   \n",
       "11  @Fragoso_1906 sim, a Galp tem uma cena com o c...   \n",
       "12  A Titan 2020 foi criada em 2020 pela Galp e a ...   \n",
       "13  #galp Um belo exemplo da areia que nos atiram ...   \n",
       "14  Galp paga 140 milhões por mais 25% da Titan e ...   \n",
       "15  Galp paga 140 milhões por mais 25% da Titan e ...   \n",
       "16  Galp passa a deter Titan após comprar restante...   \n",
       "17  Galp passa a deter Titan após comprar restante...   \n",
       "18  A Galp adquiriu os 24,99% que ainda não detinh...   \n",
       "19  Galp compra mais 25% da Titan e passa a deter ...   \n",
       "\n",
       "                                          translation  \\\n",
       "0   Galp buys 140 million to 25% of Titan Solar th...   \n",
       "1   The Galp invites Portuguese to think out of th...   \n",
       "2   More one year that renews the young card, more...   \n",
       "3   @davidkirzner @LiberalNova @LiberalPT Achas? T...   \n",
       "4   #sicnotices I don't know! With France to build...   \n",
       "5   @RuiSilv30012076 @LiberalNova @LiberalPT Yes, ...   \n",
       "6   @davidkirzner @LiberalNova @LiberalPT David bu...   \n",
       "7   We are developing the new Local Development St...   \n",
       "8   Join #GALP and together we promote economic gr...   \n",
       "9   The \"supergigant\" oil fields have + 5 billion ...   \n",
       "10  If you're on the move, you'll support Russia's...   \n",
       "11  @Fragososo_1906 Yes, Galp has a dinner with th...   \n",
       "12  Titan 2020 was created in 2020 by Galp and the...   \n",
       "13  #galp A beautiful example of the arena that at...   \n",
       "14  Galp pays 140 million for more than 25% of Tit...   \n",
       "15  Galp pays 140 million per more than 25% of Tit...   \n",
       "16  Galp stops Titan after buying 25% left by 140 ...   \n",
       "17  Galp takes hold of Titan after buying 25% by 1...   \n",
       "18  Galp acquired the 24.99% that was not yet held...   \n",
       "19  Galp buys more than 25% of Titan and takes 100...   \n",
       "\n",
       "                                       translation_t5  \n",
       "0   Galp buys for 140 million the 25% of Titan Sol...  \n",
       "1   A Galp invites Portuguese to think outside the...  \n",
       "2   Another year that renew the young card, anothe...  \n",
       "3    What I am saying is that in Galp there are thous  \n",
       "4   I don't know! With France building the World's...  \n",
       "5   Because, your friend was from CDS and gets a f...  \n",
       "6    So I have a friend who is not rich, never linked  \n",
       "7   We are developing the new Participatory Local ...  \n",
       "8           #galp #mar #fish #Galicia https://t.co/30  \n",
       "9   The \"super giant\" oil fields have + than 5 bil...  \n",
       "10             But if you use Zara, Primark, H&amp;M,  \n",
       "11  Yes, Galp has a scene with the continent that you  \n",
       "12  Titan 2020 was created in 2020 by Galp and the...  \n",
       "13   A beautiful example of the sand that throw us to  \n",
       "14  Galp pays 140 million for another 25% of Titan...  \n",
       "15  Galp pays 140 million for another 25% of Titan...  \n",
       "16  Galp passes to detain Titan after buying the r...  \n",
       "17  Galp starts to hold Titan after buying the remain  \n",
       "18       Galp acquired the 24.99% that it has not yet  \n",
       "19  Galp buys more than 25% of Titan and starts to...  "
      ]
     },
     "execution_count": 125,
     "metadata": {},
     "output_type": "execute_result"
    }
   ],
   "source": [
    "text_columns = ['text_full', 'translation', 'translation_t5']\n",
    "\n",
    "df_sample[text_columns]"
   ]
  },
  {
   "cell_type": "code",
   "execution_count": 130,
   "id": "moved-palestine",
   "metadata": {},
   "outputs": [
    {
     "name": "stdout",
     "output_type": "stream",
     "text": [
      "['@davidkirzner @LiberalNova @LiberalPT Achas? A moça terminou o curso há pouco tempo e concorreu á Galp... O que estou a dizer é que na Galp trabalham milhares e milhares de pessoas, não é por trabalhar na Galp que somos maus. Nem sequer são eles que decidem preços e afins 😕'\n",
      " \"@davidkirzner @LiberalNova @LiberalPT Achas? The girl finished the course a little while ago and competed at Galp... What I'm saying is that in Galp thousands and thousands of people work, it's not about working in Galp that we're bad. Not even they are who decide prices and business\"\n",
      " 'What I am saying is that in Galp there are thous']\n"
     ]
    }
   ],
   "source": [
    "print(df_sample[text_columns].iloc[3].values)"
   ]
  },
  {
   "cell_type": "code",
   "execution_count": 131,
   "id": "hindu-digit",
   "metadata": {},
   "outputs": [
    {
     "name": "stdout",
     "output_type": "stream",
     "text": [
      "['#galp Um belo exemplo da areia que nos atiram para os olhos quando dizem que a petrolíferas não ganham ( tanto) dinheiro como deviam, #edp mesma coisa, chulos e miseráveis é o que fulanos são, com a conivência governamental https://t.co/nL08rnxd8p'\n",
      " \"#galp A beautiful example of the arena that attracted us to our eyes when they say that oillifters don't earn (as much) money as they should, #edp the same thing, noise and misery is what crazy are, with the government conviction https://t.co/nL08rnxd8p\"\n",
      " 'A beautiful example of the sand that throw us to']\n"
     ]
    }
   ],
   "source": [
    "print(df_sample[text_columns].iloc[13].values)"
   ]
  },
  {
   "cell_type": "code",
   "execution_count": 136,
   "id": "significant-synthesis",
   "metadata": {},
   "outputs": [
    {
     "name": "stdout",
     "output_type": "stream",
     "text": [
      "['#sicnoticias Não sei! Com a França a construir a Nuclear maior do Mundo em produção de energia.....que vai exportar, a curto prazo não sei porque não á incentivos a aquecimento ect...cozinhar tudo a indução, até energia do vento tomar conta do assunto ... Á EDP ou Galp sem luvas!'\n",
      " \"#sicnotices I don't know! With France to build the world's largest nuclear power production...... which will export, the short term I don't know why not to the incentives for heating etc...coincin all the induction, until wind energy take account of the matter ... to EDP or Galp without holes!\"\n",
      " \"I don't know! With France building the World's larges\"]\n"
     ]
    }
   ],
   "source": [
    "print(df_sample[text_columns].iloc[4].values)"
   ]
  },
  {
   "cell_type": "code",
   "execution_count": 141,
   "id": "comparative-digit",
   "metadata": {},
   "outputs": [
    {
     "data": {
      "text/html": [
       "<div>\n",
       "<style scoped>\n",
       "    .dataframe tbody tr th:only-of-type {\n",
       "        vertical-align: middle;\n",
       "    }\n",
       "\n",
       "    .dataframe tbody tr th {\n",
       "        vertical-align: top;\n",
       "    }\n",
       "\n",
       "    .dataframe thead th {\n",
       "        text-align: right;\n",
       "    }\n",
       "</style>\n",
       "<table border=\"1\" class=\"dataframe\">\n",
       "  <thead>\n",
       "    <tr style=\"text-align: right;\">\n",
       "      <th></th>\n",
       "      <th>text_full</th>\n",
       "      <th>translation</th>\n",
       "      <th>translation_t5</th>\n",
       "    </tr>\n",
       "  </thead>\n",
       "  <tbody>\n",
       "    <tr>\n",
       "      <th>0</th>\n",
       "      <td>95</td>\n",
       "      <td>90</td>\n",
       "      <td>64</td>\n",
       "    </tr>\n",
       "    <tr>\n",
       "      <th>1</th>\n",
       "      <td>199</td>\n",
       "      <td>195</td>\n",
       "      <td>51</td>\n",
       "    </tr>\n",
       "    <tr>\n",
       "      <th>2</th>\n",
       "      <td>222</td>\n",
       "      <td>249</td>\n",
       "      <td>57</td>\n",
       "    </tr>\n",
       "    <tr>\n",
       "      <th>3</th>\n",
       "      <td>274</td>\n",
       "      <td>284</td>\n",
       "      <td>48</td>\n",
       "    </tr>\n",
       "    <tr>\n",
       "      <th>4</th>\n",
       "      <td>280</td>\n",
       "      <td>294</td>\n",
       "      <td>53</td>\n",
       "    </tr>\n",
       "    <tr>\n",
       "      <th>5</th>\n",
       "      <td>117</td>\n",
       "      <td>118</td>\n",
       "      <td>50</td>\n",
       "    </tr>\n",
       "    <tr>\n",
       "      <th>6</th>\n",
       "      <td>206</td>\n",
       "      <td>207</td>\n",
       "      <td>48</td>\n",
       "    </tr>\n",
       "    <tr>\n",
       "      <th>7</th>\n",
       "      <td>239</td>\n",
       "      <td>204</td>\n",
       "      <td>73</td>\n",
       "    </tr>\n",
       "    <tr>\n",
       "      <th>8</th>\n",
       "      <td>250</td>\n",
       "      <td>222</td>\n",
       "      <td>41</td>\n",
       "    </tr>\n",
       "    <tr>\n",
       "      <th>9</th>\n",
       "      <td>278</td>\n",
       "      <td>240</td>\n",
       "      <td>50</td>\n",
       "    </tr>\n",
       "    <tr>\n",
       "      <th>10</th>\n",
       "      <td>237</td>\n",
       "      <td>252</td>\n",
       "      <td>38</td>\n",
       "    </tr>\n",
       "    <tr>\n",
       "      <th>11</th>\n",
       "      <td>104</td>\n",
       "      <td>113</td>\n",
       "      <td>49</td>\n",
       "    </tr>\n",
       "    <tr>\n",
       "      <th>12</th>\n",
       "      <td>193</td>\n",
       "      <td>172</td>\n",
       "      <td>58</td>\n",
       "    </tr>\n",
       "    <tr>\n",
       "      <th>13</th>\n",
       "      <td>247</td>\n",
       "      <td>253</td>\n",
       "      <td>48</td>\n",
       "    </tr>\n",
       "    <tr>\n",
       "      <th>14</th>\n",
       "      <td>119</td>\n",
       "      <td>121</td>\n",
       "      <td>61</td>\n",
       "    </tr>\n",
       "    <tr>\n",
       "      <th>15</th>\n",
       "      <td>119</td>\n",
       "      <td>121</td>\n",
       "      <td>61</td>\n",
       "    </tr>\n",
       "    <tr>\n",
       "      <th>16</th>\n",
       "      <td>112</td>\n",
       "      <td>98</td>\n",
       "      <td>54</td>\n",
       "    </tr>\n",
       "    <tr>\n",
       "      <th>17</th>\n",
       "      <td>109</td>\n",
       "      <td>97</td>\n",
       "      <td>49</td>\n",
       "    </tr>\n",
       "    <tr>\n",
       "      <th>18</th>\n",
       "      <td>181</td>\n",
       "      <td>175</td>\n",
       "      <td>44</td>\n",
       "    </tr>\n",
       "    <tr>\n",
       "      <th>19</th>\n",
       "      <td>85</td>\n",
       "      <td>86</td>\n",
       "      <td>56</td>\n",
       "    </tr>\n",
       "  </tbody>\n",
       "</table>\n",
       "</div>"
      ],
      "text/plain": [
       "    text_full  translation  translation_t5\n",
       "0          95           90              64\n",
       "1         199          195              51\n",
       "2         222          249              57\n",
       "3         274          284              48\n",
       "4         280          294              53\n",
       "5         117          118              50\n",
       "6         206          207              48\n",
       "7         239          204              73\n",
       "8         250          222              41\n",
       "9         278          240              50\n",
       "10        237          252              38\n",
       "11        104          113              49\n",
       "12        193          172              58\n",
       "13        247          253              48\n",
       "14        119          121              61\n",
       "15        119          121              61\n",
       "16        112           98              54\n",
       "17        109           97              49\n",
       "18        181          175              44\n",
       "19         85           86              56"
      ]
     },
     "execution_count": 141,
     "metadata": {},
     "output_type": "execute_result"
    }
   ],
   "source": [
    "# lenght of each original and translated tweet\n",
    "\n",
    "df_sample[text_columns].applymap(lambda x: len(x))"
   ]
  },
  {
   "cell_type": "markdown",
   "id": "smooth-coordination",
   "metadata": {},
   "source": [
    "For some reason, most of the tweets translated with T5 are truncated, but I cannot understand why..."
   ]
  }
 ],
 "metadata": {
  "kernelspec": {
   "display_name": "Python 3",
   "language": "python",
   "name": "python3"
  },
  "language_info": {
   "codemirror_mode": {
    "name": "ipython",
    "version": 3
   },
   "file_extension": ".py",
   "mimetype": "text/x-python",
   "name": "python",
   "nbconvert_exporter": "python",
   "pygments_lexer": "ipython3",
   "version": "3.8.8"
  }
 },
 "nbformat": 4,
 "nbformat_minor": 5
}
