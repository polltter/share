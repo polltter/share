{
 "cells": [
  {
   "cell_type": "markdown",
   "id": "beneficial-pixel",
   "metadata": {},
   "source": [
    "# C-More"
   ]
  },
  {
   "cell_type": "code",
   "execution_count": 1,
   "id": "filled-madison",
   "metadata": {},
   "outputs": [],
   "source": [
    "import pandas as pd\n",
    "\n",
    "from collections import Counter\n",
    "\n",
    "from nltk.tokenize import TweetTokenizer\n",
    "import string"
   ]
  },
  {
   "cell_type": "markdown",
   "id": "empty-sister",
   "metadata": {},
   "source": [
    "Our goal is to use the HuggingFace API, https://huggingface.co/docs/api-inference/quicktour, to analyse the sentiment of tweets written in Portuguese (PT). We have two options to achieve this:\n",
    "\n",
    "* get the sentiment directly from the tweets in PT\n",
    "* translate the tweets to EN and get the sentiment of the translated tweets\n",
    "\n",
    "We will start by replacing some of the most common abbreviations in social media texts with full words."
   ]
  },
  {
   "cell_type": "markdown",
   "id": "assured-glenn",
   "metadata": {},
   "source": [
    "#### 1. Process text"
   ]
  },
  {
   "cell_type": "code",
   "execution_count": 2,
   "id": "decreased-sydney",
   "metadata": {},
   "outputs": [],
   "source": [
    "df = pd.read_pickle('data_galp.pkl')"
   ]
  },
  {
   "cell_type": "code",
   "execution_count": 3,
   "id": "medical-reading",
   "metadata": {},
   "outputs": [
    {
     "data": {
      "text/html": [
       "<div>\n",
       "<style scoped>\n",
       "    .dataframe tbody tr th:only-of-type {\n",
       "        vertical-align: middle;\n",
       "    }\n",
       "\n",
       "    .dataframe tbody tr th {\n",
       "        vertical-align: top;\n",
       "    }\n",
       "\n",
       "    .dataframe thead th {\n",
       "        text-align: right;\n",
       "    }\n",
       "</style>\n",
       "<table border=\"1\" class=\"dataframe\">\n",
       "  <thead>\n",
       "    <tr style=\"text-align: right;\">\n",
       "      <th></th>\n",
       "      <th>id</th>\n",
       "      <th>text</th>\n",
       "      <th>retweets</th>\n",
       "      <th>replies</th>\n",
       "      <th>likes</th>\n",
       "      <th>quotes</th>\n",
       "      <th>created_at</th>\n",
       "    </tr>\n",
       "  </thead>\n",
       "  <tbody>\n",
       "    <tr>\n",
       "      <th>0</th>\n",
       "      <td>1550250030476496900</td>\n",
       "      <td>Galp compra por 140 milhões os 25% da Titan So...</td>\n",
       "      <td>0</td>\n",
       "      <td>0</td>\n",
       "      <td>0</td>\n",
       "      <td>0</td>\n",
       "      <td>2022-07-21 22:43:04+00:00</td>\n",
       "    </tr>\n",
       "    <tr>\n",
       "      <th>1</th>\n",
       "      <td>1550246814963712001</td>\n",
       "      <td>A Galp convida portugueses a pensar fora do ca...</td>\n",
       "      <td>0</td>\n",
       "      <td>0</td>\n",
       "      <td>0</td>\n",
       "      <td>0</td>\n",
       "      <td>2022-07-21 22:30:17+00:00</td>\n",
       "    </tr>\n",
       "    <tr>\n",
       "      <th>2</th>\n",
       "      <td>1550243011350740992</td>\n",
       "      <td>Mais um ano que renovo o cartão jovem, mais um...</td>\n",
       "      <td>0</td>\n",
       "      <td>0</td>\n",
       "      <td>0</td>\n",
       "      <td>0</td>\n",
       "      <td>2022-07-21 22:15:10+00:00</td>\n",
       "    </tr>\n",
       "    <tr>\n",
       "      <th>3</th>\n",
       "      <td>1550242176407425024</td>\n",
       "      <td>@davidkirzner @LiberalNova @LiberalPT Achas? A...</td>\n",
       "      <td>0</td>\n",
       "      <td>0</td>\n",
       "      <td>0</td>\n",
       "      <td>0</td>\n",
       "      <td>2022-07-21 22:11:51+00:00</td>\n",
       "    </tr>\n",
       "    <tr>\n",
       "      <th>4</th>\n",
       "      <td>1550240739170439169</td>\n",
       "      <td>#sicnoticias Não sei! Com a França a construir...</td>\n",
       "      <td>0</td>\n",
       "      <td>0</td>\n",
       "      <td>0</td>\n",
       "      <td>0</td>\n",
       "      <td>2022-07-21 22:06:08+00:00</td>\n",
       "    </tr>\n",
       "  </tbody>\n",
       "</table>\n",
       "</div>"
      ],
      "text/plain": [
       "                    id                                               text  \\\n",
       "0  1550250030476496900  Galp compra por 140 milhões os 25% da Titan So...   \n",
       "1  1550246814963712001  A Galp convida portugueses a pensar fora do ca...   \n",
       "2  1550243011350740992  Mais um ano que renovo o cartão jovem, mais um...   \n",
       "3  1550242176407425024  @davidkirzner @LiberalNova @LiberalPT Achas? A...   \n",
       "4  1550240739170439169  #sicnoticias Não sei! Com a França a construir...   \n",
       "\n",
       "   retweets  replies  likes  quotes                created_at  \n",
       "0         0        0      0       0 2022-07-21 22:43:04+00:00  \n",
       "1         0        0      0       0 2022-07-21 22:30:17+00:00  \n",
       "2         0        0      0       0 2022-07-21 22:15:10+00:00  \n",
       "3         0        0      0       0 2022-07-21 22:11:51+00:00  \n",
       "4         0        0      0       0 2022-07-21 22:06:08+00:00  "
      ]
     },
     "execution_count": 3,
     "metadata": {},
     "output_type": "execute_result"
    }
   ],
   "source": [
    "df.head()"
   ]
  },
  {
   "cell_type": "code",
   "execution_count": 4,
   "id": "tough-activation",
   "metadata": {},
   "outputs": [
    {
     "name": "stdout",
     "output_type": "stream",
     "text": [
      "<class 'pandas.core.frame.DataFrame'>\n",
      "RangeIndex: 125 entries, 0 to 124\n",
      "Data columns (total 7 columns):\n",
      " #   Column      Non-Null Count  Dtype              \n",
      "---  ------      --------------  -----              \n",
      " 0   id          125 non-null    int64              \n",
      " 1   text        125 non-null    object             \n",
      " 2   retweets    125 non-null    int64              \n",
      " 3   replies     125 non-null    int64              \n",
      " 4   likes       125 non-null    int64              \n",
      " 5   quotes      125 non-null    int64              \n",
      " 6   created_at  125 non-null    datetime64[ns, UTC]\n",
      "dtypes: datetime64[ns, UTC](1), int64(5), object(1)\n",
      "memory usage: 7.0+ KB\n"
     ]
    }
   ],
   "source": [
    "df.info()"
   ]
  },
  {
   "cell_type": "markdown",
   "id": "molecular-stream",
   "metadata": {},
   "source": [
    "We can tokenize our texts to identify some of the most common abbreviations."
   ]
  },
  {
   "cell_type": "code",
   "execution_count": 5,
   "id": "detailed-change",
   "metadata": {},
   "outputs": [],
   "source": [
    "# tokenize text and remove punctuation\n",
    "\n",
    "def tokens_nopunct(text):\n",
    "    \n",
    "    tokens = [token for token in TweetTokenizer(reduce_len=True, strip_handles=True).tokenize(text)]\n",
    "    return [token for token in tokens if token not in string.punctuation]"
   ]
  },
  {
   "cell_type": "code",
   "execution_count": 6,
   "id": "radio-evanescence",
   "metadata": {},
   "outputs": [],
   "source": [
    "df['tokens'] = df['text'].map(tokens_nopunct)"
   ]
  },
  {
   "cell_type": "code",
   "execution_count": 7,
   "id": "presidential-kenya",
   "metadata": {},
   "outputs": [],
   "source": [
    "counter = Counter()\n",
    "\n",
    "for tokens in df['tokens']:\n",
    "    counter.update(tokens)"
   ]
  },
  {
   "cell_type": "code",
   "execution_count": 9,
   "id": "outstanding-wallpaper",
   "metadata": {},
   "outputs": [
    {
     "data": {
      "text/plain": [
       "[('a', 146),\n",
       " ('de', 97),\n",
       " ('e', 85),\n",
       " ('que', 77),\n",
       " ('o', 69),\n",
       " ('da', 63),\n",
       " ('do', 36),\n",
       " ('é', 33),\n",
       " ('em', 33),\n",
       " ('não', 29),\n",
       " ('com', 29),\n",
       " ('as', 25),\n",
       " ('A', 24),\n",
       " ('os', 22),\n",
       " ('na', 22),\n",
       " ('no', 22),\n",
       " ('uma', 19),\n",
       " ('um', 19),\n",
       " ('...', 18),\n",
       " ('dos', 17),\n",
       " ('EDP', 15),\n",
       " ('por', 14),\n",
       " ('O', 13),\n",
       " ('nos', 12),\n",
       " ('ao', 11),\n",
       " ('q', 11),\n",
       " ('tem', 11),\n",
       " ('se', 11),\n",
       " ('foi', 11),\n",
       " ('à', 9),\n",
       " ('só', 8),\n",
       " ('me', 8),\n",
       " ('Não', 8),\n",
       " ('ser', 8),\n",
       " ('140', 7),\n",
       " ('25', 7),\n",
       " ('“', 7),\n",
       " ('”', 7)]"
      ]
     },
     "execution_count": 9,
     "metadata": {},
     "output_type": "execute_result"
    }
   ],
   "source": [
    "# most common tokens with length < 4\n",
    "\n",
    "[token for token in counter.most_common(50) if len(token[0]) < 4]"
   ]
  },
  {
   "cell_type": "code",
   "execution_count": 10,
   "id": "injured-recovery",
   "metadata": {},
   "outputs": [
    {
     "name": "stdout",
     "output_type": "stream",
     "text": [
      "['A Galp convida portugueses a pensar fora do carro..e quem disser Q isto é só “uma limpeza de imagem”, a Galp, manda “dar banho ao cão”. A máscara 😷 cai. #De-evolution. AbsurdQ https://t.co/TW2XljNvxI'\n",
      " '@davidkirzner @LiberalNova @LiberalPT Achas? A moça terminou o curso há pouco tempo e concorreu á Galp... O q estou a dizer é q na Galp trabalham milhares e milhares de pessoas, não é por trabalhar na Galp q somos maus. Nem sequer são eles q decidem preços e afins 😕'\n",
      " '@davidkirzner @LiberalNova @LiberalPT David mas eu tenho uma amiga q não é Rica, nunca ligou a Política, é uma excelente pessoa e profissional e trabalha na Galp. Tipo, a Galp tem milhares de funcionários'\n",
      " '@Fragoso_1906 sim, a Galp tem uma cena com o continente q tens desconto na fatura e vai para o cartão!'\n",
      " '@RuiPaiva5 Já andam todos em pânico. Até lhes tremem as pernas só de pensar no q aconteceu à GALP. https://t.co/puXUVI70da'\n",
      " '@tiagojcgodinho @MestredoUnive19 @PSSantiago88 Tens noção q há \"ativos\" encostados n EDP, na Galp, n brisa etc? Mas tu achas q as empresas andam a procura de \"alternativas\" para esse \"ativos\"? lol'\n",
      " 'acabei de ver o video da moça q ten um galinheiro e simplesmente fez meu dia,o galp dela cjama João gomes.'\n",
      " \"@psocialista @LiberalPT @ppdpsd \\nMAL q é feito aos portugueses.\\nÑ basta falar na elevada 'carga' fiscal, tb dos baixos salários face a inflação ~9%\\nPQ isto tb conta, qd ESTADO é acionista da Galp, em 7%\\nhttps://t.co/sYtJAQQAQ4\\n'TUGA' SOFRE...\\nhttps://t.co/eD0R4EIrXL via @expresso\"]\n"
     ]
    }
   ],
   "source": [
    "# 'q' is one of the most common abbreviations\n",
    "\n",
    "print(df[df['text'].str.contains(\" q \", case=False)]['text'].values)"
   ]
  },
  {
   "cell_type": "code",
   "execution_count": 11,
   "id": "trying-visibility",
   "metadata": {},
   "outputs": [],
   "source": [
    "# dictionary with abbreviations to replace\n",
    "\n",
    "abrev = {\" q \": \" que \"}"
   ]
  },
  {
   "cell_type": "code",
   "execution_count": 12,
   "id": "aquatic-leisure",
   "metadata": {},
   "outputs": [
    {
     "name": "stdout",
     "output_type": "stream",
     "text": [
      "[\"@psocialista @LiberalPT @ppdpsd \\nMAL q é feito aos portugueses.\\nÑ basta falar na elevada 'carga' fiscal, tb dos baixos salários face a inflação ~9%\\nPQ isto tb conta, qd ESTADO é acionista da Galp, em 7%\\nhttps://t.co/sYtJAQQAQ4\\n'TUGA' SOFRE...\\nhttps://t.co/eD0R4EIrXL via @expresso\"\n",
      " '@jbizarro Acidentes de viação, segundo as estatísticas, tb foram menos, e a Galp, segundo se soube, teve prejuízos avultados, teve menos lucros.🤦']\n"
     ]
    }
   ],
   "source": [
    "# other abbreviations: 'tb'\n",
    "\n",
    "print(df[df['text'].str.contains(\" tb \", case=False)]['text'].values)"
   ]
  },
  {
   "cell_type": "code",
   "execution_count": 13,
   "id": "unauthorized-supervision",
   "metadata": {},
   "outputs": [],
   "source": [
    "abrev[\" tb \"] = \" também \""
   ]
  },
  {
   "cell_type": "code",
   "execution_count": 14,
   "id": "accurate-belarus",
   "metadata": {},
   "outputs": [
    {
     "name": "stdout",
     "output_type": "stream",
     "text": [
      "[\"@psocialista @LiberalPT @ppdpsd \\nMAL q é feito aos portugueses.\\nÑ basta falar na elevada 'carga' fiscal, tb dos baixos salários face a inflação ~9%\\nPQ isto tb conta, qd ESTADO é acionista da Galp, em 7%\\nhttps://t.co/sYtJAQQAQ4\\n'TUGA' SOFRE...\\nhttps://t.co/eD0R4EIrXL via @expresso\"]\n"
     ]
    }
   ],
   "source": [
    "# other abbreviations: 'qd'\n",
    "\n",
    "print(df[df['text'].str.contains(\" qd \", case=False)]['text'].values)"
   ]
  },
  {
   "cell_type": "code",
   "execution_count": 15,
   "id": "approximate-taylor",
   "metadata": {},
   "outputs": [],
   "source": [
    "# other abbreviations to replace\n",
    "\n",
    "abrev[\" qd \"] = \" quando \"\n",
    "abrev[\" ñ \"] = \" não \"\n",
    "abrev[\" pq \"] = \" porque \"\n",
    "abrev[\" hj \"] = \" hoje \""
   ]
  },
  {
   "cell_type": "code",
   "execution_count": 16,
   "id": "increased-warren",
   "metadata": {},
   "outputs": [
    {
     "data": {
      "text/plain": [
       "{' q ': ' que ',\n",
       " ' tb ': ' também ',\n",
       " ' qd ': ' quando ',\n",
       " ' ñ ': ' não ',\n",
       " ' pq ': ' porque ',\n",
       " ' hj ': ' hoje '}"
      ]
     },
     "execution_count": 16,
     "metadata": {},
     "output_type": "execute_result"
    }
   ],
   "source": [
    "abrev"
   ]
  },
  {
   "cell_type": "markdown",
   "id": "requested-dakota",
   "metadata": {},
   "source": [
    "This is not an exhaustive list of abbreviations to replace, but it could be updated according to our needs.\n",
    "\n",
    "Another way of doing this would be using regular expressions to account for all occurrences (and not only lowercase abbreviations with blank spaces at both ends).\n",
    "\n",
    "We could also try to use a spell checker."
   ]
  },
  {
   "cell_type": "code",
   "execution_count": 17,
   "id": "utility-hygiene",
   "metadata": {},
   "outputs": [],
   "source": [
    "# replace abbreviations by word\n",
    "\n",
    "def replace_abrev(text, dic):\n",
    "    for k, v in dic.items():\n",
    "        text = text.replace(k, v)\n",
    "    return text"
   ]
  },
  {
   "cell_type": "code",
   "execution_count": 18,
   "id": "determined-australia",
   "metadata": {},
   "outputs": [],
   "source": [
    "df['text_full'] = df['text'].apply(replace_abrev, dic=abrev)"
   ]
  },
  {
   "cell_type": "code",
   "execution_count": 19,
   "id": "boolean-sigma",
   "metadata": {},
   "outputs": [
    {
     "name": "stdout",
     "output_type": "stream",
     "text": [
      "['@davidkirzner @LiberalNova @LiberalPT Achas? A moça terminou o curso há pouco tempo e concorreu á Galp... O q estou a dizer é q na Galp trabalham milhares e milhares de pessoas, não é por trabalhar na Galp q somos maus. Nem sequer são eles q decidem preços e afins 😕'] \n",
      "\n",
      " ['@davidkirzner @LiberalNova @LiberalPT Achas? A moça terminou o curso há pouco tempo e concorreu á Galp... O que estou a dizer é que na Galp trabalham milhares e milhares de pessoas, não é por trabalhar na Galp que somos maus. Nem sequer são eles que decidem preços e afins 😕']\n"
     ]
    }
   ],
   "source": [
    "# example 1\n",
    "\n",
    "print(df[df['text'].str.contains(\"milhares e milhares\", case=False)]['text'].values, \n",
    "      '\\n\\n', \n",
    "      df[df['text_full'].str.contains(\"milhares e milhares\", case=False)]['text_full'].values)"
   ]
  },
  {
   "cell_type": "code",
   "execution_count": 20,
   "id": "focused-atlanta",
   "metadata": {},
   "outputs": [
    {
     "name": "stdout",
     "output_type": "stream",
     "text": [
      "['@jbizarro Acidentes de viação, segundo as estatísticas, tb foram menos, e a Galp, segundo se soube, teve prejuízos avultados, teve menos lucros.🤦'] \n",
      "\n",
      " ['@jbizarro Acidentes de viação, segundo as estatísticas, também foram menos, e a Galp, segundo se soube, teve prejuízos avultados, teve menos lucros.🤦']\n"
     ]
    }
   ],
   "source": [
    "# example 2\n",
    "\n",
    "print(df[df['text'].str.contains(\"estatísticas\", case=False)]['text'].values, \n",
    "      '\\n\\n', \n",
    "      df[df['text_full'].str.contains(\"estatísticas\", case=False)]['text_full'].values)"
   ]
  }
 ],
 "metadata": {
  "kernelspec": {
   "display_name": "Python 3",
   "language": "python",
   "name": "python3"
  },
  "language_info": {
   "codemirror_mode": {
    "name": "ipython",
    "version": 3
   },
   "file_extension": ".py",
   "mimetype": "text/x-python",
   "name": "python",
   "nbconvert_exporter": "python",
   "pygments_lexer": "ipython3",
   "version": "3.8.8"
  }
 },
 "nbformat": 4,
 "nbformat_minor": 5
}
