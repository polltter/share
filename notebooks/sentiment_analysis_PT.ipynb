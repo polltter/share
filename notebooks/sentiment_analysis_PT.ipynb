{
 "cells": [
  {
   "cell_type": "markdown",
   "id": "beneficial-pixel",
   "metadata": {},
   "source": [
    "# C-More"
   ]
  },
  {
   "cell_type": "code",
   "execution_count": 1,
   "id": "filled-madison",
   "metadata": {},
   "outputs": [],
   "source": [
    "import pandas as pd\n",
    "\n",
    "from collections import Counter\n",
    "\n",
    "from nltk.tokenize import TweetTokenizer\n",
    "import string"
   ]
  },
  {
   "cell_type": "markdown",
   "id": "empty-sister",
   "metadata": {},
   "source": [
    "Our goal is to use the HuggingFace API, https://huggingface.co/docs/api-inference/quicktour, to analyse the sentiment of tweets written in Portuguese (PT). We have two options to achieve this:\n",
    "\n",
    "* get the sentiment directly from the tweets in PT\n",
    "* translate the tweets to EN and get the sentiment of the translated tweets\n",
    "\n",
    "We will start by replacing some of the most common abbreviations in social media texts with full words."
   ]
  },
  {
   "cell_type": "markdown",
   "id": "assured-glenn",
   "metadata": {},
   "source": [
    "#### 1. Process text"
   ]
  },
  {
   "cell_type": "code",
   "execution_count": 2,
   "id": "decreased-sydney",
   "metadata": {},
   "outputs": [],
   "source": [
    "df = pd.read_pickle('data_galp.pkl')"
   ]
  },
  {
   "cell_type": "code",
   "execution_count": 3,
   "id": "medical-reading",
   "metadata": {},
   "outputs": [
    {
     "data": {
      "text/html": [
       "<div>\n",
       "<style scoped>\n",
       "    .dataframe tbody tr th:only-of-type {\n",
       "        vertical-align: middle;\n",
       "    }\n",
       "\n",
       "    .dataframe tbody tr th {\n",
       "        vertical-align: top;\n",
       "    }\n",
       "\n",
       "    .dataframe thead th {\n",
       "        text-align: right;\n",
       "    }\n",
       "</style>\n",
       "<table border=\"1\" class=\"dataframe\">\n",
       "  <thead>\n",
       "    <tr style=\"text-align: right;\">\n",
       "      <th></th>\n",
       "      <th>id</th>\n",
       "      <th>text</th>\n",
       "      <th>retweets</th>\n",
       "      <th>replies</th>\n",
       "      <th>likes</th>\n",
       "      <th>quotes</th>\n",
       "      <th>created_at</th>\n",
       "    </tr>\n",
       "  </thead>\n",
       "  <tbody>\n",
       "    <tr>\n",
       "      <th>0</th>\n",
       "      <td>1550250030476496900</td>\n",
       "      <td>Galp compra por 140 milhões os 25% da Titan So...</td>\n",
       "      <td>0</td>\n",
       "      <td>0</td>\n",
       "      <td>0</td>\n",
       "      <td>0</td>\n",
       "      <td>2022-07-21 22:43:04+00:00</td>\n",
       "    </tr>\n",
       "    <tr>\n",
       "      <th>1</th>\n",
       "      <td>1550246814963712001</td>\n",
       "      <td>A Galp convida portugueses a pensar fora do ca...</td>\n",
       "      <td>0</td>\n",
       "      <td>0</td>\n",
       "      <td>0</td>\n",
       "      <td>0</td>\n",
       "      <td>2022-07-21 22:30:17+00:00</td>\n",
       "    </tr>\n",
       "    <tr>\n",
       "      <th>2</th>\n",
       "      <td>1550243011350740992</td>\n",
       "      <td>Mais um ano que renovo o cartão jovem, mais um...</td>\n",
       "      <td>0</td>\n",
       "      <td>0</td>\n",
       "      <td>0</td>\n",
       "      <td>0</td>\n",
       "      <td>2022-07-21 22:15:10+00:00</td>\n",
       "    </tr>\n",
       "    <tr>\n",
       "      <th>3</th>\n",
       "      <td>1550242176407425024</td>\n",
       "      <td>@davidkirzner @LiberalNova @LiberalPT Achas? A...</td>\n",
       "      <td>0</td>\n",
       "      <td>0</td>\n",
       "      <td>0</td>\n",
       "      <td>0</td>\n",
       "      <td>2022-07-21 22:11:51+00:00</td>\n",
       "    </tr>\n",
       "    <tr>\n",
       "      <th>4</th>\n",
       "      <td>1550240739170439169</td>\n",
       "      <td>#sicnoticias Não sei! Com a França a construir...</td>\n",
       "      <td>0</td>\n",
       "      <td>0</td>\n",
       "      <td>0</td>\n",
       "      <td>0</td>\n",
       "      <td>2022-07-21 22:06:08+00:00</td>\n",
       "    </tr>\n",
       "  </tbody>\n",
       "</table>\n",
       "</div>"
      ],
      "text/plain": [
       "                    id                                               text  \\\n",
       "0  1550250030476496900  Galp compra por 140 milhões os 25% da Titan So...   \n",
       "1  1550246814963712001  A Galp convida portugueses a pensar fora do ca...   \n",
       "2  1550243011350740992  Mais um ano que renovo o cartão jovem, mais um...   \n",
       "3  1550242176407425024  @davidkirzner @LiberalNova @LiberalPT Achas? A...   \n",
       "4  1550240739170439169  #sicnoticias Não sei! Com a França a construir...   \n",
       "\n",
       "   retweets  replies  likes  quotes                created_at  \n",
       "0         0        0      0       0 2022-07-21 22:43:04+00:00  \n",
       "1         0        0      0       0 2022-07-21 22:30:17+00:00  \n",
       "2         0        0      0       0 2022-07-21 22:15:10+00:00  \n",
       "3         0        0      0       0 2022-07-21 22:11:51+00:00  \n",
       "4         0        0      0       0 2022-07-21 22:06:08+00:00  "
      ]
     },
     "execution_count": 3,
     "metadata": {},
     "output_type": "execute_result"
    }
   ],
   "source": [
    "df.head()"
   ]
  },
  {
   "cell_type": "code",
   "execution_count": 4,
   "id": "tough-activation",
   "metadata": {},
   "outputs": [
    {
     "name": "stdout",
     "output_type": "stream",
     "text": [
      "<class 'pandas.core.frame.DataFrame'>\n",
      "RangeIndex: 125 entries, 0 to 124\n",
      "Data columns (total 7 columns):\n",
      " #   Column      Non-Null Count  Dtype              \n",
      "---  ------      --------------  -----              \n",
      " 0   id          125 non-null    int64              \n",
      " 1   text        125 non-null    object             \n",
      " 2   retweets    125 non-null    int64              \n",
      " 3   replies     125 non-null    int64              \n",
      " 4   likes       125 non-null    int64              \n",
      " 5   quotes      125 non-null    int64              \n",
      " 6   created_at  125 non-null    datetime64[ns, UTC]\n",
      "dtypes: datetime64[ns, UTC](1), int64(5), object(1)\n",
      "memory usage: 7.0+ KB\n"
     ]
    }
   ],
   "source": [
    "df.info()"
   ]
  },
  {
   "cell_type": "markdown",
   "id": "molecular-stream",
   "metadata": {},
   "source": [
    "We can tokenize our texts to identify some of the most common abbreviations."
   ]
  },
  {
   "cell_type": "code",
   "execution_count": 5,
   "id": "detailed-change",
   "metadata": {},
   "outputs": [],
   "source": [
    "# tokenize text and remove punctuation\n",
    "\n",
    "def tokens_nopunct(text):\n",
    "    \n",
    "    tokens = [token for token in TweetTokenizer(reduce_len=True, strip_handles=True).tokenize(text)]\n",
    "    return [token for token in tokens if token not in string.punctuation]"
   ]
  },
  {
   "cell_type": "code",
   "execution_count": 6,
   "id": "radio-evanescence",
   "metadata": {},
   "outputs": [],
   "source": [
    "df['tokens'] = df['text'].map(tokens_nopunct)"
   ]
  },
  {
   "cell_type": "code",
   "execution_count": 7,
   "id": "presidential-kenya",
   "metadata": {},
   "outputs": [],
   "source": [
    "counter = Counter()\n",
    "\n",
    "for tokens in df['tokens']:\n",
    "    counter.update(tokens)"
   ]
  },
  {
   "cell_type": "code",
   "execution_count": 9,
   "id": "outstanding-wallpaper",
   "metadata": {},
   "outputs": [
    {
     "data": {
      "text/plain": [
       "[('a', 146),\n",
       " ('de', 97),\n",
       " ('e', 85),\n",
       " ('que', 77),\n",
       " ('o', 69),\n",
       " ('da', 63),\n",
       " ('do', 36),\n",
       " ('é', 33),\n",
       " ('em', 33),\n",
       " ('não', 29),\n",
       " ('com', 29),\n",
       " ('as', 25),\n",
       " ('A', 24),\n",
       " ('os', 22),\n",
       " ('na', 22),\n",
       " ('no', 22),\n",
       " ('uma', 19),\n",
       " ('um', 19),\n",
       " ('...', 18),\n",
       " ('dos', 17),\n",
       " ('EDP', 15),\n",
       " ('por', 14),\n",
       " ('O', 13),\n",
       " ('nos', 12),\n",
       " ('ao', 11),\n",
       " ('q', 11),\n",
       " ('tem', 11),\n",
       " ('se', 11),\n",
       " ('foi', 11),\n",
       " ('à', 9),\n",
       " ('só', 8),\n",
       " ('me', 8),\n",
       " ('Não', 8),\n",
       " ('ser', 8),\n",
       " ('140', 7),\n",
       " ('25', 7),\n",
       " ('“', 7),\n",
       " ('”', 7)]"
      ]
     },
     "execution_count": 9,
     "metadata": {},
     "output_type": "execute_result"
    }
   ],
   "source": [
    "# most common tokens with length < 4\n",
    "\n",
    "[token for token in counter.most_common(50) if len(token[0]) < 4]"
   ]
  },
  {
   "cell_type": "code",
   "execution_count": 10,
   "id": "injured-recovery",
   "metadata": {},
   "outputs": [
    {
     "name": "stdout",
     "output_type": "stream",
     "text": [
      "['A Galp convida portugueses a pensar fora do carro..e quem disser Q isto é só “uma limpeza de imagem”, a Galp, manda “dar banho ao cão”. A máscara 😷 cai. #De-evolution. AbsurdQ https://t.co/TW2XljNvxI'\n",
      " '@davidkirzner @LiberalNova @LiberalPT Achas? A moça terminou o curso há pouco tempo e concorreu á Galp... O q estou a dizer é q na Galp trabalham milhares e milhares de pessoas, não é por trabalhar na Galp q somos maus. Nem sequer são eles q decidem preços e afins 😕'\n",
      " '@davidkirzner @LiberalNova @LiberalPT David mas eu tenho uma amiga q não é Rica, nunca ligou a Política, é uma excelente pessoa e profissional e trabalha na Galp. Tipo, a Galp tem milhares de funcionários'\n",
      " '@Fragoso_1906 sim, a Galp tem uma cena com o continente q tens desconto na fatura e vai para o cartão!'\n",
      " '@RuiPaiva5 Já andam todos em pânico. Até lhes tremem as pernas só de pensar no q aconteceu à GALP. https://t.co/puXUVI70da'\n",
      " '@tiagojcgodinho @MestredoUnive19 @PSSantiago88 Tens noção q há \"ativos\" encostados n EDP, na Galp, n brisa etc? Mas tu achas q as empresas andam a procura de \"alternativas\" para esse \"ativos\"? lol'\n",
      " 'acabei de ver o video da moça q ten um galinheiro e simplesmente fez meu dia,o galp dela cjama João gomes.'\n",
      " \"@psocialista @LiberalPT @ppdpsd \\nMAL q é feito aos portugueses.\\nÑ basta falar na elevada 'carga' fiscal, tb dos baixos salários face a inflação ~9%\\nPQ isto tb conta, qd ESTADO é acionista da Galp, em 7%\\nhttps://t.co/sYtJAQQAQ4\\n'TUGA' SOFRE...\\nhttps://t.co/eD0R4EIrXL via @expresso\"]\n"
     ]
    }
   ],
   "source": [
    "# 'q' is one of the most common abbreviations\n",
    "\n",
    "print(df[df['text'].str.contains(\" q \", case=False)]['text'].values)"
   ]
  },
  {
   "cell_type": "code",
   "execution_count": 11,
   "id": "trying-visibility",
   "metadata": {},
   "outputs": [],
   "source": [
    "# dictionary with abbreviations to replace\n",
    "\n",
    "abrev = {\" q \": \" que \"}"
   ]
  },
  {
   "cell_type": "code",
   "execution_count": 12,
   "id": "aquatic-leisure",
   "metadata": {},
   "outputs": [
    {
     "name": "stdout",
     "output_type": "stream",
     "text": [
      "[\"@psocialista @LiberalPT @ppdpsd \\nMAL q é feito aos portugueses.\\nÑ basta falar na elevada 'carga' fiscal, tb dos baixos salários face a inflação ~9%\\nPQ isto tb conta, qd ESTADO é acionista da Galp, em 7%\\nhttps://t.co/sYtJAQQAQ4\\n'TUGA' SOFRE...\\nhttps://t.co/eD0R4EIrXL via @expresso\"\n",
      " '@jbizarro Acidentes de viação, segundo as estatísticas, tb foram menos, e a Galp, segundo se soube, teve prejuízos avultados, teve menos lucros.🤦']\n"
     ]
    }
   ],
   "source": [
    "# other abbreviations: 'tb'\n",
    "\n",
    "print(df[df['text'].str.contains(\" tb \", case=False)]['text'].values)"
   ]
  },
  {
   "cell_type": "code",
   "execution_count": 13,
   "id": "unauthorized-supervision",
   "metadata": {},
   "outputs": [],
   "source": [
    "abrev[\" tb \"] = \" também \""
   ]
  },
  {
   "cell_type": "code",
   "execution_count": 14,
   "id": "accurate-belarus",
   "metadata": {},
   "outputs": [
    {
     "name": "stdout",
     "output_type": "stream",
     "text": [
      "[\"@psocialista @LiberalPT @ppdpsd \\nMAL q é feito aos portugueses.\\nÑ basta falar na elevada 'carga' fiscal, tb dos baixos salários face a inflação ~9%\\nPQ isto tb conta, qd ESTADO é acionista da Galp, em 7%\\nhttps://t.co/sYtJAQQAQ4\\n'TUGA' SOFRE...\\nhttps://t.co/eD0R4EIrXL via @expresso\"]\n"
     ]
    }
   ],
   "source": [
    "# other abbreviations: 'qd'\n",
    "\n",
    "print(df[df['text'].str.contains(\" qd \", case=False)]['text'].values)"
   ]
  },
  {
   "cell_type": "code",
   "execution_count": 15,
   "id": "approximate-taylor",
   "metadata": {},
   "outputs": [],
   "source": [
    "# other abbreviations to replace\n",
    "\n",
    "abrev[\" qd \"] = \" quando \"\n",
    "abrev[\" ñ \"] = \" não \"\n",
    "abrev[\" pq \"] = \" porque \"\n",
    "abrev[\" hj \"] = \" hoje \""
   ]
  },
  {
   "cell_type": "code",
   "execution_count": 16,
   "id": "increased-warren",
   "metadata": {},
   "outputs": [
    {
     "data": {
      "text/plain": [
       "{' q ': ' que ',\n",
       " ' tb ': ' também ',\n",
       " ' qd ': ' quando ',\n",
       " ' ñ ': ' não ',\n",
       " ' pq ': ' porque ',\n",
       " ' hj ': ' hoje '}"
      ]
     },
     "execution_count": 16,
     "metadata": {},
     "output_type": "execute_result"
    }
   ],
   "source": [
    "abrev"
   ]
  },
  {
   "cell_type": "markdown",
   "id": "requested-dakota",
   "metadata": {},
   "source": [
    "This is not an exhaustive list of abbreviations to replace, but it could be updated according to our needs.\n",
    "\n",
    "Another way of doing this would be using regular expressions to account for all occurrences (and not only lowercase abbreviations with blank spaces at both ends).\n",
    "\n",
    "We could also try to use a spell checker."
   ]
  },
  {
   "cell_type": "code",
   "execution_count": 17,
   "id": "utility-hygiene",
   "metadata": {},
   "outputs": [],
   "source": [
    "# replace abbreviations by word\n",
    "\n",
    "def replace_abrev(text, dic):\n",
    "    for k, v in dic.items():\n",
    "        text = text.replace(k, v)\n",
    "    return text"
   ]
  },
  {
   "cell_type": "code",
   "execution_count": 18,
   "id": "determined-australia",
   "metadata": {},
   "outputs": [],
   "source": [
    "df['text_full'] = df['text'].apply(replace_abrev, dic=abrev)"
   ]
  },
  {
   "cell_type": "code",
   "execution_count": 19,
   "id": "boolean-sigma",
   "metadata": {},
   "outputs": [
    {
     "name": "stdout",
     "output_type": "stream",
     "text": [
      "['@davidkirzner @LiberalNova @LiberalPT Achas? A moça terminou o curso há pouco tempo e concorreu á Galp... O q estou a dizer é q na Galp trabalham milhares e milhares de pessoas, não é por trabalhar na Galp q somos maus. Nem sequer são eles q decidem preços e afins 😕'] \n",
      "\n",
      " ['@davidkirzner @LiberalNova @LiberalPT Achas? A moça terminou o curso há pouco tempo e concorreu á Galp... O que estou a dizer é que na Galp trabalham milhares e milhares de pessoas, não é por trabalhar na Galp que somos maus. Nem sequer são eles que decidem preços e afins 😕']\n"
     ]
    }
   ],
   "source": [
    "# example 1\n",
    "\n",
    "print(df[df['text'].str.contains(\"milhares e milhares\", case=False)]['text'].values, \n",
    "      '\\n\\n', \n",
    "      df[df['text_full'].str.contains(\"milhares e milhares\", case=False)]['text_full'].values)"
   ]
  },
  {
   "cell_type": "code",
   "execution_count": 20,
   "id": "focused-atlanta",
   "metadata": {},
   "outputs": [
    {
     "name": "stdout",
     "output_type": "stream",
     "text": [
      "['@jbizarro Acidentes de viação, segundo as estatísticas, tb foram menos, e a Galp, segundo se soube, teve prejuízos avultados, teve menos lucros.🤦'] \n",
      "\n",
      " ['@jbizarro Acidentes de viação, segundo as estatísticas, também foram menos, e a Galp, segundo se soube, teve prejuízos avultados, teve menos lucros.🤦']\n"
     ]
    }
   ],
   "source": [
    "# example 2\n",
    "\n",
    "print(df[df['text'].str.contains(\"estatísticas\", case=False)]['text'].values, \n",
    "      '\\n\\n', \n",
    "      df[df['text_full'].str.contains(\"estatísticas\", case=False)]['text_full'].values)"
   ]
  },
  {
   "cell_type": "markdown",
   "id": "rising-pendant",
   "metadata": {},
   "source": [
    "#### 2. Sentiment Analysis with a multilingual model fine-tuned for PT"
   ]
  },
  {
   "cell_type": "code",
   "execution_count": 37,
   "id": "greek-gospel",
   "metadata": {},
   "outputs": [],
   "source": [
    "import requests"
   ]
  },
  {
   "cell_type": "markdown",
   "id": "informational-configuration",
   "metadata": {},
   "source": [
    "Before we begin, we need to take into consideration the usage limits of the API. The free version of HugginFace's API is limited to 30000 characters per month: https://huggingface.co/pricing ."
   ]
  },
  {
   "cell_type": "code",
   "execution_count": 25,
   "id": "mighty-james",
   "metadata": {},
   "outputs": [
    {
     "data": {
      "text/plain": [
       "20923"
      ]
     },
     "execution_count": 25,
     "metadata": {},
     "output_type": "execute_result"
    }
   ],
   "source": [
    "# total number of characters of our tweets\n",
    "\n",
    "sum([len(text) for text in df['text_full']])"
   ]
  },
  {
   "cell_type": "markdown",
   "id": "perfect-midwest",
   "metadata": {},
   "source": [
    "Since our tweets have more than 20000 characters, we are going to use a smaller number of them to test these new approaches (otherwise we would quickly get to the monthly limit)."
   ]
  },
  {
   "cell_type": "code",
   "execution_count": 27,
   "id": "similar-wealth",
   "metadata": {},
   "outputs": [],
   "source": [
    "df_sample = df[0:20].copy()"
   ]
  },
  {
   "cell_type": "code",
   "execution_count": 28,
   "id": "progressive-bidder",
   "metadata": {},
   "outputs": [
    {
     "data": {
      "text/plain": [
       "3666"
      ]
     },
     "execution_count": 28,
     "metadata": {},
     "output_type": "execute_result"
    }
   ],
   "source": [
    "sum([len(text) for text in df_sample['text_full']])"
   ]
  },
  {
   "cell_type": "code",
   "execution_count": 30,
   "id": "nearby-inclusion",
   "metadata": {},
   "outputs": [],
   "source": [
    "# HuggingFace token\n",
    "\n",
    "hf_token = \"\""
   ]
  },
  {
   "cell_type": "code",
   "execution_count": 31,
   "id": "selected-yacht",
   "metadata": {},
   "outputs": [],
   "source": [
    "# multilingual model: https://huggingface.co/cardiffnlp/twitter-xlm-roberta-base-sentiment\n",
    "\n",
    "model = \"cardiffnlp/twitter-xlm-roberta-base-sentiment\""
   ]
  },
  {
   "cell_type": "code",
   "execution_count": 32,
   "id": "viral-dealing",
   "metadata": {},
   "outputs": [],
   "source": [
    "API_URL = \"https://api-inference.huggingface.co/models/\" + model\n",
    "headers = {\"Authorization\": \"Bearer %s\" % (hf_token)}"
   ]
  },
  {
   "cell_type": "code",
   "execution_count": 33,
   "id": "broken-twins",
   "metadata": {},
   "outputs": [],
   "source": [
    "def apply_model(data):\n",
    "    payload = dict(inputs=data, options=dict(wait_for_model=True))\n",
    "    response = requests.post(API_URL, headers=headers, json=payload)\n",
    "    return response.json()"
   ]
  },
  {
   "cell_type": "code",
   "execution_count": 83,
   "id": "intelligent-logistics",
   "metadata": {},
   "outputs": [
    {
     "name": "stdout",
     "output_type": "stream",
     "text": [
      "Wall time: 12.1 s\n"
     ]
    }
   ],
   "source": [
    "%%time\n",
    "\n",
    "tweets_sentiment = []\n",
    "\n",
    "for tweet in df_sample['text_full']:\n",
    "    \n",
    "    sentiment_result = apply_model(tweet)[0] # the result is a list inside a list\n",
    "    tweets_sentiment.append({'sentiment': sentiment_result})"
   ]
  },
  {
   "cell_type": "code",
   "execution_count": 84,
   "id": "virgin-stupid",
   "metadata": {},
   "outputs": [
    {
     "data": {
      "text/html": [
       "<div>\n",
       "<style scoped>\n",
       "    .dataframe tbody tr th:only-of-type {\n",
       "        vertical-align: middle;\n",
       "    }\n",
       "\n",
       "    .dataframe tbody tr th {\n",
       "        vertical-align: top;\n",
       "    }\n",
       "\n",
       "    .dataframe thead th {\n",
       "        text-align: right;\n",
       "    }\n",
       "</style>\n",
       "<table border=\"1\" class=\"dataframe\">\n",
       "  <thead>\n",
       "    <tr style=\"text-align: right;\">\n",
       "      <th></th>\n",
       "      <th>id</th>\n",
       "      <th>text</th>\n",
       "      <th>retweets</th>\n",
       "      <th>replies</th>\n",
       "      <th>likes</th>\n",
       "      <th>quotes</th>\n",
       "      <th>created_at</th>\n",
       "      <th>tokens</th>\n",
       "      <th>text_full</th>\n",
       "      <th>sentiment</th>\n",
       "    </tr>\n",
       "  </thead>\n",
       "  <tbody>\n",
       "    <tr>\n",
       "      <th>0</th>\n",
       "      <td>1550250030476496900</td>\n",
       "      <td>Galp compra por 140 milhões os 25% da Titan So...</td>\n",
       "      <td>0</td>\n",
       "      <td>0</td>\n",
       "      <td>0</td>\n",
       "      <td>0</td>\n",
       "      <td>2022-07-21 22:43:04+00:00</td>\n",
       "      <td>[Galp, compra, por, 140, milhões, os, 25, da, ...</td>\n",
       "      <td>Galp compra por 140 milhões os 25% da Titan So...</td>\n",
       "      <td>[{'label': 'Neutral', 'score': 0.7745079398155...</td>\n",
       "    </tr>\n",
       "    <tr>\n",
       "      <th>1</th>\n",
       "      <td>1550246814963712001</td>\n",
       "      <td>A Galp convida portugueses a pensar fora do ca...</td>\n",
       "      <td>0</td>\n",
       "      <td>0</td>\n",
       "      <td>0</td>\n",
       "      <td>0</td>\n",
       "      <td>2022-07-21 22:30:17+00:00</td>\n",
       "      <td>[A, Galp, convida, portugueses, a, pensar, for...</td>\n",
       "      <td>A Galp convida portugueses a pensar fora do ca...</td>\n",
       "      <td>[{'label': 'Negative', 'score': 0.836504757404...</td>\n",
       "    </tr>\n",
       "    <tr>\n",
       "      <th>2</th>\n",
       "      <td>1550243011350740992</td>\n",
       "      <td>Mais um ano que renovo o cartão jovem, mais um...</td>\n",
       "      <td>0</td>\n",
       "      <td>0</td>\n",
       "      <td>0</td>\n",
       "      <td>0</td>\n",
       "      <td>2022-07-21 22:15:10+00:00</td>\n",
       "      <td>[Mais, um, ano, que, renovo, o, cartão, jovem,...</td>\n",
       "      <td>Mais um ano que renovo o cartão jovem, mais um...</td>\n",
       "      <td>[{'label': 'Positive', 'score': 0.569248735904...</td>\n",
       "    </tr>\n",
       "    <tr>\n",
       "      <th>3</th>\n",
       "      <td>1550242176407425024</td>\n",
       "      <td>@davidkirzner @LiberalNova @LiberalPT Achas? A...</td>\n",
       "      <td>0</td>\n",
       "      <td>0</td>\n",
       "      <td>0</td>\n",
       "      <td>0</td>\n",
       "      <td>2022-07-21 22:11:51+00:00</td>\n",
       "      <td>[Achas, A, moça, terminou, o, curso, há, pouco...</td>\n",
       "      <td>@davidkirzner @LiberalNova @LiberalPT Achas? A...</td>\n",
       "      <td>[{'label': 'Negative', 'score': 0.901339948177...</td>\n",
       "    </tr>\n",
       "    <tr>\n",
       "      <th>4</th>\n",
       "      <td>1550240739170439169</td>\n",
       "      <td>#sicnoticias Não sei! Com a França a construir...</td>\n",
       "      <td>0</td>\n",
       "      <td>0</td>\n",
       "      <td>0</td>\n",
       "      <td>0</td>\n",
       "      <td>2022-07-21 22:06:08+00:00</td>\n",
       "      <td>[#sicnoticias, Não, sei, Com, a, França, a, co...</td>\n",
       "      <td>#sicnoticias Não sei! Com a França a construir...</td>\n",
       "      <td>[{'label': 'Neutral', 'score': 0.4744070768356...</td>\n",
       "    </tr>\n",
       "  </tbody>\n",
       "</table>\n",
       "</div>"
      ],
      "text/plain": [
       "                    id                                               text  \\\n",
       "0  1550250030476496900  Galp compra por 140 milhões os 25% da Titan So...   \n",
       "1  1550246814963712001  A Galp convida portugueses a pensar fora do ca...   \n",
       "2  1550243011350740992  Mais um ano que renovo o cartão jovem, mais um...   \n",
       "3  1550242176407425024  @davidkirzner @LiberalNova @LiberalPT Achas? A...   \n",
       "4  1550240739170439169  #sicnoticias Não sei! Com a França a construir...   \n",
       "\n",
       "   retweets  replies  likes  quotes                created_at  \\\n",
       "0         0        0      0       0 2022-07-21 22:43:04+00:00   \n",
       "1         0        0      0       0 2022-07-21 22:30:17+00:00   \n",
       "2         0        0      0       0 2022-07-21 22:15:10+00:00   \n",
       "3         0        0      0       0 2022-07-21 22:11:51+00:00   \n",
       "4         0        0      0       0 2022-07-21 22:06:08+00:00   \n",
       "\n",
       "                                              tokens  \\\n",
       "0  [Galp, compra, por, 140, milhões, os, 25, da, ...   \n",
       "1  [A, Galp, convida, portugueses, a, pensar, for...   \n",
       "2  [Mais, um, ano, que, renovo, o, cartão, jovem,...   \n",
       "3  [Achas, A, moça, terminou, o, curso, há, pouco...   \n",
       "4  [#sicnoticias, Não, sei, Com, a, França, a, co...   \n",
       "\n",
       "                                           text_full  \\\n",
       "0  Galp compra por 140 milhões os 25% da Titan So...   \n",
       "1  A Galp convida portugueses a pensar fora do ca...   \n",
       "2  Mais um ano que renovo o cartão jovem, mais um...   \n",
       "3  @davidkirzner @LiberalNova @LiberalPT Achas? A...   \n",
       "4  #sicnoticias Não sei! Com a França a construir...   \n",
       "\n",
       "                                           sentiment  \n",
       "0  [{'label': 'Neutral', 'score': 0.7745079398155...  \n",
       "1  [{'label': 'Negative', 'score': 0.836504757404...  \n",
       "2  [{'label': 'Positive', 'score': 0.569248735904...  \n",
       "3  [{'label': 'Negative', 'score': 0.901339948177...  \n",
       "4  [{'label': 'Neutral', 'score': 0.4744070768356...  "
      ]
     },
     "execution_count": 84,
     "metadata": {},
     "output_type": "execute_result"
    }
   ],
   "source": [
    "df_sample['sentiment'] = pd.DataFrame(tweets_sentiment)\n",
    "\n",
    "df_sample.head()"
   ]
  },
  {
   "cell_type": "code",
   "execution_count": 85,
   "id": "phantom-seeker",
   "metadata": {},
   "outputs": [],
   "source": [
    "# sentiment score ranges from [0, 1] for each label\n",
    "\n",
    "# top sentiment\n",
    "df_sample['top_sentiment'] = df_sample['sentiment'].map(lambda sentiment: max(sentiment, key=lambda x: x['score']))\n",
    "\n",
    "# top score\n",
    "df_sample['score'] = df_sample['top_sentiment'].map(lambda x: x['score'])\n",
    "\n",
    "# top label\n",
    "df_sample['label'] = df_sample['top_sentiment'].map(lambda x: x['label'])"
   ]
  },
  {
   "cell_type": "code",
   "execution_count": 86,
   "id": "inner-gibraltar",
   "metadata": {},
   "outputs": [
    {
     "data": {
      "text/html": [
       "<div>\n",
       "<style scoped>\n",
       "    .dataframe tbody tr th:only-of-type {\n",
       "        vertical-align: middle;\n",
       "    }\n",
       "\n",
       "    .dataframe tbody tr th {\n",
       "        vertical-align: top;\n",
       "    }\n",
       "\n",
       "    .dataframe thead th {\n",
       "        text-align: right;\n",
       "    }\n",
       "</style>\n",
       "<table border=\"1\" class=\"dataframe\">\n",
       "  <thead>\n",
       "    <tr style=\"text-align: right;\">\n",
       "      <th></th>\n",
       "      <th>id</th>\n",
       "      <th>text</th>\n",
       "      <th>retweets</th>\n",
       "      <th>replies</th>\n",
       "      <th>likes</th>\n",
       "      <th>quotes</th>\n",
       "      <th>created_at</th>\n",
       "      <th>tokens</th>\n",
       "      <th>text_full</th>\n",
       "      <th>sentiment</th>\n",
       "      <th>top_sentiment</th>\n",
       "      <th>score</th>\n",
       "      <th>label</th>\n",
       "    </tr>\n",
       "  </thead>\n",
       "  <tbody>\n",
       "    <tr>\n",
       "      <th>0</th>\n",
       "      <td>1550250030476496900</td>\n",
       "      <td>Galp compra por 140 milhões os 25% da Titan So...</td>\n",
       "      <td>0</td>\n",
       "      <td>0</td>\n",
       "      <td>0</td>\n",
       "      <td>0</td>\n",
       "      <td>2022-07-21 22:43:04+00:00</td>\n",
       "      <td>[Galp, compra, por, 140, milhões, os, 25, da, ...</td>\n",
       "      <td>Galp compra por 140 milhões os 25% da Titan So...</td>\n",
       "      <td>[{'label': 'Neutral', 'score': 0.7745079398155...</td>\n",
       "      <td>{'label': 'Neutral', 'score': 0.7745079398155212}</td>\n",
       "      <td>0.774508</td>\n",
       "      <td>Neutral</td>\n",
       "    </tr>\n",
       "    <tr>\n",
       "      <th>1</th>\n",
       "      <td>1550246814963712001</td>\n",
       "      <td>A Galp convida portugueses a pensar fora do ca...</td>\n",
       "      <td>0</td>\n",
       "      <td>0</td>\n",
       "      <td>0</td>\n",
       "      <td>0</td>\n",
       "      <td>2022-07-21 22:30:17+00:00</td>\n",
       "      <td>[A, Galp, convida, portugueses, a, pensar, for...</td>\n",
       "      <td>A Galp convida portugueses a pensar fora do ca...</td>\n",
       "      <td>[{'label': 'Negative', 'score': 0.836504757404...</td>\n",
       "      <td>{'label': 'Negative', 'score': 0.8365047574043...</td>\n",
       "      <td>0.836505</td>\n",
       "      <td>Negative</td>\n",
       "    </tr>\n",
       "    <tr>\n",
       "      <th>2</th>\n",
       "      <td>1550243011350740992</td>\n",
       "      <td>Mais um ano que renovo o cartão jovem, mais um...</td>\n",
       "      <td>0</td>\n",
       "      <td>0</td>\n",
       "      <td>0</td>\n",
       "      <td>0</td>\n",
       "      <td>2022-07-21 22:15:10+00:00</td>\n",
       "      <td>[Mais, um, ano, que, renovo, o, cartão, jovem,...</td>\n",
       "      <td>Mais um ano que renovo o cartão jovem, mais um...</td>\n",
       "      <td>[{'label': 'Positive', 'score': 0.569248735904...</td>\n",
       "      <td>{'label': 'Positive', 'score': 0.5692487359046...</td>\n",
       "      <td>0.569249</td>\n",
       "      <td>Positive</td>\n",
       "    </tr>\n",
       "    <tr>\n",
       "      <th>3</th>\n",
       "      <td>1550242176407425024</td>\n",
       "      <td>@davidkirzner @LiberalNova @LiberalPT Achas? A...</td>\n",
       "      <td>0</td>\n",
       "      <td>0</td>\n",
       "      <td>0</td>\n",
       "      <td>0</td>\n",
       "      <td>2022-07-21 22:11:51+00:00</td>\n",
       "      <td>[Achas, A, moça, terminou, o, curso, há, pouco...</td>\n",
       "      <td>@davidkirzner @LiberalNova @LiberalPT Achas? A...</td>\n",
       "      <td>[{'label': 'Negative', 'score': 0.901339948177...</td>\n",
       "      <td>{'label': 'Negative', 'score': 0.9013399481773...</td>\n",
       "      <td>0.901340</td>\n",
       "      <td>Negative</td>\n",
       "    </tr>\n",
       "    <tr>\n",
       "      <th>4</th>\n",
       "      <td>1550240739170439169</td>\n",
       "      <td>#sicnoticias Não sei! Com a França a construir...</td>\n",
       "      <td>0</td>\n",
       "      <td>0</td>\n",
       "      <td>0</td>\n",
       "      <td>0</td>\n",
       "      <td>2022-07-21 22:06:08+00:00</td>\n",
       "      <td>[#sicnoticias, Não, sei, Com, a, França, a, co...</td>\n",
       "      <td>#sicnoticias Não sei! Com a França a construir...</td>\n",
       "      <td>[{'label': 'Neutral', 'score': 0.4744070768356...</td>\n",
       "      <td>{'label': 'Neutral', 'score': 0.4744070768356323}</td>\n",
       "      <td>0.474407</td>\n",
       "      <td>Neutral</td>\n",
       "    </tr>\n",
       "  </tbody>\n",
       "</table>\n",
       "</div>"
      ],
      "text/plain": [
       "                    id                                               text  \\\n",
       "0  1550250030476496900  Galp compra por 140 milhões os 25% da Titan So...   \n",
       "1  1550246814963712001  A Galp convida portugueses a pensar fora do ca...   \n",
       "2  1550243011350740992  Mais um ano que renovo o cartão jovem, mais um...   \n",
       "3  1550242176407425024  @davidkirzner @LiberalNova @LiberalPT Achas? A...   \n",
       "4  1550240739170439169  #sicnoticias Não sei! Com a França a construir...   \n",
       "\n",
       "   retweets  replies  likes  quotes                created_at  \\\n",
       "0         0        0      0       0 2022-07-21 22:43:04+00:00   \n",
       "1         0        0      0       0 2022-07-21 22:30:17+00:00   \n",
       "2         0        0      0       0 2022-07-21 22:15:10+00:00   \n",
       "3         0        0      0       0 2022-07-21 22:11:51+00:00   \n",
       "4         0        0      0       0 2022-07-21 22:06:08+00:00   \n",
       "\n",
       "                                              tokens  \\\n",
       "0  [Galp, compra, por, 140, milhões, os, 25, da, ...   \n",
       "1  [A, Galp, convida, portugueses, a, pensar, for...   \n",
       "2  [Mais, um, ano, que, renovo, o, cartão, jovem,...   \n",
       "3  [Achas, A, moça, terminou, o, curso, há, pouco...   \n",
       "4  [#sicnoticias, Não, sei, Com, a, França, a, co...   \n",
       "\n",
       "                                           text_full  \\\n",
       "0  Galp compra por 140 milhões os 25% da Titan So...   \n",
       "1  A Galp convida portugueses a pensar fora do ca...   \n",
       "2  Mais um ano que renovo o cartão jovem, mais um...   \n",
       "3  @davidkirzner @LiberalNova @LiberalPT Achas? A...   \n",
       "4  #sicnoticias Não sei! Com a França a construir...   \n",
       "\n",
       "                                           sentiment  \\\n",
       "0  [{'label': 'Neutral', 'score': 0.7745079398155...   \n",
       "1  [{'label': 'Negative', 'score': 0.836504757404...   \n",
       "2  [{'label': 'Positive', 'score': 0.569248735904...   \n",
       "3  [{'label': 'Negative', 'score': 0.901339948177...   \n",
       "4  [{'label': 'Neutral', 'score': 0.4744070768356...   \n",
       "\n",
       "                                       top_sentiment     score     label  \n",
       "0  {'label': 'Neutral', 'score': 0.7745079398155212}  0.774508   Neutral  \n",
       "1  {'label': 'Negative', 'score': 0.8365047574043...  0.836505  Negative  \n",
       "2  {'label': 'Positive', 'score': 0.5692487359046...  0.569249  Positive  \n",
       "3  {'label': 'Negative', 'score': 0.9013399481773...  0.901340  Negative  \n",
       "4  {'label': 'Neutral', 'score': 0.4744070768356323}  0.474407   Neutral  "
      ]
     },
     "execution_count": 86,
     "metadata": {},
     "output_type": "execute_result"
    }
   ],
   "source": [
    "df_sample.head()"
   ]
  },
  {
   "cell_type": "code",
   "execution_count": 88,
   "id": "endless-archives",
   "metadata": {},
   "outputs": [
    {
     "data": {
      "text/plain": [
       "Neutral     14\n",
       "Negative     3\n",
       "Positive     3\n",
       "Name: label, dtype: int64"
      ]
     },
     "execution_count": 88,
     "metadata": {},
     "output_type": "execute_result"
    }
   ],
   "source": [
    "df_sample['label'].value_counts()"
   ]
  },
  {
   "cell_type": "code",
   "execution_count": 92,
   "id": "executed-development",
   "metadata": {},
   "outputs": [
    {
     "name": "stdout",
     "output_type": "stream",
     "text": [
      "['A Galp convida portugueses a pensar fora do carro..e quem disser Q isto é só “uma limpeza de imagem”, a Galp, manda “dar banho ao cão”. A máscara 😷 cai. #De-evolution. AbsurdQ https://t.co/TW2XljNvxI'\n",
      " '@davidkirzner @LiberalNova @LiberalPT Achas? A moça terminou o curso há pouco tempo e concorreu á Galp... O que estou a dizer é que na Galp trabalham milhares e milhares de pessoas, não é por trabalhar na Galp que somos maus. Nem sequer são eles que decidem preços e afins 😕'\n",
      " '#galp Um belo exemplo da areia que nos atiram para os olhos quando dizem que a petrolíferas não ganham ( tanto) dinheiro como deviam, #edp mesma coisa, chulos e miseráveis é o que fulanos são, com a conivência governamental https://t.co/nL08rnxd8p']\n"
     ]
    }
   ],
   "source": [
    "print(df_sample[df_sample['label'] == 'Negative']['text_full'].values)"
   ]
  },
  {
   "cell_type": "code",
   "execution_count": 93,
   "id": "established-paradise",
   "metadata": {},
   "outputs": [
    {
     "name": "stdout",
     "output_type": "stream",
     "text": [
      "['Mais um ano que renovo o cartão jovem, mais um ano em que a câmara não me da acesso ao codigo de desconto \\U0001fae0\\U0001fae0 ate hoje a parte boa do CJ é o desconto que dão com o cartão jovem galp fica ao preço da gasolina low cost hehehe'\n",
      " '@davidkirzner @LiberalNova @LiberalPT David mas eu tenho uma amiga que não é Rica, nunca ligou a Política, é uma excelente pessoa e profissional e trabalha na Galp. Tipo, a Galp tem milhares de funcionários'\n",
      " 'Asociádevos ao #GALP e fomentemos xuntos o crecemento económico, a inclusión social, a creación de emprego e o apoio á empregabilidade e á mobilidade laboral nas comunidades pesqueiras e acuícolas. \\n\\n#galp #mar #pesca #Galicia https://t.co/30c2OZqfZW']\n"
     ]
    }
   ],
   "source": [
    "print(df_sample[df_sample['label'] == 'Positive']['text_full'].values)"
   ]
  },
  {
   "cell_type": "markdown",
   "id": "changed-screw",
   "metadata": {},
   "source": [
    "Most of the tweets are classified as neutral.\n",
    "\n",
    "Of the 3 tweets classified as negative, 2 are clearly negative and 1 would be more neutral.\n",
    "\n",
    "Of the 3 tweets classified as positive, the 3 can be considered positive, but 1 is in Galician and not in Portuguese! - The language identification we used from Twitter is not completely accurate..."
   ]
  }
 ],
 "metadata": {
  "kernelspec": {
   "display_name": "Python 3",
   "language": "python",
   "name": "python3"
  },
  "language_info": {
   "codemirror_mode": {
    "name": "ipython",
    "version": 3
   },
   "file_extension": ".py",
   "mimetype": "text/x-python",
   "name": "python",
   "nbconvert_exporter": "python",
   "pygments_lexer": "ipython3",
   "version": "3.8.8"
  }
 },
 "nbformat": 4,
 "nbformat_minor": 5
}
