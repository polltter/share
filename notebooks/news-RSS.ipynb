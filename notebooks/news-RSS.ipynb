{
 "cells": [
  {
   "cell_type": "markdown",
   "id": "sonic-philippines",
   "metadata": {},
   "source": [
    "# C-More"
   ]
  },
  {
   "cell_type": "markdown",
   "id": "hollow-amber",
   "metadata": {},
   "source": [
    "## News"
   ]
  },
  {
   "cell_type": "code",
   "execution_count": 55,
   "id": "atlantic-grade",
   "metadata": {},
   "outputs": [],
   "source": [
    "import feedparser\n",
    "\n",
    "import requests\n",
    "from bs4 import BeautifulSoup\n",
    "\n",
    "import re"
   ]
  },
  {
   "cell_type": "markdown",
   "id": "afraid-plasma",
   "metadata": {},
   "source": [
    "#### BBC News"
   ]
  },
  {
   "cell_type": "markdown",
   "id": "formal-smell",
   "metadata": {},
   "source": [
    "A list of BBC RSS feeds can be found here: https://blog.feedspot.com/bbc_rss_feeds/ ."
   ]
  },
  {
   "cell_type": "code",
   "execution_count": 2,
   "id": "presidential-carroll",
   "metadata": {},
   "outputs": [],
   "source": [
    "# parsing RSS feed\n",
    "\n",
    "d = feedparser.parse(\"http://feeds.bbci.co.uk/news/world/rss.xml\")"
   ]
  },
  {
   "cell_type": "markdown",
   "id": "effective-vampire",
   "metadata": {},
   "source": [
    "Some common channel elements, available in `d.feed` (or `d[\"feed\"]`) are:\n",
    "\n",
    "- title\n",
    "- link\n",
    "- description\n",
    "- publication date\n",
    "- language"
   ]
  },
  {
   "cell_type": "code",
   "execution_count": 3,
   "id": "experimental-louisville",
   "metadata": {},
   "outputs": [
    {
     "data": {
      "text/plain": [
       "'BBC News - World'"
      ]
     },
     "execution_count": 3,
     "metadata": {},
     "output_type": "execute_result"
    }
   ],
   "source": [
    "# RSS feed title\n",
    "\n",
    "d[\"feed\"][\"title\"]"
   ]
  },
  {
   "cell_type": "code",
   "execution_count": 4,
   "id": "sunrise-canada",
   "metadata": {},
   "outputs": [
    {
     "data": {
      "text/plain": [
       "'https://www.bbc.co.uk/news/'"
      ]
     },
     "execution_count": 4,
     "metadata": {},
     "output_type": "execute_result"
    }
   ],
   "source": [
    "# RSS feed link\n",
    "\n",
    "d[\"feed\"][\"link\"]"
   ]
  },
  {
   "cell_type": "code",
   "execution_count": 5,
   "id": "multiple-tiffany",
   "metadata": {},
   "outputs": [
    {
     "data": {
      "text/plain": [
       "'BBC News - World'"
      ]
     },
     "execution_count": 5,
     "metadata": {},
     "output_type": "execute_result"
    }
   ],
   "source": [
    "# RSS feed description\n",
    "\n",
    "d[\"feed\"][\"description\"]"
   ]
  },
  {
   "cell_type": "code",
   "execution_count": 6,
   "id": "revolutionary-denial",
   "metadata": {},
   "outputs": [
    {
     "data": {
      "text/plain": [
       "'Tue, 08 Nov 2022 12:30:24 GMT'"
      ]
     },
     "execution_count": 6,
     "metadata": {},
     "output_type": "execute_result"
    }
   ],
   "source": [
    "# RSS feed update date\n",
    "\n",
    "d[\"feed\"][\"updated\"]"
   ]
  },
  {
   "cell_type": "code",
   "execution_count": 7,
   "id": "statutory-evanescence",
   "metadata": {},
   "outputs": [
    {
     "data": {
      "text/plain": [
       "'en-gb'"
      ]
     },
     "execution_count": 7,
     "metadata": {},
     "output_type": "execute_result"
    }
   ],
   "source": [
    "# RSS feed language\n",
    "\n",
    "d[\"feed\"][\"language\"]"
   ]
  },
  {
   "cell_type": "markdown",
   "id": "wrapped-providence",
   "metadata": {},
   "source": [
    "The items are available in `d.entries`."
   ]
  },
  {
   "cell_type": "code",
   "execution_count": 8,
   "id": "distinct-family",
   "metadata": {
    "scrolled": true
   },
   "outputs": [
    {
     "data": {
      "text/plain": [
       "28"
      ]
     },
     "execution_count": 8,
     "metadata": {},
     "output_type": "execute_result"
    }
   ],
   "source": [
    "len(d[\"entries\"])"
   ]
  },
  {
   "cell_type": "markdown",
   "id": "fuzzy-stereo",
   "metadata": {},
   "source": [
    "We have 27 items.\n",
    "\n",
    "Some common item elements are:\n",
    "\n",
    "- title\n",
    "- link\n",
    "- description\n",
    "- publication date\n",
    "- parsed publication date\n",
    "- id"
   ]
  },
  {
   "cell_type": "code",
   "execution_count": 9,
   "id": "civic-aggregate",
   "metadata": {},
   "outputs": [
    {
     "data": {
      "text/plain": [
       "'Iran International: TV channel says Iran threatened UK-based journalists'"
      ]
     },
     "execution_count": 9,
     "metadata": {},
     "output_type": "execute_result"
    }
   ],
   "source": [
    "# title of first item\n",
    "\n",
    "d[\"entries\"][0][\"title\"]"
   ]
  },
  {
   "cell_type": "code",
   "execution_count": 10,
   "id": "urban-porter",
   "metadata": {},
   "outputs": [
    {
     "data": {
      "text/plain": [
       "'https://www.bbc.co.uk/news/world-middle-east-63554305?at_medium=RSS&at_campaign=KARANGA'"
      ]
     },
     "execution_count": 10,
     "metadata": {},
     "output_type": "execute_result"
    }
   ],
   "source": [
    "# link of first item\n",
    "\n",
    "d[\"entries\"][0][\"link\"]"
   ]
  },
  {
   "cell_type": "code",
   "execution_count": 11,
   "id": "sexual-imagination",
   "metadata": {},
   "outputs": [
    {
     "data": {
      "text/plain": [
       "'Two Iran International staff have been warned of a risk to their lives, a law enforcement source says.'"
      ]
     },
     "execution_count": 11,
     "metadata": {},
     "output_type": "execute_result"
    }
   ],
   "source": [
    "# description/summary of first item\n",
    "\n",
    "d[\"entries\"][0][\"description\"]"
   ]
  },
  {
   "cell_type": "code",
   "execution_count": 12,
   "id": "reasonable-locking",
   "metadata": {},
   "outputs": [
    {
     "data": {
      "text/plain": [
       "'Tue, 08 Nov 2022 11:37:46 GMT'"
      ]
     },
     "execution_count": 12,
     "metadata": {},
     "output_type": "execute_result"
    }
   ],
   "source": [
    "# publication date of first item\n",
    "\n",
    "d[\"entries\"][0][\"published\"]"
   ]
  },
  {
   "cell_type": "code",
   "execution_count": 13,
   "id": "initial-virgin",
   "metadata": {},
   "outputs": [
    {
     "data": {
      "text/plain": [
       "time.struct_time(tm_year=2022, tm_mon=11, tm_mday=8, tm_hour=11, tm_min=37, tm_sec=46, tm_wday=1, tm_yday=312, tm_isdst=0)"
      ]
     },
     "execution_count": 13,
     "metadata": {},
     "output_type": "execute_result"
    }
   ],
   "source": [
    "# parsed publication date of first item\n",
    "\n",
    "d[\"entries\"][0][\"published_parsed\"]"
   ]
  },
  {
   "cell_type": "code",
   "execution_count": 14,
   "id": "boxed-prayer",
   "metadata": {},
   "outputs": [
    {
     "data": {
      "text/plain": [
       "'https://www.bbc.co.uk/news/world-middle-east-63554305'"
      ]
     },
     "execution_count": 14,
     "metadata": {},
     "output_type": "execute_result"
    }
   ],
   "source": [
    "# id of first item\n",
    "\n",
    "d[\"entries\"][0][\"id\"]"
   ]
  },
  {
   "cell_type": "markdown",
   "id": "charged-bleeding",
   "metadata": {},
   "source": [
    "We can also sort these items by publication date."
   ]
  },
  {
   "cell_type": "code",
   "execution_count": 20,
   "id": "private-yahoo",
   "metadata": {},
   "outputs": [
    {
     "data": {
      "text/plain": [
       "[{'title': 'COP27: Is climate change going to make diseases more likely in future?',\n",
       "  'title_detail': {'type': 'text/plain',\n",
       "   'language': None,\n",
       "   'base': 'http://feeds.bbci.co.uk/news/world/rss.xml',\n",
       "   'value': 'COP27: Is climate change going to make diseases more likely in future?'},\n",
       "  'summary': 'Scientists say climate change is making over half of all infectious diseases worse, watch to see why.',\n",
       "  'summary_detail': {'type': 'text/html',\n",
       "   'language': None,\n",
       "   'base': 'http://feeds.bbci.co.uk/news/world/rss.xml',\n",
       "   'value': 'Scientists say climate change is making over half of all infectious diseases worse, watch to see why.'},\n",
       "  'links': [{'rel': 'alternate',\n",
       "    'type': 'text/html',\n",
       "    'href': 'https://www.bbc.co.uk/news/science-environment-63556927?at_medium=RSS&at_campaign=KARANGA'}],\n",
       "  'link': 'https://www.bbc.co.uk/news/science-environment-63556927?at_medium=RSS&at_campaign=KARANGA',\n",
       "  'id': 'https://www.bbc.co.uk/news/science-environment-63556927',\n",
       "  'guidislink': False,\n",
       "  'published': 'Tue, 08 Nov 2022 12:17:08 GMT',\n",
       "  'published_parsed': time.struct_time(tm_year=2022, tm_mon=11, tm_mday=8, tm_hour=12, tm_min=17, tm_sec=8, tm_wday=1, tm_yday=312, tm_isdst=0)},\n",
       " {'title': 'Men sentenced to death for rape and torture freed',\n",
       "  'title_detail': {'type': 'text/plain',\n",
       "   'language': None,\n",
       "   'base': 'http://feeds.bbci.co.uk/news/world/rss.xml',\n",
       "   'value': 'Men sentenced to death for rape and torture freed'},\n",
       "  'summary': 'The Supreme Court cleared three men of gang rape and murder in a case that made headlines in 2012.',\n",
       "  'summary_detail': {'type': 'text/html',\n",
       "   'language': None,\n",
       "   'base': 'http://feeds.bbci.co.uk/news/world/rss.xml',\n",
       "   'value': 'The Supreme Court cleared three men of gang rape and murder in a case that made headlines in 2012.'},\n",
       "  'links': [{'rel': 'alternate',\n",
       "    'type': 'text/html',\n",
       "    'href': 'https://www.bbc.co.uk/news/world-asia-india-63554474?at_medium=RSS&at_campaign=KARANGA'}],\n",
       "  'link': 'https://www.bbc.co.uk/news/world-asia-india-63554474?at_medium=RSS&at_campaign=KARANGA',\n",
       "  'id': 'https://www.bbc.co.uk/news/world-asia-india-63554474',\n",
       "  'guidislink': False,\n",
       "  'published': 'Tue, 08 Nov 2022 12:12:16 GMT',\n",
       "  'published_parsed': time.struct_time(tm_year=2022, tm_mon=11, tm_mday=8, tm_hour=12, tm_min=12, tm_sec=16, tm_wday=1, tm_yday=312, tm_isdst=0)},\n",
       " {'title': \"COP27: Barbados PM Mia Mottley's plea to rich nations\",\n",
       "  'title_detail': {'type': 'text/plain',\n",
       "   'language': None,\n",
       "   'base': 'http://feeds.bbci.co.uk/news/world/rss.xml',\n",
       "   'value': \"COP27: Barbados PM Mia Mottley's plea to rich nations\"},\n",
       "  'summary': 'Prime Minister Mia Mottley calls for more funding to help poorer nations fight climate change.',\n",
       "  'summary_detail': {'type': 'text/html',\n",
       "   'language': None,\n",
       "   'base': 'http://feeds.bbci.co.uk/news/world/rss.xml',\n",
       "   'value': 'Prime Minister Mia Mottley calls for more funding to help poorer nations fight climate change.'},\n",
       "  'links': [{'rel': 'alternate',\n",
       "    'type': 'text/html',\n",
       "    'href': 'https://www.bbc.co.uk/news/science-environment-63557041?at_medium=RSS&at_campaign=KARANGA'}],\n",
       "  'link': 'https://www.bbc.co.uk/news/science-environment-63557041?at_medium=RSS&at_campaign=KARANGA',\n",
       "  'id': 'https://www.bbc.co.uk/news/science-environment-63557041',\n",
       "  'guidislink': False,\n",
       "  'published': 'Tue, 08 Nov 2022 12:05:00 GMT',\n",
       "  'published_parsed': time.struct_time(tm_year=2022, tm_mon=11, tm_mday=8, tm_hour=12, tm_min=5, tm_sec=0, tm_wday=1, tm_yday=312, tm_isdst=0)},\n",
       " {'title': 'Iran International: TV channel says Iran threatened UK-based journalists',\n",
       "  'title_detail': {'type': 'text/plain',\n",
       "   'language': None,\n",
       "   'base': 'http://feeds.bbci.co.uk/news/world/rss.xml',\n",
       "   'value': 'Iran International: TV channel says Iran threatened UK-based journalists'},\n",
       "  'summary': 'Two Iran International staff have been warned of a risk to their lives, a law enforcement source says.',\n",
       "  'summary_detail': {'type': 'text/html',\n",
       "   'language': None,\n",
       "   'base': 'http://feeds.bbci.co.uk/news/world/rss.xml',\n",
       "   'value': 'Two Iran International staff have been warned of a risk to their lives, a law enforcement source says.'},\n",
       "  'links': [{'rel': 'alternate',\n",
       "    'type': 'text/html',\n",
       "    'href': 'https://www.bbc.co.uk/news/world-middle-east-63554305?at_medium=RSS&at_campaign=KARANGA'}],\n",
       "  'link': 'https://www.bbc.co.uk/news/world-middle-east-63554305?at_medium=RSS&at_campaign=KARANGA',\n",
       "  'id': 'https://www.bbc.co.uk/news/world-middle-east-63554305',\n",
       "  'guidislink': False,\n",
       "  'published': 'Tue, 08 Nov 2022 11:37:46 GMT',\n",
       "  'published_parsed': time.struct_time(tm_year=2022, tm_mon=11, tm_mday=8, tm_hour=11, tm_min=37, tm_sec=46, tm_wday=1, tm_yday=312, tm_isdst=0)},\n",
       " {'title': 'Italy allows migrant boat to dock but many remain stranded',\n",
       "  'title_detail': {'type': 'text/plain',\n",
       "   'language': None,\n",
       "   'base': 'http://feeds.bbci.co.uk/news/world/rss.xml',\n",
       "   'value': 'Italy allows migrant boat to dock but many remain stranded'},\n",
       "  'summary': 'A total of 89 people were allowed to disembark but hundreds more are waiting to come ashore.',\n",
       "  'summary_detail': {'type': 'text/html',\n",
       "   'language': None,\n",
       "   'base': 'http://feeds.bbci.co.uk/news/world/rss.xml',\n",
       "   'value': 'A total of 89 people were allowed to disembark but hundreds more are waiting to come ashore.'},\n",
       "  'links': [{'rel': 'alternate',\n",
       "    'type': 'text/html',\n",
       "    'href': 'https://www.bbc.co.uk/news/world-europe-63554335?at_medium=RSS&at_campaign=KARANGA'}],\n",
       "  'link': 'https://www.bbc.co.uk/news/world-europe-63554335?at_medium=RSS&at_campaign=KARANGA',\n",
       "  'id': 'https://www.bbc.co.uk/news/world-europe-63554335',\n",
       "  'guidislink': False,\n",
       "  'published': 'Tue, 08 Nov 2022 11:36:03 GMT',\n",
       "  'published_parsed': time.struct_time(tm_year=2022, tm_mon=11, tm_mday=8, tm_hour=11, tm_min=36, tm_sec=3, tm_wday=1, tm_yday=312, tm_isdst=0)},\n",
       " {'title': 'Hushpuppi: Notorious Nigerian fraudster jailed for 11 years in US',\n",
       "  'title_detail': {'type': 'text/plain',\n",
       "   'language': None,\n",
       "   'base': 'http://feeds.bbci.co.uk/news/world/rss.xml',\n",
       "   'value': 'Hushpuppi: Notorious Nigerian fraudster jailed for 11 years in US'},\n",
       "  'summary': \"The FBI says ex-social media star Hushpuppi is one of the world's most high-profile money launderers.\",\n",
       "  'summary_detail': {'type': 'text/html',\n",
       "   'language': None,\n",
       "   'base': 'http://feeds.bbci.co.uk/news/world/rss.xml',\n",
       "   'value': \"The FBI says ex-social media star Hushpuppi is one of the world's most high-profile money launderers.\"},\n",
       "  'links': [{'rel': 'alternate',\n",
       "    'type': 'text/html',\n",
       "    'href': 'https://www.bbc.co.uk/news/world-africa-63542573?at_medium=RSS&at_campaign=KARANGA'}],\n",
       "  'link': 'https://www.bbc.co.uk/news/world-africa-63542573?at_medium=RSS&at_campaign=KARANGA',\n",
       "  'id': 'https://www.bbc.co.uk/news/world-africa-63542573',\n",
       "  'guidislink': False,\n",
       "  'published': 'Tue, 08 Nov 2022 10:01:57 GMT',\n",
       "  'published_parsed': time.struct_time(tm_year=2022, tm_mon=11, tm_mday=8, tm_hour=10, tm_min=1, tm_sec=57, tm_wday=1, tm_yday=312, tm_isdst=0)},\n",
       " {'title': \"Trudeau accuses China of 'aggressive' election interference\",\n",
       "  'title_detail': {'type': 'text/plain',\n",
       "   'language': None,\n",
       "   'base': 'http://feeds.bbci.co.uk/news/world/rss.xml',\n",
       "   'value': \"Trudeau accuses China of 'aggressive' election interference\"},\n",
       "  'summary': 'It follows reports that Canada has identified 11 Beijing-funded candidates at the 2019 elections.',\n",
       "  'summary_detail': {'type': 'text/html',\n",
       "   'language': None,\n",
       "   'base': 'http://feeds.bbci.co.uk/news/world/rss.xml',\n",
       "   'value': 'It follows reports that Canada has identified 11 Beijing-funded candidates at the 2019 elections.'},\n",
       "  'links': [{'rel': 'alternate',\n",
       "    'type': 'text/html',\n",
       "    'href': 'https://www.bbc.co.uk/news/world-us-canada-63551134?at_medium=RSS&at_campaign=KARANGA'}],\n",
       "  'link': 'https://www.bbc.co.uk/news/world-us-canada-63551134?at_medium=RSS&at_campaign=KARANGA',\n",
       "  'id': 'https://www.bbc.co.uk/news/world-us-canada-63551134',\n",
       "  'guidislink': False,\n",
       "  'published': 'Tue, 08 Nov 2022 09:35:11 GMT',\n",
       "  'published_parsed': time.struct_time(tm_year=2022, tm_mon=11, tm_mday=8, tm_hour=9, tm_min=35, tm_sec=11, tm_wday=1, tm_yday=312, tm_isdst=0)},\n",
       " {'title': 'Christchurch mass killer appeals against conviction and sentence',\n",
       "  'title_detail': {'type': 'text/plain',\n",
       "   'language': None,\n",
       "   'base': 'http://feeds.bbci.co.uk/news/world/rss.xml',\n",
       "   'value': 'Christchurch mass killer appeals against conviction and sentence'},\n",
       "  'summary': 'New Zealand PM Jacinda Ardern said Brenton Tarrant\\'s appeal was an attempt to \"revictimise people\".',\n",
       "  'summary_detail': {'type': 'text/html',\n",
       "   'language': None,\n",
       "   'base': 'http://feeds.bbci.co.uk/news/world/rss.xml',\n",
       "   'value': 'New Zealand PM Jacinda Ardern said Brenton Tarrant\\'s appeal was an attempt to \"revictimise people\".'},\n",
       "  'links': [{'rel': 'alternate',\n",
       "    'type': 'text/html',\n",
       "    'href': 'https://www.bbc.co.uk/news/world-asia-63552011?at_medium=RSS&at_campaign=KARANGA'}],\n",
       "  'link': 'https://www.bbc.co.uk/news/world-asia-63552011?at_medium=RSS&at_campaign=KARANGA',\n",
       "  'id': 'https://www.bbc.co.uk/news/world-asia-63552011',\n",
       "  'guidislink': False,\n",
       "  'published': 'Tue, 08 Nov 2022 06:53:53 GMT',\n",
       "  'published_parsed': time.struct_time(tm_year=2022, tm_mon=11, tm_mday=8, tm_hour=6, tm_min=53, tm_sec=53, tm_wday=1, tm_yday=312, tm_isdst=0)},\n",
       " {'title': 'Powerball: how to play and other questions answered',\n",
       "  'title_detail': {'type': 'text/plain',\n",
       "   'language': None,\n",
       "   'base': 'http://feeds.bbci.co.uk/news/world/rss.xml',\n",
       "   'value': 'Powerball: how to play and other questions answered'},\n",
       "  'summary': 'The Powerball US lottery jackpot has been delayed after it reaches a world record $1.9bn.',\n",
       "  'summary_detail': {'type': 'text/html',\n",
       "   'language': None,\n",
       "   'base': 'http://feeds.bbci.co.uk/news/world/rss.xml',\n",
       "   'value': 'The Powerball US lottery jackpot has been delayed after it reaches a world record $1.9bn.'},\n",
       "  'links': [{'rel': 'alternate',\n",
       "    'type': 'text/html',\n",
       "    'href': 'https://www.bbc.co.uk/news/world-us-canada-63545192?at_medium=RSS&at_campaign=KARANGA'}],\n",
       "  'link': 'https://www.bbc.co.uk/news/world-us-canada-63545192?at_medium=RSS&at_campaign=KARANGA',\n",
       "  'id': 'https://www.bbc.co.uk/news/world-us-canada-63545192',\n",
       "  'guidislink': False,\n",
       "  'published': 'Tue, 08 Nov 2022 05:50:12 GMT',\n",
       "  'published_parsed': time.struct_time(tm_year=2022, tm_mon=11, tm_mday=8, tm_hour=5, tm_min=50, tm_sec=12, tm_wday=1, tm_yday=312, tm_isdst=0)},\n",
       " {'title': 'Philippines prison chief behind journalist killing, say police',\n",
       "  'title_detail': {'type': 'text/plain',\n",
       "   'language': None,\n",
       "   'base': 'http://feeds.bbci.co.uk/news/world/rss.xml',\n",
       "   'value': 'Philippines prison chief behind journalist killing, say police'},\n",
       "  'summary': 'Mr Bantag is accused of being behind the death of a radio journalist who was shot dead last month.',\n",
       "  'summary_detail': {'type': 'text/html',\n",
       "   'language': None,\n",
       "   'base': 'http://feeds.bbci.co.uk/news/world/rss.xml',\n",
       "   'value': 'Mr Bantag is accused of being behind the death of a radio journalist who was shot dead last month.'},\n",
       "  'links': [{'rel': 'alternate',\n",
       "    'type': 'text/html',\n",
       "    'href': 'https://www.bbc.co.uk/news/world-asia-63538611?at_medium=RSS&at_campaign=KARANGA'}],\n",
       "  'link': 'https://www.bbc.co.uk/news/world-asia-63538611?at_medium=RSS&at_campaign=KARANGA',\n",
       "  'id': 'https://www.bbc.co.uk/news/world-asia-63538611',\n",
       "  'guidislink': False,\n",
       "  'published': 'Tue, 08 Nov 2022 04:13:46 GMT',\n",
       "  'published_parsed': time.struct_time(tm_year=2022, tm_mon=11, tm_mday=8, tm_hour=4, tm_min=13, tm_sec=46, tm_wday=1, tm_yday=312, tm_isdst=0)},\n",
       " {'title': \"Putin allies who criticise Russia's war machine\",\n",
       "  'title_detail': {'type': 'text/plain',\n",
       "   'language': None,\n",
       "   'base': 'http://feeds.bbci.co.uk/news/world/rss.xml',\n",
       "   'value': \"Putin allies who criticise Russia's war machine\"},\n",
       "  'summary': 'The top brass have been sharply criticised over the war by Ramzan Kadyrov and Yevgeny Prigozhin.',\n",
       "  'summary_detail': {'type': 'text/html',\n",
       "   'language': None,\n",
       "   'base': 'http://feeds.bbci.co.uk/news/world/rss.xml',\n",
       "   'value': 'The top brass have been sharply criticised over the war by Ramzan Kadyrov and Yevgeny Prigozhin.'},\n",
       "  'links': [{'rel': 'alternate',\n",
       "    'type': 'text/html',\n",
       "    'href': 'https://www.bbc.co.uk/news/world-europe-63468600?at_medium=RSS&at_campaign=KARANGA'}],\n",
       "  'link': 'https://www.bbc.co.uk/news/world-europe-63468600?at_medium=RSS&at_campaign=KARANGA',\n",
       "  'id': 'https://www.bbc.co.uk/news/world-europe-63468600',\n",
       "  'guidislink': False,\n",
       "  'published': 'Tue, 08 Nov 2022 00:39:28 GMT',\n",
       "  'published_parsed': time.struct_time(tm_year=2022, tm_mon=11, tm_mday=8, tm_hour=0, tm_min=39, tm_sec=28, tm_wday=1, tm_yday=312, tm_isdst=0)},\n",
       " {'title': 'Ukraine war: Why is control of Kherson so important?',\n",
       "  'title_detail': {'type': 'text/plain',\n",
       "   'language': None,\n",
       "   'base': 'http://feeds.bbci.co.uk/news/world/rss.xml',\n",
       "   'value': 'Ukraine war: Why is control of Kherson so important?'},\n",
       "  'summary': 'Kherson, in southern Ukraine, is seen as a vital city for Ukraine to capture and for Russia to defend.',\n",
       "  'summary_detail': {'type': 'text/html',\n",
       "   'language': None,\n",
       "   'base': 'http://feeds.bbci.co.uk/news/world/rss.xml',\n",
       "   'value': 'Kherson, in southern Ukraine, is seen as a vital city for Ukraine to capture and for Russia to defend.'},\n",
       "  'links': [{'rel': 'alternate',\n",
       "    'type': 'text/html',\n",
       "    'href': 'https://www.bbc.co.uk/news/world-63511626?at_medium=RSS&at_campaign=KARANGA'}],\n",
       "  'link': 'https://www.bbc.co.uk/news/world-63511626?at_medium=RSS&at_campaign=KARANGA',\n",
       "  'id': 'https://www.bbc.co.uk/news/world-63511626',\n",
       "  'guidislink': False,\n",
       "  'published': 'Tue, 08 Nov 2022 00:36:27 GMT',\n",
       "  'published_parsed': time.struct_time(tm_year=2022, tm_mon=11, tm_mday=8, tm_hour=0, tm_min=36, tm_sec=27, tm_wday=1, tm_yday=312, tm_isdst=0)},\n",
       " {'title': 'COP27: Why South Africa will struggle to wean itself off coal',\n",
       "  'title_detail': {'type': 'text/plain',\n",
       "   'language': None,\n",
       "   'base': 'http://feeds.bbci.co.uk/news/world/rss.xml',\n",
       "   'value': 'COP27: Why South Africa will struggle to wean itself off coal'},\n",
       "  'summary': \"Coal provides most of South Africa's energy but its main concern is boosting supply, not going green.\",\n",
       "  'summary_detail': {'type': 'text/html',\n",
       "   'language': None,\n",
       "   'base': 'http://feeds.bbci.co.uk/news/world/rss.xml',\n",
       "   'value': \"Coal provides most of South Africa's energy but its main concern is boosting supply, not going green.\"},\n",
       "  'links': [{'rel': 'alternate',\n",
       "    'type': 'text/html',\n",
       "    'href': 'https://www.bbc.co.uk/news/world-africa-63513278?at_medium=RSS&at_campaign=KARANGA'}],\n",
       "  'link': 'https://www.bbc.co.uk/news/world-africa-63513278?at_medium=RSS&at_campaign=KARANGA',\n",
       "  'id': 'https://www.bbc.co.uk/news/world-africa-63513278',\n",
       "  'guidislink': False,\n",
       "  'published': 'Tue, 08 Nov 2022 00:29:36 GMT',\n",
       "  'published_parsed': time.struct_time(tm_year=2022, tm_mon=11, tm_mday=8, tm_hour=0, tm_min=29, tm_sec=36, tm_wday=1, tm_yday=312, tm_isdst=0)},\n",
       " {'title': \"Ukraine war: US confirms 'communications' with Kremlin\",\n",
       "  'title_detail': {'type': 'text/plain',\n",
       "   'language': None,\n",
       "   'base': 'http://feeds.bbci.co.uk/news/world/rss.xml',\n",
       "   'value': \"Ukraine war: US confirms 'communications' with Kremlin\"},\n",
       "  'summary': 'Jake Sullivan reportedly held talks with Kremlin aides to guard against nuclear escalation in Ukraine.',\n",
       "  'summary_detail': {'type': 'text/html',\n",
       "   'language': None,\n",
       "   'base': 'http://feeds.bbci.co.uk/news/world/rss.xml',\n",
       "   'value': 'Jake Sullivan reportedly held talks with Kremlin aides to guard against nuclear escalation in Ukraine.'},\n",
       "  'links': [{'rel': 'alternate',\n",
       "    'type': 'text/html',\n",
       "    'href': 'https://www.bbc.co.uk/news/world-us-canada-63551133?at_medium=RSS&at_campaign=KARANGA'}],\n",
       "  'link': 'https://www.bbc.co.uk/news/world-us-canada-63551133?at_medium=RSS&at_campaign=KARANGA',\n",
       "  'id': 'https://www.bbc.co.uk/news/world-us-canada-63551133',\n",
       "  'guidislink': False,\n",
       "  'published': 'Tue, 08 Nov 2022 00:14:19 GMT',\n",
       "  'published_parsed': time.struct_time(tm_year=2022, tm_mon=11, tm_mday=8, tm_hour=0, tm_min=14, tm_sec=19, tm_wday=1, tm_yday=312, tm_isdst=0)},\n",
       " {'title': 'The big moments to watch for on US election night',\n",
       "  'title_detail': {'type': 'text/plain',\n",
       "   'language': None,\n",
       "   'base': 'http://feeds.bbci.co.uk/news/world/rss.xml',\n",
       "   'value': 'The big moments to watch for on US election night'},\n",
       "  'summary': 'As America prepares to go to the polls, we take you through how the drama might unfold on the night',\n",
       "  'summary_detail': {'type': 'text/html',\n",
       "   'language': None,\n",
       "   'base': 'http://feeds.bbci.co.uk/news/world/rss.xml',\n",
       "   'value': 'As America prepares to go to the polls, we take you through how the drama might unfold on the night'},\n",
       "  'links': [{'rel': 'alternate',\n",
       "    'type': 'text/html',\n",
       "    'href': 'https://www.bbc.co.uk/news/world-us-canada-63402244?at_medium=RSS&at_campaign=KARANGA'}],\n",
       "  'link': 'https://www.bbc.co.uk/news/world-us-canada-63402244?at_medium=RSS&at_campaign=KARANGA',\n",
       "  'id': 'https://www.bbc.co.uk/news/world-us-canada-63402244',\n",
       "  'guidislink': False,\n",
       "  'published': 'Tue, 08 Nov 2022 00:04:40 GMT',\n",
       "  'published_parsed': time.struct_time(tm_year=2022, tm_mon=11, tm_mday=8, tm_hour=0, tm_min=4, tm_sec=40, tm_wday=1, tm_yday=312, tm_isdst=0)},\n",
       " {'title': \"COP27: 'We'd never seen this much water' - Pakistan flood survivors\",\n",
       "  'title_detail': {'type': 'text/plain',\n",
       "   'language': None,\n",
       "   'base': 'http://feeds.bbci.co.uk/news/world/rss.xml',\n",
       "   'value': \"COP27: 'We'd never seen this much water' - Pakistan flood survivors\"},\n",
       "  'summary': 'At COP27, Pakistan calls for help after floods linked to climate change left millions homeless.',\n",
       "  'summary_detail': {'type': 'text/html',\n",
       "   'language': None,\n",
       "   'base': 'http://feeds.bbci.co.uk/news/world/rss.xml',\n",
       "   'value': 'At COP27, Pakistan calls for help after floods linked to climate change left millions homeless.'},\n",
       "  'links': [{'rel': 'alternate',\n",
       "    'type': 'text/html',\n",
       "    'href': 'https://www.bbc.co.uk/news/world-asia-63218139?at_medium=RSS&at_campaign=KARANGA'}],\n",
       "  'link': 'https://www.bbc.co.uk/news/world-asia-63218139?at_medium=RSS&at_campaign=KARANGA',\n",
       "  'id': 'https://www.bbc.co.uk/news/world-asia-63218139',\n",
       "  'guidislink': False,\n",
       "  'published': 'Mon, 07 Nov 2022 23:40:36 GMT',\n",
       "  'published_parsed': time.struct_time(tm_year=2022, tm_mon=11, tm_mday=7, tm_hour=23, tm_min=40, tm_sec=36, tm_wday=0, tm_yday=311, tm_isdst=0)},\n",
       " {'title': 'The case of Nigerian atheist Mubarak Bala convicted of blasphemy',\n",
       "  'title_detail': {'type': 'text/plain',\n",
       "   'language': None,\n",
       "   'base': 'http://feeds.bbci.co.uk/news/world/rss.xml',\n",
       "   'value': 'The case of Nigerian atheist Mubarak Bala convicted of blasphemy'},\n",
       "  'summary': \"Mubarak Bala's conviction on charges related to blasphemy has sent shockwaves throughout Nigeria.\",\n",
       "  'summary_detail': {'type': 'text/html',\n",
       "   'language': None,\n",
       "   'base': 'http://feeds.bbci.co.uk/news/world/rss.xml',\n",
       "   'value': \"Mubarak Bala's conviction on charges related to blasphemy has sent shockwaves throughout Nigeria.\"},\n",
       "  'links': [{'rel': 'alternate',\n",
       "    'type': 'text/html',\n",
       "    'href': 'https://www.bbc.co.uk/news/world-africa-63496455?at_medium=RSS&at_campaign=KARANGA'}],\n",
       "  'link': 'https://www.bbc.co.uk/news/world-africa-63496455?at_medium=RSS&at_campaign=KARANGA',\n",
       "  'id': 'https://www.bbc.co.uk/news/world-africa-63496455',\n",
       "  'guidislink': False,\n",
       "  'published': 'Mon, 07 Nov 2022 23:39:45 GMT',\n",
       "  'published_parsed': time.struct_time(tm_year=2022, tm_mon=11, tm_mday=7, tm_hour=23, tm_min=39, tm_sec=45, tm_wday=0, tm_yday=311, tm_isdst=0)},\n",
       " {'title': \"Sriram Krishnan: The Indian-American 'helping' Elon Musk run Twitter\",\n",
       "  'title_detail': {'type': 'text/plain',\n",
       "   'language': None,\n",
       "   'base': 'http://feeds.bbci.co.uk/news/world/rss.xml',\n",
       "   'value': \"Sriram Krishnan: The Indian-American 'helping' Elon Musk run Twitter\"},\n",
       "  'summary': 'Who is Sriram Krishnan, the India-born tech expert who is reportedly in Elon Musk\\'s \"inner circle\"?',\n",
       "  'summary_detail': {'type': 'text/html',\n",
       "   'language': None,\n",
       "   'base': 'http://feeds.bbci.co.uk/news/world/rss.xml',\n",
       "   'value': 'Who is Sriram Krishnan, the India-born tech expert who is reportedly in Elon Musk\\'s \"inner circle\"?'},\n",
       "  'links': [{'rel': 'alternate',\n",
       "    'type': 'text/html',\n",
       "    'href': 'https://www.bbc.co.uk/news/world-asia-india-63481873?at_medium=RSS&at_campaign=KARANGA'}],\n",
       "  'link': 'https://www.bbc.co.uk/news/world-asia-india-63481873?at_medium=RSS&at_campaign=KARANGA',\n",
       "  'id': 'https://www.bbc.co.uk/news/world-asia-india-63481873',\n",
       "  'guidislink': False,\n",
       "  'published': 'Mon, 07 Nov 2022 23:32:25 GMT',\n",
       "  'published_parsed': time.struct_time(tm_year=2022, tm_mon=11, tm_mday=7, tm_hour=23, tm_min=32, tm_sec=25, tm_wday=0, tm_yday=311, tm_isdst=0)},\n",
       " {'title': \"Alaa Abdel Fattah: British-Egyptian activist's family pin hopes on PM\",\n",
       "  'title_detail': {'type': 'text/plain',\n",
       "   'language': None,\n",
       "   'base': 'http://feeds.bbci.co.uk/news/world/rss.xml',\n",
       "   'value': \"Alaa Abdel Fattah: British-Egyptian activist's family pin hopes on PM\"},\n",
       "  'summary': 'Alaa Abdel Fattah\\'s sister says she \"hopes and trusts\" Rishi Sunak will secure his release in Egypt.',\n",
       "  'summary_detail': {'type': 'text/html',\n",
       "   'language': None,\n",
       "   'base': 'http://feeds.bbci.co.uk/news/world/rss.xml',\n",
       "   'value': 'Alaa Abdel Fattah\\'s sister says she \"hopes and trusts\" Rishi Sunak will secure his release in Egypt.'},\n",
       "  'links': [{'rel': 'alternate',\n",
       "    'type': 'text/html',\n",
       "    'href': 'https://www.bbc.co.uk/news/world-middle-east-63547843?at_medium=RSS&at_campaign=KARANGA'}],\n",
       "  'link': 'https://www.bbc.co.uk/news/world-middle-east-63547843?at_medium=RSS&at_campaign=KARANGA',\n",
       "  'id': 'https://www.bbc.co.uk/news/world-middle-east-63547843',\n",
       "  'guidislink': False,\n",
       "  'published': 'Mon, 07 Nov 2022 18:57:22 GMT',\n",
       "  'published_parsed': time.struct_time(tm_year=2022, tm_mon=11, tm_mday=7, tm_hour=18, tm_min=57, tm_sec=22, tm_wday=0, tm_yday=311, tm_isdst=0)},\n",
       " {'title': \"'Help us' heard from migrant rescue boat waiting to dock in Italy\",\n",
       "  'title_detail': {'type': 'text/plain',\n",
       "   'language': None,\n",
       "   'base': 'http://feeds.bbci.co.uk/news/world/rss.xml',\n",
       "   'value': \"'Help us' heard from migrant rescue boat waiting to dock in Italy\"},\n",
       "  'summary': 'People could be heard chanting from a ship as it sits in a Sicilian dock.',\n",
       "  'summary_detail': {'type': 'text/html',\n",
       "   'language': None,\n",
       "   'base': 'http://feeds.bbci.co.uk/news/world/rss.xml',\n",
       "   'value': 'People could be heard chanting from a ship as it sits in a Sicilian dock.'},\n",
       "  'links': [{'rel': 'alternate',\n",
       "    'type': 'text/html',\n",
       "    'href': 'https://www.bbc.co.uk/news/world-europe-63549958?at_medium=RSS&at_campaign=KARANGA'}],\n",
       "  'link': 'https://www.bbc.co.uk/news/world-europe-63549958?at_medium=RSS&at_campaign=KARANGA',\n",
       "  'id': 'https://www.bbc.co.uk/news/world-europe-63549958',\n",
       "  'guidislink': False,\n",
       "  'published': 'Mon, 07 Nov 2022 18:42:14 GMT',\n",
       "  'published_parsed': time.struct_time(tm_year=2022, tm_mon=11, tm_mday=7, tm_hour=18, tm_min=42, tm_sec=14, tm_wday=0, tm_yday=311, tm_isdst=0)},\n",
       " {'title': 'Cardinal Ricard among 11 French bishops accused of abuse',\n",
       "  'title_detail': {'type': 'text/plain',\n",
       "   'language': None,\n",
       "   'base': 'http://feeds.bbci.co.uk/news/world/rss.xml',\n",
       "   'value': 'Cardinal Ricard among 11 French bishops accused of abuse'},\n",
       "  'summary': 'Jean-Pierre Ricard says he abused a 14-year-old girl when he was a parish priest in the 1980s.',\n",
       "  'summary_detail': {'type': 'text/html',\n",
       "   'language': None,\n",
       "   'base': 'http://feeds.bbci.co.uk/news/world/rss.xml',\n",
       "   'value': 'Jean-Pierre Ricard says he abused a 14-year-old girl when he was a parish priest in the 1980s.'},\n",
       "  'links': [{'rel': 'alternate',\n",
       "    'type': 'text/html',\n",
       "    'href': 'https://www.bbc.co.uk/news/world-europe-63545586?at_medium=RSS&at_campaign=KARANGA'}],\n",
       "  'link': 'https://www.bbc.co.uk/news/world-europe-63545586?at_medium=RSS&at_campaign=KARANGA',\n",
       "  'id': 'https://www.bbc.co.uk/news/world-europe-63545586',\n",
       "  'guidislink': False,\n",
       "  'published': 'Mon, 07 Nov 2022 17:08:05 GMT',\n",
       "  'published_parsed': time.struct_time(tm_year=2022, tm_mon=11, tm_mday=7, tm_hour=17, tm_min=8, tm_sec=5, tm_wday=0, tm_yday=311, tm_isdst=0)},\n",
       " {'title': \"COP27 shines spotlight on Egypt's political prisoners\",\n",
       "  'title_detail': {'type': 'text/plain',\n",
       "   'language': None,\n",
       "   'base': 'http://feeds.bbci.co.uk/news/world/rss.xml',\n",
       "   'value': \"COP27 shines spotlight on Egypt's political prisoners\"},\n",
       "  'summary': 'Human rights activists are highlighting the plight of Alaa Abdel Fattah and thousands of others.',\n",
       "  'summary_detail': {'type': 'text/html',\n",
       "   'language': None,\n",
       "   'base': 'http://feeds.bbci.co.uk/news/world/rss.xml',\n",
       "   'value': 'Human rights activists are highlighting the plight of Alaa Abdel Fattah and thousands of others.'},\n",
       "  'links': [{'rel': 'alternate',\n",
       "    'type': 'text/html',\n",
       "    'href': 'https://www.bbc.co.uk/news/world-middle-east-63542472?at_medium=RSS&at_campaign=KARANGA'}],\n",
       "  'link': 'https://www.bbc.co.uk/news/world-middle-east-63542472?at_medium=RSS&at_campaign=KARANGA',\n",
       "  'id': 'https://www.bbc.co.uk/news/world-middle-east-63542472',\n",
       "  'guidislink': False,\n",
       "  'published': 'Mon, 07 Nov 2022 15:02:33 GMT',\n",
       "  'published_parsed': time.struct_time(tm_year=2022, tm_mon=11, tm_mday=7, tm_hour=15, tm_min=2, tm_sec=33, tm_wday=0, tm_yday=311, tm_isdst=0)},\n",
       " {'title': \"'There really is more to life than posting on Instagram'\",\n",
       "  'title_detail': {'type': 'text/plain',\n",
       "   'language': None,\n",
       "   'base': 'http://feeds.bbci.co.uk/news/world/rss.xml',\n",
       "   'value': \"'There really is more to life than posting on Instagram'\"},\n",
       "  'summary': 'A small but growing number of people are giving up the likes of Facebook, Twitter and Instagram.',\n",
       "  'summary_detail': {'type': 'text/html',\n",
       "   'language': None,\n",
       "   'base': 'http://feeds.bbci.co.uk/news/world/rss.xml',\n",
       "   'value': 'A small but growing number of people are giving up the likes of Facebook, Twitter and Instagram.'},\n",
       "  'links': [{'rel': 'alternate',\n",
       "    'type': 'text/html',\n",
       "    'href': 'https://www.bbc.co.uk/news/business-63482162?at_medium=RSS&at_campaign=KARANGA'}],\n",
       "  'link': 'https://www.bbc.co.uk/news/business-63482162?at_medium=RSS&at_campaign=KARANGA',\n",
       "  'id': 'https://www.bbc.co.uk/news/business-63482162',\n",
       "  'guidislink': False,\n",
       "  'published': 'Mon, 07 Nov 2022 14:59:05 GMT',\n",
       "  'published_parsed': time.struct_time(tm_year=2022, tm_mon=11, tm_mday=7, tm_hour=14, tm_min=59, tm_sec=5, tm_wday=0, tm_yday=311, tm_isdst=0)},\n",
       " {'title': 'Ukrainians dance in the dark to battle power cuts',\n",
       "  'title_detail': {'type': 'text/plain',\n",
       "   'language': None,\n",
       "   'base': 'http://feeds.bbci.co.uk/news/world/rss.xml',\n",
       "   'value': 'Ukrainians dance in the dark to battle power cuts'},\n",
       "  'summary': \"Kremenchuk is among the worst-hit cities and Ukrainians say Russia's tactics only make them angrier.\",\n",
       "  'summary_detail': {'type': 'text/html',\n",
       "   'language': None,\n",
       "   'base': 'http://feeds.bbci.co.uk/news/world/rss.xml',\n",
       "   'value': \"Kremenchuk is among the worst-hit cities and Ukrainians say Russia's tactics only make them angrier.\"},\n",
       "  'links': [{'rel': 'alternate',\n",
       "    'type': 'text/html',\n",
       "    'href': 'https://www.bbc.co.uk/news/world-europe-63539470?at_medium=RSS&at_campaign=KARANGA'}],\n",
       "  'link': 'https://www.bbc.co.uk/news/world-europe-63539470?at_medium=RSS&at_campaign=KARANGA',\n",
       "  'id': 'https://www.bbc.co.uk/news/world-europe-63539470',\n",
       "  'guidislink': False,\n",
       "  'published': 'Mon, 07 Nov 2022 12:20:22 GMT',\n",
       "  'published_parsed': time.struct_time(tm_year=2022, tm_mon=11, tm_mday=7, tm_hour=12, tm_min=20, tm_sec=22, tm_wday=0, tm_yday=311, tm_isdst=0)},\n",
       " {'title': 'The agony of not knowing, as Mariupol mass burial sites grow',\n",
       "  'title_detail': {'type': 'text/plain',\n",
       "   'language': None,\n",
       "   'base': 'http://feeds.bbci.co.uk/news/world/rss.xml',\n",
       "   'value': 'The agony of not knowing, as Mariupol mass burial sites grow'},\n",
       "  'summary': 'Residents described the heartache of not knowing where their family members are buried.',\n",
       "  'summary_detail': {'type': 'text/html',\n",
       "   'language': None,\n",
       "   'base': 'http://feeds.bbci.co.uk/news/world/rss.xml',\n",
       "   'value': 'Residents described the heartache of not knowing where their family members are buried.'},\n",
       "  'links': [{'rel': 'alternate',\n",
       "    'type': 'text/html',\n",
       "    'href': 'https://www.bbc.co.uk/news/world-europe-63536564?at_medium=RSS&at_campaign=KARANGA'}],\n",
       "  'link': 'https://www.bbc.co.uk/news/world-europe-63536564?at_medium=RSS&at_campaign=KARANGA',\n",
       "  'id': 'https://www.bbc.co.uk/news/world-europe-63536564',\n",
       "  'guidislink': False,\n",
       "  'published': 'Mon, 07 Nov 2022 01:32:39 GMT',\n",
       "  'published_parsed': time.struct_time(tm_year=2022, tm_mon=11, tm_mday=7, tm_hour=1, tm_min=32, tm_sec=39, tm_wday=0, tm_yday=311, tm_isdst=0)},\n",
       " {'title': 'Tanzania Precision Air crash: Rescuers search Lake Victoria site',\n",
       "  'title_detail': {'type': 'text/plain',\n",
       "   'language': None,\n",
       "   'base': 'http://feeds.bbci.co.uk/news/world/rss.xml',\n",
       "   'value': 'Tanzania Precision Air crash: Rescuers search Lake Victoria site'},\n",
       "  'summary': 'The passenger plane is almost completely submerged after it landed in Lake Victoria.',\n",
       "  'summary_detail': {'type': 'text/html',\n",
       "   'language': None,\n",
       "   'base': 'http://feeds.bbci.co.uk/news/world/rss.xml',\n",
       "   'value': 'The passenger plane is almost completely submerged after it landed in Lake Victoria.'},\n",
       "  'links': [{'rel': 'alternate',\n",
       "    'type': 'text/html',\n",
       "    'href': 'https://www.bbc.co.uk/news/world-africa-63534266?at_medium=RSS&at_campaign=KARANGA'}],\n",
       "  'link': 'https://www.bbc.co.uk/news/world-africa-63534266?at_medium=RSS&at_campaign=KARANGA',\n",
       "  'id': 'https://www.bbc.co.uk/news/world-africa-63534266',\n",
       "  'guidislink': False,\n",
       "  'published': 'Sun, 06 Nov 2022 12:13:07 GMT',\n",
       "  'published_parsed': time.struct_time(tm_year=2022, tm_mon=11, tm_mday=6, tm_hour=12, tm_min=13, tm_sec=7, tm_wday=6, tm_yday=310, tm_isdst=0)},\n",
       " {'title': \"Climate change: Expert says just saying no to fossil fuel doesn't work\",\n",
       "  'title_detail': {'type': 'text/plain',\n",
       "   'language': None,\n",
       "   'base': 'http://feeds.bbci.co.uk/news/world/rss.xml',\n",
       "   'value': \"Climate change: Expert says just saying no to fossil fuel doesn't work\"},\n",
       "  'summary': 'Prof Myles Allen uses a lump of coal to explain how burning fossil fuels results in global warming.',\n",
       "  'summary_detail': {'type': 'text/html',\n",
       "   'language': None,\n",
       "   'base': 'http://feeds.bbci.co.uk/news/world/rss.xml',\n",
       "   'value': 'Prof Myles Allen uses a lump of coal to explain how burning fossil fuels results in global warming.'},\n",
       "  'links': [{'rel': 'alternate',\n",
       "    'type': 'text/html',\n",
       "    'href': 'https://www.bbc.co.uk/news/uk-politics-63534039?at_medium=RSS&at_campaign=KARANGA'}],\n",
       "  'link': 'https://www.bbc.co.uk/news/uk-politics-63534039?at_medium=RSS&at_campaign=KARANGA',\n",
       "  'id': 'https://www.bbc.co.uk/news/uk-politics-63534039',\n",
       "  'guidislink': False,\n",
       "  'published': 'Sun, 06 Nov 2022 11:19:45 GMT',\n",
       "  'published_parsed': time.struct_time(tm_year=2022, tm_mon=11, tm_mday=6, tm_hour=11, tm_min=19, tm_sec=45, tm_wday=6, tm_yday=310, tm_isdst=0)},\n",
       " {'title': 'New York fire: Moment woman rescued by firefighters with a rope',\n",
       "  'title_detail': {'type': 'text/plain',\n",
       "   'language': None,\n",
       "   'base': 'http://feeds.bbci.co.uk/news/world/rss.xml',\n",
       "   'value': 'New York fire: Moment woman rescued by firefighters with a rope'},\n",
       "  'summary': 'A woman is pulled from an apartment block in New York after a blaze left at least 38 people injured.',\n",
       "  'summary_detail': {'type': 'text/html',\n",
       "   'language': None,\n",
       "   'base': 'http://feeds.bbci.co.uk/news/world/rss.xml',\n",
       "   'value': 'A woman is pulled from an apartment block in New York after a blaze left at least 38 people injured.'},\n",
       "  'links': [{'rel': 'alternate',\n",
       "    'type': 'text/html',\n",
       "    'href': 'https://www.bbc.co.uk/news/world-us-canada-63532906?at_medium=RSS&at_campaign=KARANGA'}],\n",
       "  'link': 'https://www.bbc.co.uk/news/world-us-canada-63532906?at_medium=RSS&at_campaign=KARANGA',\n",
       "  'id': 'https://www.bbc.co.uk/news/world-us-canada-63532906',\n",
       "  'guidislink': False,\n",
       "  'published': 'Sun, 06 Nov 2022 08:44:03 GMT',\n",
       "  'published_parsed': time.struct_time(tm_year=2022, tm_mon=11, tm_mday=6, tm_hour=8, tm_min=44, tm_sec=3, tm_wday=6, tm_yday=310, tm_isdst=0)}]"
      ]
     },
     "execution_count": 20,
     "metadata": {},
     "output_type": "execute_result"
    }
   ],
   "source": [
    "sorted(d[\"entries\"], key=lambda item: item['published_parsed'], reverse=True)"
   ]
  },
  {
   "cell_type": "markdown",
   "id": "relative-jonathan",
   "metadata": {},
   "source": [
    "We can now get the html content of a given publication."
   ]
  },
  {
   "cell_type": "code",
   "execution_count": 24,
   "id": "controversial-reply",
   "metadata": {},
   "outputs": [],
   "source": [
    "url = d[\"entries\"][0][\"link\"]\n",
    "\n",
    "r = requests.get(url)\n",
    "html = r.text"
   ]
  },
  {
   "cell_type": "code",
   "execution_count": 25,
   "id": "differential-session",
   "metadata": {},
   "outputs": [],
   "source": [
    "soup = BeautifulSoup(html, 'html.parser')"
   ]
  },
  {
   "cell_type": "code",
   "execution_count": 35,
   "id": "muslim-postage",
   "metadata": {},
   "outputs": [
    {
     "data": {
      "text/plain": [
       "'Iran International: TV channel says Iran threatened UK-based journalists - BBC News'"
      ]
     },
     "execution_count": 35,
     "metadata": {},
     "output_type": "execute_result"
    }
   ],
   "source": [
    "# title\n",
    "\n",
    "soup.title.text"
   ]
  },
  {
   "cell_type": "markdown",
   "id": "polished-foster",
   "metadata": {},
   "source": [
    "The available tags are:"
   ]
  },
  {
   "cell_type": "code",
   "execution_count": 124,
   "id": "radio-picture",
   "metadata": {},
   "outputs": [],
   "source": [
    "tags = set()\n",
    "\n",
    "for tag in soup.find_all():\n",
    "    tags.add(tag.name)"
   ]
  },
  {
   "cell_type": "code",
   "execution_count": 125,
   "id": "defined-realtor",
   "metadata": {},
   "outputs": [
    {
     "data": {
      "text/plain": [
       "{'a',\n",
       " 'article',\n",
       " 'aside',\n",
       " 'b',\n",
       " 'body',\n",
       " 'button',\n",
       " 'circle',\n",
       " 'div',\n",
       " 'figcaption',\n",
       " 'figure',\n",
       " 'footer',\n",
       " 'g',\n",
       " 'h1',\n",
       " 'h2',\n",
       " 'head',\n",
       " 'header',\n",
       " 'html',\n",
       " 'img',\n",
       " 'li',\n",
       " 'link',\n",
       " 'main',\n",
       " 'meta',\n",
       " 'nav',\n",
       " 'noscript',\n",
       " 'ol',\n",
       " 'p',\n",
       " 'path',\n",
       " 'picture',\n",
       " 'script',\n",
       " 'section',\n",
       " 'source',\n",
       " 'span',\n",
       " 'style',\n",
       " 'svg',\n",
       " 'time',\n",
       " 'title',\n",
       " 'ul'}"
      ]
     },
     "execution_count": 125,
     "metadata": {},
     "output_type": "execute_result"
    }
   ],
   "source": [
    "tags"
   ]
  },
  {
   "cell_type": "markdown",
   "id": "stunning-investing",
   "metadata": {},
   "source": [
    "We can use the article tag to have access to the article text only."
   ]
  },
  {
   "cell_type": "code",
   "execution_count": 127,
   "id": "tender-bleeding",
   "metadata": {},
   "outputs": [
    {
     "data": {
      "text/plain": [
       "'Iran International: TV channel says Iran threatened UK-based journalistsPublished3 hours agoSharecloseShare pageCopy linkAbout sharingRelated Topics2022 Iran protestsImage source, Iran InternationalBy David GrittenBBC NewsTwo British-Iranian journalists for the UK-based Persian-language TV channel Iran International have been warned of a possible risk to their lives, a UK law enforcement source has confirmed.Parent company Volant Media said the Metropolitan Police had notified the pair of a recent increase in \"credible\" threats from Iranian security forces. It denounced the \"escalation of a state-sponsored campaign to intimidate Iranian journalists working abroad\".Iranian authorities have not commented.However, they announced sanctions against Iran International and BBC News Persian last month, accusing them of \"incitement of riots\" and \"support of terrorism\" over their coverage of the anti-government protests that have engulfed the country over the past two months.The two UK-based channels are already banned from Iran, but a press freedom watchdog says they are among the main sources of news and information in a country where independent media and journalists are constantly persecuted. This video can not be playedTo play this video you need to enable JavaScript in your browser.Media caption, How Iran state TV tries to control the story of the protestsVolant Media said in a statement that it was \"shocked and deeply concerned\" by the threats its journalists had received, which it attributed to Iran\\'s Islamic Revolution Guard Corps (IRGC), a powerful military force with close ties to the Supreme Leader, Ayatollah Ali Khamenei. \"The Metropolitan Police have now formally notified both journalists that these threats represent an imminent, credible and significant risk to their lives and those of their families. Other members of our staff have also been informed directly by the Metropolitan Police of separate threats.\"It added: \"These lethal threats to British citizens on British soil come after several weeks of warnings from the IRGC and Iranian government about the work of a free and uncensored [Persian]-language media working in London.\"Volant Media warned that the IRGC \"cannot be allowed to export their pernicious media crackdown to the UK\" and called on the British government to \"join us in condemning these horrific threats and continue to highlight the importance of media freedom\".In a statement to the BBC, the Metropolitan Police said: \"We do not comment on matters of protective security in relation to any specific individuals.\"BBC home affairs correspondent Daniel Sandford reports that the UK law enforcement source would not discuss the suggestion in the Daily Telegraph that a \"hostile Iranian surveillance team\" was spotted outside the homes and offices of the journalists.Last year, United Nations experts expressed their \"grave concern over the continuation of reported harassment and intimidation of the BBC News Persian staff and their family members, which appears to be aimed at preventing them from continuing their journalistic activities\". They set out the pattern of harassment that BBC journalists have suffered over the past decade, including \"the systematic attacks, including harassment, asset freezing, serious threats, and defamation campaigns implemented by the authorities against BBC News Persian journalists\". The UN experts also raised concern about the surveillance of BBC journalists and the harassment of their sources in Iran, the interrogation of journalists\\' family members, and the pressure placed on journalists \"to leave their jobs\" - all of which they said might have a \"chilling effect\" on journalism. Iran\\'s response to the UN experts accused the BBC journalists of aiming to \"overthrow the Islamic Republic\" - a claim the BBC insisted was false.US prosecutors also announced last year that four Iranian intelligence officials had been charged with plotting to kidnap a New York-based journalist critical of Iran. The indictment did not name the target, but Masih Alinejad, an Iranian-American author and activist, said it was her.Iran\\'s government said the allegations were \"ridiculous and baseless\".More on this storyBBC accuses Iran of escalating harassment of staff10 FebruaryBBC appeals to UN over Iranian harassment25 June 2021How Iran state TV tries to control story of protests. Video, 00:02:29How Iran state TV tries to control story of protests17 October2:29UN experts demand Iran ceases harassing BBC staff11 March 2020UN urges Iran to stop harassing BBC staff25 October 2017Iran freezes assets of BBC Persian staff15 August 2017Related TopicsPress freedomMediaFreedom of expressionIran2022 Iran protests'"
      ]
     },
     "execution_count": 127,
     "metadata": {},
     "output_type": "execute_result"
    }
   ],
   "source": [
    "# article\n",
    "\n",
    "soup.article.text"
   ]
  },
  {
   "cell_type": "code",
   "execution_count": 164,
   "id": "vanilla-representation",
   "metadata": {},
   "outputs": [
    {
     "data": {
      "text/plain": [
       "[<p class=\"ssrcss-1q0x1qg-Paragraph eq5iqo00\"><b class=\"ssrcss-hmf8ql-BoldText e5tfeyi3\">Two British-Iranian journalists for the UK-based Persian-language TV channel Iran International have been warned of a possible risk to their lives, a UK law enforcement source has confirmed.</b></p>,\n",
       " <p class=\"ssrcss-1q0x1qg-Paragraph eq5iqo00\">Parent company Volant Media said the Metropolitan Police had notified the pair of a recent increase in \"credible\" threats from Iranian security forces. </p>,\n",
       " <p class=\"ssrcss-1q0x1qg-Paragraph eq5iqo00\">It denounced the \"escalation of a state-sponsored campaign to intimidate Iranian journalists working abroad\".</p>,\n",
       " <p class=\"ssrcss-1q0x1qg-Paragraph eq5iqo00\">Iranian authorities have not commented.</p>,\n",
       " <p class=\"ssrcss-1q0x1qg-Paragraph eq5iqo00\">However, they announced sanctions against Iran International and BBC News Persian last month, accusing them of \"incitement of riots\" and \"support of terrorism\" over their coverage of the anti-government protests that have engulfed the country over the past two months.</p>,\n",
       " <p class=\"ssrcss-1q0x1qg-Paragraph eq5iqo00\">The two UK-based channels are already banned from Iran, but a press freedom watchdog says they are among the main sources of news and information in a country where independent media and journalists are constantly persecuted. </p>,\n",
       " <p class=\"ssrcss-1q0x1qg-Paragraph eq5iqo00\">This video can not be played</p>,\n",
       " <p class=\"ssrcss-1q0x1qg-Paragraph eq5iqo00\">How Iran state TV tries to control the story of the protests</p>,\n",
       " <p class=\"ssrcss-1q0x1qg-Paragraph eq5iqo00\"><a class=\"ssrcss-k17ofw-InlineLink e1no5rhv0\" href=\"https://www.iranintl.com/en/202211076450\">Volant Media said in a statement that it was \"shocked and deeply concerned\" by the threats its journalists had received</a>, which it attributed to Iran's Islamic Revolution Guard Corps (IRGC), a powerful military force with close ties to the Supreme Leader, Ayatollah Ali Khamenei. </p>,\n",
       " <p class=\"ssrcss-1q0x1qg-Paragraph eq5iqo00\">\"The Metropolitan Police have now formally notified both journalists that these threats represent an imminent, credible and significant risk to their lives and those of their families. Other members of our staff have also been informed directly by the Metropolitan Police of separate threats.\"</p>,\n",
       " <p class=\"ssrcss-1q0x1qg-Paragraph eq5iqo00\">It added: \"These lethal threats to British citizens on British soil come after several weeks of warnings from the IRGC and Iranian government about the work of a free and uncensored [Persian]-language media working in London.\"</p>,\n",
       " <p class=\"ssrcss-1q0x1qg-Paragraph eq5iqo00\">Volant Media warned that the IRGC \"cannot be allowed to export their pernicious media crackdown to the UK\" and called on the British government to \"join us in condemning these horrific threats and continue to highlight the importance of media freedom\".</p>,\n",
       " <p class=\"ssrcss-1q0x1qg-Paragraph eq5iqo00\">In a statement to the BBC, the Metropolitan Police said: \"We do not comment on matters of protective security in relation to any specific individuals.\"</p>,\n",
       " <p class=\"ssrcss-1q0x1qg-Paragraph eq5iqo00\">BBC home affairs correspondent Daniel Sandford reports that the UK law enforcement source would not discuss the suggestion in the Daily Telegraph that a \"hostile Iranian surveillance team\" was spotted outside the homes and offices of the journalists.</p>,\n",
       " <p class=\"ssrcss-1q0x1qg-Paragraph eq5iqo00\"><a class=\"ssrcss-k17ofw-InlineLink e1no5rhv0\" href=\"https://www.bbc.com/mediacentre/2022/un-raises-grave-concern-with-iran-over-harassment-of-bbc-news-persian-staff\">Last year, United Nations experts expressed their \"grave concern over the continuation of reported harassment and intimidation of the BBC News Persian staff and their family members</a>, which appears to be aimed at preventing them from continuing their journalistic activities\". </p>,\n",
       " <p class=\"ssrcss-1q0x1qg-Paragraph eq5iqo00\">They set out the pattern of harassment that BBC journalists have suffered over the past decade, including \"the systematic attacks, including harassment, asset freezing, serious threats, and defamation campaigns implemented by the authorities against BBC News Persian journalists\". </p>,\n",
       " <p class=\"ssrcss-1q0x1qg-Paragraph eq5iqo00\">The UN experts also raised concern about the surveillance of BBC journalists and the harassment of their sources in Iran, the interrogation of journalists' family members, and the pressure placed on journalists \"to leave their jobs\" - all of which they said might have a \"chilling effect\" on journalism. </p>,\n",
       " <p class=\"ssrcss-1q0x1qg-Paragraph eq5iqo00\">Iran's response to the UN experts accused the BBC journalists of aiming to \"overthrow the Islamic Republic\" - a claim the BBC insisted was false.</p>,\n",
       " <p class=\"ssrcss-1q0x1qg-Paragraph eq5iqo00\"><a class=\"ssrcss-k17ofw-InlineLink e1no5rhv0\" href=\"https://www.bbc.co.uk/news/world-us-canada-57830677\">US prosecutors also announced last year that four Iranian intelligence officials had been charged with plotting to kidnap a New York-based journalist critical of Iran</a>. The indictment did not name the target, but Masih Alinejad, an Iranian-American author and activist, said it was her.</p>,\n",
       " <p class=\"ssrcss-1q0x1qg-Paragraph eq5iqo00\">Iran's government said the allegations were \"ridiculous and baseless\".</p>,\n",
       " <p class=\"ssrcss-17zglt8-PromoHeadline e1f5wbog4\"><span aria-hidden=\"false\">BBC accuses Iran of escalating harassment of staff</span></p>,\n",
       " <p class=\"ssrcss-17zglt8-PromoHeadline e1f5wbog4\"><span aria-hidden=\"false\">BBC appeals to UN over Iranian harassment</span></p>,\n",
       " <p class=\"ssrcss-17zglt8-PromoHeadline e1f5wbog4\"><span class=\"visually-hidden ssrcss-1f39n02-VisuallyHidden e1y6uwnp0\">How Iran state TV tries to control story of protests. Video, 00:02:29</span><span aria-hidden=\"true\">How Iran state TV tries to control story of protests</span></p>,\n",
       " <p class=\"ssrcss-17zglt8-PromoHeadline e1f5wbog4\"><span aria-hidden=\"false\">UN experts demand Iran ceases harassing BBC staff</span></p>,\n",
       " <p class=\"ssrcss-17zglt8-PromoHeadline e1f5wbog4\"><span aria-hidden=\"false\">UN urges Iran to stop harassing BBC staff</span></p>,\n",
       " <p class=\"ssrcss-17zglt8-PromoHeadline e1f5wbog4\"><span aria-hidden=\"false\">Iran freezes assets of BBC Persian staff</span></p>]"
      ]
     },
     "execution_count": 164,
     "metadata": {},
     "output_type": "execute_result"
    }
   ],
   "source": [
    "soup.article.find_all(\"p\")"
   ]
  },
  {
   "cell_type": "markdown",
   "id": "aggressive-analyst",
   "metadata": {},
   "source": [
    "The paragraphs of interest have a class attribute of `class=\"ssrcss-1q0x1qg-Paragraph eq5iqo00\"`."
   ]
  },
  {
   "cell_type": "code",
   "execution_count": 165,
   "id": "searching-equilibrium",
   "metadata": {},
   "outputs": [
    {
     "name": "stdout",
     "output_type": "stream",
     "text": [
      "Two British-Iranian journalists for the UK-based Persian-language TV channel Iran International have been warned of a possible risk to their lives, a UK law enforcement source has confirmed.\n",
      "Parent company Volant Media said the Metropolitan Police had notified the pair of a recent increase in \"credible\" threats from Iranian security forces. \n",
      "It denounced the \"escalation of a state-sponsored campaign to intimidate Iranian journalists working abroad\".\n",
      "Iranian authorities have not commented.\n",
      "However, they announced sanctions against Iran International and BBC News Persian last month, accusing them of \"incitement of riots\" and \"support of terrorism\" over their coverage of the anti-government protests that have engulfed the country over the past two months.\n",
      "The two UK-based channels are already banned from Iran, but a press freedom watchdog says they are among the main sources of news and information in a country where independent media and journalists are constantly persecuted. \n",
      "This video can not be played\n",
      "How Iran state TV tries to control the story of the protests\n",
      "Volant Media said in a statement that it was \"shocked and deeply concerned\" by the threats its journalists had received, which it attributed to Iran's Islamic Revolution Guard Corps (IRGC), a powerful military force with close ties to the Supreme Leader, Ayatollah Ali Khamenei. \n",
      "\"The Metropolitan Police have now formally notified both journalists that these threats represent an imminent, credible and significant risk to their lives and those of their families. Other members of our staff have also been informed directly by the Metropolitan Police of separate threats.\"\n",
      "It added: \"These lethal threats to British citizens on British soil come after several weeks of warnings from the IRGC and Iranian government about the work of a free and uncensored [Persian]-language media working in London.\"\n",
      "Volant Media warned that the IRGC \"cannot be allowed to export their pernicious media crackdown to the UK\" and called on the British government to \"join us in condemning these horrific threats and continue to highlight the importance of media freedom\".\n",
      "In a statement to the BBC, the Metropolitan Police said: \"We do not comment on matters of protective security in relation to any specific individuals.\"\n",
      "BBC home affairs correspondent Daniel Sandford reports that the UK law enforcement source would not discuss the suggestion in the Daily Telegraph that a \"hostile Iranian surveillance team\" was spotted outside the homes and offices of the journalists.\n",
      "Last year, United Nations experts expressed their \"grave concern over the continuation of reported harassment and intimidation of the BBC News Persian staff and their family members, which appears to be aimed at preventing them from continuing their journalistic activities\". \n",
      "They set out the pattern of harassment that BBC journalists have suffered over the past decade, including \"the systematic attacks, including harassment, asset freezing, serious threats, and defamation campaigns implemented by the authorities against BBC News Persian journalists\". \n",
      "The UN experts also raised concern about the surveillance of BBC journalists and the harassment of their sources in Iran, the interrogation of journalists' family members, and the pressure placed on journalists \"to leave their jobs\" - all of which they said might have a \"chilling effect\" on journalism. \n",
      "Iran's response to the UN experts accused the BBC journalists of aiming to \"overthrow the Islamic Republic\" - a claim the BBC insisted was false.\n",
      "US prosecutors also announced last year that four Iranian intelligence officials had been charged with plotting to kidnap a New York-based journalist critical of Iran. The indictment did not name the target, but Masih Alinejad, an Iranian-American author and activist, said it was her.\n",
      "Iran's government said the allegations were \"ridiculous and baseless\".\n"
     ]
    }
   ],
   "source": [
    "for x in soup.article.find_all(\"p\", class_=re.compile(\"Paragraph\")):\n",
    "    print(x.text)"
   ]
  },
  {
   "cell_type": "markdown",
   "id": "current-company",
   "metadata": {},
   "source": [
    "Defining the class to look for, we get only the article text itself.\n",
    "\n",
    "We can now look for a particular expression like \"Iran\"."
   ]
  },
  {
   "cell_type": "code",
   "execution_count": 185,
   "id": "fifth-avatar",
   "metadata": {},
   "outputs": [
    {
     "data": {
      "text/plain": [
       "[<p class=\"ssrcss-1q0x1qg-Paragraph eq5iqo00\"><b class=\"ssrcss-hmf8ql-BoldText e5tfeyi3\">Two British-Iranian journalists for the UK-based Persian-language TV channel Iran International have been warned of a possible risk to their lives, a UK law enforcement source has confirmed.</b></p>,\n",
       " <p class=\"ssrcss-1q0x1qg-Paragraph eq5iqo00\">However, they announced sanctions against Iran International and BBC News Persian last month, accusing them of \"incitement of riots\" and \"support of terrorism\" over their coverage of the anti-government protests that have engulfed the country over the past two months.</p>,\n",
       " <p class=\"ssrcss-1q0x1qg-Paragraph eq5iqo00\">The two UK-based channels are already banned from Iran, but a press freedom watchdog says they are among the main sources of news and information in a country where independent media and journalists are constantly persecuted. </p>,\n",
       " <p class=\"ssrcss-1q0x1qg-Paragraph eq5iqo00\">How Iran state TV tries to control the story of the protests</p>,\n",
       " <p class=\"ssrcss-1q0x1qg-Paragraph eq5iqo00\">The UN experts also raised concern about the surveillance of BBC journalists and the harassment of their sources in Iran, the interrogation of journalists' family members, and the pressure placed on journalists \"to leave their jobs\" - all of which they said might have a \"chilling effect\" on journalism. </p>,\n",
       " <p class=\"ssrcss-1q0x1qg-Paragraph eq5iqo00\">Iran's response to the UN experts accused the BBC journalists of aiming to \"overthrow the Islamic Republic\" - a claim the BBC insisted was false.</p>,\n",
       " <p class=\"ssrcss-1q0x1qg-Paragraph eq5iqo00\">Iran's government said the allegations were \"ridiculous and baseless\".</p>]"
      ]
     },
     "execution_count": 185,
     "metadata": {},
     "output_type": "execute_result"
    }
   ],
   "source": [
    "soup.article.find_all(\"p\", class_=re.compile(\"Paragraph\"), text=re.compile(\"\\\\bIran\\\\b\"))"
   ]
  },
  {
   "cell_type": "markdown",
   "id": "compound-sequence",
   "metadata": {},
   "source": [
    "However, we this method we do not retrieve the paragraphs where there are inline links."
   ]
  },
  {
   "cell_type": "code",
   "execution_count": 183,
   "id": "hybrid-grill",
   "metadata": {},
   "outputs": [
    {
     "data": {
      "text/plain": [
       "['Iran International: TV channel says Iran threatened UK-based journalists',\n",
       " '2022 Iran protests',\n",
       " 'Iran International',\n",
       " 'Two British-Iranian journalists for the UK-based Persian-language TV channel Iran International have been warned of a possible risk to their lives, a UK law enforcement source has confirmed.',\n",
       " 'However, they announced sanctions against Iran International and BBC News Persian last month, accusing them of \"incitement of riots\" and \"support of terrorism\" over their coverage of the anti-government protests that have engulfed the country over the past two months.',\n",
       " 'The two UK-based channels are already banned from Iran, but a press freedom watchdog says they are among the main sources of news and information in a country where independent media and journalists are constantly persecuted. ',\n",
       " 'How Iran state TV tries to control the story of the protests',\n",
       " \", which it attributed to Iran's Islamic Revolution Guard Corps (IRGC), a powerful military force with close ties to the Supreme Leader, Ayatollah Ali Khamenei. \",\n",
       " 'The UN experts also raised concern about the surveillance of BBC journalists and the harassment of their sources in Iran, the interrogation of journalists\\' family members, and the pressure placed on journalists \"to leave their jobs\" - all of which they said might have a \"chilling effect\" on journalism. ',\n",
       " 'Iran\\'s response to the UN experts accused the BBC journalists of aiming to \"overthrow the Islamic Republic\" - a claim the BBC insisted was false.',\n",
       " 'US prosecutors also announced last year that four Iranian intelligence officials had been charged with plotting to kidnap a New York-based journalist critical of Iran',\n",
       " 'Iran\\'s government said the allegations were \"ridiculous and baseless\".',\n",
       " 'BBC accuses Iran of escalating harassment of staff',\n",
       " 'How Iran state TV tries to control story of protests. Video, 00:02:29',\n",
       " 'How Iran state TV tries to control story of protests',\n",
       " 'UN experts demand Iran ceases harassing BBC staff',\n",
       " 'UN urges Iran to stop harassing BBC staff',\n",
       " 'Iran freezes assets of BBC Persian staff',\n",
       " 'Iran',\n",
       " '2022 Iran protests']"
      ]
     },
     "execution_count": 183,
     "metadata": {},
     "output_type": "execute_result"
    }
   ],
   "source": [
    "soup.article.find_all(text=re.compile(\"\\\\bIran\\\\b\"))"
   ]
  },
  {
   "cell_type": "markdown",
   "id": "printable-folder",
   "metadata": {},
   "source": [
    "Besides the additional hits at the beginning and end, we could not retrieve the following passages:"
   ]
  },
  {
   "cell_type": "code",
   "execution_count": 179,
   "id": "missing-diabetes",
   "metadata": {},
   "outputs": [
    {
     "data": {
      "text/plain": [
       "\", which it attributed to Iran's Islamic Revolution Guard Corps (IRGC), a powerful military force with close ties to the Supreme Leader, Ayatollah Ali Khamenei. \""
      ]
     },
     "execution_count": 179,
     "metadata": {},
     "output_type": "execute_result"
    }
   ],
   "source": [
    "soup.article.find_all(text=re.compile(\"\\\\bIran\\\\b\"))[7]"
   ]
  },
  {
   "cell_type": "code",
   "execution_count": 181,
   "id": "medium-benjamin",
   "metadata": {},
   "outputs": [
    {
     "data": {
      "text/plain": [
       "'US prosecutors also announced last year that four Iranian intelligence officials had been charged with plotting to kidnap a New York-based journalist critical of Iran'"
      ]
     },
     "execution_count": 181,
     "metadata": {},
     "output_type": "execute_result"
    }
   ],
   "source": [
    "soup.article.find_all(text=re.compile(\"\\\\bIran\\\\b\"))[10]"
   ]
  }
 ],
 "metadata": {
  "kernelspec": {
   "display_name": "Python 3",
   "language": "python",
   "name": "python3"
  },
  "language_info": {
   "codemirror_mode": {
    "name": "ipython",
    "version": 3
   },
   "file_extension": ".py",
   "mimetype": "text/x-python",
   "name": "python",
   "nbconvert_exporter": "python",
   "pygments_lexer": "ipython3",
   "version": "3.8.8"
  }
 },
 "nbformat": 4,
 "nbformat_minor": 5
}
