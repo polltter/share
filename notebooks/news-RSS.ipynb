{
 "cells": [
  {
   "cell_type": "markdown",
   "id": "sonic-philippines",
   "metadata": {},
   "source": [
    "# C-More"
   ]
  },
  {
   "cell_type": "markdown",
   "id": "hollow-amber",
   "metadata": {},
   "source": [
    "## News"
   ]
  },
  {
   "cell_type": "code",
   "execution_count": 1,
   "id": "atlantic-grade",
   "metadata": {},
   "outputs": [],
   "source": [
    "import feedparser\n",
    "\n",
    "import requests\n",
    "from bs4 import BeautifulSoup\n",
    "\n",
    "import re"
   ]
  },
  {
   "cell_type": "markdown",
   "id": "afraid-plasma",
   "metadata": {},
   "source": [
    "#### BBC News"
   ]
  },
  {
   "cell_type": "markdown",
   "id": "formal-smell",
   "metadata": {},
   "source": [
    "A list of BBC RSS feeds can be found here: https://blog.feedspot.com/bbc_rss_feeds/ (or here https://www.bbc.co.uk/news/10628494)."
   ]
  },
  {
   "cell_type": "code",
   "execution_count": 2,
   "id": "presidential-carroll",
   "metadata": {},
   "outputs": [],
   "source": [
    "# parsing RSS feed\n",
    "\n",
    "d = feedparser.parse(\"http://feeds.bbci.co.uk/news/world/rss.xml\")"
   ]
  },
  {
   "cell_type": "markdown",
   "id": "effective-vampire",
   "metadata": {},
   "source": [
    "Some common channel elements, available in `d.feed` (or `d[\"feed\"]`) are:\n",
    "\n",
    "- title\n",
    "- link\n",
    "- description\n",
    "- publication date\n",
    "- language"
   ]
  },
  {
   "cell_type": "code",
   "execution_count": 3,
   "id": "experimental-louisville",
   "metadata": {},
   "outputs": [
    {
     "data": {
      "text/plain": [
       "'BBC News - World'"
      ]
     },
     "execution_count": 3,
     "metadata": {},
     "output_type": "execute_result"
    }
   ],
   "source": [
    "# RSS feed title\n",
    "\n",
    "d[\"feed\"][\"title\"]"
   ]
  },
  {
   "cell_type": "code",
   "execution_count": 4,
   "id": "sunrise-canada",
   "metadata": {},
   "outputs": [
    {
     "data": {
      "text/plain": [
       "'https://www.bbc.co.uk/news/'"
      ]
     },
     "execution_count": 4,
     "metadata": {},
     "output_type": "execute_result"
    }
   ],
   "source": [
    "# RSS feed link\n",
    "\n",
    "d[\"feed\"][\"link\"]"
   ]
  },
  {
   "cell_type": "code",
   "execution_count": 5,
   "id": "multiple-tiffany",
   "metadata": {},
   "outputs": [
    {
     "data": {
      "text/plain": [
       "'BBC News - World'"
      ]
     },
     "execution_count": 5,
     "metadata": {},
     "output_type": "execute_result"
    }
   ],
   "source": [
    "# RSS feed description\n",
    "\n",
    "d[\"feed\"][\"description\"]"
   ]
  },
  {
   "cell_type": "code",
   "execution_count": 6,
   "id": "revolutionary-denial",
   "metadata": {},
   "outputs": [
    {
     "data": {
      "text/plain": [
       "'Tue, 08 Nov 2022 12:30:24 GMT'"
      ]
     },
     "execution_count": 6,
     "metadata": {},
     "output_type": "execute_result"
    }
   ],
   "source": [
    "# RSS feed update date\n",
    "\n",
    "d[\"feed\"][\"updated\"]"
   ]
  },
  {
   "cell_type": "code",
   "execution_count": 7,
   "id": "statutory-evanescence",
   "metadata": {},
   "outputs": [
    {
     "data": {
      "text/plain": [
       "'en-gb'"
      ]
     },
     "execution_count": 7,
     "metadata": {},
     "output_type": "execute_result"
    }
   ],
   "source": [
    "# RSS feed language\n",
    "\n",
    "d[\"feed\"][\"language\"]"
   ]
  },
  {
   "cell_type": "markdown",
   "id": "wrapped-providence",
   "metadata": {},
   "source": [
    "The items are available in `d.entries`."
   ]
  },
  {
   "cell_type": "code",
   "execution_count": 8,
   "id": "distinct-family",
   "metadata": {
    "scrolled": true
   },
   "outputs": [
    {
     "data": {
      "text/plain": [
       "28"
      ]
     },
     "execution_count": 8,
     "metadata": {},
     "output_type": "execute_result"
    }
   ],
   "source": [
    "len(d[\"entries\"])"
   ]
  },
  {
   "cell_type": "markdown",
   "id": "fuzzy-stereo",
   "metadata": {},
   "source": [
    "We have 27 items.\n",
    "\n",
    "Some common item elements are:\n",
    "\n",
    "- title\n",
    "- link\n",
    "- description\n",
    "- publication date\n",
    "- parsed publication date\n",
    "- id"
   ]
  },
  {
   "cell_type": "code",
   "execution_count": 9,
   "id": "civic-aggregate",
   "metadata": {},
   "outputs": [
    {
     "data": {
      "text/plain": [
       "'Iran International: TV channel says Iran threatened UK-based journalists'"
      ]
     },
     "execution_count": 9,
     "metadata": {},
     "output_type": "execute_result"
    }
   ],
   "source": [
    "# title of first item\n",
    "\n",
    "d[\"entries\"][0][\"title\"]"
   ]
  },
  {
   "cell_type": "code",
   "execution_count": 10,
   "id": "urban-porter",
   "metadata": {},
   "outputs": [
    {
     "data": {
      "text/plain": [
       "'https://www.bbc.co.uk/news/world-middle-east-63554305?at_medium=RSS&at_campaign=KARANGA'"
      ]
     },
     "execution_count": 10,
     "metadata": {},
     "output_type": "execute_result"
    }
   ],
   "source": [
    "# link of first item\n",
    "\n",
    "d[\"entries\"][0][\"link\"]"
   ]
  },
  {
   "cell_type": "code",
   "execution_count": 11,
   "id": "sexual-imagination",
   "metadata": {},
   "outputs": [
    {
     "data": {
      "text/plain": [
       "'Two Iran International staff have been warned of a risk to their lives, a law enforcement source says.'"
      ]
     },
     "execution_count": 11,
     "metadata": {},
     "output_type": "execute_result"
    }
   ],
   "source": [
    "# description/summary of first item\n",
    "\n",
    "d[\"entries\"][0][\"description\"]"
   ]
  },
  {
   "cell_type": "code",
   "execution_count": 12,
   "id": "reasonable-locking",
   "metadata": {},
   "outputs": [
    {
     "data": {
      "text/plain": [
       "'Tue, 08 Nov 2022 11:37:46 GMT'"
      ]
     },
     "execution_count": 12,
     "metadata": {},
     "output_type": "execute_result"
    }
   ],
   "source": [
    "# publication date of first item\n",
    "\n",
    "d[\"entries\"][0][\"published\"]"
   ]
  },
  {
   "cell_type": "code",
   "execution_count": 13,
   "id": "initial-virgin",
   "metadata": {},
   "outputs": [
    {
     "data": {
      "text/plain": [
       "time.struct_time(tm_year=2022, tm_mon=11, tm_mday=8, tm_hour=11, tm_min=37, tm_sec=46, tm_wday=1, tm_yday=312, tm_isdst=0)"
      ]
     },
     "execution_count": 13,
     "metadata": {},
     "output_type": "execute_result"
    }
   ],
   "source": [
    "# parsed publication date of first item\n",
    "\n",
    "d[\"entries\"][0][\"published_parsed\"]"
   ]
  },
  {
   "cell_type": "code",
   "execution_count": 14,
   "id": "boxed-prayer",
   "metadata": {},
   "outputs": [
    {
     "data": {
      "text/plain": [
       "'https://www.bbc.co.uk/news/world-middle-east-63554305'"
      ]
     },
     "execution_count": 14,
     "metadata": {},
     "output_type": "execute_result"
    }
   ],
   "source": [
    "# id of first item\n",
    "\n",
    "d[\"entries\"][0][\"id\"]"
   ]
  },
  {
   "cell_type": "markdown",
   "id": "charged-bleeding",
   "metadata": {},
   "source": [
    "We can also sort these items by publication date."
   ]
  },
  {
   "cell_type": "code",
   "execution_count": 20,
   "id": "private-yahoo",
   "metadata": {},
   "outputs": [
    {
     "data": {
      "text/plain": [
       "[{'title': 'COP27: Is climate change going to make diseases more likely in future?',\n",
       "  'title_detail': {'type': 'text/plain',\n",
       "   'language': None,\n",
       "   'base': 'http://feeds.bbci.co.uk/news/world/rss.xml',\n",
       "   'value': 'COP27: Is climate change going to make diseases more likely in future?'},\n",
       "  'summary': 'Scientists say climate change is making over half of all infectious diseases worse, watch to see why.',\n",
       "  'summary_detail': {'type': 'text/html',\n",
       "   'language': None,\n",
       "   'base': 'http://feeds.bbci.co.uk/news/world/rss.xml',\n",
       "   'value': 'Scientists say climate change is making over half of all infectious diseases worse, watch to see why.'},\n",
       "  'links': [{'rel': 'alternate',\n",
       "    'type': 'text/html',\n",
       "    'href': 'https://www.bbc.co.uk/news/science-environment-63556927?at_medium=RSS&at_campaign=KARANGA'}],\n",
       "  'link': 'https://www.bbc.co.uk/news/science-environment-63556927?at_medium=RSS&at_campaign=KARANGA',\n",
       "  'id': 'https://www.bbc.co.uk/news/science-environment-63556927',\n",
       "  'guidislink': False,\n",
       "  'published': 'Tue, 08 Nov 2022 12:17:08 GMT',\n",
       "  'published_parsed': time.struct_time(tm_year=2022, tm_mon=11, tm_mday=8, tm_hour=12, tm_min=17, tm_sec=8, tm_wday=1, tm_yday=312, tm_isdst=0)},\n",
       " {'title': 'Men sentenced to death for rape and torture freed',\n",
       "  'title_detail': {'type': 'text/plain',\n",
       "   'language': None,\n",
       "   'base': 'http://feeds.bbci.co.uk/news/world/rss.xml',\n",
       "   'value': 'Men sentenced to death for rape and torture freed'},\n",
       "  'summary': 'The Supreme Court cleared three men of gang rape and murder in a case that made headlines in 2012.',\n",
       "  'summary_detail': {'type': 'text/html',\n",
       "   'language': None,\n",
       "   'base': 'http://feeds.bbci.co.uk/news/world/rss.xml',\n",
       "   'value': 'The Supreme Court cleared three men of gang rape and murder in a case that made headlines in 2012.'},\n",
       "  'links': [{'rel': 'alternate',\n",
       "    'type': 'text/html',\n",
       "    'href': 'https://www.bbc.co.uk/news/world-asia-india-63554474?at_medium=RSS&at_campaign=KARANGA'}],\n",
       "  'link': 'https://www.bbc.co.uk/news/world-asia-india-63554474?at_medium=RSS&at_campaign=KARANGA',\n",
       "  'id': 'https://www.bbc.co.uk/news/world-asia-india-63554474',\n",
       "  'guidislink': False,\n",
       "  'published': 'Tue, 08 Nov 2022 12:12:16 GMT',\n",
       "  'published_parsed': time.struct_time(tm_year=2022, tm_mon=11, tm_mday=8, tm_hour=12, tm_min=12, tm_sec=16, tm_wday=1, tm_yday=312, tm_isdst=0)},\n",
       " {'title': \"COP27: Barbados PM Mia Mottley's plea to rich nations\",\n",
       "  'title_detail': {'type': 'text/plain',\n",
       "   'language': None,\n",
       "   'base': 'http://feeds.bbci.co.uk/news/world/rss.xml',\n",
       "   'value': \"COP27: Barbados PM Mia Mottley's plea to rich nations\"},\n",
       "  'summary': 'Prime Minister Mia Mottley calls for more funding to help poorer nations fight climate change.',\n",
       "  'summary_detail': {'type': 'text/html',\n",
       "   'language': None,\n",
       "   'base': 'http://feeds.bbci.co.uk/news/world/rss.xml',\n",
       "   'value': 'Prime Minister Mia Mottley calls for more funding to help poorer nations fight climate change.'},\n",
       "  'links': [{'rel': 'alternate',\n",
       "    'type': 'text/html',\n",
       "    'href': 'https://www.bbc.co.uk/news/science-environment-63557041?at_medium=RSS&at_campaign=KARANGA'}],\n",
       "  'link': 'https://www.bbc.co.uk/news/science-environment-63557041?at_medium=RSS&at_campaign=KARANGA',\n",
       "  'id': 'https://www.bbc.co.uk/news/science-environment-63557041',\n",
       "  'guidislink': False,\n",
       "  'published': 'Tue, 08 Nov 2022 12:05:00 GMT',\n",
       "  'published_parsed': time.struct_time(tm_year=2022, tm_mon=11, tm_mday=8, tm_hour=12, tm_min=5, tm_sec=0, tm_wday=1, tm_yday=312, tm_isdst=0)},\n",
       " {'title': 'Iran International: TV channel says Iran threatened UK-based journalists',\n",
       "  'title_detail': {'type': 'text/plain',\n",
       "   'language': None,\n",
       "   'base': 'http://feeds.bbci.co.uk/news/world/rss.xml',\n",
       "   'value': 'Iran International: TV channel says Iran threatened UK-based journalists'},\n",
       "  'summary': 'Two Iran International staff have been warned of a risk to their lives, a law enforcement source says.',\n",
       "  'summary_detail': {'type': 'text/html',\n",
       "   'language': None,\n",
       "   'base': 'http://feeds.bbci.co.uk/news/world/rss.xml',\n",
       "   'value': 'Two Iran International staff have been warned of a risk to their lives, a law enforcement source says.'},\n",
       "  'links': [{'rel': 'alternate',\n",
       "    'type': 'text/html',\n",
       "    'href': 'https://www.bbc.co.uk/news/world-middle-east-63554305?at_medium=RSS&at_campaign=KARANGA'}],\n",
       "  'link': 'https://www.bbc.co.uk/news/world-middle-east-63554305?at_medium=RSS&at_campaign=KARANGA',\n",
       "  'id': 'https://www.bbc.co.uk/news/world-middle-east-63554305',\n",
       "  'guidislink': False,\n",
       "  'published': 'Tue, 08 Nov 2022 11:37:46 GMT',\n",
       "  'published_parsed': time.struct_time(tm_year=2022, tm_mon=11, tm_mday=8, tm_hour=11, tm_min=37, tm_sec=46, tm_wday=1, tm_yday=312, tm_isdst=0)},\n",
       " {'title': 'Italy allows migrant boat to dock but many remain stranded',\n",
       "  'title_detail': {'type': 'text/plain',\n",
       "   'language': None,\n",
       "   'base': 'http://feeds.bbci.co.uk/news/world/rss.xml',\n",
       "   'value': 'Italy allows migrant boat to dock but many remain stranded'},\n",
       "  'summary': 'A total of 89 people were allowed to disembark but hundreds more are waiting to come ashore.',\n",
       "  'summary_detail': {'type': 'text/html',\n",
       "   'language': None,\n",
       "   'base': 'http://feeds.bbci.co.uk/news/world/rss.xml',\n",
       "   'value': 'A total of 89 people were allowed to disembark but hundreds more are waiting to come ashore.'},\n",
       "  'links': [{'rel': 'alternate',\n",
       "    'type': 'text/html',\n",
       "    'href': 'https://www.bbc.co.uk/news/world-europe-63554335?at_medium=RSS&at_campaign=KARANGA'}],\n",
       "  'link': 'https://www.bbc.co.uk/news/world-europe-63554335?at_medium=RSS&at_campaign=KARANGA',\n",
       "  'id': 'https://www.bbc.co.uk/news/world-europe-63554335',\n",
       "  'guidislink': False,\n",
       "  'published': 'Tue, 08 Nov 2022 11:36:03 GMT',\n",
       "  'published_parsed': time.struct_time(tm_year=2022, tm_mon=11, tm_mday=8, tm_hour=11, tm_min=36, tm_sec=3, tm_wday=1, tm_yday=312, tm_isdst=0)},\n",
       " {'title': 'Hushpuppi: Notorious Nigerian fraudster jailed for 11 years in US',\n",
       "  'title_detail': {'type': 'text/plain',\n",
       "   'language': None,\n",
       "   'base': 'http://feeds.bbci.co.uk/news/world/rss.xml',\n",
       "   'value': 'Hushpuppi: Notorious Nigerian fraudster jailed for 11 years in US'},\n",
       "  'summary': \"The FBI says ex-social media star Hushpuppi is one of the world's most high-profile money launderers.\",\n",
       "  'summary_detail': {'type': 'text/html',\n",
       "   'language': None,\n",
       "   'base': 'http://feeds.bbci.co.uk/news/world/rss.xml',\n",
       "   'value': \"The FBI says ex-social media star Hushpuppi is one of the world's most high-profile money launderers.\"},\n",
       "  'links': [{'rel': 'alternate',\n",
       "    'type': 'text/html',\n",
       "    'href': 'https://www.bbc.co.uk/news/world-africa-63542573?at_medium=RSS&at_campaign=KARANGA'}],\n",
       "  'link': 'https://www.bbc.co.uk/news/world-africa-63542573?at_medium=RSS&at_campaign=KARANGA',\n",
       "  'id': 'https://www.bbc.co.uk/news/world-africa-63542573',\n",
       "  'guidislink': False,\n",
       "  'published': 'Tue, 08 Nov 2022 10:01:57 GMT',\n",
       "  'published_parsed': time.struct_time(tm_year=2022, tm_mon=11, tm_mday=8, tm_hour=10, tm_min=1, tm_sec=57, tm_wday=1, tm_yday=312, tm_isdst=0)},\n",
       " {'title': \"Trudeau accuses China of 'aggressive' election interference\",\n",
       "  'title_detail': {'type': 'text/plain',\n",
       "   'language': None,\n",
       "   'base': 'http://feeds.bbci.co.uk/news/world/rss.xml',\n",
       "   'value': \"Trudeau accuses China of 'aggressive' election interference\"},\n",
       "  'summary': 'It follows reports that Canada has identified 11 Beijing-funded candidates at the 2019 elections.',\n",
       "  'summary_detail': {'type': 'text/html',\n",
       "   'language': None,\n",
       "   'base': 'http://feeds.bbci.co.uk/news/world/rss.xml',\n",
       "   'value': 'It follows reports that Canada has identified 11 Beijing-funded candidates at the 2019 elections.'},\n",
       "  'links': [{'rel': 'alternate',\n",
       "    'type': 'text/html',\n",
       "    'href': 'https://www.bbc.co.uk/news/world-us-canada-63551134?at_medium=RSS&at_campaign=KARANGA'}],\n",
       "  'link': 'https://www.bbc.co.uk/news/world-us-canada-63551134?at_medium=RSS&at_campaign=KARANGA',\n",
       "  'id': 'https://www.bbc.co.uk/news/world-us-canada-63551134',\n",
       "  'guidislink': False,\n",
       "  'published': 'Tue, 08 Nov 2022 09:35:11 GMT',\n",
       "  'published_parsed': time.struct_time(tm_year=2022, tm_mon=11, tm_mday=8, tm_hour=9, tm_min=35, tm_sec=11, tm_wday=1, tm_yday=312, tm_isdst=0)},\n",
       " {'title': 'Christchurch mass killer appeals against conviction and sentence',\n",
       "  'title_detail': {'type': 'text/plain',\n",
       "   'language': None,\n",
       "   'base': 'http://feeds.bbci.co.uk/news/world/rss.xml',\n",
       "   'value': 'Christchurch mass killer appeals against conviction and sentence'},\n",
       "  'summary': 'New Zealand PM Jacinda Ardern said Brenton Tarrant\\'s appeal was an attempt to \"revictimise people\".',\n",
       "  'summary_detail': {'type': 'text/html',\n",
       "   'language': None,\n",
       "   'base': 'http://feeds.bbci.co.uk/news/world/rss.xml',\n",
       "   'value': 'New Zealand PM Jacinda Ardern said Brenton Tarrant\\'s appeal was an attempt to \"revictimise people\".'},\n",
       "  'links': [{'rel': 'alternate',\n",
       "    'type': 'text/html',\n",
       "    'href': 'https://www.bbc.co.uk/news/world-asia-63552011?at_medium=RSS&at_campaign=KARANGA'}],\n",
       "  'link': 'https://www.bbc.co.uk/news/world-asia-63552011?at_medium=RSS&at_campaign=KARANGA',\n",
       "  'id': 'https://www.bbc.co.uk/news/world-asia-63552011',\n",
       "  'guidislink': False,\n",
       "  'published': 'Tue, 08 Nov 2022 06:53:53 GMT',\n",
       "  'published_parsed': time.struct_time(tm_year=2022, tm_mon=11, tm_mday=8, tm_hour=6, tm_min=53, tm_sec=53, tm_wday=1, tm_yday=312, tm_isdst=0)},\n",
       " {'title': 'Powerball: how to play and other questions answered',\n",
       "  'title_detail': {'type': 'text/plain',\n",
       "   'language': None,\n",
       "   'base': 'http://feeds.bbci.co.uk/news/world/rss.xml',\n",
       "   'value': 'Powerball: how to play and other questions answered'},\n",
       "  'summary': 'The Powerball US lottery jackpot has been delayed after it reaches a world record $1.9bn.',\n",
       "  'summary_detail': {'type': 'text/html',\n",
       "   'language': None,\n",
       "   'base': 'http://feeds.bbci.co.uk/news/world/rss.xml',\n",
       "   'value': 'The Powerball US lottery jackpot has been delayed after it reaches a world record $1.9bn.'},\n",
       "  'links': [{'rel': 'alternate',\n",
       "    'type': 'text/html',\n",
       "    'href': 'https://www.bbc.co.uk/news/world-us-canada-63545192?at_medium=RSS&at_campaign=KARANGA'}],\n",
       "  'link': 'https://www.bbc.co.uk/news/world-us-canada-63545192?at_medium=RSS&at_campaign=KARANGA',\n",
       "  'id': 'https://www.bbc.co.uk/news/world-us-canada-63545192',\n",
       "  'guidislink': False,\n",
       "  'published': 'Tue, 08 Nov 2022 05:50:12 GMT',\n",
       "  'published_parsed': time.struct_time(tm_year=2022, tm_mon=11, tm_mday=8, tm_hour=5, tm_min=50, tm_sec=12, tm_wday=1, tm_yday=312, tm_isdst=0)},\n",
       " {'title': 'Philippines prison chief behind journalist killing, say police',\n",
       "  'title_detail': {'type': 'text/plain',\n",
       "   'language': None,\n",
       "   'base': 'http://feeds.bbci.co.uk/news/world/rss.xml',\n",
       "   'value': 'Philippines prison chief behind journalist killing, say police'},\n",
       "  'summary': 'Mr Bantag is accused of being behind the death of a radio journalist who was shot dead last month.',\n",
       "  'summary_detail': {'type': 'text/html',\n",
       "   'language': None,\n",
       "   'base': 'http://feeds.bbci.co.uk/news/world/rss.xml',\n",
       "   'value': 'Mr Bantag is accused of being behind the death of a radio journalist who was shot dead last month.'},\n",
       "  'links': [{'rel': 'alternate',\n",
       "    'type': 'text/html',\n",
       "    'href': 'https://www.bbc.co.uk/news/world-asia-63538611?at_medium=RSS&at_campaign=KARANGA'}],\n",
       "  'link': 'https://www.bbc.co.uk/news/world-asia-63538611?at_medium=RSS&at_campaign=KARANGA',\n",
       "  'id': 'https://www.bbc.co.uk/news/world-asia-63538611',\n",
       "  'guidislink': False,\n",
       "  'published': 'Tue, 08 Nov 2022 04:13:46 GMT',\n",
       "  'published_parsed': time.struct_time(tm_year=2022, tm_mon=11, tm_mday=8, tm_hour=4, tm_min=13, tm_sec=46, tm_wday=1, tm_yday=312, tm_isdst=0)},\n",
       " {'title': \"Putin allies who criticise Russia's war machine\",\n",
       "  'title_detail': {'type': 'text/plain',\n",
       "   'language': None,\n",
       "   'base': 'http://feeds.bbci.co.uk/news/world/rss.xml',\n",
       "   'value': \"Putin allies who criticise Russia's war machine\"},\n",
       "  'summary': 'The top brass have been sharply criticised over the war by Ramzan Kadyrov and Yevgeny Prigozhin.',\n",
       "  'summary_detail': {'type': 'text/html',\n",
       "   'language': None,\n",
       "   'base': 'http://feeds.bbci.co.uk/news/world/rss.xml',\n",
       "   'value': 'The top brass have been sharply criticised over the war by Ramzan Kadyrov and Yevgeny Prigozhin.'},\n",
       "  'links': [{'rel': 'alternate',\n",
       "    'type': 'text/html',\n",
       "    'href': 'https://www.bbc.co.uk/news/world-europe-63468600?at_medium=RSS&at_campaign=KARANGA'}],\n",
       "  'link': 'https://www.bbc.co.uk/news/world-europe-63468600?at_medium=RSS&at_campaign=KARANGA',\n",
       "  'id': 'https://www.bbc.co.uk/news/world-europe-63468600',\n",
       "  'guidislink': False,\n",
       "  'published': 'Tue, 08 Nov 2022 00:39:28 GMT',\n",
       "  'published_parsed': time.struct_time(tm_year=2022, tm_mon=11, tm_mday=8, tm_hour=0, tm_min=39, tm_sec=28, tm_wday=1, tm_yday=312, tm_isdst=0)},\n",
       " {'title': 'Ukraine war: Why is control of Kherson so important?',\n",
       "  'title_detail': {'type': 'text/plain',\n",
       "   'language': None,\n",
       "   'base': 'http://feeds.bbci.co.uk/news/world/rss.xml',\n",
       "   'value': 'Ukraine war: Why is control of Kherson so important?'},\n",
       "  'summary': 'Kherson, in southern Ukraine, is seen as a vital city for Ukraine to capture and for Russia to defend.',\n",
       "  'summary_detail': {'type': 'text/html',\n",
       "   'language': None,\n",
       "   'base': 'http://feeds.bbci.co.uk/news/world/rss.xml',\n",
       "   'value': 'Kherson, in southern Ukraine, is seen as a vital city for Ukraine to capture and for Russia to defend.'},\n",
       "  'links': [{'rel': 'alternate',\n",
       "    'type': 'text/html',\n",
       "    'href': 'https://www.bbc.co.uk/news/world-63511626?at_medium=RSS&at_campaign=KARANGA'}],\n",
       "  'link': 'https://www.bbc.co.uk/news/world-63511626?at_medium=RSS&at_campaign=KARANGA',\n",
       "  'id': 'https://www.bbc.co.uk/news/world-63511626',\n",
       "  'guidislink': False,\n",
       "  'published': 'Tue, 08 Nov 2022 00:36:27 GMT',\n",
       "  'published_parsed': time.struct_time(tm_year=2022, tm_mon=11, tm_mday=8, tm_hour=0, tm_min=36, tm_sec=27, tm_wday=1, tm_yday=312, tm_isdst=0)},\n",
       " {'title': 'COP27: Why South Africa will struggle to wean itself off coal',\n",
       "  'title_detail': {'type': 'text/plain',\n",
       "   'language': None,\n",
       "   'base': 'http://feeds.bbci.co.uk/news/world/rss.xml',\n",
       "   'value': 'COP27: Why South Africa will struggle to wean itself off coal'},\n",
       "  'summary': \"Coal provides most of South Africa's energy but its main concern is boosting supply, not going green.\",\n",
       "  'summary_detail': {'type': 'text/html',\n",
       "   'language': None,\n",
       "   'base': 'http://feeds.bbci.co.uk/news/world/rss.xml',\n",
       "   'value': \"Coal provides most of South Africa's energy but its main concern is boosting supply, not going green.\"},\n",
       "  'links': [{'rel': 'alternate',\n",
       "    'type': 'text/html',\n",
       "    'href': 'https://www.bbc.co.uk/news/world-africa-63513278?at_medium=RSS&at_campaign=KARANGA'}],\n",
       "  'link': 'https://www.bbc.co.uk/news/world-africa-63513278?at_medium=RSS&at_campaign=KARANGA',\n",
       "  'id': 'https://www.bbc.co.uk/news/world-africa-63513278',\n",
       "  'guidislink': False,\n",
       "  'published': 'Tue, 08 Nov 2022 00:29:36 GMT',\n",
       "  'published_parsed': time.struct_time(tm_year=2022, tm_mon=11, tm_mday=8, tm_hour=0, tm_min=29, tm_sec=36, tm_wday=1, tm_yday=312, tm_isdst=0)},\n",
       " {'title': \"Ukraine war: US confirms 'communications' with Kremlin\",\n",
       "  'title_detail': {'type': 'text/plain',\n",
       "   'language': None,\n",
       "   'base': 'http://feeds.bbci.co.uk/news/world/rss.xml',\n",
       "   'value': \"Ukraine war: US confirms 'communications' with Kremlin\"},\n",
       "  'summary': 'Jake Sullivan reportedly held talks with Kremlin aides to guard against nuclear escalation in Ukraine.',\n",
       "  'summary_detail': {'type': 'text/html',\n",
       "   'language': None,\n",
       "   'base': 'http://feeds.bbci.co.uk/news/world/rss.xml',\n",
       "   'value': 'Jake Sullivan reportedly held talks with Kremlin aides to guard against nuclear escalation in Ukraine.'},\n",
       "  'links': [{'rel': 'alternate',\n",
       "    'type': 'text/html',\n",
       "    'href': 'https://www.bbc.co.uk/news/world-us-canada-63551133?at_medium=RSS&at_campaign=KARANGA'}],\n",
       "  'link': 'https://www.bbc.co.uk/news/world-us-canada-63551133?at_medium=RSS&at_campaign=KARANGA',\n",
       "  'id': 'https://www.bbc.co.uk/news/world-us-canada-63551133',\n",
       "  'guidislink': False,\n",
       "  'published': 'Tue, 08 Nov 2022 00:14:19 GMT',\n",
       "  'published_parsed': time.struct_time(tm_year=2022, tm_mon=11, tm_mday=8, tm_hour=0, tm_min=14, tm_sec=19, tm_wday=1, tm_yday=312, tm_isdst=0)},\n",
       " {'title': 'The big moments to watch for on US election night',\n",
       "  'title_detail': {'type': 'text/plain',\n",
       "   'language': None,\n",
       "   'base': 'http://feeds.bbci.co.uk/news/world/rss.xml',\n",
       "   'value': 'The big moments to watch for on US election night'},\n",
       "  'summary': 'As America prepares to go to the polls, we take you through how the drama might unfold on the night',\n",
       "  'summary_detail': {'type': 'text/html',\n",
       "   'language': None,\n",
       "   'base': 'http://feeds.bbci.co.uk/news/world/rss.xml',\n",
       "   'value': 'As America prepares to go to the polls, we take you through how the drama might unfold on the night'},\n",
       "  'links': [{'rel': 'alternate',\n",
       "    'type': 'text/html',\n",
       "    'href': 'https://www.bbc.co.uk/news/world-us-canada-63402244?at_medium=RSS&at_campaign=KARANGA'}],\n",
       "  'link': 'https://www.bbc.co.uk/news/world-us-canada-63402244?at_medium=RSS&at_campaign=KARANGA',\n",
       "  'id': 'https://www.bbc.co.uk/news/world-us-canada-63402244',\n",
       "  'guidislink': False,\n",
       "  'published': 'Tue, 08 Nov 2022 00:04:40 GMT',\n",
       "  'published_parsed': time.struct_time(tm_year=2022, tm_mon=11, tm_mday=8, tm_hour=0, tm_min=4, tm_sec=40, tm_wday=1, tm_yday=312, tm_isdst=0)},\n",
       " {'title': \"COP27: 'We'd never seen this much water' - Pakistan flood survivors\",\n",
       "  'title_detail': {'type': 'text/plain',\n",
       "   'language': None,\n",
       "   'base': 'http://feeds.bbci.co.uk/news/world/rss.xml',\n",
       "   'value': \"COP27: 'We'd never seen this much water' - Pakistan flood survivors\"},\n",
       "  'summary': 'At COP27, Pakistan calls for help after floods linked to climate change left millions homeless.',\n",
       "  'summary_detail': {'type': 'text/html',\n",
       "   'language': None,\n",
       "   'base': 'http://feeds.bbci.co.uk/news/world/rss.xml',\n",
       "   'value': 'At COP27, Pakistan calls for help after floods linked to climate change left millions homeless.'},\n",
       "  'links': [{'rel': 'alternate',\n",
       "    'type': 'text/html',\n",
       "    'href': 'https://www.bbc.co.uk/news/world-asia-63218139?at_medium=RSS&at_campaign=KARANGA'}],\n",
       "  'link': 'https://www.bbc.co.uk/news/world-asia-63218139?at_medium=RSS&at_campaign=KARANGA',\n",
       "  'id': 'https://www.bbc.co.uk/news/world-asia-63218139',\n",
       "  'guidislink': False,\n",
       "  'published': 'Mon, 07 Nov 2022 23:40:36 GMT',\n",
       "  'published_parsed': time.struct_time(tm_year=2022, tm_mon=11, tm_mday=7, tm_hour=23, tm_min=40, tm_sec=36, tm_wday=0, tm_yday=311, tm_isdst=0)},\n",
       " {'title': 'The case of Nigerian atheist Mubarak Bala convicted of blasphemy',\n",
       "  'title_detail': {'type': 'text/plain',\n",
       "   'language': None,\n",
       "   'base': 'http://feeds.bbci.co.uk/news/world/rss.xml',\n",
       "   'value': 'The case of Nigerian atheist Mubarak Bala convicted of blasphemy'},\n",
       "  'summary': \"Mubarak Bala's conviction on charges related to blasphemy has sent shockwaves throughout Nigeria.\",\n",
       "  'summary_detail': {'type': 'text/html',\n",
       "   'language': None,\n",
       "   'base': 'http://feeds.bbci.co.uk/news/world/rss.xml',\n",
       "   'value': \"Mubarak Bala's conviction on charges related to blasphemy has sent shockwaves throughout Nigeria.\"},\n",
       "  'links': [{'rel': 'alternate',\n",
       "    'type': 'text/html',\n",
       "    'href': 'https://www.bbc.co.uk/news/world-africa-63496455?at_medium=RSS&at_campaign=KARANGA'}],\n",
       "  'link': 'https://www.bbc.co.uk/news/world-africa-63496455?at_medium=RSS&at_campaign=KARANGA',\n",
       "  'id': 'https://www.bbc.co.uk/news/world-africa-63496455',\n",
       "  'guidislink': False,\n",
       "  'published': 'Mon, 07 Nov 2022 23:39:45 GMT',\n",
       "  'published_parsed': time.struct_time(tm_year=2022, tm_mon=11, tm_mday=7, tm_hour=23, tm_min=39, tm_sec=45, tm_wday=0, tm_yday=311, tm_isdst=0)},\n",
       " {'title': \"Sriram Krishnan: The Indian-American 'helping' Elon Musk run Twitter\",\n",
       "  'title_detail': {'type': 'text/plain',\n",
       "   'language': None,\n",
       "   'base': 'http://feeds.bbci.co.uk/news/world/rss.xml',\n",
       "   'value': \"Sriram Krishnan: The Indian-American 'helping' Elon Musk run Twitter\"},\n",
       "  'summary': 'Who is Sriram Krishnan, the India-born tech expert who is reportedly in Elon Musk\\'s \"inner circle\"?',\n",
       "  'summary_detail': {'type': 'text/html',\n",
       "   'language': None,\n",
       "   'base': 'http://feeds.bbci.co.uk/news/world/rss.xml',\n",
       "   'value': 'Who is Sriram Krishnan, the India-born tech expert who is reportedly in Elon Musk\\'s \"inner circle\"?'},\n",
       "  'links': [{'rel': 'alternate',\n",
       "    'type': 'text/html',\n",
       "    'href': 'https://www.bbc.co.uk/news/world-asia-india-63481873?at_medium=RSS&at_campaign=KARANGA'}],\n",
       "  'link': 'https://www.bbc.co.uk/news/world-asia-india-63481873?at_medium=RSS&at_campaign=KARANGA',\n",
       "  'id': 'https://www.bbc.co.uk/news/world-asia-india-63481873',\n",
       "  'guidislink': False,\n",
       "  'published': 'Mon, 07 Nov 2022 23:32:25 GMT',\n",
       "  'published_parsed': time.struct_time(tm_year=2022, tm_mon=11, tm_mday=7, tm_hour=23, tm_min=32, tm_sec=25, tm_wday=0, tm_yday=311, tm_isdst=0)},\n",
       " {'title': \"Alaa Abdel Fattah: British-Egyptian activist's family pin hopes on PM\",\n",
       "  'title_detail': {'type': 'text/plain',\n",
       "   'language': None,\n",
       "   'base': 'http://feeds.bbci.co.uk/news/world/rss.xml',\n",
       "   'value': \"Alaa Abdel Fattah: British-Egyptian activist's family pin hopes on PM\"},\n",
       "  'summary': 'Alaa Abdel Fattah\\'s sister says she \"hopes and trusts\" Rishi Sunak will secure his release in Egypt.',\n",
       "  'summary_detail': {'type': 'text/html',\n",
       "   'language': None,\n",
       "   'base': 'http://feeds.bbci.co.uk/news/world/rss.xml',\n",
       "   'value': 'Alaa Abdel Fattah\\'s sister says she \"hopes and trusts\" Rishi Sunak will secure his release in Egypt.'},\n",
       "  'links': [{'rel': 'alternate',\n",
       "    'type': 'text/html',\n",
       "    'href': 'https://www.bbc.co.uk/news/world-middle-east-63547843?at_medium=RSS&at_campaign=KARANGA'}],\n",
       "  'link': 'https://www.bbc.co.uk/news/world-middle-east-63547843?at_medium=RSS&at_campaign=KARANGA',\n",
       "  'id': 'https://www.bbc.co.uk/news/world-middle-east-63547843',\n",
       "  'guidislink': False,\n",
       "  'published': 'Mon, 07 Nov 2022 18:57:22 GMT',\n",
       "  'published_parsed': time.struct_time(tm_year=2022, tm_mon=11, tm_mday=7, tm_hour=18, tm_min=57, tm_sec=22, tm_wday=0, tm_yday=311, tm_isdst=0)},\n",
       " {'title': \"'Help us' heard from migrant rescue boat waiting to dock in Italy\",\n",
       "  'title_detail': {'type': 'text/plain',\n",
       "   'language': None,\n",
       "   'base': 'http://feeds.bbci.co.uk/news/world/rss.xml',\n",
       "   'value': \"'Help us' heard from migrant rescue boat waiting to dock in Italy\"},\n",
       "  'summary': 'People could be heard chanting from a ship as it sits in a Sicilian dock.',\n",
       "  'summary_detail': {'type': 'text/html',\n",
       "   'language': None,\n",
       "   'base': 'http://feeds.bbci.co.uk/news/world/rss.xml',\n",
       "   'value': 'People could be heard chanting from a ship as it sits in a Sicilian dock.'},\n",
       "  'links': [{'rel': 'alternate',\n",
       "    'type': 'text/html',\n",
       "    'href': 'https://www.bbc.co.uk/news/world-europe-63549958?at_medium=RSS&at_campaign=KARANGA'}],\n",
       "  'link': 'https://www.bbc.co.uk/news/world-europe-63549958?at_medium=RSS&at_campaign=KARANGA',\n",
       "  'id': 'https://www.bbc.co.uk/news/world-europe-63549958',\n",
       "  'guidislink': False,\n",
       "  'published': 'Mon, 07 Nov 2022 18:42:14 GMT',\n",
       "  'published_parsed': time.struct_time(tm_year=2022, tm_mon=11, tm_mday=7, tm_hour=18, tm_min=42, tm_sec=14, tm_wday=0, tm_yday=311, tm_isdst=0)},\n",
       " {'title': 'Cardinal Ricard among 11 French bishops accused of abuse',\n",
       "  'title_detail': {'type': 'text/plain',\n",
       "   'language': None,\n",
       "   'base': 'http://feeds.bbci.co.uk/news/world/rss.xml',\n",
       "   'value': 'Cardinal Ricard among 11 French bishops accused of abuse'},\n",
       "  'summary': 'Jean-Pierre Ricard says he abused a 14-year-old girl when he was a parish priest in the 1980s.',\n",
       "  'summary_detail': {'type': 'text/html',\n",
       "   'language': None,\n",
       "   'base': 'http://feeds.bbci.co.uk/news/world/rss.xml',\n",
       "   'value': 'Jean-Pierre Ricard says he abused a 14-year-old girl when he was a parish priest in the 1980s.'},\n",
       "  'links': [{'rel': 'alternate',\n",
       "    'type': 'text/html',\n",
       "    'href': 'https://www.bbc.co.uk/news/world-europe-63545586?at_medium=RSS&at_campaign=KARANGA'}],\n",
       "  'link': 'https://www.bbc.co.uk/news/world-europe-63545586?at_medium=RSS&at_campaign=KARANGA',\n",
       "  'id': 'https://www.bbc.co.uk/news/world-europe-63545586',\n",
       "  'guidislink': False,\n",
       "  'published': 'Mon, 07 Nov 2022 17:08:05 GMT',\n",
       "  'published_parsed': time.struct_time(tm_year=2022, tm_mon=11, tm_mday=7, tm_hour=17, tm_min=8, tm_sec=5, tm_wday=0, tm_yday=311, tm_isdst=0)},\n",
       " {'title': \"COP27 shines spotlight on Egypt's political prisoners\",\n",
       "  'title_detail': {'type': 'text/plain',\n",
       "   'language': None,\n",
       "   'base': 'http://feeds.bbci.co.uk/news/world/rss.xml',\n",
       "   'value': \"COP27 shines spotlight on Egypt's political prisoners\"},\n",
       "  'summary': 'Human rights activists are highlighting the plight of Alaa Abdel Fattah and thousands of others.',\n",
       "  'summary_detail': {'type': 'text/html',\n",
       "   'language': None,\n",
       "   'base': 'http://feeds.bbci.co.uk/news/world/rss.xml',\n",
       "   'value': 'Human rights activists are highlighting the plight of Alaa Abdel Fattah and thousands of others.'},\n",
       "  'links': [{'rel': 'alternate',\n",
       "    'type': 'text/html',\n",
       "    'href': 'https://www.bbc.co.uk/news/world-middle-east-63542472?at_medium=RSS&at_campaign=KARANGA'}],\n",
       "  'link': 'https://www.bbc.co.uk/news/world-middle-east-63542472?at_medium=RSS&at_campaign=KARANGA',\n",
       "  'id': 'https://www.bbc.co.uk/news/world-middle-east-63542472',\n",
       "  'guidislink': False,\n",
       "  'published': 'Mon, 07 Nov 2022 15:02:33 GMT',\n",
       "  'published_parsed': time.struct_time(tm_year=2022, tm_mon=11, tm_mday=7, tm_hour=15, tm_min=2, tm_sec=33, tm_wday=0, tm_yday=311, tm_isdst=0)},\n",
       " {'title': \"'There really is more to life than posting on Instagram'\",\n",
       "  'title_detail': {'type': 'text/plain',\n",
       "   'language': None,\n",
       "   'base': 'http://feeds.bbci.co.uk/news/world/rss.xml',\n",
       "   'value': \"'There really is more to life than posting on Instagram'\"},\n",
       "  'summary': 'A small but growing number of people are giving up the likes of Facebook, Twitter and Instagram.',\n",
       "  'summary_detail': {'type': 'text/html',\n",
       "   'language': None,\n",
       "   'base': 'http://feeds.bbci.co.uk/news/world/rss.xml',\n",
       "   'value': 'A small but growing number of people are giving up the likes of Facebook, Twitter and Instagram.'},\n",
       "  'links': [{'rel': 'alternate',\n",
       "    'type': 'text/html',\n",
       "    'href': 'https://www.bbc.co.uk/news/business-63482162?at_medium=RSS&at_campaign=KARANGA'}],\n",
       "  'link': 'https://www.bbc.co.uk/news/business-63482162?at_medium=RSS&at_campaign=KARANGA',\n",
       "  'id': 'https://www.bbc.co.uk/news/business-63482162',\n",
       "  'guidislink': False,\n",
       "  'published': 'Mon, 07 Nov 2022 14:59:05 GMT',\n",
       "  'published_parsed': time.struct_time(tm_year=2022, tm_mon=11, tm_mday=7, tm_hour=14, tm_min=59, tm_sec=5, tm_wday=0, tm_yday=311, tm_isdst=0)},\n",
       " {'title': 'Ukrainians dance in the dark to battle power cuts',\n",
       "  'title_detail': {'type': 'text/plain',\n",
       "   'language': None,\n",
       "   'base': 'http://feeds.bbci.co.uk/news/world/rss.xml',\n",
       "   'value': 'Ukrainians dance in the dark to battle power cuts'},\n",
       "  'summary': \"Kremenchuk is among the worst-hit cities and Ukrainians say Russia's tactics only make them angrier.\",\n",
       "  'summary_detail': {'type': 'text/html',\n",
       "   'language': None,\n",
       "   'base': 'http://feeds.bbci.co.uk/news/world/rss.xml',\n",
       "   'value': \"Kremenchuk is among the worst-hit cities and Ukrainians say Russia's tactics only make them angrier.\"},\n",
       "  'links': [{'rel': 'alternate',\n",
       "    'type': 'text/html',\n",
       "    'href': 'https://www.bbc.co.uk/news/world-europe-63539470?at_medium=RSS&at_campaign=KARANGA'}],\n",
       "  'link': 'https://www.bbc.co.uk/news/world-europe-63539470?at_medium=RSS&at_campaign=KARANGA',\n",
       "  'id': 'https://www.bbc.co.uk/news/world-europe-63539470',\n",
       "  'guidislink': False,\n",
       "  'published': 'Mon, 07 Nov 2022 12:20:22 GMT',\n",
       "  'published_parsed': time.struct_time(tm_year=2022, tm_mon=11, tm_mday=7, tm_hour=12, tm_min=20, tm_sec=22, tm_wday=0, tm_yday=311, tm_isdst=0)},\n",
       " {'title': 'The agony of not knowing, as Mariupol mass burial sites grow',\n",
       "  'title_detail': {'type': 'text/plain',\n",
       "   'language': None,\n",
       "   'base': 'http://feeds.bbci.co.uk/news/world/rss.xml',\n",
       "   'value': 'The agony of not knowing, as Mariupol mass burial sites grow'},\n",
       "  'summary': 'Residents described the heartache of not knowing where their family members are buried.',\n",
       "  'summary_detail': {'type': 'text/html',\n",
       "   'language': None,\n",
       "   'base': 'http://feeds.bbci.co.uk/news/world/rss.xml',\n",
       "   'value': 'Residents described the heartache of not knowing where their family members are buried.'},\n",
       "  'links': [{'rel': 'alternate',\n",
       "    'type': 'text/html',\n",
       "    'href': 'https://www.bbc.co.uk/news/world-europe-63536564?at_medium=RSS&at_campaign=KARANGA'}],\n",
       "  'link': 'https://www.bbc.co.uk/news/world-europe-63536564?at_medium=RSS&at_campaign=KARANGA',\n",
       "  'id': 'https://www.bbc.co.uk/news/world-europe-63536564',\n",
       "  'guidislink': False,\n",
       "  'published': 'Mon, 07 Nov 2022 01:32:39 GMT',\n",
       "  'published_parsed': time.struct_time(tm_year=2022, tm_mon=11, tm_mday=7, tm_hour=1, tm_min=32, tm_sec=39, tm_wday=0, tm_yday=311, tm_isdst=0)},\n",
       " {'title': 'Tanzania Precision Air crash: Rescuers search Lake Victoria site',\n",
       "  'title_detail': {'type': 'text/plain',\n",
       "   'language': None,\n",
       "   'base': 'http://feeds.bbci.co.uk/news/world/rss.xml',\n",
       "   'value': 'Tanzania Precision Air crash: Rescuers search Lake Victoria site'},\n",
       "  'summary': 'The passenger plane is almost completely submerged after it landed in Lake Victoria.',\n",
       "  'summary_detail': {'type': 'text/html',\n",
       "   'language': None,\n",
       "   'base': 'http://feeds.bbci.co.uk/news/world/rss.xml',\n",
       "   'value': 'The passenger plane is almost completely submerged after it landed in Lake Victoria.'},\n",
       "  'links': [{'rel': 'alternate',\n",
       "    'type': 'text/html',\n",
       "    'href': 'https://www.bbc.co.uk/news/world-africa-63534266?at_medium=RSS&at_campaign=KARANGA'}],\n",
       "  'link': 'https://www.bbc.co.uk/news/world-africa-63534266?at_medium=RSS&at_campaign=KARANGA',\n",
       "  'id': 'https://www.bbc.co.uk/news/world-africa-63534266',\n",
       "  'guidislink': False,\n",
       "  'published': 'Sun, 06 Nov 2022 12:13:07 GMT',\n",
       "  'published_parsed': time.struct_time(tm_year=2022, tm_mon=11, tm_mday=6, tm_hour=12, tm_min=13, tm_sec=7, tm_wday=6, tm_yday=310, tm_isdst=0)},\n",
       " {'title': \"Climate change: Expert says just saying no to fossil fuel doesn't work\",\n",
       "  'title_detail': {'type': 'text/plain',\n",
       "   'language': None,\n",
       "   'base': 'http://feeds.bbci.co.uk/news/world/rss.xml',\n",
       "   'value': \"Climate change: Expert says just saying no to fossil fuel doesn't work\"},\n",
       "  'summary': 'Prof Myles Allen uses a lump of coal to explain how burning fossil fuels results in global warming.',\n",
       "  'summary_detail': {'type': 'text/html',\n",
       "   'language': None,\n",
       "   'base': 'http://feeds.bbci.co.uk/news/world/rss.xml',\n",
       "   'value': 'Prof Myles Allen uses a lump of coal to explain how burning fossil fuels results in global warming.'},\n",
       "  'links': [{'rel': 'alternate',\n",
       "    'type': 'text/html',\n",
       "    'href': 'https://www.bbc.co.uk/news/uk-politics-63534039?at_medium=RSS&at_campaign=KARANGA'}],\n",
       "  'link': 'https://www.bbc.co.uk/news/uk-politics-63534039?at_medium=RSS&at_campaign=KARANGA',\n",
       "  'id': 'https://www.bbc.co.uk/news/uk-politics-63534039',\n",
       "  'guidislink': False,\n",
       "  'published': 'Sun, 06 Nov 2022 11:19:45 GMT',\n",
       "  'published_parsed': time.struct_time(tm_year=2022, tm_mon=11, tm_mday=6, tm_hour=11, tm_min=19, tm_sec=45, tm_wday=6, tm_yday=310, tm_isdst=0)},\n",
       " {'title': 'New York fire: Moment woman rescued by firefighters with a rope',\n",
       "  'title_detail': {'type': 'text/plain',\n",
       "   'language': None,\n",
       "   'base': 'http://feeds.bbci.co.uk/news/world/rss.xml',\n",
       "   'value': 'New York fire: Moment woman rescued by firefighters with a rope'},\n",
       "  'summary': 'A woman is pulled from an apartment block in New York after a blaze left at least 38 people injured.',\n",
       "  'summary_detail': {'type': 'text/html',\n",
       "   'language': None,\n",
       "   'base': 'http://feeds.bbci.co.uk/news/world/rss.xml',\n",
       "   'value': 'A woman is pulled from an apartment block in New York after a blaze left at least 38 people injured.'},\n",
       "  'links': [{'rel': 'alternate',\n",
       "    'type': 'text/html',\n",
       "    'href': 'https://www.bbc.co.uk/news/world-us-canada-63532906?at_medium=RSS&at_campaign=KARANGA'}],\n",
       "  'link': 'https://www.bbc.co.uk/news/world-us-canada-63532906?at_medium=RSS&at_campaign=KARANGA',\n",
       "  'id': 'https://www.bbc.co.uk/news/world-us-canada-63532906',\n",
       "  'guidislink': False,\n",
       "  'published': 'Sun, 06 Nov 2022 08:44:03 GMT',\n",
       "  'published_parsed': time.struct_time(tm_year=2022, tm_mon=11, tm_mday=6, tm_hour=8, tm_min=44, tm_sec=3, tm_wday=6, tm_yday=310, tm_isdst=0)}]"
      ]
     },
     "execution_count": 20,
     "metadata": {},
     "output_type": "execute_result"
    }
   ],
   "source": [
    "sorted(d[\"entries\"], key=lambda item: item['published_parsed'], reverse=True)"
   ]
  },
  {
   "cell_type": "markdown",
   "id": "relative-jonathan",
   "metadata": {},
   "source": [
    "We can now get the html content of a given publication."
   ]
  },
  {
   "cell_type": "code",
   "execution_count": 24,
   "id": "controversial-reply",
   "metadata": {},
   "outputs": [],
   "source": [
    "url = d[\"entries\"][0][\"link\"]\n",
    "\n",
    "r = requests.get(url)\n",
    "html = r.text"
   ]
  },
  {
   "cell_type": "code",
   "execution_count": 25,
   "id": "differential-session",
   "metadata": {},
   "outputs": [],
   "source": [
    "soup = BeautifulSoup(html, 'html.parser')"
   ]
  },
  {
   "cell_type": "code",
   "execution_count": 35,
   "id": "muslim-postage",
   "metadata": {},
   "outputs": [
    {
     "data": {
      "text/plain": [
       "'Iran International: TV channel says Iran threatened UK-based journalists - BBC News'"
      ]
     },
     "execution_count": 35,
     "metadata": {},
     "output_type": "execute_result"
    }
   ],
   "source": [
    "# title\n",
    "\n",
    "soup.title.text"
   ]
  },
  {
   "cell_type": "markdown",
   "id": "polished-foster",
   "metadata": {},
   "source": [
    "The available tags are:"
   ]
  },
  {
   "cell_type": "code",
   "execution_count": 124,
   "id": "radio-picture",
   "metadata": {},
   "outputs": [],
   "source": [
    "tags = set()\n",
    "\n",
    "for tag in soup.find_all():\n",
    "    tags.add(tag.name)"
   ]
  },
  {
   "cell_type": "code",
   "execution_count": 125,
   "id": "defined-realtor",
   "metadata": {},
   "outputs": [
    {
     "data": {
      "text/plain": [
       "{'a',\n",
       " 'article',\n",
       " 'aside',\n",
       " 'b',\n",
       " 'body',\n",
       " 'button',\n",
       " 'circle',\n",
       " 'div',\n",
       " 'figcaption',\n",
       " 'figure',\n",
       " 'footer',\n",
       " 'g',\n",
       " 'h1',\n",
       " 'h2',\n",
       " 'head',\n",
       " 'header',\n",
       " 'html',\n",
       " 'img',\n",
       " 'li',\n",
       " 'link',\n",
       " 'main',\n",
       " 'meta',\n",
       " 'nav',\n",
       " 'noscript',\n",
       " 'ol',\n",
       " 'p',\n",
       " 'path',\n",
       " 'picture',\n",
       " 'script',\n",
       " 'section',\n",
       " 'source',\n",
       " 'span',\n",
       " 'style',\n",
       " 'svg',\n",
       " 'time',\n",
       " 'title',\n",
       " 'ul'}"
      ]
     },
     "execution_count": 125,
     "metadata": {},
     "output_type": "execute_result"
    }
   ],
   "source": [
    "tags"
   ]
  },
  {
   "cell_type": "markdown",
   "id": "stunning-investing",
   "metadata": {},
   "source": [
    "We can use the article tag to have access to the article text only."
   ]
  },
  {
   "cell_type": "code",
   "execution_count": 127,
   "id": "tender-bleeding",
   "metadata": {},
   "outputs": [
    {
     "data": {
      "text/plain": [
       "'Iran International: TV channel says Iran threatened UK-based journalistsPublished3 hours agoSharecloseShare pageCopy linkAbout sharingRelated Topics2022 Iran protestsImage source, Iran InternationalBy David GrittenBBC NewsTwo British-Iranian journalists for the UK-based Persian-language TV channel Iran International have been warned of a possible risk to their lives, a UK law enforcement source has confirmed.Parent company Volant Media said the Metropolitan Police had notified the pair of a recent increase in \"credible\" threats from Iranian security forces. It denounced the \"escalation of a state-sponsored campaign to intimidate Iranian journalists working abroad\".Iranian authorities have not commented.However, they announced sanctions against Iran International and BBC News Persian last month, accusing them of \"incitement of riots\" and \"support of terrorism\" over their coverage of the anti-government protests that have engulfed the country over the past two months.The two UK-based channels are already banned from Iran, but a press freedom watchdog says they are among the main sources of news and information in a country where independent media and journalists are constantly persecuted. This video can not be playedTo play this video you need to enable JavaScript in your browser.Media caption, How Iran state TV tries to control the story of the protestsVolant Media said in a statement that it was \"shocked and deeply concerned\" by the threats its journalists had received, which it attributed to Iran\\'s Islamic Revolution Guard Corps (IRGC), a powerful military force with close ties to the Supreme Leader, Ayatollah Ali Khamenei. \"The Metropolitan Police have now formally notified both journalists that these threats represent an imminent, credible and significant risk to their lives and those of their families. Other members of our staff have also been informed directly by the Metropolitan Police of separate threats.\"It added: \"These lethal threats to British citizens on British soil come after several weeks of warnings from the IRGC and Iranian government about the work of a free and uncensored [Persian]-language media working in London.\"Volant Media warned that the IRGC \"cannot be allowed to export their pernicious media crackdown to the UK\" and called on the British government to \"join us in condemning these horrific threats and continue to highlight the importance of media freedom\".In a statement to the BBC, the Metropolitan Police said: \"We do not comment on matters of protective security in relation to any specific individuals.\"BBC home affairs correspondent Daniel Sandford reports that the UK law enforcement source would not discuss the suggestion in the Daily Telegraph that a \"hostile Iranian surveillance team\" was spotted outside the homes and offices of the journalists.Last year, United Nations experts expressed their \"grave concern over the continuation of reported harassment and intimidation of the BBC News Persian staff and their family members, which appears to be aimed at preventing them from continuing their journalistic activities\". They set out the pattern of harassment that BBC journalists have suffered over the past decade, including \"the systematic attacks, including harassment, asset freezing, serious threats, and defamation campaigns implemented by the authorities against BBC News Persian journalists\". The UN experts also raised concern about the surveillance of BBC journalists and the harassment of their sources in Iran, the interrogation of journalists\\' family members, and the pressure placed on journalists \"to leave their jobs\" - all of which they said might have a \"chilling effect\" on journalism. Iran\\'s response to the UN experts accused the BBC journalists of aiming to \"overthrow the Islamic Republic\" - a claim the BBC insisted was false.US prosecutors also announced last year that four Iranian intelligence officials had been charged with plotting to kidnap a New York-based journalist critical of Iran. The indictment did not name the target, but Masih Alinejad, an Iranian-American author and activist, said it was her.Iran\\'s government said the allegations were \"ridiculous and baseless\".More on this storyBBC accuses Iran of escalating harassment of staff10 FebruaryBBC appeals to UN over Iranian harassment25 June 2021How Iran state TV tries to control story of protests. Video, 00:02:29How Iran state TV tries to control story of protests17 October2:29UN experts demand Iran ceases harassing BBC staff11 March 2020UN urges Iran to stop harassing BBC staff25 October 2017Iran freezes assets of BBC Persian staff15 August 2017Related TopicsPress freedomMediaFreedom of expressionIran2022 Iran protests'"
      ]
     },
     "execution_count": 127,
     "metadata": {},
     "output_type": "execute_result"
    }
   ],
   "source": [
    "# article\n",
    "\n",
    "soup.article.text"
   ]
  },
  {
   "cell_type": "code",
   "execution_count": 164,
   "id": "vanilla-representation",
   "metadata": {},
   "outputs": [
    {
     "data": {
      "text/plain": [
       "[<p class=\"ssrcss-1q0x1qg-Paragraph eq5iqo00\"><b class=\"ssrcss-hmf8ql-BoldText e5tfeyi3\">Two British-Iranian journalists for the UK-based Persian-language TV channel Iran International have been warned of a possible risk to their lives, a UK law enforcement source has confirmed.</b></p>,\n",
       " <p class=\"ssrcss-1q0x1qg-Paragraph eq5iqo00\">Parent company Volant Media said the Metropolitan Police had notified the pair of a recent increase in \"credible\" threats from Iranian security forces. </p>,\n",
       " <p class=\"ssrcss-1q0x1qg-Paragraph eq5iqo00\">It denounced the \"escalation of a state-sponsored campaign to intimidate Iranian journalists working abroad\".</p>,\n",
       " <p class=\"ssrcss-1q0x1qg-Paragraph eq5iqo00\">Iranian authorities have not commented.</p>,\n",
       " <p class=\"ssrcss-1q0x1qg-Paragraph eq5iqo00\">However, they announced sanctions against Iran International and BBC News Persian last month, accusing them of \"incitement of riots\" and \"support of terrorism\" over their coverage of the anti-government protests that have engulfed the country over the past two months.</p>,\n",
       " <p class=\"ssrcss-1q0x1qg-Paragraph eq5iqo00\">The two UK-based channels are already banned from Iran, but a press freedom watchdog says they are among the main sources of news and information in a country where independent media and journalists are constantly persecuted. </p>,\n",
       " <p class=\"ssrcss-1q0x1qg-Paragraph eq5iqo00\">This video can not be played</p>,\n",
       " <p class=\"ssrcss-1q0x1qg-Paragraph eq5iqo00\">How Iran state TV tries to control the story of the protests</p>,\n",
       " <p class=\"ssrcss-1q0x1qg-Paragraph eq5iqo00\"><a class=\"ssrcss-k17ofw-InlineLink e1no5rhv0\" href=\"https://www.iranintl.com/en/202211076450\">Volant Media said in a statement that it was \"shocked and deeply concerned\" by the threats its journalists had received</a>, which it attributed to Iran's Islamic Revolution Guard Corps (IRGC), a powerful military force with close ties to the Supreme Leader, Ayatollah Ali Khamenei. </p>,\n",
       " <p class=\"ssrcss-1q0x1qg-Paragraph eq5iqo00\">\"The Metropolitan Police have now formally notified both journalists that these threats represent an imminent, credible and significant risk to their lives and those of their families. Other members of our staff have also been informed directly by the Metropolitan Police of separate threats.\"</p>,\n",
       " <p class=\"ssrcss-1q0x1qg-Paragraph eq5iqo00\">It added: \"These lethal threats to British citizens on British soil come after several weeks of warnings from the IRGC and Iranian government about the work of a free and uncensored [Persian]-language media working in London.\"</p>,\n",
       " <p class=\"ssrcss-1q0x1qg-Paragraph eq5iqo00\">Volant Media warned that the IRGC \"cannot be allowed to export their pernicious media crackdown to the UK\" and called on the British government to \"join us in condemning these horrific threats and continue to highlight the importance of media freedom\".</p>,\n",
       " <p class=\"ssrcss-1q0x1qg-Paragraph eq5iqo00\">In a statement to the BBC, the Metropolitan Police said: \"We do not comment on matters of protective security in relation to any specific individuals.\"</p>,\n",
       " <p class=\"ssrcss-1q0x1qg-Paragraph eq5iqo00\">BBC home affairs correspondent Daniel Sandford reports that the UK law enforcement source would not discuss the suggestion in the Daily Telegraph that a \"hostile Iranian surveillance team\" was spotted outside the homes and offices of the journalists.</p>,\n",
       " <p class=\"ssrcss-1q0x1qg-Paragraph eq5iqo00\"><a class=\"ssrcss-k17ofw-InlineLink e1no5rhv0\" href=\"https://www.bbc.com/mediacentre/2022/un-raises-grave-concern-with-iran-over-harassment-of-bbc-news-persian-staff\">Last year, United Nations experts expressed their \"grave concern over the continuation of reported harassment and intimidation of the BBC News Persian staff and their family members</a>, which appears to be aimed at preventing them from continuing their journalistic activities\". </p>,\n",
       " <p class=\"ssrcss-1q0x1qg-Paragraph eq5iqo00\">They set out the pattern of harassment that BBC journalists have suffered over the past decade, including \"the systematic attacks, including harassment, asset freezing, serious threats, and defamation campaigns implemented by the authorities against BBC News Persian journalists\". </p>,\n",
       " <p class=\"ssrcss-1q0x1qg-Paragraph eq5iqo00\">The UN experts also raised concern about the surveillance of BBC journalists and the harassment of their sources in Iran, the interrogation of journalists' family members, and the pressure placed on journalists \"to leave their jobs\" - all of which they said might have a \"chilling effect\" on journalism. </p>,\n",
       " <p class=\"ssrcss-1q0x1qg-Paragraph eq5iqo00\">Iran's response to the UN experts accused the BBC journalists of aiming to \"overthrow the Islamic Republic\" - a claim the BBC insisted was false.</p>,\n",
       " <p class=\"ssrcss-1q0x1qg-Paragraph eq5iqo00\"><a class=\"ssrcss-k17ofw-InlineLink e1no5rhv0\" href=\"https://www.bbc.co.uk/news/world-us-canada-57830677\">US prosecutors also announced last year that four Iranian intelligence officials had been charged with plotting to kidnap a New York-based journalist critical of Iran</a>. The indictment did not name the target, but Masih Alinejad, an Iranian-American author and activist, said it was her.</p>,\n",
       " <p class=\"ssrcss-1q0x1qg-Paragraph eq5iqo00\">Iran's government said the allegations were \"ridiculous and baseless\".</p>,\n",
       " <p class=\"ssrcss-17zglt8-PromoHeadline e1f5wbog4\"><span aria-hidden=\"false\">BBC accuses Iran of escalating harassment of staff</span></p>,\n",
       " <p class=\"ssrcss-17zglt8-PromoHeadline e1f5wbog4\"><span aria-hidden=\"false\">BBC appeals to UN over Iranian harassment</span></p>,\n",
       " <p class=\"ssrcss-17zglt8-PromoHeadline e1f5wbog4\"><span class=\"visually-hidden ssrcss-1f39n02-VisuallyHidden e1y6uwnp0\">How Iran state TV tries to control story of protests. Video, 00:02:29</span><span aria-hidden=\"true\">How Iran state TV tries to control story of protests</span></p>,\n",
       " <p class=\"ssrcss-17zglt8-PromoHeadline e1f5wbog4\"><span aria-hidden=\"false\">UN experts demand Iran ceases harassing BBC staff</span></p>,\n",
       " <p class=\"ssrcss-17zglt8-PromoHeadline e1f5wbog4\"><span aria-hidden=\"false\">UN urges Iran to stop harassing BBC staff</span></p>,\n",
       " <p class=\"ssrcss-17zglt8-PromoHeadline e1f5wbog4\"><span aria-hidden=\"false\">Iran freezes assets of BBC Persian staff</span></p>]"
      ]
     },
     "execution_count": 164,
     "metadata": {},
     "output_type": "execute_result"
    }
   ],
   "source": [
    "soup.article.find_all(\"p\")"
   ]
  },
  {
   "cell_type": "markdown",
   "id": "aggressive-analyst",
   "metadata": {},
   "source": [
    "The paragraphs of interest have a class attribute of `class=\"ssrcss-1q0x1qg-Paragraph eq5iqo00\"`."
   ]
  },
  {
   "cell_type": "code",
   "execution_count": 165,
   "id": "searching-equilibrium",
   "metadata": {},
   "outputs": [
    {
     "name": "stdout",
     "output_type": "stream",
     "text": [
      "Two British-Iranian journalists for the UK-based Persian-language TV channel Iran International have been warned of a possible risk to their lives, a UK law enforcement source has confirmed.\n",
      "Parent company Volant Media said the Metropolitan Police had notified the pair of a recent increase in \"credible\" threats from Iranian security forces. \n",
      "It denounced the \"escalation of a state-sponsored campaign to intimidate Iranian journalists working abroad\".\n",
      "Iranian authorities have not commented.\n",
      "However, they announced sanctions against Iran International and BBC News Persian last month, accusing them of \"incitement of riots\" and \"support of terrorism\" over their coverage of the anti-government protests that have engulfed the country over the past two months.\n",
      "The two UK-based channels are already banned from Iran, but a press freedom watchdog says they are among the main sources of news and information in a country where independent media and journalists are constantly persecuted. \n",
      "This video can not be played\n",
      "How Iran state TV tries to control the story of the protests\n",
      "Volant Media said in a statement that it was \"shocked and deeply concerned\" by the threats its journalists had received, which it attributed to Iran's Islamic Revolution Guard Corps (IRGC), a powerful military force with close ties to the Supreme Leader, Ayatollah Ali Khamenei. \n",
      "\"The Metropolitan Police have now formally notified both journalists that these threats represent an imminent, credible and significant risk to their lives and those of their families. Other members of our staff have also been informed directly by the Metropolitan Police of separate threats.\"\n",
      "It added: \"These lethal threats to British citizens on British soil come after several weeks of warnings from the IRGC and Iranian government about the work of a free and uncensored [Persian]-language media working in London.\"\n",
      "Volant Media warned that the IRGC \"cannot be allowed to export their pernicious media crackdown to the UK\" and called on the British government to \"join us in condemning these horrific threats and continue to highlight the importance of media freedom\".\n",
      "In a statement to the BBC, the Metropolitan Police said: \"We do not comment on matters of protective security in relation to any specific individuals.\"\n",
      "BBC home affairs correspondent Daniel Sandford reports that the UK law enforcement source would not discuss the suggestion in the Daily Telegraph that a \"hostile Iranian surveillance team\" was spotted outside the homes and offices of the journalists.\n",
      "Last year, United Nations experts expressed their \"grave concern over the continuation of reported harassment and intimidation of the BBC News Persian staff and their family members, which appears to be aimed at preventing them from continuing their journalistic activities\". \n",
      "They set out the pattern of harassment that BBC journalists have suffered over the past decade, including \"the systematic attacks, including harassment, asset freezing, serious threats, and defamation campaigns implemented by the authorities against BBC News Persian journalists\". \n",
      "The UN experts also raised concern about the surveillance of BBC journalists and the harassment of their sources in Iran, the interrogation of journalists' family members, and the pressure placed on journalists \"to leave their jobs\" - all of which they said might have a \"chilling effect\" on journalism. \n",
      "Iran's response to the UN experts accused the BBC journalists of aiming to \"overthrow the Islamic Republic\" - a claim the BBC insisted was false.\n",
      "US prosecutors also announced last year that four Iranian intelligence officials had been charged with plotting to kidnap a New York-based journalist critical of Iran. The indictment did not name the target, but Masih Alinejad, an Iranian-American author and activist, said it was her.\n",
      "Iran's government said the allegations were \"ridiculous and baseless\".\n"
     ]
    }
   ],
   "source": [
    "for x in soup.article.find_all(\"p\", class_=re.compile(\"Paragraph\")):\n",
    "    print(x.text)"
   ]
  },
  {
   "cell_type": "markdown",
   "id": "current-company",
   "metadata": {},
   "source": [
    "Defining the class to look for, we get only the article text itself.\n",
    "\n",
    "We can now look for a particular expression like \"Iran\"."
   ]
  },
  {
   "cell_type": "code",
   "execution_count": 185,
   "id": "fifth-avatar",
   "metadata": {},
   "outputs": [
    {
     "data": {
      "text/plain": [
       "[<p class=\"ssrcss-1q0x1qg-Paragraph eq5iqo00\"><b class=\"ssrcss-hmf8ql-BoldText e5tfeyi3\">Two British-Iranian journalists for the UK-based Persian-language TV channel Iran International have been warned of a possible risk to their lives, a UK law enforcement source has confirmed.</b></p>,\n",
       " <p class=\"ssrcss-1q0x1qg-Paragraph eq5iqo00\">However, they announced sanctions against Iran International and BBC News Persian last month, accusing them of \"incitement of riots\" and \"support of terrorism\" over their coverage of the anti-government protests that have engulfed the country over the past two months.</p>,\n",
       " <p class=\"ssrcss-1q0x1qg-Paragraph eq5iqo00\">The two UK-based channels are already banned from Iran, but a press freedom watchdog says they are among the main sources of news and information in a country where independent media and journalists are constantly persecuted. </p>,\n",
       " <p class=\"ssrcss-1q0x1qg-Paragraph eq5iqo00\">How Iran state TV tries to control the story of the protests</p>,\n",
       " <p class=\"ssrcss-1q0x1qg-Paragraph eq5iqo00\">The UN experts also raised concern about the surveillance of BBC journalists and the harassment of their sources in Iran, the interrogation of journalists' family members, and the pressure placed on journalists \"to leave their jobs\" - all of which they said might have a \"chilling effect\" on journalism. </p>,\n",
       " <p class=\"ssrcss-1q0x1qg-Paragraph eq5iqo00\">Iran's response to the UN experts accused the BBC journalists of aiming to \"overthrow the Islamic Republic\" - a claim the BBC insisted was false.</p>,\n",
       " <p class=\"ssrcss-1q0x1qg-Paragraph eq5iqo00\">Iran's government said the allegations were \"ridiculous and baseless\".</p>]"
      ]
     },
     "execution_count": 185,
     "metadata": {},
     "output_type": "execute_result"
    }
   ],
   "source": [
    "soup.article.find_all(\"p\", class_=re.compile(\"Paragraph\"), text=re.compile(\"\\\\bIran\\\\b\"))"
   ]
  },
  {
   "cell_type": "markdown",
   "id": "compound-sequence",
   "metadata": {},
   "source": [
    "However, we this method we do not retrieve the paragraphs where there are inline links."
   ]
  },
  {
   "cell_type": "code",
   "execution_count": 183,
   "id": "hybrid-grill",
   "metadata": {},
   "outputs": [
    {
     "data": {
      "text/plain": [
       "['Iran International: TV channel says Iran threatened UK-based journalists',\n",
       " '2022 Iran protests',\n",
       " 'Iran International',\n",
       " 'Two British-Iranian journalists for the UK-based Persian-language TV channel Iran International have been warned of a possible risk to their lives, a UK law enforcement source has confirmed.',\n",
       " 'However, they announced sanctions against Iran International and BBC News Persian last month, accusing them of \"incitement of riots\" and \"support of terrorism\" over their coverage of the anti-government protests that have engulfed the country over the past two months.',\n",
       " 'The two UK-based channels are already banned from Iran, but a press freedom watchdog says they are among the main sources of news and information in a country where independent media and journalists are constantly persecuted. ',\n",
       " 'How Iran state TV tries to control the story of the protests',\n",
       " \", which it attributed to Iran's Islamic Revolution Guard Corps (IRGC), a powerful military force with close ties to the Supreme Leader, Ayatollah Ali Khamenei. \",\n",
       " 'The UN experts also raised concern about the surveillance of BBC journalists and the harassment of their sources in Iran, the interrogation of journalists\\' family members, and the pressure placed on journalists \"to leave their jobs\" - all of which they said might have a \"chilling effect\" on journalism. ',\n",
       " 'Iran\\'s response to the UN experts accused the BBC journalists of aiming to \"overthrow the Islamic Republic\" - a claim the BBC insisted was false.',\n",
       " 'US prosecutors also announced last year that four Iranian intelligence officials had been charged with plotting to kidnap a New York-based journalist critical of Iran',\n",
       " 'Iran\\'s government said the allegations were \"ridiculous and baseless\".',\n",
       " 'BBC accuses Iran of escalating harassment of staff',\n",
       " 'How Iran state TV tries to control story of protests. Video, 00:02:29',\n",
       " 'How Iran state TV tries to control story of protests',\n",
       " 'UN experts demand Iran ceases harassing BBC staff',\n",
       " 'UN urges Iran to stop harassing BBC staff',\n",
       " 'Iran freezes assets of BBC Persian staff',\n",
       " 'Iran',\n",
       " '2022 Iran protests']"
      ]
     },
     "execution_count": 183,
     "metadata": {},
     "output_type": "execute_result"
    }
   ],
   "source": [
    "soup.article.find_all(text=re.compile(\"\\\\bIran\\\\b\"))"
   ]
  },
  {
   "cell_type": "markdown",
   "id": "printable-folder",
   "metadata": {},
   "source": [
    "Besides the additional hits at the beginning and end, we could not retrieve the following passages:"
   ]
  },
  {
   "cell_type": "code",
   "execution_count": 179,
   "id": "missing-diabetes",
   "metadata": {},
   "outputs": [
    {
     "data": {
      "text/plain": [
       "\", which it attributed to Iran's Islamic Revolution Guard Corps (IRGC), a powerful military force with close ties to the Supreme Leader, Ayatollah Ali Khamenei. \""
      ]
     },
     "execution_count": 179,
     "metadata": {},
     "output_type": "execute_result"
    }
   ],
   "source": [
    "soup.article.find_all(text=re.compile(\"\\\\bIran\\\\b\"))[7]"
   ]
  },
  {
   "cell_type": "code",
   "execution_count": 181,
   "id": "medium-benjamin",
   "metadata": {},
   "outputs": [
    {
     "data": {
      "text/plain": [
       "'US prosecutors also announced last year that four Iranian intelligence officials had been charged with plotting to kidnap a New York-based journalist critical of Iran'"
      ]
     },
     "execution_count": 181,
     "metadata": {},
     "output_type": "execute_result"
    }
   ],
   "source": [
    "soup.article.find_all(text=re.compile(\"\\\\bIran\\\\b\"))[10]"
   ]
  },
  {
   "cell_type": "markdown",
   "id": "advisory-uruguay",
   "metadata": {},
   "source": [
    "#### TSF"
   ]
  },
  {
   "cell_type": "markdown",
   "id": "postal-yeast",
   "metadata": {},
   "source": [
    "A list of TSF RSS feeds can be found here: https://www.tsf.pt/apps-rss.html ."
   ]
  },
  {
   "cell_type": "code",
   "execution_count": 2,
   "id": "similar-tobacco",
   "metadata": {},
   "outputs": [],
   "source": [
    "d = feedparser.parse(\"http://feeds.tsf.pt/TSF-Mundo\")"
   ]
  },
  {
   "cell_type": "markdown",
   "id": "presidential-patient",
   "metadata": {},
   "source": [
    "These are the main channel elements:"
   ]
  },
  {
   "cell_type": "code",
   "execution_count": 3,
   "id": "advanced-playing",
   "metadata": {},
   "outputs": [
    {
     "data": {
      "text/plain": [
       "'TSF - Desporto - RSS'"
      ]
     },
     "execution_count": 3,
     "metadata": {},
     "output_type": "execute_result"
    }
   ],
   "source": [
    "d[\"feed\"][\"title\"] # este título está errado..."
   ]
  },
  {
   "cell_type": "code",
   "execution_count": 4,
   "id": "inappropriate-insight",
   "metadata": {},
   "outputs": [
    {
     "data": {
      "text/plain": [
       "'Wed, 09 Nov 2022 17:53:53 Z'"
      ]
     },
     "execution_count": 4,
     "metadata": {},
     "output_type": "execute_result"
    }
   ],
   "source": [
    "d[\"feed\"][\"updated\"]"
   ]
  },
  {
   "cell_type": "markdown",
   "id": "narrative-shaft",
   "metadata": {},
   "source": [
    "As for some of the common item elements:"
   ]
  },
  {
   "cell_type": "code",
   "execution_count": 15,
   "id": "breeding-findings",
   "metadata": {},
   "outputs": [
    {
     "data": {
      "text/plain": [
       "20"
      ]
     },
     "execution_count": 15,
     "metadata": {},
     "output_type": "execute_result"
    }
   ],
   "source": [
    "len(d[\"entries\"])"
   ]
  },
  {
   "cell_type": "code",
   "execution_count": 16,
   "id": "incorporate-result",
   "metadata": {},
   "outputs": [
    {
     "data": {
      "text/plain": [
       "'https://www.tsf.pt/mundo/vladimir-putin-nao-vai-a-cimeira-do-g20-15334579.html'"
      ]
     },
     "execution_count": 16,
     "metadata": {},
     "output_type": "execute_result"
    }
   ],
   "source": [
    "d[\"entries\"][0][\"link\"]"
   ]
  },
  {
   "cell_type": "code",
   "execution_count": 17,
   "id": "infinite-blond",
   "metadata": {},
   "outputs": [
    {
     "data": {
      "text/plain": [
       "'Vladimir Putin não vai à cimeira do G20'"
      ]
     },
     "execution_count": 17,
     "metadata": {},
     "output_type": "execute_result"
    }
   ],
   "source": [
    "d[\"entries\"][0][\"title\"]"
   ]
  },
  {
   "cell_type": "code",
   "execution_count": 18,
   "id": "balanced-consumer",
   "metadata": {},
   "outputs": [
    {
     "data": {
      "text/plain": [
       "'Putin foi convidado pessoalmente pelo Presidente da Indonésia, Joko Widodo, durante uma viagem à Rússia em junho passado.'"
      ]
     },
     "execution_count": 18,
     "metadata": {},
     "output_type": "execute_result"
    }
   ],
   "source": [
    "d[\"entries\"][0][\"description\"]"
   ]
  },
  {
   "cell_type": "code",
   "execution_count": 19,
   "id": "given-moisture",
   "metadata": {},
   "outputs": [
    {
     "data": {
      "text/plain": [
       "'Wed, 09 Nov 2022 17:05:00 Z'"
      ]
     },
     "execution_count": 19,
     "metadata": {},
     "output_type": "execute_result"
    }
   ],
   "source": [
    "d[\"entries\"][0][\"published\"]"
   ]
  },
  {
   "cell_type": "code",
   "execution_count": 20,
   "id": "adapted-anniversary",
   "metadata": {},
   "outputs": [
    {
     "data": {
      "text/plain": [
       "'2022-11-09T17:05:00Z'"
      ]
     },
     "execution_count": 20,
     "metadata": {},
     "output_type": "execute_result"
    }
   ],
   "source": [
    "# most recent\n",
    "\n",
    "sorted(d[\"entries\"], key=lambda item: item['published_parsed'], reverse=True)[0][\"updated\"]"
   ]
  },
  {
   "cell_type": "code",
   "execution_count": 21,
   "id": "alone-program",
   "metadata": {},
   "outputs": [
    {
     "data": {
      "text/plain": [
       "'2022-11-09T07:11:00Z'"
      ]
     },
     "execution_count": 21,
     "metadata": {},
     "output_type": "execute_result"
    }
   ],
   "source": [
    "# oldest\n",
    "\n",
    "sorted(d[\"entries\"], key=lambda item: item['published_parsed'], reverse=True)[19][\"updated\"]"
   ]
  },
  {
   "cell_type": "markdown",
   "id": "celtic-cutting",
   "metadata": {},
   "source": [
    "We can now get the text content of the first item."
   ]
  },
  {
   "cell_type": "code",
   "execution_count": 22,
   "id": "referenced-transition",
   "metadata": {},
   "outputs": [],
   "source": [
    "url = d[\"entries\"][0][\"link\"]\n",
    "\n",
    "r = requests.get(url)\n",
    "html = r.text"
   ]
  },
  {
   "cell_type": "code",
   "execution_count": 23,
   "id": "streaming-investigator",
   "metadata": {},
   "outputs": [],
   "source": [
    "soup = BeautifulSoup(html, 'html.parser')"
   ]
  },
  {
   "cell_type": "code",
   "execution_count": 24,
   "id": "guilty-illness",
   "metadata": {},
   "outputs": [
    {
     "data": {
      "text/plain": [
       "'Vladimir Putin não vai à cimeira do G20'"
      ]
     },
     "execution_count": 24,
     "metadata": {},
     "output_type": "execute_result"
    }
   ],
   "source": [
    "# title\n",
    "\n",
    "soup.title.text"
   ]
  },
  {
   "cell_type": "code",
   "execution_count": 25,
   "id": "emerging-fight",
   "metadata": {},
   "outputs": [
    {
     "name": "stdout",
     "output_type": "stream",
     "text": [
      "Putin foi convidado pessoalmente pelo Presidente da Indonésia, Joko Widodo, durante uma viagem à Rússia em junho passado. O Presidente russo, Vladimir Putin © Aleksandr Rjumin/EPA O Presidente russo, Vladimir Putin, já decidiu que não vai estar na cimeira do G20 que vai realizar-se este mês na Indonésia. O Presidente do país, Joko Widodo, tinha colocado reticências à presença do Presidente russo e Zelensky também afirmou que não iria á cimeira se Putin lá estivesse, mesmo participando à distância, por videoconferência. Rússia garante que intercalares não alteram relação com os EUA, seja qual for o resultado Sean Penn regressa à Ucrânia e empresta Óscar a Zelensky \"A maioria deve-se a rotinas de estabilização.\" Quatro milhões de ucranianos sem energia após apagões Putin foi convidado pessoalmente pelo Presidente da Indonésia, Joko Widodo, durante uma viagem à Rússia em junho passado, quando o chefe de Estado indonésio também viajou para a Ucrânia numa tentativa mal sucedida de mediar o conflito armado. Na segunda-feira, o Kremlin anunciou que Putin não participará na cimeira dos líderes do fórum de Cooperação Económica Ásia-Pacífico (APEC), agendada para 18 e 19 de novembro, e o porta-voz da Presidência russa, Dmitri Peskov, disse que durante esta semana seria anunciado se o líder russo iria participar no G20. O G20 é composto por Argentina, Austrália, Brasil, Canadá, China, França, Alemanha, Índia, Indonésia, Itália, Japão, México, Rússia, Arábia Saudita, África do Sul, Turquia, África do Sul, Reino Unido, Estados Unidos e a União Europeia. Subscreva a nossa newsletter e tenha as notícias no seu e-mail todos os dias ACOMPANHE AQUI TUDO SOBRE A GUERRA NA UCRÂNIA\n"
     ]
    }
   ],
   "source": [
    "paragraphs = []\n",
    "\n",
    "for x in soup.find_all(\"p\"):\n",
    "    paragraphs.append(x.text.strip())\n",
    "\n",
    "print(\" \".join(paragraphs))"
   ]
  },
  {
   "cell_type": "markdown",
   "id": "elder-schema",
   "metadata": {},
   "source": [
    "We have access to the content, but we should find a way to remove the last two paragraphs."
   ]
  },
  {
   "cell_type": "markdown",
   "id": "precious-generator",
   "metadata": {},
   "source": [
    "We can now create some function to generalize this approach."
   ]
  },
  {
   "cell_type": "code",
   "execution_count": 30,
   "id": "burning-highland",
   "metadata": {},
   "outputs": [],
   "source": [
    "# get channel info - title and last update\n",
    "\n",
    "def channel_info(rss_feed):\n",
    "    \n",
    "    d = feedparser.parse(rss_feed)\n",
    "    \n",
    "    title = d[\"feed\"][\"title\"]\n",
    "    update = d[\"feed\"][\"updated\"]\n",
    "    \n",
    "    print(f\"The {title} feed was last updated on {update}.\")"
   ]
  },
  {
   "cell_type": "code",
   "execution_count": 31,
   "id": "characteristic-roads",
   "metadata": {},
   "outputs": [
    {
     "name": "stdout",
     "output_type": "stream",
     "text": [
      "The TSF - Desporto - RSS feed was last updated on Wed, 09 Nov 2022 17:53:53 Z.\n"
     ]
    }
   ],
   "source": [
    "channel_info(\"http://feeds.tsf.pt/TSF-Mundo\")"
   ]
  },
  {
   "cell_type": "code",
   "execution_count": 32,
   "id": "paperback-litigation",
   "metadata": {},
   "outputs": [],
   "source": [
    "# get item info - link, title, description and publication date\n",
    "\n",
    "def item_info(rss_feed, item_number):\n",
    "    \n",
    "    d = feedparser.parse(rss_feed)\n",
    "    \n",
    "    link = d[\"entries\"][item_number][\"link\"]\n",
    "    title = d[\"entries\"][item_number][\"title\"]\n",
    "    description = d[\"entries\"][item_number][\"description\"]\n",
    "    date = d[\"entries\"][item_number][\"published\"]\n",
    "    \n",
    "    print(f\"Link: {link} \\n\\nTitle: {title} \\n\\nDescription: {description} \\n\\nPublication Date: {date}.\")"
   ]
  },
  {
   "cell_type": "code",
   "execution_count": 33,
   "id": "impressed-resolution",
   "metadata": {},
   "outputs": [
    {
     "name": "stdout",
     "output_type": "stream",
     "text": [
      "Link: https://www.tsf.pt/mundo/vladimir-putin-nao-vai-a-cimeira-do-g20-15334579.html \n",
      "\n",
      "Title: Vladimir Putin não vai à cimeira do G20 \n",
      "\n",
      "Description: Putin foi convidado pessoalmente pelo Presidente da Indonésia, Joko Widodo, durante uma viagem à Rússia em junho passado. \n",
      "\n",
      "Publication Date: Wed, 09 Nov 2022 17:05:00 Z.\n"
     ]
    }
   ],
   "source": [
    "item_info(\"http://feeds.tsf.pt/TSF-Mundo\", 0)"
   ]
  },
  {
   "cell_type": "code",
   "execution_count": 34,
   "id": "executed-track",
   "metadata": {},
   "outputs": [
    {
     "name": "stdout",
     "output_type": "stream",
     "text": [
      "Link: https://www.tsf.pt/mundo/lula-da-silva-vem-mesmo-a-portugal-ainda-este-mes-15334464.html \n",
      "\n",
      "Title: Lula da Silva vem mesmo a Portugal ainda este mês \n",
      "\n",
      "Description: Chega ao país no dia 18, confirmou a TSF, depois de participar na conferência das Nações Unidas sobre Alterações Climáticas. Pode encontrar-se com Marcelo e Costa. \n",
      "\n",
      "Publication Date: Wed, 09 Nov 2022 16:45:00 Z.\n"
     ]
    }
   ],
   "source": [
    "item_info(\"http://feeds.tsf.pt/TSF-Mundo\", 1)"
   ]
  },
  {
   "cell_type": "code",
   "execution_count": 35,
   "id": "improving-trail",
   "metadata": {},
   "outputs": [],
   "source": [
    "# get full text\n",
    "\n",
    "def get_text(rss_feed, item_number):\n",
    "    \n",
    "    d = feedparser.parse(rss_feed)\n",
    "    \n",
    "    url = d[\"entries\"][item_number][\"link\"]\n",
    "\n",
    "    r = requests.get(url)\n",
    "    html = r.text\n",
    "    \n",
    "    soup = BeautifulSoup(html, 'html.parser')\n",
    "    \n",
    "    title = soup.title.text\n",
    "    \n",
    "    paragraphs = []\n",
    "    for x in soup.find_all(\"p\"):\n",
    "        paragraphs.append(x.text.strip())\n",
    "\n",
    "    text = \" \".join(paragraphs)\n",
    "    \n",
    "    print(f\"Link: {url} \\n\\nTitle: {title} \\n\\nText: {text}\")"
   ]
  },
  {
   "cell_type": "code",
   "execution_count": 36,
   "id": "quarterly-warner",
   "metadata": {},
   "outputs": [
    {
     "name": "stdout",
     "output_type": "stream",
     "text": [
      "Link: https://www.tsf.pt/mundo/vladimir-putin-nao-vai-a-cimeira-do-g20-15334579.html \n",
      "\n",
      "Title: Vladimir Putin não vai à cimeira do G20 \n",
      "\n",
      "Text: Putin foi convidado pessoalmente pelo Presidente da Indonésia, Joko Widodo, durante uma viagem à Rússia em junho passado. O Presidente russo, Vladimir Putin © Aleksandr Rjumin/EPA O Presidente russo, Vladimir Putin, já decidiu que não vai estar na cimeira do G20 que vai realizar-se este mês na Indonésia. O Presidente do país, Joko Widodo, tinha colocado reticências à presença do Presidente russo e Zelensky também afirmou que não iria á cimeira se Putin lá estivesse, mesmo participando à distância, por videoconferência. Rússia garante que intercalares não alteram relação com os EUA, seja qual for o resultado Sean Penn regressa à Ucrânia e empresta Óscar a Zelensky \"A maioria deve-se a rotinas de estabilização.\" Quatro milhões de ucranianos sem energia após apagões Putin foi convidado pessoalmente pelo Presidente da Indonésia, Joko Widodo, durante uma viagem à Rússia em junho passado, quando o chefe de Estado indonésio também viajou para a Ucrânia numa tentativa mal sucedida de mediar o conflito armado. Na segunda-feira, o Kremlin anunciou que Putin não participará na cimeira dos líderes do fórum de Cooperação Económica Ásia-Pacífico (APEC), agendada para 18 e 19 de novembro, e o porta-voz da Presidência russa, Dmitri Peskov, disse que durante esta semana seria anunciado se o líder russo iria participar no G20. O G20 é composto por Argentina, Austrália, Brasil, Canadá, China, França, Alemanha, Índia, Indonésia, Itália, Japão, México, Rússia, Arábia Saudita, África do Sul, Turquia, África do Sul, Reino Unido, Estados Unidos e a União Europeia. Subscreva a nossa newsletter e tenha as notícias no seu e-mail todos os dias ACOMPANHE AQUI TUDO SOBRE A GUERRA NA UCRÂNIA\n"
     ]
    }
   ],
   "source": [
    "get_text(\"http://feeds.tsf.pt/TSF-Mundo\", 0)"
   ]
  },
  {
   "cell_type": "code",
   "execution_count": 37,
   "id": "wound-imperial",
   "metadata": {},
   "outputs": [
    {
     "name": "stdout",
     "output_type": "stream",
     "text": [
      "Link: https://www.tsf.pt/mundo/lula-da-silva-vem-mesmo-a-portugal-ainda-este-mes-15334464.html \n",
      "\n",
      "Title: Lula da Silva vem mesmo a Portugal ainda este mês \n",
      "\n",
      "Text: Chega ao país no dia 18, confirmou a TSF, depois de participar na conferência das Nações Unidas sobre Alterações Climáticas. Pode encontrar-se com Marcelo e Costa. Lula da Silva © Nelson Almeida/AFP (arquivo) O recém-eleito Presidente do Brasil, Lula da Silva, vai mesmo passar por Portugal ainda em novembro, confirmou à TSF a equipa do líder brasileiro. Lula da Silva em Portugal? São Bento admite possibilidade de encontro Escondidas na lama há 2300 anos. Itália revela descoberta de 24 estátuas de bronze \"Todos temos muitas saudades do Brasil.\" Costa espera reaproximação com eleição de Lula O Presidente eleito aterra no dia 18, depois da participação na 27.ª Conferência das Nações Unidas sobre Alterações Climáticas (COP27). Esta terça-feira, São Bento já tinha confirmado à TSF uma possibilidade de encontro entre Lula da Silva e o primeiro-ministro, António Costa. Já a Presidência da República, que também foi contactada, disse não ter qualquer indicação de que uma visita estivesse para acontecer. Lula da Silva vai estar na COP27 a 16 e 17 de novembro e será em Portugal que dá o pontapé de partida do périplo internacional que anunciou para que o país sul-americano deixasse de ser \"um pária\" na comunidade internacional, depois dos anos de governação de Bolsonaro. Subscreva a nossa newsletter e tenha as notícias no seu e-mail todos os dias\n"
     ]
    }
   ],
   "source": [
    "get_text(\"http://feeds.tsf.pt/TSF-Mundo\", 1)"
   ]
  },
  {
   "cell_type": "markdown",
   "id": "dominant-figure",
   "metadata": {},
   "source": [
    "In this case, we should only remove the last paragraph."
   ]
  },
  {
   "cell_type": "code",
   "execution_count": 42,
   "id": "assumed-jungle",
   "metadata": {},
   "outputs": [
    {
     "name": "stdout",
     "output_type": "stream",
     "text": [
      "Link: https://www.tsf.pt/mundo/morreu-a-cantora-brasileira-gal-costa-15333936.html \n",
      "\n",
      "Title: Morreu a cantora brasileira Gal Costa \n",
      "\n",
      "Text: Artista é um dos ícones da música popular brasileira. A cantora brasileira Gal Costa morreu, esta quarta-feira, aos 77 anos, avança o jornal Folha de São Paulo, citando o assessor da artista. As causas da morte ainda são desconhecidas. \"Já com saudade\", Marcelo evoca Gal Costa e \"meio século de canções\" A artista, ícone da música popular brasileira, fazia parte do cartaz do festival Primavera Sound, que aconteceu em São Paulo, no Brasil, no fim de semana passado. No entanto, o concerto foi cancelado poucas horas antes porque, segundo a sua equipa, ainda não estava totalmente recuperada da retirada de um nódulo da fossa nasal direita e teria de ficar fora dos palcos até ao final de novembro, por recomendação médica. Na agenda, a cantora brasileira tinha também dois concertos em Portugal, marcados para novembro em Lisboa e Porto, que haviam sido adiados para o próximo ano devido à cirurgia que realizou. O jornalista Rui Tukayana recorda a vida de Gal Costa. Maria da Graça Costa Penna Burgos nasceu em Salvador, na Bahia. A mãe, com o mesmo nome, Mariah Costa Penna, contava que, com Gal ainda na barriga, passava horas a ouvir música clássica, como se de um ritual se tratasse, para que a filha viesse a ser, de alguma forma, uma pessoa musical. E parece ter resultado. Subscreva a nossa newsletter e tenha as notícias no seu e-mail todos os dias Aos 14 anos, a brasileira ouvia pela primeira vez na rádio João Gilberto a cantar Tom Jobin e Vinícius de Morais. O artista viria a ser uma das principais influências na sua carreira que, mesmo antes dos palcos, já tinha música. Ainda jovem trabalhou ao balcão da Roni Discos, a principal loja de discos de Salvador, na altura. Em 1963 foi apresentada a Caetano Veloso por uma amiga, Dedé Gadelha, com quem construiu depois uma grande amizade e profunda admiração que durou o resto da vida. Além de Caetano, na adolescência tornou-se amiga de outros ícones da música brasileira como Maria Bethânia e Gilberto Gil, com quemm viria a fazer parte do grupo Doces Bárbaros.  A partir daí, Gal Costa entrou no mundo da música e foi sempre a subir, rumo ao estrelato. Com canções como \"Modinha para Gabriela\", genérico da novela da novela da Globo, \"Água Viva\", \"Folhetim\", de Chico Buarque, e \"Paula e Bebeto\", de Milton Nascimento e Caetano. No final dos anos 1970, a cantora brasileira começou a ser presença obrigatória nas grandes rádios com vários destes êxitos. António Zambujo gravou um dueto com Gal Costa no álbum que assinalou os 75 anos da cantora e recebe com tristeza a notícia da morte da brasileira. \"Tenho tido a sorte de conhecer alguns dos meus grandes ídolos da música popular brasileira e no caso da Gal Costa até foi surpreendente porque não estava nada à espera que ela me fizesse aquele convite para participar neste disco. Agora ainda estou assim meio chocado com a notícia porque não fazia ideia. Perde-se uma das maiories cantoras da história da música brasileira e uma grande referência para mim. Foi um privilégio ter cantado com ela neste disco e ter participado ao lado de tantos cantores fantásticos que admiro também\", confessou à TSF António Zambujo. O artista português lamenta nunca ter tocado com Gal Costa. \"Já a tinha conhecido há mais tempo, numa das vezes que fui tocar ao Brasil. Depois estive com ela aqui em Lisboa, num concerto em que se apresentou a solo com um guitarrista, no Centro Cultural de Belém. Dessa vez estivemos juntos também, mas a gravação foi feita à distância e depois houve uma hipótese de fazer uma apresentação ao vivo, mas acabou por não se concretizar, infelizmente\", recordou o artista. E recorda as primeiras memórias da artista brasileira, quando ainda era miúdo. \"Ela vem naquele grupo dos baianos, aquele grupo incrível com ela, o Caetano, o Gilberto Gil e a Maria Bethânia. É aquela voz, aquela presença incrível. O público em geral provavelmente tem muito presente aquele dueto que ela fez com o Tim Maia. Lembro-me de quando era miúdo, quando havia aquele top de discos, que essa música esteve em primeiro lugar do top de vendas durante muito tempo aqui em Portugal e provavelmente foi nessa altura que ela ficou mais conhecida do público em geral, mas é uma grande referência e das principais cantoras da história da música do Brasil. Aliás, acima dela só colocaria a Elis Regina ou talvez ao mesmo nível. Era uma cantora incrível, admiro-a muito\", afirmou. Ouça as declarações de António Zambujo à TSF Já Pedro Abrunhosa, que chegou a tocar com Gal Costa em privado, ficou em choque com a notícia e defende que a maneira como ela cantava fazia da artista uma autora. \"A Gal, à imagem dos autores brasileiros da MPB, da grande explosão dos anos 60 e 70, teve em todos os autores portugueses uma influência que é transversal tal como Chico Buarque, e Vinicius. A Gal, o Caetano e a Bethânia também, nesta vertente, ao interpretarem de uma maneira tão própria e única tornam-se verdadeiramente autores. Nenhum de nós, escritor de canções em Portugal, pode dizer que passou ao lado da obra da Gal. Era uma colossal reinventora das canções, das suas e dos outros\", acrescentou Pedro Abrunhosa. Ouça as declarações de Pedro Abrunhosa à TSF \n"
     ]
    }
   ],
   "source": [
    "get_text(\"http://feeds.tsf.pt/TSF-Mundo\", 3)"
   ]
  },
  {
   "cell_type": "markdown",
   "id": "entitled-gamma",
   "metadata": {},
   "source": [
    "Once again, we shoul only remove the last paragraph."
   ]
  },
  {
   "cell_type": "code",
   "execution_count": 43,
   "id": "amazing-python",
   "metadata": {},
   "outputs": [
    {
     "name": "stdout",
     "output_type": "stream",
     "text": [
      "Link: https://www.tsf.pt/mundo/desequilibrios-macroeconomicos-bruxelas-quer-governos-a-definir-proprias-estrategias-de-ajustamento-15333736.html \n",
      "\n",
      "Title: Desequilíbrios macroeconómicos. Bruxelas quer governos a definir próprias estratégias de ajustamento \n",
      "\n",
      "Text: Novas regras do Pacto de Estabilidade e Crescimento deverão flexibilizar prazos de redução dos rácios da dívida. Paolo Gentiloni © Olivier Hoslet/EPA A Comissão Europeia apresentou esta quarta-feira uma comunicação com um plano para a revisão das regras da governação económica na união europeia. Bruxelas defende novas regras para o pacto de estabilidade e crescimento. Entre as medidas que poderão vir a ser desenvolvidas, já em 2024, está a possibilidade de um Estado-Membro individualmente poder derrapar o défice, sem ser penalizado, desde que as circunstâncias \"absolutamente excecionais\" o justifiquem. A outra medida poderá passar por dar mais tempo para a redução dos rácios da dívida pública. \"O que importa, para a sustentabilidade da dívida e para os mercados, é que os Estados-Membros reduzam os rácios de dívida pública, - especialmente quando esta é elevada -, de uma forma realista, gradual e sustentada\", defendeu o Comissário com a pasta da Economia, Paolo Gentiloni, sublinhando que, Bruxelas \"deve afastar-se das exigências irrealistas impostas pela regra da redução de 1/20 de redução anual de dívida\". As futuras regras deverão ainda permitir ativar uma cláusula de exceção que suspenda individualmente a disciplina orçamental, em circunstâncias \"muito excecionais\". \"Claro que, ao abrigo do quadro revisto, seriam ainda necessárias cláusulas de escape sólidas para resolver situações realmente excecionais em que a política baseada em regras não pode ser realisticamente cumprida\", frisou o comissário. \"Além da cláusula geral de escape para utilização em casos de grave recessão económica, que já conhecemos muito bem, uma cláusula de escape específica do país permitiria desvios temporários da trajetória orçamental a médio prazo, em caso de circunstâncias excecionais reais, fora do controlo do governo em questão\", defendeu Gentiloni. Subscreva a nossa newsletter e tenha as notícias no seu e-mail todos os dias Ouça aqui as declarações de Paolo Gentiloni O plano de Bruxelas passa também por dar aos governos poder de decisão sobre as medidas de ajustamento económico e financeiro, quando forem detetados desequilíbrios macroeconómicos. Nesse caso, \"reforçaríamos o papel preventivo do Procedimento por Desequilíbrios Macroeconómico ao concentrarmo-nos mais em novos riscos, permitindo uma deteção precoce dos desequilíbrios emergentes\", destacou o comissário, acrescentando que \"ao avaliar a gravidade dos desequilíbrios, seria dada maior ênfase à evolução dos riscos identificados e à resposta política por parte dos estados membros em causa\". No documento, agora apresentado, a Comissão Europeia alerta para a urgência de \"um acordo entre os Estados-Membros\" e a nível institucional, para que as novas regras possam ser aplicadas em 2024. Bruxelas indica ainda um conjunto de reformas \"adaptadas aos desafios desta década\", procurando \"criar uma arquitetura mais transparente, mais simples e integrada para a supervisão\" dos orçamentos nacionais. Bruxelas afirma que o objetivo é \"assegurar a sustentabilidade da dívida e promover o crescimento sustentável\". No centro destas orientações estão os \"projetos de orçamentos-estruturais nacionais de médio prazo\" que incluam as reformas estruturais de cada país, \"num quadro comum da União Europeia\". Bruxelas defende uma \"maior apropriação nacional e melhor aplicação dos planos orçamentais-estruturais\", com vista a \"corrigir desequilíbrios macroeconómicos\". De acordo com o plano de Bruxelas, os projetos orçamentais \"integrariam os objetivos orçamentais, de reforma e de investimento, incluindo aqueles para tratar os desequilíbrios macroeconómicos quando necessário\". Esta abordagem seria feita através de um plano \"abrangente de médio prazo, criando um processo abrangente e simplificado\". \"Os Estados-Membros teriam maior margem de manobra para definir a trajetória de ajuste orçamental, fortalecendo a apropriação nacional de suas trajetórias orçamentais. Um único indicador operacional - despesa primária líquida, ou seja, a despesa que está sob o controle de um governo - serviria de base para definir a trajetória de ajustamento orçamental e realizar a supervisão orçamental anual, simplificando significativamente o quadro. No caso dos países que estiveram um programa de resgate, como foi o caso de Portugal, Bruxelas defende a criação de \"um quadro de supervisão pós-programa mais focado e simplificado, que avalie a capacidade de reembolso dos Estados-Membros que beneficiaram (...) de assistência financeira\". A Comissão considera \"necessária uma forte coordenação das políticas orçamentais e estruturais e supervisão económica e orçamental eficaz\". As medidas devem proporcionar \"finanças públicas sólidas que possam responder de forma coordenada aos desafios\", assim como \"à realização das prioridades comuns da UE\", perante \"as crises atuais\".\n"
     ]
    }
   ],
   "source": [
    "get_text(\"http://feeds.tsf.pt/TSF-Mundo\", 4)"
   ]
  },
  {
   "cell_type": "markdown",
   "id": "obvious-metropolitan",
   "metadata": {},
   "source": [
    "In this case, there's no paragraph to remove."
   ]
  },
  {
   "cell_type": "markdown",
   "id": "powered-pennsylvania",
   "metadata": {},
   "source": [
    "#### Público"
   ]
  },
  {
   "cell_type": "code",
   "execution_count": 44,
   "id": "yellow-purpose",
   "metadata": {},
   "outputs": [
    {
     "name": "stdout",
     "output_type": "stream",
     "text": [
      "The PÚBLICO feed was last updated on Wed, 09 Nov 2022 18:15:23 GMT.\n"
     ]
    }
   ],
   "source": [
    "channel_info(\"https://feeds.feedburner.com/PublicoRSS\")"
   ]
  },
  {
   "cell_type": "code",
   "execution_count": 45,
   "id": "wicked-initial",
   "metadata": {},
   "outputs": [
    {
     "name": "stdout",
     "output_type": "stream",
     "text": [
      "Link: https://www.publico.pt/2022/11/09/sociedade/noticia/directores-querem-ouvidos-recrutamento-professores-2027101 \n",
      "\n",
      "Title: Directores querem ser ouvidos sobre o recrutamento de professores \n",
      "\n",
      "Description: Ministro quer directores com mais poder de contratação, mas ainda não os contactou. \n",
      "\n",
      "Publication Date: Wed, 09 Nov 2022 18:14:51 GMT.\n"
     ]
    }
   ],
   "source": [
    "item_info(\"https://feeds.feedburner.com/PublicoRSS\", 0)"
   ]
  },
  {
   "cell_type": "code",
   "execution_count": 46,
   "id": "recent-reputation",
   "metadata": {},
   "outputs": [
    {
     "name": "stdout",
     "output_type": "stream",
     "text": [
      "Link: https://www.publico.pt/2022/11/09/sociedade/noticia/directores-querem-ouvidos-recrutamento-professores-2027101 \n",
      "\n",
      "Title: Directores querem ser ouvidos sobre o recrutamento de professores | Educação | PÚBLICO \n",
      "\n",
      "Text: Ministro quer directores com mais poder de contratação, mas ainda não os contactou. Os directores são os protagonistas das propostas do ministro João Costa com vista à alteração do modelo de recrutamento de professores, mas até agora as duas associações de dirigentes escolares existentes não foram contactadas pelo Ministério da Educação: nem para as informar do teor das propostas, nem para as ouvir sobre as mudanças já avançadas aos sindicatos de professores.  Leia os artigos que quiser, até ao fim, sem publicidade Faça parte da comunidade mais bem informada do país Seja o primeiro a comentar. Escolha um dos seguintes tópicos para criar um grupo no Fórum Público. Ao criar um novo grupo de discussão, tornar-se-à administrador e será responsável pela moderação desse grupo. Os jornalistas do PÚBLICO poderão sempre intervir. Saiba mais sobre o Fórum Público. Ao activar esta opção, receberá um email sempre que forem feitas novas publicações neste grupo de discussão. Email marketing por @ 2022 PÚBLICO Comunicação Social SA Para permitir notificações, siga as instruções: Estes são os autores e tópicos que escolheu seguir. Pode activar ou desactivar as notificações. Receba notificações quando publicamos um texto deste autor ou sobre os temas deste artigo. Estes são os autores e tópicos que escolheu seguir. Pode activar ou desactivar as notificações. Para permitir notificações, siga as instruções:\n"
     ]
    }
   ],
   "source": [
    "get_text(\"https://feeds.feedburner.com/PublicoRSS\", 0)"
   ]
  },
  {
   "cell_type": "markdown",
   "id": "finnish-freedom",
   "metadata": {},
   "source": [
    "We've reached the limit of free daily articles and we have only access to a small part of the text.\n",
    "\n",
    "Besides that, we get text that we are not interested in regarding info about the paid subscription. Inspecting the source code of the page, we see that we can use the `class_=\"story__body\"` to get only the info we want."
   ]
  },
  {
   "cell_type": "code",
   "execution_count": 49,
   "id": "recognized-community",
   "metadata": {},
   "outputs": [
    {
     "name": "stdout",
     "output_type": "stream",
     "text": [
      "\n",
      "Os directores são os protagonistas das propostas do ministro João Costa com vista à alteração do modelo de recrutamento de professores, mas até agora as duas associações de dirigentes escolares existentes não foram contactadas pelo Ministério da Educação: nem para as informar do teor das propostas, nem para as ouvir sobre as mudanças já avançadas aos sindicatos de professores.\n",
      "\n"
     ]
    }
   ],
   "source": [
    "d = feedparser.parse(\"https://feeds.feedburner.com/PublicoRSS\")\n",
    "    \n",
    "url = d[\"entries\"][0][\"link\"]\n",
    "\n",
    "r = requests.get(url)\n",
    "html = r.text\n",
    "    \n",
    "soup = BeautifulSoup(html, 'html.parser')\n",
    "\n",
    "#soup.body.text\n",
    "\n",
    "for x in soup.article.find_all(class_=\"story__body\"):\n",
    "    print(x.text)"
   ]
  },
  {
   "cell_type": "markdown",
   "id": "structured-estimate",
   "metadata": {},
   "source": [
    "We can then change the get_text function to take this into consideration:"
   ]
  },
  {
   "cell_type": "code",
   "execution_count": 110,
   "id": "extensive-navigator",
   "metadata": {},
   "outputs": [],
   "source": [
    "# get full text with tag and class info\n",
    "\n",
    "def get_text(rss_feed, item_number, tag_name=None, class_name=None):\n",
    "    \n",
    "    d = feedparser.parse(rss_feed)\n",
    "    \n",
    "    url = d[\"entries\"][item_number][\"link\"]\n",
    "\n",
    "    r = requests.get(url)\n",
    "    html = r.text\n",
    "    \n",
    "    soup = BeautifulSoup(html, 'html.parser')\n",
    "    \n",
    "    title = soup.title.text\n",
    "    \n",
    "    if class_name == None:\n",
    "    \n",
    "        paragraphs = []\n",
    "        for x in soup.find_all(name=tag_name):\n",
    "            paragraphs.append(x.text.strip())\n",
    "            \n",
    "    else:\n",
    "        \n",
    "        paragraphs = []\n",
    "        for x in soup.find_all(name=tag_name, class_=class_name):\n",
    "            paragraphs.append(x.text.strip())\n",
    "\n",
    "    text = \" \".join(paragraphs)\n",
    "    \n",
    "    print(f\"Link: {url} \\n\\nTitle: {title} \\n\\nText: {text}\")"
   ]
  },
  {
   "cell_type": "code",
   "execution_count": 92,
   "id": "sorted-yacht",
   "metadata": {},
   "outputs": [
    {
     "name": "stdout",
     "output_type": "stream",
     "text": [
      "Link: https://www.publico.pt/2022/11/10/culturaipsilon/noticia/pichiavo-inauguram-exposicao-underdogs-inclui-obra-criada-vhils-2027165 \n",
      "\n",
      "Title: PichiAvo inauguram exposição na Underdogs que inclui obra criada com Vhils | Artes | PÚBLICO \n",
      "\n",
      "Text: Os leitores são a força e a vida dos jornais. Contamos com o seu apoio, assine. Os leitores são a força e a vida do PÚBLICO. Obrigado pelo seu apoio. Dupla de artistas espanhóis que cruza graffiti com arte clássica greco-romana está de regresso à galeria lisboeta com Used to Be. A dupla de artistas espanhóis PichiAvo, cujo trabalho resulta de uma mistura de graffiti com arte clássica, inaugura na sexta-feira em Lisboa a exposição Used to Be, que inclui uma peça criada em colaboração com o português Vhils. Nesta sua segunda mostra na galeria Underdogs, “a dupla constituída pelos artistas espanhóis Pichi e Avo volta a tecer uma reflexão assente no encontro entre as linguagens do graffiti contemporâneo e da arte clássica greco-romana”, através de um conjunto de obras “criadas especialmente para a exposição”, entre as quais “uma peça única criada em colaboração” com Alexandre Farto (Vhils). “Através de um corpo de trabalho inteiramente novo, a exposição sintetiza e materializa questões ligadas ao uso do espaço público, a efemeridade, o acaso e a integralidade da obra de arte sob a forma de uma encenação que coloca o passado em diálogo com o presente”, lê-se no texto de apresentação. A exposição, que ocupa o espaço principal da galeria, inclui três conjuntos de peças: “fragmentos de parede com pinturas, fragmentos de parede com desenhos (ambos sobre placas de reboco em gesso, uma técnica nova que abre um novo capítulo na obra dos artistas) e bustos fragmentados. As obras, bem como a forma como estão expostas, “procuram sugerir uma operação de transposição para a galeria de artefactos encontrados num contexto arqueológico – em que cada um exibe a inevitável corrupção ditada pela passagem do tempo”. “Um resgate simulado, com vista à sua preservação para o futuro”, refere a galeria. Pichi e Avo tornaram-se uma dupla em 2007, mas antes disso já se dedicavam individualmente ao graffiti. Avo estudou Design Industrial, e Pichi formou-se em Belas Artes. Em 2018, a dupla teve patente na galeria Underdogs a exposição Versus, que incluiu a pintura de um mural na parede lateral de um prédio de quatro andares na Calçada de Santa Apolónia, onde está representado Poseidon (o deus do mar, na mitologia grega). A exposição que agora inauguram também inclui a elaboração de uma intervenção artística no exterior, no âmbito do projecto de arte pública da Underdogs. Também na sexta-feira, mas no espaço cápsula da galeria, é inaugurada Renascimento Street, exposição do artista português Onun Trigueiros, do colectivo Unidigrazz. Nesta mostra, composta por uma série de novos trabalhos, encontra-se “uma proposta exploratória que o artista tem vindo a desenvolver em torno da azulejaria”. “Assente num acto de actualização e personalização de um suporte com longa presença e destaque na cultura portuguesa, este exercício, ao invés de retratar feitos e personagens históricos, confere-lhe uma nova vida com momentos do quotidiano que rodeia o artista – sobretudo na rua, na Linha de Sintra, periferia de Lisboa”, lê-se no texto de apresentação. Em Renascimento Street, as peças estão divididas em três grupos, “que representam as diferentes fases processuais no percurso criativo do artista, apresentados em diálogo uns com os outros: uma série de esboços e desenhos sobre papel, um painel de azulejos reais e um conjunto de painéis de ‘falsos’ azulejos em MDF”. As duas exposições, que têm entrada livre, estarão patentes até 30 de Dezembro. A inauguração, marcada para as 18h de sexta-feira, conta com a presença dos artistas. No sábado, às 16h, haverá uma visita guiada, a cargo da equipa curatorial da Underdogs, no âmbito do Lisbon Art Weekend. Seja o primeiro a comentar. Escolha um dos seguintes tópicos para criar um grupo no Fórum Público. Ao criar um novo grupo de discussão, tornar-se-à administrador e será responsável pela moderação desse grupo. Os jornalistas do PÚBLICO poderão sempre intervir. Saiba mais sobre o Fórum Público. Ao activar esta opção, receberá um email sempre que forem feitas novas publicações neste grupo de discussão. Para permitir notificações, siga as instruções: Estes são os autores e tópicos que escolheu seguir. Pode activar ou desactivar as notificações. Receba notificações quando publicamos um texto deste autor ou sobre os temas deste artigo. Estes são os autores e tópicos que escolheu seguir. Pode activar ou desactivar as notificações. Para permitir notificações, siga as instruções:\n"
     ]
    }
   ],
   "source": [
    "get_text(\"https://feeds.feedburner.com/PublicoRSS\", 0, tag_name=\"p\")"
   ]
  },
  {
   "cell_type": "markdown",
   "id": "excess-treasury",
   "metadata": {},
   "source": [
    "This is the same result we had before."
   ]
  },
  {
   "cell_type": "code",
   "execution_count": 111,
   "id": "intelligent-bridal",
   "metadata": {},
   "outputs": [
    {
     "name": "stdout",
     "output_type": "stream",
     "text": [
      "Link: https://www.publico.pt/2022/11/10/culturaipsilon/noticia/pichiavo-inauguram-exposicao-underdogs-inclui-obra-criada-vhils-2027165 \n",
      "\n",
      "Title: PichiAvo inauguram exposição na Underdogs que inclui obra criada com Vhils | Artes | PÚBLICO \n",
      "\n",
      "Text: A dupla de artistas espanhóis PichiAvo, cujo trabalho resulta de uma mistura de graffiti com arte clássica, inaugura na sexta-feira em Lisboa a exposição Used to Be, que inclui uma peça criada em colaboração com o português Vhils.Nesta sua segunda mostra na galeria Underdogs, “a dupla constituída pelos artistas espanhóis Pichi e Avo volta a tecer uma reflexão assente no encontro entre as linguagens do graffiti contemporâneo e da arte clássica greco-romana”, através de um conjunto de obras “criadas especialmente para a exposição”, entre as quais “uma peça única criada em colaboração” com Alexandre Farto (Vhils).“Através de um corpo de trabalho inteiramente novo, a exposição sintetiza e materializa questões ligadas ao uso do espaço público, a efemeridade, o acaso e a integralidade da obra de arte sob a forma de uma encenação que coloca o passado em diálogo com o presente”, lê-se no texto de apresentação.A exposição, que ocupa o espaço principal da galeria, inclui três conjuntos de peças: “fragmentos de parede com pinturas, fragmentos de parede com desenhos (ambos sobre placas de reboco em gesso, uma técnica nova que abre um novo capítulo na obra dos artistas) e bustos fragmentados. \n",
      "\n",
      "\n",
      "\n",
      "Foto\n",
      "\n",
      "\n",
      "\n",
      "\n",
      "Untitled (Mars and Cupid Diaspasis)\n",
      "DR \n",
      "\n",
      "As obras, bem como a forma como estão expostas, “procuram sugerir uma operação de transposição para a galeria de artefactos encontrados num contexto arqueológico – em que cada um exibe a inevitável corrupção ditada pela passagem do tempo”. “Um resgate simulado, com vista à sua preservação para o futuro”, refere a galeria.Pichi e Avo tornaram-se uma dupla em 2007, mas antes disso já se dedicavam individualmente ao graffiti. Avo estudou Design Industrial, e Pichi formou-se em Belas Artes.Em 2018, a dupla teve patente na galeria Underdogs a exposição Versus, que incluiu a pintura de um mural na parede lateral de um prédio de quatro andares na Calçada de Santa Apolónia, onde está representado Poseidon (o deus do mar, na mitologia grega).A exposição que agora inauguram também inclui a elaboração de uma intervenção artística no exterior, no âmbito do projecto de arte pública da Underdogs.Também na sexta-feira, mas no espaço cápsula da galeria, é inaugurada Renascimento Street, exposição do artista português Onun Trigueiros, do colectivo Unidigrazz.Nesta mostra, composta por uma série de novos trabalhos, encontra-se “uma proposta exploratória que o artista tem vindo a desenvolver em torno da azulejaria”.“Assente num acto de actualização e personalização de um suporte com longa presença e destaque na cultura portuguesa, este exercício, ao invés de retratar feitos e personagens históricos, confere-lhe uma nova vida com momentos do quotidiano que rodeia o artista – sobretudo na rua, na Linha de Sintra, periferia de Lisboa”, lê-se no texto de apresentação.Em Renascimento Street, as peças estão divididas em três grupos, “que representam as diferentes fases processuais no percurso criativo do artista, apresentados em diálogo uns com os outros: uma série de esboços e desenhos sobre papel, um painel de azulejos reais e um conjunto de painéis de ‘falsos’ azulejos em MDF”.As duas exposições, que têm entrada livre, estarão patentes até 30 de Dezembro.A inauguração, marcada para as 18h de sexta-feira, conta com a presença dos artistas. No sábado, às 16h, haverá uma visita guiada, a cargo da equipa curatorial da Underdogs, no âmbito do Lisbon Art Weekend.\n"
     ]
    }
   ],
   "source": [
    "get_text(\"https://feeds.feedburner.com/PublicoRSS\", 0, class_name=\"story__body\")"
   ]
  },
  {
   "cell_type": "markdown",
   "id": "downtown-midnight",
   "metadata": {},
   "source": [
    "Like this, we get the text we are interested in, but also info about a figure.\n",
    "\n",
    "We can use the tag `\"figure\"` to identify this info and remove it afterwards."
   ]
  },
  {
   "cell_type": "code",
   "execution_count": 112,
   "id": "loaded-newark",
   "metadata": {},
   "outputs": [
    {
     "name": "stdout",
     "output_type": "stream",
     "text": [
      "Link: https://www.publico.pt/2022/11/10/culturaipsilon/noticia/pichiavo-inauguram-exposicao-underdogs-inclui-obra-criada-vhils-2027165 \n",
      "\n",
      "Title: PichiAvo inauguram exposição na Underdogs que inclui obra criada com Vhils | Artes | PÚBLICO \n",
      "\n",
      "Text: Foto\n",
      "\n",
      "\n",
      "\n",
      "\n",
      "Colossal Head of a Youth Diaspasis\n",
      "DR Foto\n",
      "\n",
      "\n",
      "\n",
      "\n",
      "Untitled (Mars and Cupid Diaspasis)\n",
      "DR\n"
     ]
    }
   ],
   "source": [
    "get_text(\"https://feeds.feedburner.com/PublicoRSS\", 0, tag_name=\"figure\")"
   ]
  },
  {
   "cell_type": "markdown",
   "id": "neither-welsh",
   "metadata": {},
   "source": [
    "One additional problem we would have to solve is that some sentences have no blank space between them (see: https://stackoverflow.com/questions/44263446/python-regex-to-add-space-after-dot-or-comma)."
   ]
  },
  {
   "cell_type": "markdown",
   "id": "enormous-profession",
   "metadata": {},
   "source": [
    "#### O Jornal Económico"
   ]
  },
  {
   "cell_type": "code",
   "execution_count": 118,
   "id": "previous-october",
   "metadata": {},
   "outputs": [
    {
     "name": "stdout",
     "output_type": "stream",
     "text": [
      "Link: https://jornaleconomico.pt/noticias/salario-medio-cai-47-em-termos-reais-959055 \n",
      "\n",
      "Title: Salário médio cai 4,7% em termos reais – O Jornal Económico \n",
      "\n",
      "Text:  Os salários continuam a não conseguir acompanhar a inflação. De acordo com os dados divulgados esta quinta-feira pelo Instituto Nacional de Estatística, no terceiro trimestre, a remuneração média caiu 4,7% em termos reais. Em atualização     Apoio ao assinante: 217 655 300 assinaturas@jornaleconomico.pt \n"
     ]
    }
   ],
   "source": [
    "get_text(\"https://jornaleconomico.pt/feed\", 0, tag_name=\"p\")"
   ]
  },
  {
   "cell_type": "code",
   "execution_count": 122,
   "id": "satellite-rider",
   "metadata": {},
   "outputs": [
    {
     "name": "stdout",
     "output_type": "stream",
     "text": [
      "Link: https://jornaleconomico.pt/noticias/euribor-inverte-tendencia-das-ultimas-sessoes-e-cai-a-tres-seis-e-12-meses-959053 \n",
      "\n",
      "Title: Euribor inverte tendência das últimas sessões e cai a três, seis e 12 meses – O Jornal Económico \n",
      "\n",
      "Text:  A taxa Euribor a seis meses, a mais utilizada em Portugal nos créditos à habitação e que entrou em terreno positivo em 06 de junho, desceu hoje, para 2,319%, menos 0,014 pontos e depois de ter subido em seis sessões consecutivas e em 09 de novembro para 2,333%, um novo máximo desde janeiro de 2009. A média da Euribor a seis meses subiu de 1,596% em setembro para 1,997% em outubro. A Euribor a seis meses esteve negativa durante seis anos e sete meses (entre 06 de novembro de 2015 e 03 de junho de 2022). No mesmo sentido, no prazo de 12 meses, a Euribor baixou hoje, ao ser fixada em 2,886%, menos 0,012 pontos, contra 2,874% em 09 de novembro, um novo máximo desde janeiro de 2009, e também depois de seis sessões consecutivas a subir. Após ter disparado em 12 de abril para 0,005%, pela primeira vez positiva desde 05 de fevereiro de 2016, a Euribor a 12 meses está em terreno positivo desde 21 de abril. A média da Euribor a 12 meses avançou de 2,233% em setembro para 2,629% em outubro. A Euribor a três meses, que entrou em 14 de julho em terreno positivo pela primeira vez desde abril de 2015, também recuou hoje, ao ser fixada em 1,798%, menos 0,004 pontos, contra 1,802% em 09 de novembro, um novo máximo desde março de 2009, e 15 sessões consecutivas a subir. A taxa Euribor a três meses esteve negativa entre 21 de abril de 2015 e 13 de julho último (sete anos e dois meses). A média da Euribor a três meses subiu de 1,011% em setembro para 1,428% em outubro. As Euribor começaram a subir mais significativamente desde 04 de fevereiro, depois de o Banco Central Europeu (BCE) ter admitido que poderia aumentar as taxas de juro diretoras este ano devido ao aumento da inflação na zona euro e a tendência foi reforçada com o início da invasão da Ucrânia pela Rússia em 24 de fevereiro. Em 27 de outubro, com o objetivo de travar a inflação, o BCE subiu as três taxas de juro diretoras em 75 pontos base, o terceiro aumento consecutivo deste ano, depois de em 21 de julho ter subido em 50 pontos base as três taxas de juro diretoras, a primeira subida em 11 anos, e em 08 de setembro em 75 pontos base. A evolução das taxas de juro Euribor está intimamente ligada às subidas ou descidas das taxas de juro diretoras do BCE. As taxas Euribor a três, a seis e a 12 meses registaram mínimos de sempre, respetivamente, de -0,605% em 14 de dezembro de 2021, de -0,554% e de -0,518% em 20 de dezembro de 2021. As Euribor são fixadas pela média das taxas às quais um conjunto de 57 bancos da zona euro está disposto a emprestar dinheiro entre si no mercado interbancário.     Apoio ao assinante: 217 655 300 assinaturas@jornaleconomico.pt \n"
     ]
    }
   ],
   "source": [
    "get_text(\"https://jornaleconomico.pt/feed\", 1, tag_name=\"p\")"
   ]
  },
  {
   "cell_type": "markdown",
   "id": "possible-parking",
   "metadata": {},
   "source": [
    "In this case, we should always remove the last paragraph."
   ]
  },
  {
   "cell_type": "code",
   "execution_count": 160,
   "id": "cooperative-equation",
   "metadata": {},
   "outputs": [],
   "source": [
    "# get full text with tag and class info\n",
    "\n",
    "def get_text(rss_feed, item_number, tag_name=None, class_name=None):\n",
    "    \n",
    "    d = feedparser.parse(rss_feed)\n",
    "    \n",
    "    url = d[\"entries\"][item_number][\"link\"]\n",
    "\n",
    "    r = requests.get(url)\n",
    "    html = r.text\n",
    "    \n",
    "    soup = BeautifulSoup(html, 'html.parser')\n",
    "    \n",
    "    title = soup.title.text\n",
    "    \n",
    "    if class_name == None:\n",
    "    \n",
    "        paragraphs = []\n",
    "        for x in soup.find_all(name=tag_name):\n",
    "            paragraphs.append(x.text.strip())\n",
    "            \n",
    "        paragraphs = [element for element in paragraphs if element] # to remove empty strings\n",
    "            \n",
    "    else:\n",
    "        \n",
    "        paragraphs = []\n",
    "        for x in soup.find_all(name=tag_name, class_=class_name):\n",
    "            paragraphs.append(x.text.strip())\n",
    "            \n",
    "        paragraphs = [element for element in paragraphs if element] # to remove empty strings\n",
    "            \n",
    "    \"\"\"if paragraphs[-1].startswith(\"Apoio ao assinante:\"):       \n",
    "            \n",
    "        text = \" \".join(paragraphs[0:-1])\n",
    "        \n",
    "    else:\n",
    "    \n",
    "        text = \" \".join(paragraphs)\"\"\"\n",
    "    \n",
    "    text = \" \".join(paragraphs)\n",
    "    \n",
    "    print(f\"Link: {url} \\n\\nTitle: {title} \\n\\nText: {text}\")"
   ]
  },
  {
   "cell_type": "code",
   "execution_count": 161,
   "id": "spread-mechanism",
   "metadata": {},
   "outputs": [
    {
     "name": "stdout",
     "output_type": "stream",
     "text": [
      "Link: https://jornaleconomico.pt/noticias/custos-da-construcao-registaram-aumento-homologo-de-134-em-setembro-959054 \n",
      "\n",
      "Title: Custos da construção registaram aumento homólogo de 13,4% em setembro – O Jornal Económico \n",
      "\n",
      "Text: Os custos da construção em habitação nova registaram um crescimento homólogo de 13,4% em setembro, de acordo com os dados do Índice de Custos de Construção de Habitação Nova (ICCHN), divulgado pelo Instituto Nacional de Estatística (INE) esta quinta-feira, 10 de novembro. Em relação ao mês anterior verificou-se uma ligeira subida de 0,9 pontos percentuais (p.p.). Olhando para os preços dos materiais, no mês em análise verificou-se um aumento de 18,6%, crescendo 2,1 p.p. face ao mês anterior enquanto o custo da mão de obra aumentou 6,1% (6,8% em agosto). Por sua vez, o custo dos materiais contribuíram com 10,8 p.p. para a formação da taxa de variação homóloga do ICCHN, face aos 9,7 p.p. de agosto. Já a componente mão de obra registou uma descida de com 2,76 p.p. (2,8 p.p. no mês anterior). Entre os materiais que mais contribuíram para esta variação, destacam-se os produtos cerâmicos com um aumento homólogo dos preços de cerca de 80%. Já gasóleo, o cimento, os aglomerados e ladrilhos de cortiça, as madeiras e derivados de madeira e as obras de carpintaria, os tubos de PVC e o consumo de produtos energéticos apresentaram crescimentos homólogos superiores a 20%. Em termos da variação mensal os custos dos materiais aumentaram 1,6%, tendo o custo da mão de obra descido 0,3%. As componentes da mão de obra e materiais contribuíram contribuíram com 1,0 p.p. e -0,1 p.p., respetivamente, para a formação da taxa de variação mensal do ICCHN (-0,1 p.p. e -0,4 p.p. em agosto, pela mesma ordem). Apoio ao assinante: 217 655 300 assinaturas@jornaleconomico.pt\n"
     ]
    }
   ],
   "source": [
    "get_text(\"https://jornaleconomico.pt/feed\", 0, tag_name=\"p\")"
   ]
  },
  {
   "cell_type": "code",
   "execution_count": 162,
   "id": "adverse-prerequisite",
   "metadata": {},
   "outputs": [],
   "source": [
    "# get full text with tag and class info and remove last paragraph given a certain condition\n",
    "\n",
    "def get_text(rss_feed, item_number, tag_name=None, class_name=None):\n",
    "    \n",
    "    d = feedparser.parse(rss_feed)\n",
    "    \n",
    "    url = d[\"entries\"][item_number][\"link\"]\n",
    "\n",
    "    r = requests.get(url)\n",
    "    html = r.text\n",
    "    \n",
    "    soup = BeautifulSoup(html, 'html.parser')\n",
    "    \n",
    "    title = soup.title.text\n",
    "    \n",
    "    if class_name == None:\n",
    "    \n",
    "        paragraphs = []\n",
    "        for x in soup.find_all(name=tag_name):\n",
    "            paragraphs.append(x.text.strip())\n",
    "            \n",
    "        paragraphs = [element for element in paragraphs if element] # to remove empty strings\n",
    "            \n",
    "    else:\n",
    "        \n",
    "        paragraphs = []\n",
    "        for x in soup.find_all(name=tag_name, class_=class_name):\n",
    "            paragraphs.append(x.text.strip())\n",
    "            \n",
    "        paragraphs = [element for element in paragraphs if element] # to remove empty strings\n",
    "            \n",
    "    # to remove last paragraph from \"O Jornal Económico\"\n",
    "    if paragraphs[-1].startswith(\"Apoio ao assinante:\"):       \n",
    "            \n",
    "        text = \" \".join(paragraphs[0:-1])\n",
    "        \n",
    "    else:\n",
    "    \n",
    "        text = \" \".join(paragraphs)\n",
    "    \n",
    "    #text = \" \".join(paragraphs)\n",
    "    \n",
    "    print(f\"Link: {url} \\n\\nTitle: {title} \\n\\nText: {text}\")"
   ]
  },
  {
   "cell_type": "code",
   "execution_count": 163,
   "id": "existing-pillow",
   "metadata": {},
   "outputs": [
    {
     "name": "stdout",
     "output_type": "stream",
     "text": [
      "Link: https://jornaleconomico.pt/noticias/custos-da-construcao-registaram-aumento-homologo-de-134-em-setembro-959054 \n",
      "\n",
      "Title: Custos da construção registaram aumento homólogo de 13,4% em setembro – O Jornal Económico \n",
      "\n",
      "Text: Os custos da construção em habitação nova registaram um crescimento homólogo de 13,4% em setembro, de acordo com os dados do Índice de Custos de Construção de Habitação Nova (ICCHN), divulgado pelo Instituto Nacional de Estatística (INE) esta quinta-feira, 10 de novembro. Em relação ao mês anterior verificou-se uma ligeira subida de 0,9 pontos percentuais (p.p.). Olhando para os preços dos materiais, no mês em análise verificou-se um aumento de 18,6%, crescendo 2,1 p.p. face ao mês anterior enquanto o custo da mão de obra aumentou 6,1% (6,8% em agosto). Por sua vez, o custo dos materiais contribuíram com 10,8 p.p. para a formação da taxa de variação homóloga do ICCHN, face aos 9,7 p.p. de agosto. Já a componente mão de obra registou uma descida de com 2,76 p.p. (2,8 p.p. no mês anterior). Entre os materiais que mais contribuíram para esta variação, destacam-se os produtos cerâmicos com um aumento homólogo dos preços de cerca de 80%. Já gasóleo, o cimento, os aglomerados e ladrilhos de cortiça, as madeiras e derivados de madeira e as obras de carpintaria, os tubos de PVC e o consumo de produtos energéticos apresentaram crescimentos homólogos superiores a 20%. Em termos da variação mensal os custos dos materiais aumentaram 1,6%, tendo o custo da mão de obra descido 0,3%. As componentes da mão de obra e materiais contribuíram contribuíram com 1,0 p.p. e -0,1 p.p., respetivamente, para a formação da taxa de variação mensal do ICCHN (-0,1 p.p. e -0,4 p.p. em agosto, pela mesma ordem).\n"
     ]
    }
   ],
   "source": [
    "get_text(\"https://jornaleconomico.pt/feed\", 0, tag_name=\"p\")"
   ]
  }
 ],
 "metadata": {
  "kernelspec": {
   "display_name": "Python 3",
   "language": "python",
   "name": "python3"
  },
  "language_info": {
   "codemirror_mode": {
    "name": "ipython",
    "version": 3
   },
   "file_extension": ".py",
   "mimetype": "text/x-python",
   "name": "python",
   "nbconvert_exporter": "python",
   "pygments_lexer": "ipython3",
   "version": "3.8.8"
  }
 },
 "nbformat": 4,
 "nbformat_minor": 5
}
